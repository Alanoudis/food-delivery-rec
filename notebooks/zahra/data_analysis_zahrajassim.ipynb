{
  "cells": [
    {
      "cell_type": "markdown",
      "id": "f6c890e7-d325-4333-a0fc-0baca712db0a",
      "metadata": {
        "execution": {
          "iopub.execute_input": "2025-10-21T11:28:45.103526Z",
          "iopub.status.busy": "2025-10-21T11:28:45.071556Z",
          "iopub.status.idle": "2025-10-21T11:28:45.285936Z",
          "shell.execute_reply": "2025-10-21T11:28:45.278811Z",
          "shell.execute_reply.started": "2025-10-21T11:28:45.101301Z"
        },
        "id": "f6c890e7-d325-4333-a0fc-0baca712db0a"
      },
      "source": [
        "## Food Recommender System"
      ]
    },
    {
      "cell_type": "code",
      "execution_count": 1,
      "id": "32e6a0c3-df7b-4720-83ec-eb0de2f726c5",
      "metadata": {
        "colab": {
          "base_uri": "https://localhost:8080/"
        },
        "execution": {
          "iopub.execute_input": "2025-10-25T20:20:12.292375Z",
          "iopub.status.busy": "2025-10-25T20:20:12.291701Z",
          "iopub.status.idle": "2025-10-25T20:20:12.478004Z",
          "shell.execute_reply": "2025-10-25T20:20:12.475800Z",
          "shell.execute_reply.started": "2025-10-25T20:20:12.292303Z"
        },
        "id": "32e6a0c3-df7b-4720-83ec-eb0de2f726c5",
        "outputId": "bd1eb644-f5ea-4b09-df57-4706baa31920"
      },
      "outputs": [
        {
          "name": "stdout",
          "output_type": "stream",
          "text": [
            "/home/rema/code/Alanoudis/food-delivery-rec/notebooks/rema\n"
          ]
        }
      ],
      "source": [
        "!pwd"
      ]
    },
    {
      "cell_type": "code",
      "execution_count": 2,
      "id": "3e522cc6-4ee2-482c-87bc-7352cc5fc22f",
      "metadata": {
        "execution": {
          "iopub.execute_input": "2025-10-25T20:20:13.017549Z",
          "iopub.status.busy": "2025-10-25T20:20:13.017045Z",
          "iopub.status.idle": "2025-10-25T20:20:14.185699Z",
          "shell.execute_reply": "2025-10-25T20:20:14.182491Z",
          "shell.execute_reply.started": "2025-10-25T20:20:13.017510Z"
        },
        "id": "3e522cc6-4ee2-482c-87bc-7352cc5fc22f"
      },
      "outputs": [],
      "source": [
        "import pandas as pd\n",
        "pd.set_option('display.max_rows',None)"
      ]
    },
    {
      "cell_type": "code",
      "execution_count": 4,
      "id": "5db1b8fd-526c-473c-87b7-2a6670e433eb",
      "metadata": {
        "colab": {
          "base_uri": "https://localhost:8080/",
          "height": 206
        },
        "execution": {
          "iopub.execute_input": "2025-10-25T20:20:14.188086Z",
          "iopub.status.busy": "2025-10-25T20:20:14.187509Z",
          "iopub.status.idle": "2025-10-25T20:20:14.319229Z",
          "shell.execute_reply": "2025-10-25T20:20:14.316475Z",
          "shell.execute_reply.started": "2025-10-25T20:20:14.188040Z"
        },
        "id": "5db1b8fd-526c-473c-87b7-2a6670e433eb",
        "outputId": "b6b1abc1-e335-4adb-bfaa-ac24b6d97ca0"
      },
      "outputs": [
        {
          "data": {
            "text/html": [
              "<div>\n",
              "<style scoped>\n",
              "    .dataframe tbody tr th:only-of-type {\n",
              "        vertical-align: middle;\n",
              "    }\n",
              "\n",
              "    .dataframe tbody tr th {\n",
              "        vertical-align: top;\n",
              "    }\n",
              "\n",
              "    .dataframe thead th {\n",
              "        text-align: right;\n",
              "    }\n",
              "</style>\n",
              "<table border=\"1\" class=\"dataframe\">\n",
              "  <thead>\n",
              "    <tr style=\"text-align: right;\">\n",
              "      <th></th>\n",
              "      <th>Unnamed: 0</th>\n",
              "      <th>customer_id</th>\n",
              "      <th>geohash</th>\n",
              "      <th>order_id</th>\n",
              "      <th>vendor_id</th>\n",
              "      <th>product_id</th>\n",
              "      <th>day_of_week</th>\n",
              "      <th>order_time</th>\n",
              "      <th>order_day</th>\n",
              "    </tr>\n",
              "  </thead>\n",
              "  <tbody>\n",
              "    <tr>\n",
              "      <th>0</th>\n",
              "      <td>0</td>\n",
              "      <td>1ba124d4e5</td>\n",
              "      <td>w21z7</td>\n",
              "      <td>0</td>\n",
              "      <td>212753d2</td>\n",
              "      <td>783e85338f1c</td>\n",
              "      <td>0</td>\n",
              "      <td>12:03:29</td>\n",
              "      <td>85 days</td>\n",
              "    </tr>\n",
              "    <tr>\n",
              "      <th>1</th>\n",
              "      <td>1</td>\n",
              "      <td>1ba124d4e5</td>\n",
              "      <td>w21z7</td>\n",
              "      <td>0</td>\n",
              "      <td>212753d2</td>\n",
              "      <td>084ab73246e6</td>\n",
              "      <td>0</td>\n",
              "      <td>12:03:29</td>\n",
              "      <td>85 days</td>\n",
              "    </tr>\n",
              "    <tr>\n",
              "      <th>2</th>\n",
              "      <td>2</td>\n",
              "      <td>1ba124d4e5</td>\n",
              "      <td>w21z7</td>\n",
              "      <td>0</td>\n",
              "      <td>212753d2</td>\n",
              "      <td>30eba3cc2676</td>\n",
              "      <td>0</td>\n",
              "      <td>12:03:29</td>\n",
              "      <td>85 days</td>\n",
              "    </tr>\n",
              "    <tr>\n",
              "      <th>3</th>\n",
              "      <td>3</td>\n",
              "      <td>1ba124d4e5</td>\n",
              "      <td>w21z7</td>\n",
              "      <td>0</td>\n",
              "      <td>212753d2</td>\n",
              "      <td>3910309eea60</td>\n",
              "      <td>0</td>\n",
              "      <td>12:03:29</td>\n",
              "      <td>85 days</td>\n",
              "    </tr>\n",
              "    <tr>\n",
              "      <th>4</th>\n",
              "      <td>4</td>\n",
              "      <td>1ba124d4e5</td>\n",
              "      <td>w21z7</td>\n",
              "      <td>0</td>\n",
              "      <td>212753d2</td>\n",
              "      <td>20049fb602cb</td>\n",
              "      <td>0</td>\n",
              "      <td>12:03:29</td>\n",
              "      <td>85 days</td>\n",
              "    </tr>\n",
              "  </tbody>\n",
              "</table>\n",
              "</div>"
            ],
            "text/plain": [
              "   Unnamed: 0 customer_id geohash  order_id vendor_id    product_id  \\\n",
              "0           0  1ba124d4e5   w21z7         0  212753d2  783e85338f1c   \n",
              "1           1  1ba124d4e5   w21z7         0  212753d2  084ab73246e6   \n",
              "2           2  1ba124d4e5   w21z7         0  212753d2  30eba3cc2676   \n",
              "3           3  1ba124d4e5   w21z7         0  212753d2  3910309eea60   \n",
              "4           4  1ba124d4e5   w21z7         0  212753d2  20049fb602cb   \n",
              "\n",
              "   day_of_week order_time order_day  \n",
              "0            0   12:03:29   85 days  \n",
              "1            0   12:03:29   85 days  \n",
              "2            0   12:03:29   85 days  \n",
              "3            0   12:03:29   85 days  \n",
              "4            0   12:03:29   85 days  "
            ]
          },
          "execution_count": 4,
          "metadata": {},
          "output_type": "execute_result"
        }
      ],
      "source": [
        "file_path = \"/home/rema/code/Alanoudis/food-delivery-rec/data/updated_data/orders_sg25k.txt\"\n",
        "orders = pd.read_csv(file_path)\n",
        "orders.head()"
      ]
    },
    {
      "cell_type": "code",
      "execution_count": 5,
      "id": "ab21291b-56f5-4ccd-9504-98a1edf8916f",
      "metadata": {
        "colab": {
          "base_uri": "https://localhost:8080/"
        },
        "execution": {
          "iopub.execute_input": "2025-10-25T20:20:17.171353Z",
          "iopub.status.busy": "2025-10-25T20:20:17.170820Z",
          "iopub.status.idle": "2025-10-25T20:20:17.182194Z",
          "shell.execute_reply": "2025-10-25T20:20:17.179838Z",
          "shell.execute_reply.started": "2025-10-25T20:20:17.171297Z"
        },
        "id": "ab21291b-56f5-4ccd-9504-98a1edf8916f",
        "outputId": "7374b35e-f084-441b-ccc3-cf56ec2d3dab"
      },
      "outputs": [
        {
          "data": {
            "text/plain": [
              "(25000, 9)"
            ]
          },
          "execution_count": 5,
          "metadata": {},
          "output_type": "execute_result"
        }
      ],
      "source": [
        "orders.shape"
      ]
    },
    {
      "cell_type": "markdown",
      "id": "d0b3a93d-024e-4711-8180-543632796170",
      "metadata": {
        "id": "d0b3a93d-024e-4711-8180-543632796170"
      },
      "source": [
        "## Clean the Data\n",
        "### Remove Unnecessary Columns"
      ]
    },
    {
      "cell_type": "code",
      "execution_count": 6,
      "id": "9d3044f0-e253-458d-96e5-81bcea594d27",
      "metadata": {
        "execution": {
          "iopub.execute_input": "2025-10-25T20:20:24.734140Z",
          "iopub.status.busy": "2025-10-25T20:20:24.733556Z",
          "iopub.status.idle": "2025-10-25T20:20:24.750827Z",
          "shell.execute_reply": "2025-10-25T20:20:24.747668Z",
          "shell.execute_reply.started": "2025-10-25T20:20:24.734083Z"
        },
        "id": "9d3044f0-e253-458d-96e5-81bcea594d27"
      },
      "outputs": [],
      "source": [
        "orders.drop(columns=['Unnamed: 0'], inplace=True)"
      ]
    },
    {
      "cell_type": "code",
      "execution_count": 7,
      "id": "089388b5-a67e-477e-a185-66f684d629f5",
      "metadata": {
        "colab": {
          "base_uri": "https://localhost:8080/",
          "height": 143
        },
        "execution": {
          "iopub.execute_input": "2025-10-25T20:20:33.453815Z",
          "iopub.status.busy": "2025-10-25T20:20:33.453365Z",
          "iopub.status.idle": "2025-10-25T20:20:33.470704Z",
          "shell.execute_reply": "2025-10-25T20:20:33.468258Z",
          "shell.execute_reply.started": "2025-10-25T20:20:33.453781Z"
        },
        "id": "089388b5-a67e-477e-a185-66f684d629f5",
        "outputId": "056bcab7-d828-4a3c-d4cf-2c9da57a2b9a"
      },
      "outputs": [
        {
          "data": {
            "text/html": [
              "<div>\n",
              "<style scoped>\n",
              "    .dataframe tbody tr th:only-of-type {\n",
              "        vertical-align: middle;\n",
              "    }\n",
              "\n",
              "    .dataframe tbody tr th {\n",
              "        vertical-align: top;\n",
              "    }\n",
              "\n",
              "    .dataframe thead th {\n",
              "        text-align: right;\n",
              "    }\n",
              "</style>\n",
              "<table border=\"1\" class=\"dataframe\">\n",
              "  <thead>\n",
              "    <tr style=\"text-align: right;\">\n",
              "      <th></th>\n",
              "      <th>customer_id</th>\n",
              "      <th>geohash</th>\n",
              "      <th>order_id</th>\n",
              "      <th>vendor_id</th>\n",
              "      <th>product_id</th>\n",
              "      <th>day_of_week</th>\n",
              "      <th>order_time</th>\n",
              "      <th>order_day</th>\n",
              "    </tr>\n",
              "  </thead>\n",
              "  <tbody>\n",
              "    <tr>\n",
              "      <th>0</th>\n",
              "      <td>1ba124d4e5</td>\n",
              "      <td>w21z7</td>\n",
              "      <td>0</td>\n",
              "      <td>212753d2</td>\n",
              "      <td>783e85338f1c</td>\n",
              "      <td>0</td>\n",
              "      <td>12:03:29</td>\n",
              "      <td>85 days</td>\n",
              "    </tr>\n",
              "    <tr>\n",
              "      <th>1</th>\n",
              "      <td>1ba124d4e5</td>\n",
              "      <td>w21z7</td>\n",
              "      <td>0</td>\n",
              "      <td>212753d2</td>\n",
              "      <td>084ab73246e6</td>\n",
              "      <td>0</td>\n",
              "      <td>12:03:29</td>\n",
              "      <td>85 days</td>\n",
              "    </tr>\n",
              "    <tr>\n",
              "      <th>2</th>\n",
              "      <td>1ba124d4e5</td>\n",
              "      <td>w21z7</td>\n",
              "      <td>0</td>\n",
              "      <td>212753d2</td>\n",
              "      <td>30eba3cc2676</td>\n",
              "      <td>0</td>\n",
              "      <td>12:03:29</td>\n",
              "      <td>85 days</td>\n",
              "    </tr>\n",
              "  </tbody>\n",
              "</table>\n",
              "</div>"
            ],
            "text/plain": [
              "  customer_id geohash  order_id vendor_id    product_id  day_of_week  \\\n",
              "0  1ba124d4e5   w21z7         0  212753d2  783e85338f1c            0   \n",
              "1  1ba124d4e5   w21z7         0  212753d2  084ab73246e6            0   \n",
              "2  1ba124d4e5   w21z7         0  212753d2  30eba3cc2676            0   \n",
              "\n",
              "  order_time order_day  \n",
              "0   12:03:29   85 days  \n",
              "1   12:03:29   85 days  \n",
              "2   12:03:29   85 days  "
            ]
          },
          "execution_count": 7,
          "metadata": {},
          "output_type": "execute_result"
        }
      ],
      "source": [
        "orders.head(3)"
      ]
    },
    {
      "cell_type": "code",
      "execution_count": 9,
      "id": "f9de9c82-358e-4732-8fc6-3f3174107695",
      "metadata": {
        "colab": {
          "base_uri": "https://localhost:8080/",
          "height": 206
        },
        "execution": {
          "iopub.execute_input": "2025-10-25T20:20:34.115966Z",
          "iopub.status.busy": "2025-10-25T20:20:34.115587Z",
          "iopub.status.idle": "2025-10-25T20:20:36.255130Z",
          "shell.execute_reply": "2025-10-25T20:20:36.252946Z",
          "shell.execute_reply.started": "2025-10-25T20:20:34.115934Z"
        },
        "id": "f9de9c82-358e-4732-8fc6-3f3174107695",
        "outputId": "26004c03-6d24-4374-8215-12656a3d564a"
      },
      "outputs": [
        {
          "data": {
            "text/html": [
              "<div>\n",
              "<style scoped>\n",
              "    .dataframe tbody tr th:only-of-type {\n",
              "        vertical-align: middle;\n",
              "    }\n",
              "\n",
              "    .dataframe tbody tr th {\n",
              "        vertical-align: top;\n",
              "    }\n",
              "\n",
              "    .dataframe thead th {\n",
              "        text-align: right;\n",
              "    }\n",
              "</style>\n",
              "<table border=\"1\" class=\"dataframe\">\n",
              "  <thead>\n",
              "    <tr style=\"text-align: right;\">\n",
              "      <th></th>\n",
              "      <th>Unnamed: 0</th>\n",
              "      <th>vendor_id</th>\n",
              "      <th>product_id</th>\n",
              "      <th>name</th>\n",
              "      <th>unit_price</th>\n",
              "    </tr>\n",
              "  </thead>\n",
              "  <tbody>\n",
              "    <tr>\n",
              "      <th>0</th>\n",
              "      <td>0</td>\n",
              "      <td>15bbf316</td>\n",
              "      <td>59099e089514</td>\n",
              "      <td>Meat &amp; Seafood Combo 海鲜套餐</td>\n",
              "      <td>0.0036</td>\n",
              "    </tr>\n",
              "    <tr>\n",
              "      <th>1</th>\n",
              "      <td>1</td>\n",
              "      <td>e7b24dc0</td>\n",
              "      <td>52e1017fdbd9</td>\n",
              "      <td>Sausage Egg McMuffin® Meal</td>\n",
              "      <td>0.0024</td>\n",
              "    </tr>\n",
              "    <tr>\n",
              "      <th>2</th>\n",
              "      <td>2</td>\n",
              "      <td>e7b24dc0</td>\n",
              "      <td>fcb7110cd932</td>\n",
              "      <td>Scrambled Egg Burger w Chicken Meal</td>\n",
              "      <td>0.0024</td>\n",
              "    </tr>\n",
              "    <tr>\n",
              "      <th>3</th>\n",
              "      <td>3</td>\n",
              "      <td>7112a20b</td>\n",
              "      <td>d3e7708c2bc9</td>\n",
              "      <td>Maguro Sushi</td>\n",
              "      <td>0.0012</td>\n",
              "    </tr>\n",
              "    <tr>\n",
              "      <th>4</th>\n",
              "      <td>4</td>\n",
              "      <td>6137ef21</td>\n",
              "      <td>bf0d5ac0e03c</td>\n",
              "      <td>Family Meal - Prosp Chic TwLEVMx2 + ChBurgerHM</td>\n",
              "      <td>0.0100</td>\n",
              "    </tr>\n",
              "  </tbody>\n",
              "</table>\n",
              "</div>"
            ],
            "text/plain": [
              "   Unnamed: 0 vendor_id    product_id  \\\n",
              "0           0  15bbf316  59099e089514   \n",
              "1           1  e7b24dc0  52e1017fdbd9   \n",
              "2           2  e7b24dc0  fcb7110cd932   \n",
              "3           3  7112a20b  d3e7708c2bc9   \n",
              "4           4  6137ef21  bf0d5ac0e03c   \n",
              "\n",
              "                                             name  unit_price  \n",
              "0                       Meat & Seafood Combo 海鲜套餐      0.0036  \n",
              "1                      Sausage Egg McMuffin® Meal      0.0024  \n",
              "2             Scrambled Egg Burger w Chicken Meal      0.0024  \n",
              "3                                    Maguro Sushi      0.0012  \n",
              "4  Family Meal - Prosp Chic TwLEVMx2 + ChBurgerHM      0.0100  "
            ]
          },
          "execution_count": 9,
          "metadata": {},
          "output_type": "execute_result"
        }
      ],
      "source": [
        "\n",
        "file_path2 = \"/home/rema/code/Alanoudis/food-delivery-rec/data/updated_data/products_sg.txt\"\n",
        "products = pd.read_csv(file_path2)\n",
        "\n",
        "products.head()"
      ]
    },
    {
      "cell_type": "code",
      "execution_count": 10,
      "id": "afecf54c-9b72-4602-b1ec-c7b5cfe6324b",
      "metadata": {
        "execution": {
          "iopub.execute_input": "2025-10-25T20:20:36.256058Z",
          "iopub.status.busy": "2025-10-25T20:20:36.255777Z",
          "iopub.status.idle": "2025-10-25T20:20:36.331261Z",
          "shell.execute_reply": "2025-10-25T20:20:36.328087Z",
          "shell.execute_reply.started": "2025-10-25T20:20:36.256033Z"
        },
        "id": "afecf54c-9b72-4602-b1ec-c7b5cfe6324b"
      },
      "outputs": [],
      "source": [
        "products.drop(columns=['Unnamed: 0'], inplace=True)"
      ]
    },
    {
      "cell_type": "code",
      "execution_count": 11,
      "id": "ed5499e1-8e26-4c63-8a0d-478033f8fb99",
      "metadata": {
        "colab": {
          "base_uri": "https://localhost:8080/",
          "height": 143
        },
        "execution": {
          "iopub.execute_input": "2025-10-25T20:20:37.633659Z",
          "iopub.status.busy": "2025-10-25T20:20:37.632937Z",
          "iopub.status.idle": "2025-10-25T20:20:37.654363Z",
          "shell.execute_reply": "2025-10-25T20:20:37.651727Z",
          "shell.execute_reply.started": "2025-10-25T20:20:37.633601Z"
        },
        "id": "ed5499e1-8e26-4c63-8a0d-478033f8fb99",
        "outputId": "d77040ff-acfb-4c50-88dc-0940ca9040e4"
      },
      "outputs": [
        {
          "data": {
            "text/html": [
              "<div>\n",
              "<style scoped>\n",
              "    .dataframe tbody tr th:only-of-type {\n",
              "        vertical-align: middle;\n",
              "    }\n",
              "\n",
              "    .dataframe tbody tr th {\n",
              "        vertical-align: top;\n",
              "    }\n",
              "\n",
              "    .dataframe thead th {\n",
              "        text-align: right;\n",
              "    }\n",
              "</style>\n",
              "<table border=\"1\" class=\"dataframe\">\n",
              "  <thead>\n",
              "    <tr style=\"text-align: right;\">\n",
              "      <th></th>\n",
              "      <th>vendor_id</th>\n",
              "      <th>product_id</th>\n",
              "      <th>name</th>\n",
              "      <th>unit_price</th>\n",
              "    </tr>\n",
              "  </thead>\n",
              "  <tbody>\n",
              "    <tr>\n",
              "      <th>0</th>\n",
              "      <td>15bbf316</td>\n",
              "      <td>59099e089514</td>\n",
              "      <td>Meat &amp; Seafood Combo 海鲜套餐</td>\n",
              "      <td>0.0036</td>\n",
              "    </tr>\n",
              "    <tr>\n",
              "      <th>1</th>\n",
              "      <td>e7b24dc0</td>\n",
              "      <td>52e1017fdbd9</td>\n",
              "      <td>Sausage Egg McMuffin® Meal</td>\n",
              "      <td>0.0024</td>\n",
              "    </tr>\n",
              "    <tr>\n",
              "      <th>2</th>\n",
              "      <td>e7b24dc0</td>\n",
              "      <td>fcb7110cd932</td>\n",
              "      <td>Scrambled Egg Burger w Chicken Meal</td>\n",
              "      <td>0.0024</td>\n",
              "    </tr>\n",
              "  </tbody>\n",
              "</table>\n",
              "</div>"
            ],
            "text/plain": [
              "  vendor_id    product_id                                 name  unit_price\n",
              "0  15bbf316  59099e089514            Meat & Seafood Combo 海鲜套餐      0.0036\n",
              "1  e7b24dc0  52e1017fdbd9           Sausage Egg McMuffin® Meal      0.0024\n",
              "2  e7b24dc0  fcb7110cd932  Scrambled Egg Burger w Chicken Meal      0.0024"
            ]
          },
          "execution_count": 11,
          "metadata": {},
          "output_type": "execute_result"
        }
      ],
      "source": [
        "products.head(3)"
      ]
    },
    {
      "cell_type": "code",
      "execution_count": 13,
      "id": "83295953-4cba-4966-abc2-3e42ac8a48ea",
      "metadata": {
        "colab": {
          "base_uri": "https://localhost:8080/",
          "height": 206
        },
        "execution": {
          "iopub.execute_input": "2025-10-25T20:20:38.588942Z",
          "iopub.status.busy": "2025-10-25T20:20:38.588444Z",
          "iopub.status.idle": "2025-10-25T20:20:38.613365Z",
          "shell.execute_reply": "2025-10-25T20:20:38.610745Z",
          "shell.execute_reply.started": "2025-10-25T20:20:38.588900Z"
        },
        "id": "83295953-4cba-4966-abc2-3e42ac8a48ea",
        "outputId": "7e1c999d-e164-4af3-f890-8fb3a6e9fe6b"
      },
      "outputs": [
        {
          "data": {
            "text/html": [
              "<div>\n",
              "<style scoped>\n",
              "    .dataframe tbody tr th:only-of-type {\n",
              "        vertical-align: middle;\n",
              "    }\n",
              "\n",
              "    .dataframe tbody tr th {\n",
              "        vertical-align: top;\n",
              "    }\n",
              "\n",
              "    .dataframe thead th {\n",
              "        text-align: right;\n",
              "    }\n",
              "</style>\n",
              "<table border=\"1\" class=\"dataframe\">\n",
              "  <thead>\n",
              "    <tr style=\"text-align: right;\">\n",
              "      <th></th>\n",
              "      <th>Unnamed: 0</th>\n",
              "      <th>vendor_id</th>\n",
              "      <th>chain_id</th>\n",
              "      <th>geohash</th>\n",
              "      <th>primary_cuisine</th>\n",
              "    </tr>\n",
              "  </thead>\n",
              "  <tbody>\n",
              "    <tr>\n",
              "      <th>0</th>\n",
              "      <td>0</td>\n",
              "      <td>b160c319</td>\n",
              "      <td>d2786168</td>\n",
              "      <td>w21z6</td>\n",
              "      <td>mexican</td>\n",
              "    </tr>\n",
              "    <tr>\n",
              "      <th>1</th>\n",
              "      <td>1</td>\n",
              "      <td>9c8f010e</td>\n",
              "      <td>d2786168</td>\n",
              "      <td>w21ze</td>\n",
              "      <td>mexican</td>\n",
              "    </tr>\n",
              "    <tr>\n",
              "      <th>2</th>\n",
              "      <td>4</td>\n",
              "      <td>03eb25e1</td>\n",
              "      <td>5055ab25</td>\n",
              "      <td>w21ze</td>\n",
              "      <td>bak kut teh</td>\n",
              "    </tr>\n",
              "    <tr>\n",
              "      <th>3</th>\n",
              "      <td>5</td>\n",
              "      <td>3613129a</td>\n",
              "      <td>8984acb6</td>\n",
              "      <td>w23b1</td>\n",
              "      <td>italian</td>\n",
              "    </tr>\n",
              "    <tr>\n",
              "      <th>4</th>\n",
              "      <td>7</td>\n",
              "      <td>0946c9e5</td>\n",
              "      <td>1e3a2913</td>\n",
              "      <td>w21z4</td>\n",
              "      <td>bak kut teh</td>\n",
              "    </tr>\n",
              "  </tbody>\n",
              "</table>\n",
              "</div>"
            ],
            "text/plain": [
              "   Unnamed: 0 vendor_id  chain_id geohash primary_cuisine\n",
              "0           0  b160c319  d2786168   w21z6         mexican\n",
              "1           1  9c8f010e  d2786168   w21ze         mexican\n",
              "2           4  03eb25e1  5055ab25   w21ze     bak kut teh\n",
              "3           5  3613129a  8984acb6   w23b1         italian\n",
              "4           7  0946c9e5  1e3a2913   w21z4     bak kut teh"
            ]
          },
          "execution_count": 13,
          "metadata": {},
          "output_type": "execute_result"
        }
      ],
      "source": [
        "\n",
        "file_path3 = \"/home/rema/code/Alanoudis/food-delivery-rec/data/updated_data/vendors_sg.txt\"\n",
        "vendors = pd.read_csv(file_path3)\n",
        "\n",
        "vendors.head()"
      ]
    },
    {
      "cell_type": "code",
      "execution_count": 14,
      "id": "e75b43bf-d79d-4361-bb1e-08455342bf33",
      "metadata": {
        "execution": {
          "iopub.execute_input": "2025-10-25T20:20:39.844201Z",
          "iopub.status.busy": "2025-10-25T20:20:39.843772Z",
          "iopub.status.idle": "2025-10-25T20:20:39.853278Z",
          "shell.execute_reply": "2025-10-25T20:20:39.850211Z",
          "shell.execute_reply.started": "2025-10-25T20:20:39.844166Z"
        },
        "id": "e75b43bf-d79d-4361-bb1e-08455342bf33"
      },
      "outputs": [],
      "source": [
        "vendors.drop(columns=['Unnamed: 0'], inplace=True)"
      ]
    },
    {
      "cell_type": "code",
      "execution_count": 15,
      "id": "ac7ad3aa-688c-4fcd-a630-e5461e313313",
      "metadata": {
        "colab": {
          "base_uri": "https://localhost:8080/",
          "height": 143
        },
        "execution": {
          "iopub.execute_input": "2025-10-25T20:20:43.704611Z",
          "iopub.status.busy": "2025-10-25T20:20:43.704208Z",
          "iopub.status.idle": "2025-10-25T20:20:43.720776Z",
          "shell.execute_reply": "2025-10-25T20:20:43.718048Z",
          "shell.execute_reply.started": "2025-10-25T20:20:43.704577Z"
        },
        "id": "ac7ad3aa-688c-4fcd-a630-e5461e313313",
        "outputId": "c2bb7be6-a504-4eb8-d599-76c470284f7d"
      },
      "outputs": [
        {
          "data": {
            "text/html": [
              "<div>\n",
              "<style scoped>\n",
              "    .dataframe tbody tr th:only-of-type {\n",
              "        vertical-align: middle;\n",
              "    }\n",
              "\n",
              "    .dataframe tbody tr th {\n",
              "        vertical-align: top;\n",
              "    }\n",
              "\n",
              "    .dataframe thead th {\n",
              "        text-align: right;\n",
              "    }\n",
              "</style>\n",
              "<table border=\"1\" class=\"dataframe\">\n",
              "  <thead>\n",
              "    <tr style=\"text-align: right;\">\n",
              "      <th></th>\n",
              "      <th>vendor_id</th>\n",
              "      <th>chain_id</th>\n",
              "      <th>geohash</th>\n",
              "      <th>primary_cuisine</th>\n",
              "    </tr>\n",
              "  </thead>\n",
              "  <tbody>\n",
              "    <tr>\n",
              "      <th>0</th>\n",
              "      <td>b160c319</td>\n",
              "      <td>d2786168</td>\n",
              "      <td>w21z6</td>\n",
              "      <td>mexican</td>\n",
              "    </tr>\n",
              "    <tr>\n",
              "      <th>1</th>\n",
              "      <td>9c8f010e</td>\n",
              "      <td>d2786168</td>\n",
              "      <td>w21ze</td>\n",
              "      <td>mexican</td>\n",
              "    </tr>\n",
              "    <tr>\n",
              "      <th>2</th>\n",
              "      <td>03eb25e1</td>\n",
              "      <td>5055ab25</td>\n",
              "      <td>w21ze</td>\n",
              "      <td>bak kut teh</td>\n",
              "    </tr>\n",
              "  </tbody>\n",
              "</table>\n",
              "</div>"
            ],
            "text/plain": [
              "  vendor_id  chain_id geohash primary_cuisine\n",
              "0  b160c319  d2786168   w21z6         mexican\n",
              "1  9c8f010e  d2786168   w21ze         mexican\n",
              "2  03eb25e1  5055ab25   w21ze     bak kut teh"
            ]
          },
          "execution_count": 15,
          "metadata": {},
          "output_type": "execute_result"
        }
      ],
      "source": [
        "vendors.head(3)"
      ]
    },
    {
      "cell_type": "code",
      "execution_count": 16,
      "id": "f1c2ac33-5dae-4357-8035-cceb213f860e",
      "metadata": {
        "colab": {
          "base_uri": "https://localhost:8080/",
          "height": 504
        },
        "execution": {
          "iopub.execute_input": "2025-10-25T20:20:44.236520Z",
          "iopub.status.busy": "2025-10-25T20:20:44.236154Z",
          "iopub.status.idle": "2025-10-25T20:20:44.987819Z",
          "shell.execute_reply": "2025-10-25T20:20:44.984776Z",
          "shell.execute_reply.started": "2025-10-25T20:20:44.236482Z"
        },
        "id": "f1c2ac33-5dae-4357-8035-cceb213f860e",
        "outputId": "4f9550b6-24fd-4fcb-b3f3-da5607831b88"
      },
      "outputs": [
        {
          "data": {
            "text/html": [
              "<div>\n",
              "<style scoped>\n",
              "    .dataframe tbody tr th:only-of-type {\n",
              "        vertical-align: middle;\n",
              "    }\n",
              "\n",
              "    .dataframe tbody tr th {\n",
              "        vertical-align: top;\n",
              "    }\n",
              "\n",
              "    .dataframe thead th {\n",
              "        text-align: right;\n",
              "    }\n",
              "</style>\n",
              "<table border=\"1\" class=\"dataframe\">\n",
              "  <thead>\n",
              "    <tr style=\"text-align: right;\">\n",
              "      <th></th>\n",
              "      <th>customer_id</th>\n",
              "      <th>geohash_x</th>\n",
              "      <th>order_id</th>\n",
              "      <th>vendor_id</th>\n",
              "      <th>product_id</th>\n",
              "      <th>day_of_week</th>\n",
              "      <th>order_time</th>\n",
              "      <th>order_day</th>\n",
              "      <th>name</th>\n",
              "      <th>unit_price</th>\n",
              "      <th>chain_id</th>\n",
              "      <th>geohash_y</th>\n",
              "      <th>primary_cuisine</th>\n",
              "    </tr>\n",
              "  </thead>\n",
              "  <tbody>\n",
              "    <tr>\n",
              "      <th>0</th>\n",
              "      <td>1ba124d4e5</td>\n",
              "      <td>w21z7</td>\n",
              "      <td>0</td>\n",
              "      <td>212753d2</td>\n",
              "      <td>783e85338f1c</td>\n",
              "      <td>0</td>\n",
              "      <td>12:03:29</td>\n",
              "      <td>85 days</td>\n",
              "      <td>201. Japanese Garlic Karaage Don</td>\n",
              "      <td>0.0060</td>\n",
              "      <td>66c9978d</td>\n",
              "      <td>w21z7</td>\n",
              "      <td>ramen</td>\n",
              "    </tr>\n",
              "    <tr>\n",
              "      <th>1</th>\n",
              "      <td>1ba124d4e5</td>\n",
              "      <td>w21z7</td>\n",
              "      <td>0</td>\n",
              "      <td>212753d2</td>\n",
              "      <td>084ab73246e6</td>\n",
              "      <td>0</td>\n",
              "      <td>12:03:29</td>\n",
              "      <td>85 days</td>\n",
              "      <td>204. Chicken Cutlet Don</td>\n",
              "      <td>0.0068</td>\n",
              "      <td>66c9978d</td>\n",
              "      <td>w21z7</td>\n",
              "      <td>ramen</td>\n",
              "    </tr>\n",
              "    <tr>\n",
              "      <th>2</th>\n",
              "      <td>1ba124d4e5</td>\n",
              "      <td>w21z7</td>\n",
              "      <td>0</td>\n",
              "      <td>212753d2</td>\n",
              "      <td>30eba3cc2676</td>\n",
              "      <td>0</td>\n",
              "      <td>12:03:29</td>\n",
              "      <td>85 days</td>\n",
              "      <td>206. Beef Sukiyaki Don</td>\n",
              "      <td>0.0068</td>\n",
              "      <td>66c9978d</td>\n",
              "      <td>w21z7</td>\n",
              "      <td>ramen</td>\n",
              "    </tr>\n",
              "    <tr>\n",
              "      <th>3</th>\n",
              "      <td>1ba124d4e5</td>\n",
              "      <td>w21z7</td>\n",
              "      <td>0</td>\n",
              "      <td>212753d2</td>\n",
              "      <td>3910309eea60</td>\n",
              "      <td>0</td>\n",
              "      <td>12:03:29</td>\n",
              "      <td>85 days</td>\n",
              "      <td>209. Japanese Beef Yakiniku Don</td>\n",
              "      <td>0.0068</td>\n",
              "      <td>66c9978d</td>\n",
              "      <td>w21z7</td>\n",
              "      <td>ramen</td>\n",
              "    </tr>\n",
              "    <tr>\n",
              "      <th>4</th>\n",
              "      <td>1ba124d4e5</td>\n",
              "      <td>w21z7</td>\n",
              "      <td>0</td>\n",
              "      <td>212753d2</td>\n",
              "      <td>20049fb602cb</td>\n",
              "      <td>0</td>\n",
              "      <td>12:03:29</td>\n",
              "      <td>85 days</td>\n",
              "      <td>210. Teriyaki Salmon Don</td>\n",
              "      <td>0.0080</td>\n",
              "      <td>66c9978d</td>\n",
              "      <td>w21z7</td>\n",
              "      <td>ramen</td>\n",
              "    </tr>\n",
              "  </tbody>\n",
              "</table>\n",
              "</div>"
            ],
            "text/plain": [
              "  customer_id geohash_x  order_id vendor_id    product_id  day_of_week  \\\n",
              "0  1ba124d4e5     w21z7         0  212753d2  783e85338f1c            0   \n",
              "1  1ba124d4e5     w21z7         0  212753d2  084ab73246e6            0   \n",
              "2  1ba124d4e5     w21z7         0  212753d2  30eba3cc2676            0   \n",
              "3  1ba124d4e5     w21z7         0  212753d2  3910309eea60            0   \n",
              "4  1ba124d4e5     w21z7         0  212753d2  20049fb602cb            0   \n",
              "\n",
              "  order_time order_day                              name  unit_price  \\\n",
              "0   12:03:29   85 days  201. Japanese Garlic Karaage Don      0.0060   \n",
              "1   12:03:29   85 days           204. Chicken Cutlet Don      0.0068   \n",
              "2   12:03:29   85 days            206. Beef Sukiyaki Don      0.0068   \n",
              "3   12:03:29   85 days   209. Japanese Beef Yakiniku Don      0.0068   \n",
              "4   12:03:29   85 days          210. Teriyaki Salmon Don      0.0080   \n",
              "\n",
              "   chain_id geohash_y primary_cuisine  \n",
              "0  66c9978d     w21z7           ramen  \n",
              "1  66c9978d     w21z7           ramen  \n",
              "2  66c9978d     w21z7           ramen  \n",
              "3  66c9978d     w21z7           ramen  \n",
              "4  66c9978d     w21z7           ramen  "
            ]
          },
          "execution_count": 16,
          "metadata": {},
          "output_type": "execute_result"
        }
      ],
      "source": [
        "\n",
        "# Step 1: Merge orders with products on vendor_id and product_id\n",
        "orders_products = orders.merge(products, on=['vendor_id', 'product_id'], how='left')\n",
        "\n",
        "# Step 2: Merge the result with vendors on vendor_id\n",
        "full_data = orders_products.merge(vendors, on='vendor_id', how='left')\n",
        "\n",
        "# Preview the final merged dataset\n",
        "full_data.head()"
      ]
    },
    {
      "cell_type": "code",
      "execution_count": 17,
      "id": "a57d21dd-4e1c-4de2-aec7-4bf20325dc90",
      "metadata": {
        "colab": {
          "base_uri": "https://localhost:8080/",
          "height": 300
        },
        "execution": {
          "iopub.execute_input": "2025-10-25T20:20:46.377817Z",
          "iopub.status.busy": "2025-10-25T20:20:46.377459Z",
          "iopub.status.idle": "2025-10-25T20:20:46.411729Z",
          "shell.execute_reply": "2025-10-25T20:20:46.408767Z",
          "shell.execute_reply.started": "2025-10-25T20:20:46.377787Z"
        },
        "id": "a57d21dd-4e1c-4de2-aec7-4bf20325dc90",
        "outputId": "9747467a-9176-4845-b915-4bb39759222d"
      },
      "outputs": [
        {
          "data": {
            "text/html": [
              "<div>\n",
              "<style scoped>\n",
              "    .dataframe tbody tr th:only-of-type {\n",
              "        vertical-align: middle;\n",
              "    }\n",
              "\n",
              "    .dataframe tbody tr th {\n",
              "        vertical-align: top;\n",
              "    }\n",
              "\n",
              "    .dataframe thead th {\n",
              "        text-align: right;\n",
              "    }\n",
              "</style>\n",
              "<table border=\"1\" class=\"dataframe\">\n",
              "  <thead>\n",
              "    <tr style=\"text-align: right;\">\n",
              "      <th></th>\n",
              "      <th>order_id</th>\n",
              "      <th>day_of_week</th>\n",
              "      <th>unit_price</th>\n",
              "    </tr>\n",
              "  </thead>\n",
              "  <tbody>\n",
              "    <tr>\n",
              "      <th>count</th>\n",
              "      <td>25000.000000</td>\n",
              "      <td>25000.000000</td>\n",
              "      <td>25000.000000</td>\n",
              "    </tr>\n",
              "    <tr>\n",
              "      <th>mean</th>\n",
              "      <td>6095.877400</td>\n",
              "      <td>3.240560</td>\n",
              "      <td>0.003454</td>\n",
              "    </tr>\n",
              "    <tr>\n",
              "      <th>std</th>\n",
              "      <td>3543.143351</td>\n",
              "      <td>2.002112</td>\n",
              "      <td>0.003289</td>\n",
              "    </tr>\n",
              "    <tr>\n",
              "      <th>min</th>\n",
              "      <td>0.000000</td>\n",
              "      <td>0.000000</td>\n",
              "      <td>0.000000</td>\n",
              "    </tr>\n",
              "    <tr>\n",
              "      <th>25%</th>\n",
              "      <td>3042.750000</td>\n",
              "      <td>2.000000</td>\n",
              "      <td>0.001600</td>\n",
              "    </tr>\n",
              "    <tr>\n",
              "      <th>50%</th>\n",
              "      <td>6047.000000</td>\n",
              "      <td>3.000000</td>\n",
              "      <td>0.002800</td>\n",
              "    </tr>\n",
              "    <tr>\n",
              "      <th>75%</th>\n",
              "      <td>9245.000000</td>\n",
              "      <td>5.000000</td>\n",
              "      <td>0.004000</td>\n",
              "    </tr>\n",
              "    <tr>\n",
              "      <th>max</th>\n",
              "      <td>12180.000000</td>\n",
              "      <td>6.000000</td>\n",
              "      <td>0.090800</td>\n",
              "    </tr>\n",
              "  </tbody>\n",
              "</table>\n",
              "</div>"
            ],
            "text/plain": [
              "           order_id   day_of_week    unit_price\n",
              "count  25000.000000  25000.000000  25000.000000\n",
              "mean    6095.877400      3.240560      0.003454\n",
              "std     3543.143351      2.002112      0.003289\n",
              "min        0.000000      0.000000      0.000000\n",
              "25%     3042.750000      2.000000      0.001600\n",
              "50%     6047.000000      3.000000      0.002800\n",
              "75%     9245.000000      5.000000      0.004000\n",
              "max    12180.000000      6.000000      0.090800"
            ]
          },
          "execution_count": 17,
          "metadata": {},
          "output_type": "execute_result"
        }
      ],
      "source": [
        "full_data.describe()"
      ]
    },
    {
      "cell_type": "code",
      "execution_count": 18,
      "id": "65e1f82f-47d2-4705-856c-ae4a9fbf9b5b",
      "metadata": {
        "colab": {
          "base_uri": "https://localhost:8080/"
        },
        "execution": {
          "iopub.execute_input": "2025-10-25T20:20:47.400728Z",
          "iopub.status.busy": "2025-10-25T20:20:47.400163Z",
          "iopub.status.idle": "2025-10-25T20:20:47.411794Z",
          "shell.execute_reply": "2025-10-25T20:20:47.409044Z",
          "shell.execute_reply.started": "2025-10-25T20:20:47.400679Z"
        },
        "id": "65e1f82f-47d2-4705-856c-ae4a9fbf9b5b",
        "outputId": "c094e241-6b1a-422b-ea32-9bb64a86999f"
      },
      "outputs": [
        {
          "data": {
            "text/plain": [
              "(25000, 13)"
            ]
          },
          "execution_count": 18,
          "metadata": {},
          "output_type": "execute_result"
        }
      ],
      "source": [
        "full_data.shape"
      ]
    },
    {
      "cell_type": "markdown",
      "id": "06bee381-a456-4c05-b5ba-86ca93d9c4a9",
      "metadata": {
        "id": "06bee381-a456-4c05-b5ba-86ca93d9c4a9"
      },
      "source": [
        "### 👥 Step 2: Analyze Customer Preferences"
      ]
    },
    {
      "cell_type": "code",
      "execution_count": 19,
      "id": "586036dc-8f74-443d-be09-cb44564558fd",
      "metadata": {
        "colab": {
          "base_uri": "https://localhost:8080/"
        },
        "execution": {
          "iopub.execute_input": "2025-10-25T20:20:56.721803Z",
          "iopub.status.busy": "2025-10-25T20:20:56.721355Z",
          "iopub.status.idle": "2025-10-25T20:20:56.735518Z",
          "shell.execute_reply": "2025-10-25T20:20:56.732824Z",
          "shell.execute_reply.started": "2025-10-25T20:20:56.721771Z"
        },
        "id": "586036dc-8f74-443d-be09-cb44564558fd",
        "outputId": "559d6074-83be-4e29-931b-41c78ad28655"
      },
      "outputs": [
        {
          "data": {
            "text/plain": [
              "73"
            ]
          },
          "execution_count": 19,
          "metadata": {},
          "output_type": "execute_result"
        }
      ],
      "source": [
        "full_data[\"primary_cuisine\"].nunique()"
      ]
    },
    {
      "cell_type": "code",
      "execution_count": 20,
      "id": "e92ebd8e-383e-46c7-8550-c54b66bae1e5",
      "metadata": {
        "colab": {
          "base_uri": "https://localhost:8080/",
          "height": 1000
        },
        "execution": {
          "iopub.execute_input": "2025-10-25T20:20:57.786523Z",
          "iopub.status.busy": "2025-10-25T20:20:57.786166Z",
          "iopub.status.idle": "2025-10-25T20:20:57.802235Z",
          "shell.execute_reply": "2025-10-25T20:20:57.799623Z",
          "shell.execute_reply.started": "2025-10-25T20:20:57.786491Z"
        },
        "id": "e92ebd8e-383e-46c7-8550-c54b66bae1e5",
        "outputId": "d20f2de3-9c2f-4498-db48-e022f2a9f892"
      },
      "outputs": [
        {
          "data": {
            "text/plain": [
              "primary_cuisine\n",
              "chinese                 2682\n",
              "indian                  1529\n",
              "dessert                 1285\n",
              "noodles                 1198\n",
              "bubble tea              1091\n",
              "japanese                1065\n",
              "coffee                  1058\n",
              "mala xiang guo           942\n",
              "singaporean              853\n",
              "dim sum                  841\n",
              "western                  803\n",
              "thai                     739\n",
              "chicken                  733\n",
              "fried chicken            733\n",
              "chicken rice             732\n",
              "soups                    640\n",
              "rice dishes              597\n",
              "pizza                    504\n",
              "sushi                    450\n",
              "fried rice               418\n",
              "nasi lemak               395\n",
              "burgers                  394\n",
              "american                 378\n",
              "cakes                    362\n",
              "seafood                  355\n",
              "sandwiches               312\n",
              "korean                   302\n",
              "asian                    295\n",
              "malaysian                290\n",
              "ayam penyet              236\n",
              "vegetarian               213\n",
              "ramen                    210\n",
              "pasta                    187\n",
              "roti prata               178\n",
              "porridge                 163\n",
              "snacks                   161\n",
              "indonesian               148\n",
              "healthy                  145\n",
              "bakery                   132\n",
              "curry                    126\n",
              "bak kut teh              117\n",
              "yong tau foo             114\n",
              "vietnamese               104\n",
              "beverages                 98\n",
              "grill                     92\n",
              "italian                   70\n",
              "mexican                   58\n",
              "pancakes and waffles      47\n",
              "fries                     38\n",
              "donut                     35\n",
              "wraps                     35\n",
              "salads                    30\n",
              "tea                       30\n",
              "satay                     28\n",
              "pho                       27\n",
              "international             27\n",
              "laksa                     24\n",
              "greek                     23\n",
              "hokkien mee               21\n",
              "acai bowl                 15\n",
              "fish soup                 12\n",
              "turkish                   12\n",
              "kaya toast                11\n",
              "filipino                  11\n",
              "halal                     10\n",
              "fast food                  8\n",
              "chicken wings              7\n",
              "ban mian                   7\n",
              "german                     4\n",
              "spanish                    3\n",
              "mala soups                 3\n",
              "french                     2\n",
              "lebanese                   2\n",
              "Name: count, dtype: int64"
            ]
          },
          "execution_count": 20,
          "metadata": {},
          "output_type": "execute_result"
        }
      ],
      "source": [
        "# top 20 most popular cuisines\n",
        "full_data[\"primary_cuisine\"].value_counts(dropna=False).head(73)"
      ]
    },
    {
      "cell_type": "code",
      "execution_count": 21,
      "id": "d569c2fb-4c5b-4ce5-9a6c-2a67259c8b08",
      "metadata": {
        "execution": {
          "iopub.execute_input": "2025-10-25T20:20:58.673198Z",
          "iopub.status.busy": "2025-10-25T20:20:58.672700Z",
          "iopub.status.idle": "2025-10-25T20:20:58.685744Z",
          "shell.execute_reply": "2025-10-25T20:20:58.683142Z",
          "shell.execute_reply.started": "2025-10-25T20:20:58.673154Z"
        },
        "id": "d569c2fb-4c5b-4ce5-9a6c-2a67259c8b08"
      },
      "outputs": [],
      "source": [
        "global_cuisine_category = {\n",
        "    \"japanese\": \"japanese\",\n",
        "    \"ramen\": \"japanese\",\n",
        "    \"sushi\": \"japanese\",\n",
        "\n",
        "    \" korean\": \" korean\",\n",
        "\n",
        "    \"chinese\": \"chinese\",\n",
        "    \"dim sum\": \"chinese\",\n",
        "    \"bak kut teh\": \"chinese\",\n",
        "    \"mala xiang guo\": \"chinese\",\n",
        "    \"mala soups\": \"chinese\",\n",
        "    \"hokkien mee\": \"chinese\",\n",
        "    \"noodles\": \"chinese\",\n",
        "    \"tea\": \"chinese\",\n",
        "\n",
        "    \"indian\": \"indian\",\n",
        "    \"curry\": \"indian\",\n",
        "\n",
        "    \"thai\": \"thai\",\n",
        "\n",
        "    \"vietnamese\": \"vietnamese\",\n",
        "    \"pho\": \"vietnamese\",\n",
        "\n",
        "    \"singaporean\": \"singaporean\",\n",
        "    \"chicken rice\": \"singaporean\",\n",
        "    \"ban mian\": \"singaporean\",\n",
        "    \"yong tau foo\": \"singaporean\",\n",
        "\n",
        "    \"indonesian\": \"indonesian\",\n",
        "    \"ayam penyet\": \"indonesian\",\n",
        "\n",
        "    \"malaysian\": \"malaysian\",\n",
        "    \"nasi lemak\": \"malaysian\",\n",
        "    \"roti prata\": \"malaysian\",\n",
        "\n",
        "    \"american\": \"american\",\n",
        "    \"burgers\": \"american\",\n",
        "    \"fried chicken\": \"american\",\n",
        "    \"chicken\": \"american\",\n",
        "    \"sandwiches\": \"american\",\n",
        "    \"grill\": \"american\",\n",
        "    \"fries\": \"american\",\n",
        "    \"fast food\": \"american\",\n",
        "    \"chicken wings\": \"american\",\n",
        "\n",
        "    \"italian\": \"italian\",\n",
        "    \"pizza\": \"italian\",\n",
        "    \"pasta\": \"italian\",\n",
        "\n",
        "    \"french\": \"french\",\n",
        "    \"german\": \"german\",\n",
        "    \"spanish\": \"spanish\",\n",
        "    \"mexican\": \"mexican\",\n",
        "    \"turkish\": \"turkish\",\n",
        "    \"lebanese\": \"lebanese\",\n",
        "\n",
        "    # Reassign rice-based dishes\n",
        "    \"rice dishes\": \"asian\",\n",
        "    \"asian\": \"asian\",\n",
        "    \"fried rice\": \"asian\",\n",
        "    \"seafood\": \"asian\",\n",
        "    \"soups\": \"asian\",\n",
        "    \"filipino\": \"asian\",\n",
        "    \"laksa\": \"asian\",\n",
        "    \"porridge\": \"asian\",\n",
        "    \"fish soup\": \"asian\",\n",
        "\n",
        "    # Everything else defaults to snacks\n",
        "}\n"
      ]
    },
    {
      "cell_type": "code",
      "execution_count": 22,
      "id": "78a49609-3ce3-4194-a72d-262b2a630808",
      "metadata": {
        "colab": {
          "base_uri": "https://localhost:8080/"
        },
        "execution": {
          "iopub.execute_input": "2025-10-25T20:20:59.519016Z",
          "iopub.status.busy": "2025-10-25T20:20:59.518440Z",
          "iopub.status.idle": "2025-10-25T20:20:59.531334Z",
          "shell.execute_reply": "2025-10-25T20:20:59.529005Z",
          "shell.execute_reply.started": "2025-10-25T20:20:59.518965Z"
        },
        "id": "78a49609-3ce3-4194-a72d-262b2a630808",
        "outputId": "1ce0577d-d78c-44a1-9558-f33bb0edc5f4"
      },
      "outputs": [
        {
          "data": {
            "text/plain": [
              "array(['japanese', ' korean', 'chinese', 'indian', 'thai', 'vietnamese',\n",
              "       'singaporean', 'indonesian', 'malaysian', 'american', 'italian',\n",
              "       'french', 'german', 'spanish', 'mexican', 'turkish', 'lebanese',\n",
              "       'asian'], dtype=object)"
            ]
          },
          "execution_count": 22,
          "metadata": {},
          "output_type": "execute_result"
        }
      ],
      "source": [
        "pd.Series(global_cuisine_category.values()).unique()"
      ]
    },
    {
      "cell_type": "code",
      "execution_count": 23,
      "id": "8f843c2b-9d05-4cca-91b4-7b6f757a4bb4",
      "metadata": {
        "colab": {
          "base_uri": "https://localhost:8080/"
        },
        "execution": {
          "iopub.execute_input": "2025-10-25T20:21:00.262099Z",
          "iopub.status.busy": "2025-10-25T20:21:00.261638Z",
          "iopub.status.idle": "2025-10-25T20:21:00.271888Z",
          "shell.execute_reply": "2025-10-25T20:21:00.268829Z",
          "shell.execute_reply.started": "2025-10-25T20:21:00.262060Z"
        },
        "id": "8f843c2b-9d05-4cca-91b4-7b6f757a4bb4",
        "outputId": "869a0eff-61eb-4b6f-d8a1-8de7fb283a4b"
      },
      "outputs": [
        {
          "data": {
            "text/plain": [
              "18"
            ]
          },
          "execution_count": 23,
          "metadata": {},
          "output_type": "execute_result"
        }
      ],
      "source": [
        "pd.Series(global_cuisine_category.values()).nunique()"
      ]
    },
    {
      "cell_type": "code",
      "execution_count": 24,
      "id": "ac96378f-54e2-4fa4-ba92-228352d4eabb",
      "metadata": {
        "colab": {
          "base_uri": "https://localhost:8080/"
        },
        "execution": {
          "iopub.execute_input": "2025-10-25T20:21:00.849392Z",
          "iopub.status.busy": "2025-10-25T20:21:00.848906Z",
          "iopub.status.idle": "2025-10-25T20:21:00.873536Z",
          "shell.execute_reply": "2025-10-25T20:21:00.869961Z",
          "shell.execute_reply.started": "2025-10-25T20:21:00.849350Z"
        },
        "id": "ac96378f-54e2-4fa4-ba92-228352d4eabb",
        "outputId": "a361e25b-c27e-4d7b-f181-c0a7f94088b0"
      },
      "outputs": [
        {
          "name": "stderr",
          "output_type": "stream",
          "text": [
            "/tmp/ipykernel_37480/2676602241.py:2: FutureWarning: A value is trying to be set on a copy of a DataFrame or Series through chained assignment using an inplace method.\n",
            "The behavior will change in pandas 3.0. This inplace method will never work because the intermediate object on which we are setting values always behaves as a copy.\n",
            "\n",
            "For example, when doing 'df[col].method(value, inplace=True)', try using 'df.method({col: value}, inplace=True)' or df[col] = df[col].method(value) instead, to perform the operation inplace on the original object.\n",
            "\n",
            "\n",
            "  full_data['cuisine_origin'].fillna('snacks', inplace=True)\n"
          ]
        }
      ],
      "source": [
        "full_data['cuisine_origin'] = full_data['primary_cuisine'].str.strip().map(global_cuisine_category)\n",
        "full_data['cuisine_origin'].fillna('snacks', inplace=True)\n"
      ]
    },
    {
      "cell_type": "code",
      "execution_count": 25,
      "id": "d20a62dc-0219-4efb-aad4-82e57f6c7809",
      "metadata": {
        "colab": {
          "base_uri": "https://localhost:8080/"
        },
        "execution": {
          "iopub.execute_input": "2025-10-25T20:21:02.204460Z",
          "iopub.status.busy": "2025-10-25T20:21:02.203860Z",
          "iopub.status.idle": "2025-10-25T20:21:02.223015Z",
          "shell.execute_reply": "2025-10-25T20:21:02.220469Z",
          "shell.execute_reply.started": "2025-10-25T20:21:02.204415Z"
        },
        "id": "d20a62dc-0219-4efb-aad4-82e57f6c7809",
        "outputId": "3255462b-02d9-4c29-fe66-1f6f2c612b0c"
      },
      "outputs": [
        {
          "name": "stdout",
          "output_type": "stream",
          "text": [
            "            primary_cuisine cuisine_origin\n",
            "3347              acai bowl         snacks\n",
            "66                 american       american\n",
            "51                    asian          asian\n",
            "170             ayam penyet     indonesian\n",
            "2915            bak kut teh        chinese\n",
            "41                   bakery         snacks\n",
            "2420               ban mian    singaporean\n",
            "208               beverages         snacks\n",
            "195              bubble tea         snacks\n",
            "30                  burgers       american\n",
            "429                   cakes         snacks\n",
            "189                 chicken       american\n",
            "90             chicken rice    singaporean\n",
            "12491         chicken wings       american\n",
            "103                 chinese        chinese\n",
            "57                   coffee         snacks\n",
            "376                   curry         indian\n",
            "32                  dessert         snacks\n",
            "196                dim sum         chinese\n",
            "889                   donut         snacks\n",
            "641               fast food       american\n",
            "12876              filipino          asian\n",
            "399               fish soup          asian\n",
            "5675                 french         french\n",
            "81            fried chicken       american\n",
            "87               fried rice          asian\n",
            "1928                  fries       american\n",
            "7508                 german         german\n",
            "465                   greek         snacks\n",
            "1814                  grill       american\n",
            "529                   halal         snacks\n",
            "97                  healthy         snacks\n",
            "3621            hokkien mee        chinese\n",
            "24                   indian         indian\n",
            "218              indonesian     indonesian\n",
            "5294          international         snacks\n",
            "1480                italian        italian\n",
            "48                 japanese       japanese\n",
            "4979             kaya toast         snacks\n",
            "47                   korean         snacks\n",
            "921                   laksa          asian\n",
            "9155               lebanese       lebanese\n",
            "4628             mala soups        chinese\n",
            "88           mala xiang guo        chinese\n",
            "72                malaysian      malaysian\n",
            "1004                mexican        mexican\n",
            "155              nasi lemak      malaysian\n",
            "59                  noodles        chinese\n",
            "2692   pancakes and waffles         snacks\n",
            "20                    pasta        italian\n",
            "2132                    pho     vietnamese\n",
            "17                    pizza        italian\n",
            "649                porridge          asian\n",
            "0                     ramen       japanese\n",
            "533             rice dishes          asian\n",
            "174              roti prata      malaysian\n",
            "3200                 salads         snacks\n",
            "268              sandwiches       american\n",
            "1473                  satay         snacks\n",
            "226                 seafood          asian\n",
            "65              singaporean    singaporean\n",
            "799                  snacks         snacks\n",
            "55                    soups          asian\n",
            "466                 spanish        spanish\n",
            "198                   sushi       japanese\n",
            "631                     tea        chinese\n",
            "37                     thai           thai\n",
            "3058                turkish        turkish\n",
            "92               vegetarian         snacks\n",
            "13               vietnamese     vietnamese\n",
            "5                   western         snacks\n",
            "5098                  wraps         snacks\n",
            "657            yong tau foo    singaporean\n"
          ]
        }
      ],
      "source": [
        "print(full_data[['primary_cuisine', 'cuisine_origin']].drop_duplicates().sort_values(by='primary_cuisine'))\n"
      ]
    },
    {
      "cell_type": "code",
      "execution_count": 26,
      "id": "4fbd85b7-b42a-4624-a420-3bafbf24e513",
      "metadata": {
        "colab": {
          "base_uri": "https://localhost:8080/",
          "height": 504
        },
        "execution": {
          "iopub.execute_input": "2025-10-25T20:21:03.297271Z",
          "iopub.status.busy": "2025-10-25T20:21:03.296906Z",
          "iopub.status.idle": "2025-10-25T20:21:03.318457Z",
          "shell.execute_reply": "2025-10-25T20:21:03.315704Z",
          "shell.execute_reply.started": "2025-10-25T20:21:03.297227Z"
        },
        "id": "4fbd85b7-b42a-4624-a420-3bafbf24e513",
        "outputId": "9d2a7df7-a64b-4a61-bd6c-deaa8f50f92e"
      },
      "outputs": [
        {
          "data": {
            "text/html": [
              "<div>\n",
              "<style scoped>\n",
              "    .dataframe tbody tr th:only-of-type {\n",
              "        vertical-align: middle;\n",
              "    }\n",
              "\n",
              "    .dataframe tbody tr th {\n",
              "        vertical-align: top;\n",
              "    }\n",
              "\n",
              "    .dataframe thead th {\n",
              "        text-align: right;\n",
              "    }\n",
              "</style>\n",
              "<table border=\"1\" class=\"dataframe\">\n",
              "  <thead>\n",
              "    <tr style=\"text-align: right;\">\n",
              "      <th></th>\n",
              "      <th>customer_id</th>\n",
              "      <th>geohash_x</th>\n",
              "      <th>order_id</th>\n",
              "      <th>vendor_id</th>\n",
              "      <th>product_id</th>\n",
              "      <th>day_of_week</th>\n",
              "      <th>order_time</th>\n",
              "      <th>order_day</th>\n",
              "      <th>name</th>\n",
              "      <th>unit_price</th>\n",
              "      <th>chain_id</th>\n",
              "      <th>geohash_y</th>\n",
              "      <th>primary_cuisine</th>\n",
              "      <th>cuisine_origin</th>\n",
              "    </tr>\n",
              "  </thead>\n",
              "  <tbody>\n",
              "    <tr>\n",
              "      <th>0</th>\n",
              "      <td>1ba124d4e5</td>\n",
              "      <td>w21z7</td>\n",
              "      <td>0</td>\n",
              "      <td>212753d2</td>\n",
              "      <td>783e85338f1c</td>\n",
              "      <td>0</td>\n",
              "      <td>12:03:29</td>\n",
              "      <td>85 days</td>\n",
              "      <td>201. Japanese Garlic Karaage Don</td>\n",
              "      <td>0.0060</td>\n",
              "      <td>66c9978d</td>\n",
              "      <td>w21z7</td>\n",
              "      <td>ramen</td>\n",
              "      <td>japanese</td>\n",
              "    </tr>\n",
              "    <tr>\n",
              "      <th>1</th>\n",
              "      <td>1ba124d4e5</td>\n",
              "      <td>w21z7</td>\n",
              "      <td>0</td>\n",
              "      <td>212753d2</td>\n",
              "      <td>084ab73246e6</td>\n",
              "      <td>0</td>\n",
              "      <td>12:03:29</td>\n",
              "      <td>85 days</td>\n",
              "      <td>204. Chicken Cutlet Don</td>\n",
              "      <td>0.0068</td>\n",
              "      <td>66c9978d</td>\n",
              "      <td>w21z7</td>\n",
              "      <td>ramen</td>\n",
              "      <td>japanese</td>\n",
              "    </tr>\n",
              "    <tr>\n",
              "      <th>2</th>\n",
              "      <td>1ba124d4e5</td>\n",
              "      <td>w21z7</td>\n",
              "      <td>0</td>\n",
              "      <td>212753d2</td>\n",
              "      <td>30eba3cc2676</td>\n",
              "      <td>0</td>\n",
              "      <td>12:03:29</td>\n",
              "      <td>85 days</td>\n",
              "      <td>206. Beef Sukiyaki Don</td>\n",
              "      <td>0.0068</td>\n",
              "      <td>66c9978d</td>\n",
              "      <td>w21z7</td>\n",
              "      <td>ramen</td>\n",
              "      <td>japanese</td>\n",
              "    </tr>\n",
              "    <tr>\n",
              "      <th>3</th>\n",
              "      <td>1ba124d4e5</td>\n",
              "      <td>w21z7</td>\n",
              "      <td>0</td>\n",
              "      <td>212753d2</td>\n",
              "      <td>3910309eea60</td>\n",
              "      <td>0</td>\n",
              "      <td>12:03:29</td>\n",
              "      <td>85 days</td>\n",
              "      <td>209. Japanese Beef Yakiniku Don</td>\n",
              "      <td>0.0068</td>\n",
              "      <td>66c9978d</td>\n",
              "      <td>w21z7</td>\n",
              "      <td>ramen</td>\n",
              "      <td>japanese</td>\n",
              "    </tr>\n",
              "    <tr>\n",
              "      <th>4</th>\n",
              "      <td>1ba124d4e5</td>\n",
              "      <td>w21z7</td>\n",
              "      <td>0</td>\n",
              "      <td>212753d2</td>\n",
              "      <td>20049fb602cb</td>\n",
              "      <td>0</td>\n",
              "      <td>12:03:29</td>\n",
              "      <td>85 days</td>\n",
              "      <td>210. Teriyaki Salmon Don</td>\n",
              "      <td>0.0080</td>\n",
              "      <td>66c9978d</td>\n",
              "      <td>w21z7</td>\n",
              "      <td>ramen</td>\n",
              "      <td>japanese</td>\n",
              "    </tr>\n",
              "  </tbody>\n",
              "</table>\n",
              "</div>"
            ],
            "text/plain": [
              "  customer_id geohash_x  order_id vendor_id    product_id  day_of_week  \\\n",
              "0  1ba124d4e5     w21z7         0  212753d2  783e85338f1c            0   \n",
              "1  1ba124d4e5     w21z7         0  212753d2  084ab73246e6            0   \n",
              "2  1ba124d4e5     w21z7         0  212753d2  30eba3cc2676            0   \n",
              "3  1ba124d4e5     w21z7         0  212753d2  3910309eea60            0   \n",
              "4  1ba124d4e5     w21z7         0  212753d2  20049fb602cb            0   \n",
              "\n",
              "  order_time order_day                              name  unit_price  \\\n",
              "0   12:03:29   85 days  201. Japanese Garlic Karaage Don      0.0060   \n",
              "1   12:03:29   85 days           204. Chicken Cutlet Don      0.0068   \n",
              "2   12:03:29   85 days            206. Beef Sukiyaki Don      0.0068   \n",
              "3   12:03:29   85 days   209. Japanese Beef Yakiniku Don      0.0068   \n",
              "4   12:03:29   85 days          210. Teriyaki Salmon Don      0.0080   \n",
              "\n",
              "   chain_id geohash_y primary_cuisine cuisine_origin  \n",
              "0  66c9978d     w21z7           ramen       japanese  \n",
              "1  66c9978d     w21z7           ramen       japanese  \n",
              "2  66c9978d     w21z7           ramen       japanese  \n",
              "3  66c9978d     w21z7           ramen       japanese  \n",
              "4  66c9978d     w21z7           ramen       japanese  "
            ]
          },
          "execution_count": 26,
          "metadata": {},
          "output_type": "execute_result"
        }
      ],
      "source": [
        "full_data.head()"
      ]
    },
    {
      "cell_type": "code",
      "execution_count": 27,
      "id": "8ae114ac-ea9e-4dad-99c4-eeb23739d744",
      "metadata": {
        "colab": {
          "base_uri": "https://localhost:8080/"
        },
        "execution": {
          "iopub.execute_input": "2025-10-25T20:21:04.159258Z",
          "iopub.status.busy": "2025-10-25T20:21:04.158726Z",
          "iopub.status.idle": "2025-10-25T20:21:04.324106Z",
          "shell.execute_reply": "2025-10-25T20:21:04.320477Z",
          "shell.execute_reply.started": "2025-10-25T20:21:04.159215Z"
        },
        "id": "8ae114ac-ea9e-4dad-99c4-eeb23739d744",
        "outputId": "e11bd13a-900c-460f-eab4-a529d154a95d"
      },
      "outputs": [
        {
          "name": "stdout",
          "output_type": "stream",
          "text": [
            "/home/rema/code/Alanoudis/food-delivery-rec/notebooks/rema\n"
          ]
        }
      ],
      "source": [
        "!pwd"
      ]
    },
    {
      "cell_type": "code",
      "execution_count": 28,
      "id": "3c7b52e0-7a77-4045-9a41-101d5d7b7593",
      "metadata": {
        "execution": {
          "iopub.execute_input": "2025-10-25T20:21:05.786645Z",
          "iopub.status.busy": "2025-10-25T20:21:05.786082Z",
          "iopub.status.idle": "2025-10-25T20:21:05.853730Z",
          "shell.execute_reply": "2025-10-25T20:21:05.851492Z",
          "shell.execute_reply.started": "2025-10-25T20:21:05.786598Z"
        },
        "id": "3c7b52e0-7a77-4045-9a41-101d5d7b7593"
      },
      "outputs": [],
      "source": [
        "full_data[[\"name\"]].to_csv(\"meals.csv\")"
      ]
    },
    {
      "cell_type": "code",
      "execution_count": 29,
      "id": "9529731a-c2d0-4632-ae87-5769610f86e9",
      "metadata": {
        "execution": {
          "iopub.execute_input": "2025-10-25T20:21:06.490826Z",
          "iopub.status.busy": "2025-10-25T20:21:06.490192Z",
          "iopub.status.idle": "2025-10-25T20:21:06.519795Z",
          "shell.execute_reply": "2025-10-25T20:21:06.517441Z",
          "shell.execute_reply.started": "2025-10-25T20:21:06.490770Z"
        },
        "id": "9529731a-c2d0-4632-ae87-5769610f86e9"
      },
      "outputs": [],
      "source": [
        "df = pd.read_csv('meals.csv')"
      ]
    },
    {
      "cell_type": "code",
      "execution_count": 30,
      "id": "906b0706-f1fe-4fb2-b23a-4b4932791d9d",
      "metadata": {
        "colab": {
          "base_uri": "https://localhost:8080/",
          "height": 206
        },
        "execution": {
          "iopub.execute_input": "2025-10-25T20:21:07.018924Z",
          "iopub.status.busy": "2025-10-25T20:21:07.018362Z",
          "iopub.status.idle": "2025-10-25T20:21:07.033023Z",
          "shell.execute_reply": "2025-10-25T20:21:07.030393Z",
          "shell.execute_reply.started": "2025-10-25T20:21:07.018875Z"
        },
        "id": "906b0706-f1fe-4fb2-b23a-4b4932791d9d",
        "outputId": "ae4a5224-b3ed-48e5-813b-3f2d03be799d"
      },
      "outputs": [
        {
          "data": {
            "text/html": [
              "<div>\n",
              "<style scoped>\n",
              "    .dataframe tbody tr th:only-of-type {\n",
              "        vertical-align: middle;\n",
              "    }\n",
              "\n",
              "    .dataframe tbody tr th {\n",
              "        vertical-align: top;\n",
              "    }\n",
              "\n",
              "    .dataframe thead th {\n",
              "        text-align: right;\n",
              "    }\n",
              "</style>\n",
              "<table border=\"1\" class=\"dataframe\">\n",
              "  <thead>\n",
              "    <tr style=\"text-align: right;\">\n",
              "      <th></th>\n",
              "      <th>Unnamed: 0</th>\n",
              "      <th>name</th>\n",
              "    </tr>\n",
              "  </thead>\n",
              "  <tbody>\n",
              "    <tr>\n",
              "      <th>0</th>\n",
              "      <td>0</td>\n",
              "      <td>201. Japanese Garlic Karaage Don</td>\n",
              "    </tr>\n",
              "    <tr>\n",
              "      <th>1</th>\n",
              "      <td>1</td>\n",
              "      <td>204. Chicken Cutlet Don</td>\n",
              "    </tr>\n",
              "    <tr>\n",
              "      <th>2</th>\n",
              "      <td>2</td>\n",
              "      <td>206. Beef Sukiyaki Don</td>\n",
              "    </tr>\n",
              "    <tr>\n",
              "      <th>3</th>\n",
              "      <td>3</td>\n",
              "      <td>209. Japanese Beef Yakiniku Don</td>\n",
              "    </tr>\n",
              "    <tr>\n",
              "      <th>4</th>\n",
              "      <td>4</td>\n",
              "      <td>210. Teriyaki Salmon Don</td>\n",
              "    </tr>\n",
              "  </tbody>\n",
              "</table>\n",
              "</div>"
            ],
            "text/plain": [
              "   Unnamed: 0                              name\n",
              "0           0  201. Japanese Garlic Karaage Don\n",
              "1           1           204. Chicken Cutlet Don\n",
              "2           2            206. Beef Sukiyaki Don\n",
              "3           3   209. Japanese Beef Yakiniku Don\n",
              "4           4          210. Teriyaki Salmon Don"
            ]
          },
          "execution_count": 30,
          "metadata": {},
          "output_type": "execute_result"
        }
      ],
      "source": [
        "df.head()"
      ]
    },
    {
      "cell_type": "code",
      "execution_count": 31,
      "id": "1924dba0-325c-4bfd-9335-9796d19b78ef",
      "metadata": {
        "execution": {
          "iopub.execute_input": "2025-10-25T20:21:07.966233Z",
          "iopub.status.busy": "2025-10-25T20:21:07.965688Z",
          "iopub.status.idle": "2025-10-25T20:21:07.976318Z",
          "shell.execute_reply": "2025-10-25T20:21:07.973476Z",
          "shell.execute_reply.started": "2025-10-25T20:21:07.966181Z"
        },
        "id": "1924dba0-325c-4bfd-9335-9796d19b78ef"
      },
      "outputs": [],
      "source": [
        "df = df.drop(columns=['Unnamed: 0'], errors='ignore')"
      ]
    },
    {
      "cell_type": "markdown",
      "id": "438f30c6-bfe2-48be-9907-cccee6c2742f",
      "metadata": {
        "id": "438f30c6-bfe2-48be-9907-cccee6c2742f"
      },
      "source": [
        "### 🟦  Clean the Dish Names"
      ]
    },
    {
      "cell_type": "code",
      "execution_count": 32,
      "id": "125cb792-11ef-400f-8d56-b58b9f09c999",
      "metadata": {
        "execution": {
          "iopub.execute_input": "2025-10-25T20:33:27.352211Z",
          "iopub.status.busy": "2025-10-25T20:33:27.336926Z",
          "iopub.status.idle": "2025-10-25T20:33:27.569333Z",
          "shell.execute_reply": "2025-10-25T20:33:27.562281Z",
          "shell.execute_reply.started": "2025-10-25T20:33:27.351157Z"
        },
        "id": "125cb792-11ef-400f-8d56-b58b9f09c999"
      },
      "outputs": [],
      "source": [
        "import re\n",
        "\n",
        "def clean_text(text):\n",
        "    text = str(text).lower()\n",
        "    text = re.sub(r'\\d+\\.', '', text)         # Remove leading numbers like \"204.\"\n",
        "    text = re.sub(r'[^\\w\\s]', '', text)       # Remove punctuation\n",
        "    text = re.sub(r'\\d+', '', text)           # Remove remaining numbers\n",
        "    text = text.strip()\n",
        "    return text\n",
        "\n",
        "df['name_cleaned'] = df['name'].fillna('').apply(clean_text)\n"
      ]
    },
    {
      "cell_type": "code",
      "execution_count": 33,
      "id": "782d8ee7-347f-460a-99c7-df321d03988b",
      "metadata": {
        "colab": {
          "base_uri": "https://localhost:8080/",
          "height": 241
        },
        "execution": {
          "iopub.execute_input": "2025-10-25T20:33:27.787414Z",
          "iopub.status.busy": "2025-10-25T20:33:27.786925Z",
          "iopub.status.idle": "2025-10-25T20:33:27.855205Z",
          "shell.execute_reply": "2025-10-25T20:33:27.847665Z",
          "shell.execute_reply.started": "2025-10-25T20:33:27.787379Z"
        },
        "id": "782d8ee7-347f-460a-99c7-df321d03988b",
        "outputId": "731e3884-b579-4ca6-ecd0-bbff76c58192"
      },
      "outputs": [
        {
          "data": {
            "text/plain": [
              "0    japanese garlic karaage don\n",
              "1             chicken cutlet don\n",
              "2              beef sukiyaki don\n",
              "3     japanese beef yakiniku don\n",
              "4            teriyaki salmon don\n",
              "Name: name_cleaned, dtype: object"
            ]
          },
          "execution_count": 33,
          "metadata": {},
          "output_type": "execute_result"
        }
      ],
      "source": [
        "df['name_cleaned'].head()"
      ]
    },
    {
      "cell_type": "markdown",
      "id": "48996446-5df3-4ce3-880a-afa9e4db7c1a",
      "metadata": {
        "id": "48996446-5df3-4ce3-880a-afa9e4db7c1a"
      },
      "source": [
        "### 🟦 Create TF-IDF Matrix"
      ]
    },
    {
      "cell_type": "code",
      "execution_count": 34,
      "id": "b78d7304-a190-4bf4-9f17-811f93e5720c",
      "metadata": {
        "colab": {
          "base_uri": "https://localhost:8080/"
        },
        "execution": {
          "iopub.execute_input": "2025-10-25T20:33:29.163089Z",
          "iopub.status.busy": "2025-10-25T20:33:29.162625Z",
          "iopub.status.idle": "2025-10-25T20:33:29.398574Z",
          "shell.execute_reply": "2025-10-25T20:33:29.395900Z",
          "shell.execute_reply.started": "2025-10-25T20:33:29.163048Z"
        },
        "id": "b78d7304-a190-4bf4-9f17-811f93e5720c",
        "outputId": "7338cd1e-1bed-406f-eef7-0ee5a1d3ca54"
      },
      "outputs": [
        {
          "name": "stdout",
          "output_type": "stream",
          "text": [
            "✅ TF-IDF matrix created.\n",
            "Matrix shape: (25000, 6259)\n"
          ]
        }
      ],
      "source": [
        "from sklearn.feature_extraction.text import TfidfVectorizer\n",
        "\n",
        "# Initialize vectorizer\n",
        "tfidf_vectorizer = TfidfVectorizer(stop_words='english')\n",
        "\n",
        "# Fit and transform\n",
        "tfidf_matrix = tfidf_vectorizer.fit_transform(df['name_cleaned'])\n",
        "\n",
        "# Summary\n",
        "print(\"✅ TF-IDF matrix created.\")\n",
        "print(f\"Matrix shape: {tfidf_matrix.shape}\")\n"
      ]
    },
    {
      "cell_type": "markdown",
      "id": "8ed13c3f-1846-4196-a002-f261a24061dc",
      "metadata": {
        "id": "8ed13c3f-1846-4196-a002-f261a24061dc"
      },
      "source": [
        "### 🟦 Compute Cosine Similarity"
      ]
    },
    {
      "cell_type": "code",
      "execution_count": 35,
      "id": "43cd8d13-8e0e-4988-9946-09bdbacc56ed",
      "metadata": {
        "execution": {
          "iopub.execute_input": "2025-10-25T20:33:30.804083Z",
          "iopub.status.busy": "2025-10-25T20:33:30.803565Z",
          "iopub.status.idle": "2025-10-25T20:33:33.302962Z",
          "shell.execute_reply": "2025-10-25T20:33:33.290590Z",
          "shell.execute_reply.started": "2025-10-25T20:33:30.804048Z"
        },
        "id": "43cd8d13-8e0e-4988-9946-09bdbacc56ed"
      },
      "outputs": [],
      "source": [
        "from sklearn.metrics.pairwise import cosine_similarity\n",
        "\n",
        "# Compute similarity\n",
        "cosine_sim_matrix = cosine_similarity(tfidf_matrix)\n",
        "\n",
        "# Preview\n",
        "#print(\"✅ Cosine similarity matrix built.\")\n",
        "#print(\"Top-left 5x5 sample:\")\n",
        "#print(cosine_sim_matrix[:5, :5])\n"
      ]
    },
    {
      "cell_type": "markdown",
      "id": "3f1669c0-9abf-4006-9cb2-b91c98056081",
      "metadata": {
        "id": "3f1669c0-9abf-4006-9cb2-b91c98056081"
      },
      "source": [
        "### 🟦  Build Recommender Function"
      ]
    },
    {
      "cell_type": "code",
      "execution_count": 36,
      "id": "3fb329bb-2b11-47ec-a896-d66e2b71267a",
      "metadata": {
        "execution": {
          "iopub.execute_input": "2025-10-25T20:33:36.332859Z",
          "iopub.status.busy": "2025-10-25T20:33:36.330229Z",
          "iopub.status.idle": "2025-10-25T20:33:36.464302Z",
          "shell.execute_reply": "2025-10-25T20:33:36.460220Z",
          "shell.execute_reply.started": "2025-10-25T20:33:36.332521Z"
        },
        "id": "3fb329bb-2b11-47ec-a896-d66e2b71267a"
      },
      "outputs": [],
      "source": [
        "# Create a lookup index using cleaned names, keeping only the first match\n",
        "indices = df['name_cleaned'].drop_duplicates().reset_index(drop=True)\n",
        "lookup = pd.Series(indices.index, index=indices.values)\n"
      ]
    },
    {
      "cell_type": "code",
      "execution_count": 37,
      "id": "634df172-b0b1-440a-86cb-8c04870102c1",
      "metadata": {
        "execution": {
          "iopub.execute_input": "2025-10-25T20:33:36.911758Z",
          "iopub.status.busy": "2025-10-25T20:33:36.911164Z",
          "iopub.status.idle": "2025-10-25T20:33:37.130807Z",
          "shell.execute_reply": "2025-10-25T20:33:37.127167Z",
          "shell.execute_reply.started": "2025-10-25T20:33:36.911722Z"
        },
        "id": "634df172-b0b1-440a-86cb-8c04870102c1"
      },
      "outputs": [],
      "source": [
        "def get_similar_meals(title, cosine_sim=cosine_sim_matrix, lookup=lookup, df=df):\n",
        "    try:\n",
        "        title_cleaned = clean_text(title)\n",
        "\n",
        "        if title_cleaned not in lookup:\n",
        "            return f\"Meal '{title}' not found in the dataset.\"\n",
        "\n",
        "        idx = lookup[title_cleaned]\n",
        "\n",
        "        sim_scores = list(enumerate(cosine_sim[idx]))\n",
        "        sim_scores = sorted(sim_scores, key=lambda x: x[1], reverse=True)\n",
        "        sim_scores = [score for score in sim_scores if score[0] != idx][:10]\n",
        "        meal_indices = [i[0] for i in sim_scores]\n",
        "\n",
        "        return df['name_cleaned'].iloc[meal_indices]\n",
        "\n",
        "    except Exception as e:\n",
        "        return f\"Error: {e}\"\n"
      ]
    },
    {
      "cell_type": "markdown",
      "id": "dbe6301d-a3c8-47e4-8d88-ce7652375ff0",
      "metadata": {
        "id": "dbe6301d-a3c8-47e4-8d88-ce7652375ff0"
      },
      "source": [
        "### 🟦 Test the Recommender"
      ]
    },
    {
      "cell_type": "code",
      "execution_count": 38,
      "id": "73c9d4bd-cfb5-4811-ac6c-9d93e0ddf643",
      "metadata": {
        "colab": {
          "base_uri": "https://localhost:8080/"
        },
        "execution": {
          "iopub.execute_input": "2025-10-25T20:33:38.867551Z",
          "iopub.status.busy": "2025-10-25T20:33:38.866543Z",
          "iopub.status.idle": "2025-10-25T20:33:39.015229Z",
          "shell.execute_reply": "2025-10-25T20:33:39.011918Z",
          "shell.execute_reply.started": "2025-10-25T20:33:38.867490Z"
        },
        "id": "73c9d4bd-cfb5-4811-ac6c-9d93e0ddf643",
        "outputId": "1423bdec-e850-401e-ed22-01c8a2a28a38"
      },
      "outputs": [
        {
          "name": "stdout",
          "output_type": "stream",
          "text": [
            "3242     chicken cutlet don\n",
            "23020    chicken cutlet don\n",
            "4546         chicken cutlet\n",
            "5465       m chicken cutlet\n",
            "5720         chicken cutlet\n",
            "9766       a chicken cutlet\n",
            "9768       a chicken cutlet\n",
            "15485        chicken cutlet\n",
            "16851        chicken cutlet\n",
            "17346        chicken cutlet\n",
            "Name: name_cleaned, dtype: object\n"
          ]
        }
      ],
      "source": [
        "test_meal = \"chicken cutlet don\"\n",
        "similar_meals = get_similar_meals(test_meal)\n",
        "print(similar_meals)"
      ]
    },
    {
      "cell_type": "code",
      "execution_count": 39,
      "id": "090cba3f-fe7b-48b5-a831-2f773bc625cd",
      "metadata": {
        "colab": {
          "base_uri": "https://localhost:8080/"
        },
        "execution": {
          "iopub.execute_input": "2025-10-25T20:33:40.256723Z",
          "iopub.status.busy": "2025-10-25T20:33:40.256303Z",
          "iopub.status.idle": "2025-10-25T20:33:41.748650Z",
          "shell.execute_reply": "2025-10-25T20:33:41.745567Z",
          "shell.execute_reply.started": "2025-10-25T20:33:40.256687Z"
        },
        "id": "090cba3f-fe7b-48b5-a831-2f773bc625cd",
        "outputId": "62c3eea0-9a81-4f60-e76a-15373cf412ef"
      },
      "outputs": [
        {
          "name": "stdout",
          "output_type": "stream",
          "text": [
            "3241     japanese garlic karaage don\n",
            "20413    japanese garlic karaage don\n",
            "20414    japanese garlic karaage don\n",
            "10232    japanese karaage curry rice\n",
            "3         japanese beef yakiniku don\n",
            "9170      japanese beef yakiniku don\n",
            "4055                   japanese rice\n",
            "11416                        karaage\n",
            "11420                        karaage\n",
            "16899                        karaage\n",
            "Name: name_cleaned, dtype: object\n"
          ]
        }
      ],
      "source": [
        "test_meal = \"japanese garlic karaage don\"\n",
        "similar_meals = get_similar_meals(test_meal)\n",
        "print(similar_meals)\n"
      ]
    },
    {
      "cell_type": "code",
      "execution_count": 40,
      "id": "99a6232b-35ab-43df-a97b-f990e4bdeb6a",
      "metadata": {
        "colab": {
          "base_uri": "https://localhost:8080/"
        },
        "execution": {
          "iopub.execute_input": "2025-10-25T20:33:43.251345Z",
          "iopub.status.busy": "2025-10-25T20:33:43.250869Z",
          "iopub.status.idle": "2025-10-25T20:33:43.261552Z",
          "shell.execute_reply": "2025-10-25T20:33:43.258527Z",
          "shell.execute_reply.started": "2025-10-25T20:33:43.251311Z"
        },
        "id": "99a6232b-35ab-43df-a97b-f990e4bdeb6a",
        "outputId": "c6ce487c-e3a1-4236-802a-a8942eea7108"
      },
      "outputs": [
        {
          "name": "stdout",
          "output_type": "stream",
          "text": [
            "Meal 'sushis' not found in the dataset.\n"
          ]
        }
      ],
      "source": [
        "test_meal = \"sushis\"\n",
        "similar_meals = get_similar_meals(test_meal)\n",
        "print(similar_meals)"
      ]
    },
    {
      "cell_type": "code",
      "execution_count": 41,
      "id": "c7c3eabb-854e-4cf3-94c5-9c3635760b1e",
      "metadata": {
        "execution": {
          "iopub.execute_input": "2025-10-25T20:44:25.344965Z",
          "iopub.status.busy": "2025-10-25T20:44:25.344119Z",
          "iopub.status.idle": "2025-10-25T20:44:25.360980Z",
          "shell.execute_reply": "2025-10-25T20:44:25.357331Z",
          "shell.execute_reply.started": "2025-10-25T20:44:25.344918Z"
        },
        "id": "c7c3eabb-854e-4cf3-94c5-9c3635760b1e"
      },
      "outputs": [],
      "source": [
        "def get_similar_meals_by_keyword(keyword, df=df):\n",
        "    try:\n",
        "        keyword_cleaned = clean_text(keyword)\n",
        "\n",
        "        # Find all meals that contain the keyword\n",
        "        matches = df[df['name_cleaned'].str.contains(keyword_cleaned, case=False, na=False)]\n",
        "\n",
        "        if matches.empty:\n",
        "            return f\"No meals found containing '{keyword}'.\"\n",
        "\n",
        "        return matches['name_cleaned'].drop_duplicates().reset_index(drop=True)\n",
        "\n",
        "    except Exception as e:\n",
        "        return f\"Error: {e}\"\n"
      ]
    },
    {
      "cell_type": "code",
      "execution_count": 42,
      "id": "7265d023-32e0-4a73-8bc5-f77ce10e366d",
      "metadata": {
        "colab": {
          "base_uri": "https://localhost:8080/",
          "height": 397
        },
        "execution": {
          "iopub.execute_input": "2025-10-25T20:44:25.956834Z",
          "iopub.status.busy": "2025-10-25T20:44:25.956267Z",
          "iopub.status.idle": "2025-10-25T20:44:26.020831Z",
          "shell.execute_reply": "2025-10-25T20:44:26.016865Z",
          "shell.execute_reply.started": "2025-10-25T20:44:25.956776Z"
        },
        "id": "7265d023-32e0-4a73-8bc5-f77ce10e366d",
        "outputId": "c193a373-1899-4ed9-8270-1142144b6b40"
      },
      "outputs": [
        {
          "data": {
            "text/plain": [
              "0                  chicken cutlet don\n",
              "1            chicken cutlet with rice\n",
              "2                        chicken chop\n",
              "3             chicken wings with rice\n",
              "4              chicken chop with rice\n",
              "5                      butter chicken\n",
              "6    chicken wing nasi lemak istimewa\n",
              "7                chicken hor fun 鸡丝河粉\n",
              "8                       chicken piece\n",
              "9             chicken claw noodle 凤爪面\n",
              "Name: name_cleaned, dtype: object"
            ]
          },
          "execution_count": 42,
          "metadata": {},
          "output_type": "execute_result"
        }
      ],
      "source": [
        "test_meal = \"chicken\"\n",
        "similar_meals = get_similar_meals_by_keyword(test_meal)\n",
        "similar_meals.head(10)\n"
      ]
    },
    {
      "cell_type": "code",
      "execution_count": null,
      "id": "0b8cc0ea-a3ca-41c1-9530-bcfaec09aa2d",
      "metadata": {
        "id": "0b8cc0ea-a3ca-41c1-9530-bcfaec09aa2d"
      },
      "outputs": [],
      "source": []
    },
    {
      "cell_type": "code",
      "execution_count": 43,
      "id": "4662a844-e5d8-4c1b-ba08-a489a587a23d",
      "metadata": {
        "colab": {
          "base_uri": "https://localhost:8080/"
        },
        "execution": {
          "iopub.execute_input": "2025-10-25T20:24:32.466823Z",
          "iopub.status.busy": "2025-10-25T20:24:32.456589Z",
          "iopub.status.idle": "2025-10-25T20:24:32.577115Z",
          "shell.execute_reply": "2025-10-25T20:24:32.572400Z",
          "shell.execute_reply.started": "2025-10-25T20:24:32.465269Z"
        },
        "id": "4662a844-e5d8-4c1b-ba08-a489a587a23d",
        "outputId": "14933240-0377-4e58-97ca-37ee444832f4"
      },
      "outputs": [
        {
          "name": "stdout",
          "output_type": "stream",
          "text": [
            "--- Fitting NMF model to find topics ---\n",
            "--- NMF model training complete ---\n",
            "\n",
            "--- Discovered Topics (Main Ideas) ---\n",
            "Topic 0:\n",
            "rice 白饭 white steamed roasted plain fragrant glutinous\n",
            "--------------------\n",
            "Topic 1:\n",
            "chicken chop grilled crispy cutlet teriyaki pc wing\n",
            "--------------------\n",
            "Topic 2:\n",
            "tea milk medium green honey caramel thai oolong\n",
            "--------------------\n",
            "Topic 3:\n",
            "set hotplate saba kee sandwich mala create yew\n",
            "--------------------\n",
            "Topic 4:\n",
            "pcs nuggets new separation wings sauce container sushi\n",
            "--------------------\n",
            "Topic 5:\n",
            "egg braised prata salted mayo century sausage 卤蛋\n",
            "--------------------\n",
            "Topic 6:\n",
            "fish sliced porridge 鱼片粥 sweet sour ball chips\n",
            "--------------------\n",
            "Topic 7:\n",
            "large kopi teh iced ovaltine green yakult tea\n",
            "--------------------\n",
            "Topic 8:\n",
            "fried cake prawn carrot thai dumpling seafood prawns\n",
            "--------------------\n",
            "Topic 9:\n",
            "butter toast kaya traditional sugar peanut french naan\n",
            "--------------------\n",
            "Topic 10:\n",
            "noodle meat minced mushroom noodles wanton dry signature\n",
            "--------------------\n",
            "Topic 11:\n",
            "nasi lemak ayam penyet goreng sambal selected drink\n",
            "--------------------\n",
            "Topic 12:\n",
            "meal buddy double value prosperity upsized mcgriddles zinger\n",
            "--------------------\n",
            "Topic 13:\n",
            "prata plain 米饭 coin pc thosai onion bomb\n",
            "--------------------\n",
            "Topic 14:\n",
            "small bowl extra sauce protein separation 小份 available\n",
            "--------------------\n",
            "Topic 15:\n",
            "soup pork ribs rib tom yum seafood lotus\n",
            "--------------------\n",
            "Topic 16:\n",
            "curry green puff cutlet katsu potato chicken bundle\n",
            "--------------------\n",
            "Topic 17:\n",
            "mee goreng hoon bee siam rebus combo maggi\n",
            "--------------------\n",
            "Topic 18:\n",
            "beef fun hor prosperity braised cheong chee pepper\n",
            "--------------------\n",
            "Topic 19:\n",
            "cheese ham fries sandwich pancake prata naan baked\n",
            "--------------------\n"
          ]
        }
      ],
      "source": [
        "from sklearn.decomposition import NMF\n",
        "\n",
        "# --- 3. Define and Fit the NMF Model ---\n",
        "print(f\"--- Fitting NMF model to find topics ---\")\n",
        "\n",
        "# Define the number of \"main ideas\" you want to find\n",
        "num_topics = 20\n",
        "\n",
        "# Initialize NMF\n",
        "# 'n_components' is the number of topics.\n",
        "# 'random_state' ensures you get the same results every time you run it.\n",
        "# 'init='nndsvda'' is a smart initialization method that often leads to better results.\n",
        "# 'max_iter=500' gives the model more time to converge.\n",
        "nmf_model = NMF(\n",
        "    n_components=num_topics,\n",
        "    random_state=42,\n",
        "    max_iter=500,\n",
        "    init='nndsvda'\n",
        ")\n",
        "\n",
        "# Fit NMF to our TF-IDF matrix\n",
        "# This is the main \"training\" step that discovers the topics.\n",
        "nmf_model.fit(tfidf_matrix)\n",
        "\n",
        "print(\"--- NMF model training complete ---\")\n",
        "\n",
        "\n",
        "# --- 4. Define Function to Display Topics ---\n",
        "\n",
        "# Get the list of all unique words (the \"features\") from the vectorizer\n",
        "feature_names = tfidf_vectorizer.get_feature_names_out()\n",
        "\n",
        "def display_topics(model, feature_names, no_top_words):\n",
        "    \"\"\"Prints the top words for each topic found by the model.\"\"\"\n",
        "    print(\"\\n--- Discovered Topics (Main Ideas) ---\")\n",
        "\n",
        "    # 'model.components_' is a matrix (topics x words)\n",
        "    # Each row is a topic, and the values are the \"importance\" of each word.\n",
        "    for topic_idx, topic in enumerate(model.components_):\n",
        "\n",
        "        # Get the index numbers of the top N words for this topic\n",
        "        top_word_indices = topic.argsort()[:-no_top_words - 1:-1]\n",
        "\n",
        "        # Get the actual words from their index numbers\n",
        "        top_words = [feature_names[i] for i in top_word_indices]\n",
        "\n",
        "        # Print the topic\n",
        "        print(f\"Topic {topic_idx}:\")\n",
        "        print(\" \".join(top_words))\n",
        "        print(\"-\" * 20)\n",
        "\n",
        "# --- 5. Display the Results ---\n",
        "# Show the top 8 words for each of our 20 topics.\n",
        "display_topics(model=nmf_model,\n",
        "               feature_names=feature_names,\n",
        "               no_top_words=8)"
      ]
    },
    {
      "cell_type": "code",
      "execution_count": null,
      "id": "38b8fdf3-9098-469e-9df1-e69205067849",
      "metadata": {
        "id": "38b8fdf3-9098-469e-9df1-e69205067849"
      },
      "outputs": [],
      "source": []
    },
    {
      "cell_type": "code",
      "execution_count": 44,
      "id": "7e4e0fb8-c6e7-4d10-8fc1-8e8b33dce7cb",
      "metadata": {
        "colab": {
          "base_uri": "https://localhost:8080/"
        },
        "execution": {
          "iopub.execute_input": "2025-10-25T20:39:56.276317Z",
          "iopub.status.busy": "2025-10-25T20:39:56.275458Z",
          "iopub.status.idle": "2025-10-25T20:39:56.617004Z",
          "shell.execute_reply": "2025-10-25T20:39:56.613462Z",
          "shell.execute_reply.started": "2025-10-25T20:39:56.276116Z"
        },
        "id": "7e4e0fb8-c6e7-4d10-8fc1-8e8b33dce7cb",
        "outputId": "19b1b04e-5c32-429e-f83b-3cd718bd322f"
      },
      "outputs": [
        {
          "name": "stdout",
          "output_type": "stream",
          "text": [
            "data.ipynb\t  data_explor.ipynb\t      meals.csv\n",
            "data_chain.ipynb  data_explor_reemaalg.ipynb  vendors.ipynb\n"
          ]
        }
      ],
      "source": [
        "!ls"
      ]
    },
    {
      "cell_type": "code",
      "execution_count": 45,
      "id": "108f606d-f995-4679-bfc3-e8044c44d3bc",
      "metadata": {
        "colab": {
          "base_uri": "https://localhost:8080/"
        },
        "execution": {
          "iopub.execute_input": "2025-10-25T20:39:56.938493Z",
          "iopub.status.busy": "2025-10-25T20:39:56.937251Z",
          "iopub.status.idle": "2025-10-25T20:39:57.231676Z",
          "shell.execute_reply": "2025-10-25T20:39:57.228936Z",
          "shell.execute_reply.started": "2025-10-25T20:39:56.938427Z"
        },
        "id": "108f606d-f995-4679-bfc3-e8044c44d3bc",
        "outputId": "6f66df40-7a7b-446e-9034-22b4bc590dc6"
      },
      "outputs": [
        {
          "data": {
            "text/plain": [
              "11220"
            ]
          },
          "execution_count": 45,
          "metadata": {},
          "output_type": "execute_result"
        }
      ],
      "source": [
        "full_data[\"name\"].nunique()"
      ]
    },
    {
      "cell_type": "code",
      "execution_count": 46,
      "id": "24a3a042-c6f9-4eb4-9faf-a72a15e3d73f",
      "metadata": {
        "execution": {
          "iopub.execute_input": "2025-10-25T20:40:03.535870Z",
          "iopub.status.busy": "2025-10-25T20:40:03.535386Z",
          "iopub.status.idle": "2025-10-25T20:40:03.582611Z",
          "shell.execute_reply": "2025-10-25T20:40:03.580296Z",
          "shell.execute_reply.started": "2025-10-25T20:40:03.535834Z"
        },
        "id": "24a3a042-c6f9-4eb4-9faf-a72a15e3d73f"
      },
      "outputs": [],
      "source": [
        "# Example: Filter for Italian cuisine\n",
        "mexican_orders = full_data[full_data['primary_cuisine'] == 'mexican']\n"
      ]
    },
    {
      "cell_type": "markdown",
      "id": "59d9ab80-b5cf-41cd-8ea7-ea7ba079e5d7",
      "metadata": {
        "id": "59d9ab80-b5cf-41cd-8ea7-ea7ba079e5d7"
      },
      "source": [
        "##### 🔸 Most Frequent Customers per Cuisine(mexican cuisine)"
      ]
    },
    {
      "cell_type": "code",
      "execution_count": 47,
      "id": "926a011d-eb55-49e8-a774-d186a74768b4",
      "metadata": {
        "colab": {
          "base_uri": "https://localhost:8080/"
        },
        "execution": {
          "iopub.execute_input": "2025-10-25T20:40:03.892684Z",
          "iopub.status.busy": "2025-10-25T20:40:03.892131Z",
          "iopub.status.idle": "2025-10-25T20:40:03.933946Z",
          "shell.execute_reply": "2025-10-25T20:40:03.930267Z",
          "shell.execute_reply.started": "2025-10-25T20:40:03.892647Z"
        },
        "id": "926a011d-eb55-49e8-a774-d186a74768b4",
        "outputId": "ce7e60cc-ad22-44eb-d7f4-40b09940da92"
      },
      "outputs": [
        {
          "name": "stdout",
          "output_type": "stream",
          "text": [
            "customer_id\n",
            "3307033447    17\n",
            "a366f0d29a     6\n",
            "84738d1d40     4\n",
            "3328cb8066     3\n",
            "c1cabd59dd     3\n",
            "30b52b8631     3\n",
            "53d1c13658     2\n",
            "7fc1ac1a36     2\n",
            "1df49d1f92     2\n",
            "1b0dc4b01c     2\n",
            "Name: count, dtype: int64\n"
          ]
        }
      ],
      "source": [
        "top_customers = mexican_orders['customer_id'].value_counts().head(10)\n",
        "print(top_customers)"
      ]
    },
    {
      "cell_type": "markdown",
      "id": "e01752f8-bf2f-4c21-8915-f2ea4f025e17",
      "metadata": {
        "id": "e01752f8-bf2f-4c21-8915-f2ea4f025e17"
      },
      "source": [
        "### Most Ordered Products per Cuisine"
      ]
    },
    {
      "cell_type": "code",
      "execution_count": 48,
      "id": "7ab95e1b-4237-4812-a198-46ee5056a1b4",
      "metadata": {
        "colab": {
          "base_uri": "https://localhost:8080/"
        },
        "execution": {
          "iopub.execute_input": "2025-10-25T20:40:05.825092Z",
          "iopub.status.busy": "2025-10-25T20:40:05.824618Z",
          "iopub.status.idle": "2025-10-25T20:40:05.864692Z",
          "shell.execute_reply": "2025-10-25T20:40:05.860901Z",
          "shell.execute_reply.started": "2025-10-25T20:40:05.825042Z"
        },
        "id": "7ab95e1b-4237-4812-a198-46ee5056a1b4",
        "outputId": "a9699365-c060-4231-bf47-77941abc1d53"
      },
      "outputs": [
        {
          "name": "stdout",
          "output_type": "stream",
          "text": [
            "name\n",
            "Free Heineken 0.0                            9\n",
            "Honey Tequila Chicken Wings                  4\n",
            "Spicy Chicken Quesadilla                     4\n",
            "Roasted Tomato Salsa (Vegan)(Gluten-Free)    3\n",
            "Rotisserie Chicken                           2\n",
            "Chico Slaw (VG)                              2\n",
            "Corn Chips (Vegan)(Gluten-Free)              2\n",
            "Lamb Tacos (2 Tacos)(Gluten-Free)            2\n",
            "Roasted Veggies (VG)(GF)                     1\n",
            "Smoky Chipotle BBQ                           1\n",
            "Name: count, dtype: int64\n"
          ]
        }
      ],
      "source": [
        "top_dishes =mexican_orders['name'].value_counts().head(10)\n",
        "print(top_dishes)\n"
      ]
    },
    {
      "cell_type": "code",
      "execution_count": null,
      "id": "87548786-37c3-44bf-a013-25ee7885cfb5",
      "metadata": {
        "id": "87548786-37c3-44bf-a013-25ee7885cfb5"
      },
      "outputs": [],
      "source": []
    },
    {
      "cell_type": "markdown",
      "id": "5cba5c29-5690-4306-acd8-3cd3d79c675b",
      "metadata": {
        "id": "5cba5c29-5690-4306-acd8-3cd3d79c675b"
      },
      "source": [
        "### 🔸 Average Spending per Customer"
      ]
    },
    {
      "cell_type": "code",
      "execution_count": 49,
      "id": "cae81e25-a5b0-46ae-b49d-1b194887fe80",
      "metadata": {
        "colab": {
          "base_uri": "https://localhost:8080/"
        },
        "execution": {
          "iopub.execute_input": "2025-10-25T20:40:08.065525Z",
          "iopub.status.busy": "2025-10-25T20:40:08.065090Z",
          "iopub.status.idle": "2025-10-25T20:40:08.110209Z",
          "shell.execute_reply": "2025-10-25T20:40:08.106961Z",
          "shell.execute_reply.started": "2025-10-25T20:40:08.065448Z"
        },
        "id": "cae81e25-a5b0-46ae-b49d-1b194887fe80",
        "outputId": "9bcfa217-de1b-4186-b0e6-89d27ad09532"
      },
      "outputs": [
        {
          "name": "stdout",
          "output_type": "stream",
          "text": [
            "customer_id\n",
            "6a02b73f91    0.010400\n",
            "c1cabd59dd    0.007467\n",
            "3307033447    0.007435\n",
            "1df49d1f92    0.007200\n",
            "73a3961ed8    0.005600\n",
            "f3dbf24141    0.005600\n",
            "1f1b64c4d2    0.005200\n",
            "84738d1d40    0.004800\n",
            "3328cb8066    0.004133\n",
            "53d1c13658    0.003600\n",
            "Name: unit_price, dtype: float64\n"
          ]
        }
      ],
      "source": [
        "avg_spending = mexican_orders.groupby('customer_id')['unit_price'].mean().sort_values(ascending=False).head(10)\n",
        "print(avg_spending)\n"
      ]
    },
    {
      "cell_type": "code",
      "execution_count": 50,
      "id": "3bb7a813-1e7d-4d9c-b746-9d23645cff4c",
      "metadata": {
        "colab": {
          "base_uri": "https://localhost:8080/"
        },
        "execution": {
          "iopub.execute_input": "2025-10-25T20:40:09.704480Z",
          "iopub.status.busy": "2025-10-25T20:40:09.704057Z",
          "iopub.status.idle": "2025-10-25T20:40:09.723334Z",
          "shell.execute_reply": "2025-10-25T20:40:09.719975Z",
          "shell.execute_reply.started": "2025-10-25T20:40:09.704446Z"
        },
        "id": "3bb7a813-1e7d-4d9c-b746-9d23645cff4c",
        "outputId": "7d49985f-8e83-4f50-cbc9-b1ab0f661a5b"
      },
      "outputs": [
        {
          "name": "stdout",
          "output_type": "stream",
          "text": [
            "customer_id\n",
            "3307033447    0.1264\n",
            "c1cabd59dd    0.0224\n",
            "84738d1d40    0.0192\n",
            "a366f0d29a    0.0168\n",
            "1df49d1f92    0.0144\n",
            "3328cb8066    0.0124\n",
            "6a02b73f91    0.0104\n",
            "30b52b8631    0.0076\n",
            "53d1c13658    0.0072\n",
            "f3dbf24141    0.0056\n",
            "Name: unit_price, dtype: float64\n"
          ]
        }
      ],
      "source": [
        "spending_per_customer = mexican_orders.groupby('customer_id')['unit_price'].sum().sort_values(ascending=False).head(10)\n",
        "print(spending_per_customer)\n"
      ]
    },
    {
      "cell_type": "code",
      "execution_count": null,
      "id": "023e61b7-7a7d-4adf-b1d1-86260abd094a",
      "metadata": {
        "id": "023e61b7-7a7d-4adf-b1d1-86260abd094a"
      },
      "outputs": [],
      "source": []
    },
    {
      "cell_type": "code",
      "execution_count": 51,
      "id": "318aee49-2335-446a-83be-928c369e7def",
      "metadata": {
        "colab": {
          "base_uri": "https://localhost:8080/"
        },
        "execution": {
          "iopub.execute_input": "2025-10-25T20:40:11.461290Z",
          "iopub.status.busy": "2025-10-25T20:40:11.460832Z",
          "iopub.status.idle": "2025-10-25T20:40:14.212341Z",
          "shell.execute_reply": "2025-10-25T20:40:14.206430Z",
          "shell.execute_reply.started": "2025-10-25T20:40:11.461255Z"
        },
        "id": "318aee49-2335-446a-83be-928c369e7def",
        "outputId": "a519a952-a3d7-4418-9857-a9cfa674b1e7"
      },
      "outputs": [
        {
          "name": "stdout",
          "output_type": "stream",
          "text": [
            "Requirement already satisfied: gensim in /home/rema/.pyenv/versions/3.10.6/envs/food-delivery-rec/lib/python3.10/site-packages (4.4.0)\n",
            "Requirement already satisfied: numpy>=1.18.5 in /home/rema/.pyenv/versions/3.10.6/envs/food-delivery-rec/lib/python3.10/site-packages (from gensim) (2.2.6)\n",
            "Requirement already satisfied: scipy>=1.7.0 in /home/rema/.pyenv/versions/3.10.6/envs/food-delivery-rec/lib/python3.10/site-packages (from gensim) (1.15.3)\n",
            "Requirement already satisfied: smart_open>=1.8.1 in /home/rema/.pyenv/versions/3.10.6/envs/food-delivery-rec/lib/python3.10/site-packages (from gensim) (7.4.1)\n",
            "Requirement already satisfied: wrapt in /home/rema/.pyenv/versions/3.10.6/envs/food-delivery-rec/lib/python3.10/site-packages (from smart_open>=1.8.1->gensim) (2.0.0)\n",
            "\n",
            "\u001b[1m[\u001b[0m\u001b[34;49mnotice\u001b[0m\u001b[1;39;49m]\u001b[0m\u001b[39;49m A new release of pip is available: \u001b[0m\u001b[31;49m25.2\u001b[0m\u001b[39;49m -> \u001b[0m\u001b[32;49m25.3\u001b[0m\n",
            "\u001b[1m[\u001b[0m\u001b[34;49mnotice\u001b[0m\u001b[1;39;49m]\u001b[0m\u001b[39;49m To update, run: \u001b[0m\u001b[32;49mpip install --upgrade pip\u001b[0m\n",
            "Note: you may need to restart the kernel to use updated packages.\n"
          ]
        }
      ],
      "source": [
        "pip install gensim"
      ]
    },
    {
      "cell_type": "markdown",
      "id": "fecee50e-9805-4690-94df-8fca2cd77c25",
      "metadata": {
        "id": "fecee50e-9805-4690-94df-8fca2cd77c25"
      },
      "source": [
        "### Group Dishes by Order"
      ]
    },
    {
      "cell_type": "code",
      "execution_count": 52,
      "id": "6a0993fc-b2bf-4170-b3c0-28b2fc2a64f7",
      "metadata": {
        "execution": {
          "iopub.execute_input": "2025-10-25T20:40:14.216257Z",
          "iopub.status.busy": "2025-10-25T20:40:14.215380Z",
          "iopub.status.idle": "2025-10-25T20:40:14.423259Z",
          "shell.execute_reply": "2025-10-25T20:40:14.420525Z",
          "shell.execute_reply.started": "2025-10-25T20:40:14.216180Z"
        },
        "id": "6a0993fc-b2bf-4170-b3c0-28b2fc2a64f7"
      },
      "outputs": [],
      "source": [
        "# Group dish names by order_id\n",
        "orders2 = full_data.groupby('order_id')['name'].apply(list).tolist()\n"
      ]
    },
    {
      "cell_type": "code",
      "execution_count": 53,
      "id": "cb591abc-2007-44c1-8525-07571ab2f7e1",
      "metadata": {
        "colab": {
          "base_uri": "https://localhost:8080/",
          "height": 504
        },
        "execution": {
          "iopub.execute_input": "2025-10-25T20:40:15.369007Z",
          "iopub.status.busy": "2025-10-25T20:40:15.368425Z",
          "iopub.status.idle": "2025-10-25T20:40:15.408216Z",
          "shell.execute_reply": "2025-10-25T20:40:15.405485Z",
          "shell.execute_reply.started": "2025-10-25T20:40:15.368962Z"
        },
        "id": "cb591abc-2007-44c1-8525-07571ab2f7e1",
        "outputId": "d0d8ab63-59c0-410a-bebd-3589edaa954d"
      },
      "outputs": [
        {
          "data": {
            "text/html": [
              "<div>\n",
              "<style scoped>\n",
              "    .dataframe tbody tr th:only-of-type {\n",
              "        vertical-align: middle;\n",
              "    }\n",
              "\n",
              "    .dataframe tbody tr th {\n",
              "        vertical-align: top;\n",
              "    }\n",
              "\n",
              "    .dataframe thead th {\n",
              "        text-align: right;\n",
              "    }\n",
              "</style>\n",
              "<table border=\"1\" class=\"dataframe\">\n",
              "  <thead>\n",
              "    <tr style=\"text-align: right;\">\n",
              "      <th></th>\n",
              "      <th>customer_id</th>\n",
              "      <th>geohash_x</th>\n",
              "      <th>order_id</th>\n",
              "      <th>vendor_id</th>\n",
              "      <th>product_id</th>\n",
              "      <th>day_of_week</th>\n",
              "      <th>order_time</th>\n",
              "      <th>order_day</th>\n",
              "      <th>name</th>\n",
              "      <th>unit_price</th>\n",
              "      <th>chain_id</th>\n",
              "      <th>geohash_y</th>\n",
              "      <th>primary_cuisine</th>\n",
              "      <th>cuisine_origin</th>\n",
              "    </tr>\n",
              "  </thead>\n",
              "  <tbody>\n",
              "    <tr>\n",
              "      <th>0</th>\n",
              "      <td>1ba124d4e5</td>\n",
              "      <td>w21z7</td>\n",
              "      <td>0</td>\n",
              "      <td>212753d2</td>\n",
              "      <td>783e85338f1c</td>\n",
              "      <td>0</td>\n",
              "      <td>12:03:29</td>\n",
              "      <td>85 days</td>\n",
              "      <td>201. Japanese Garlic Karaage Don</td>\n",
              "      <td>0.0060</td>\n",
              "      <td>66c9978d</td>\n",
              "      <td>w21z7</td>\n",
              "      <td>ramen</td>\n",
              "      <td>japanese</td>\n",
              "    </tr>\n",
              "    <tr>\n",
              "      <th>1</th>\n",
              "      <td>1ba124d4e5</td>\n",
              "      <td>w21z7</td>\n",
              "      <td>0</td>\n",
              "      <td>212753d2</td>\n",
              "      <td>084ab73246e6</td>\n",
              "      <td>0</td>\n",
              "      <td>12:03:29</td>\n",
              "      <td>85 days</td>\n",
              "      <td>204. Chicken Cutlet Don</td>\n",
              "      <td>0.0068</td>\n",
              "      <td>66c9978d</td>\n",
              "      <td>w21z7</td>\n",
              "      <td>ramen</td>\n",
              "      <td>japanese</td>\n",
              "    </tr>\n",
              "    <tr>\n",
              "      <th>2</th>\n",
              "      <td>1ba124d4e5</td>\n",
              "      <td>w21z7</td>\n",
              "      <td>0</td>\n",
              "      <td>212753d2</td>\n",
              "      <td>30eba3cc2676</td>\n",
              "      <td>0</td>\n",
              "      <td>12:03:29</td>\n",
              "      <td>85 days</td>\n",
              "      <td>206. Beef Sukiyaki Don</td>\n",
              "      <td>0.0068</td>\n",
              "      <td>66c9978d</td>\n",
              "      <td>w21z7</td>\n",
              "      <td>ramen</td>\n",
              "      <td>japanese</td>\n",
              "    </tr>\n",
              "    <tr>\n",
              "      <th>3</th>\n",
              "      <td>1ba124d4e5</td>\n",
              "      <td>w21z7</td>\n",
              "      <td>0</td>\n",
              "      <td>212753d2</td>\n",
              "      <td>3910309eea60</td>\n",
              "      <td>0</td>\n",
              "      <td>12:03:29</td>\n",
              "      <td>85 days</td>\n",
              "      <td>209. Japanese Beef Yakiniku Don</td>\n",
              "      <td>0.0068</td>\n",
              "      <td>66c9978d</td>\n",
              "      <td>w21z7</td>\n",
              "      <td>ramen</td>\n",
              "      <td>japanese</td>\n",
              "    </tr>\n",
              "    <tr>\n",
              "      <th>4</th>\n",
              "      <td>1ba124d4e5</td>\n",
              "      <td>w21z7</td>\n",
              "      <td>0</td>\n",
              "      <td>212753d2</td>\n",
              "      <td>20049fb602cb</td>\n",
              "      <td>0</td>\n",
              "      <td>12:03:29</td>\n",
              "      <td>85 days</td>\n",
              "      <td>210. Teriyaki Salmon Don</td>\n",
              "      <td>0.0080</td>\n",
              "      <td>66c9978d</td>\n",
              "      <td>w21z7</td>\n",
              "      <td>ramen</td>\n",
              "      <td>japanese</td>\n",
              "    </tr>\n",
              "  </tbody>\n",
              "</table>\n",
              "</div>"
            ],
            "text/plain": [
              "  customer_id geohash_x  order_id vendor_id    product_id  day_of_week  \\\n",
              "0  1ba124d4e5     w21z7         0  212753d2  783e85338f1c            0   \n",
              "1  1ba124d4e5     w21z7         0  212753d2  084ab73246e6            0   \n",
              "2  1ba124d4e5     w21z7         0  212753d2  30eba3cc2676            0   \n",
              "3  1ba124d4e5     w21z7         0  212753d2  3910309eea60            0   \n",
              "4  1ba124d4e5     w21z7         0  212753d2  20049fb602cb            0   \n",
              "\n",
              "  order_time order_day                              name  unit_price  \\\n",
              "0   12:03:29   85 days  201. Japanese Garlic Karaage Don      0.0060   \n",
              "1   12:03:29   85 days           204. Chicken Cutlet Don      0.0068   \n",
              "2   12:03:29   85 days            206. Beef Sukiyaki Don      0.0068   \n",
              "3   12:03:29   85 days   209. Japanese Beef Yakiniku Don      0.0068   \n",
              "4   12:03:29   85 days          210. Teriyaki Salmon Don      0.0080   \n",
              "\n",
              "   chain_id geohash_y primary_cuisine cuisine_origin  \n",
              "0  66c9978d     w21z7           ramen       japanese  \n",
              "1  66c9978d     w21z7           ramen       japanese  \n",
              "2  66c9978d     w21z7           ramen       japanese  \n",
              "3  66c9978d     w21z7           ramen       japanese  \n",
              "4  66c9978d     w21z7           ramen       japanese  "
            ]
          },
          "execution_count": 53,
          "metadata": {},
          "output_type": "execute_result"
        }
      ],
      "source": [
        "full_data.head()"
      ]
    },
    {
      "cell_type": "markdown",
      "id": "a6207d47-8b09-406a-9daf-cb6f701ae989",
      "metadata": {
        "id": "a6207d47-8b09-406a-9daf-cb6f701ae989"
      },
      "source": [
        "### Tokenize Dish Names"
      ]
    },
    {
      "cell_type": "code",
      "execution_count": 54,
      "id": "e6fd9b75-e62f-4f55-83d6-5511949bc48e",
      "metadata": {
        "execution": {
          "iopub.execute_input": "2025-10-25T20:40:31.881257Z",
          "iopub.status.busy": "2025-10-25T20:40:31.880629Z",
          "iopub.status.idle": "2025-10-25T20:40:31.971025Z",
          "shell.execute_reply": "2025-10-25T20:40:31.967181Z",
          "shell.execute_reply.started": "2025-10-25T20:40:31.881203Z"
        },
        "id": "e6fd9b75-e62f-4f55-83d6-5511949bc48e"
      },
      "outputs": [],
      "source": [
        "# Split each dish name into tokens (words)\n",
        "\n",
        "tokenized_orders = [[dish.lower().split() for dish in order] for order in orders2]\n",
        "\n",
        "# Flatten inner lists so each order is a list of words\n",
        "tokenized_orders = [[word for dish in order for word in dish] for order in tokenized_orders]\n"
      ]
    },
    {
      "cell_type": "code",
      "execution_count": 55,
      "id": "9fc887db-3527-4cc3-9960-8fb1cde367d2",
      "metadata": {
        "colab": {
          "base_uri": "https://localhost:8080/"
        },
        "execution": {
          "iopub.execute_input": "2025-10-25T20:40:32.531233Z",
          "iopub.status.busy": "2025-10-25T20:40:32.530836Z",
          "iopub.status.idle": "2025-10-25T20:40:32.542224Z",
          "shell.execute_reply": "2025-10-25T20:40:32.539280Z",
          "shell.execute_reply.started": "2025-10-25T20:40:32.531190Z"
        },
        "id": "9fc887db-3527-4cc3-9960-8fb1cde367d2",
        "outputId": "0866a626-54a0-4e0d-a584-1f12e8cc57b2"
      },
      "outputs": [
        {
          "data": {
            "text/plain": [
              "12181"
            ]
          },
          "execution_count": 55,
          "metadata": {},
          "output_type": "execute_result"
        }
      ],
      "source": [
        "len(tokenized_orders)"
      ]
    },
    {
      "cell_type": "code",
      "execution_count": 56,
      "id": "873648f1-e300-481f-9f53-9103e60d3701",
      "metadata": {
        "colab": {
          "base_uri": "https://localhost:8080/"
        },
        "execution": {
          "iopub.execute_input": "2025-10-25T20:40:33.283149Z",
          "iopub.status.busy": "2025-10-25T20:40:33.282470Z",
          "iopub.status.idle": "2025-10-25T20:40:33.294454Z",
          "shell.execute_reply": "2025-10-25T20:40:33.291819Z",
          "shell.execute_reply.started": "2025-10-25T20:40:33.283089Z"
        },
        "id": "873648f1-e300-481f-9f53-9103e60d3701",
        "outputId": "12b96c7c-22b0-4564-fa83-6d5e219b2818"
      },
      "outputs": [
        {
          "data": {
            "text/plain": [
              "22"
            ]
          },
          "execution_count": 56,
          "metadata": {},
          "output_type": "execute_result"
        }
      ],
      "source": [
        "len(tokenized_orders[0])"
      ]
    },
    {
      "cell_type": "code",
      "execution_count": 57,
      "id": "ce5aa17f-53c6-402c-84c9-efe88bf683eb",
      "metadata": {
        "execution": {
          "iopub.execute_input": "2025-10-25T20:41:18.958210Z",
          "iopub.status.busy": "2025-10-25T20:41:18.957776Z",
          "iopub.status.idle": "2025-10-25T20:41:19.309778Z",
          "shell.execute_reply": "2025-10-25T20:41:19.308110Z",
          "shell.execute_reply.started": "2025-10-25T20:41:18.958172Z"
        },
        "id": "ce5aa17f-53c6-402c-84c9-efe88bf683eb"
      },
      "outputs": [],
      "source": [
        "from gensim.models import Word2Vec\n",
        "\n",
        "# Train the model\n",
        "model = Word2Vec(sentences=tokenized_orders, vector_size=20, window=5, min_count=2, workers=4, sg=1)\n"
      ]
    },
    {
      "cell_type": "code",
      "execution_count": 58,
      "id": "1681e9f7-276c-419e-af51-ae97a14647b1",
      "metadata": {
        "colab": {
          "base_uri": "https://localhost:8080/"
        },
        "execution": {
          "iopub.execute_input": "2025-10-25T20:41:19.629676Z",
          "iopub.status.busy": "2025-10-25T20:41:19.629076Z",
          "iopub.status.idle": "2025-10-25T20:41:19.643063Z",
          "shell.execute_reply": "2025-10-25T20:41:19.639654Z",
          "shell.execute_reply.started": "2025-10-25T20:41:19.629639Z"
        },
        "id": "1681e9f7-276c-419e-af51-ae97a14647b1",
        "outputId": "67c75e81-8f3c-4698-bf57-79dc1d1bfad1"
      },
      "outputs": [
        {
          "data": {
            "text/plain": [
              "[('katsu', 0.9444562196731567),\n",
              " ('mentai', 0.9376814365386963),\n",
              " ('don', 0.9327599406242371),\n",
              " ('aburi', 0.9193792939186096),\n",
              " ('yakiniku', 0.9168260097503662)]"
            ]
          },
          "execution_count": 58,
          "metadata": {},
          "output_type": "execute_result"
        }
      ],
      "source": [
        "# Find dishes similar to \"karaage\"\n",
        "model.wv.most_similar(\"salmon\", topn=5)\n"
      ]
    },
    {
      "cell_type": "code",
      "execution_count": 59,
      "id": "3f3fe77c-1e31-4b90-8661-a7f14b0765d3",
      "metadata": {
        "colab": {
          "base_uri": "https://localhost:8080/"
        },
        "execution": {
          "iopub.execute_input": "2025-10-25T20:41:21.388557Z",
          "iopub.status.busy": "2025-10-25T20:41:21.388059Z",
          "iopub.status.idle": "2025-10-25T20:41:21.400751Z",
          "shell.execute_reply": "2025-10-25T20:41:21.398016Z",
          "shell.execute_reply.started": "2025-10-25T20:41:21.388515Z"
        },
        "id": "3f3fe77c-1e31-4b90-8661-a7f14b0765d3",
        "outputId": "7f1c2003-8fdf-4723-893f-43fecc3eea04"
      },
      "outputs": [
        {
          "data": {
            "text/plain": [
              "[('tonkotsu', 0.8819423317909241),\n",
              " ('volcano', 0.8553526401519775),\n",
              " ('udon', 0.8398292660713196),\n",
              " ('shoyu', 0.821915328502655),\n",
              " ('chashu', 0.8153215646743774)]"
            ]
          },
          "execution_count": 59,
          "metadata": {},
          "output_type": "execute_result"
        }
      ],
      "source": [
        "# Find dishes similar to \"ramen\"\n",
        "model.wv.most_similar(\"ramen\", topn=5)"
      ]
    },
    {
      "cell_type": "code",
      "execution_count": 60,
      "id": "9298c727-7768-4222-9e57-31df608cf2ed",
      "metadata": {
        "colab": {
          "base_uri": "https://localhost:8080/"
        },
        "execution": {
          "iopub.execute_input": "2025-10-25T20:41:22.412071Z",
          "iopub.status.busy": "2025-10-25T20:41:22.411674Z",
          "iopub.status.idle": "2025-10-25T20:41:22.424767Z",
          "shell.execute_reply": "2025-10-25T20:41:22.421905Z",
          "shell.execute_reply.started": "2025-10-25T20:41:22.412037Z"
        },
        "id": "9298c727-7768-4222-9e57-31df608cf2ed",
        "outputId": "9ecb1d93-7a40-4d28-c04f-2c6a1d9711e1"
      },
      "outputs": [
        {
          "data": {
            "text/plain": [
              "[('single', 0.91446453332901),\n",
              " ('personal', 0.8946996927261353),\n",
              " ('over', 0.8805317878723145),\n",
              " ('scoop', 0.8739514946937561),\n",
              " ('(4-5', 0.8734710216522217)]"
            ]
          },
          "execution_count": 60,
          "metadata": {},
          "output_type": "execute_result"
        }
      ],
      "source": [
        "# Find dishes similar to \"pizza\"\n",
        "model.wv.most_similar(\"pizza\", topn=5)"
      ]
    },
    {
      "cell_type": "markdown",
      "id": "31ccd6e8-7cda-4496-aa2e-e7e49b957ce6",
      "metadata": {
        "id": "31ccd6e8-7cda-4496-aa2e-e7e49b957ce6"
      },
      "source": [
        "### 🎨  Word Cloud of Dish Names"
      ]
    },
    {
      "cell_type": "code",
      "execution_count": 61,
      "id": "f13c23b9-a7dc-4d50-9dff-0495a2615315",
      "metadata": {
        "colab": {
          "base_uri": "https://localhost:8080/"
        },
        "execution": {
          "iopub.execute_input": "2025-10-25T20:41:33.141425Z",
          "iopub.status.busy": "2025-10-25T20:41:33.141003Z",
          "iopub.status.idle": "2025-10-25T20:41:32.150556Z",
          "shell.execute_reply": "2025-10-25T20:41:32.146815Z",
          "shell.execute_reply.started": "2025-10-25T20:41:33.141387Z"
        },
        "id": "f13c23b9-a7dc-4d50-9dff-0495a2615315",
        "outputId": "76a5fbc5-3cdc-4550-99d2-c26a335bc6c9"
      },
      "outputs": [
        {
          "name": "stdout",
          "output_type": "stream",
          "text": [
            "Requirement already satisfied: wordcloud in /home/rema/.pyenv/versions/3.10.6/envs/food-delivery-rec/lib/python3.10/site-packages (1.9.4)\n",
            "Requirement already satisfied: matplotlib in /home/rema/.pyenv/versions/3.10.6/envs/food-delivery-rec/lib/python3.10/site-packages (3.10.7)\n",
            "Requirement already satisfied: numpy>=1.6.1 in /home/rema/.pyenv/versions/3.10.6/envs/food-delivery-rec/lib/python3.10/site-packages (from wordcloud) (2.2.6)\n",
            "Requirement already satisfied: pillow in /home/rema/.pyenv/versions/3.10.6/envs/food-delivery-rec/lib/python3.10/site-packages (from wordcloud) (12.0.0)\n",
            "Requirement already satisfied: contourpy>=1.0.1 in /home/rema/.pyenv/versions/3.10.6/envs/food-delivery-rec/lib/python3.10/site-packages (from matplotlib) (1.3.2)\n",
            "Requirement already satisfied: cycler>=0.10 in /home/rema/.pyenv/versions/3.10.6/envs/food-delivery-rec/lib/python3.10/site-packages (from matplotlib) (0.12.1)\n",
            "Requirement already satisfied: fonttools>=4.22.0 in /home/rema/.pyenv/versions/3.10.6/envs/food-delivery-rec/lib/python3.10/site-packages (from matplotlib) (4.60.1)\n",
            "Requirement already satisfied: kiwisolver>=1.3.1 in /home/rema/.pyenv/versions/3.10.6/envs/food-delivery-rec/lib/python3.10/site-packages (from matplotlib) (1.4.9)\n",
            "Requirement already satisfied: packaging>=20.0 in /home/rema/.pyenv/versions/3.10.6/envs/food-delivery-rec/lib/python3.10/site-packages (from matplotlib) (25.0)\n",
            "Requirement already satisfied: pyparsing>=3 in /home/rema/.pyenv/versions/3.10.6/envs/food-delivery-rec/lib/python3.10/site-packages (from matplotlib) (3.2.5)\n",
            "Requirement already satisfied: python-dateutil>=2.7 in /home/rema/.pyenv/versions/3.10.6/envs/food-delivery-rec/lib/python3.10/site-packages (from matplotlib) (2.9.0.post0)\n",
            "Requirement already satisfied: six>=1.5 in /home/rema/.pyenv/versions/3.10.6/envs/food-delivery-rec/lib/python3.10/site-packages (from python-dateutil>=2.7->matplotlib) (1.17.0)\n",
            "\n",
            "\u001b[1m[\u001b[0m\u001b[34;49mnotice\u001b[0m\u001b[1;39;49m]\u001b[0m\u001b[39;49m A new release of pip is available: \u001b[0m\u001b[31;49m25.2\u001b[0m\u001b[39;49m -> \u001b[0m\u001b[32;49m25.3\u001b[0m\n",
            "\u001b[1m[\u001b[0m\u001b[34;49mnotice\u001b[0m\u001b[1;39;49m]\u001b[0m\u001b[39;49m To update, run: \u001b[0m\u001b[32;49mpip install --upgrade pip\u001b[0m\n",
            "Note: you may need to restart the kernel to use updated packages.\n"
          ]
        }
      ],
      "source": [
        "pip install wordcloud matplotlib"
      ]
    },
    {
      "cell_type": "code",
      "execution_count": 62,
      "id": "3c3742dc-5224-43f1-8481-d2f98eae92cb",
      "metadata": {
        "execution": {
          "iopub.execute_input": "2025-10-25T20:41:32.318842Z",
          "iopub.status.busy": "2025-10-25T20:41:32.318338Z",
          "iopub.status.idle": "2025-10-25T20:41:32.350797Z",
          "shell.execute_reply": "2025-10-25T20:41:32.348452Z",
          "shell.execute_reply.started": "2025-10-25T20:41:32.318793Z"
        },
        "id": "3c3742dc-5224-43f1-8481-d2f98eae92cb"
      },
      "outputs": [],
      "source": [
        "text = \" \".join(full_data['name'].dropna().astype(str).tolist())\n"
      ]
    },
    {
      "cell_type": "code",
      "execution_count": 63,
      "id": "377ff8eb-9072-4ba5-8fff-fb0e1bc9f441",
      "metadata": {
        "colab": {
          "base_uri": "https://localhost:8080/",
          "height": 529
        },
        "execution": {
          "iopub.execute_input": "2025-10-25T20:41:35.390775Z",
          "iopub.status.busy": "2025-10-25T20:41:35.390340Z",
          "iopub.status.idle": "2025-10-25T20:41:38.270120Z",
          "shell.execute_reply": "2025-10-25T20:41:38.267066Z",
          "shell.execute_reply.started": "2025-10-25T20:41:35.390742Z"
        },
        "id": "377ff8eb-9072-4ba5-8fff-fb0e1bc9f441",
        "outputId": "a26f821c-dd8b-4c1b-b99a-4dc64c646edb"
      },
      "outputs": [
        {
          "data": {
            "image/png": "[encoded data removed]",
            "text/plain": [
              "<Figure size 1200x600 with 1 Axes>"
            ]
          },
          "metadata": {},
          "output_type": "display_data"
        }
      ],
      "source": [
        "from wordcloud import WordCloud\n",
        "import matplotlib.pyplot as plt\n",
        "\n",
        "# Create the word cloud\n",
        "wordcloud = WordCloud(width=800, height=400, background_color='black', colormap='Set2').generate(text)\n",
        "\n",
        "# Display it\n",
        "plt.figure(figsize=(12, 6))\n",
        "plt.imshow(wordcloud, interpolation='bilinear')\n",
        "plt.axis('off')\n",
        "plt.title(\"Dish Name Word Cloud\", fontsize=20)\n",
        "plt.show()"
      ]
    },
    {
      "cell_type": "code",
      "execution_count": null,
      "id": "676275b9-7991-41a2-9f6a-c93f178e31fa",
      "metadata": {
        "id": "676275b9-7991-41a2-9f6a-c93f178e31fa"
      },
      "outputs": [],
      "source": []
    },
    {
      "cell_type": "markdown",
      "id": "b3a08b18-7a53-4eb8-a00e-561cad3be198",
      "metadata": {
        "id": "b3a08b18-7a53-4eb8-a00e-561cad3be198"
      },
      "source": [
        "### 👥 Top Customers"
      ]
    },
    {
      "cell_type": "code",
      "execution_count": 64,
      "id": "bc05db08-e4b7-4a42-aa1b-ec4676e1ab2d",
      "metadata": {
        "colab": {
          "base_uri": "https://localhost:8080/"
        },
        "execution": {
          "iopub.execute_input": "2025-10-25T20:42:19.252445Z",
          "iopub.status.busy": "2025-10-25T20:42:19.251929Z",
          "iopub.status.idle": "2025-10-25T20:42:19.270281Z",
          "shell.execute_reply": "2025-10-25T20:42:19.266886Z",
          "shell.execute_reply.started": "2025-10-25T20:42:19.252406Z"
        },
        "id": "bc05db08-e4b7-4a42-aa1b-ec4676e1ab2d",
        "outputId": "bb56a88b-fc1b-47fc-fe16-aebbac9cc2bc"
      },
      "outputs": [
        {
          "name": "stdout",
          "output_type": "stream",
          "text": [
            "customer_id\n",
            "50acf8536f    691\n",
            "857c695baa    182\n",
            "6a02b73f91    137\n",
            "e09be49ad4    131\n",
            "86d7e2a90b    127\n",
            "b5f64d7c63    119\n",
            "f43e80b68f    118\n",
            "35f70335fa    117\n",
            "4e8b406597    108\n",
            "ac01e97093    102\n",
            "Name: count, dtype: int64\n"
          ]
        }
      ],
      "source": [
        "top_customers = orders['customer_id'].value_counts().head(10)\n",
        "print(top_customers)\n"
      ]
    },
    {
      "cell_type": "markdown",
      "id": "1db24a35-f08a-4281-9875-4eaa95b554db",
      "metadata": {
        "id": "1db24a35-f08a-4281-9875-4eaa95b554db"
      },
      "source": [
        "### 🗺️ Geohash Distribution"
      ]
    },
    {
      "cell_type": "code",
      "execution_count": 65,
      "id": "0dddcf9c-569b-4121-8ae9-484877171c73",
      "metadata": {
        "colab": {
          "base_uri": "https://localhost:8080/",
          "height": 521
        },
        "execution": {
          "iopub.execute_input": "2025-10-25T20:42:23.215841Z",
          "iopub.status.busy": "2025-10-25T20:42:23.215356Z",
          "iopub.status.idle": "2025-10-25T20:42:23.545996Z",
          "shell.execute_reply": "2025-10-25T20:42:23.543239Z",
          "shell.execute_reply.started": "2025-10-25T20:42:23.215805Z"
        },
        "id": "0dddcf9c-569b-4121-8ae9-484877171c73",
        "outputId": "16a36628-4071-45aa-d887-f583e2319906"
      },
      "outputs": [
        {
          "data": {
            "text/plain": [
              "<Axes: title={'center': 'Top Geohash Areas'}, xlabel='geohash'>"
            ]
          },
          "execution_count": 65,
          "metadata": {},
          "output_type": "execute_result"
        },
        {
          "data": {
            "image/png": "[encoded data removed]",
            "text/plain": [
              "<Figure size 640x480 with 1 Axes>"
            ]
          },
          "metadata": {},
          "output_type": "display_data"
        }
      ],
      "source": [
        "orders['geohash'].value_counts().head(10).plot(kind='bar', title='Top Geohash Areas')"
      ]
    },
    {
      "cell_type": "code",
      "execution_count": 66,
      "id": "4bcf8e45-576a-4a9e-9e76-f2ab794a3d5d",
      "metadata": {
        "id": "4bcf8e45-576a-4a9e-9e76-f2ab794a3d5d"
      },
      "outputs": [],
      "source": [
        "import numpy as np\n",
        "import pandas as pd\n",
        "\n",
        "# Set seed for reproducibility (optional)\n",
        "np.random.seed(42)\n",
        "\n",
        "# Total number of rows\n",
        "n_rows =full_data.shape[0]\n",
        "# Count UNIQUE orders per customer (not rows)\n",
        "order_counts = full_data.groupby('customer_id')['order_id'].nunique()\n",
        "\n",
        "# Map order counts back to original dataframe\n",
        "full_data['order_frequency'] = full_data['customer_id'].map(order_counts)\n",
        "\n",
        "# Define thresholds based on order frequency quartiles\n",
        "high_freq_threshold = full_data['order_frequency'].quantile(0.75)\n",
        "medium_freq_threshold = full_data['order_frequency'].quantile(0.50)\n",
        "\n",
        "\n",
        "# Initialize rating column\n",
        "ratings = np.zeros(n_rows)\n",
        "\n",
        "# Assign ratings based on order frequency\n",
        "for idx in range(n_rows):\n",
        "    order_freq = full_data.iloc[idx, full_data.columns.get_loc('order_frequency')]\n",
        "\n",
        "    if order_freq >= high_freq_threshold:\n",
        "        # Most frequent orders: mostly 5 stars\n",
        "        ratings[idx] = np.random.choice([5, 4, 3], p=[0.85, 0.10, 0.05])\n",
        "\n",
        "    elif order_freq >= medium_freq_threshold:\n",
        "        # Medium frequency: some lower ratings for 1, 2, 3 stars\n",
        "        ratings[idx] = np.random.choice([5, 4, 3, 2, 1], p=[0.30, 0.25, 0.25, 0.15, 0.05])\n",
        "\n",
        "    else:\n",
        "        # Lower frequency: random distribution\n",
        "        ratings[idx] = np.random.randint(1, 6)\n",
        "\n",
        "# Add rating column to dataframe\n",
        "full_data['rating'] = ratings.astype(int)\n"
      ]
    },
    {
      "cell_type": "code",
      "execution_count": 67,
      "id": "gLcVRCtBX4gb",
      "metadata": {
        "colab": {
          "base_uri": "https://localhost:8080/",
          "height": 816
        },
        "id": "gLcVRCtBX4gb",
        "outputId": "1928250b-a49e-415f-ffa0-49784b615f20"
      },
      "outputs": [
        {
          "data": {
            "text/html": [
              "<div>\n",
              "<style scoped>\n",
              "    .dataframe tbody tr th:only-of-type {\n",
              "        vertical-align: middle;\n",
              "    }\n",
              "\n",
              "    .dataframe tbody tr th {\n",
              "        vertical-align: top;\n",
              "    }\n",
              "\n",
              "    .dataframe thead th {\n",
              "        text-align: right;\n",
              "    }\n",
              "</style>\n",
              "<table border=\"1\" class=\"dataframe\">\n",
              "  <thead>\n",
              "    <tr style=\"text-align: right;\">\n",
              "      <th></th>\n",
              "      <th>customer_id</th>\n",
              "      <th>geohash_x</th>\n",
              "      <th>order_id</th>\n",
              "      <th>vendor_id</th>\n",
              "      <th>product_id</th>\n",
              "      <th>day_of_week</th>\n",
              "      <th>order_time</th>\n",
              "      <th>order_day</th>\n",
              "      <th>name</th>\n",
              "      <th>unit_price</th>\n",
              "      <th>chain_id</th>\n",
              "      <th>geohash_y</th>\n",
              "      <th>primary_cuisine</th>\n",
              "      <th>cuisine_origin</th>\n",
              "      <th>order_frequency</th>\n",
              "      <th>rating</th>\n",
              "    </tr>\n",
              "  </thead>\n",
              "  <tbody>\n",
              "    <tr>\n",
              "      <th>0</th>\n",
              "      <td>1ba124d4e5</td>\n",
              "      <td>w21z7</td>\n",
              "      <td>0</td>\n",
              "      <td>212753d2</td>\n",
              "      <td>783e85338f1c</td>\n",
              "      <td>0</td>\n",
              "      <td>12:03:29</td>\n",
              "      <td>85 days</td>\n",
              "      <td>201. Japanese Garlic Karaage Don</td>\n",
              "      <td>0.0060</td>\n",
              "      <td>66c9978d</td>\n",
              "      <td>w21z7</td>\n",
              "      <td>ramen</td>\n",
              "      <td>japanese</td>\n",
              "      <td>1</td>\n",
              "      <td>4</td>\n",
              "    </tr>\n",
              "    <tr>\n",
              "      <th>1</th>\n",
              "      <td>1ba124d4e5</td>\n",
              "      <td>w21z7</td>\n",
              "      <td>0</td>\n",
              "      <td>212753d2</td>\n",
              "      <td>084ab73246e6</td>\n",
              "      <td>0</td>\n",
              "      <td>12:03:29</td>\n",
              "      <td>85 days</td>\n",
              "      <td>204. Chicken Cutlet Don</td>\n",
              "      <td>0.0068</td>\n",
              "      <td>66c9978d</td>\n",
              "      <td>w21z7</td>\n",
              "      <td>ramen</td>\n",
              "      <td>japanese</td>\n",
              "      <td>1</td>\n",
              "      <td>5</td>\n",
              "    </tr>\n",
              "    <tr>\n",
              "      <th>2</th>\n",
              "      <td>1ba124d4e5</td>\n",
              "      <td>w21z7</td>\n",
              "      <td>0</td>\n",
              "      <td>212753d2</td>\n",
              "      <td>30eba3cc2676</td>\n",
              "      <td>0</td>\n",
              "      <td>12:03:29</td>\n",
              "      <td>85 days</td>\n",
              "      <td>206. Beef Sukiyaki Don</td>\n",
              "      <td>0.0068</td>\n",
              "      <td>66c9978d</td>\n",
              "      <td>w21z7</td>\n",
              "      <td>ramen</td>\n",
              "      <td>japanese</td>\n",
              "      <td>1</td>\n",
              "      <td>3</td>\n",
              "    </tr>\n",
              "    <tr>\n",
              "      <th>3</th>\n",
              "      <td>1ba124d4e5</td>\n",
              "      <td>w21z7</td>\n",
              "      <td>0</td>\n",
              "      <td>212753d2</td>\n",
              "      <td>3910309eea60</td>\n",
              "      <td>0</td>\n",
              "      <td>12:03:29</td>\n",
              "      <td>85 days</td>\n",
              "      <td>209. Japanese Beef Yakiniku Don</td>\n",
              "      <td>0.0068</td>\n",
              "      <td>66c9978d</td>\n",
              "      <td>w21z7</td>\n",
              "      <td>ramen</td>\n",
              "      <td>japanese</td>\n",
              "      <td>1</td>\n",
              "      <td>5</td>\n",
              "    </tr>\n",
              "    <tr>\n",
              "      <th>4</th>\n",
              "      <td>1ba124d4e5</td>\n",
              "      <td>w21z7</td>\n",
              "      <td>0</td>\n",
              "      <td>212753d2</td>\n",
              "      <td>20049fb602cb</td>\n",
              "      <td>0</td>\n",
              "      <td>12:03:29</td>\n",
              "      <td>85 days</td>\n",
              "      <td>210. Teriyaki Salmon Don</td>\n",
              "      <td>0.0080</td>\n",
              "      <td>66c9978d</td>\n",
              "      <td>w21z7</td>\n",
              "      <td>ramen</td>\n",
              "      <td>japanese</td>\n",
              "      <td>1</td>\n",
              "      <td>5</td>\n",
              "    </tr>\n",
              "    <tr>\n",
              "      <th>5</th>\n",
              "      <td>f374c8c54c</td>\n",
              "      <td>w21zt</td>\n",
              "      <td>1</td>\n",
              "      <td>21830106</td>\n",
              "      <td>f245bdf79350</td>\n",
              "      <td>4</td>\n",
              "      <td>19:03:03</td>\n",
              "      <td>61 days</td>\n",
              "      <td>Chicken Cutlet with Rice</td>\n",
              "      <td>0.0020</td>\n",
              "      <td>NaN</td>\n",
              "      <td>w21zt</td>\n",
              "      <td>western</td>\n",
              "      <td>snacks</td>\n",
              "      <td>1</td>\n",
              "      <td>2</td>\n",
              "    </tr>\n",
              "    <tr>\n",
              "      <th>6</th>\n",
              "      <td>f374c8c54c</td>\n",
              "      <td>w21zt</td>\n",
              "      <td>1</td>\n",
              "      <td>21830106</td>\n",
              "      <td>146127be77d4</td>\n",
              "      <td>4</td>\n",
              "      <td>19:03:03</td>\n",
              "      <td>61 days</td>\n",
              "      <td>Chicken Chop</td>\n",
              "      <td>0.0028</td>\n",
              "      <td>NaN</td>\n",
              "      <td>w21zt</td>\n",
              "      <td>western</td>\n",
              "      <td>snacks</td>\n",
              "      <td>1</td>\n",
              "      <td>3</td>\n",
              "    </tr>\n",
              "    <tr>\n",
              "      <th>7</th>\n",
              "      <td>f374c8c54c</td>\n",
              "      <td>w21zt</td>\n",
              "      <td>1</td>\n",
              "      <td>21830106</td>\n",
              "      <td>6c108c0fb2b9</td>\n",
              "      <td>4</td>\n",
              "      <td>19:03:03</td>\n",
              "      <td>61 days</td>\n",
              "      <td>Chicken Wings with Rice</td>\n",
              "      <td>0.0016</td>\n",
              "      <td>NaN</td>\n",
              "      <td>w21zt</td>\n",
              "      <td>western</td>\n",
              "      <td>snacks</td>\n",
              "      <td>1</td>\n",
              "      <td>3</td>\n",
              "    </tr>\n",
              "    <tr>\n",
              "      <th>8</th>\n",
              "      <td>f374c8c54c</td>\n",
              "      <td>w21zt</td>\n",
              "      <td>1</td>\n",
              "      <td>21830106</td>\n",
              "      <td>da422c7836e1</td>\n",
              "      <td>4</td>\n",
              "      <td>19:03:03</td>\n",
              "      <td>61 days</td>\n",
              "      <td>Saba Fish with Rice</td>\n",
              "      <td>0.0024</td>\n",
              "      <td>NaN</td>\n",
              "      <td>w21zt</td>\n",
              "      <td>western</td>\n",
              "      <td>snacks</td>\n",
              "      <td>1</td>\n",
              "      <td>3</td>\n",
              "    </tr>\n",
              "    <tr>\n",
              "      <th>9</th>\n",
              "      <td>f374c8c54c</td>\n",
              "      <td>w21zt</td>\n",
              "      <td>1</td>\n",
              "      <td>21830106</td>\n",
              "      <td>01110c80a0fa</td>\n",
              "      <td>4</td>\n",
              "      <td>19:03:03</td>\n",
              "      <td>61 days</td>\n",
              "      <td>Chicken Chop with Rice</td>\n",
              "      <td>0.0020</td>\n",
              "      <td>NaN</td>\n",
              "      <td>w21zt</td>\n",
              "      <td>western</td>\n",
              "      <td>snacks</td>\n",
              "      <td>1</td>\n",
              "      <td>5</td>\n",
              "    </tr>\n",
              "  </tbody>\n",
              "</table>\n",
              "</div>"
            ],
            "text/plain": [
              "  customer_id geohash_x  order_id vendor_id    product_id  day_of_week  \\\n",
              "0  1ba124d4e5     w21z7         0  212753d2  783e85338f1c            0   \n",
              "1  1ba124d4e5     w21z7         0  212753d2  084ab73246e6            0   \n",
              "2  1ba124d4e5     w21z7         0  212753d2  30eba3cc2676            0   \n",
              "3  1ba124d4e5     w21z7         0  212753d2  3910309eea60            0   \n",
              "4  1ba124d4e5     w21z7         0  212753d2  20049fb602cb            0   \n",
              "5  f374c8c54c     w21zt         1  21830106  f245bdf79350            4   \n",
              "6  f374c8c54c     w21zt         1  21830106  146127be77d4            4   \n",
              "7  f374c8c54c     w21zt         1  21830106  6c108c0fb2b9            4   \n",
              "8  f374c8c54c     w21zt         1  21830106  da422c7836e1            4   \n",
              "9  f374c8c54c     w21zt         1  21830106  01110c80a0fa            4   \n",
              "\n",
              "  order_time order_day                              name  unit_price  \\\n",
              "0   12:03:29   85 days  201. Japanese Garlic Karaage Don      0.0060   \n",
              "1   12:03:29   85 days           204. Chicken Cutlet Don      0.0068   \n",
              "2   12:03:29   85 days            206. Beef Sukiyaki Don      0.0068   \n",
              "3   12:03:29   85 days   209. Japanese Beef Yakiniku Don      0.0068   \n",
              "4   12:03:29   85 days          210. Teriyaki Salmon Don      0.0080   \n",
              "5   19:03:03   61 days          Chicken Cutlet with Rice      0.0020   \n",
              "6   19:03:03   61 days                      Chicken Chop      0.0028   \n",
              "7   19:03:03   61 days           Chicken Wings with Rice      0.0016   \n",
              "8   19:03:03   61 days               Saba Fish with Rice      0.0024   \n",
              "9   19:03:03   61 days            Chicken Chop with Rice      0.0020   \n",
              "\n",
              "   chain_id geohash_y primary_cuisine cuisine_origin  order_frequency  rating  \n",
              "0  66c9978d     w21z7           ramen       japanese                1       4  \n",
              "1  66c9978d     w21z7           ramen       japanese                1       5  \n",
              "2  66c9978d     w21z7           ramen       japanese                1       3  \n",
              "3  66c9978d     w21z7           ramen       japanese                1       5  \n",
              "4  66c9978d     w21z7           ramen       japanese                1       5  \n",
              "5       NaN     w21zt         western         snacks                1       2  \n",
              "6       NaN     w21zt         western         snacks                1       3  \n",
              "7       NaN     w21zt         western         snacks                1       3  \n",
              "8       NaN     w21zt         western         snacks                1       3  \n",
              "9       NaN     w21zt         western         snacks                1       5  "
            ]
          },
          "execution_count": 67,
          "metadata": {},
          "output_type": "execute_result"
        }
      ],
      "source": [
        "full_data.head(10)"
      ]
    },
    {
      "cell_type": "markdown",
      "id": "g4NEPv6LkKiz",
      "metadata": {
        "id": "g4NEPv6LkKiz"
      },
      "source": [
        "**vendors rating generation**\n"
      ]
    },
    {
      "cell_type": "code",
      "execution_count": 68,
      "id": "FT1CFMMclDlN",
      "metadata": {
        "id": "FT1CFMMclDlN"
      },
      "outputs": [],
      "source": [
        "vendors_table=full_data"
      ]
    },
    {
      "cell_type": "code",
      "execution_count": 69,
      "id": "D9j1bfbNX7Tv",
      "metadata": {
        "colab": {
          "base_uri": "https://localhost:8080/",
          "height": 880
        },
        "id": "D9j1bfbNX7Tv",
        "outputId": "0b0828eb-cb29-4f64-893b-eb5480535b59"
      },
      "outputs": [
        {
          "name": "stdout",
          "output_type": "stream",
          "text": [
            "============================================================\n",
            "VENDOR RATING STATISTICS BY CUISINE\n",
            "============================================================\n",
            "                mean   std  count\n",
            "cuisine_origin                   \n",
            "american        4.06  0.48   2695\n",
            "asian           4.03  0.50   2515\n",
            "chinese         4.07  0.48   5834\n",
            "french          4.25  0.35      2\n",
            "german          4.00  0.41      4\n",
            "indian          4.04  0.52   1655\n",
            "indonesian      4.01  0.54    384\n",
            "italian         4.20  0.45    761\n",
            "japanese        4.20  0.42   1725\n",
            "lebanese        4.00  1.41      2\n",
            "malaysian       4.10  0.49    863\n",
            "mexican         3.97  0.53     58\n",
            "singaporean     4.22  0.50   1706\n",
            "snacks          3.98  0.44   5911\n",
            "spanish         3.83  0.29      3\n",
            "thai            4.11  0.46    739\n",
            "turkish         4.12  0.57     12\n",
            "vietnamese      4.27  0.48    131\n",
            "\n",
            "\n",
            "============================================================\n",
            "TOP 10 VENDORS BY AVERAGE RATING\n",
            "============================================================\n"
          ]
        },
        {
          "data": {
            "text/html": [
              "<div>\n",
              "<style scoped>\n",
              "    .dataframe tbody tr th:only-of-type {\n",
              "        vertical-align: middle;\n",
              "    }\n",
              "\n",
              "    .dataframe tbody tr th {\n",
              "        vertical-align: top;\n",
              "    }\n",
              "\n",
              "    .dataframe thead th {\n",
              "        text-align: right;\n",
              "    }\n",
              "</style>\n",
              "<table border=\"1\" class=\"dataframe\">\n",
              "  <thead>\n",
              "    <tr style=\"text-align: right;\">\n",
              "      <th></th>\n",
              "      <th>vendor_rating</th>\n",
              "      <th>cuisine_origin</th>\n",
              "      <th>order_id</th>\n",
              "    </tr>\n",
              "    <tr>\n",
              "      <th>vendor_id</th>\n",
              "      <th></th>\n",
              "      <th></th>\n",
              "      <th></th>\n",
              "    </tr>\n",
              "  </thead>\n",
              "  <tbody>\n",
              "    <tr>\n",
              "      <th>04799681</th>\n",
              "      <td>5.0</td>\n",
              "      <td>japanese</td>\n",
              "      <td>1</td>\n",
              "    </tr>\n",
              "    <tr>\n",
              "      <th>008dd8fd</th>\n",
              "      <td>5.0</td>\n",
              "      <td>asian</td>\n",
              "      <td>1</td>\n",
              "    </tr>\n",
              "    <tr>\n",
              "      <th>fe116c01</th>\n",
              "      <td>5.0</td>\n",
              "      <td>italian</td>\n",
              "      <td>1</td>\n",
              "    </tr>\n",
              "    <tr>\n",
              "      <th>0311bf94</th>\n",
              "      <td>5.0</td>\n",
              "      <td>snacks</td>\n",
              "      <td>1</td>\n",
              "    </tr>\n",
              "    <tr>\n",
              "      <th>fd83e4c7</th>\n",
              "      <td>5.0</td>\n",
              "      <td>chinese</td>\n",
              "      <td>1</td>\n",
              "    </tr>\n",
              "    <tr>\n",
              "      <th>6949cc49</th>\n",
              "      <td>5.0</td>\n",
              "      <td>singaporean</td>\n",
              "      <td>1</td>\n",
              "    </tr>\n",
              "    <tr>\n",
              "      <th>c56e9af4</th>\n",
              "      <td>5.0</td>\n",
              "      <td>snacks</td>\n",
              "      <td>1</td>\n",
              "    </tr>\n",
              "    <tr>\n",
              "      <th>b018a823</th>\n",
              "      <td>5.0</td>\n",
              "      <td>singaporean</td>\n",
              "      <td>1</td>\n",
              "    </tr>\n",
              "    <tr>\n",
              "      <th>442aa613</th>\n",
              "      <td>5.0</td>\n",
              "      <td>italian</td>\n",
              "      <td>1</td>\n",
              "    </tr>\n",
              "    <tr>\n",
              "      <th>578908a5</th>\n",
              "      <td>5.0</td>\n",
              "      <td>snacks</td>\n",
              "      <td>1</td>\n",
              "    </tr>\n",
              "  </tbody>\n",
              "</table>\n",
              "</div>"
            ],
            "text/plain": [
              "           vendor_rating cuisine_origin  order_id\n",
              "vendor_id                                        \n",
              "04799681             5.0       japanese         1\n",
              "008dd8fd             5.0          asian         1\n",
              "fe116c01             5.0        italian         1\n",
              "0311bf94             5.0         snacks         1\n",
              "fd83e4c7             5.0        chinese         1\n",
              "6949cc49             5.0    singaporean         1\n",
              "c56e9af4             5.0         snacks         1\n",
              "b018a823             5.0    singaporean         1\n",
              "442aa613             5.0        italian         1\n",
              "578908a5             5.0         snacks         1"
            ]
          },
          "execution_count": 69,
          "metadata": {},
          "output_type": "execute_result"
        }
      ],
      "source": [
        "import numpy as np\n",
        "import pandas as pd\n",
        "\n",
        "# Set seed for reproducibility\n",
        "np.random.seed(42)\n",
        "\n",
        "# Your cuisine mapping\n",
        "global_cuisine_category = {\n",
        "    \"japanese\": \"japanese\", \"ramen\": \"japanese\", \"sushi\": \"japanese\",\n",
        "    \"chinese\": \"chinese\", \"dim sum\": \"chinese\", \"mala xiang guo\": \"chinese\",\n",
        "    \"mala soups\": \"chinese\", \"hokkien mee\": \"chinese\", \"noodles\": \"chinese\", \"tea\": \"chinese\",\n",
        "    \"indian\": \"indian\", \"curry\": \"indian\",\n",
        "    \"thai\": \"thai\",\n",
        "    \"vietnamese\": \"vietnamese\", \"pho\": \"vietnamese\",\n",
        "    \"singaporean\": \"singaporean\", \"chicken rice\": \"singaporean\",\n",
        "    \"ban mian\": \"singaporean\", \"yong tau foo\": \"singaporean\",\n",
        "    \"indonesian\": \"indonesian\", \"ayam penyet\": \"indonesian\",\n",
        "    \"malaysian\": \"malaysian\", \"nasi lemak\": \"malaysian\", \"roti prata\": \"malaysian\",\n",
        "    \"american\": \"american\", \"burgers\": \"american\", \"sandwiches\": \"american\",\n",
        "    \"grill\": \"american\", \"fries\": \"american\", \"fast food\": \"american\",\n",
        "    \"italian\": \"italian\", \"pizza\": \"italian\", \"pasta\": \"italian\",\n",
        "    \"french\": \"french\", \"german\": \"german\", \"spanish\": \"spanish\",\n",
        "    \"mexican\": \"mexican\", \"turkish\": \"turkish\", \"lebanese\": \"lebanese\",\n",
        "    \"rice dishes\": \"asian\", \"fried rice\": \"asian\", \"porridge\": \"asian\",\n",
        "}\n",
        "\n",
        "# Map cuisine to cuisine_origin (assuming you have a cuisine column in your data)\n",
        "# If you already have cuisine_origin in your data, you can skip this step\n",
        "if 'cuisine_origin' not in vendors_table.columns:\n",
        "    # Replace 'cuisine_column_name' with whatever column contains the cuisine info\n",
        "    vendors_table['cuisine_origin'] = vendors_table['primary_cuisine'].str.strip().map(global_cuisine_category)\n",
        "    vendors_table['cuisine_origin'].fillna('snacks', inplace=True)\n",
        "\n",
        "# Step 1: Calculate vendor-level statistics\n",
        "vendor_stats = vendors_table.groupby('vendor_id').agg({\n",
        "    'order_id': 'nunique',          # number of unique orders\n",
        "    'customer_id': 'nunique',       # number of unique customers\n",
        "    'unit_price': 'mean',           # average price\n",
        "    'cuisine_origin': lambda x: x.mode()[0] if len(x) > 0 else 'other'\n",
        "}).reset_index()\n",
        "\n",
        "vendor_stats.columns = ['vendor_id', 'total_orders', 'unique_customers', 'avg_price', 'cuisine_origin']\n",
        "\n",
        "# Step 2: Assign base rating (3.5 to 4.8) based on popularity\n",
        "vendor_stats['base_rating'] = 3.5 + (\n",
        "    0.3 * (vendor_stats['total_orders'] / vendor_stats['total_orders'].max()) +\n",
        "    0.2 * (vendor_stats['unique_customers'] / vendor_stats['unique_customers'].max()) +\n",
        "    0.8 * np.random.random(len(vendor_stats))\n",
        ")\n",
        "\n",
        "vendor_stats['base_rating'] = vendor_stats['base_rating'].clip(upper=4.8)\n",
        "\n",
        "# Step 3: Cuisine-based rating adjustments (Asian market context)\n",
        "cuisine_boost = {\n",
        "    # Premium Asian cuisines (high expectations)\n",
        "    'japanese': 0.25,\n",
        "    'singaporean': 0.20,  # Local favorite\n",
        "    'vietnamese': 0.15,\n",
        "    'thai': 0.15,\n",
        "\n",
        "    # Standard Asian cuisines\n",
        "    'chinese': 0.10,\n",
        "    'malaysian': 0.10,\n",
        "    'indonesian': 0.10,\n",
        "    'asian': 0.05,\n",
        "\n",
        "    # Indian (variable quality perception)\n",
        "    'indian': 0.05,\n",
        "\n",
        "    # Western cuisines (premium in Asian markets)\n",
        "    'italian': 0.20,\n",
        "    'french': 0.25,\n",
        "    'spanish': 0.15,\n",
        "    'mexican': 0.10,\n",
        "\n",
        "    # American (casual dining)\n",
        "    'american': 0.05,\n",
        "\n",
        "    # Middle Eastern\n",
        "    'turkish': 0.10,\n",
        "    'lebanese': 0.10,\n",
        "\n",
        "    # European\n",
        "    'german': 0.10,\n",
        "\n",
        "    # Default\n",
        "    'other': 0.0\n",
        "}\n",
        "\n",
        "vendor_stats['cuisine_adjustment'] = vendor_stats['cuisine_origin'].map(cuisine_boost).fillna(0)\n",
        "vendor_stats['base_rating'] = (vendor_stats['base_rating'] + vendor_stats['cuisine_adjustment']).clip(3.0, 5.0)\n",
        "\n",
        "# Step 4: Assign consistency based on order volume\n",
        "# High volume vendors = more consistent (less variance in ratings)\n",
        "vendor_stats['consistency'] = pd.cut(\n",
        "    vendor_stats['total_orders'],\n",
        "    bins=[0, 20, 100, np.inf],\n",
        "    labels=['low', 'medium', 'high']\n",
        ")\n",
        "\n",
        "# Step 5: Chain vendors get higher consistency\n",
        "if 'chain_id' in vendors_table.columns:\n",
        "    chain_vendors = vendors_table[vendors_table['chain_id'].notna()]['vendor_id'].unique()\n",
        "    vendor_stats.loc[vendor_stats['vendor_id'].isin(chain_vendors), 'consistency'] = 'high'\n",
        "\n",
        "# Step 6: Generate rating function\n",
        "def generate_vendor_rating(base_rating, consistency='medium'):\n",
        "    \"\"\"Generate realistic individual rating\"\"\"\n",
        "    consistency_map = {'high': 0.3, 'medium': 0.5, 'low': 0.8}\n",
        "    std_dev = consistency_map.get(consistency, 0.5)\n",
        "\n",
        "    # Normal distribution around base rating\n",
        "    rating = np.random.normal(base_rating, std_dev)\n",
        "\n",
        "    # Round to nearest 0.5 (half-star system)\n",
        "    rating = np.round(rating * 2) / 2\n",
        "\n",
        "    # Clip to valid range\n",
        "    return np.clip(rating, 1.0, 5.0)\n",
        "\n",
        "# Step 7: Merge vendor stats back to main dataframe\n",
        "vendors_table = vendors_table.merge(\n",
        "    vendor_stats[['vendor_id', 'base_rating', 'consistency']],\n",
        "    on='vendor_id',\n",
        "    how='left'\n",
        ")\n",
        "\n",
        "# Step 8: Generate individual vendor ratings per row\n",
        "vendors_table['vendor_rating'] = vendors_table.apply(\n",
        "    lambda row: generate_vendor_rating(row['base_rating'], row['consistency']),\n",
        "    axis=1\n",
        ")\n",
        "\n",
        "# Step 9: Create final table (removed primary_cuisine)\n",
        "vendors_table = vendors_table[[\n",
        "    'customer_id', 'geohash_x', 'order_id', 'vendor_id', 'product_id',\n",
        "    'day_of_week', 'order_time', 'order_day', 'name', 'unit_price',\n",
        "    'chain_id', 'geohash_y', 'cuisine_origin', 'vendor_rating'\n",
        "]].copy()\n",
        "\n",
        "\n",
        "# Display vendor rating statistics\n",
        "print(\"=\" * 60)\n",
        "print(\"VENDOR RATING STATISTICS BY CUISINE\")\n",
        "print(\"=\" * 60)\n",
        "print(vendors_table.groupby('cuisine_origin')['vendor_rating'].agg(['mean', 'std', 'count']).round(2))\n",
        "print(\"\\n\")\n",
        "print(\"=\" * 60)\n",
        "print(\"TOP 10 VENDORS BY AVERAGE RATING\")\n",
        "print(\"=\" * 60)\n",
        "top_vendors = vendors_table.groupby('vendor_id').agg({\n",
        "    'vendor_rating': 'mean',\n",
        "    'cuisine_origin': 'first',\n",
        "    'order_id': 'nunique'\n",
        "}).sort_values('vendor_rating', ascending=False).head(10)\n",
        "top_vendors.round(2)"
      ]
    },
    {
      "cell_type": "markdown",
      "id": "5HwSfMb6kuon",
      "metadata": {
        "id": "5HwSfMb6kuon"
      },
      "source": [
        "**vendors table with row agregation**\n"
      ]
    },
    {
      "cell_type": "code",
      "execution_count": 70,
      "id": "zBZKUfMXkaVp",
      "metadata": {
        "colab": {
          "base_uri": "https://localhost:8080/",
          "height": 521
        },
        "id": "zBZKUfMXkaVp",
        "outputId": "1d3ef9ce-7a20-4ef9-e95e-0479bca45912"
      },
      "outputs": [
        {
          "name": "stdout",
          "output_type": "stream",
          "text": [
            "Original rows: 12181\n",
            "Aggregated rows: 12181\n",
            "\n",
            "Sample of aggregated data:\n"
          ]
        },
        {
          "data": {
            "text/html": [
              "<div>\n",
              "<style scoped>\n",
              "    .dataframe tbody tr th:only-of-type {\n",
              "        vertical-align: middle;\n",
              "    }\n",
              "\n",
              "    .dataframe tbody tr th {\n",
              "        vertical-align: top;\n",
              "    }\n",
              "\n",
              "    .dataframe thead th {\n",
              "        text-align: right;\n",
              "    }\n",
              "</style>\n",
              "<table border=\"1\" class=\"dataframe\">\n",
              "  <thead>\n",
              "    <tr style=\"text-align: right;\">\n",
              "      <th></th>\n",
              "      <th>customer_id</th>\n",
              "      <th>geohash_x</th>\n",
              "      <th>order_id</th>\n",
              "      <th>vendor_id</th>\n",
              "      <th>day_of_week</th>\n",
              "      <th>order_time</th>\n",
              "      <th>order_day</th>\n",
              "      <th>chain_id</th>\n",
              "      <th>geohash_y</th>\n",
              "      <th>cuisine_origin</th>\n",
              "      <th>avg_vendor_rating</th>\n",
              "      <th>num_items</th>\n",
              "      <th>total_order_value</th>\n",
              "      <th>items_ordered</th>\n",
              "    </tr>\n",
              "  </thead>\n",
              "  <tbody>\n",
              "    <tr>\n",
              "      <th>0</th>\n",
              "      <td>008ab40ac0</td>\n",
              "      <td>w21z7</td>\n",
              "      <td>9390</td>\n",
              "      <td>8ace9ccb</td>\n",
              "      <td>2</td>\n",
              "      <td>01:52:03</td>\n",
              "      <td>3 days</td>\n",
              "      <td>aece2f12</td>\n",
              "      <td>w21z7</td>\n",
              "      <td>chinese</td>\n",
              "      <td>4.5</td>\n",
              "      <td>1</td>\n",
              "      <td>0.0004</td>\n",
              "      <td>Spicy中辣</td>\n",
              "    </tr>\n",
              "    <tr>\n",
              "      <th>1</th>\n",
              "      <td>008ce71183</td>\n",
              "      <td>w21zb</td>\n",
              "      <td>7057</td>\n",
              "      <td>f0d84faa</td>\n",
              "      <td>5</td>\n",
              "      <td>18:11:48</td>\n",
              "      <td>34 days</td>\n",
              "      <td>fc3b6153</td>\n",
              "      <td>w21zc</td>\n",
              "      <td>chinese</td>\n",
              "      <td>3.8</td>\n",
              "      <td>2</td>\n",
              "      <td>0.0128</td>\n",
              "      <td>Kway Teow Goreng with Petai &amp; Prawns 虾仁臭豆炒河粉, ...</td>\n",
              "    </tr>\n",
              "    <tr>\n",
              "      <th>2</th>\n",
              "      <td>008ce71183</td>\n",
              "      <td>w21zb</td>\n",
              "      <td>7058</td>\n",
              "      <td>a23e4559</td>\n",
              "      <td>2</td>\n",
              "      <td>19:22:26</td>\n",
              "      <td>31 days</td>\n",
              "      <td>788f82f6</td>\n",
              "      <td>w21zb</td>\n",
              "      <td>american</td>\n",
              "      <td>4.1</td>\n",
              "      <td>4</td>\n",
              "      <td>0.0148</td>\n",
              "      <td>Tuna D'Licious, Spicy Chicken Pizza Baguette, ...</td>\n",
              "    </tr>\n",
              "    <tr>\n",
              "      <th>3</th>\n",
              "      <td>008ce71183</td>\n",
              "      <td>w21zb</td>\n",
              "      <td>7059</td>\n",
              "      <td>a23e4559</td>\n",
              "      <td>3</td>\n",
              "      <td>18:54:16</td>\n",
              "      <td>18 days</td>\n",
              "      <td>788f82f6</td>\n",
              "      <td>w21zb</td>\n",
              "      <td>american</td>\n",
              "      <td>4.0</td>\n",
              "      <td>4</td>\n",
              "      <td>0.0116</td>\n",
              "      <td>Tuna D'Licious, Chocolate Eclair, Tuna D'Licio...</td>\n",
              "    </tr>\n",
              "    <tr>\n",
              "      <th>4</th>\n",
              "      <td>008ce71183</td>\n",
              "      <td>w21zb</td>\n",
              "      <td>7060</td>\n",
              "      <td>535e5117</td>\n",
              "      <td>4</td>\n",
              "      <td>18:08:21</td>\n",
              "      <td>54 days</td>\n",
              "      <td>None</td>\n",
              "      <td>w21z8</td>\n",
              "      <td>malaysian</td>\n",
              "      <td>3.7</td>\n",
              "      <td>3</td>\n",
              "      <td>0.0076</td>\n",
              "      <td>Bee Hoon Goreng, Mutton Chop, Mutton Soup</td>\n",
              "    </tr>\n",
              "  </tbody>\n",
              "</table>\n",
              "</div>"
            ],
            "text/plain": [
              "  customer_id geohash_x  order_id vendor_id  day_of_week order_time order_day  \\\n",
              "0  008ab40ac0     w21z7      9390  8ace9ccb            2   01:52:03    3 days   \n",
              "1  008ce71183     w21zb      7057  f0d84faa            5   18:11:48   34 days   \n",
              "2  008ce71183     w21zb      7058  a23e4559            2   19:22:26   31 days   \n",
              "3  008ce71183     w21zb      7059  a23e4559            3   18:54:16   18 days   \n",
              "4  008ce71183     w21zb      7060  535e5117            4   18:08:21   54 days   \n",
              "\n",
              "   chain_id geohash_y cuisine_origin  avg_vendor_rating  num_items  \\\n",
              "0  aece2f12     w21z7        chinese                4.5          1   \n",
              "1  fc3b6153     w21zc        chinese                3.8          2   \n",
              "2  788f82f6     w21zb       american                4.1          4   \n",
              "3  788f82f6     w21zb       american                4.0          4   \n",
              "4      None     w21z8      malaysian                3.7          3   \n",
              "\n",
              "   total_order_value                                      items_ordered  \n",
              "0             0.0004                                            Spicy中辣  \n",
              "1             0.0128  Kway Teow Goreng with Petai & Prawns 虾仁臭豆炒河粉, ...  \n",
              "2             0.0148  Tuna D'Licious, Spicy Chicken Pizza Baguette, ...  \n",
              "3             0.0116  Tuna D'Licious, Chocolate Eclair, Tuna D'Licio...  \n",
              "4             0.0076          Bee Hoon Goreng, Mutton Chop, Mutton Soup  "
            ]
          },
          "execution_count": 70,
          "metadata": {},
          "output_type": "execute_result"
        }
      ],
      "source": [
        "# Aggregate data to order level\n",
        "vendors_table = vendors_table.groupby(['customer_id', 'geohash_x', 'order_id', 'vendor_id']).agg({\n",
        "    'day_of_week': 'first',\n",
        "    'order_time': 'first',\n",
        "    'order_day': 'first',\n",
        "    'chain_id': 'first',\n",
        "    'geohash_y': 'first',\n",
        "    'cuisine_origin': 'first',\n",
        "    'vendor_rating': 'mean',  # Average rating across all products in the order\n",
        "    'product_id': 'count',  # Number of items in order\n",
        "    'unit_price': 'sum',  # Total order value\n",
        "    'name': lambda x: ', '.join(x[:3]) + ('...' if len(x) > 3 else '')  # First 3 product names\n",
        "}).reset_index()\n",
        "\n",
        "# Rename columns for clarity\n",
        "vendors_table.rename(columns={\n",
        "    'product_id': 'num_items',\n",
        "    'unit_price': 'total_order_value',\n",
        "    'name': 'items_ordered',\n",
        "    'vendor_rating': 'avg_vendor_rating'\n",
        "}, inplace=True)\n",
        "\n",
        "# Round ratings to 1 decimal\n",
        "vendors_table['avg_vendor_rating'] = vendors_table['avg_vendor_rating'].round(1)\n",
        "\n",
        "print(f\"Original rows: {len(vendors_table)}\")\n",
        "print(f\"Aggregated rows: {len(vendors_table)}\")\n",
        "print(\"\\nSample of aggregated data:\")\n",
        "vendors_table.head()\n"
      ]
    },
    {
      "cell_type": "markdown",
      "id": "3dda37db",
      "metadata": {},
      "source": [
        "# nan chain id"
      ]
    },
    {
      "cell_type": "code",
      "execution_count": 78,
      "id": "8d02a742",
      "metadata": {},
      "outputs": [
        {
          "name": "stdout",
          "output_type": "stream",
          "text": [
            "NaN count: 3487  | ratio: 13.95%\n"
          ]
        },
        {
          "data": {
            "text/html": [
              "<div>\n",
              "<style scoped>\n",
              "    .dataframe tbody tr th:only-of-type {\n",
              "        vertical-align: middle;\n",
              "    }\n",
              "\n",
              "    .dataframe tbody tr th {\n",
              "        vertical-align: top;\n",
              "    }\n",
              "\n",
              "    .dataframe thead th {\n",
              "        text-align: right;\n",
              "    }\n",
              "</style>\n",
              "<table border=\"1\" class=\"dataframe\">\n",
              "  <thead>\n",
              "    <tr style=\"text-align: right;\">\n",
              "      <th></th>\n",
              "      <th>customer_id</th>\n",
              "      <th>geohash_x</th>\n",
              "      <th>order_id</th>\n",
              "      <th>vendor_id</th>\n",
              "      <th>product_id</th>\n",
              "      <th>day_of_week</th>\n",
              "      <th>order_time</th>\n",
              "      <th>order_day</th>\n",
              "      <th>name</th>\n",
              "      <th>unit_price</th>\n",
              "      <th>chain_id</th>\n",
              "      <th>geohash_y</th>\n",
              "      <th>primary_cuisine</th>\n",
              "      <th>cuisine_origin</th>\n",
              "      <th>order_frequency</th>\n",
              "      <th>rating</th>\n",
              "    </tr>\n",
              "  </thead>\n",
              "  <tbody>\n",
              "    <tr>\n",
              "      <th>5</th>\n",
              "      <td>f374c8c54c</td>\n",
              "      <td>w21zt</td>\n",
              "      <td>1</td>\n",
              "      <td>21830106</td>\n",
              "      <td>f245bdf79350</td>\n",
              "      <td>4</td>\n",
              "      <td>19:03:03</td>\n",
              "      <td>61 days</td>\n",
              "      <td>Chicken Cutlet with Rice</td>\n",
              "      <td>0.0020</td>\n",
              "      <td>NaN</td>\n",
              "      <td>w21zt</td>\n",
              "      <td>western</td>\n",
              "      <td>snacks</td>\n",
              "      <td>1</td>\n",
              "      <td>2</td>\n",
              "    </tr>\n",
              "    <tr>\n",
              "      <th>6</th>\n",
              "      <td>f374c8c54c</td>\n",
              "      <td>w21zt</td>\n",
              "      <td>1</td>\n",
              "      <td>21830106</td>\n",
              "      <td>146127be77d4</td>\n",
              "      <td>4</td>\n",
              "      <td>19:03:03</td>\n",
              "      <td>61 days</td>\n",
              "      <td>Chicken Chop</td>\n",
              "      <td>0.0028</td>\n",
              "      <td>NaN</td>\n",
              "      <td>w21zt</td>\n",
              "      <td>western</td>\n",
              "      <td>snacks</td>\n",
              "      <td>1</td>\n",
              "      <td>3</td>\n",
              "    </tr>\n",
              "    <tr>\n",
              "      <th>7</th>\n",
              "      <td>f374c8c54c</td>\n",
              "      <td>w21zt</td>\n",
              "      <td>1</td>\n",
              "      <td>21830106</td>\n",
              "      <td>6c108c0fb2b9</td>\n",
              "      <td>4</td>\n",
              "      <td>19:03:03</td>\n",
              "      <td>61 days</td>\n",
              "      <td>Chicken Wings with Rice</td>\n",
              "      <td>0.0016</td>\n",
              "      <td>NaN</td>\n",
              "      <td>w21zt</td>\n",
              "      <td>western</td>\n",
              "      <td>snacks</td>\n",
              "      <td>1</td>\n",
              "      <td>3</td>\n",
              "    </tr>\n",
              "    <tr>\n",
              "      <th>8</th>\n",
              "      <td>f374c8c54c</td>\n",
              "      <td>w21zt</td>\n",
              "      <td>1</td>\n",
              "      <td>21830106</td>\n",
              "      <td>da422c7836e1</td>\n",
              "      <td>4</td>\n",
              "      <td>19:03:03</td>\n",
              "      <td>61 days</td>\n",
              "      <td>Saba Fish with Rice</td>\n",
              "      <td>0.0024</td>\n",
              "      <td>NaN</td>\n",
              "      <td>w21zt</td>\n",
              "      <td>western</td>\n",
              "      <td>snacks</td>\n",
              "      <td>1</td>\n",
              "      <td>3</td>\n",
              "    </tr>\n",
              "    <tr>\n",
              "      <th>9</th>\n",
              "      <td>f374c8c54c</td>\n",
              "      <td>w21zt</td>\n",
              "      <td>1</td>\n",
              "      <td>21830106</td>\n",
              "      <td>01110c80a0fa</td>\n",
              "      <td>4</td>\n",
              "      <td>19:03:03</td>\n",
              "      <td>61 days</td>\n",
              "      <td>Chicken Chop with Rice</td>\n",
              "      <td>0.0020</td>\n",
              "      <td>NaN</td>\n",
              "      <td>w21zt</td>\n",
              "      <td>western</td>\n",
              "      <td>snacks</td>\n",
              "      <td>1</td>\n",
              "      <td>5</td>\n",
              "    </tr>\n",
              "    <tr>\n",
              "      <th>10</th>\n",
              "      <td>f374c8c54c</td>\n",
              "      <td>w21zt</td>\n",
              "      <td>1</td>\n",
              "      <td>21830106</td>\n",
              "      <td>5289a6f50a7b</td>\n",
              "      <td>4</td>\n",
              "      <td>19:03:03</td>\n",
              "      <td>61 days</td>\n",
              "      <td>Tomato Sauce Spaghetti</td>\n",
              "      <td>0.0020</td>\n",
              "      <td>NaN</td>\n",
              "      <td>w21zt</td>\n",
              "      <td>western</td>\n",
              "      <td>snacks</td>\n",
              "      <td>1</td>\n",
              "      <td>4</td>\n",
              "    </tr>\n",
              "    <tr>\n",
              "      <th>11</th>\n",
              "      <td>f374c8c54c</td>\n",
              "      <td>w21zt</td>\n",
              "      <td>1</td>\n",
              "      <td>21830106</td>\n",
              "      <td>64a268be5f2e</td>\n",
              "      <td>4</td>\n",
              "      <td>19:03:03</td>\n",
              "      <td>61 days</td>\n",
              "      <td>Grilled Fish</td>\n",
              "      <td>0.0036</td>\n",
              "      <td>NaN</td>\n",
              "      <td>w21zt</td>\n",
              "      <td>western</td>\n",
              "      <td>snacks</td>\n",
              "      <td>1</td>\n",
              "      <td>3</td>\n",
              "    </tr>\n",
              "    <tr>\n",
              "      <th>12</th>\n",
              "      <td>f374c8c54c</td>\n",
              "      <td>w21zt</td>\n",
              "      <td>1</td>\n",
              "      <td>21830106</td>\n",
              "      <td>adf53ab3befe</td>\n",
              "      <td>4</td>\n",
              "      <td>19:03:03</td>\n",
              "      <td>61 days</td>\n",
              "      <td>Fish &amp; Chips</td>\n",
              "      <td>0.0028</td>\n",
              "      <td>NaN</td>\n",
              "      <td>w21zt</td>\n",
              "      <td>western</td>\n",
              "      <td>snacks</td>\n",
              "      <td>1</td>\n",
              "      <td>5</td>\n",
              "    </tr>\n",
              "    <tr>\n",
              "      <th>13</th>\n",
              "      <td>2e7276ad3a</td>\n",
              "      <td>w21z6</td>\n",
              "      <td>2</td>\n",
              "      <td>ee4f2ee0</td>\n",
              "      <td>2c349859aa69</td>\n",
              "      <td>0</td>\n",
              "      <td>18:08:42</td>\n",
              "      <td>8 days</td>\n",
              "      <td>V7. Beef Noodle Soup</td>\n",
              "      <td>0.0040</td>\n",
              "      <td>NaN</td>\n",
              "      <td>w21z7</td>\n",
              "      <td>vietnamese</td>\n",
              "      <td>vietnamese</td>\n",
              "      <td>15</td>\n",
              "      <td>1</td>\n",
              "    </tr>\n",
              "    <tr>\n",
              "      <th>14</th>\n",
              "      <td>2e7276ad3a</td>\n",
              "      <td>w21z6</td>\n",
              "      <td>2</td>\n",
              "      <td>ee4f2ee0</td>\n",
              "      <td>a3e4aac0520d</td>\n",
              "      <td>0</td>\n",
              "      <td>18:08:42</td>\n",
              "      <td>8 days</td>\n",
              "      <td>V12. Summer Rolls</td>\n",
              "      <td>0.0040</td>\n",
              "      <td>NaN</td>\n",
              "      <td>w21z7</td>\n",
              "      <td>vietnamese</td>\n",
              "      <td>vietnamese</td>\n",
              "      <td>15</td>\n",
              "      <td>2</td>\n",
              "    </tr>\n",
              "  </tbody>\n",
              "</table>\n",
              "</div>"
            ],
            "text/plain": [
              "   customer_id geohash_x  order_id vendor_id    product_id  day_of_week  \\\n",
              "5   f374c8c54c     w21zt         1  21830106  f245bdf79350            4   \n",
              "6   f374c8c54c     w21zt         1  21830106  146127be77d4            4   \n",
              "7   f374c8c54c     w21zt         1  21830106  6c108c0fb2b9            4   \n",
              "8   f374c8c54c     w21zt         1  21830106  da422c7836e1            4   \n",
              "9   f374c8c54c     w21zt         1  21830106  01110c80a0fa            4   \n",
              "10  f374c8c54c     w21zt         1  21830106  5289a6f50a7b            4   \n",
              "11  f374c8c54c     w21zt         1  21830106  64a268be5f2e            4   \n",
              "12  f374c8c54c     w21zt         1  21830106  adf53ab3befe            4   \n",
              "13  2e7276ad3a     w21z6         2  ee4f2ee0  2c349859aa69            0   \n",
              "14  2e7276ad3a     w21z6         2  ee4f2ee0  a3e4aac0520d            0   \n",
              "\n",
              "   order_time order_day                      name  unit_price chain_id  \\\n",
              "5    19:03:03   61 days  Chicken Cutlet with Rice      0.0020      NaN   \n",
              "6    19:03:03   61 days              Chicken Chop      0.0028      NaN   \n",
              "7    19:03:03   61 days   Chicken Wings with Rice      0.0016      NaN   \n",
              "8    19:03:03   61 days       Saba Fish with Rice      0.0024      NaN   \n",
              "9    19:03:03   61 days    Chicken Chop with Rice      0.0020      NaN   \n",
              "10   19:03:03   61 days    Tomato Sauce Spaghetti      0.0020      NaN   \n",
              "11   19:03:03   61 days              Grilled Fish      0.0036      NaN   \n",
              "12   19:03:03   61 days              Fish & Chips      0.0028      NaN   \n",
              "13   18:08:42    8 days      V7. Beef Noodle Soup      0.0040      NaN   \n",
              "14   18:08:42    8 days         V12. Summer Rolls      0.0040      NaN   \n",
              "\n",
              "   geohash_y primary_cuisine cuisine_origin  order_frequency  rating  \n",
              "5      w21zt         western         snacks                1       2  \n",
              "6      w21zt         western         snacks                1       3  \n",
              "7      w21zt         western         snacks                1       3  \n",
              "8      w21zt         western         snacks                1       3  \n",
              "9      w21zt         western         snacks                1       5  \n",
              "10     w21zt         western         snacks                1       4  \n",
              "11     w21zt         western         snacks                1       3  \n",
              "12     w21zt         western         snacks                1       5  \n",
              "13     w21z7      vietnamese     vietnamese               15       1  \n",
              "14     w21z7      vietnamese     vietnamese               15       2  "
            ]
          },
          "metadata": {},
          "output_type": "display_data"
        }
      ],
      "source": [
        "# عدد القيم الفارغة ونسبتها\n",
        "n_nan = full_data['chain_id'].isna().sum()\n",
        "ratio_nan = n_nan / len(full_data)\n",
        "print('NaN count:', n_nan, ' | ratio:', f'{ratio_nan:.2%}')\n",
        "\n",
        "# عيّنة سريعة للمراجعة\n",
        "display(full_data[full_data['chain_id'].isna()].head(10))\n"
      ]
    },
    {
      "cell_type": "code",
      "execution_count": 79,
      "id": "fe1d12d8",
      "metadata": {},
      "outputs": [],
      "source": [
        "import pandas as pd\n",
        "\n",
        "df = full_data.copy()\n",
        "\n",
        "# (أ) نبني mapping من vendor_id -> chain_id المعروف (نأخذ الـ mode في حال التكرار)\n",
        "known = df.dropna(subset=['chain_id'])\n",
        "vendor_to_chain = (\n",
        "    known.groupby('vendor_id')['chain_id']\n",
        "         .agg(lambda s: s.mode().iloc[0])  # الأكثر تكرارًا لضبط أي ضجيج\n",
        ")\n",
        "\n",
        "# (ب) نملأ القيم الناقصة من هذا الـ mapping\n",
        "df['chain_id_filled'] = df['chain_id'].copy()\n",
        "df['chain_id_filled'] = df['chain_id_filled'].fillna(df['vendor_id'].map(vendor_to_chain))\n",
        "\n",
        "# (ج) ما بقي NaN بعد الخطوة السابقة نعتبره stand-alone -> chain_id = vendor_id\n",
        "solo_mask = df['chain_id_filled'].isna()\n",
        "df.loc[solo_mask, 'chain_id_filled'] = df.loc[solo_mask, 'vendor_id']\n",
        "df['standalone_assumption'] = solo_mask  # عشان نعرف مين اتعبّى بهذه الفرضية\n"
      ]
    },
    {
      "cell_type": "code",
      "execution_count": 80,
      "id": "db22c99e",
      "metadata": {},
      "outputs": [
        {
          "name": "stdout",
          "output_type": "stream",
          "text": [
            "Vendors with >1 chain_id after filling: 0\n",
            "Chains with multiple branches: 497\n",
            "Stand-alone vendors (filled as vendor_id): 3487\n"
          ]
        }
      ],
      "source": [
        "# يجب أن يكون لكل vendor_id قيمة chain_id واحدة بعد التعبئة\n",
        "per_vendor_unique = df.groupby('vendor_id')['chain_id_filled'].nunique()\n",
        "violations = per_vendor_unique[per_vendor_unique > 1]\n",
        "print('Vendors with >1 chain_id after filling:', len(violations))\n",
        "\n",
        "# إحصائية بسيطة: كم سلسلة لها أكثر من فرع، وكم stand-alone\n",
        "branches_per_chain = df.groupby('chain_id_filled')['vendor_id'].nunique()\n",
        "print('Chains with multiple branches:', (branches_per_chain > 1).sum())\n",
        "print('Stand-alone vendors (filled as vendor_id):', df['standalone_assumption'].sum())\n"
      ]
    },
    {
      "cell_type": "code",
      "execution_count": 81,
      "id": "1160bedc",
      "metadata": {},
      "outputs": [],
      "source": [
        "full_data['chain_id'] = df['chain_id_filled']"
      ]
    },
    {
      "cell_type": "code",
      "execution_count": 82,
      "id": "c7d1538d",
      "metadata": {},
      "outputs": [
        {
          "name": "stdout",
          "output_type": "stream",
          "text": [
            "chain_id_filled\n",
            "21d7cbf7    503\n",
            "45b7cc87    390\n",
            "0f494195    388\n",
            "24975bf7    348\n",
            "0baab236    265\n",
            "3ae5716f    256\n",
            "e15fc6fc    231\n",
            "f88ffd2b    222\n",
            "000b5aa6    207\n",
            "2eedb179    184\n",
            "Name: count, dtype: int64\n"
          ]
        }
      ],
      "source": [
        "top_chains = df['chain_id_filled'].value_counts().head(10)\n",
        "print(top_chains)\n"
      ]
    },
    {
      "cell_type": "code",
      "execution_count": 83,
      "id": "b47cfc0b",
      "metadata": {},
      "outputs": [
        {
          "name": "stdout",
          "output_type": "stream",
          "text": [
            "Chains with branches in multiple areas: 479\n"
          ]
        }
      ],
      "source": [
        "geo_chain = df.groupby('chain_id_filled')['geohash_y'].nunique().reset_index()\n",
        "print('Chains with branches in multiple areas:', (geo_chain['geohash_y'] > 1).sum())\n"
      ]
    },
    {
      "cell_type": "code",
      "execution_count": 84,
      "id": "3119a92e",
      "metadata": {},
      "outputs": [],
      "source": [
        "df['vendor_id'] = df['vendor_id'].astype(str)\n",
        "df['chain_id_filled'] = df['chain_id_filled'].astype(str)\n"
      ]
    },
    {
      "cell_type": "code",
      "execution_count": 85,
      "id": "6e016df1",
      "metadata": {},
      "outputs": [],
      "source": [
        "full_data['chain_id_original'] = full_data['chain_id']\n",
        "full_data['chain_id'] = df['chain_id_filled']  # هذا هو المعتمد للتحليل والنمذجة\n"
      ]
    },
    {
      "cell_type": "code",
      "execution_count": 86,
      "id": "9ef8db1b",
      "metadata": {},
      "outputs": [
        {
          "data": {
            "text/html": [
              "<div>\n",
              "<style scoped>\n",
              "    .dataframe tbody tr th:only-of-type {\n",
              "        vertical-align: middle;\n",
              "    }\n",
              "\n",
              "    .dataframe tbody tr th {\n",
              "        vertical-align: top;\n",
              "    }\n",
              "\n",
              "    .dataframe thead th {\n",
              "        text-align: right;\n",
              "    }\n",
              "</style>\n",
              "<table border=\"1\" class=\"dataframe\">\n",
              "  <thead>\n",
              "    <tr style=\"text-align: right;\">\n",
              "      <th></th>\n",
              "      <th>customer_id</th>\n",
              "      <th>geohash_x</th>\n",
              "      <th>order_id</th>\n",
              "      <th>vendor_id</th>\n",
              "      <th>product_id</th>\n",
              "      <th>day_of_week</th>\n",
              "      <th>order_time</th>\n",
              "      <th>order_day</th>\n",
              "      <th>name</th>\n",
              "      <th>unit_price</th>\n",
              "      <th>chain_id</th>\n",
              "      <th>geohash_y</th>\n",
              "      <th>primary_cuisine</th>\n",
              "      <th>cuisine_origin</th>\n",
              "      <th>order_frequency</th>\n",
              "      <th>rating</th>\n",
              "      <th>chain_id_original</th>\n",
              "    </tr>\n",
              "  </thead>\n",
              "  <tbody>\n",
              "    <tr>\n",
              "      <th>0</th>\n",
              "      <td>1ba124d4e5</td>\n",
              "      <td>w21z7</td>\n",
              "      <td>0</td>\n",
              "      <td>212753d2</td>\n",
              "      <td>783e85338f1c</td>\n",
              "      <td>0</td>\n",
              "      <td>12:03:29</td>\n",
              "      <td>85 days</td>\n",
              "      <td>201. Japanese Garlic Karaage Don</td>\n",
              "      <td>0.0060</td>\n",
              "      <td>66c9978d</td>\n",
              "      <td>w21z7</td>\n",
              "      <td>ramen</td>\n",
              "      <td>japanese</td>\n",
              "      <td>1</td>\n",
              "      <td>4</td>\n",
              "      <td>66c9978d</td>\n",
              "    </tr>\n",
              "    <tr>\n",
              "      <th>1</th>\n",
              "      <td>1ba124d4e5</td>\n",
              "      <td>w21z7</td>\n",
              "      <td>0</td>\n",
              "      <td>212753d2</td>\n",
              "      <td>084ab73246e6</td>\n",
              "      <td>0</td>\n",
              "      <td>12:03:29</td>\n",
              "      <td>85 days</td>\n",
              "      <td>204. Chicken Cutlet Don</td>\n",
              "      <td>0.0068</td>\n",
              "      <td>66c9978d</td>\n",
              "      <td>w21z7</td>\n",
              "      <td>ramen</td>\n",
              "      <td>japanese</td>\n",
              "      <td>1</td>\n",
              "      <td>5</td>\n",
              "      <td>66c9978d</td>\n",
              "    </tr>\n",
              "    <tr>\n",
              "      <th>2</th>\n",
              "      <td>1ba124d4e5</td>\n",
              "      <td>w21z7</td>\n",
              "      <td>0</td>\n",
              "      <td>212753d2</td>\n",
              "      <td>30eba3cc2676</td>\n",
              "      <td>0</td>\n",
              "      <td>12:03:29</td>\n",
              "      <td>85 days</td>\n",
              "      <td>206. Beef Sukiyaki Don</td>\n",
              "      <td>0.0068</td>\n",
              "      <td>66c9978d</td>\n",
              "      <td>w21z7</td>\n",
              "      <td>ramen</td>\n",
              "      <td>japanese</td>\n",
              "      <td>1</td>\n",
              "      <td>3</td>\n",
              "      <td>66c9978d</td>\n",
              "    </tr>\n",
              "    <tr>\n",
              "      <th>3</th>\n",
              "      <td>1ba124d4e5</td>\n",
              "      <td>w21z7</td>\n",
              "      <td>0</td>\n",
              "      <td>212753d2</td>\n",
              "      <td>3910309eea60</td>\n",
              "      <td>0</td>\n",
              "      <td>12:03:29</td>\n",
              "      <td>85 days</td>\n",
              "      <td>209. Japanese Beef Yakiniku Don</td>\n",
              "      <td>0.0068</td>\n",
              "      <td>66c9978d</td>\n",
              "      <td>w21z7</td>\n",
              "      <td>ramen</td>\n",
              "      <td>japanese</td>\n",
              "      <td>1</td>\n",
              "      <td>5</td>\n",
              "      <td>66c9978d</td>\n",
              "    </tr>\n",
              "    <tr>\n",
              "      <th>4</th>\n",
              "      <td>1ba124d4e5</td>\n",
              "      <td>w21z7</td>\n",
              "      <td>0</td>\n",
              "      <td>212753d2</td>\n",
              "      <td>20049fb602cb</td>\n",
              "      <td>0</td>\n",
              "      <td>12:03:29</td>\n",
              "      <td>85 days</td>\n",
              "      <td>210. Teriyaki Salmon Don</td>\n",
              "      <td>0.0080</td>\n",
              "      <td>66c9978d</td>\n",
              "      <td>w21z7</td>\n",
              "      <td>ramen</td>\n",
              "      <td>japanese</td>\n",
              "      <td>1</td>\n",
              "      <td>5</td>\n",
              "      <td>66c9978d</td>\n",
              "    </tr>\n",
              "  </tbody>\n",
              "</table>\n",
              "</div>"
            ],
            "text/plain": [
              "  customer_id geohash_x  order_id vendor_id    product_id  day_of_week  \\\n",
              "0  1ba124d4e5     w21z7         0  212753d2  783e85338f1c            0   \n",
              "1  1ba124d4e5     w21z7         0  212753d2  084ab73246e6            0   \n",
              "2  1ba124d4e5     w21z7         0  212753d2  30eba3cc2676            0   \n",
              "3  1ba124d4e5     w21z7         0  212753d2  3910309eea60            0   \n",
              "4  1ba124d4e5     w21z7         0  212753d2  20049fb602cb            0   \n",
              "\n",
              "  order_time order_day                              name  unit_price  \\\n",
              "0   12:03:29   85 days  201. Japanese Garlic Karaage Don      0.0060   \n",
              "1   12:03:29   85 days           204. Chicken Cutlet Don      0.0068   \n",
              "2   12:03:29   85 days            206. Beef Sukiyaki Don      0.0068   \n",
              "3   12:03:29   85 days   209. Japanese Beef Yakiniku Don      0.0068   \n",
              "4   12:03:29   85 days          210. Teriyaki Salmon Don      0.0080   \n",
              "\n",
              "   chain_id geohash_y primary_cuisine cuisine_origin  order_frequency  rating  \\\n",
              "0  66c9978d     w21z7           ramen       japanese                1       4   \n",
              "1  66c9978d     w21z7           ramen       japanese                1       5   \n",
              "2  66c9978d     w21z7           ramen       japanese                1       3   \n",
              "3  66c9978d     w21z7           ramen       japanese                1       5   \n",
              "4  66c9978d     w21z7           ramen       japanese                1       5   \n",
              "\n",
              "  chain_id_original  \n",
              "0          66c9978d  \n",
              "1          66c9978d  \n",
              "2          66c9978d  \n",
              "3          66c9978d  \n",
              "4          66c9978d  "
            ]
          },
          "execution_count": 86,
          "metadata": {},
          "output_type": "execute_result"
        }
      ],
      "source": [
        "full_data.head()"
      ]
    },
    {
      "cell_type": "markdown",
      "id": "6258706d",
      "metadata": {},
      "source": [
        "## geohash Categorize geohashes into regions (North of Singapore, South of Singapore)"
      ]
    },
    {
      "cell_type": "markdown",
      "id": "185ed6f7",
      "metadata": {},
      "source": []
    },
    {
      "cell_type": "code",
      "execution_count": 129,
      "id": "29f448b7",
      "metadata": {},
      "outputs": [
        {
          "name": "stdout",
          "output_type": "stream",
          "text": [
            "Requirement already satisfied: geohash2 in /home/rema/.pyenv/versions/3.10.6/envs/food-delivery-rec/lib/python3.10/site-packages (1.1)\n",
            "Requirement already satisfied: docutils>=0.3 in /home/rema/.pyenv/versions/3.10.6/envs/food-delivery-rec/lib/python3.10/site-packages (from geohash2) (0.22.2)\n",
            "\n",
            "\u001b[1m[\u001b[0m\u001b[34;49mnotice\u001b[0m\u001b[1;39;49m]\u001b[0m\u001b[39;49m A new release of pip is available: \u001b[0m\u001b[31;49m25.2\u001b[0m\u001b[39;49m -> \u001b[0m\u001b[32;49m25.3\u001b[0m\n",
            "\u001b[1m[\u001b[0m\u001b[34;49mnotice\u001b[0m\u001b[1;39;49m]\u001b[0m\u001b[39;49m To update, run: \u001b[0m\u001b[32;49mpip install --upgrade pip\u001b[0m\n",
            "Note: you may need to restart the kernel to use updated packages.\n"
          ]
        }
      ],
      "source": [
        " pip install geohash2"
      ]
    },
    {
      "cell_type": "code",
      "execution_count": 130,
      "id": "7131edbf",
      "metadata": {},
      "outputs": [],
      "source": [
        "from geohash2 import decode\n",
        "import numpy as np\n",
        "import pandas as pd\n",
        "\n",
        "def safe_decode(gh, precision=7):  # نرفع الدقة إلى 7\n",
        "    try:\n",
        "        if pd.isna(gh) or not isinstance(gh, str) or len(gh) == 0:\n",
        "            return pd.Series([np.nan, np.nan])\n",
        "        gh_use = gh[:min(len(gh), precision)]\n",
        "        lat, lon = decode(gh_use)   # يرجّع (lat, lon)\n",
        "        return pd.Series([float(lat), float(lon)])\n",
        "    except Exception:\n",
        "        return pd.Series([np.nan, np.nan])\n",
        "\n",
        "# أعِد توليد الإحداثيات (العميل ثم المطعم)\n",
        "full_data[['customer_lat','customer_lon']] = full_data['geohash_x'].apply(lambda x: safe_decode(x, precision=7))\n",
        "full_data[['vendor_lat','vendor_lon']]     = full_data['geohash_y'].apply(lambda x: safe_decode(x, precision=7))\n"
      ]
    },
    {
      "cell_type": "code",
      "execution_count": 131,
      "id": "8248b5a2",
      "metadata": {},
      "outputs": [
        {
          "data": {
            "text/html": [
              "<div>\n",
              "<style scoped>\n",
              "    .dataframe tbody tr th:only-of-type {\n",
              "        vertical-align: middle;\n",
              "    }\n",
              "\n",
              "    .dataframe tbody tr th {\n",
              "        vertical-align: top;\n",
              "    }\n",
              "\n",
              "    .dataframe thead th {\n",
              "        text-align: right;\n",
              "    }\n",
              "</style>\n",
              "<table border=\"1\" class=\"dataframe\">\n",
              "  <thead>\n",
              "    <tr style=\"text-align: right;\">\n",
              "      <th></th>\n",
              "      <th>customer_id</th>\n",
              "      <th>geohash_x</th>\n",
              "      <th>order_id</th>\n",
              "      <th>vendor_id</th>\n",
              "      <th>product_id</th>\n",
              "      <th>day_of_week</th>\n",
              "      <th>order_time</th>\n",
              "      <th>order_day</th>\n",
              "      <th>name</th>\n",
              "      <th>unit_price</th>\n",
              "      <th>...</th>\n",
              "      <th>cuisine_origin</th>\n",
              "      <th>order_frequency</th>\n",
              "      <th>rating</th>\n",
              "      <th>chain_id_original</th>\n",
              "      <th>customer_region</th>\n",
              "      <th>vendor_region</th>\n",
              "      <th>customer_lat</th>\n",
              "      <th>customer_lon</th>\n",
              "      <th>vendor_lat</th>\n",
              "      <th>vendor_lon</th>\n",
              "    </tr>\n",
              "  </thead>\n",
              "  <tbody>\n",
              "    <tr>\n",
              "      <th>0</th>\n",
              "      <td>1ba124d4e5</td>\n",
              "      <td>w21z7</td>\n",
              "      <td>0</td>\n",
              "      <td>212753d2</td>\n",
              "      <td>783e85338f1c</td>\n",
              "      <td>0</td>\n",
              "      <td>12:03:29</td>\n",
              "      <td>85 days</td>\n",
              "      <td>201. Japanese Garlic Karaage Don</td>\n",
              "      <td>0.0060</td>\n",
              "      <td>...</td>\n",
              "      <td>japanese</td>\n",
              "      <td>1</td>\n",
              "      <td>4</td>\n",
              "      <td>66c9978d</td>\n",
              "      <td>South</td>\n",
              "      <td>South</td>\n",
              "      <td>1.3</td>\n",
              "      <td>103.9</td>\n",
              "      <td>1.3</td>\n",
              "      <td>103.9</td>\n",
              "    </tr>\n",
              "    <tr>\n",
              "      <th>1</th>\n",
              "      <td>1ba124d4e5</td>\n",
              "      <td>w21z7</td>\n",
              "      <td>0</td>\n",
              "      <td>212753d2</td>\n",
              "      <td>084ab73246e6</td>\n",
              "      <td>0</td>\n",
              "      <td>12:03:29</td>\n",
              "      <td>85 days</td>\n",
              "      <td>204. Chicken Cutlet Don</td>\n",
              "      <td>0.0068</td>\n",
              "      <td>...</td>\n",
              "      <td>japanese</td>\n",
              "      <td>1</td>\n",
              "      <td>5</td>\n",
              "      <td>66c9978d</td>\n",
              "      <td>South</td>\n",
              "      <td>South</td>\n",
              "      <td>1.3</td>\n",
              "      <td>103.9</td>\n",
              "      <td>1.3</td>\n",
              "      <td>103.9</td>\n",
              "    </tr>\n",
              "    <tr>\n",
              "      <th>2</th>\n",
              "      <td>1ba124d4e5</td>\n",
              "      <td>w21z7</td>\n",
              "      <td>0</td>\n",
              "      <td>212753d2</td>\n",
              "      <td>30eba3cc2676</td>\n",
              "      <td>0</td>\n",
              "      <td>12:03:29</td>\n",
              "      <td>85 days</td>\n",
              "      <td>206. Beef Sukiyaki Don</td>\n",
              "      <td>0.0068</td>\n",
              "      <td>...</td>\n",
              "      <td>japanese</td>\n",
              "      <td>1</td>\n",
              "      <td>3</td>\n",
              "      <td>66c9978d</td>\n",
              "      <td>South</td>\n",
              "      <td>South</td>\n",
              "      <td>1.3</td>\n",
              "      <td>103.9</td>\n",
              "      <td>1.3</td>\n",
              "      <td>103.9</td>\n",
              "    </tr>\n",
              "    <tr>\n",
              "      <th>3</th>\n",
              "      <td>1ba124d4e5</td>\n",
              "      <td>w21z7</td>\n",
              "      <td>0</td>\n",
              "      <td>212753d2</td>\n",
              "      <td>3910309eea60</td>\n",
              "      <td>0</td>\n",
              "      <td>12:03:29</td>\n",
              "      <td>85 days</td>\n",
              "      <td>209. Japanese Beef Yakiniku Don</td>\n",
              "      <td>0.0068</td>\n",
              "      <td>...</td>\n",
              "      <td>japanese</td>\n",
              "      <td>1</td>\n",
              "      <td>5</td>\n",
              "      <td>66c9978d</td>\n",
              "      <td>South</td>\n",
              "      <td>South</td>\n",
              "      <td>1.3</td>\n",
              "      <td>103.9</td>\n",
              "      <td>1.3</td>\n",
              "      <td>103.9</td>\n",
              "    </tr>\n",
              "    <tr>\n",
              "      <th>4</th>\n",
              "      <td>1ba124d4e5</td>\n",
              "      <td>w21z7</td>\n",
              "      <td>0</td>\n",
              "      <td>212753d2</td>\n",
              "      <td>20049fb602cb</td>\n",
              "      <td>0</td>\n",
              "      <td>12:03:29</td>\n",
              "      <td>85 days</td>\n",
              "      <td>210. Teriyaki Salmon Don</td>\n",
              "      <td>0.0080</td>\n",
              "      <td>...</td>\n",
              "      <td>japanese</td>\n",
              "      <td>1</td>\n",
              "      <td>5</td>\n",
              "      <td>66c9978d</td>\n",
              "      <td>South</td>\n",
              "      <td>South</td>\n",
              "      <td>1.3</td>\n",
              "      <td>103.9</td>\n",
              "      <td>1.3</td>\n",
              "      <td>103.9</td>\n",
              "    </tr>\n",
              "  </tbody>\n",
              "</table>\n",
              "<p>5 rows × 23 columns</p>\n",
              "</div>"
            ],
            "text/plain": [
              "  customer_id geohash_x  order_id vendor_id    product_id  day_of_week  \\\n",
              "0  1ba124d4e5     w21z7         0  212753d2  783e85338f1c            0   \n",
              "1  1ba124d4e5     w21z7         0  212753d2  084ab73246e6            0   \n",
              "2  1ba124d4e5     w21z7         0  212753d2  30eba3cc2676            0   \n",
              "3  1ba124d4e5     w21z7         0  212753d2  3910309eea60            0   \n",
              "4  1ba124d4e5     w21z7         0  212753d2  20049fb602cb            0   \n",
              "\n",
              "  order_time order_day                              name  unit_price  ...  \\\n",
              "0   12:03:29   85 days  201. Japanese Garlic Karaage Don      0.0060  ...   \n",
              "1   12:03:29   85 days           204. Chicken Cutlet Don      0.0068  ...   \n",
              "2   12:03:29   85 days            206. Beef Sukiyaki Don      0.0068  ...   \n",
              "3   12:03:29   85 days   209. Japanese Beef Yakiniku Don      0.0068  ...   \n",
              "4   12:03:29   85 days          210. Teriyaki Salmon Don      0.0080  ...   \n",
              "\n",
              "  cuisine_origin order_frequency rating chain_id_original  customer_region  \\\n",
              "0       japanese               1      4          66c9978d            South   \n",
              "1       japanese               1      5          66c9978d            South   \n",
              "2       japanese               1      3          66c9978d            South   \n",
              "3       japanese               1      5          66c9978d            South   \n",
              "4       japanese               1      5          66c9978d            South   \n",
              "\n",
              "   vendor_region customer_lat customer_lon vendor_lat  vendor_lon  \n",
              "0          South          1.3        103.9        1.3       103.9  \n",
              "1          South          1.3        103.9        1.3       103.9  \n",
              "2          South          1.3        103.9        1.3       103.9  \n",
              "3          South          1.3        103.9        1.3       103.9  \n",
              "4          South          1.3        103.9        1.3       103.9  \n",
              "\n",
              "[5 rows x 23 columns]"
            ]
          },
          "execution_count": 131,
          "metadata": {},
          "output_type": "execute_result"
        }
      ],
      "source": [
        "full_data.head()"
      ]
    },
    {
      "cell_type": "code",
      "execution_count": 132,
      "id": "d34afe8e",
      "metadata": {},
      "outputs": [],
      "source": [
        "for col in ['customer_lat','customer_lon','vendor_lat','vendor_lon']:\n",
        "    full_data[col] = pd.to_numeric(full_data[col], errors='coerce')\n"
      ]
    },
    {
      "cell_type": "code",
      "execution_count": 133,
      "id": "98e14e58",
      "metadata": {},
      "outputs": [
        {
          "name": "stdout",
          "output_type": "stream",
          "text": [
            "       customer_lat  customer_lon    vendor_lat    vendor_lon\n",
            "count  25000.000000  25000.000000  25000.000000  25000.000000\n",
            "mean       1.340364    103.851548      1.337932    103.852900\n",
            "std        0.050810      0.083010      0.049494      0.083065\n",
            "min        1.300000    103.600000      1.300000    103.700000\n",
            "25%        1.300000    103.800000      1.300000    103.800000\n",
            "50%        1.300000    103.900000      1.300000    103.900000\n",
            "75%        1.400000    103.900000      1.400000    103.900000\n",
            "max        1.500000    104.000000      1.500000    104.000000\n"
          ]
        }
      ],
      "source": [
        "print(full_data[['customer_lat','customer_lon','vendor_lat','vendor_lon']].describe())\n"
      ]
    },
    {
      "cell_type": "code",
      "execution_count": 134,
      "id": "46c9d06a",
      "metadata": {},
      "outputs": [],
      "source": [
        "# حدود عملية مشتقة من describe() الذي أرسلته\n",
        "CUST_LAT_SPLIT = 1.35\n",
        "VEND_LAT_SPLIT = 1.35\n",
        "CUST_LON_SPLIT = 103.85\n",
        "VEND_LON_SPLIT = 103.85\n"
      ]
    },
    {
      "cell_type": "code",
      "execution_count": 135,
      "id": "32d49ea8",
      "metadata": {},
      "outputs": [],
      "source": [
        "import numpy as np\n",
        "\n",
        "def ns_region(lat, split):\n",
        "    if np.isnan(lat): return np.nan\n",
        "    return 'North' if lat >= split else 'South'\n",
        "\n",
        "def ew_region(lon, split):\n",
        "    if np.isnan(lon): return np.nan\n",
        "    return 'East' if lon >= split else 'West'\n",
        "\n",
        "def quad_region(lat, lon, lat_split, lon_split):\n",
        "    if np.isnan(lat) or np.isnan(lon): return np.nan\n",
        "    if lat >= lat_split and lon >= lon_split: return 'North-East'\n",
        "    if lat >= lat_split and lon <  lon_split: return 'North-West'\n",
        "    if lat <  lat_split and lon >= lon_split: return 'South-East'\n",
        "    return 'South-West'\n"
      ]
    },
    {
      "cell_type": "code",
      "execution_count": 136,
      "id": "810ca3f4",
      "metadata": {},
      "outputs": [],
      "source": [
        "# North/South + East/West + رُباعيات للعميل\n",
        "full_data['customer_NS']   = full_data['customer_lat'].apply(lambda v: ns_region(v, CUST_LAT_SPLIT))\n",
        "full_data['customer_EW']   = full_data['customer_lon'].apply(lambda v: ew_region(v, CUST_LON_SPLIT))\n",
        "full_data['customer_quad'] = full_data.apply(\n",
        "    lambda r: quad_region(r['customer_lat'], r['customer_lon'], CUST_LAT_SPLIT, CUST_LON_SPLIT), axis=1\n",
        ")\n"
      ]
    },
    {
      "cell_type": "code",
      "execution_count": 137,
      "id": "bbe24b03",
      "metadata": {},
      "outputs": [],
      "source": [
        "# North/South + East/West + رُباعيات للفندر\n",
        "full_data['vendor_NS']   = full_data['vendor_lat'].apply(lambda v: ns_region(v, VEND_LAT_SPLIT))\n",
        "full_data['vendor_EW']   = full_data['vendor_lon'].apply(lambda v: ew_region(v, VEND_LON_SPLIT))\n",
        "full_data['vendor_quad'] = full_data.apply(\n",
        "    lambda r: quad_region(r['vendor_lat'], r['vendor_lon'], VEND_LAT_SPLIT, VEND_LON_SPLIT), axis=1\n",
        ")\n"
      ]
    },
    {
      "cell_type": "code",
      "execution_count": 138,
      "id": "1da0b0f4",
      "metadata": {},
      "outputs": [
        {
          "name": "stdout",
          "output_type": "stream",
          "text": [
            "Customers NS:\n",
            " customer_NS\n",
            "South    15127\n",
            "North     9873\n",
            "Name: count, dtype: int64\n",
            "Vendors   NS:\n",
            " vendor_NS\n",
            "South    15636\n",
            "North     9364\n",
            "Name: count, dtype: int64\n",
            "\n",
            "Customers quad:\n",
            " customer_quad\n",
            "South-East    8393\n",
            "South-West    6734\n",
            "North-West    4949\n",
            "North-East    4924\n",
            "Name: count, dtype: int64\n",
            "\n",
            "Vendors quad:\n",
            " vendor_quad\n",
            "South-East    9254\n",
            "South-West    6382\n",
            "North-West    4949\n",
            "North-East    4415\n",
            "Name: count, dtype: int64\n",
            "\n",
            "Customer vs Vendor NS crosstab:\n",
            "vendor_NS    North  South\n",
            "customer_NS              \n",
            "North        0.902  0.098\n",
            "South        0.030  0.970\n"
          ]
        }
      ],
      "source": [
        "print('Customers NS:\\n', full_data['customer_NS'].value_counts(dropna=False))\n",
        "print('Vendors   NS:\\n', full_data['vendor_NS'].value_counts(dropna=False))\n",
        "\n",
        "print('\\nCustomers quad:\\n', full_data['customer_quad'].value_counts(dropna=False))\n",
        "print('\\nVendors quad:\\n', full_data['vendor_quad'].value_counts(dropna=False))\n",
        "\n",
        "# منطقية المسافات بين العميل والمطعم حسب المناطق\n",
        "print('\\nCustomer vs Vendor NS crosstab:')\n",
        "print(pd.crosstab(full_data['customer_NS'], full_data['vendor_NS'], normalize='index').round(3))\n"
      ]
    },
    {
      "cell_type": "code",
      "execution_count": 139,
      "id": "4f93816d",
      "metadata": {},
      "outputs": [
        {
          "data": {
            "text/html": [
              "<div>\n",
              "<style scoped>\n",
              "    .dataframe tbody tr th:only-of-type {\n",
              "        vertical-align: middle;\n",
              "    }\n",
              "\n",
              "    .dataframe tbody tr th {\n",
              "        vertical-align: top;\n",
              "    }\n",
              "\n",
              "    .dataframe thead th {\n",
              "        text-align: right;\n",
              "    }\n",
              "</style>\n",
              "<table border=\"1\" class=\"dataframe\">\n",
              "  <thead>\n",
              "    <tr style=\"text-align: right;\">\n",
              "      <th></th>\n",
              "      <th>customer_id</th>\n",
              "      <th>geohash_x</th>\n",
              "      <th>order_id</th>\n",
              "      <th>vendor_id</th>\n",
              "      <th>product_id</th>\n",
              "      <th>day_of_week</th>\n",
              "      <th>order_time</th>\n",
              "      <th>order_day</th>\n",
              "      <th>name</th>\n",
              "      <th>unit_price</th>\n",
              "      <th>...</th>\n",
              "      <th>customer_lat</th>\n",
              "      <th>customer_lon</th>\n",
              "      <th>vendor_lat</th>\n",
              "      <th>vendor_lon</th>\n",
              "      <th>customer_NS</th>\n",
              "      <th>customer_EW</th>\n",
              "      <th>customer_quad</th>\n",
              "      <th>vendor_NS</th>\n",
              "      <th>vendor_EW</th>\n",
              "      <th>vendor_quad</th>\n",
              "    </tr>\n",
              "  </thead>\n",
              "  <tbody>\n",
              "    <tr>\n",
              "      <th>0</th>\n",
              "      <td>1ba124d4e5</td>\n",
              "      <td>w21z7</td>\n",
              "      <td>0</td>\n",
              "      <td>212753d2</td>\n",
              "      <td>783e85338f1c</td>\n",
              "      <td>0</td>\n",
              "      <td>12:03:29</td>\n",
              "      <td>85 days</td>\n",
              "      <td>201. Japanese Garlic Karaage Don</td>\n",
              "      <td>0.0060</td>\n",
              "      <td>...</td>\n",
              "      <td>1.3</td>\n",
              "      <td>103.9</td>\n",
              "      <td>1.3</td>\n",
              "      <td>103.9</td>\n",
              "      <td>South</td>\n",
              "      <td>East</td>\n",
              "      <td>South-East</td>\n",
              "      <td>South</td>\n",
              "      <td>East</td>\n",
              "      <td>South-East</td>\n",
              "    </tr>\n",
              "    <tr>\n",
              "      <th>1</th>\n",
              "      <td>1ba124d4e5</td>\n",
              "      <td>w21z7</td>\n",
              "      <td>0</td>\n",
              "      <td>212753d2</td>\n",
              "      <td>084ab73246e6</td>\n",
              "      <td>0</td>\n",
              "      <td>12:03:29</td>\n",
              "      <td>85 days</td>\n",
              "      <td>204. Chicken Cutlet Don</td>\n",
              "      <td>0.0068</td>\n",
              "      <td>...</td>\n",
              "      <td>1.3</td>\n",
              "      <td>103.9</td>\n",
              "      <td>1.3</td>\n",
              "      <td>103.9</td>\n",
              "      <td>South</td>\n",
              "      <td>East</td>\n",
              "      <td>South-East</td>\n",
              "      <td>South</td>\n",
              "      <td>East</td>\n",
              "      <td>South-East</td>\n",
              "    </tr>\n",
              "    <tr>\n",
              "      <th>2</th>\n",
              "      <td>1ba124d4e5</td>\n",
              "      <td>w21z7</td>\n",
              "      <td>0</td>\n",
              "      <td>212753d2</td>\n",
              "      <td>30eba3cc2676</td>\n",
              "      <td>0</td>\n",
              "      <td>12:03:29</td>\n",
              "      <td>85 days</td>\n",
              "      <td>206. Beef Sukiyaki Don</td>\n",
              "      <td>0.0068</td>\n",
              "      <td>...</td>\n",
              "      <td>1.3</td>\n",
              "      <td>103.9</td>\n",
              "      <td>1.3</td>\n",
              "      <td>103.9</td>\n",
              "      <td>South</td>\n",
              "      <td>East</td>\n",
              "      <td>South-East</td>\n",
              "      <td>South</td>\n",
              "      <td>East</td>\n",
              "      <td>South-East</td>\n",
              "    </tr>\n",
              "    <tr>\n",
              "      <th>3</th>\n",
              "      <td>1ba124d4e5</td>\n",
              "      <td>w21z7</td>\n",
              "      <td>0</td>\n",
              "      <td>212753d2</td>\n",
              "      <td>3910309eea60</td>\n",
              "      <td>0</td>\n",
              "      <td>12:03:29</td>\n",
              "      <td>85 days</td>\n",
              "      <td>209. Japanese Beef Yakiniku Don</td>\n",
              "      <td>0.0068</td>\n",
              "      <td>...</td>\n",
              "      <td>1.3</td>\n",
              "      <td>103.9</td>\n",
              "      <td>1.3</td>\n",
              "      <td>103.9</td>\n",
              "      <td>South</td>\n",
              "      <td>East</td>\n",
              "      <td>South-East</td>\n",
              "      <td>South</td>\n",
              "      <td>East</td>\n",
              "      <td>South-East</td>\n",
              "    </tr>\n",
              "    <tr>\n",
              "      <th>4</th>\n",
              "      <td>1ba124d4e5</td>\n",
              "      <td>w21z7</td>\n",
              "      <td>0</td>\n",
              "      <td>212753d2</td>\n",
              "      <td>20049fb602cb</td>\n",
              "      <td>0</td>\n",
              "      <td>12:03:29</td>\n",
              "      <td>85 days</td>\n",
              "      <td>210. Teriyaki Salmon Don</td>\n",
              "      <td>0.0080</td>\n",
              "      <td>...</td>\n",
              "      <td>1.3</td>\n",
              "      <td>103.9</td>\n",
              "      <td>1.3</td>\n",
              "      <td>103.9</td>\n",
              "      <td>South</td>\n",
              "      <td>East</td>\n",
              "      <td>South-East</td>\n",
              "      <td>South</td>\n",
              "      <td>East</td>\n",
              "      <td>South-East</td>\n",
              "    </tr>\n",
              "  </tbody>\n",
              "</table>\n",
              "<p>5 rows × 29 columns</p>\n",
              "</div>"
            ],
            "text/plain": [
              "  customer_id geohash_x  order_id vendor_id    product_id  day_of_week  \\\n",
              "0  1ba124d4e5     w21z7         0  212753d2  783e85338f1c            0   \n",
              "1  1ba124d4e5     w21z7         0  212753d2  084ab73246e6            0   \n",
              "2  1ba124d4e5     w21z7         0  212753d2  30eba3cc2676            0   \n",
              "3  1ba124d4e5     w21z7         0  212753d2  3910309eea60            0   \n",
              "4  1ba124d4e5     w21z7         0  212753d2  20049fb602cb            0   \n",
              "\n",
              "  order_time order_day                              name  unit_price  ...  \\\n",
              "0   12:03:29   85 days  201. Japanese Garlic Karaage Don      0.0060  ...   \n",
              "1   12:03:29   85 days           204. Chicken Cutlet Don      0.0068  ...   \n",
              "2   12:03:29   85 days            206. Beef Sukiyaki Don      0.0068  ...   \n",
              "3   12:03:29   85 days   209. Japanese Beef Yakiniku Don      0.0068  ...   \n",
              "4   12:03:29   85 days          210. Teriyaki Salmon Don      0.0080  ...   \n",
              "\n",
              "  customer_lat customer_lon vendor_lat vendor_lon  customer_NS  customer_EW  \\\n",
              "0          1.3        103.9        1.3      103.9        South         East   \n",
              "1          1.3        103.9        1.3      103.9        South         East   \n",
              "2          1.3        103.9        1.3      103.9        South         East   \n",
              "3          1.3        103.9        1.3      103.9        South         East   \n",
              "4          1.3        103.9        1.3      103.9        South         East   \n",
              "\n",
              "  customer_quad vendor_NS vendor_EW  vendor_quad  \n",
              "0    South-East     South      East   South-East  \n",
              "1    South-East     South      East   South-East  \n",
              "2    South-East     South      East   South-East  \n",
              "3    South-East     South      East   South-East  \n",
              "4    South-East     South      East   South-East  \n",
              "\n",
              "[5 rows x 29 columns]"
            ]
          },
          "execution_count": 139,
          "metadata": {},
          "output_type": "execute_result"
        }
      ],
      "source": [
        "full_data.head()"
      ]
    },
    {
      "cell_type": "code",
      "execution_count": 140,
      "id": "9c7f2d66",
      "metadata": {},
      "outputs": [
        {
          "data": {
            "text/html": [
              "<div>\n",
              "<style scoped>\n",
              "    .dataframe tbody tr th:only-of-type {\n",
              "        vertical-align: middle;\n",
              "    }\n",
              "\n",
              "    .dataframe tbody tr th {\n",
              "        vertical-align: top;\n",
              "    }\n",
              "\n",
              "    .dataframe thead th {\n",
              "        text-align: right;\n",
              "    }\n",
              "</style>\n",
              "<table border=\"1\" class=\"dataframe\">\n",
              "  <thead>\n",
              "    <tr style=\"text-align: right;\">\n",
              "      <th></th>\n",
              "      <th>customer_region</th>\n",
              "      <th>vendor_region</th>\n",
              "    </tr>\n",
              "  </thead>\n",
              "  <tbody>\n",
              "    <tr>\n",
              "      <th>0</th>\n",
              "      <td>South</td>\n",
              "      <td>South</td>\n",
              "    </tr>\n",
              "    <tr>\n",
              "      <th>1</th>\n",
              "      <td>South</td>\n",
              "      <td>South</td>\n",
              "    </tr>\n",
              "    <tr>\n",
              "      <th>2</th>\n",
              "      <td>South</td>\n",
              "      <td>South</td>\n",
              "    </tr>\n",
              "    <tr>\n",
              "      <th>3</th>\n",
              "      <td>South</td>\n",
              "      <td>South</td>\n",
              "    </tr>\n",
              "    <tr>\n",
              "      <th>4</th>\n",
              "      <td>South</td>\n",
              "      <td>South</td>\n",
              "    </tr>\n",
              "  </tbody>\n",
              "</table>\n",
              "</div>"
            ],
            "text/plain": [
              "  customer_region vendor_region\n",
              "0           South         South\n",
              "1           South         South\n",
              "2           South         South\n",
              "3           South         South\n",
              "4           South         South"
            ]
          },
          "execution_count": 140,
          "metadata": {},
          "output_type": "execute_result"
        }
      ],
      "source": [
        "def singapore_region(lat, lon):\n",
        "    if pd.isna(lat) or pd.isna(lon):\n",
        "        return np.nan\n",
        "    if lat > 1.40:\n",
        "        return 'North'\n",
        "    elif lat < 1.32:\n",
        "        return 'South'\n",
        "    elif lon > 103.93:\n",
        "        return 'East'\n",
        "    elif lon < 103.75:\n",
        "        return 'West'\n",
        "    else:\n",
        "        return 'Central'\n",
        "\n",
        "# نطبّقها على العميل والمطعم\n",
        "full_data['customer_region'] = full_data.apply(lambda r: singapore_region(r['customer_lat'], r['customer_lon']), axis=1)\n",
        "full_data['vendor_region']   = full_data.apply(lambda r: singapore_region(r['vendor_lat'], r['vendor_lon']), axis=1)\n",
        "\n",
        "# نطبع أول النتائج\n",
        "full_data[['customer_region', 'vendor_region']].head()\n"
      ]
    },
    {
      "cell_type": "code",
      "execution_count": 141,
      "id": "336fec82",
      "metadata": {},
      "outputs": [
        {
          "data": {
            "text/html": [
              "<div>\n",
              "<style scoped>\n",
              "    .dataframe tbody tr th:only-of-type {\n",
              "        vertical-align: middle;\n",
              "    }\n",
              "\n",
              "    .dataframe tbody tr th {\n",
              "        vertical-align: top;\n",
              "    }\n",
              "\n",
              "    .dataframe thead th {\n",
              "        text-align: right;\n",
              "    }\n",
              "</style>\n",
              "<table border=\"1\" class=\"dataframe\">\n",
              "  <thead>\n",
              "    <tr style=\"text-align: right;\">\n",
              "      <th></th>\n",
              "      <th>customer_id</th>\n",
              "      <th>geohash_x</th>\n",
              "      <th>order_id</th>\n",
              "      <th>vendor_id</th>\n",
              "      <th>product_id</th>\n",
              "      <th>day_of_week</th>\n",
              "      <th>order_time</th>\n",
              "      <th>order_day</th>\n",
              "      <th>name</th>\n",
              "      <th>unit_price</th>\n",
              "      <th>...</th>\n",
              "      <th>customer_lat</th>\n",
              "      <th>customer_lon</th>\n",
              "      <th>vendor_lat</th>\n",
              "      <th>vendor_lon</th>\n",
              "      <th>customer_NS</th>\n",
              "      <th>customer_EW</th>\n",
              "      <th>customer_quad</th>\n",
              "      <th>vendor_NS</th>\n",
              "      <th>vendor_EW</th>\n",
              "      <th>vendor_quad</th>\n",
              "    </tr>\n",
              "  </thead>\n",
              "  <tbody>\n",
              "    <tr>\n",
              "      <th>0</th>\n",
              "      <td>1ba124d4e5</td>\n",
              "      <td>w21z7</td>\n",
              "      <td>0</td>\n",
              "      <td>212753d2</td>\n",
              "      <td>783e85338f1c</td>\n",
              "      <td>0</td>\n",
              "      <td>12:03:29</td>\n",
              "      <td>85 days</td>\n",
              "      <td>201. Japanese Garlic Karaage Don</td>\n",
              "      <td>0.0060</td>\n",
              "      <td>...</td>\n",
              "      <td>1.3</td>\n",
              "      <td>103.9</td>\n",
              "      <td>1.3</td>\n",
              "      <td>103.9</td>\n",
              "      <td>South</td>\n",
              "      <td>East</td>\n",
              "      <td>South-East</td>\n",
              "      <td>South</td>\n",
              "      <td>East</td>\n",
              "      <td>South-East</td>\n",
              "    </tr>\n",
              "    <tr>\n",
              "      <th>1</th>\n",
              "      <td>1ba124d4e5</td>\n",
              "      <td>w21z7</td>\n",
              "      <td>0</td>\n",
              "      <td>212753d2</td>\n",
              "      <td>084ab73246e6</td>\n",
              "      <td>0</td>\n",
              "      <td>12:03:29</td>\n",
              "      <td>85 days</td>\n",
              "      <td>204. Chicken Cutlet Don</td>\n",
              "      <td>0.0068</td>\n",
              "      <td>...</td>\n",
              "      <td>1.3</td>\n",
              "      <td>103.9</td>\n",
              "      <td>1.3</td>\n",
              "      <td>103.9</td>\n",
              "      <td>South</td>\n",
              "      <td>East</td>\n",
              "      <td>South-East</td>\n",
              "      <td>South</td>\n",
              "      <td>East</td>\n",
              "      <td>South-East</td>\n",
              "    </tr>\n",
              "    <tr>\n",
              "      <th>2</th>\n",
              "      <td>1ba124d4e5</td>\n",
              "      <td>w21z7</td>\n",
              "      <td>0</td>\n",
              "      <td>212753d2</td>\n",
              "      <td>30eba3cc2676</td>\n",
              "      <td>0</td>\n",
              "      <td>12:03:29</td>\n",
              "      <td>85 days</td>\n",
              "      <td>206. Beef Sukiyaki Don</td>\n",
              "      <td>0.0068</td>\n",
              "      <td>...</td>\n",
              "      <td>1.3</td>\n",
              "      <td>103.9</td>\n",
              "      <td>1.3</td>\n",
              "      <td>103.9</td>\n",
              "      <td>South</td>\n",
              "      <td>East</td>\n",
              "      <td>South-East</td>\n",
              "      <td>South</td>\n",
              "      <td>East</td>\n",
              "      <td>South-East</td>\n",
              "    </tr>\n",
              "    <tr>\n",
              "      <th>3</th>\n",
              "      <td>1ba124d4e5</td>\n",
              "      <td>w21z7</td>\n",
              "      <td>0</td>\n",
              "      <td>212753d2</td>\n",
              "      <td>3910309eea60</td>\n",
              "      <td>0</td>\n",
              "      <td>12:03:29</td>\n",
              "      <td>85 days</td>\n",
              "      <td>209. Japanese Beef Yakiniku Don</td>\n",
              "      <td>0.0068</td>\n",
              "      <td>...</td>\n",
              "      <td>1.3</td>\n",
              "      <td>103.9</td>\n",
              "      <td>1.3</td>\n",
              "      <td>103.9</td>\n",
              "      <td>South</td>\n",
              "      <td>East</td>\n",
              "      <td>South-East</td>\n",
              "      <td>South</td>\n",
              "      <td>East</td>\n",
              "      <td>South-East</td>\n",
              "    </tr>\n",
              "    <tr>\n",
              "      <th>4</th>\n",
              "      <td>1ba124d4e5</td>\n",
              "      <td>w21z7</td>\n",
              "      <td>0</td>\n",
              "      <td>212753d2</td>\n",
              "      <td>20049fb602cb</td>\n",
              "      <td>0</td>\n",
              "      <td>12:03:29</td>\n",
              "      <td>85 days</td>\n",
              "      <td>210. Teriyaki Salmon Don</td>\n",
              "      <td>0.0080</td>\n",
              "      <td>...</td>\n",
              "      <td>1.3</td>\n",
              "      <td>103.9</td>\n",
              "      <td>1.3</td>\n",
              "      <td>103.9</td>\n",
              "      <td>South</td>\n",
              "      <td>East</td>\n",
              "      <td>South-East</td>\n",
              "      <td>South</td>\n",
              "      <td>East</td>\n",
              "      <td>South-East</td>\n",
              "    </tr>\n",
              "  </tbody>\n",
              "</table>\n",
              "<p>5 rows × 29 columns</p>\n",
              "</div>"
            ],
            "text/plain": [
              "  customer_id geohash_x  order_id vendor_id    product_id  day_of_week  \\\n",
              "0  1ba124d4e5     w21z7         0  212753d2  783e85338f1c            0   \n",
              "1  1ba124d4e5     w21z7         0  212753d2  084ab73246e6            0   \n",
              "2  1ba124d4e5     w21z7         0  212753d2  30eba3cc2676            0   \n",
              "3  1ba124d4e5     w21z7         0  212753d2  3910309eea60            0   \n",
              "4  1ba124d4e5     w21z7         0  212753d2  20049fb602cb            0   \n",
              "\n",
              "  order_time order_day                              name  unit_price  ...  \\\n",
              "0   12:03:29   85 days  201. Japanese Garlic Karaage Don      0.0060  ...   \n",
              "1   12:03:29   85 days           204. Chicken Cutlet Don      0.0068  ...   \n",
              "2   12:03:29   85 days            206. Beef Sukiyaki Don      0.0068  ...   \n",
              "3   12:03:29   85 days   209. Japanese Beef Yakiniku Don      0.0068  ...   \n",
              "4   12:03:29   85 days          210. Teriyaki Salmon Don      0.0080  ...   \n",
              "\n",
              "  customer_lat customer_lon vendor_lat vendor_lon  customer_NS  customer_EW  \\\n",
              "0          1.3        103.9        1.3      103.9        South         East   \n",
              "1          1.3        103.9        1.3      103.9        South         East   \n",
              "2          1.3        103.9        1.3      103.9        South         East   \n",
              "3          1.3        103.9        1.3      103.9        South         East   \n",
              "4          1.3        103.9        1.3      103.9        South         East   \n",
              "\n",
              "  customer_quad vendor_NS vendor_EW  vendor_quad  \n",
              "0    South-East     South      East   South-East  \n",
              "1    South-East     South      East   South-East  \n",
              "2    South-East     South      East   South-East  \n",
              "3    South-East     South      East   South-East  \n",
              "4    South-East     South      East   South-East  \n",
              "\n",
              "[5 rows x 29 columns]"
            ]
          },
          "execution_count": 141,
          "metadata": {},
          "output_type": "execute_result"
        }
      ],
      "source": [
        "full_data.head()"
      ]
    },
    {
      "cell_type": "code",
      "execution_count": null,
      "id": "8a5ef779",
      "metadata": {},
      "outputs": [
        {
          "name": "stdout",
          "output_type": "stream",
          "text": [
            "  customer_region vendor_region\n",
            "0           South         South\n",
            "1           South         South\n",
            "2           South         South\n",
            "3           South         South\n",
            "4           South         South\n",
            "customer_region\n",
            "West     11465\n",
            "South     6437\n",
            "North     5142\n",
            "East      1956\n",
            "Name: count, dtype: int64\n",
            "vendor_region\n",
            "West     11212\n",
            "South     7168\n",
            "North     4534\n",
            "East      2086\n",
            "Name: count, dtype: int64\n"
          ]
        }
      ],
      "source": [
        "import numpy as np\n",
        "import pandas as pd\n",
        "\n",
        "def one_direction(lat, lon, lat_mid, lon_mid):\n",
        "    if pd.isna(lat) or pd.isna(lon):\n",
        "        return np.nan\n",
        "\n",
        "    # الفرق عن المركز\n",
        "    d_lat = lat - lat_mid\n",
        "    d_lon = lon - lon_mid\n",
        "\n",
        "    # نحدد أي فرق أكبر: أفقي أو عمودي\n",
        "    if abs(d_lat) >= abs(d_lon):\n",
        "        return 'North' if d_lat > 0 else 'South'\n",
        "    else:\n",
        "        return 'East' if d_lon > 0 else 'West'\n",
        "\n",
        "# نحسب مركز الإحداثيات (الميديان)\n",
        "cust_lat_mid = full_data['customer_lat'].median()\n",
        "cust_lon_mid = full_data['customer_lon'].median()\n",
        "vend_lat_mid = full_data['vendor_lat'].median()\n",
        "vend_lon_mid = full_data['vendor_lon'].median()\n",
        "\n",
        "# نطبّق على العميل والفندر\n",
        "full_data['customer_region'] = full_data.apply(\n",
        "    lambda r: one_direction(r['customer_lat'], r['customer_lon'], cust_lat_mid, cust_lon_mid), axis=1\n",
        ")\n",
        "\n",
        "full_data['vendor_region'] = full_data.apply(\n",
        "    lambda r: one_direction(r['vendor_lat'], r['vendor_lon'], vend_lat_mid, vend_lon_mid), axis=1\n",
        ")\n",
        "\n",
        "# نعرض النتائج\n",
        "print(full_data[['customer_region', 'vendor_region']].head())\n",
        "print(full_data['customer_region'].value_counts(dropna=False))\n",
        "print(full_data['vendor_region'].value_counts(dropna=False))\n"
      ]
    },
    {
      "cell_type": "code",
      "execution_count": 143,
      "id": "d2d1b141",
      "metadata": {},
      "outputs": [
        {
          "data": {
            "text/html": [
              "<div>\n",
              "<style scoped>\n",
              "    .dataframe tbody tr th:only-of-type {\n",
              "        vertical-align: middle;\n",
              "    }\n",
              "\n",
              "    .dataframe tbody tr th {\n",
              "        vertical-align: top;\n",
              "    }\n",
              "\n",
              "    .dataframe thead th {\n",
              "        text-align: right;\n",
              "    }\n",
              "</style>\n",
              "<table border=\"1\" class=\"dataframe\">\n",
              "  <thead>\n",
              "    <tr style=\"text-align: right;\">\n",
              "      <th></th>\n",
              "      <th>customer_id</th>\n",
              "      <th>geohash_x</th>\n",
              "      <th>order_id</th>\n",
              "      <th>vendor_id</th>\n",
              "      <th>product_id</th>\n",
              "      <th>day_of_week</th>\n",
              "      <th>order_time</th>\n",
              "      <th>order_day</th>\n",
              "      <th>name</th>\n",
              "      <th>unit_price</th>\n",
              "      <th>...</th>\n",
              "      <th>customer_lat</th>\n",
              "      <th>customer_lon</th>\n",
              "      <th>vendor_lat</th>\n",
              "      <th>vendor_lon</th>\n",
              "      <th>customer_NS</th>\n",
              "      <th>customer_EW</th>\n",
              "      <th>customer_quad</th>\n",
              "      <th>vendor_NS</th>\n",
              "      <th>vendor_EW</th>\n",
              "      <th>vendor_quad</th>\n",
              "    </tr>\n",
              "  </thead>\n",
              "  <tbody>\n",
              "    <tr>\n",
              "      <th>0</th>\n",
              "      <td>1ba124d4e5</td>\n",
              "      <td>w21z7</td>\n",
              "      <td>0</td>\n",
              "      <td>212753d2</td>\n",
              "      <td>783e85338f1c</td>\n",
              "      <td>0</td>\n",
              "      <td>12:03:29</td>\n",
              "      <td>85 days</td>\n",
              "      <td>201. Japanese Garlic Karaage Don</td>\n",
              "      <td>0.0060</td>\n",
              "      <td>...</td>\n",
              "      <td>1.3</td>\n",
              "      <td>103.9</td>\n",
              "      <td>1.3</td>\n",
              "      <td>103.9</td>\n",
              "      <td>South</td>\n",
              "      <td>East</td>\n",
              "      <td>South-East</td>\n",
              "      <td>South</td>\n",
              "      <td>East</td>\n",
              "      <td>South-East</td>\n",
              "    </tr>\n",
              "    <tr>\n",
              "      <th>1</th>\n",
              "      <td>1ba124d4e5</td>\n",
              "      <td>w21z7</td>\n",
              "      <td>0</td>\n",
              "      <td>212753d2</td>\n",
              "      <td>084ab73246e6</td>\n",
              "      <td>0</td>\n",
              "      <td>12:03:29</td>\n",
              "      <td>85 days</td>\n",
              "      <td>204. Chicken Cutlet Don</td>\n",
              "      <td>0.0068</td>\n",
              "      <td>...</td>\n",
              "      <td>1.3</td>\n",
              "      <td>103.9</td>\n",
              "      <td>1.3</td>\n",
              "      <td>103.9</td>\n",
              "      <td>South</td>\n",
              "      <td>East</td>\n",
              "      <td>South-East</td>\n",
              "      <td>South</td>\n",
              "      <td>East</td>\n",
              "      <td>South-East</td>\n",
              "    </tr>\n",
              "    <tr>\n",
              "      <th>2</th>\n",
              "      <td>1ba124d4e5</td>\n",
              "      <td>w21z7</td>\n",
              "      <td>0</td>\n",
              "      <td>212753d2</td>\n",
              "      <td>30eba3cc2676</td>\n",
              "      <td>0</td>\n",
              "      <td>12:03:29</td>\n",
              "      <td>85 days</td>\n",
              "      <td>206. Beef Sukiyaki Don</td>\n",
              "      <td>0.0068</td>\n",
              "      <td>...</td>\n",
              "      <td>1.3</td>\n",
              "      <td>103.9</td>\n",
              "      <td>1.3</td>\n",
              "      <td>103.9</td>\n",
              "      <td>South</td>\n",
              "      <td>East</td>\n",
              "      <td>South-East</td>\n",
              "      <td>South</td>\n",
              "      <td>East</td>\n",
              "      <td>South-East</td>\n",
              "    </tr>\n",
              "    <tr>\n",
              "      <th>3</th>\n",
              "      <td>1ba124d4e5</td>\n",
              "      <td>w21z7</td>\n",
              "      <td>0</td>\n",
              "      <td>212753d2</td>\n",
              "      <td>3910309eea60</td>\n",
              "      <td>0</td>\n",
              "      <td>12:03:29</td>\n",
              "      <td>85 days</td>\n",
              "      <td>209. Japanese Beef Yakiniku Don</td>\n",
              "      <td>0.0068</td>\n",
              "      <td>...</td>\n",
              "      <td>1.3</td>\n",
              "      <td>103.9</td>\n",
              "      <td>1.3</td>\n",
              "      <td>103.9</td>\n",
              "      <td>South</td>\n",
              "      <td>East</td>\n",
              "      <td>South-East</td>\n",
              "      <td>South</td>\n",
              "      <td>East</td>\n",
              "      <td>South-East</td>\n",
              "    </tr>\n",
              "    <tr>\n",
              "      <th>4</th>\n",
              "      <td>1ba124d4e5</td>\n",
              "      <td>w21z7</td>\n",
              "      <td>0</td>\n",
              "      <td>212753d2</td>\n",
              "      <td>20049fb602cb</td>\n",
              "      <td>0</td>\n",
              "      <td>12:03:29</td>\n",
              "      <td>85 days</td>\n",
              "      <td>210. Teriyaki Salmon Don</td>\n",
              "      <td>0.0080</td>\n",
              "      <td>...</td>\n",
              "      <td>1.3</td>\n",
              "      <td>103.9</td>\n",
              "      <td>1.3</td>\n",
              "      <td>103.9</td>\n",
              "      <td>South</td>\n",
              "      <td>East</td>\n",
              "      <td>South-East</td>\n",
              "      <td>South</td>\n",
              "      <td>East</td>\n",
              "      <td>South-East</td>\n",
              "    </tr>\n",
              "  </tbody>\n",
              "</table>\n",
              "<p>5 rows × 29 columns</p>\n",
              "</div>"
            ],
            "text/plain": [
              "  customer_id geohash_x  order_id vendor_id    product_id  day_of_week  \\\n",
              "0  1ba124d4e5     w21z7         0  212753d2  783e85338f1c            0   \n",
              "1  1ba124d4e5     w21z7         0  212753d2  084ab73246e6            0   \n",
              "2  1ba124d4e5     w21z7         0  212753d2  30eba3cc2676            0   \n",
              "3  1ba124d4e5     w21z7         0  212753d2  3910309eea60            0   \n",
              "4  1ba124d4e5     w21z7         0  212753d2  20049fb602cb            0   \n",
              "\n",
              "  order_time order_day                              name  unit_price  ...  \\\n",
              "0   12:03:29   85 days  201. Japanese Garlic Karaage Don      0.0060  ...   \n",
              "1   12:03:29   85 days           204. Chicken Cutlet Don      0.0068  ...   \n",
              "2   12:03:29   85 days            206. Beef Sukiyaki Don      0.0068  ...   \n",
              "3   12:03:29   85 days   209. Japanese Beef Yakiniku Don      0.0068  ...   \n",
              "4   12:03:29   85 days          210. Teriyaki Salmon Don      0.0080  ...   \n",
              "\n",
              "  customer_lat customer_lon vendor_lat vendor_lon  customer_NS  customer_EW  \\\n",
              "0          1.3        103.9        1.3      103.9        South         East   \n",
              "1          1.3        103.9        1.3      103.9        South         East   \n",
              "2          1.3        103.9        1.3      103.9        South         East   \n",
              "3          1.3        103.9        1.3      103.9        South         East   \n",
              "4          1.3        103.9        1.3      103.9        South         East   \n",
              "\n",
              "  customer_quad vendor_NS vendor_EW  vendor_quad  \n",
              "0    South-East     South      East   South-East  \n",
              "1    South-East     South      East   South-East  \n",
              "2    South-East     South      East   South-East  \n",
              "3    South-East     South      East   South-East  \n",
              "4    South-East     South      East   South-East  \n",
              "\n",
              "[5 rows x 29 columns]"
            ]
          },
          "execution_count": 143,
          "metadata": {},
          "output_type": "execute_result"
        }
      ],
      "source": [
        "full_data.head()"
      ]
    },
    {
      "cell_type": "code",
      "execution_count": 144,
      "id": "c372b2d0",
      "metadata": {},
      "outputs": [
        {
          "data": {
            "text/html": [
              "<div>\n",
              "<style scoped>\n",
              "    .dataframe tbody tr th:only-of-type {\n",
              "        vertical-align: middle;\n",
              "    }\n",
              "\n",
              "    .dataframe tbody tr th {\n",
              "        vertical-align: top;\n",
              "    }\n",
              "\n",
              "    .dataframe thead th {\n",
              "        text-align: right;\n",
              "    }\n",
              "</style>\n",
              "<table border=\"1\" class=\"dataframe\">\n",
              "  <thead>\n",
              "    <tr style=\"text-align: right;\">\n",
              "      <th></th>\n",
              "      <th>customer_region</th>\n",
              "      <th>vendor_region</th>\n",
              "    </tr>\n",
              "  </thead>\n",
              "  <tbody>\n",
              "    <tr>\n",
              "      <th>0</th>\n",
              "      <td>South</td>\n",
              "      <td>South</td>\n",
              "    </tr>\n",
              "    <tr>\n",
              "      <th>1</th>\n",
              "      <td>South</td>\n",
              "      <td>South</td>\n",
              "    </tr>\n",
              "    <tr>\n",
              "      <th>2</th>\n",
              "      <td>South</td>\n",
              "      <td>South</td>\n",
              "    </tr>\n",
              "    <tr>\n",
              "      <th>3</th>\n",
              "      <td>South</td>\n",
              "      <td>South</td>\n",
              "    </tr>\n",
              "    <tr>\n",
              "      <th>4</th>\n",
              "      <td>South</td>\n",
              "      <td>South</td>\n",
              "    </tr>\n",
              "  </tbody>\n",
              "</table>\n",
              "</div>"
            ],
            "text/plain": [
              "  customer_region vendor_region\n",
              "0           South         South\n",
              "1           South         South\n",
              "2           South         South\n",
              "3           South         South\n",
              "4           South         South"
            ]
          },
          "execution_count": 144,
          "metadata": {},
          "output_type": "execute_result"
        }
      ],
      "source": [
        "# احذف كل الأعمدة المشتقة الزايدة\n",
        "cols_to_drop = [c for c in full_data.columns\n",
        "                if c in ['customer_NS','customer_EW','customer_quad',\n",
        "                         'vendor_NS','vendor_EW','vendor_quad']\n",
        "                or c.endswith(('_lat','_lon'))]  # يمسح customer_lat/long و vendor_lat/long\n",
        "\n",
        "full_data.drop(columns=cols_to_drop, inplace=True, errors='ignore')\n",
        "\n",
        "# تأكيد إن القيم ضمن الأربعة فقط\n",
        "valid = {'North','South','East','West'}\n",
        "assert set(full_data['customer_region'].dropna().unique()).issubset(valid)\n",
        "assert set(full_data['vendor_region'].dropna().unique()).issubset(valid)\n",
        "\n",
        "# (اختياري) نخلي العمودين في آخر الجدول أو نرتّب الأعمدة:\n",
        "base_cols = [c for c in full_data.columns if c not in ['customer_region','vendor_region']]\n",
        "full_data = full_data[base_cols + ['customer_region','vendor_region']]\n",
        "\n",
        "# عرض سريع\n",
        "full_data[['customer_region','vendor_region']].head()\n"
      ]
    },
    {
      "cell_type": "code",
      "execution_count": 145,
      "id": "a589aca1",
      "metadata": {},
      "outputs": [
        {
          "data": {
            "text/html": [
              "<div>\n",
              "<style scoped>\n",
              "    .dataframe tbody tr th:only-of-type {\n",
              "        vertical-align: middle;\n",
              "    }\n",
              "\n",
              "    .dataframe tbody tr th {\n",
              "        vertical-align: top;\n",
              "    }\n",
              "\n",
              "    .dataframe thead th {\n",
              "        text-align: right;\n",
              "    }\n",
              "</style>\n",
              "<table border=\"1\" class=\"dataframe\">\n",
              "  <thead>\n",
              "    <tr style=\"text-align: right;\">\n",
              "      <th></th>\n",
              "      <th>customer_id</th>\n",
              "      <th>geohash_x</th>\n",
              "      <th>order_id</th>\n",
              "      <th>vendor_id</th>\n",
              "      <th>product_id</th>\n",
              "      <th>day_of_week</th>\n",
              "      <th>order_time</th>\n",
              "      <th>order_day</th>\n",
              "      <th>name</th>\n",
              "      <th>unit_price</th>\n",
              "      <th>chain_id</th>\n",
              "      <th>geohash_y</th>\n",
              "      <th>primary_cuisine</th>\n",
              "      <th>cuisine_origin</th>\n",
              "      <th>order_frequency</th>\n",
              "      <th>rating</th>\n",
              "      <th>chain_id_original</th>\n",
              "      <th>customer_region</th>\n",
              "      <th>vendor_region</th>\n",
              "    </tr>\n",
              "  </thead>\n",
              "  <tbody>\n",
              "    <tr>\n",
              "      <th>0</th>\n",
              "      <td>1ba124d4e5</td>\n",
              "      <td>w21z7</td>\n",
              "      <td>0</td>\n",
              "      <td>212753d2</td>\n",
              "      <td>783e85338f1c</td>\n",
              "      <td>0</td>\n",
              "      <td>12:03:29</td>\n",
              "      <td>85 days</td>\n",
              "      <td>201. Japanese Garlic Karaage Don</td>\n",
              "      <td>0.0060</td>\n",
              "      <td>66c9978d</td>\n",
              "      <td>w21z7</td>\n",
              "      <td>ramen</td>\n",
              "      <td>japanese</td>\n",
              "      <td>1</td>\n",
              "      <td>4</td>\n",
              "      <td>66c9978d</td>\n",
              "      <td>South</td>\n",
              "      <td>South</td>\n",
              "    </tr>\n",
              "    <tr>\n",
              "      <th>1</th>\n",
              "      <td>1ba124d4e5</td>\n",
              "      <td>w21z7</td>\n",
              "      <td>0</td>\n",
              "      <td>212753d2</td>\n",
              "      <td>084ab73246e6</td>\n",
              "      <td>0</td>\n",
              "      <td>12:03:29</td>\n",
              "      <td>85 days</td>\n",
              "      <td>204. Chicken Cutlet Don</td>\n",
              "      <td>0.0068</td>\n",
              "      <td>66c9978d</td>\n",
              "      <td>w21z7</td>\n",
              "      <td>ramen</td>\n",
              "      <td>japanese</td>\n",
              "      <td>1</td>\n",
              "      <td>5</td>\n",
              "      <td>66c9978d</td>\n",
              "      <td>South</td>\n",
              "      <td>South</td>\n",
              "    </tr>\n",
              "    <tr>\n",
              "      <th>2</th>\n",
              "      <td>1ba124d4e5</td>\n",
              "      <td>w21z7</td>\n",
              "      <td>0</td>\n",
              "      <td>212753d2</td>\n",
              "      <td>30eba3cc2676</td>\n",
              "      <td>0</td>\n",
              "      <td>12:03:29</td>\n",
              "      <td>85 days</td>\n",
              "      <td>206. Beef Sukiyaki Don</td>\n",
              "      <td>0.0068</td>\n",
              "      <td>66c9978d</td>\n",
              "      <td>w21z7</td>\n",
              "      <td>ramen</td>\n",
              "      <td>japanese</td>\n",
              "      <td>1</td>\n",
              "      <td>3</td>\n",
              "      <td>66c9978d</td>\n",
              "      <td>South</td>\n",
              "      <td>South</td>\n",
              "    </tr>\n",
              "    <tr>\n",
              "      <th>3</th>\n",
              "      <td>1ba124d4e5</td>\n",
              "      <td>w21z7</td>\n",
              "      <td>0</td>\n",
              "      <td>212753d2</td>\n",
              "      <td>3910309eea60</td>\n",
              "      <td>0</td>\n",
              "      <td>12:03:29</td>\n",
              "      <td>85 days</td>\n",
              "      <td>209. Japanese Beef Yakiniku Don</td>\n",
              "      <td>0.0068</td>\n",
              "      <td>66c9978d</td>\n",
              "      <td>w21z7</td>\n",
              "      <td>ramen</td>\n",
              "      <td>japanese</td>\n",
              "      <td>1</td>\n",
              "      <td>5</td>\n",
              "      <td>66c9978d</td>\n",
              "      <td>South</td>\n",
              "      <td>South</td>\n",
              "    </tr>\n",
              "    <tr>\n",
              "      <th>4</th>\n",
              "      <td>1ba124d4e5</td>\n",
              "      <td>w21z7</td>\n",
              "      <td>0</td>\n",
              "      <td>212753d2</td>\n",
              "      <td>20049fb602cb</td>\n",
              "      <td>0</td>\n",
              "      <td>12:03:29</td>\n",
              "      <td>85 days</td>\n",
              "      <td>210. Teriyaki Salmon Don</td>\n",
              "      <td>0.0080</td>\n",
              "      <td>66c9978d</td>\n",
              "      <td>w21z7</td>\n",
              "      <td>ramen</td>\n",
              "      <td>japanese</td>\n",
              "      <td>1</td>\n",
              "      <td>5</td>\n",
              "      <td>66c9978d</td>\n",
              "      <td>South</td>\n",
              "      <td>South</td>\n",
              "    </tr>\n",
              "  </tbody>\n",
              "</table>\n",
              "</div>"
            ],
            "text/plain": [
              "  customer_id geohash_x  order_id vendor_id    product_id  day_of_week  \\\n",
              "0  1ba124d4e5     w21z7         0  212753d2  783e85338f1c            0   \n",
              "1  1ba124d4e5     w21z7         0  212753d2  084ab73246e6            0   \n",
              "2  1ba124d4e5     w21z7         0  212753d2  30eba3cc2676            0   \n",
              "3  1ba124d4e5     w21z7         0  212753d2  3910309eea60            0   \n",
              "4  1ba124d4e5     w21z7         0  212753d2  20049fb602cb            0   \n",
              "\n",
              "  order_time order_day                              name  unit_price  \\\n",
              "0   12:03:29   85 days  201. Japanese Garlic Karaage Don      0.0060   \n",
              "1   12:03:29   85 days           204. Chicken Cutlet Don      0.0068   \n",
              "2   12:03:29   85 days            206. Beef Sukiyaki Don      0.0068   \n",
              "3   12:03:29   85 days   209. Japanese Beef Yakiniku Don      0.0068   \n",
              "4   12:03:29   85 days          210. Teriyaki Salmon Don      0.0080   \n",
              "\n",
              "   chain_id geohash_y primary_cuisine cuisine_origin  order_frequency  rating  \\\n",
              "0  66c9978d     w21z7           ramen       japanese                1       4   \n",
              "1  66c9978d     w21z7           ramen       japanese                1       5   \n",
              "2  66c9978d     w21z7           ramen       japanese                1       3   \n",
              "3  66c9978d     w21z7           ramen       japanese                1       5   \n",
              "4  66c9978d     w21z7           ramen       japanese                1       5   \n",
              "\n",
              "  chain_id_original customer_region vendor_region  \n",
              "0          66c9978d           South         South  \n",
              "1          66c9978d           South         South  \n",
              "2          66c9978d           South         South  \n",
              "3          66c9978d           South         South  \n",
              "4          66c9978d           South         South  "
            ]
          },
          "execution_count": 145,
          "metadata": {},
          "output_type": "execute_result"
        }
      ],
      "source": [
        "full_data.head()"
      ]
    },
    {
      "cell_type": "code",
      "execution_count": null,
      "id": "c055e729",
      "metadata": {},
      "outputs": [],
      "source": []
    }
  ],
  "metadata": {
    "colab": {
      "provenance": []
    },
    "kernelspec": {
      "display_name": "food-delivery-rec",
      "language": "python",
      "name": "python3"
    },
    "language_info": {
      "codemirror_mode": {
        "name": "ipython",
        "version": 3
      },
      "file_extension": ".py",
      "mimetype": "text/x-python",
      "name": "python",
      "nbconvert_exporter": "python",
      "pygments_lexer": "ipython3",
      "version": "3.10.6"
    }
  },
  "nbformat": 4,
  "nbformat_minor": 5
}
