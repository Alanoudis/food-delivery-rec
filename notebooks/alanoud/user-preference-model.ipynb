{
 "cells": [
  {
   "cell_type": "markdown",
   "id": "e4a46e86",
   "metadata": {},
   "source": [
    "# **0. Load libraries**"
   ]
  },
  {
   "cell_type": "code",
   "execution_count": null,
   "id": "007b78bd",
   "metadata": {},
   "outputs": [],
   "source": [
    "import pandas as pd\n",
    "import matplotlib.pyplot as plt\n",
    "import seaborn as sns\n",
    "import numpy as np"
   ]
  },
  {
   "cell_type": "markdown",
   "id": "6dc00052",
   "metadata": {},
   "source": [
    "# 1. Implicit Feedback Matrix Features:\n",
    "Weighted scores combining order frequency and ratings (Use orders as strong preference signals).\n",
    "\n",
    "User-Vendor matrix: Interaction strength between customers and vendors (Customer’s favorite restaurants based on order frequency)\n",
    "\n",
    "User-Cuisine matrix: Preference strength for cuisine types (“Who likes which types of food?\")"
   ]
  },
  {
   "cell_type": "code",
   "execution_count": null,
   "id": "25669706",
   "metadata": {},
   "outputs": [],
   "source": [
    "file_path=\"../../code/Alanoudis/food-delivery-rec/data/updated_data/alnd_data.csv\"\n",
    "df = pd.read_csv('file_path', sep='\\t', encoding='utf-8')\n",
    "df.head()"
   ]
  },
  {
   "cell_type": "code",
   "execution_count": null,
   "id": "0df1d999",
   "metadata": {},
   "outputs": [],
   "source": [
    "df.info"
   ]
  },
  {
   "cell_type": "code",
   "execution_count": null,
   "id": "1109e048",
   "metadata": {},
   "outputs": [],
   "source": []
  },
  {
   "cell_type": "markdown",
   "id": "8fc52160",
   "metadata": {},
   "source": []
  },
  {
   "cell_type": "code",
   "execution_count": null,
   "id": "53465378",
   "metadata": {},
   "outputs": [],
   "source": []
  }
 ],
 "metadata": {
  "kernelspec": {
   "display_name": "food-delivery-rec",
   "language": "python",
   "name": "python3"
  },
  "language_info": {
   "name": "python",
   "version": "3.10.6"
  }
 },
 "nbformat": 4,
 "nbformat_minor": 5
}
