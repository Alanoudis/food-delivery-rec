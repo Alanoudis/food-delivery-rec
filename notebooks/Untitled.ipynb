{
 "cells": [
  {
   "cell_type": "markdown",
   "id": "ee9cd943-d710-4af7-9e2b-b3ac4922e55a",
   "metadata": {},
   "source": [
    "food delivery .."
   ]
  },
  {
   "cell_type": "code",
   "execution_count": 3,
   "id": "d8ad0a3e-0095-4761-bd1c-546cb0ea62ff",
   "metadata": {
    "execution": {
     "iopub.execute_input": "2025-10-21T12:56:09.997627Z",
     "iopub.status.busy": "2025-10-21T12:56:09.997204Z",
     "iopub.status.idle": "2025-10-21T12:56:12.878849Z",
     "shell.execute_reply": "2025-10-21T12:56:12.876994Z",
     "shell.execute_reply.started": "2025-10-21T12:56:09.997603Z"
    }
   },
   "outputs": [
    {
     "data": {
      "text/html": [
       "<div>\n",
       "<style scoped>\n",
       "    .dataframe tbody tr th:only-of-type {\n",
       "        vertical-align: middle;\n",
       "    }\n",
       "\n",
       "    .dataframe tbody tr th {\n",
       "        vertical-align: top;\n",
       "    }\n",
       "\n",
       "    .dataframe thead th {\n",
       "        text-align: right;\n",
       "    }\n",
       "</style>\n",
       "<table border=\"1\" class=\"dataframe\">\n",
       "  <thead>\n",
       "    <tr style=\"text-align: right;\">\n",
       "      <th></th>\n",
       "      <th>Unnamed: 0</th>\n",
       "      <th>vendor_id</th>\n",
       "      <th>product_id</th>\n",
       "      <th>name</th>\n",
       "      <th>unit_price</th>\n",
       "    </tr>\n",
       "  </thead>\n",
       "  <tbody>\n",
       "    <tr>\n",
       "      <th>0</th>\n",
       "      <td>0</td>\n",
       "      <td>15bbf316</td>\n",
       "      <td>59099e089514</td>\n",
       "      <td>Meat &amp; Seafood Combo 海鲜套餐</td>\n",
       "      <td>0.0036</td>\n",
       "    </tr>\n",
       "    <tr>\n",
       "      <th>1</th>\n",
       "      <td>1</td>\n",
       "      <td>e7b24dc0</td>\n",
       "      <td>52e1017fdbd9</td>\n",
       "      <td>Sausage Egg McMuffin® Meal</td>\n",
       "      <td>0.0024</td>\n",
       "    </tr>\n",
       "    <tr>\n",
       "      <th>2</th>\n",
       "      <td>2</td>\n",
       "      <td>e7b24dc0</td>\n",
       "      <td>fcb7110cd932</td>\n",
       "      <td>Scrambled Egg Burger w Chicken Meal</td>\n",
       "      <td>0.0024</td>\n",
       "    </tr>\n",
       "    <tr>\n",
       "      <th>3</th>\n",
       "      <td>3</td>\n",
       "      <td>7112a20b</td>\n",
       "      <td>d3e7708c2bc9</td>\n",
       "      <td>Maguro Sushi</td>\n",
       "      <td>0.0012</td>\n",
       "    </tr>\n",
       "    <tr>\n",
       "      <th>4</th>\n",
       "      <td>4</td>\n",
       "      <td>6137ef21</td>\n",
       "      <td>bf0d5ac0e03c</td>\n",
       "      <td>Family Meal - Prosp Chic TwLEVMx2 + ChBurgerHM</td>\n",
       "      <td>0.0100</td>\n",
       "    </tr>\n",
       "  </tbody>\n",
       "</table>\n",
       "</div>"
      ],
      "text/plain": [
       "   Unnamed: 0 vendor_id    product_id  \\\n",
       "0           0  15bbf316  59099e089514   \n",
       "1           1  e7b24dc0  52e1017fdbd9   \n",
       "2           2  e7b24dc0  fcb7110cd932   \n",
       "3           3  7112a20b  d3e7708c2bc9   \n",
       "4           4  6137ef21  bf0d5ac0e03c   \n",
       "\n",
       "                                             name  unit_price  \n",
       "0                       Meat & Seafood Combo 海鲜套餐      0.0036  \n",
       "1                      Sausage Egg McMuffin® Meal      0.0024  \n",
       "2             Scrambled Egg Burger w Chicken Meal      0.0024  \n",
       "3                                    Maguro Sushi      0.0012  \n",
       "4  Family Meal - Prosp Chic TwLEVMx2 + ChBurgerHM      0.0100  "
      ]
     },
     "execution_count": 3,
     "metadata": {},
     "output_type": "execute_result"
    }
   ],
   "source": [
    " import pandas as pd\n",
    "\n",
    "\n",
    "file_path = \"/home/rema/code/Alanoudis/food-delivery-rec/raw_data/data_sg/products_sg.txt\"\n",
    "\n",
    "products = pd.read_csv(file_path)\n",
    "products.head()"
   ]
  },
  {
   "cell_type": "code",
   "execution_count": null,
   "id": "16a56787-6c97-4960-939e-e46a3e5aa9c8",
   "metadata": {},
   "outputs": [],
   "source": []
  }
 ],
 "metadata": {
  "kernelspec": {
   "display_name": "Python 3 (ipykernel)",
   "language": "python",
   "name": "python3"
  },
  "language_info": {
   "codemirror_mode": {
    "name": "ipython",
    "version": 3
   },
   "file_extension": ".py",
   "mimetype": "text/x-python",
   "name": "python",
   "nbconvert_exporter": "python",
   "pygments_lexer": "ipython3",
   "version": "3.10.6"
  }
 },
 "nbformat": 4,
 "nbformat_minor": 5
}
