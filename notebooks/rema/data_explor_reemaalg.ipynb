{
 "cells": [
  {
   "cell_type": "markdown",
   "id": "f6c890e7-d325-4333-a0fc-0baca712db0a",
   "metadata": {
    "execution": {
     "iopub.execute_input": "2025-10-21T11:28:45.103526Z",
     "iopub.status.busy": "2025-10-21T11:28:45.071556Z",
     "iopub.status.idle": "2025-10-21T11:28:45.285936Z",
     "shell.execute_reply": "2025-10-21T11:28:45.278811Z",
     "shell.execute_reply.started": "2025-10-21T11:28:45.101301Z"
    }
   },
   "source": [
    "## Food Recommender System"
   ]
  },
  {
   "cell_type": "code",
   "execution_count": 1,
   "id": "32e6a0c3-df7b-4720-83ec-eb0de2f726c5",
   "metadata": {
    "execution": {
     "iopub.execute_input": "2025-10-25T20:20:12.292375Z",
     "iopub.status.busy": "2025-10-25T20:20:12.291701Z",
     "iopub.status.idle": "2025-10-25T20:20:12.478004Z",
     "shell.execute_reply": "2025-10-25T20:20:12.475800Z",
     "shell.execute_reply.started": "2025-10-25T20:20:12.292303Z"
    }
   },
   "outputs": [
    {
     "name": "stdout",
     "output_type": "stream",
     "text": [
      "/home/rema/code/Alanoudis/food-delivery-rec/notebooks/rema\n"
     ]
    }
   ],
   "source": [
    "!pwd"
   ]
  },
  {
   "cell_type": "code",
   "execution_count": 2,
   "id": "3e522cc6-4ee2-482c-87bc-7352cc5fc22f",
   "metadata": {
    "execution": {
     "iopub.execute_input": "2025-10-25T20:20:13.017549Z",
     "iopub.status.busy": "2025-10-25T20:20:13.017045Z",
     "iopub.status.idle": "2025-10-25T20:20:14.185699Z",
     "shell.execute_reply": "2025-10-25T20:20:14.182491Z",
     "shell.execute_reply.started": "2025-10-25T20:20:13.017510Z"
    }
   },
   "outputs": [],
   "source": [
    "import pandas as pd\n",
    "pd.set_option('display.max_rows',None)"
   ]
  },
  {
   "cell_type": "code",
   "execution_count": 3,
   "id": "5db1b8fd-526c-473c-87b7-2a6670e433eb",
   "metadata": {
    "execution": {
     "iopub.execute_input": "2025-10-25T20:20:14.188086Z",
     "iopub.status.busy": "2025-10-25T20:20:14.187509Z",
     "iopub.status.idle": "2025-10-25T20:20:14.319229Z",
     "shell.execute_reply": "2025-10-25T20:20:14.316475Z",
     "shell.execute_reply.started": "2025-10-25T20:20:14.188040Z"
    }
   },
   "outputs": [
    {
     "data": {
      "text/html": [
       "<div>\n",
       "<style scoped>\n",
       "    .dataframe tbody tr th:only-of-type {\n",
       "        vertical-align: middle;\n",
       "    }\n",
       "\n",
       "    .dataframe tbody tr th {\n",
       "        vertical-align: top;\n",
       "    }\n",
       "\n",
       "    .dataframe thead th {\n",
       "        text-align: right;\n",
       "    }\n",
       "</style>\n",
       "<table border=\"1\" class=\"dataframe\">\n",
       "  <thead>\n",
       "    <tr style=\"text-align: right;\">\n",
       "      <th></th>\n",
       "      <th>Unnamed: 0</th>\n",
       "      <th>customer_id</th>\n",
       "      <th>geohash</th>\n",
       "      <th>order_id</th>\n",
       "      <th>vendor_id</th>\n",
       "      <th>product_id</th>\n",
       "      <th>day_of_week</th>\n",
       "      <th>order_time</th>\n",
       "      <th>order_day</th>\n",
       "    </tr>\n",
       "  </thead>\n",
       "  <tbody>\n",
       "    <tr>\n",
       "      <th>0</th>\n",
       "      <td>0</td>\n",
       "      <td>1ba124d4e5</td>\n",
       "      <td>w21z7</td>\n",
       "      <td>0</td>\n",
       "      <td>212753d2</td>\n",
       "      <td>783e85338f1c</td>\n",
       "      <td>0</td>\n",
       "      <td>12:03:29</td>\n",
       "      <td>85 days</td>\n",
       "    </tr>\n",
       "    <tr>\n",
       "      <th>1</th>\n",
       "      <td>1</td>\n",
       "      <td>1ba124d4e5</td>\n",
       "      <td>w21z7</td>\n",
       "      <td>0</td>\n",
       "      <td>212753d2</td>\n",
       "      <td>084ab73246e6</td>\n",
       "      <td>0</td>\n",
       "      <td>12:03:29</td>\n",
       "      <td>85 days</td>\n",
       "    </tr>\n",
       "    <tr>\n",
       "      <th>2</th>\n",
       "      <td>2</td>\n",
       "      <td>1ba124d4e5</td>\n",
       "      <td>w21z7</td>\n",
       "      <td>0</td>\n",
       "      <td>212753d2</td>\n",
       "      <td>30eba3cc2676</td>\n",
       "      <td>0</td>\n",
       "      <td>12:03:29</td>\n",
       "      <td>85 days</td>\n",
       "    </tr>\n",
       "    <tr>\n",
       "      <th>3</th>\n",
       "      <td>3</td>\n",
       "      <td>1ba124d4e5</td>\n",
       "      <td>w21z7</td>\n",
       "      <td>0</td>\n",
       "      <td>212753d2</td>\n",
       "      <td>3910309eea60</td>\n",
       "      <td>0</td>\n",
       "      <td>12:03:29</td>\n",
       "      <td>85 days</td>\n",
       "    </tr>\n",
       "    <tr>\n",
       "      <th>4</th>\n",
       "      <td>4</td>\n",
       "      <td>1ba124d4e5</td>\n",
       "      <td>w21z7</td>\n",
       "      <td>0</td>\n",
       "      <td>212753d2</td>\n",
       "      <td>20049fb602cb</td>\n",
       "      <td>0</td>\n",
       "      <td>12:03:29</td>\n",
       "      <td>85 days</td>\n",
       "    </tr>\n",
       "  </tbody>\n",
       "</table>\n",
       "</div>"
      ],
      "text/plain": [
       "   Unnamed: 0 customer_id geohash  order_id vendor_id    product_id  \\\n",
       "0           0  1ba124d4e5   w21z7         0  212753d2  783e85338f1c   \n",
       "1           1  1ba124d4e5   w21z7         0  212753d2  084ab73246e6   \n",
       "2           2  1ba124d4e5   w21z7         0  212753d2  30eba3cc2676   \n",
       "3           3  1ba124d4e5   w21z7         0  212753d2  3910309eea60   \n",
       "4           4  1ba124d4e5   w21z7         0  212753d2  20049fb602cb   \n",
       "\n",
       "   day_of_week order_time order_day  \n",
       "0            0   12:03:29   85 days  \n",
       "1            0   12:03:29   85 days  \n",
       "2            0   12:03:29   85 days  \n",
       "3            0   12:03:29   85 days  \n",
       "4            0   12:03:29   85 days  "
      ]
     },
     "execution_count": 3,
     "metadata": {},
     "output_type": "execute_result"
    }
   ],
   "source": [
    "file_path = \"../../data/updated_data/orders_sg10k.txt\"\n",
    "orders = pd.read_csv(file_path)\n",
    "orders.head()"
   ]
  },
  {
   "cell_type": "code",
   "execution_count": 4,
   "id": "ab21291b-56f5-4ccd-9504-98a1edf8916f",
   "metadata": {
    "execution": {
     "iopub.execute_input": "2025-10-25T20:20:17.171353Z",
     "iopub.status.busy": "2025-10-25T20:20:17.170820Z",
     "iopub.status.idle": "2025-10-25T20:20:17.182194Z",
     "shell.execute_reply": "2025-10-25T20:20:17.179838Z",
     "shell.execute_reply.started": "2025-10-25T20:20:17.171297Z"
    }
   },
   "outputs": [
    {
     "data": {
      "text/plain": [
       "(10001, 9)"
      ]
     },
     "execution_count": 4,
     "metadata": {},
     "output_type": "execute_result"
    }
   ],
   "source": [
    "orders.shape"
   ]
  },
  {
   "cell_type": "markdown",
   "id": "d0b3a93d-024e-4711-8180-543632796170",
   "metadata": {},
   "source": [
    "## Clean the Data\n",
    "### Remove Unnecessary Columns"
   ]
  },
  {
   "cell_type": "code",
   "execution_count": 5,
   "id": "9d3044f0-e253-458d-96e5-81bcea594d27",
   "metadata": {
    "execution": {
     "iopub.execute_input": "2025-10-25T20:20:24.734140Z",
     "iopub.status.busy": "2025-10-25T20:20:24.733556Z",
     "iopub.status.idle": "2025-10-25T20:20:24.750827Z",
     "shell.execute_reply": "2025-10-25T20:20:24.747668Z",
     "shell.execute_reply.started": "2025-10-25T20:20:24.734083Z"
    }
   },
   "outputs": [],
   "source": [
    "orders.drop(columns=['Unnamed: 0'], inplace=True)"
   ]
  },
  {
   "cell_type": "code",
   "execution_count": 6,
   "id": "089388b5-a67e-477e-a185-66f684d629f5",
   "metadata": {
    "execution": {
     "iopub.execute_input": "2025-10-25T20:20:33.453815Z",
     "iopub.status.busy": "2025-10-25T20:20:33.453365Z",
     "iopub.status.idle": "2025-10-25T20:20:33.470704Z",
     "shell.execute_reply": "2025-10-25T20:20:33.468258Z",
     "shell.execute_reply.started": "2025-10-25T20:20:33.453781Z"
    }
   },
   "outputs": [
    {
     "data": {
      "text/html": [
       "<div>\n",
       "<style scoped>\n",
       "    .dataframe tbody tr th:only-of-type {\n",
       "        vertical-align: middle;\n",
       "    }\n",
       "\n",
       "    .dataframe tbody tr th {\n",
       "        vertical-align: top;\n",
       "    }\n",
       "\n",
       "    .dataframe thead th {\n",
       "        text-align: right;\n",
       "    }\n",
       "</style>\n",
       "<table border=\"1\" class=\"dataframe\">\n",
       "  <thead>\n",
       "    <tr style=\"text-align: right;\">\n",
       "      <th></th>\n",
       "      <th>customer_id</th>\n",
       "      <th>geohash</th>\n",
       "      <th>order_id</th>\n",
       "      <th>vendor_id</th>\n",
       "      <th>product_id</th>\n",
       "      <th>day_of_week</th>\n",
       "      <th>order_time</th>\n",
       "      <th>order_day</th>\n",
       "    </tr>\n",
       "  </thead>\n",
       "  <tbody>\n",
       "    <tr>\n",
       "      <th>0</th>\n",
       "      <td>1ba124d4e5</td>\n",
       "      <td>w21z7</td>\n",
       "      <td>0</td>\n",
       "      <td>212753d2</td>\n",
       "      <td>783e85338f1c</td>\n",
       "      <td>0</td>\n",
       "      <td>12:03:29</td>\n",
       "      <td>85 days</td>\n",
       "    </tr>\n",
       "    <tr>\n",
       "      <th>1</th>\n",
       "      <td>1ba124d4e5</td>\n",
       "      <td>w21z7</td>\n",
       "      <td>0</td>\n",
       "      <td>212753d2</td>\n",
       "      <td>084ab73246e6</td>\n",
       "      <td>0</td>\n",
       "      <td>12:03:29</td>\n",
       "      <td>85 days</td>\n",
       "    </tr>\n",
       "    <tr>\n",
       "      <th>2</th>\n",
       "      <td>1ba124d4e5</td>\n",
       "      <td>w21z7</td>\n",
       "      <td>0</td>\n",
       "      <td>212753d2</td>\n",
       "      <td>30eba3cc2676</td>\n",
       "      <td>0</td>\n",
       "      <td>12:03:29</td>\n",
       "      <td>85 days</td>\n",
       "    </tr>\n",
       "  </tbody>\n",
       "</table>\n",
       "</div>"
      ],
      "text/plain": [
       "  customer_id geohash  order_id vendor_id    product_id  day_of_week  \\\n",
       "0  1ba124d4e5   w21z7         0  212753d2  783e85338f1c            0   \n",
       "1  1ba124d4e5   w21z7         0  212753d2  084ab73246e6            0   \n",
       "2  1ba124d4e5   w21z7         0  212753d2  30eba3cc2676            0   \n",
       "\n",
       "  order_time order_day  \n",
       "0   12:03:29   85 days  \n",
       "1   12:03:29   85 days  \n",
       "2   12:03:29   85 days  "
      ]
     },
     "execution_count": 6,
     "metadata": {},
     "output_type": "execute_result"
    }
   ],
   "source": [
    "orders.head(3)"
   ]
  },
  {
   "cell_type": "code",
   "execution_count": 7,
   "id": "f9de9c82-358e-4732-8fc6-3f3174107695",
   "metadata": {
    "execution": {
     "iopub.execute_input": "2025-10-25T20:20:34.115966Z",
     "iopub.status.busy": "2025-10-25T20:20:34.115587Z",
     "iopub.status.idle": "2025-10-25T20:20:36.255130Z",
     "shell.execute_reply": "2025-10-25T20:20:36.252946Z",
     "shell.execute_reply.started": "2025-10-25T20:20:34.115934Z"
    }
   },
   "outputs": [
    {
     "data": {
      "text/html": [
       "<div>\n",
       "<style scoped>\n",
       "    .dataframe tbody tr th:only-of-type {\n",
       "        vertical-align: middle;\n",
       "    }\n",
       "\n",
       "    .dataframe tbody tr th {\n",
       "        vertical-align: top;\n",
       "    }\n",
       "\n",
       "    .dataframe thead th {\n",
       "        text-align: right;\n",
       "    }\n",
       "</style>\n",
       "<table border=\"1\" class=\"dataframe\">\n",
       "  <thead>\n",
       "    <tr style=\"text-align: right;\">\n",
       "      <th></th>\n",
       "      <th>Unnamed: 0</th>\n",
       "      <th>vendor_id</th>\n",
       "      <th>product_id</th>\n",
       "      <th>name</th>\n",
       "      <th>unit_price</th>\n",
       "    </tr>\n",
       "  </thead>\n",
       "  <tbody>\n",
       "    <tr>\n",
       "      <th>0</th>\n",
       "      <td>0</td>\n",
       "      <td>15bbf316</td>\n",
       "      <td>59099e089514</td>\n",
       "      <td>Meat &amp; Seafood Combo 海鲜套餐</td>\n",
       "      <td>0.0036</td>\n",
       "    </tr>\n",
       "    <tr>\n",
       "      <th>1</th>\n",
       "      <td>1</td>\n",
       "      <td>e7b24dc0</td>\n",
       "      <td>52e1017fdbd9</td>\n",
       "      <td>Sausage Egg McMuffin® Meal</td>\n",
       "      <td>0.0024</td>\n",
       "    </tr>\n",
       "    <tr>\n",
       "      <th>2</th>\n",
       "      <td>2</td>\n",
       "      <td>e7b24dc0</td>\n",
       "      <td>fcb7110cd932</td>\n",
       "      <td>Scrambled Egg Burger w Chicken Meal</td>\n",
       "      <td>0.0024</td>\n",
       "    </tr>\n",
       "    <tr>\n",
       "      <th>3</th>\n",
       "      <td>3</td>\n",
       "      <td>7112a20b</td>\n",
       "      <td>d3e7708c2bc9</td>\n",
       "      <td>Maguro Sushi</td>\n",
       "      <td>0.0012</td>\n",
       "    </tr>\n",
       "    <tr>\n",
       "      <th>4</th>\n",
       "      <td>4</td>\n",
       "      <td>6137ef21</td>\n",
       "      <td>bf0d5ac0e03c</td>\n",
       "      <td>Family Meal - Prosp Chic TwLEVMx2 + ChBurgerHM</td>\n",
       "      <td>0.0100</td>\n",
       "    </tr>\n",
       "  </tbody>\n",
       "</table>\n",
       "</div>"
      ],
      "text/plain": [
       "   Unnamed: 0 vendor_id    product_id  \\\n",
       "0           0  15bbf316  59099e089514   \n",
       "1           1  e7b24dc0  52e1017fdbd9   \n",
       "2           2  e7b24dc0  fcb7110cd932   \n",
       "3           3  7112a20b  d3e7708c2bc9   \n",
       "4           4  6137ef21  bf0d5ac0e03c   \n",
       "\n",
       "                                             name  unit_price  \n",
       "0                       Meat & Seafood Combo 海鲜套餐      0.0036  \n",
       "1                      Sausage Egg McMuffin® Meal      0.0024  \n",
       "2             Scrambled Egg Burger w Chicken Meal      0.0024  \n",
       "3                                    Maguro Sushi      0.0012  \n",
       "4  Family Meal - Prosp Chic TwLEVMx2 + ChBurgerHM      0.0100  "
      ]
     },
     "execution_count": 7,
     "metadata": {},
     "output_type": "execute_result"
    }
   ],
   "source": [
    "\n",
    "file_path2 = \"../../data/raw_data/products_sg.txt\"\n",
    "products = pd.read_csv(file_path2)\n",
    "\n",
    "products.head()"
   ]
  },
  {
   "cell_type": "code",
   "execution_count": 8,
   "id": "afecf54c-9b72-4602-b1ec-c7b5cfe6324b",
   "metadata": {
    "execution": {
     "iopub.execute_input": "2025-10-25T20:20:36.256058Z",
     "iopub.status.busy": "2025-10-25T20:20:36.255777Z",
     "iopub.status.idle": "2025-10-25T20:20:36.331261Z",
     "shell.execute_reply": "2025-10-25T20:20:36.328087Z",
     "shell.execute_reply.started": "2025-10-25T20:20:36.256033Z"
    }
   },
   "outputs": [],
   "source": [
    "products.drop(columns=['Unnamed: 0'], inplace=True)"
   ]
  },
  {
   "cell_type": "code",
   "execution_count": 9,
   "id": "ed5499e1-8e26-4c63-8a0d-478033f8fb99",
   "metadata": {
    "execution": {
     "iopub.execute_input": "2025-10-25T20:20:37.633659Z",
     "iopub.status.busy": "2025-10-25T20:20:37.632937Z",
     "iopub.status.idle": "2025-10-25T20:20:37.654363Z",
     "shell.execute_reply": "2025-10-25T20:20:37.651727Z",
     "shell.execute_reply.started": "2025-10-25T20:20:37.633601Z"
    }
   },
   "outputs": [
    {
     "data": {
      "text/html": [
       "<div>\n",
       "<style scoped>\n",
       "    .dataframe tbody tr th:only-of-type {\n",
       "        vertical-align: middle;\n",
       "    }\n",
       "\n",
       "    .dataframe tbody tr th {\n",
       "        vertical-align: top;\n",
       "    }\n",
       "\n",
       "    .dataframe thead th {\n",
       "        text-align: right;\n",
       "    }\n",
       "</style>\n",
       "<table border=\"1\" class=\"dataframe\">\n",
       "  <thead>\n",
       "    <tr style=\"text-align: right;\">\n",
       "      <th></th>\n",
       "      <th>vendor_id</th>\n",
       "      <th>product_id</th>\n",
       "      <th>name</th>\n",
       "      <th>unit_price</th>\n",
       "    </tr>\n",
       "  </thead>\n",
       "  <tbody>\n",
       "    <tr>\n",
       "      <th>0</th>\n",
       "      <td>15bbf316</td>\n",
       "      <td>59099e089514</td>\n",
       "      <td>Meat &amp; Seafood Combo 海鲜套餐</td>\n",
       "      <td>0.0036</td>\n",
       "    </tr>\n",
       "    <tr>\n",
       "      <th>1</th>\n",
       "      <td>e7b24dc0</td>\n",
       "      <td>52e1017fdbd9</td>\n",
       "      <td>Sausage Egg McMuffin® Meal</td>\n",
       "      <td>0.0024</td>\n",
       "    </tr>\n",
       "    <tr>\n",
       "      <th>2</th>\n",
       "      <td>e7b24dc0</td>\n",
       "      <td>fcb7110cd932</td>\n",
       "      <td>Scrambled Egg Burger w Chicken Meal</td>\n",
       "      <td>0.0024</td>\n",
       "    </tr>\n",
       "  </tbody>\n",
       "</table>\n",
       "</div>"
      ],
      "text/plain": [
       "  vendor_id    product_id                                 name  unit_price\n",
       "0  15bbf316  59099e089514            Meat & Seafood Combo 海鲜套餐      0.0036\n",
       "1  e7b24dc0  52e1017fdbd9           Sausage Egg McMuffin® Meal      0.0024\n",
       "2  e7b24dc0  fcb7110cd932  Scrambled Egg Burger w Chicken Meal      0.0024"
      ]
     },
     "execution_count": 9,
     "metadata": {},
     "output_type": "execute_result"
    }
   ],
   "source": [
    "products.head(3)"
   ]
  },
  {
   "cell_type": "code",
   "execution_count": 10,
   "id": "83295953-4cba-4966-abc2-3e42ac8a48ea",
   "metadata": {
    "execution": {
     "iopub.execute_input": "2025-10-25T20:20:38.588942Z",
     "iopub.status.busy": "2025-10-25T20:20:38.588444Z",
     "iopub.status.idle": "2025-10-25T20:20:38.613365Z",
     "shell.execute_reply": "2025-10-25T20:20:38.610745Z",
     "shell.execute_reply.started": "2025-10-25T20:20:38.588900Z"
    }
   },
   "outputs": [
    {
     "data": {
      "text/html": [
       "<div>\n",
       "<style scoped>\n",
       "    .dataframe tbody tr th:only-of-type {\n",
       "        vertical-align: middle;\n",
       "    }\n",
       "\n",
       "    .dataframe tbody tr th {\n",
       "        vertical-align: top;\n",
       "    }\n",
       "\n",
       "    .dataframe thead th {\n",
       "        text-align: right;\n",
       "    }\n",
       "</style>\n",
       "<table border=\"1\" class=\"dataframe\">\n",
       "  <thead>\n",
       "    <tr style=\"text-align: right;\">\n",
       "      <th></th>\n",
       "      <th>Unnamed: 0</th>\n",
       "      <th>vendor_id</th>\n",
       "      <th>chain_id</th>\n",
       "      <th>geohash</th>\n",
       "      <th>primary_cuisine</th>\n",
       "    </tr>\n",
       "  </thead>\n",
       "  <tbody>\n",
       "    <tr>\n",
       "      <th>0</th>\n",
       "      <td>0</td>\n",
       "      <td>b160c319</td>\n",
       "      <td>d2786168</td>\n",
       "      <td>w21z6</td>\n",
       "      <td>mexican</td>\n",
       "    </tr>\n",
       "    <tr>\n",
       "      <th>1</th>\n",
       "      <td>1</td>\n",
       "      <td>9c8f010e</td>\n",
       "      <td>d2786168</td>\n",
       "      <td>w21ze</td>\n",
       "      <td>mexican</td>\n",
       "    </tr>\n",
       "    <tr>\n",
       "      <th>2</th>\n",
       "      <td>4</td>\n",
       "      <td>03eb25e1</td>\n",
       "      <td>5055ab25</td>\n",
       "      <td>w21ze</td>\n",
       "      <td>bak kut teh</td>\n",
       "    </tr>\n",
       "    <tr>\n",
       "      <th>3</th>\n",
       "      <td>5</td>\n",
       "      <td>3613129a</td>\n",
       "      <td>8984acb6</td>\n",
       "      <td>w23b1</td>\n",
       "      <td>italian</td>\n",
       "    </tr>\n",
       "    <tr>\n",
       "      <th>4</th>\n",
       "      <td>7</td>\n",
       "      <td>0946c9e5</td>\n",
       "      <td>1e3a2913</td>\n",
       "      <td>w21z4</td>\n",
       "      <td>bak kut teh</td>\n",
       "    </tr>\n",
       "  </tbody>\n",
       "</table>\n",
       "</div>"
      ],
      "text/plain": [
       "   Unnamed: 0 vendor_id  chain_id geohash primary_cuisine\n",
       "0           0  b160c319  d2786168   w21z6         mexican\n",
       "1           1  9c8f010e  d2786168   w21ze         mexican\n",
       "2           4  03eb25e1  5055ab25   w21ze     bak kut teh\n",
       "3           5  3613129a  8984acb6   w23b1         italian\n",
       "4           7  0946c9e5  1e3a2913   w21z4     bak kut teh"
      ]
     },
     "execution_count": 10,
     "metadata": {},
     "output_type": "execute_result"
    }
   ],
   "source": [
    "\n",
    "file_path3 = \"../../data/raw_data/vendors_sg.txt\"\n",
    "vendors = pd.read_csv(file_path3)\n",
    "\n",
    "vendors.head()"
   ]
  },
  {
   "cell_type": "code",
   "execution_count": 11,
   "id": "e75b43bf-d79d-4361-bb1e-08455342bf33",
   "metadata": {
    "execution": {
     "iopub.execute_input": "2025-10-25T20:20:39.844201Z",
     "iopub.status.busy": "2025-10-25T20:20:39.843772Z",
     "iopub.status.idle": "2025-10-25T20:20:39.853278Z",
     "shell.execute_reply": "2025-10-25T20:20:39.850211Z",
     "shell.execute_reply.started": "2025-10-25T20:20:39.844166Z"
    }
   },
   "outputs": [],
   "source": [
    "vendors.drop(columns=['Unnamed: 0'], inplace=True)"
   ]
  },
  {
   "cell_type": "code",
   "execution_count": 12,
   "id": "ac7ad3aa-688c-4fcd-a630-e5461e313313",
   "metadata": {
    "execution": {
     "iopub.execute_input": "2025-10-25T20:20:43.704611Z",
     "iopub.status.busy": "2025-10-25T20:20:43.704208Z",
     "iopub.status.idle": "2025-10-25T20:20:43.720776Z",
     "shell.execute_reply": "2025-10-25T20:20:43.718048Z",
     "shell.execute_reply.started": "2025-10-25T20:20:43.704577Z"
    }
   },
   "outputs": [
    {
     "data": {
      "text/html": [
       "<div>\n",
       "<style scoped>\n",
       "    .dataframe tbody tr th:only-of-type {\n",
       "        vertical-align: middle;\n",
       "    }\n",
       "\n",
       "    .dataframe tbody tr th {\n",
       "        vertical-align: top;\n",
       "    }\n",
       "\n",
       "    .dataframe thead th {\n",
       "        text-align: right;\n",
       "    }\n",
       "</style>\n",
       "<table border=\"1\" class=\"dataframe\">\n",
       "  <thead>\n",
       "    <tr style=\"text-align: right;\">\n",
       "      <th></th>\n",
       "      <th>vendor_id</th>\n",
       "      <th>chain_id</th>\n",
       "      <th>geohash</th>\n",
       "      <th>primary_cuisine</th>\n",
       "    </tr>\n",
       "  </thead>\n",
       "  <tbody>\n",
       "    <tr>\n",
       "      <th>0</th>\n",
       "      <td>b160c319</td>\n",
       "      <td>d2786168</td>\n",
       "      <td>w21z6</td>\n",
       "      <td>mexican</td>\n",
       "    </tr>\n",
       "    <tr>\n",
       "      <th>1</th>\n",
       "      <td>9c8f010e</td>\n",
       "      <td>d2786168</td>\n",
       "      <td>w21ze</td>\n",
       "      <td>mexican</td>\n",
       "    </tr>\n",
       "    <tr>\n",
       "      <th>2</th>\n",
       "      <td>03eb25e1</td>\n",
       "      <td>5055ab25</td>\n",
       "      <td>w21ze</td>\n",
       "      <td>bak kut teh</td>\n",
       "    </tr>\n",
       "  </tbody>\n",
       "</table>\n",
       "</div>"
      ],
      "text/plain": [
       "  vendor_id  chain_id geohash primary_cuisine\n",
       "0  b160c319  d2786168   w21z6         mexican\n",
       "1  9c8f010e  d2786168   w21ze         mexican\n",
       "2  03eb25e1  5055ab25   w21ze     bak kut teh"
      ]
     },
     "execution_count": 12,
     "metadata": {},
     "output_type": "execute_result"
    }
   ],
   "source": [
    "vendors.head(3)"
   ]
  },
  {
   "cell_type": "code",
   "execution_count": 13,
   "id": "f1c2ac33-5dae-4357-8035-cceb213f860e",
   "metadata": {
    "execution": {
     "iopub.execute_input": "2025-10-25T20:20:44.236520Z",
     "iopub.status.busy": "2025-10-25T20:20:44.236154Z",
     "iopub.status.idle": "2025-10-25T20:20:44.987819Z",
     "shell.execute_reply": "2025-10-25T20:20:44.984776Z",
     "shell.execute_reply.started": "2025-10-25T20:20:44.236482Z"
    }
   },
   "outputs": [
    {
     "data": {
      "text/html": [
       "<div>\n",
       "<style scoped>\n",
       "    .dataframe tbody tr th:only-of-type {\n",
       "        vertical-align: middle;\n",
       "    }\n",
       "\n",
       "    .dataframe tbody tr th {\n",
       "        vertical-align: top;\n",
       "    }\n",
       "\n",
       "    .dataframe thead th {\n",
       "        text-align: right;\n",
       "    }\n",
       "</style>\n",
       "<table border=\"1\" class=\"dataframe\">\n",
       "  <thead>\n",
       "    <tr style=\"text-align: right;\">\n",
       "      <th></th>\n",
       "      <th>customer_id</th>\n",
       "      <th>geohash_x</th>\n",
       "      <th>order_id</th>\n",
       "      <th>vendor_id</th>\n",
       "      <th>product_id</th>\n",
       "      <th>day_of_week</th>\n",
       "      <th>order_time</th>\n",
       "      <th>order_day</th>\n",
       "      <th>name</th>\n",
       "      <th>unit_price</th>\n",
       "      <th>chain_id</th>\n",
       "      <th>geohash_y</th>\n",
       "      <th>primary_cuisine</th>\n",
       "    </tr>\n",
       "  </thead>\n",
       "  <tbody>\n",
       "    <tr>\n",
       "      <th>0</th>\n",
       "      <td>1ba124d4e5</td>\n",
       "      <td>w21z7</td>\n",
       "      <td>0</td>\n",
       "      <td>212753d2</td>\n",
       "      <td>783e85338f1c</td>\n",
       "      <td>0</td>\n",
       "      <td>12:03:29</td>\n",
       "      <td>85 days</td>\n",
       "      <td>201. Japanese Garlic Karaage Don</td>\n",
       "      <td>0.0060</td>\n",
       "      <td>66c9978d</td>\n",
       "      <td>w21z7</td>\n",
       "      <td>ramen</td>\n",
       "    </tr>\n",
       "    <tr>\n",
       "      <th>1</th>\n",
       "      <td>1ba124d4e5</td>\n",
       "      <td>w21z7</td>\n",
       "      <td>0</td>\n",
       "      <td>212753d2</td>\n",
       "      <td>084ab73246e6</td>\n",
       "      <td>0</td>\n",
       "      <td>12:03:29</td>\n",
       "      <td>85 days</td>\n",
       "      <td>204. Chicken Cutlet Don</td>\n",
       "      <td>0.0068</td>\n",
       "      <td>66c9978d</td>\n",
       "      <td>w21z7</td>\n",
       "      <td>ramen</td>\n",
       "    </tr>\n",
       "    <tr>\n",
       "      <th>2</th>\n",
       "      <td>1ba124d4e5</td>\n",
       "      <td>w21z7</td>\n",
       "      <td>0</td>\n",
       "      <td>212753d2</td>\n",
       "      <td>30eba3cc2676</td>\n",
       "      <td>0</td>\n",
       "      <td>12:03:29</td>\n",
       "      <td>85 days</td>\n",
       "      <td>206. Beef Sukiyaki Don</td>\n",
       "      <td>0.0068</td>\n",
       "      <td>66c9978d</td>\n",
       "      <td>w21z7</td>\n",
       "      <td>ramen</td>\n",
       "    </tr>\n",
       "    <tr>\n",
       "      <th>3</th>\n",
       "      <td>1ba124d4e5</td>\n",
       "      <td>w21z7</td>\n",
       "      <td>0</td>\n",
       "      <td>212753d2</td>\n",
       "      <td>3910309eea60</td>\n",
       "      <td>0</td>\n",
       "      <td>12:03:29</td>\n",
       "      <td>85 days</td>\n",
       "      <td>209. Japanese Beef Yakiniku Don</td>\n",
       "      <td>0.0068</td>\n",
       "      <td>66c9978d</td>\n",
       "      <td>w21z7</td>\n",
       "      <td>ramen</td>\n",
       "    </tr>\n",
       "    <tr>\n",
       "      <th>4</th>\n",
       "      <td>1ba124d4e5</td>\n",
       "      <td>w21z7</td>\n",
       "      <td>0</td>\n",
       "      <td>212753d2</td>\n",
       "      <td>20049fb602cb</td>\n",
       "      <td>0</td>\n",
       "      <td>12:03:29</td>\n",
       "      <td>85 days</td>\n",
       "      <td>210. Teriyaki Salmon Don</td>\n",
       "      <td>0.0080</td>\n",
       "      <td>66c9978d</td>\n",
       "      <td>w21z7</td>\n",
       "      <td>ramen</td>\n",
       "    </tr>\n",
       "  </tbody>\n",
       "</table>\n",
       "</div>"
      ],
      "text/plain": [
       "  customer_id geohash_x  order_id vendor_id    product_id  day_of_week  \\\n",
       "0  1ba124d4e5     w21z7         0  212753d2  783e85338f1c            0   \n",
       "1  1ba124d4e5     w21z7         0  212753d2  084ab73246e6            0   \n",
       "2  1ba124d4e5     w21z7         0  212753d2  30eba3cc2676            0   \n",
       "3  1ba124d4e5     w21z7         0  212753d2  3910309eea60            0   \n",
       "4  1ba124d4e5     w21z7         0  212753d2  20049fb602cb            0   \n",
       "\n",
       "  order_time order_day                              name  unit_price  \\\n",
       "0   12:03:29   85 days  201. Japanese Garlic Karaage Don      0.0060   \n",
       "1   12:03:29   85 days           204. Chicken Cutlet Don      0.0068   \n",
       "2   12:03:29   85 days            206. Beef Sukiyaki Don      0.0068   \n",
       "3   12:03:29   85 days   209. Japanese Beef Yakiniku Don      0.0068   \n",
       "4   12:03:29   85 days          210. Teriyaki Salmon Don      0.0080   \n",
       "\n",
       "   chain_id geohash_y primary_cuisine  \n",
       "0  66c9978d     w21z7           ramen  \n",
       "1  66c9978d     w21z7           ramen  \n",
       "2  66c9978d     w21z7           ramen  \n",
       "3  66c9978d     w21z7           ramen  \n",
       "4  66c9978d     w21z7           ramen  "
      ]
     },
     "execution_count": 13,
     "metadata": {},
     "output_type": "execute_result"
    }
   ],
   "source": [
    "\n",
    "# Step 1: Merge orders with products on vendor_id and product_id\n",
    "orders_products = orders.merge(products, on=['vendor_id', 'product_id'], how='left')\n",
    "\n",
    "# Step 2: Merge the result with vendors on vendor_id\n",
    "full_data = orders_products.merge(vendors, on='vendor_id', how='left')\n",
    "\n",
    "# Preview the final merged dataset\n",
    "full_data.head()"
   ]
  },
  {
   "cell_type": "code",
   "execution_count": 14,
   "id": "a57d21dd-4e1c-4de2-aec7-4bf20325dc90",
   "metadata": {
    "execution": {
     "iopub.execute_input": "2025-10-25T20:20:46.377817Z",
     "iopub.status.busy": "2025-10-25T20:20:46.377459Z",
     "iopub.status.idle": "2025-10-25T20:20:46.411729Z",
     "shell.execute_reply": "2025-10-25T20:20:46.408767Z",
     "shell.execute_reply.started": "2025-10-25T20:20:46.377787Z"
    }
   },
   "outputs": [
    {
     "data": {
      "text/html": [
       "<div>\n",
       "<style scoped>\n",
       "    .dataframe tbody tr th:only-of-type {\n",
       "        vertical-align: middle;\n",
       "    }\n",
       "\n",
       "    .dataframe tbody tr th {\n",
       "        vertical-align: top;\n",
       "    }\n",
       "\n",
       "    .dataframe thead th {\n",
       "        text-align: right;\n",
       "    }\n",
       "</style>\n",
       "<table border=\"1\" class=\"dataframe\">\n",
       "  <thead>\n",
       "    <tr style=\"text-align: right;\">\n",
       "      <th></th>\n",
       "      <th>order_id</th>\n",
       "      <th>day_of_week</th>\n",
       "      <th>unit_price</th>\n",
       "    </tr>\n",
       "  </thead>\n",
       "  <tbody>\n",
       "    <tr>\n",
       "      <th>count</th>\n",
       "      <td>10001.000000</td>\n",
       "      <td>10001.000000</td>\n",
       "      <td>10001.000000</td>\n",
       "    </tr>\n",
       "    <tr>\n",
       "      <th>mean</th>\n",
       "      <td>2419.860114</td>\n",
       "      <td>3.311669</td>\n",
       "      <td>0.003485</td>\n",
       "    </tr>\n",
       "    <tr>\n",
       "      <th>std</th>\n",
       "      <td>1403.026996</td>\n",
       "      <td>2.003286</td>\n",
       "      <td>0.003377</td>\n",
       "    </tr>\n",
       "    <tr>\n",
       "      <th>min</th>\n",
       "      <td>0.000000</td>\n",
       "      <td>0.000000</td>\n",
       "      <td>0.000000</td>\n",
       "    </tr>\n",
       "    <tr>\n",
       "      <th>25%</th>\n",
       "      <td>1222.000000</td>\n",
       "      <td>2.000000</td>\n",
       "      <td>0.001600</td>\n",
       "    </tr>\n",
       "    <tr>\n",
       "      <th>50%</th>\n",
       "      <td>2450.000000</td>\n",
       "      <td>4.000000</td>\n",
       "      <td>0.002800</td>\n",
       "    </tr>\n",
       "    <tr>\n",
       "      <th>75%</th>\n",
       "      <td>3620.000000</td>\n",
       "      <td>5.000000</td>\n",
       "      <td>0.004000</td>\n",
       "    </tr>\n",
       "    <tr>\n",
       "      <th>max</th>\n",
       "      <td>4801.000000</td>\n",
       "      <td>6.000000</td>\n",
       "      <td>0.090800</td>\n",
       "    </tr>\n",
       "  </tbody>\n",
       "</table>\n",
       "</div>"
      ],
      "text/plain": [
       "           order_id   day_of_week    unit_price\n",
       "count  10001.000000  10001.000000  10001.000000\n",
       "mean    2419.860114      3.311669      0.003485\n",
       "std     1403.026996      2.003286      0.003377\n",
       "min        0.000000      0.000000      0.000000\n",
       "25%     1222.000000      2.000000      0.001600\n",
       "50%     2450.000000      4.000000      0.002800\n",
       "75%     3620.000000      5.000000      0.004000\n",
       "max     4801.000000      6.000000      0.090800"
      ]
     },
     "execution_count": 14,
     "metadata": {},
     "output_type": "execute_result"
    }
   ],
   "source": [
    "full_data.describe()"
   ]
  },
  {
   "cell_type": "code",
   "execution_count": 15,
   "id": "65e1f82f-47d2-4705-856c-ae4a9fbf9b5b",
   "metadata": {
    "execution": {
     "iopub.execute_input": "2025-10-25T20:20:47.400728Z",
     "iopub.status.busy": "2025-10-25T20:20:47.400163Z",
     "iopub.status.idle": "2025-10-25T20:20:47.411794Z",
     "shell.execute_reply": "2025-10-25T20:20:47.409044Z",
     "shell.execute_reply.started": "2025-10-25T20:20:47.400679Z"
    }
   },
   "outputs": [
    {
     "data": {
      "text/plain": [
       "(10001, 13)"
      ]
     },
     "execution_count": 15,
     "metadata": {},
     "output_type": "execute_result"
    }
   ],
   "source": [
    "full_data.shape"
   ]
  },
  {
   "cell_type": "markdown",
   "id": "06bee381-a456-4c05-b5ba-86ca93d9c4a9",
   "metadata": {},
   "source": [
    "### 👥 Step 2: Analyze Customer Preferences"
   ]
  },
  {
   "cell_type": "code",
   "execution_count": 16,
   "id": "586036dc-8f74-443d-be09-cb44564558fd",
   "metadata": {
    "execution": {
     "iopub.execute_input": "2025-10-25T20:20:56.721803Z",
     "iopub.status.busy": "2025-10-25T20:20:56.721355Z",
     "iopub.status.idle": "2025-10-25T20:20:56.735518Z",
     "shell.execute_reply": "2025-10-25T20:20:56.732824Z",
     "shell.execute_reply.started": "2025-10-25T20:20:56.721771Z"
    }
   },
   "outputs": [
    {
     "data": {
      "text/plain": [
       "71"
      ]
     },
     "execution_count": 16,
     "metadata": {},
     "output_type": "execute_result"
    }
   ],
   "source": [
    "full_data[\"primary_cuisine\"].nunique()"
   ]
  },
  {
   "cell_type": "code",
   "execution_count": 17,
   "id": "e92ebd8e-383e-46c7-8550-c54b66bae1e5",
   "metadata": {
    "execution": {
     "iopub.execute_input": "2025-10-25T20:20:57.786523Z",
     "iopub.status.busy": "2025-10-25T20:20:57.786166Z",
     "iopub.status.idle": "2025-10-25T20:20:57.802235Z",
     "shell.execute_reply": "2025-10-25T20:20:57.799623Z",
     "shell.execute_reply.started": "2025-10-25T20:20:57.786491Z"
    }
   },
   "outputs": [
    {
     "data": {
      "text/plain": [
       "primary_cuisine\n",
       "chinese                 1126\n",
       "indian                   624\n",
       "dessert                  506\n",
       "noodles                  489\n",
       "bubble tea               442\n",
       "coffee                   420\n",
       "japanese                 389\n",
       "singaporean              347\n",
       "mala xiang guo           343\n",
       "dim sum                  323\n",
       "western                  320\n",
       "soups                    312\n",
       "thai                     308\n",
       "fried chicken            304\n",
       "chicken                  282\n",
       "rice dishes              225\n",
       "pizza                    223\n",
       "chicken rice             201\n",
       "fried rice               173\n",
       "sushi                    171\n",
       "seafood                  159\n",
       "nasi lemak               156\n",
       "burgers                  154\n",
       "american                 149\n",
       "malaysian                147\n",
       "cakes                    139\n",
       "asian                    120\n",
       "sandwiches               107\n",
       "ayam penyet              102\n",
       "ramen                     91\n",
       "korean                    90\n",
       "pasta                     88\n",
       "indonesian                82\n",
       "snacks                    78\n",
       "roti prata                70\n",
       "healthy                   63\n",
       "beverages                 60\n",
       "vietnamese                59\n",
       "vegetarian                59\n",
       "porridge                  55\n",
       "bakery                    54\n",
       "italian                   49\n",
       "curry                     41\n",
       "yong tau foo              39\n",
       "mexican                   33\n",
       "bak kut teh               27\n",
       "grill                     26\n",
       "donut                     24\n",
       "fries                     19\n",
       "international             17\n",
       "hokkien mee               15\n",
       "satay                     13\n",
       "laksa                     13\n",
       "pho                       12\n",
       "pancakes and waffles      12\n",
       "wraps                      7\n",
       "fish soup                  6\n",
       "tea                        6\n",
       "acai bowl                  5\n",
       "kaya toast                 5\n",
       "salads                     4\n",
       "turkish                    3\n",
       "spanish                    3\n",
       "lebanese                   2\n",
       "german                     2\n",
       "fast food                  2\n",
       "mala soups                 2\n",
       "halal                      1\n",
       "greek                      1\n",
       "ban mian                   1\n",
       "french                     1\n",
       "Name: count, dtype: int64"
      ]
     },
     "execution_count": 17,
     "metadata": {},
     "output_type": "execute_result"
    }
   ],
   "source": [
    "# top 20 most popular cuisines\n",
    "full_data[\"primary_cuisine\"].value_counts(dropna=False).head(73)"
   ]
  },
  {
   "cell_type": "code",
   "execution_count": 18,
   "id": "d569c2fb-4c5b-4ce5-9a6c-2a67259c8b08",
   "metadata": {
    "execution": {
     "iopub.execute_input": "2025-10-25T20:20:58.673198Z",
     "iopub.status.busy": "2025-10-25T20:20:58.672700Z",
     "iopub.status.idle": "2025-10-25T20:20:58.685744Z",
     "shell.execute_reply": "2025-10-25T20:20:58.683142Z",
     "shell.execute_reply.started": "2025-10-25T20:20:58.673154Z"
    }
   },
   "outputs": [],
   "source": [
    "global_cuisine_category = {\n",
    "    \"japanese\": \"japanese\",\n",
    "    \"ramen\": \"japanese\",\n",
    "    \"sushi\": \"japanese\",\n",
    "\n",
    "    \" korean\": \" korean\",\n",
    "\n",
    "    \"chinese\": \"chinese\",\n",
    "    \"dim sum\": \"chinese\",\n",
    "    \"bak kut teh\": \"chinese\",\n",
    "    \"mala xiang guo\": \"chinese\",\n",
    "    \"mala soups\": \"chinese\",\n",
    "    \"hokkien mee\": \"chinese\",\n",
    "    \"noodles\": \"chinese\",\n",
    "    \"tea\": \"chinese\",\n",
    "\n",
    "    \"indian\": \"indian\",\n",
    "    \"curry\": \"indian\",\n",
    "\n",
    "    \"thai\": \"thai\",\n",
    "\n",
    "    \"vietnamese\": \"vietnamese\",\n",
    "    \"pho\": \"vietnamese\",\n",
    "\n",
    "    \"singaporean\": \"singaporean\",\n",
    "    \"chicken rice\": \"singaporean\",\n",
    "    \"ban mian\": \"singaporean\",\n",
    "    \"yong tau foo\": \"singaporean\",\n",
    "\n",
    "    \"indonesian\": \"indonesian\",\n",
    "    \"ayam penyet\": \"indonesian\",\n",
    "\n",
    "    \"malaysian\": \"malaysian\",\n",
    "    \"nasi lemak\": \"malaysian\",\n",
    "    \"roti prata\": \"malaysian\",\n",
    "\n",
    "    \"american\": \"american\",\n",
    "    \"burgers\": \"american\",\n",
    "    \"fried chicken\": \"american\",\n",
    "    \"chicken\": \"american\",\n",
    "    \"sandwiches\": \"american\",\n",
    "    \"grill\": \"american\",\n",
    "    \"fries\": \"american\",\n",
    "    \"fast food\": \"american\",\n",
    "    \"chicken wings\": \"american\",\n",
    "\n",
    "    \"italian\": \"italian\",\n",
    "    \"pizza\": \"italian\",\n",
    "    \"pasta\": \"italian\",\n",
    "\n",
    "    \"french\": \"french\",\n",
    "    \"german\": \"german\",\n",
    "    \"spanish\": \"spanish\",\n",
    "    \"mexican\": \"mexican\",\n",
    "    \"turkish\": \"turkish\",\n",
    "    \"lebanese\": \"lebanese\",\n",
    "\n",
    "    # Reassign rice-based dishes\n",
    "    \"rice dishes\": \"asian\",\n",
    "    \"asian\": \"asian\",\n",
    "    \"fried rice\": \"asian\",\n",
    "    \"seafood\": \"asian\",\n",
    "    \"soups\": \"asian\",\n",
    "    \"filipino\": \"asian\",\n",
    "    \"laksa\": \"asian\",\n",
    "    \"porridge\": \"asian\",\n",
    "    \"fish soup\": \"asian\",\n",
    "\n",
    "    # Everything else defaults to snacks\n",
    "}\n"
   ]
  },
  {
   "cell_type": "code",
   "execution_count": 19,
   "id": "78a49609-3ce3-4194-a72d-262b2a630808",
   "metadata": {
    "execution": {
     "iopub.execute_input": "2025-10-25T20:20:59.519016Z",
     "iopub.status.busy": "2025-10-25T20:20:59.518440Z",
     "iopub.status.idle": "2025-10-25T20:20:59.531334Z",
     "shell.execute_reply": "2025-10-25T20:20:59.529005Z",
     "shell.execute_reply.started": "2025-10-25T20:20:59.518965Z"
    }
   },
   "outputs": [
    {
     "data": {
      "text/plain": [
       "array(['japanese', ' korean', 'chinese', 'indian', 'thai', 'vietnamese',\n",
       "       'singaporean', 'indonesian', 'malaysian', 'american', 'italian',\n",
       "       'french', 'german', 'spanish', 'mexican', 'turkish', 'lebanese',\n",
       "       'asian'], dtype=object)"
      ]
     },
     "execution_count": 19,
     "metadata": {},
     "output_type": "execute_result"
    }
   ],
   "source": [
    "pd.Series(global_cuisine_category.values()).unique()"
   ]
  },
  {
   "cell_type": "code",
   "execution_count": 20,
   "id": "8f843c2b-9d05-4cca-91b4-7b6f757a4bb4",
   "metadata": {
    "execution": {
     "iopub.execute_input": "2025-10-25T20:21:00.262099Z",
     "iopub.status.busy": "2025-10-25T20:21:00.261638Z",
     "iopub.status.idle": "2025-10-25T20:21:00.271888Z",
     "shell.execute_reply": "2025-10-25T20:21:00.268829Z",
     "shell.execute_reply.started": "2025-10-25T20:21:00.262060Z"
    }
   },
   "outputs": [
    {
     "data": {
      "text/plain": [
       "18"
      ]
     },
     "execution_count": 20,
     "metadata": {},
     "output_type": "execute_result"
    }
   ],
   "source": [
    "pd.Series(global_cuisine_category.values()).nunique()"
   ]
  },
  {
   "cell_type": "code",
   "execution_count": 21,
   "id": "ac96378f-54e2-4fa4-ba92-228352d4eabb",
   "metadata": {
    "execution": {
     "iopub.execute_input": "2025-10-25T20:21:00.849392Z",
     "iopub.status.busy": "2025-10-25T20:21:00.848906Z",
     "iopub.status.idle": "2025-10-25T20:21:00.873536Z",
     "shell.execute_reply": "2025-10-25T20:21:00.869961Z",
     "shell.execute_reply.started": "2025-10-25T20:21:00.849350Z"
    }
   },
   "outputs": [
    {
     "name": "stderr",
     "output_type": "stream",
     "text": [
      "/tmp/ipykernel_1191/2676602241.py:2: FutureWarning: A value is trying to be set on a copy of a DataFrame or Series through chained assignment using an inplace method.\n",
      "The behavior will change in pandas 3.0. This inplace method will never work because the intermediate object on which we are setting values always behaves as a copy.\n",
      "\n",
      "For example, when doing 'df[col].method(value, inplace=True)', try using 'df.method({col: value}, inplace=True)' or df[col] = df[col].method(value) instead, to perform the operation inplace on the original object.\n",
      "\n",
      "\n",
      "  full_data['cuisine_origin'].fillna('snacks', inplace=True)\n"
     ]
    }
   ],
   "source": [
    "full_data['cuisine_origin'] = full_data['primary_cuisine'].str.strip().map(global_cuisine_category)\n",
    "full_data['cuisine_origin'].fillna('snacks', inplace=True)\n"
   ]
  },
  {
   "cell_type": "code",
   "execution_count": 22,
   "id": "d20a62dc-0219-4efb-aad4-82e57f6c7809",
   "metadata": {
    "execution": {
     "iopub.execute_input": "2025-10-25T20:21:02.204460Z",
     "iopub.status.busy": "2025-10-25T20:21:02.203860Z",
     "iopub.status.idle": "2025-10-25T20:21:02.223015Z",
     "shell.execute_reply": "2025-10-25T20:21:02.220469Z",
     "shell.execute_reply.started": "2025-10-25T20:21:02.204415Z"
    }
   },
   "outputs": [
    {
     "name": "stdout",
     "output_type": "stream",
     "text": [
      "           primary_cuisine cuisine_origin\n",
      "3347             acai bowl         snacks\n",
      "66                american       american\n",
      "51                   asian          asian\n",
      "170            ayam penyet     indonesian\n",
      "2915           bak kut teh        chinese\n",
      "41                  bakery         snacks\n",
      "2420              ban mian    singaporean\n",
      "208              beverages         snacks\n",
      "195             bubble tea         snacks\n",
      "30                 burgers       american\n",
      "429                  cakes         snacks\n",
      "189                chicken       american\n",
      "90            chicken rice    singaporean\n",
      "103                chinese        chinese\n",
      "57                  coffee         snacks\n",
      "376                  curry         indian\n",
      "32                 dessert         snacks\n",
      "196               dim sum         chinese\n",
      "889                  donut         snacks\n",
      "641              fast food       american\n",
      "399              fish soup          asian\n",
      "5675                french         french\n",
      "81           fried chicken       american\n",
      "87              fried rice          asian\n",
      "1928                 fries       american\n",
      "7508                german         german\n",
      "465                  greek         snacks\n",
      "1814                 grill       american\n",
      "529                  halal         snacks\n",
      "97                 healthy         snacks\n",
      "3621           hokkien mee        chinese\n",
      "24                  indian         indian\n",
      "218             indonesian     indonesian\n",
      "5294         international         snacks\n",
      "1480               italian        italian\n",
      "48                japanese       japanese\n",
      "4979            kaya toast         snacks\n",
      "47                  korean         snacks\n",
      "921                  laksa          asian\n",
      "9155              lebanese       lebanese\n",
      "4628            mala soups        chinese\n",
      "88          mala xiang guo        chinese\n",
      "72               malaysian      malaysian\n",
      "1004               mexican        mexican\n",
      "155             nasi lemak      malaysian\n",
      "59                 noodles        chinese\n",
      "2692  pancakes and waffles         snacks\n",
      "20                   pasta        italian\n",
      "2132                   pho     vietnamese\n",
      "17                   pizza        italian\n",
      "649               porridge          asian\n",
      "0                    ramen       japanese\n",
      "533            rice dishes          asian\n",
      "174             roti prata      malaysian\n",
      "3200                salads         snacks\n",
      "268             sandwiches       american\n",
      "1473                 satay         snacks\n",
      "226                seafood          asian\n",
      "65             singaporean    singaporean\n",
      "799                 snacks         snacks\n",
      "55                   soups          asian\n",
      "466                spanish        spanish\n",
      "198                  sushi       japanese\n",
      "631                    tea        chinese\n",
      "37                    thai           thai\n",
      "3058               turkish        turkish\n",
      "92              vegetarian         snacks\n",
      "13              vietnamese     vietnamese\n",
      "5                  western         snacks\n",
      "5098                 wraps         snacks\n",
      "657           yong tau foo    singaporean\n"
     ]
    }
   ],
   "source": [
    "print(full_data[['primary_cuisine', 'cuisine_origin']].drop_duplicates().sort_values(by='primary_cuisine'))\n"
   ]
  },
  {
   "cell_type": "code",
   "execution_count": 23,
   "id": "4fbd85b7-b42a-4624-a420-3bafbf24e513",
   "metadata": {
    "execution": {
     "iopub.execute_input": "2025-10-25T20:21:03.297271Z",
     "iopub.status.busy": "2025-10-25T20:21:03.296906Z",
     "iopub.status.idle": "2025-10-25T20:21:03.318457Z",
     "shell.execute_reply": "2025-10-25T20:21:03.315704Z",
     "shell.execute_reply.started": "2025-10-25T20:21:03.297227Z"
    }
   },
   "outputs": [
    {
     "data": {
      "text/html": [
       "<div>\n",
       "<style scoped>\n",
       "    .dataframe tbody tr th:only-of-type {\n",
       "        vertical-align: middle;\n",
       "    }\n",
       "\n",
       "    .dataframe tbody tr th {\n",
       "        vertical-align: top;\n",
       "    }\n",
       "\n",
       "    .dataframe thead th {\n",
       "        text-align: right;\n",
       "    }\n",
       "</style>\n",
       "<table border=\"1\" class=\"dataframe\">\n",
       "  <thead>\n",
       "    <tr style=\"text-align: right;\">\n",
       "      <th></th>\n",
       "      <th>customer_id</th>\n",
       "      <th>geohash_x</th>\n",
       "      <th>order_id</th>\n",
       "      <th>vendor_id</th>\n",
       "      <th>product_id</th>\n",
       "      <th>day_of_week</th>\n",
       "      <th>order_time</th>\n",
       "      <th>order_day</th>\n",
       "      <th>name</th>\n",
       "      <th>unit_price</th>\n",
       "      <th>chain_id</th>\n",
       "      <th>geohash_y</th>\n",
       "      <th>primary_cuisine</th>\n",
       "      <th>cuisine_origin</th>\n",
       "    </tr>\n",
       "  </thead>\n",
       "  <tbody>\n",
       "    <tr>\n",
       "      <th>0</th>\n",
       "      <td>1ba124d4e5</td>\n",
       "      <td>w21z7</td>\n",
       "      <td>0</td>\n",
       "      <td>212753d2</td>\n",
       "      <td>783e85338f1c</td>\n",
       "      <td>0</td>\n",
       "      <td>12:03:29</td>\n",
       "      <td>85 days</td>\n",
       "      <td>201. Japanese Garlic Karaage Don</td>\n",
       "      <td>0.0060</td>\n",
       "      <td>66c9978d</td>\n",
       "      <td>w21z7</td>\n",
       "      <td>ramen</td>\n",
       "      <td>japanese</td>\n",
       "    </tr>\n",
       "    <tr>\n",
       "      <th>1</th>\n",
       "      <td>1ba124d4e5</td>\n",
       "      <td>w21z7</td>\n",
       "      <td>0</td>\n",
       "      <td>212753d2</td>\n",
       "      <td>084ab73246e6</td>\n",
       "      <td>0</td>\n",
       "      <td>12:03:29</td>\n",
       "      <td>85 days</td>\n",
       "      <td>204. Chicken Cutlet Don</td>\n",
       "      <td>0.0068</td>\n",
       "      <td>66c9978d</td>\n",
       "      <td>w21z7</td>\n",
       "      <td>ramen</td>\n",
       "      <td>japanese</td>\n",
       "    </tr>\n",
       "    <tr>\n",
       "      <th>2</th>\n",
       "      <td>1ba124d4e5</td>\n",
       "      <td>w21z7</td>\n",
       "      <td>0</td>\n",
       "      <td>212753d2</td>\n",
       "      <td>30eba3cc2676</td>\n",
       "      <td>0</td>\n",
       "      <td>12:03:29</td>\n",
       "      <td>85 days</td>\n",
       "      <td>206. Beef Sukiyaki Don</td>\n",
       "      <td>0.0068</td>\n",
       "      <td>66c9978d</td>\n",
       "      <td>w21z7</td>\n",
       "      <td>ramen</td>\n",
       "      <td>japanese</td>\n",
       "    </tr>\n",
       "    <tr>\n",
       "      <th>3</th>\n",
       "      <td>1ba124d4e5</td>\n",
       "      <td>w21z7</td>\n",
       "      <td>0</td>\n",
       "      <td>212753d2</td>\n",
       "      <td>3910309eea60</td>\n",
       "      <td>0</td>\n",
       "      <td>12:03:29</td>\n",
       "      <td>85 days</td>\n",
       "      <td>209. Japanese Beef Yakiniku Don</td>\n",
       "      <td>0.0068</td>\n",
       "      <td>66c9978d</td>\n",
       "      <td>w21z7</td>\n",
       "      <td>ramen</td>\n",
       "      <td>japanese</td>\n",
       "    </tr>\n",
       "    <tr>\n",
       "      <th>4</th>\n",
       "      <td>1ba124d4e5</td>\n",
       "      <td>w21z7</td>\n",
       "      <td>0</td>\n",
       "      <td>212753d2</td>\n",
       "      <td>20049fb602cb</td>\n",
       "      <td>0</td>\n",
       "      <td>12:03:29</td>\n",
       "      <td>85 days</td>\n",
       "      <td>210. Teriyaki Salmon Don</td>\n",
       "      <td>0.0080</td>\n",
       "      <td>66c9978d</td>\n",
       "      <td>w21z7</td>\n",
       "      <td>ramen</td>\n",
       "      <td>japanese</td>\n",
       "    </tr>\n",
       "  </tbody>\n",
       "</table>\n",
       "</div>"
      ],
      "text/plain": [
       "  customer_id geohash_x  order_id vendor_id    product_id  day_of_week  \\\n",
       "0  1ba124d4e5     w21z7         0  212753d2  783e85338f1c            0   \n",
       "1  1ba124d4e5     w21z7         0  212753d2  084ab73246e6            0   \n",
       "2  1ba124d4e5     w21z7         0  212753d2  30eba3cc2676            0   \n",
       "3  1ba124d4e5     w21z7         0  212753d2  3910309eea60            0   \n",
       "4  1ba124d4e5     w21z7         0  212753d2  20049fb602cb            0   \n",
       "\n",
       "  order_time order_day                              name  unit_price  \\\n",
       "0   12:03:29   85 days  201. Japanese Garlic Karaage Don      0.0060   \n",
       "1   12:03:29   85 days           204. Chicken Cutlet Don      0.0068   \n",
       "2   12:03:29   85 days            206. Beef Sukiyaki Don      0.0068   \n",
       "3   12:03:29   85 days   209. Japanese Beef Yakiniku Don      0.0068   \n",
       "4   12:03:29   85 days          210. Teriyaki Salmon Don      0.0080   \n",
       "\n",
       "   chain_id geohash_y primary_cuisine cuisine_origin  \n",
       "0  66c9978d     w21z7           ramen       japanese  \n",
       "1  66c9978d     w21z7           ramen       japanese  \n",
       "2  66c9978d     w21z7           ramen       japanese  \n",
       "3  66c9978d     w21z7           ramen       japanese  \n",
       "4  66c9978d     w21z7           ramen       japanese  "
      ]
     },
     "execution_count": 23,
     "metadata": {},
     "output_type": "execute_result"
    }
   ],
   "source": [
    "full_data.head()"
   ]
  },
  {
   "cell_type": "code",
   "execution_count": 24,
   "id": "8ae114ac-ea9e-4dad-99c4-eeb23739d744",
   "metadata": {
    "execution": {
     "iopub.execute_input": "2025-10-25T20:21:04.159258Z",
     "iopub.status.busy": "2025-10-25T20:21:04.158726Z",
     "iopub.status.idle": "2025-10-25T20:21:04.324106Z",
     "shell.execute_reply": "2025-10-25T20:21:04.320477Z",
     "shell.execute_reply.started": "2025-10-25T20:21:04.159215Z"
    }
   },
   "outputs": [
    {
     "name": "stdout",
     "output_type": "stream",
     "text": [
      "/home/rema/code/Alanoudis/food-delivery-rec/notebooks/rema\n"
     ]
    }
   ],
   "source": [
    "!pwd"
   ]
  },
  {
   "cell_type": "code",
   "execution_count": 25,
   "id": "3c7b52e0-7a77-4045-9a41-101d5d7b7593",
   "metadata": {
    "execution": {
     "iopub.execute_input": "2025-10-25T20:21:05.786645Z",
     "iopub.status.busy": "2025-10-25T20:21:05.786082Z",
     "iopub.status.idle": "2025-10-25T20:21:05.853730Z",
     "shell.execute_reply": "2025-10-25T20:21:05.851492Z",
     "shell.execute_reply.started": "2025-10-25T20:21:05.786598Z"
    }
   },
   "outputs": [],
   "source": [
    "full_data[[\"name\"]].to_csv(\"meals.csv\")"
   ]
  },
  {
   "cell_type": "code",
   "execution_count": 26,
   "id": "9529731a-c2d0-4632-ae87-5769610f86e9",
   "metadata": {
    "execution": {
     "iopub.execute_input": "2025-10-25T20:21:06.490826Z",
     "iopub.status.busy": "2025-10-25T20:21:06.490192Z",
     "iopub.status.idle": "2025-10-25T20:21:06.519795Z",
     "shell.execute_reply": "2025-10-25T20:21:06.517441Z",
     "shell.execute_reply.started": "2025-10-25T20:21:06.490770Z"
    }
   },
   "outputs": [],
   "source": [
    "df = pd.read_csv('meals.csv')"
   ]
  },
  {
   "cell_type": "code",
   "execution_count": 27,
   "id": "906b0706-f1fe-4fb2-b23a-4b4932791d9d",
   "metadata": {
    "execution": {
     "iopub.execute_input": "2025-10-25T20:21:07.018924Z",
     "iopub.status.busy": "2025-10-25T20:21:07.018362Z",
     "iopub.status.idle": "2025-10-25T20:21:07.033023Z",
     "shell.execute_reply": "2025-10-25T20:21:07.030393Z",
     "shell.execute_reply.started": "2025-10-25T20:21:07.018875Z"
    }
   },
   "outputs": [
    {
     "data": {
      "text/html": [
       "<div>\n",
       "<style scoped>\n",
       "    .dataframe tbody tr th:only-of-type {\n",
       "        vertical-align: middle;\n",
       "    }\n",
       "\n",
       "    .dataframe tbody tr th {\n",
       "        vertical-align: top;\n",
       "    }\n",
       "\n",
       "    .dataframe thead th {\n",
       "        text-align: right;\n",
       "    }\n",
       "</style>\n",
       "<table border=\"1\" class=\"dataframe\">\n",
       "  <thead>\n",
       "    <tr style=\"text-align: right;\">\n",
       "      <th></th>\n",
       "      <th>Unnamed: 0</th>\n",
       "      <th>name</th>\n",
       "    </tr>\n",
       "  </thead>\n",
       "  <tbody>\n",
       "    <tr>\n",
       "      <th>0</th>\n",
       "      <td>0</td>\n",
       "      <td>201. Japanese Garlic Karaage Don</td>\n",
       "    </tr>\n",
       "    <tr>\n",
       "      <th>1</th>\n",
       "      <td>1</td>\n",
       "      <td>204. Chicken Cutlet Don</td>\n",
       "    </tr>\n",
       "    <tr>\n",
       "      <th>2</th>\n",
       "      <td>2</td>\n",
       "      <td>206. Beef Sukiyaki Don</td>\n",
       "    </tr>\n",
       "    <tr>\n",
       "      <th>3</th>\n",
       "      <td>3</td>\n",
       "      <td>209. Japanese Beef Yakiniku Don</td>\n",
       "    </tr>\n",
       "    <tr>\n",
       "      <th>4</th>\n",
       "      <td>4</td>\n",
       "      <td>210. Teriyaki Salmon Don</td>\n",
       "    </tr>\n",
       "  </tbody>\n",
       "</table>\n",
       "</div>"
      ],
      "text/plain": [
       "   Unnamed: 0                              name\n",
       "0           0  201. Japanese Garlic Karaage Don\n",
       "1           1           204. Chicken Cutlet Don\n",
       "2           2            206. Beef Sukiyaki Don\n",
       "3           3   209. Japanese Beef Yakiniku Don\n",
       "4           4          210. Teriyaki Salmon Don"
      ]
     },
     "execution_count": 27,
     "metadata": {},
     "output_type": "execute_result"
    }
   ],
   "source": [
    "df.head()"
   ]
  },
  {
   "cell_type": "code",
   "execution_count": 28,
   "id": "1924dba0-325c-4bfd-9335-9796d19b78ef",
   "metadata": {
    "execution": {
     "iopub.execute_input": "2025-10-25T20:21:07.966233Z",
     "iopub.status.busy": "2025-10-25T20:21:07.965688Z",
     "iopub.status.idle": "2025-10-25T20:21:07.976318Z",
     "shell.execute_reply": "2025-10-25T20:21:07.973476Z",
     "shell.execute_reply.started": "2025-10-25T20:21:07.966181Z"
    }
   },
   "outputs": [],
   "source": [
    "df = df.drop(columns=['Unnamed: 0'], errors='ignore')"
   ]
  },
  {
   "cell_type": "markdown",
   "id": "438f30c6-bfe2-48be-9907-cccee6c2742f",
   "metadata": {},
   "source": [
    "### 🟦  Clean the Dish Names"
   ]
  },
  {
   "cell_type": "code",
   "execution_count": 29,
   "id": "125cb792-11ef-400f-8d56-b58b9f09c999",
   "metadata": {
    "execution": {
     "iopub.execute_input": "2025-10-25T20:33:27.352211Z",
     "iopub.status.busy": "2025-10-25T20:33:27.336926Z",
     "iopub.status.idle": "2025-10-25T20:33:27.569333Z",
     "shell.execute_reply": "2025-10-25T20:33:27.562281Z",
     "shell.execute_reply.started": "2025-10-25T20:33:27.351157Z"
    }
   },
   "outputs": [],
   "source": [
    "import re\n",
    "\n",
    "def clean_text(text):\n",
    "    text = str(text).lower()\n",
    "    text = re.sub(r'\\d+\\.', '', text)         # Remove leading numbers like \"204.\"\n",
    "    text = re.sub(r'[^\\w\\s]', '', text)       # Remove punctuation\n",
    "    text = re.sub(r'\\d+', '', text)           # Remove remaining numbers\n",
    "    text = text.strip()\n",
    "    return text\n",
    "\n",
    "df['name_cleaned'] = df['name'].fillna('').apply(clean_text)\n"
   ]
  },
  {
   "cell_type": "code",
   "execution_count": 30,
   "id": "782d8ee7-347f-460a-99c7-df321d03988b",
   "metadata": {
    "execution": {
     "iopub.execute_input": "2025-10-25T20:33:27.787414Z",
     "iopub.status.busy": "2025-10-25T20:33:27.786925Z",
     "iopub.status.idle": "2025-10-25T20:33:27.855205Z",
     "shell.execute_reply": "2025-10-25T20:33:27.847665Z",
     "shell.execute_reply.started": "2025-10-25T20:33:27.787379Z"
    }
   },
   "outputs": [
    {
     "data": {
      "text/plain": [
       "0    japanese garlic karaage don\n",
       "1             chicken cutlet don\n",
       "2              beef sukiyaki don\n",
       "3     japanese beef yakiniku don\n",
       "4            teriyaki salmon don\n",
       "Name: name_cleaned, dtype: object"
      ]
     },
     "execution_count": 30,
     "metadata": {},
     "output_type": "execute_result"
    }
   ],
   "source": [
    "df['name_cleaned'].head()"
   ]
  },
  {
   "cell_type": "markdown",
   "id": "48996446-5df3-4ce3-880a-afa9e4db7c1a",
   "metadata": {},
   "source": [
    "### 🟦 Create TF-IDF Matrix"
   ]
  },
  {
   "cell_type": "code",
   "execution_count": 31,
   "id": "b78d7304-a190-4bf4-9f17-811f93e5720c",
   "metadata": {
    "execution": {
     "iopub.execute_input": "2025-10-25T20:33:29.163089Z",
     "iopub.status.busy": "2025-10-25T20:33:29.162625Z",
     "iopub.status.idle": "2025-10-25T20:33:29.398574Z",
     "shell.execute_reply": "2025-10-25T20:33:29.395900Z",
     "shell.execute_reply.started": "2025-10-25T20:33:29.163048Z"
    }
   },
   "outputs": [
    {
     "name": "stdout",
     "output_type": "stream",
     "text": [
      "✅ TF-IDF matrix created.\n",
      "Matrix shape: (10001, 3806)\n"
     ]
    }
   ],
   "source": [
    "from sklearn.feature_extraction.text import TfidfVectorizer\n",
    "\n",
    "# Initialize vectorizer\n",
    "tfidf_vectorizer = TfidfVectorizer(stop_words='english')\n",
    "\n",
    "# Fit and transform\n",
    "tfidf_matrix = tfidf_vectorizer.fit_transform(df['name_cleaned'])\n",
    "\n",
    "# Summary\n",
    "print(\"✅ TF-IDF matrix created.\")\n",
    "print(f\"Matrix shape: {tfidf_matrix.shape}\")\n"
   ]
  },
  {
   "cell_type": "markdown",
   "id": "8ed13c3f-1846-4196-a002-f261a24061dc",
   "metadata": {},
   "source": [
    "### 🟦 Compute Cosine Similarity"
   ]
  },
  {
   "cell_type": "code",
   "execution_count": 32,
   "id": "43cd8d13-8e0e-4988-9946-09bdbacc56ed",
   "metadata": {
    "execution": {
     "iopub.execute_input": "2025-10-25T20:33:30.804083Z",
     "iopub.status.busy": "2025-10-25T20:33:30.803565Z",
     "iopub.status.idle": "2025-10-25T20:33:33.302962Z",
     "shell.execute_reply": "2025-10-25T20:33:33.290590Z",
     "shell.execute_reply.started": "2025-10-25T20:33:30.804048Z"
    }
   },
   "outputs": [],
   "source": [
    "from sklearn.metrics.pairwise import cosine_similarity\n",
    "\n",
    "# Compute similarity\n",
    "cosine_sim_matrix = cosine_similarity(tfidf_matrix)\n",
    "\n",
    "# Preview\n",
    "#print(\"✅ Cosine similarity matrix built.\")\n",
    "#print(\"Top-left 5x5 sample:\")\n",
    "#print(cosine_sim_matrix[:5, :5])\n"
   ]
  },
  {
   "cell_type": "markdown",
   "id": "3f1669c0-9abf-4006-9cb2-b91c98056081",
   "metadata": {},
   "source": [
    "### 🟦  Build Recommender Function"
   ]
  },
  {
   "cell_type": "code",
   "execution_count": 33,
   "id": "3fb329bb-2b11-47ec-a896-d66e2b71267a",
   "metadata": {
    "execution": {
     "iopub.execute_input": "2025-10-25T20:33:36.332859Z",
     "iopub.status.busy": "2025-10-25T20:33:36.330229Z",
     "iopub.status.idle": "2025-10-25T20:33:36.464302Z",
     "shell.execute_reply": "2025-10-25T20:33:36.460220Z",
     "shell.execute_reply.started": "2025-10-25T20:33:36.332521Z"
    }
   },
   "outputs": [],
   "source": [
    "# Create a lookup index using cleaned names, keeping only the first match\n",
    "indices = df['name_cleaned'].drop_duplicates().reset_index(drop=True)\n",
    "lookup = pd.Series(indices.index, index=indices.values)\n"
   ]
  },
  {
   "cell_type": "code",
   "execution_count": 34,
   "id": "634df172-b0b1-440a-86cb-8c04870102c1",
   "metadata": {
    "execution": {
     "iopub.execute_input": "2025-10-25T20:33:36.911758Z",
     "iopub.status.busy": "2025-10-25T20:33:36.911164Z",
     "iopub.status.idle": "2025-10-25T20:33:37.130807Z",
     "shell.execute_reply": "2025-10-25T20:33:37.127167Z",
     "shell.execute_reply.started": "2025-10-25T20:33:36.911722Z"
    }
   },
   "outputs": [],
   "source": [
    "def get_similar_meals(title, cosine_sim=cosine_sim_matrix, lookup=lookup, df=df):\n",
    "    try:\n",
    "        title_cleaned = clean_text(title)\n",
    "\n",
    "        if title_cleaned not in lookup:\n",
    "            return f\"Meal '{title}' not found in the dataset.\"\n",
    "\n",
    "        idx = lookup[title_cleaned]\n",
    "\n",
    "        sim_scores = list(enumerate(cosine_sim[idx]))\n",
    "        sim_scores = sorted(sim_scores, key=lambda x: x[1], reverse=True)\n",
    "        sim_scores = [score for score in sim_scores if score[0] != idx][:10]\n",
    "        meal_indices = [i[0] for i in sim_scores]\n",
    "\n",
    "        return df['name_cleaned'].iloc[meal_indices]\n",
    "\n",
    "    except Exception as e:\n",
    "        return f\"Error: {e}\"\n"
   ]
  },
  {
   "cell_type": "markdown",
   "id": "dbe6301d-a3c8-47e4-8d88-ce7652375ff0",
   "metadata": {},
   "source": [
    "### 🟦 Test the Recommender"
   ]
  },
  {
   "cell_type": "code",
   "execution_count": 35,
   "id": "73c9d4bd-cfb5-4811-ac6c-9d93e0ddf643",
   "metadata": {
    "execution": {
     "iopub.execute_input": "2025-10-25T20:33:38.867551Z",
     "iopub.status.busy": "2025-10-25T20:33:38.866543Z",
     "iopub.status.idle": "2025-10-25T20:33:39.015229Z",
     "shell.execute_reply": "2025-10-25T20:33:39.011918Z",
     "shell.execute_reply.started": "2025-10-25T20:33:38.867490Z"
    }
   },
   "outputs": [
    {
     "name": "stdout",
     "output_type": "stream",
     "text": [
      "3242          chicken cutlet don\n",
      "4546              chicken cutlet\n",
      "5465            m chicken cutlet\n",
      "5720              chicken cutlet\n",
      "9766            a chicken cutlet\n",
      "9768            a chicken cutlet\n",
      "5       chicken cutlet with rice\n",
      "853     chicken cutlet with rice\n",
      "2687         chicken cutlet rice\n",
      "4071         chicken cutlet rice\n",
      "Name: name_cleaned, dtype: object\n"
     ]
    }
   ],
   "source": [
    "test_meal = \"chicken cutlet don\"\n",
    "similar_meals = get_similar_meals(test_meal)\n",
    "print(similar_meals)"
   ]
  },
  {
   "cell_type": "code",
   "execution_count": 36,
   "id": "090cba3f-fe7b-48b5-a831-2f773bc625cd",
   "metadata": {
    "execution": {
     "iopub.execute_input": "2025-10-25T20:33:40.256723Z",
     "iopub.status.busy": "2025-10-25T20:33:40.256303Z",
     "iopub.status.idle": "2025-10-25T20:33:41.748650Z",
     "shell.execute_reply": "2025-10-25T20:33:41.745567Z",
     "shell.execute_reply.started": "2025-10-25T20:33:40.256687Z"
    }
   },
   "outputs": [
    {
     "name": "stdout",
     "output_type": "stream",
     "text": [
      "3241         japanese garlic karaage don\n",
      "3             japanese beef yakiniku don\n",
      "9170          japanese beef yakiniku don\n",
      "4055                       japanese rice\n",
      "7893                         karaage set\n",
      "1831                       curry karaage\n",
      "8503                 chicken karaage pcs\n",
      "3962    japanese curry w  croquette rice\n",
      "4054                r fish karaage ramen\n",
      "1899                          salmon don\n",
      "Name: name_cleaned, dtype: object\n"
     ]
    }
   ],
   "source": [
    "test_meal = \"japanese garlic karaage don\"\n",
    "similar_meals = get_similar_meals(test_meal)\n",
    "print(similar_meals)\n"
   ]
  },
  {
   "cell_type": "code",
   "execution_count": 37,
   "id": "99a6232b-35ab-43df-a97b-f990e4bdeb6a",
   "metadata": {
    "execution": {
     "iopub.execute_input": "2025-10-25T20:33:43.251345Z",
     "iopub.status.busy": "2025-10-25T20:33:43.250869Z",
     "iopub.status.idle": "2025-10-25T20:33:43.261552Z",
     "shell.execute_reply": "2025-10-25T20:33:43.258527Z",
     "shell.execute_reply.started": "2025-10-25T20:33:43.251311Z"
    }
   },
   "outputs": [
    {
     "name": "stdout",
     "output_type": "stream",
     "text": [
      "Meal 'sushis' not found in the dataset.\n"
     ]
    }
   ],
   "source": [
    "test_meal = \"sushis\"\n",
    "similar_meals = get_similar_meals(test_meal)\n",
    "print(similar_meals)"
   ]
  },
  {
   "cell_type": "code",
   "execution_count": 38,
   "id": "c7c3eabb-854e-4cf3-94c5-9c3635760b1e",
   "metadata": {
    "execution": {
     "iopub.execute_input": "2025-10-25T20:44:25.344965Z",
     "iopub.status.busy": "2025-10-25T20:44:25.344119Z",
     "iopub.status.idle": "2025-10-25T20:44:25.360980Z",
     "shell.execute_reply": "2025-10-25T20:44:25.357331Z",
     "shell.execute_reply.started": "2025-10-25T20:44:25.344918Z"
    }
   },
   "outputs": [],
   "source": [
    "def get_similar_meals_by_keyword(keyword, df=df):\n",
    "    try:\n",
    "        keyword_cleaned = clean_text(keyword)\n",
    "\n",
    "        # Find all meals that contain the keyword\n",
    "        matches = df[df['name_cleaned'].str.contains(keyword_cleaned, case=False, na=False)]\n",
    "\n",
    "        if matches.empty:\n",
    "            return f\"No meals found containing '{keyword}'.\"\n",
    "\n",
    "        return matches['name_cleaned'].drop_duplicates().reset_index(drop=True)\n",
    "\n",
    "    except Exception as e:\n",
    "        return f\"Error: {e}\"\n"
   ]
  },
  {
   "cell_type": "code",
   "execution_count": 39,
   "id": "7265d023-32e0-4a73-8bc5-f77ce10e366d",
   "metadata": {
    "execution": {
     "iopub.execute_input": "2025-10-25T20:44:25.956834Z",
     "iopub.status.busy": "2025-10-25T20:44:25.956267Z",
     "iopub.status.idle": "2025-10-25T20:44:26.020831Z",
     "shell.execute_reply": "2025-10-25T20:44:26.016865Z",
     "shell.execute_reply.started": "2025-10-25T20:44:25.956776Z"
    }
   },
   "outputs": [
    {
     "data": {
      "text/plain": [
       "0                  chicken cutlet don\n",
       "1            chicken cutlet with rice\n",
       "2                        chicken chop\n",
       "3             chicken wings with rice\n",
       "4              chicken chop with rice\n",
       "5                      butter chicken\n",
       "6    chicken wing nasi lemak istimewa\n",
       "7                chicken hor fun 鸡丝河粉\n",
       "8                       chicken piece\n",
       "9             chicken claw noodle 凤爪面\n",
       "Name: name_cleaned, dtype: object"
      ]
     },
     "execution_count": 39,
     "metadata": {},
     "output_type": "execute_result"
    }
   ],
   "source": [
    "test_meal = \"chicken\"\n",
    "similar_meals = get_similar_meals_by_keyword(test_meal)\n",
    "similar_meals.head(10)\n"
   ]
  },
  {
   "cell_type": "code",
   "execution_count": null,
   "id": "0b8cc0ea-a3ca-41c1-9530-bcfaec09aa2d",
   "metadata": {},
   "outputs": [],
   "source": []
  },
  {
   "cell_type": "code",
   "execution_count": 40,
   "id": "4662a844-e5d8-4c1b-ba08-a489a587a23d",
   "metadata": {
    "execution": {
     "iopub.execute_input": "2025-10-25T20:24:32.466823Z",
     "iopub.status.busy": "2025-10-25T20:24:32.456589Z",
     "iopub.status.idle": "2025-10-25T20:24:32.577115Z",
     "shell.execute_reply": "2025-10-25T20:24:32.572400Z",
     "shell.execute_reply.started": "2025-10-25T20:24:32.465269Z"
    }
   },
   "outputs": [
    {
     "name": "stdout",
     "output_type": "stream",
     "text": [
      "--- Fitting NMF model to find topics ---\n",
      "--- NMF model training complete ---\n",
      "\n",
      "--- Discovered Topics (Main Ideas) ---\n",
      "Topic 0:\n",
      "rice 白饭 white steamed roasted 米饭 fragrant curry\n",
      "--------------------\n",
      "Topic 1:\n",
      "chicken curry chop cutlet crispy grilled teriyaki pc\n",
      "--------------------\n",
      "Topic 2:\n",
      "tea milk medium green honey thai oolong caramel\n",
      "--------------------\n",
      "Topic 3:\n",
      "set bee hoon kee yew 友记鸭饭 create sandwich\n",
      "--------------------\n",
      "Topic 4:\n",
      "fried seasoned prawns dumpling seafood thai prawn bee\n",
      "--------------------\n",
      "Topic 5:\n",
      "egg mayo salted prata braised sandwich prawns seasoned\n",
      "--------------------\n",
      "Topic 6:\n",
      "pcs wings separation nuggets mai sauce siew golden\n",
      "--------------------\n",
      "Topic 7:\n",
      "nasi lemak ayam penyet goreng sambal selected drink\n",
      "--------------------\n",
      "Topic 8:\n",
      "large kopi teh iced green yakult ovaltine lemon\n",
      "--------------------\n",
      "Topic 9:\n",
      "plain prata 米饭 thosai pc coin bomb naan\n",
      "--------------------\n",
      "Topic 10:\n",
      "toast butter kaya traditional sugar peanut french naan\n",
      "--------------------\n",
      "Topic 11:\n",
      "noodle mushroom minced meat noodles 香菇肉脞面 miso wanton\n",
      "--------------------\n",
      "Topic 12:\n",
      "meal buddy value pc prosperity double mcgriddles upsized\n",
      "--------------------\n",
      "Topic 13:\n",
      "beef prosperity salmon pepper braised black combo bowl\n",
      "--------------------\n",
      "Topic 14:\n",
      "mee goreng hoon bee rebus maggi combo soto\n",
      "--------------------\n",
      "Topic 15:\n",
      "pork ribs roasted pickled chillies collar small腌菜松板肉小 poached\n",
      "--------------------\n",
      "Topic 16:\n",
      "fish sliced grilled porridge fillet chips bee hoon\n",
      "--------------------\n",
      "Topic 17:\n",
      "soup tom seafood yum spinach clear red wanton\n",
      "--------------------\n",
      "Topic 18:\n",
      "cheese ham sandwich fries pancake laksa prata curry\n",
      "--------------------\n",
      "Topic 19:\n",
      "fun cheong chee hor prawn siew 猪肠粉虾 char\n",
      "--------------------\n"
     ]
    }
   ],
   "source": [
    "from sklearn.decomposition import NMF\n",
    "\n",
    "# --- 3. Define and Fit the NMF Model ---\n",
    "print(f\"--- Fitting NMF model to find topics ---\")\n",
    "\n",
    "# Define the number of \"main ideas\" you want to find\n",
    "num_topics = 20\n",
    "\n",
    "# Initialize NMF\n",
    "# 'n_components' is the number of topics.\n",
    "# 'random_state' ensures you get the same results every time you run it.\n",
    "# 'init='nndsvda'' is a smart initialization method that often leads to better results.\n",
    "# 'max_iter=500' gives the model more time to converge.\n",
    "nmf_model = NMF(\n",
    "    n_components=num_topics,\n",
    "    random_state=42,\n",
    "    max_iter=500,\n",
    "    init='nndsvda'\n",
    ")\n",
    "\n",
    "# Fit NMF to our TF-IDF matrix\n",
    "# This is the main \"training\" step that discovers the topics.\n",
    "nmf_model.fit(tfidf_matrix)\n",
    "\n",
    "print(\"--- NMF model training complete ---\")\n",
    "\n",
    "\n",
    "# --- 4. Define Function to Display Topics ---\n",
    "\n",
    "# Get the list of all unique words (the \"features\") from the vectorizer\n",
    "feature_names = tfidf_vectorizer.get_feature_names_out()\n",
    "\n",
    "def display_topics(model, feature_names, no_top_words):\n",
    "    \"\"\"Prints the top words for each topic found by the model.\"\"\"\n",
    "    print(\"\\n--- Discovered Topics (Main Ideas) ---\")\n",
    "\n",
    "    # 'model.components_' is a matrix (topics x words)\n",
    "    # Each row is a topic, and the values are the \"importance\" of each word.\n",
    "    for topic_idx, topic in enumerate(model.components_):\n",
    "\n",
    "        # Get the index numbers of the top N words for this topic\n",
    "        top_word_indices = topic.argsort()[:-no_top_words - 1:-1]\n",
    "\n",
    "        # Get the actual words from their index numbers\n",
    "        top_words = [feature_names[i] for i in top_word_indices]\n",
    "\n",
    "        # Print the topic\n",
    "        print(f\"Topic {topic_idx}:\")\n",
    "        print(\" \".join(top_words))\n",
    "        print(\"-\" * 20)\n",
    "\n",
    "# --- 5. Display the Results ---\n",
    "# Show the top 8 words for each of our 20 topics.\n",
    "display_topics(model=nmf_model,\n",
    "               feature_names=feature_names,\n",
    "               no_top_words=8)"
   ]
  },
  {
   "cell_type": "code",
   "execution_count": null,
   "id": "38b8fdf3-9098-469e-9df1-e69205067849",
   "metadata": {},
   "outputs": [],
   "source": []
  },
  {
   "cell_type": "code",
   "execution_count": 41,
   "id": "7e4e0fb8-c6e7-4d10-8fc1-8e8b33dce7cb",
   "metadata": {
    "execution": {
     "iopub.execute_input": "2025-10-25T20:39:56.276317Z",
     "iopub.status.busy": "2025-10-25T20:39:56.275458Z",
     "iopub.status.idle": "2025-10-25T20:39:56.617004Z",
     "shell.execute_reply": "2025-10-25T20:39:56.613462Z",
     "shell.execute_reply.started": "2025-10-25T20:39:56.276116Z"
    }
   },
   "outputs": [
    {
     "name": "stdout",
     "output_type": "stream",
     "text": [
      "data.ipynb\t   data_explor_reemaalg.ipynb  vendors.ipynb\n",
      "data_explor.ipynb  meals.csv\n"
     ]
    }
   ],
   "source": [
    "!ls"
   ]
  },
  {
   "cell_type": "code",
   "execution_count": 42,
   "id": "108f606d-f995-4679-bfc3-e8044c44d3bc",
   "metadata": {
    "execution": {
     "iopub.execute_input": "2025-10-25T20:39:56.938493Z",
     "iopub.status.busy": "2025-10-25T20:39:56.937251Z",
     "iopub.status.idle": "2025-10-25T20:39:57.231676Z",
     "shell.execute_reply": "2025-10-25T20:39:57.228936Z",
     "shell.execute_reply.started": "2025-10-25T20:39:56.938427Z"
    }
   },
   "outputs": [
    {
     "data": {
      "text/plain": [
       "5683"
      ]
     },
     "execution_count": 42,
     "metadata": {},
     "output_type": "execute_result"
    }
   ],
   "source": [
    "full_data[\"name\"].nunique()"
   ]
  },
  {
   "cell_type": "code",
   "execution_count": 43,
   "id": "24a3a042-c6f9-4eb4-9faf-a72a15e3d73f",
   "metadata": {
    "execution": {
     "iopub.execute_input": "2025-10-25T20:40:03.535870Z",
     "iopub.status.busy": "2025-10-25T20:40:03.535386Z",
     "iopub.status.idle": "2025-10-25T20:40:03.582611Z",
     "shell.execute_reply": "2025-10-25T20:40:03.580296Z",
     "shell.execute_reply.started": "2025-10-25T20:40:03.535834Z"
    }
   },
   "outputs": [],
   "source": [
    "# Example: Filter for Italian cuisine\n",
    "mexican_orders = full_data[full_data['primary_cuisine'] == 'mexican']\n"
   ]
  },
  {
   "cell_type": "markdown",
   "id": "59d9ab80-b5cf-41cd-8ea7-ea7ba079e5d7",
   "metadata": {},
   "source": [
    "##### 🔸 Most Frequent Customers per Cuisine(mexican cuisine)"
   ]
  },
  {
   "cell_type": "code",
   "execution_count": 44,
   "id": "926a011d-eb55-49e8-a774-d186a74768b4",
   "metadata": {
    "execution": {
     "iopub.execute_input": "2025-10-25T20:40:03.892684Z",
     "iopub.status.busy": "2025-10-25T20:40:03.892131Z",
     "iopub.status.idle": "2025-10-25T20:40:03.933946Z",
     "shell.execute_reply": "2025-10-25T20:40:03.930267Z",
     "shell.execute_reply.started": "2025-10-25T20:40:03.892647Z"
    }
   },
   "outputs": [
    {
     "name": "stdout",
     "output_type": "stream",
     "text": [
      "customer_id\n",
      "3307033447    17\n",
      "a366f0d29a     6\n",
      "53d1c13658     2\n",
      "70e0ad7f1e     2\n",
      "f9dbb6d1b8     1\n",
      "73a3961ed8     1\n",
      "01a45b2349     1\n",
      "92d6272d7d     1\n",
      "f3dbf24141     1\n",
      "86e84e17a2     1\n",
      "Name: count, dtype: int64\n"
     ]
    }
   ],
   "source": [
    "top_customers = mexican_orders['customer_id'].value_counts().head(10)\n",
    "print(top_customers)"
   ]
  },
  {
   "cell_type": "markdown",
   "id": "e01752f8-bf2f-4c21-8915-f2ea4f025e17",
   "metadata": {},
   "source": [
    "### Most Ordered Products per Cuisine"
   ]
  },
  {
   "cell_type": "code",
   "execution_count": 45,
   "id": "7ab95e1b-4237-4812-a198-46ee5056a1b4",
   "metadata": {
    "execution": {
     "iopub.execute_input": "2025-10-25T20:40:05.825092Z",
     "iopub.status.busy": "2025-10-25T20:40:05.824618Z",
     "iopub.status.idle": "2025-10-25T20:40:05.864692Z",
     "shell.execute_reply": "2025-10-25T20:40:05.860901Z",
     "shell.execute_reply.started": "2025-10-25T20:40:05.825042Z"
    }
   },
   "outputs": [
    {
     "name": "stdout",
     "output_type": "stream",
     "text": [
      "name\n",
      "Honey Tequila Chicken Wings                  4\n",
      "Free Heineken 0.0                            4\n",
      "Spicy Chicken Quesadilla                     4\n",
      "Roasted Tomato Salsa (Vegan)(Gluten-Free)    2\n",
      "Rotisserie Chicken                           2\n",
      "Smoky Chipotle BBQ                           1\n",
      "2 Breakfast Tacos                            1\n",
      "Chico Slaw (VG)                              1\n",
      "Quinoa Salad (VG)(GF)                        1\n",
      "Roasted Veggies (VG)(GF)                     1\n",
      "Name: count, dtype: int64\n"
     ]
    }
   ],
   "source": [
    "top_dishes =mexican_orders['name'].value_counts().head(10)\n",
    "print(top_dishes)\n"
   ]
  },
  {
   "cell_type": "code",
   "execution_count": null,
   "id": "87548786-37c3-44bf-a013-25ee7885cfb5",
   "metadata": {},
   "outputs": [],
   "source": []
  },
  {
   "cell_type": "markdown",
   "id": "5cba5c29-5690-4306-acd8-3cd3d79c675b",
   "metadata": {},
   "source": [
    "### 🔸 Average Spending per Customer"
   ]
  },
  {
   "cell_type": "code",
   "execution_count": 46,
   "id": "cae81e25-a5b0-46ae-b49d-1b194887fe80",
   "metadata": {
    "execution": {
     "iopub.execute_input": "2025-10-25T20:40:08.065525Z",
     "iopub.status.busy": "2025-10-25T20:40:08.065090Z",
     "iopub.status.idle": "2025-10-25T20:40:08.110209Z",
     "shell.execute_reply": "2025-10-25T20:40:08.106961Z",
     "shell.execute_reply.started": "2025-10-25T20:40:08.065448Z"
    }
   },
   "outputs": [
    {
     "name": "stdout",
     "output_type": "stream",
     "text": [
      "customer_id\n",
      "3307033447    0.007435\n",
      "73a3961ed8    0.005600\n",
      "f3dbf24141    0.005600\n",
      "53d1c13658    0.003600\n",
      "a366f0d29a    0.002800\n",
      "70e0ad7f1e    0.001800\n",
      "01a45b2349    0.000000\n",
      "86e84e17a2    0.000000\n",
      "92d6272d7d    0.000000\n",
      "f9dbb6d1b8    0.000000\n",
      "Name: unit_price, dtype: float64\n"
     ]
    }
   ],
   "source": [
    "avg_spending = mexican_orders.groupby('customer_id')['unit_price'].mean().sort_values(ascending=False).head(10)\n",
    "print(avg_spending)\n"
   ]
  },
  {
   "cell_type": "code",
   "execution_count": 47,
   "id": "3bb7a813-1e7d-4d9c-b746-9d23645cff4c",
   "metadata": {
    "execution": {
     "iopub.execute_input": "2025-10-25T20:40:09.704480Z",
     "iopub.status.busy": "2025-10-25T20:40:09.704057Z",
     "iopub.status.idle": "2025-10-25T20:40:09.723334Z",
     "shell.execute_reply": "2025-10-25T20:40:09.719975Z",
     "shell.execute_reply.started": "2025-10-25T20:40:09.704446Z"
    }
   },
   "outputs": [
    {
     "name": "stdout",
     "output_type": "stream",
     "text": [
      "customer_id\n",
      "3307033447    0.1264\n",
      "a366f0d29a    0.0168\n",
      "53d1c13658    0.0072\n",
      "f3dbf24141    0.0056\n",
      "73a3961ed8    0.0056\n",
      "70e0ad7f1e    0.0036\n",
      "01a45b2349    0.0000\n",
      "86e84e17a2    0.0000\n",
      "92d6272d7d    0.0000\n",
      "f9dbb6d1b8    0.0000\n",
      "Name: unit_price, dtype: float64\n"
     ]
    }
   ],
   "source": [
    "spending_per_customer = mexican_orders.groupby('customer_id')['unit_price'].sum().sort_values(ascending=False).head(10)\n",
    "print(spending_per_customer)\n"
   ]
  },
  {
   "cell_type": "code",
   "execution_count": null,
   "id": "023e61b7-7a7d-4adf-b1d1-86260abd094a",
   "metadata": {},
   "outputs": [],
   "source": []
  },
  {
   "cell_type": "code",
   "execution_count": 48,
   "id": "318aee49-2335-446a-83be-928c369e7def",
   "metadata": {
    "execution": {
     "iopub.execute_input": "2025-10-25T20:40:11.461290Z",
     "iopub.status.busy": "2025-10-25T20:40:11.460832Z",
     "iopub.status.idle": "2025-10-25T20:40:14.212341Z",
     "shell.execute_reply": "2025-10-25T20:40:14.206430Z",
     "shell.execute_reply.started": "2025-10-25T20:40:11.461255Z"
    }
   },
   "outputs": [
    {
     "name": "stdout",
     "output_type": "stream",
     "text": [
      "Collecting gensim\n",
      "  Downloading gensim-4.4.0-cp310-cp310-manylinux_2_24_x86_64.manylinux_2_28_x86_64.whl.metadata (8.5 kB)\n",
      "Requirement already satisfied: numpy>=1.18.5 in /home/rema/.pyenv/versions/3.10.6/envs/food-delivery-rec/lib/python3.10/site-packages (from gensim) (2.2.6)\n",
      "Requirement already satisfied: scipy>=1.7.0 in /home/rema/.pyenv/versions/3.10.6/envs/food-delivery-rec/lib/python3.10/site-packages (from gensim) (1.15.3)\n",
      "Collecting smart_open>=1.8.1 (from gensim)\n",
      "  Downloading smart_open-7.4.1-py3-none-any.whl.metadata (24 kB)\n",
      "Collecting wrapt (from smart_open>=1.8.1->gensim)\n",
      "  Downloading wrapt-2.0.0-cp310-cp310-manylinux1_x86_64.manylinux_2_28_x86_64.manylinux_2_5_x86_64.whl.metadata (8.8 kB)\n",
      "Downloading gensim-4.4.0-cp310-cp310-manylinux_2_24_x86_64.manylinux_2_28_x86_64.whl (27.6 MB)\n",
      "\u001b[2K   \u001b[90m━━━━━━━━━━━━━━━━━━━━━━━━━━━━━━━━━━━━━━━━\u001b[0m \u001b[32m27.6/27.6 MB\u001b[0m \u001b[31m4.1 MB/s\u001b[0m  \u001b[33m0:00:06\u001b[0mm0:00:01\u001b[0m00:01\u001b[0m\n",
      "\u001b[?25hDownloading smart_open-7.4.1-py3-none-any.whl (63 kB)\n",
      "Downloading wrapt-2.0.0-cp310-cp310-manylinux1_x86_64.manylinux_2_28_x86_64.manylinux_2_5_x86_64.whl (113 kB)\n",
      "Installing collected packages: wrapt, smart_open, gensim\n",
      "\u001b[2K   \u001b[90m━━━━━━━━━━━━━━━━━━━━━━━━━━━━━━━━━━━━━━━━\u001b[0m \u001b[32m3/3\u001b[0m [gensim]2m2/3\u001b[0m [gensim]\n",
      "\u001b[1A\u001b[2KSuccessfully installed gensim-4.4.0 smart_open-7.4.1 wrapt-2.0.0\n",
      "\n",
      "\u001b[1m[\u001b[0m\u001b[34;49mnotice\u001b[0m\u001b[1;39;49m]\u001b[0m\u001b[39;49m A new release of pip is available: \u001b[0m\u001b[31;49m25.2\u001b[0m\u001b[39;49m -> \u001b[0m\u001b[32;49m25.3\u001b[0m\n",
      "\u001b[1m[\u001b[0m\u001b[34;49mnotice\u001b[0m\u001b[1;39;49m]\u001b[0m\u001b[39;49m To update, run: \u001b[0m\u001b[32;49mpip install --upgrade pip\u001b[0m\n",
      "Note: you may need to restart the kernel to use updated packages.\n"
     ]
    }
   ],
   "source": [
    "pip install gensim"
   ]
  },
  {
   "cell_type": "markdown",
   "id": "fecee50e-9805-4690-94df-8fca2cd77c25",
   "metadata": {},
   "source": [
    "### Group Dishes by Order"
   ]
  },
  {
   "cell_type": "code",
   "execution_count": 49,
   "id": "6a0993fc-b2bf-4170-b3c0-28b2fc2a64f7",
   "metadata": {
    "execution": {
     "iopub.execute_input": "2025-10-25T20:40:14.216257Z",
     "iopub.status.busy": "2025-10-25T20:40:14.215380Z",
     "iopub.status.idle": "2025-10-25T20:40:14.423259Z",
     "shell.execute_reply": "2025-10-25T20:40:14.420525Z",
     "shell.execute_reply.started": "2025-10-25T20:40:14.216180Z"
    }
   },
   "outputs": [],
   "source": [
    "# Group dish names by order_id\n",
    "orders2 = full_data.groupby('order_id')['name'].apply(list).tolist()\n"
   ]
  },
  {
   "cell_type": "code",
   "execution_count": 50,
   "id": "cb591abc-2007-44c1-8525-07571ab2f7e1",
   "metadata": {
    "execution": {
     "iopub.execute_input": "2025-10-25T20:40:15.369007Z",
     "iopub.status.busy": "2025-10-25T20:40:15.368425Z",
     "iopub.status.idle": "2025-10-25T20:40:15.408216Z",
     "shell.execute_reply": "2025-10-25T20:40:15.405485Z",
     "shell.execute_reply.started": "2025-10-25T20:40:15.368962Z"
    }
   },
   "outputs": [
    {
     "data": {
      "text/html": [
       "<div>\n",
       "<style scoped>\n",
       "    .dataframe tbody tr th:only-of-type {\n",
       "        vertical-align: middle;\n",
       "    }\n",
       "\n",
       "    .dataframe tbody tr th {\n",
       "        vertical-align: top;\n",
       "    }\n",
       "\n",
       "    .dataframe thead th {\n",
       "        text-align: right;\n",
       "    }\n",
       "</style>\n",
       "<table border=\"1\" class=\"dataframe\">\n",
       "  <thead>\n",
       "    <tr style=\"text-align: right;\">\n",
       "      <th></th>\n",
       "      <th>customer_id</th>\n",
       "      <th>geohash_x</th>\n",
       "      <th>order_id</th>\n",
       "      <th>vendor_id</th>\n",
       "      <th>product_id</th>\n",
       "      <th>day_of_week</th>\n",
       "      <th>order_time</th>\n",
       "      <th>order_day</th>\n",
       "      <th>name</th>\n",
       "      <th>unit_price</th>\n",
       "      <th>chain_id</th>\n",
       "      <th>geohash_y</th>\n",
       "      <th>primary_cuisine</th>\n",
       "      <th>cuisine_origin</th>\n",
       "    </tr>\n",
       "  </thead>\n",
       "  <tbody>\n",
       "    <tr>\n",
       "      <th>0</th>\n",
       "      <td>1ba124d4e5</td>\n",
       "      <td>w21z7</td>\n",
       "      <td>0</td>\n",
       "      <td>212753d2</td>\n",
       "      <td>783e85338f1c</td>\n",
       "      <td>0</td>\n",
       "      <td>12:03:29</td>\n",
       "      <td>85 days</td>\n",
       "      <td>201. Japanese Garlic Karaage Don</td>\n",
       "      <td>0.0060</td>\n",
       "      <td>66c9978d</td>\n",
       "      <td>w21z7</td>\n",
       "      <td>ramen</td>\n",
       "      <td>japanese</td>\n",
       "    </tr>\n",
       "    <tr>\n",
       "      <th>1</th>\n",
       "      <td>1ba124d4e5</td>\n",
       "      <td>w21z7</td>\n",
       "      <td>0</td>\n",
       "      <td>212753d2</td>\n",
       "      <td>084ab73246e6</td>\n",
       "      <td>0</td>\n",
       "      <td>12:03:29</td>\n",
       "      <td>85 days</td>\n",
       "      <td>204. Chicken Cutlet Don</td>\n",
       "      <td>0.0068</td>\n",
       "      <td>66c9978d</td>\n",
       "      <td>w21z7</td>\n",
       "      <td>ramen</td>\n",
       "      <td>japanese</td>\n",
       "    </tr>\n",
       "    <tr>\n",
       "      <th>2</th>\n",
       "      <td>1ba124d4e5</td>\n",
       "      <td>w21z7</td>\n",
       "      <td>0</td>\n",
       "      <td>212753d2</td>\n",
       "      <td>30eba3cc2676</td>\n",
       "      <td>0</td>\n",
       "      <td>12:03:29</td>\n",
       "      <td>85 days</td>\n",
       "      <td>206. Beef Sukiyaki Don</td>\n",
       "      <td>0.0068</td>\n",
       "      <td>66c9978d</td>\n",
       "      <td>w21z7</td>\n",
       "      <td>ramen</td>\n",
       "      <td>japanese</td>\n",
       "    </tr>\n",
       "    <tr>\n",
       "      <th>3</th>\n",
       "      <td>1ba124d4e5</td>\n",
       "      <td>w21z7</td>\n",
       "      <td>0</td>\n",
       "      <td>212753d2</td>\n",
       "      <td>3910309eea60</td>\n",
       "      <td>0</td>\n",
       "      <td>12:03:29</td>\n",
       "      <td>85 days</td>\n",
       "      <td>209. Japanese Beef Yakiniku Don</td>\n",
       "      <td>0.0068</td>\n",
       "      <td>66c9978d</td>\n",
       "      <td>w21z7</td>\n",
       "      <td>ramen</td>\n",
       "      <td>japanese</td>\n",
       "    </tr>\n",
       "    <tr>\n",
       "      <th>4</th>\n",
       "      <td>1ba124d4e5</td>\n",
       "      <td>w21z7</td>\n",
       "      <td>0</td>\n",
       "      <td>212753d2</td>\n",
       "      <td>20049fb602cb</td>\n",
       "      <td>0</td>\n",
       "      <td>12:03:29</td>\n",
       "      <td>85 days</td>\n",
       "      <td>210. Teriyaki Salmon Don</td>\n",
       "      <td>0.0080</td>\n",
       "      <td>66c9978d</td>\n",
       "      <td>w21z7</td>\n",
       "      <td>ramen</td>\n",
       "      <td>japanese</td>\n",
       "    </tr>\n",
       "  </tbody>\n",
       "</table>\n",
       "</div>"
      ],
      "text/plain": [
       "  customer_id geohash_x  order_id vendor_id    product_id  day_of_week  \\\n",
       "0  1ba124d4e5     w21z7         0  212753d2  783e85338f1c            0   \n",
       "1  1ba124d4e5     w21z7         0  212753d2  084ab73246e6            0   \n",
       "2  1ba124d4e5     w21z7         0  212753d2  30eba3cc2676            0   \n",
       "3  1ba124d4e5     w21z7         0  212753d2  3910309eea60            0   \n",
       "4  1ba124d4e5     w21z7         0  212753d2  20049fb602cb            0   \n",
       "\n",
       "  order_time order_day                              name  unit_price  \\\n",
       "0   12:03:29   85 days  201. Japanese Garlic Karaage Don      0.0060   \n",
       "1   12:03:29   85 days           204. Chicken Cutlet Don      0.0068   \n",
       "2   12:03:29   85 days            206. Beef Sukiyaki Don      0.0068   \n",
       "3   12:03:29   85 days   209. Japanese Beef Yakiniku Don      0.0068   \n",
       "4   12:03:29   85 days          210. Teriyaki Salmon Don      0.0080   \n",
       "\n",
       "   chain_id geohash_y primary_cuisine cuisine_origin  \n",
       "0  66c9978d     w21z7           ramen       japanese  \n",
       "1  66c9978d     w21z7           ramen       japanese  \n",
       "2  66c9978d     w21z7           ramen       japanese  \n",
       "3  66c9978d     w21z7           ramen       japanese  \n",
       "4  66c9978d     w21z7           ramen       japanese  "
      ]
     },
     "execution_count": 50,
     "metadata": {},
     "output_type": "execute_result"
    }
   ],
   "source": [
    "full_data.head()"
   ]
  },
  {
   "cell_type": "markdown",
   "id": "a6207d47-8b09-406a-9daf-cb6f701ae989",
   "metadata": {},
   "source": [
    "### Tokenize Dish Names"
   ]
  },
  {
   "cell_type": "code",
   "execution_count": 51,
   "id": "e6fd9b75-e62f-4f55-83d6-5511949bc48e",
   "metadata": {
    "execution": {
     "iopub.execute_input": "2025-10-25T20:40:31.881257Z",
     "iopub.status.busy": "2025-10-25T20:40:31.880629Z",
     "iopub.status.idle": "2025-10-25T20:40:31.971025Z",
     "shell.execute_reply": "2025-10-25T20:40:31.967181Z",
     "shell.execute_reply.started": "2025-10-25T20:40:31.881203Z"
    }
   },
   "outputs": [],
   "source": [
    "# Split each dish name into tokens (words)\n",
    "\n",
    "tokenized_orders = [[dish.lower().split() for dish in order] for order in orders2]\n",
    "\n",
    "# Flatten inner lists so each order is a list of words\n",
    "tokenized_orders = [[word for dish in order for word in dish] for order in tokenized_orders]\n"
   ]
  },
  {
   "cell_type": "code",
   "execution_count": 52,
   "id": "9fc887db-3527-4cc3-9960-8fb1cde367d2",
   "metadata": {
    "execution": {
     "iopub.execute_input": "2025-10-25T20:40:32.531233Z",
     "iopub.status.busy": "2025-10-25T20:40:32.530836Z",
     "iopub.status.idle": "2025-10-25T20:40:32.542224Z",
     "shell.execute_reply": "2025-10-25T20:40:32.539280Z",
     "shell.execute_reply.started": "2025-10-25T20:40:32.531190Z"
    }
   },
   "outputs": [
    {
     "data": {
      "text/plain": [
       "4802"
      ]
     },
     "execution_count": 52,
     "metadata": {},
     "output_type": "execute_result"
    }
   ],
   "source": [
    "len(tokenized_orders)"
   ]
  },
  {
   "cell_type": "code",
   "execution_count": 53,
   "id": "873648f1-e300-481f-9f53-9103e60d3701",
   "metadata": {
    "execution": {
     "iopub.execute_input": "2025-10-25T20:40:33.283149Z",
     "iopub.status.busy": "2025-10-25T20:40:33.282470Z",
     "iopub.status.idle": "2025-10-25T20:40:33.294454Z",
     "shell.execute_reply": "2025-10-25T20:40:33.291819Z",
     "shell.execute_reply.started": "2025-10-25T20:40:33.283089Z"
    }
   },
   "outputs": [
    {
     "data": {
      "text/plain": [
       "22"
      ]
     },
     "execution_count": 53,
     "metadata": {},
     "output_type": "execute_result"
    }
   ],
   "source": [
    "len(tokenized_orders[0])"
   ]
  },
  {
   "cell_type": "code",
   "execution_count": 54,
   "id": "ce5aa17f-53c6-402c-84c9-efe88bf683eb",
   "metadata": {
    "execution": {
     "iopub.execute_input": "2025-10-25T20:41:18.958210Z",
     "iopub.status.busy": "2025-10-25T20:41:18.957776Z",
     "iopub.status.idle": "2025-10-25T20:41:19.309778Z",
     "shell.execute_reply": "2025-10-25T20:41:19.308110Z",
     "shell.execute_reply.started": "2025-10-25T20:41:18.958172Z"
    }
   },
   "outputs": [],
   "source": [
    "from gensim.models import Word2Vec\n",
    "\n",
    "# Train the model\n",
    "model = Word2Vec(sentences=tokenized_orders, vector_size=20, window=5, min_count=2, workers=4, sg=1)\n"
   ]
  },
  {
   "cell_type": "code",
   "execution_count": 55,
   "id": "1681e9f7-276c-419e-af51-ae97a14647b1",
   "metadata": {
    "execution": {
     "iopub.execute_input": "2025-10-25T20:41:19.629676Z",
     "iopub.status.busy": "2025-10-25T20:41:19.629076Z",
     "iopub.status.idle": "2025-10-25T20:41:19.643063Z",
     "shell.execute_reply": "2025-10-25T20:41:19.639654Z",
     "shell.execute_reply.started": "2025-10-25T20:41:19.629639Z"
    }
   },
   "outputs": [
    {
     "data": {
      "text/plain": [
       "[('don', 0.9724300503730774),\n",
       " ('sashimi', 0.8969769477844238),\n",
       " ('teriyaki', 0.890203595161438),\n",
       " ('katsu', 0.8853413462638855),\n",
       " ('steak', 0.8840179443359375)]"
      ]
     },
     "execution_count": 55,
     "metadata": {},
     "output_type": "execute_result"
    }
   ],
   "source": [
    "# Find dishes similar to \"karaage\"\n",
    "model.wv.most_similar(\"salmon\", topn=5)\n"
   ]
  },
  {
   "cell_type": "code",
   "execution_count": 56,
   "id": "3f3fe77c-1e31-4b90-8661-a7f14b0765d3",
   "metadata": {
    "execution": {
     "iopub.execute_input": "2025-10-25T20:41:21.388557Z",
     "iopub.status.busy": "2025-10-25T20:41:21.388059Z",
     "iopub.status.idle": "2025-10-25T20:41:21.400751Z",
     "shell.execute_reply": "2025-10-25T20:41:21.398016Z",
     "shell.execute_reply.started": "2025-10-25T20:41:21.388515Z"
    }
   },
   "outputs": [
    {
     "data": {
      "text/plain": [
       "[('grilled', 0.9280672669410706),\n",
       " ('cutlet', 0.9125250577926636),\n",
       " ('udon', 0.8984277844429016),\n",
       " ('prawns', 0.8827556371688843),\n",
       " ('seasoned', 0.8782381415367126)]"
      ]
     },
     "execution_count": 56,
     "metadata": {},
     "output_type": "execute_result"
    }
   ],
   "source": [
    "# Find dishes similar to \"ramen\"\n",
    "model.wv.most_similar(\"ramen\", topn=5)"
   ]
  },
  {
   "cell_type": "code",
   "execution_count": 57,
   "id": "9298c727-7768-4222-9e57-31df608cf2ed",
   "metadata": {
    "execution": {
     "iopub.execute_input": "2025-10-25T20:41:22.412071Z",
     "iopub.status.busy": "2025-10-25T20:41:22.411674Z",
     "iopub.status.idle": "2025-10-25T20:41:22.424767Z",
     "shell.execute_reply": "2025-10-25T20:41:22.421905Z",
     "shell.execute_reply.started": "2025-10-25T20:41:22.412037Z"
    }
   },
   "outputs": [
    {
     "data": {
      "text/plain": [
       "[('feast', 0.9912554025650024),\n",
       " ('(reg)', 0.9896183609962463),\n",
       " ('(2', 0.9882838726043701),\n",
       " ('piece', 0.9876645803451538),\n",
       " (\"burg's\", 0.9869798421859741)]"
      ]
     },
     "execution_count": 57,
     "metadata": {},
     "output_type": "execute_result"
    }
   ],
   "source": [
    "# Find dishes similar to \"pizza\"\n",
    "model.wv.most_similar(\"pizza\", topn=5)"
   ]
  },
  {
   "cell_type": "markdown",
   "id": "31ccd6e8-7cda-4496-aa2e-e7e49b957ce6",
   "metadata": {},
   "source": [
    "### 🎨  Word Cloud of Dish Names"
   ]
  },
  {
   "cell_type": "code",
   "execution_count": 58,
   "id": "f13c23b9-a7dc-4d50-9dff-0495a2615315",
   "metadata": {
    "execution": {
     "iopub.execute_input": "2025-10-25T20:41:33.141425Z",
     "iopub.status.busy": "2025-10-25T20:41:33.141003Z",
     "iopub.status.idle": "2025-10-25T20:41:32.150556Z",
     "shell.execute_reply": "2025-10-25T20:41:32.146815Z",
     "shell.execute_reply.started": "2025-10-25T20:41:33.141387Z"
    }
   },
   "outputs": [
    {
     "name": "stdout",
     "output_type": "stream",
     "text": [
      "Collecting wordcloud\n",
      "  Downloading wordcloud-1.9.4-cp310-cp310-manylinux_2_17_x86_64.manylinux2014_x86_64.whl.metadata (3.4 kB)\n",
      "Requirement already satisfied: matplotlib in /home/rema/.pyenv/versions/3.10.6/envs/food-delivery-rec/lib/python3.10/site-packages (3.10.7)\n",
      "Requirement already satisfied: numpy>=1.6.1 in /home/rema/.pyenv/versions/3.10.6/envs/food-delivery-rec/lib/python3.10/site-packages (from wordcloud) (2.2.6)\n",
      "Requirement already satisfied: pillow in /home/rema/.pyenv/versions/3.10.6/envs/food-delivery-rec/lib/python3.10/site-packages (from wordcloud) (12.0.0)\n",
      "Requirement already satisfied: contourpy>=1.0.1 in /home/rema/.pyenv/versions/3.10.6/envs/food-delivery-rec/lib/python3.10/site-packages (from matplotlib) (1.3.2)\n",
      "Requirement already satisfied: cycler>=0.10 in /home/rema/.pyenv/versions/3.10.6/envs/food-delivery-rec/lib/python3.10/site-packages (from matplotlib) (0.12.1)\n",
      "Requirement already satisfied: fonttools>=4.22.0 in /home/rema/.pyenv/versions/3.10.6/envs/food-delivery-rec/lib/python3.10/site-packages (from matplotlib) (4.60.1)\n",
      "Requirement already satisfied: kiwisolver>=1.3.1 in /home/rema/.pyenv/versions/3.10.6/envs/food-delivery-rec/lib/python3.10/site-packages (from matplotlib) (1.4.9)\n",
      "Requirement already satisfied: packaging>=20.0 in /home/rema/.pyenv/versions/3.10.6/envs/food-delivery-rec/lib/python3.10/site-packages (from matplotlib) (25.0)\n",
      "Requirement already satisfied: pyparsing>=3 in /home/rema/.pyenv/versions/3.10.6/envs/food-delivery-rec/lib/python3.10/site-packages (from matplotlib) (3.2.5)\n",
      "Requirement already satisfied: python-dateutil>=2.7 in /home/rema/.pyenv/versions/3.10.6/envs/food-delivery-rec/lib/python3.10/site-packages (from matplotlib) (2.9.0.post0)\n",
      "Requirement already satisfied: six>=1.5 in /home/rema/.pyenv/versions/3.10.6/envs/food-delivery-rec/lib/python3.10/site-packages (from python-dateutil>=2.7->matplotlib) (1.17.0)\n",
      "Downloading wordcloud-1.9.4-cp310-cp310-manylinux_2_17_x86_64.manylinux2014_x86_64.whl (511 kB)\n",
      "Installing collected packages: wordcloud\n",
      "Successfully installed wordcloud-1.9.4\n",
      "\n",
      "\u001b[1m[\u001b[0m\u001b[34;49mnotice\u001b[0m\u001b[1;39;49m]\u001b[0m\u001b[39;49m A new release of pip is available: \u001b[0m\u001b[31;49m25.2\u001b[0m\u001b[39;49m -> \u001b[0m\u001b[32;49m25.3\u001b[0m\n",
      "\u001b[1m[\u001b[0m\u001b[34;49mnotice\u001b[0m\u001b[1;39;49m]\u001b[0m\u001b[39;49m To update, run: \u001b[0m\u001b[32;49mpip install --upgrade pip\u001b[0m\n",
      "Note: you may need to restart the kernel to use updated packages.\n"
     ]
    }
   ],
   "source": [
    "pip install wordcloud matplotlib"
   ]
  },
  {
   "cell_type": "code",
   "execution_count": 59,
   "id": "3c3742dc-5224-43f1-8481-d2f98eae92cb",
   "metadata": {
    "execution": {
     "iopub.execute_input": "2025-10-25T20:41:32.318842Z",
     "iopub.status.busy": "2025-10-25T20:41:32.318338Z",
     "iopub.status.idle": "2025-10-25T20:41:32.350797Z",
     "shell.execute_reply": "2025-10-25T20:41:32.348452Z",
     "shell.execute_reply.started": "2025-10-25T20:41:32.318793Z"
    }
   },
   "outputs": [],
   "source": [
    "text = \" \".join(full_data['name'].dropna().astype(str).tolist())\n"
   ]
  },
  {
   "cell_type": "code",
   "execution_count": 60,
   "id": "377ff8eb-9072-4ba5-8fff-fb0e1bc9f441",
   "metadata": {
    "execution": {
     "iopub.execute_input": "2025-10-25T20:41:35.390775Z",
     "iopub.status.busy": "2025-10-25T20:41:35.390340Z",
     "iopub.status.idle": "2025-10-25T20:41:38.270120Z",
     "shell.execute_reply": "2025-10-25T20:41:38.267066Z",
     "shell.execute_reply.started": "2025-10-25T20:41:35.390742Z"
    }
   },
   "outputs": [
    {
     "data": {
      "image/png": "[encoded data removed]",
      "text/plain": [
       "<Figure size 1200x600 with 1 Axes>"
      ]
     },
     "metadata": {},
     "output_type": "display_data"
    }
   ],
   "source": [
    "from wordcloud import WordCloud\n",
    "import matplotlib.pyplot as plt\n",
    "\n",
    "# Create the word cloud\n",
    "wordcloud = WordCloud(width=800, height=400, background_color='black', colormap='Set2').generate(text)\n",
    "\n",
    "# Display it\n",
    "plt.figure(figsize=(12, 6))\n",
    "plt.imshow(wordcloud, interpolation='bilinear')\n",
    "plt.axis('off')\n",
    "plt.title(\"Dish Name Word Cloud\", fontsize=20)\n",
    "plt.show()"
   ]
  },
  {
   "cell_type": "code",
   "execution_count": null,
   "id": "676275b9-7991-41a2-9f6a-c93f178e31fa",
   "metadata": {},
   "outputs": [],
   "source": []
  },
  {
   "cell_type": "markdown",
   "id": "b3a08b18-7a53-4eb8-a00e-561cad3be198",
   "metadata": {},
   "source": [
    "### 👥 Top Customers"
   ]
  },
  {
   "cell_type": "code",
   "execution_count": 61,
   "id": "bc05db08-e4b7-4a42-aa1b-ec4676e1ab2d",
   "metadata": {
    "execution": {
     "iopub.execute_input": "2025-10-25T20:42:19.252445Z",
     "iopub.status.busy": "2025-10-25T20:42:19.251929Z",
     "iopub.status.idle": "2025-10-25T20:42:19.270281Z",
     "shell.execute_reply": "2025-10-25T20:42:19.266886Z",
     "shell.execute_reply.started": "2025-10-25T20:42:19.252406Z"
    }
   },
   "outputs": [
    {
     "name": "stdout",
     "output_type": "stream",
     "text": [
      "customer_id\n",
      "857c695baa    182\n",
      "e09be49ad4    131\n",
      "4e8b406597    108\n",
      "ac01e97093    102\n",
      "b8a1953622     74\n",
      "5ebbe86884     68\n",
      "1687ceff41     66\n",
      "fec4d1f339     65\n",
      "818a757422     62\n",
      "57cdd9b3a7     61\n",
      "Name: count, dtype: int64\n"
     ]
    }
   ],
   "source": [
    "top_customers = orders['customer_id'].value_counts().head(10)\n",
    "print(top_customers)\n"
   ]
  },
  {
   "cell_type": "markdown",
   "id": "1db24a35-f08a-4281-9875-4eaa95b554db",
   "metadata": {},
   "source": [
    "### 🗺️ Geohash Distribution"
   ]
  },
  {
   "cell_type": "code",
   "execution_count": 62,
   "id": "0dddcf9c-569b-4121-8ae9-484877171c73",
   "metadata": {
    "execution": {
     "iopub.execute_input": "2025-10-25T20:42:23.215841Z",
     "iopub.status.busy": "2025-10-25T20:42:23.215356Z",
     "iopub.status.idle": "2025-10-25T20:42:23.545996Z",
     "shell.execute_reply": "2025-10-25T20:42:23.543239Z",
     "shell.execute_reply.started": "2025-10-25T20:42:23.215805Z"
    }
   },
   "outputs": [
    {
     "data": {
      "text/plain": [
       "<Axes: title={'center': 'Top Geohash Areas'}, xlabel='geohash'>"
      ]
     },
     "execution_count": 62,
     "metadata": {},
     "output_type": "execute_result"
    },
    {
     "data": {
      "image/png": "[encoded data removed]",
      "text/plain": [
       "<Figure size 640x480 with 1 Axes>"
      ]
     },
     "metadata": {},
     "output_type": "display_data"
    }
   ],
   "source": [
    "orders['geohash'].value_counts().head(10).plot(kind='bar', title='Top Geohash Areas')"
   ]
  },
  {
   "cell_type": "code",
   "execution_count": 63,
   "id": "4bcf8e45-576a-4a9e-9e76-f2ab794a3d5d",
   "metadata": {},
   "outputs": [
    {
     "data": {
      "text/html": [
       "<div>\n",
       "<style scoped>\n",
       "    .dataframe tbody tr th:only-of-type {\n",
       "        vertical-align: middle;\n",
       "    }\n",
       "\n",
       "    .dataframe tbody tr th {\n",
       "        vertical-align: top;\n",
       "    }\n",
       "\n",
       "    .dataframe thead th {\n",
       "        text-align: right;\n",
       "    }\n",
       "</style>\n",
       "<table border=\"1\" class=\"dataframe\">\n",
       "  <thead>\n",
       "    <tr style=\"text-align: right;\">\n",
       "      <th></th>\n",
       "      <th>customer_id</th>\n",
       "      <th>geohash_x</th>\n",
       "      <th>order_id</th>\n",
       "      <th>vendor_id</th>\n",
       "      <th>product_id</th>\n",
       "      <th>day_of_week</th>\n",
       "      <th>order_time</th>\n",
       "      <th>order_day</th>\n",
       "      <th>name</th>\n",
       "      <th>unit_price</th>\n",
       "      <th>chain_id</th>\n",
       "      <th>geohash_y</th>\n",
       "      <th>primary_cuisine</th>\n",
       "      <th>cuisine_origin</th>\n",
       "    </tr>\n",
       "  </thead>\n",
       "  <tbody>\n",
       "    <tr>\n",
       "      <th>0</th>\n",
       "      <td>1ba124d4e5</td>\n",
       "      <td>w21z7</td>\n",
       "      <td>0</td>\n",
       "      <td>212753d2</td>\n",
       "      <td>783e85338f1c</td>\n",
       "      <td>0</td>\n",
       "      <td>12:03:29</td>\n",
       "      <td>85 days</td>\n",
       "      <td>201. Japanese Garlic Karaage Don</td>\n",
       "      <td>0.0060</td>\n",
       "      <td>66c9978d</td>\n",
       "      <td>w21z7</td>\n",
       "      <td>ramen</td>\n",
       "      <td>japanese</td>\n",
       "    </tr>\n",
       "    <tr>\n",
       "      <th>1</th>\n",
       "      <td>1ba124d4e5</td>\n",
       "      <td>w21z7</td>\n",
       "      <td>0</td>\n",
       "      <td>212753d2</td>\n",
       "      <td>084ab73246e6</td>\n",
       "      <td>0</td>\n",
       "      <td>12:03:29</td>\n",
       "      <td>85 days</td>\n",
       "      <td>204. Chicken Cutlet Don</td>\n",
       "      <td>0.0068</td>\n",
       "      <td>66c9978d</td>\n",
       "      <td>w21z7</td>\n",
       "      <td>ramen</td>\n",
       "      <td>japanese</td>\n",
       "    </tr>\n",
       "    <tr>\n",
       "      <th>2</th>\n",
       "      <td>1ba124d4e5</td>\n",
       "      <td>w21z7</td>\n",
       "      <td>0</td>\n",
       "      <td>212753d2</td>\n",
       "      <td>30eba3cc2676</td>\n",
       "      <td>0</td>\n",
       "      <td>12:03:29</td>\n",
       "      <td>85 days</td>\n",
       "      <td>206. Beef Sukiyaki Don</td>\n",
       "      <td>0.0068</td>\n",
       "      <td>66c9978d</td>\n",
       "      <td>w21z7</td>\n",
       "      <td>ramen</td>\n",
       "      <td>japanese</td>\n",
       "    </tr>\n",
       "    <tr>\n",
       "      <th>3</th>\n",
       "      <td>1ba124d4e5</td>\n",
       "      <td>w21z7</td>\n",
       "      <td>0</td>\n",
       "      <td>212753d2</td>\n",
       "      <td>3910309eea60</td>\n",
       "      <td>0</td>\n",
       "      <td>12:03:29</td>\n",
       "      <td>85 days</td>\n",
       "      <td>209. Japanese Beef Yakiniku Don</td>\n",
       "      <td>0.0068</td>\n",
       "      <td>66c9978d</td>\n",
       "      <td>w21z7</td>\n",
       "      <td>ramen</td>\n",
       "      <td>japanese</td>\n",
       "    </tr>\n",
       "    <tr>\n",
       "      <th>4</th>\n",
       "      <td>1ba124d4e5</td>\n",
       "      <td>w21z7</td>\n",
       "      <td>0</td>\n",
       "      <td>212753d2</td>\n",
       "      <td>20049fb602cb</td>\n",
       "      <td>0</td>\n",
       "      <td>12:03:29</td>\n",
       "      <td>85 days</td>\n",
       "      <td>210. Teriyaki Salmon Don</td>\n",
       "      <td>0.0080</td>\n",
       "      <td>66c9978d</td>\n",
       "      <td>w21z7</td>\n",
       "      <td>ramen</td>\n",
       "      <td>japanese</td>\n",
       "    </tr>\n",
       "  </tbody>\n",
       "</table>\n",
       "</div>"
      ],
      "text/plain": [
       "  customer_id geohash_x  order_id vendor_id    product_id  day_of_week  \\\n",
       "0  1ba124d4e5     w21z7         0  212753d2  783e85338f1c            0   \n",
       "1  1ba124d4e5     w21z7         0  212753d2  084ab73246e6            0   \n",
       "2  1ba124d4e5     w21z7         0  212753d2  30eba3cc2676            0   \n",
       "3  1ba124d4e5     w21z7         0  212753d2  3910309eea60            0   \n",
       "4  1ba124d4e5     w21z7         0  212753d2  20049fb602cb            0   \n",
       "\n",
       "  order_time order_day                              name  unit_price  \\\n",
       "0   12:03:29   85 days  201. Japanese Garlic Karaage Don      0.0060   \n",
       "1   12:03:29   85 days           204. Chicken Cutlet Don      0.0068   \n",
       "2   12:03:29   85 days            206. Beef Sukiyaki Don      0.0068   \n",
       "3   12:03:29   85 days   209. Japanese Beef Yakiniku Don      0.0068   \n",
       "4   12:03:29   85 days          210. Teriyaki Salmon Don      0.0080   \n",
       "\n",
       "   chain_id geohash_y primary_cuisine cuisine_origin  \n",
       "0  66c9978d     w21z7           ramen       japanese  \n",
       "1  66c9978d     w21z7           ramen       japanese  \n",
       "2  66c9978d     w21z7           ramen       japanese  \n",
       "3  66c9978d     w21z7           ramen       japanese  \n",
       "4  66c9978d     w21z7           ramen       japanese  "
      ]
     },
     "execution_count": 63,
     "metadata": {},
     "output_type": "execute_result"
    }
   ],
   "source": [
    "full_data.head()"
   ]
  },
  {
   "cell_type": "code",
   "execution_count": 71,
   "id": "f119b9b1",
   "metadata": {},
   "outputs": [
    {
     "name": "stdout",
     "output_type": "stream",
     "text": [
      "عدد المطاعم الفريدة: 2351\n"
     ]
    }
   ],
   "source": [
    "n_vendors = full_data['vendor_id'].nunique()\n",
    "print(\"عدد المطاعم الفريدة:\", n_vendors)\n"
   ]
  },
  {
   "cell_type": "code",
   "execution_count": 75,
   "id": "9e9d5208",
   "metadata": {},
   "outputs": [
    {
     "name": "stdout",
     "output_type": "stream",
     "text": [
      "vendor_id\n",
      "d9c749be    40\n",
      "90cca11f    23\n",
      "dcabf464    21\n",
      "fe34d105    14\n",
      "dcab4878    14\n",
      "d4d06744    14\n",
      "b00985b3    12\n",
      "b2a42af8    12\n",
      "3613129a    12\n",
      "cc71c1a4    11\n",
      "Name: order_id, dtype: int64\n"
     ]
    }
   ],
   "source": [
    "orders_per_vendor = (\n",
    "    full_data.groupby('vendor_id')['order_id']\n",
    "    .nunique()                # عدد الطلبات الفريدة لكل مطعم\n",
    "    .sort_values(ascending=False)\n",
    ")\n",
    "\n",
    "print(orders_per_vendor.head(10))  # أفضل 10\n"
   ]
  },
  {
   "cell_type": "code",
   "execution_count": 78,
   "id": "8d756f1e",
   "metadata": {},
   "outputs": [
    {
     "name": "stdout",
     "output_type": "stream",
     "text": [
      "cuisine_origin\n",
      "chinese        2331\n",
      "snacks         2320\n",
      "asian          1063\n",
      "american       1043\n",
      "indian          665\n",
      "japanese        651\n",
      "singaporean     588\n",
      "malaysian       373\n",
      "italian         360\n",
      "thai            308\n",
      "Name: count, dtype: int64\n"
     ]
    }
   ],
   "source": [
    "# الموصى به:\n",
    "cuisine_counts = (\n",
    "    full_data['cuisine_origin']\n",
    "    .astype(str).str.strip().str.lower()\n",
    "    .value_counts(dropna=True)\n",
    ")\n",
    "\n",
    "\n",
    "print(cuisine_counts.head(10))  # أكثر 10 مطابخ انتشارًا\n"
   ]
  },
  {
   "cell_type": "code",
   "execution_count": 85,
   "id": "4990f579",
   "metadata": {},
   "outputs": [
    {
     "name": "stderr",
     "output_type": "stream",
     "text": [
      "/tmp/ipykernel_1191/1371613242.py:15: FutureWarning: \n",
      "\n",
      "Passing `palette` without assigning `hue` is deprecated and will be removed in v0.14.0. Assign the `y` variable to `hue` and set `legend=False` for the same effect.\n",
      "\n",
      "  sns.barplot(x=cuisine_counts.values, y=cuisine_counts.index, palette=\"Blues_r\")\n"
     ]
    },
    {
     "data": {
      "image/png": "[encoded data removed]",
      "text/plain": [
       "<Figure size 1000x600 with 1 Axes>"
      ]
     },
     "metadata": {},
     "output_type": "display_data"
    }
   ],
   "source": [
    "import matplotlib.pyplot as plt\n",
    "import pandas as pd\n",
    "import seaborn as sns\n",
    "\n",
    "# نحضّر البيانات\n",
    "cuisine_counts = (\n",
    "    full_data['cuisine_origin']\n",
    "    .astype(str).str.strip().str.lower()\n",
    "    .value_counts()\n",
    "    .head(15)   # نعرض أكثر 15 مطبخ\n",
    ")\n",
    "\n",
    "# نرسم\n",
    "plt.figure(figsize=(10,6))\n",
    "sns.barplot(x=cuisine_counts.values, y=cuisine_counts.index, palette=\"Blues_r\")\n",
    "plt.title('Top 15 Most Common Cuisines', fontsize=14)\n",
    "plt.xlabel('Number of vendors')\n",
    "plt.ylabel('Cuisine Type')\n",
    "plt.show()\n"
   ]
  },
  {
   "cell_type": "code",
   "execution_count": null,
   "id": "2c4690ab",
   "metadata": {},
   "outputs": [
    {
     "name": "stdout",
     "output_type": "stream",
     "text": [
      "أكثر أصول المطابخ من حيث عدد المطاعم:\n"
     ]
    },
    {
     "data": {
      "text/html": [
       "<div>\n",
       "<style scoped>\n",
       "    .dataframe tbody tr th:only-of-type {\n",
       "        vertical-align: middle;\n",
       "    }\n",
       "\n",
       "    .dataframe tbody tr th {\n",
       "        vertical-align: top;\n",
       "    }\n",
       "\n",
       "    .dataframe thead th {\n",
       "        text-align: right;\n",
       "    }\n",
       "</style>\n",
       "<table border=\"1\" class=\"dataframe\">\n",
       "  <thead>\n",
       "    <tr style=\"text-align: right;\">\n",
       "      <th></th>\n",
       "      <th>cuisine_origin</th>\n",
       "      <th>num_vendors</th>\n",
       "    </tr>\n",
       "  </thead>\n",
       "  <tbody>\n",
       "    <tr>\n",
       "      <th>13</th>\n",
       "      <td>snacks</td>\n",
       "      <td>588</td>\n",
       "    </tr>\n",
       "    <tr>\n",
       "      <th>2</th>\n",
       "      <td>chinese</td>\n",
       "      <td>431</td>\n",
       "    </tr>\n",
       "    <tr>\n",
       "      <th>0</th>\n",
       "      <td>american</td>\n",
       "      <td>323</td>\n",
       "    </tr>\n",
       "    <tr>\n",
       "      <th>1</th>\n",
       "      <td>asian</td>\n",
       "      <td>241</td>\n",
       "    </tr>\n",
       "    <tr>\n",
       "      <th>8</th>\n",
       "      <td>japanese</td>\n",
       "      <td>158</td>\n",
       "    </tr>\n",
       "    <tr>\n",
       "      <th>5</th>\n",
       "      <td>indian</td>\n",
       "      <td>144</td>\n",
       "    </tr>\n",
       "    <tr>\n",
       "      <th>12</th>\n",
       "      <td>singaporean</td>\n",
       "      <td>141</td>\n",
       "    </tr>\n",
       "    <tr>\n",
       "      <th>7</th>\n",
       "      <td>italian</td>\n",
       "      <td>117</td>\n",
       "    </tr>\n",
       "    <tr>\n",
       "      <th>10</th>\n",
       "      <td>malaysian</td>\n",
       "      <td>79</td>\n",
       "    </tr>\n",
       "    <tr>\n",
       "      <th>15</th>\n",
       "      <td>thai</td>\n",
       "      <td>64</td>\n",
       "    </tr>\n",
       "  </tbody>\n",
       "</table>\n",
       "</div>"
      ],
      "text/plain": [
       "   cuisine_origin  num_vendors\n",
       "13         snacks          588\n",
       "2         chinese          431\n",
       "0        american          323\n",
       "1           asian          241\n",
       "8        japanese          158\n",
       "5          indian          144\n",
       "12    singaporean          141\n",
       "7         italian          117\n",
       "10      malaysian           79\n",
       "15           thai           64"
      ]
     },
     "metadata": {},
     "output_type": "display_data"
    }
   ],
   "source": [
    "# ✅ 1) عدد \"المطاعم\" لكل أصل مطبخ (cuisine_origin)\n",
    "vendors_per_origin = (\n",
    "    full_data[['vendor_id', 'cuisine_origin']]\n",
    "      .drop_duplicates()                              # نتأكد ما نكرر نفس المطعم\n",
    "      .groupby('cuisine_origin')['vendor_id']\n",
    "      .nunique()\n",
    "      .reset_index(name='num_vendors')\n",
    "      .sort_values('num_vendors', ascending=False)\n",
    ")\n",
    "\n",
    "print(\"أكثر أصول المطابخ من حيث عدد المطاعم:\")\n",
    "display(vendors_per_origin.head(10))\n"
   ]
  },
  {
   "cell_type": "code",
   "execution_count": 79,
   "id": "da28fcdd",
   "metadata": {},
   "outputs": [
    {
     "name": "stdout",
     "output_type": "stream",
     "text": [
      "geohash_y\n",
      "w21zu    515\n",
      "w21z7    467\n",
      "w23b4    425\n",
      "w21ze    406\n",
      "w21zt    384\n",
      "w21zg    321\n",
      "w21z8    308\n",
      "w21z6    272\n",
      "w21zk    269\n",
      "w21zs    244\n",
      "Name: order_id, dtype: int64\n",
      "geohash_y\n",
      "w21z7    232\n",
      "w21zu    212\n",
      "w21zt    186\n",
      "w23b4    185\n",
      "w21ze    175\n",
      "w21z8    167\n",
      "w21z6    158\n",
      "w21zg    146\n",
      "w21zk    137\n",
      "w21zs    124\n",
      "Name: vendor_id, dtype: int64\n"
     ]
    }
   ],
   "source": [
    "geo_orders = (\n",
    "    full_data\n",
    "    .dropna(subset=['geohash_y'])\n",
    "    .groupby('geohash_y')['order_id']\n",
    "    .nunique()\n",
    "    .sort_values(ascending=False)\n",
    ")\n",
    "\n",
    "print(geo_orders.head(10))  # أكثر 10 مناطق بالطلبات\n",
    "\n",
    "# إن حبيتي تشوفي عدد المطاعم الفعّالة بكل منطقة:\n",
    "geo_vendors = (\n",
    "    full_data\n",
    "    .dropna(subset=['geohash_y'])\n",
    "    .groupby('geohash_y')['vendor_id']\n",
    "    .nunique()\n",
    "    .sort_values(ascending=False)\n",
    ")\n",
    "\n",
    "print(geo_vendors.head(10))\n"
   ]
  },
  {
   "cell_type": "code",
   "execution_count": 81,
   "id": "a246e532",
   "metadata": {},
   "outputs": [
    {
     "name": "stdout",
     "output_type": "stream",
     "text": [
      "توزيع الطلبات حسب أيام الأسبوع:\n",
      " day_of_week\n",
      "0    602\n",
      "1    608\n",
      "2    625\n",
      "3    656\n",
      "4    729\n",
      "5    734\n",
      "6    848\n",
      "Name: order_id, dtype: int64\n",
      "day_of_week  0  1  2  3  4  5  6\n",
      "vendor_id                       \n",
      "90cca11f     2  4  5  7  1  4  0\n",
      "d9c749be     8  6  8  4  3  3  8\n",
      "dcab4878     4  1  0  3  3  1  2\n",
      "dcabf464     0  4  1  4  3  4  5\n",
      "fe34d105     2  1  2  2  3  2  2\n"
     ]
    },
    {
     "name": "stderr",
     "output_type": "stream",
     "text": [
      "/tmp/ipykernel_1191/842722511.py:16: UserWarning: Could not infer format, so each element will be parsed individually, falling back to `dateutil`. To ensure parsing is consistent and as-expected, please specify a format.\n",
      "  order_time_parsed = pd.to_datetime(full_data['order_time'].astype(str), errors='coerce')\n"
     ]
    }
   ],
   "source": [
    "dow_counts = full_data.groupby('day_of_week')['order_id'].nunique().sort_index()\n",
    "print(\"توزيع الطلبات حسب أيام الأسبوع:\\n\", dow_counts)\n",
    "\n",
    "# حسب أيام الأسبوع لكل مطعم (مثال لأكثر 5 مطاعم طلبًا):\n",
    "top5_vendors = orders_per_vendor.head(5).index\n",
    "dow_per_vendor = (\n",
    "    full_data[full_data['vendor_id'].isin(top5_vendors)]\n",
    "    .groupby(['vendor_id', 'day_of_week'])['order_id']\n",
    "    .nunique()\n",
    "    .unstack(fill_value=0)\n",
    ")\n",
    "print(dow_per_vendor)\n",
    "\n",
    "# حسب ساعات اليوم:\n",
    "# تحويل order_time إلى ساعة فقط\n",
    "order_time_parsed = pd.to_datetime(full_data['order_time'].astype(str), errors='coerce')\n",
    "full_data_with_hour = full_data.assign(order_hour=order_time_parsed.dt.hour)\n",
    "\n",
    "hour_counts = (\n",
    "    full_data_with_hour\n",
    "    .dropna(subset=['order_hour'])\n",
    "    .groupby('order_hour')['order_id']\n",
    "    .nunique()\n",
    "    .sort_index()\n",
    ")\n"
   ]
  },
  {
   "cell_type": "code",
   "execution_count": 82,
   "id": "66944d7a",
   "metadata": {},
   "outputs": [
    {
     "name": "stdout",
     "output_type": "stream",
     "text": [
      "is_chain\n",
      "indie    1752\n",
      "chain    3050\n",
      "Name: order_id, dtype: int64\n",
      "is_chain\n",
      "indie     825\n",
      "chain    1526\n",
      "Name: vendor_id, dtype: int64\n"
     ]
    }
   ],
   "source": [
    "# عدد المطاعم ضمن كل chain_id\n",
    "chain_sizes = (\n",
    "    full_data\n",
    "    .dropna(subset=['chain_id'])\n",
    "    .groupby('chain_id')['vendor_id']\n",
    "    .nunique()\n",
    "    .rename('chain_size')\n",
    ")\n",
    "\n",
    "# نربط حجم السلسلة بكل صف\n",
    "tmp = full_data.merge(chain_sizes, on='chain_id', how='left')\n",
    "\n",
    "# تعريف نوع المطعم: سلسلة (أكثر من مطعم) أم مستقل\n",
    "tmp['is_chain'] = tmp['chain_size'].fillna(0).gt(1)\n",
    "\n",
    "# مقارنة الطلبات الفريدة بين السلاسل والمستقلين:\n",
    "chain_vs_indie = (\n",
    "    tmp.groupby('is_chain')['order_id']\n",
    "    .nunique()\n",
    "    .rename(index={False: 'indie', True: 'chain'})\n",
    ")\n",
    "\n",
    "print(chain_vs_indie)\n",
    "\n",
    "# لو تبين عدد المطاعم ضمن كل فئة:\n",
    "vendors_chain_flag = (\n",
    "    tmp.groupby('is_chain')['vendor_id']\n",
    "    .nunique()\n",
    "    .rename(index={False: 'indie', True: 'chain'})\n",
    ")\n",
    "print(vendors_chain_flag)\n"
   ]
  }
 ],
 "metadata": {
  "kernelspec": {
   "display_name": "food-delivery-rec",
   "language": "python",
   "name": "python3"
  },
  "language_info": {
   "codemirror_mode": {
    "name": "ipython",
    "version": 3
   },
   "file_extension": ".py",
   "mimetype": "text/x-python",
   "name": "python",
   "nbconvert_exporter": "python",
   "pygments_lexer": "ipython3",
   "version": "3.10.6"
  }
 },
 "nbformat": 4,
 "nbformat_minor": 5
}
