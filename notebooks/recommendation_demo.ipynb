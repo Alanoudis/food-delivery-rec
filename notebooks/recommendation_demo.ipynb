{
 "cells": [
  {
   "cell_type": "code",
   "execution_count": null,
   "id": "69635f54-1d98-498b-9ce1-b7ef671b84a5",
   "metadata": {},
   "outputs": [],
   "source": [
    "# notebooks/recommendation_demo.ipynb\n",
    "\n",
    "# Recommendation System Demo\n",
    "# This notebook demonstrates how to use the recommendation system\n",
    "\n",
    "import sys\n",
    "import os\n",
    "import pandas as pd\n",
    "\n",
    "# Add the project root to Python path\n",
    "sys.path.append('../')\n",
    "\n",
    "# Import the recommendation system\n",
    "from food_delivery_rec.recommendation_system import (\n",
    "    RecommendationModelTrainer, \n",
    "    RecommendationEvaluator,\n",
    "    RecommendationSystem\n",
    ")\n",
    "\n",
    "# Load your data\n",
    "# full_data = pd.read_csv('../data/your_data.csv')\n",
    "\n",
    "print(\"🚀 Food Delivery Recommendation System Demo\")\n",
    "print(\"=\" * 50)\n",
    "\n",
    "# If you have data loaded, uncomment below:\n",
    "# trainer = RecommendationModelTrainer(full_data)\n",
    "# model_components = trainer.train_full_model()"
   ]
  }
 ],
 "metadata": {
  "kernelspec": {
   "display_name": "Python 3 (ipykernel)",
   "language": "python",
   "name": "python3"
  },
  "language_info": {
   "codemirror_mode": {
    "name": "ipython",
    "version": 3
   },
   "file_extension": ".py",
   "mimetype": "text/x-python",
   "name": "python",
   "nbconvert_exporter": "python",
   "pygments_lexer": "ipython3",
   "version": "3.10.6"
  }
 },
 "nbformat": 4,
 "nbformat_minor": 5
}
