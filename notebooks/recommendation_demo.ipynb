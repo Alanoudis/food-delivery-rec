{
 "cells": [
  {
   "cell_type": "code",
   "execution_count": 2,
   "id": "69635f54-1d98-498b-9ce1-b7ef671b84a5",
   "metadata": {
    "execution": {
     "iopub.execute_input": "2025-10-27T17:12:16.970054Z",
     "iopub.status.busy": "2025-10-27T17:12:16.968654Z",
     "iopub.status.idle": "2025-10-27T17:12:16.997344Z",
     "shell.execute_reply": "2025-10-27T17:12:16.987591Z",
     "shell.execute_reply.started": "2025-10-27T17:12:16.969953Z"
    }
   },
   "outputs": [
    {
     "ename": "SyntaxError",
     "evalue": "invalid syntax (3310949329.py, line 14)",
     "output_type": "error",
     "traceback": [
      "\u001b[0;36m  Cell \u001b[0;32mIn[2], line 14\u001b[0;36m\u001b[0m\n\u001b[0;31m    from food-delivery-rec.recommendation_system import (\u001b[0m\n\u001b[0m             ^\u001b[0m\n\u001b[0;31mSyntaxError\u001b[0m\u001b[0;31m:\u001b[0m invalid syntax\n"
     ]
    }
   ],
   "source": [
    "# notebooks/recommendation_demo.ipynb\n",
    "\n",
    "# Recommendation System Demo\n",
    "# This notebook demonstrates how to use the recommendation system\n",
    "\n",
    "import sys\n",
    "import os\n",
    "import pandas as pd\n",
    "\n",
    "# Add the project root to Python path\n",
    "sys.path.append('../')\n",
    "\n",
    "# Import the recommendation system\n",
    "from food-delivery-rec.recommendation_system import (\n",
    "    RecommendationModelTrainer, \n",
    "    RecommendationEvaluator,\n",
    "    RecommendationSystem\n",
    ")\n",
    "\n",
    "# Load your data\n",
    "full_data = pd.read_csv('../data/test-train/full_data100k.csv')\n",
    "\n",
    "print(\"🚀 Food Delivery Recommendation System Demo\")\n",
    "print(\"=\" * 50)\n",
    "\n",
    "# If you have data loaded, uncomment below:\n",
    "trainer = RecommendationModelTrainer(full_data)\n",
    "model_components = trainer.train_full_model()"
   ]
  },
  {
   "cell_type": "code",
   "execution_count": null,
   "id": "29adf753-9338-41a0-bc58-bfb154b137c7",
   "metadata": {},
   "outputs": [],
   "source": []
  }
 ],
 "metadata": {
  "kernelspec": {
   "display_name": "Python 3 (ipykernel)",
   "language": "python",
   "name": "python3"
  },
  "language_info": {
   "codemirror_mode": {
    "name": "ipython",
    "version": 3
   },
   "file_extension": ".py",
   "mimetype": "text/x-python",
   "name": "python",
   "nbconvert_exporter": "python",
   "pygments_lexer": "ipython3",
   "version": "3.10.6"
  }
 },
 "nbformat": 4,
 "nbformat_minor": 5
}
