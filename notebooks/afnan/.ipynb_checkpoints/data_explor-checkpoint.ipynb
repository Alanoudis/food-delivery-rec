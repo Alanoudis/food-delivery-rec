{
 "cells": [
  {
   "cell_type": "markdown",
   "id": "f6c890e7-d325-4333-a0fc-0baca712db0a",
   "metadata": {
    "execution": {
     "iopub.execute_input": "2025-10-21T11:28:45.103526Z",
     "iopub.status.busy": "2025-10-21T11:28:45.071556Z",
     "iopub.status.idle": "2025-10-21T11:28:45.285936Z",
     "shell.execute_reply": "2025-10-21T11:28:45.278811Z",
     "shell.execute_reply.started": "2025-10-21T11:28:45.101301Z"
    }
   },
   "source": [
    "## Food Recommender System"
   ]
  },
  {
   "cell_type": "code",
   "execution_count": 5,
   "id": "32e6a0c3-df7b-4720-83ec-eb0de2f726c5",
   "metadata": {
    "execution": {
     "iopub.execute_input": "2025-10-21T12:49:03.977865Z",
     "iopub.status.busy": "2025-10-21T12:49:03.962858Z",
     "iopub.status.idle": "2025-10-21T12:49:04.574923Z",
     "shell.execute_reply": "2025-10-21T12:49:04.571447Z",
     "shell.execute_reply.started": "2025-10-21T12:49:03.977511Z"
    }
   },
   "outputs": [
    {
     "name": "stdout",
     "output_type": "stream",
     "text": [
      "/home/afnan/code/Alanoudis/food-delivery-rec/notebooks/afnan\n"
     ]
    }
   ],
   "source": [
    "!pwd"
   ]
  },
  {
   "cell_type": "code",
   "execution_count": 2,
   "id": "5db1b8fd-526c-473c-87b7-2a6670e433eb",
   "metadata": {
    "execution": {
     "iopub.execute_input": "2025-10-22T07:25:43.949284Z",
     "iopub.status.busy": "2025-10-22T07:25:43.948841Z",
     "iopub.status.idle": "2025-10-22T07:25:45.513684Z",
     "shell.execute_reply": "2025-10-22T07:25:45.511392Z",
     "shell.execute_reply.started": "2025-10-22T07:25:43.949249Z"
    }
   },
   "outputs": [
    {
     "data": {
      "text/html": [
       "<div>\n",
       "<style scoped>\n",
       "    .dataframe tbody tr th:only-of-type {\n",
       "        vertical-align: middle;\n",
       "    }\n",
       "\n",
       "    .dataframe tbody tr th {\n",
       "        vertical-align: top;\n",
       "    }\n",
       "\n",
       "    .dataframe thead th {\n",
       "        text-align: right;\n",
       "    }\n",
       "</style>\n",
       "<table border=\"1\" class=\"dataframe\">\n",
       "  <thead>\n",
       "    <tr style=\"text-align: right;\">\n",
       "      <th></th>\n",
       "      <th>Unnamed: 0</th>\n",
       "      <th>customer_id</th>\n",
       "      <th>geohash</th>\n",
       "      <th>order_id</th>\n",
       "      <th>vendor_id</th>\n",
       "      <th>product_id</th>\n",
       "      <th>day_of_week</th>\n",
       "      <th>order_time</th>\n",
       "      <th>order_day</th>\n",
       "    </tr>\n",
       "  </thead>\n",
       "  <tbody>\n",
       "    <tr>\n",
       "      <th>0</th>\n",
       "      <td>0</td>\n",
       "      <td>1ba124d4e5</td>\n",
       "      <td>w21z7</td>\n",
       "      <td>0</td>\n",
       "      <td>212753d2</td>\n",
       "      <td>783e85338f1c</td>\n",
       "      <td>0</td>\n",
       "      <td>12:03:29</td>\n",
       "      <td>85 days</td>\n",
       "    </tr>\n",
       "    <tr>\n",
       "      <th>1</th>\n",
       "      <td>1</td>\n",
       "      <td>1ba124d4e5</td>\n",
       "      <td>w21z7</td>\n",
       "      <td>0</td>\n",
       "      <td>212753d2</td>\n",
       "      <td>084ab73246e6</td>\n",
       "      <td>0</td>\n",
       "      <td>12:03:29</td>\n",
       "      <td>85 days</td>\n",
       "    </tr>\n",
       "    <tr>\n",
       "      <th>2</th>\n",
       "      <td>2</td>\n",
       "      <td>1ba124d4e5</td>\n",
       "      <td>w21z7</td>\n",
       "      <td>0</td>\n",
       "      <td>212753d2</td>\n",
       "      <td>30eba3cc2676</td>\n",
       "      <td>0</td>\n",
       "      <td>12:03:29</td>\n",
       "      <td>85 days</td>\n",
       "    </tr>\n",
       "    <tr>\n",
       "      <th>3</th>\n",
       "      <td>3</td>\n",
       "      <td>1ba124d4e5</td>\n",
       "      <td>w21z7</td>\n",
       "      <td>0</td>\n",
       "      <td>212753d2</td>\n",
       "      <td>3910309eea60</td>\n",
       "      <td>0</td>\n",
       "      <td>12:03:29</td>\n",
       "      <td>85 days</td>\n",
       "    </tr>\n",
       "    <tr>\n",
       "      <th>4</th>\n",
       "      <td>4</td>\n",
       "      <td>1ba124d4e5</td>\n",
       "      <td>w21z7</td>\n",
       "      <td>0</td>\n",
       "      <td>212753d2</td>\n",
       "      <td>20049fb602cb</td>\n",
       "      <td>0</td>\n",
       "      <td>12:03:29</td>\n",
       "      <td>85 days</td>\n",
       "    </tr>\n",
       "  </tbody>\n",
       "</table>\n",
       "</div>"
      ],
      "text/plain": [
       "   Unnamed: 0 customer_id geohash  order_id vendor_id    product_id  \\\n",
       "0           0  1ba124d4e5   w21z7         0  212753d2  783e85338f1c   \n",
       "1           1  1ba124d4e5   w21z7         0  212753d2  084ab73246e6   \n",
       "2           2  1ba124d4e5   w21z7         0  212753d2  30eba3cc2676   \n",
       "3           3  1ba124d4e5   w21z7         0  212753d2  3910309eea60   \n",
       "4           4  1ba124d4e5   w21z7         0  212753d2  20049fb602cb   \n",
       "\n",
       "   day_of_week order_time order_day  \n",
       "0            0   12:03:29   85 days  \n",
       "1            0   12:03:29   85 days  \n",
       "2            0   12:03:29   85 days  \n",
       "3            0   12:03:29   85 days  \n",
       "4            0   12:03:29   85 days  "
      ]
     },
     "execution_count": 2,
     "metadata": {},
     "output_type": "execute_result"
    }
   ],
   "source": [
    "import pandas as pd\n",
    "\n",
    "\n",
    "file_path = \"../../raw_data/data_sg-20251021T105154Z-1-001/data_sg/orders_sg10k.txt\"  \n",
    "orders = pd.read_csv(file_path)\n",
    "\n",
    "orders.head()"
   ]
  },
  {
   "cell_type": "code",
   "execution_count": 11,
   "id": "58ec5cf3-527d-40e9-8346-0acaf9251715",
   "metadata": {
    "execution": {
     "iopub.execute_input": "2025-10-22T07:28:21.240840Z",
     "iopub.status.busy": "2025-10-22T07:28:21.231269Z",
     "iopub.status.idle": "2025-10-22T07:28:21.310120Z",
     "shell.execute_reply": "2025-10-22T07:28:21.306473Z",
     "shell.execute_reply.started": "2025-10-22T07:28:21.240463Z"
    }
   },
   "outputs": [
    {
     "data": {
      "text/plain": [
       "0           0\n",
       "1           0\n",
       "2           0\n",
       "3           0\n",
       "4           0\n",
       "         ... \n",
       "9996     4801\n",
       "9997     4801\n",
       "9998     4801\n",
       "9999     4801\n",
       "10000    4801\n",
       "Name: order_id, Length: 10001, dtype: int64"
      ]
     },
     "execution_count": 11,
     "metadata": {},
     "output_type": "execute_result"
    }
   ],
   "source": [
    "orders['order_id']"
   ]
  },
  {
   "cell_type": "code",
   "execution_count": 5,
   "id": "ab21291b-56f5-4ccd-9504-98a1edf8916f",
   "metadata": {
    "execution": {
     "iopub.execute_input": "2025-10-21T18:58:55.874724Z",
     "iopub.status.busy": "2025-10-21T18:58:55.874264Z",
     "iopub.status.idle": "2025-10-21T18:58:55.882580Z",
     "shell.execute_reply": "2025-10-21T18:58:55.880887Z",
     "shell.execute_reply.started": "2025-10-21T18:58:55.874691Z"
    }
   },
   "outputs": [
    {
     "data": {
      "text/plain": [
       "(10001, 9)"
      ]
     },
     "execution_count": 5,
     "metadata": {},
     "output_type": "execute_result"
    }
   ],
   "source": [
    "orders.shape"
   ]
  },
  {
   "cell_type": "markdown",
   "id": "d0b3a93d-024e-4711-8180-543632796170",
   "metadata": {},
   "source": [
    "## Clean the Data\n",
    "### Remove Unnecessary Columns"
   ]
  },
  {
   "cell_type": "code",
   "execution_count": 6,
   "id": "9d3044f0-e253-458d-96e5-81bcea594d27",
   "metadata": {
    "execution": {
     "iopub.execute_input": "2025-10-21T18:59:02.320132Z",
     "iopub.status.busy": "2025-10-21T18:59:02.319746Z",
     "iopub.status.idle": "2025-10-21T18:59:02.385693Z",
     "shell.execute_reply": "2025-10-21T18:59:02.381845Z",
     "shell.execute_reply.started": "2025-10-21T18:59:02.320101Z"
    }
   },
   "outputs": [],
   "source": [
    "orders.drop(columns=['Unnamed: 0'], inplace=True)\n"
   ]
  },
  {
   "cell_type": "code",
   "execution_count": 7,
   "id": "089388b5-a67e-477e-a185-66f684d629f5",
   "metadata": {
    "execution": {
     "iopub.execute_input": "2025-10-21T18:59:23.728153Z",
     "iopub.status.busy": "2025-10-21T18:59:23.727601Z",
     "iopub.status.idle": "2025-10-21T18:59:23.740463Z",
     "shell.execute_reply": "2025-10-21T18:59:23.738768Z",
     "shell.execute_reply.started": "2025-10-21T18:59:23.728109Z"
    }
   },
   "outputs": [
    {
     "data": {
      "text/html": [
       "<div>\n",
       "<style scoped>\n",
       "    .dataframe tbody tr th:only-of-type {\n",
       "        vertical-align: middle;\n",
       "    }\n",
       "\n",
       "    .dataframe tbody tr th {\n",
       "        vertical-align: top;\n",
       "    }\n",
       "\n",
       "    .dataframe thead th {\n",
       "        text-align: right;\n",
       "    }\n",
       "</style>\n",
       "<table border=\"1\" class=\"dataframe\">\n",
       "  <thead>\n",
       "    <tr style=\"text-align: right;\">\n",
       "      <th></th>\n",
       "      <th>customer_id</th>\n",
       "      <th>geohash</th>\n",
       "      <th>order_id</th>\n",
       "      <th>vendor_id</th>\n",
       "      <th>product_id</th>\n",
       "      <th>day_of_week</th>\n",
       "      <th>order_time</th>\n",
       "      <th>order_day</th>\n",
       "    </tr>\n",
       "  </thead>\n",
       "  <tbody>\n",
       "    <tr>\n",
       "      <th>0</th>\n",
       "      <td>1ba124d4e5</td>\n",
       "      <td>w21z7</td>\n",
       "      <td>0</td>\n",
       "      <td>212753d2</td>\n",
       "      <td>783e85338f1c</td>\n",
       "      <td>0</td>\n",
       "      <td>12:03:29</td>\n",
       "      <td>85 days</td>\n",
       "    </tr>\n",
       "    <tr>\n",
       "      <th>1</th>\n",
       "      <td>1ba124d4e5</td>\n",
       "      <td>w21z7</td>\n",
       "      <td>0</td>\n",
       "      <td>212753d2</td>\n",
       "      <td>084ab73246e6</td>\n",
       "      <td>0</td>\n",
       "      <td>12:03:29</td>\n",
       "      <td>85 days</td>\n",
       "    </tr>\n",
       "    <tr>\n",
       "      <th>2</th>\n",
       "      <td>1ba124d4e5</td>\n",
       "      <td>w21z7</td>\n",
       "      <td>0</td>\n",
       "      <td>212753d2</td>\n",
       "      <td>30eba3cc2676</td>\n",
       "      <td>0</td>\n",
       "      <td>12:03:29</td>\n",
       "      <td>85 days</td>\n",
       "    </tr>\n",
       "  </tbody>\n",
       "</table>\n",
       "</div>"
      ],
      "text/plain": [
       "  customer_id geohash  order_id vendor_id    product_id  day_of_week  \\\n",
       "0  1ba124d4e5   w21z7         0  212753d2  783e85338f1c            0   \n",
       "1  1ba124d4e5   w21z7         0  212753d2  084ab73246e6            0   \n",
       "2  1ba124d4e5   w21z7         0  212753d2  30eba3cc2676            0   \n",
       "\n",
       "  order_time order_day  \n",
       "0   12:03:29   85 days  \n",
       "1   12:03:29   85 days  \n",
       "2   12:03:29   85 days  "
      ]
     },
     "execution_count": 7,
     "metadata": {},
     "output_type": "execute_result"
    }
   ],
   "source": [
    "orders.head(3)"
   ]
  },
  {
   "cell_type": "code",
   "execution_count": null,
   "id": "1d9a0fdf-b38c-48e3-be7d-bec854a03e3f",
   "metadata": {},
   "outputs": [],
   "source": []
  },
  {
   "cell_type": "code",
   "execution_count": 12,
   "id": "f9de9c82-358e-4732-8fc6-3f3174107695",
   "metadata": {
    "execution": {
     "iopub.execute_input": "2025-10-22T08:14:01.526421Z",
     "iopub.status.busy": "2025-10-22T08:14:01.510061Z",
     "iopub.status.idle": "2025-10-22T08:14:04.247852Z",
     "shell.execute_reply": "2025-10-22T08:14:04.235351Z",
     "shell.execute_reply.started": "2025-10-22T08:14:01.525386Z"
    }
   },
   "outputs": [
    {
     "data": {
      "text/html": [
       "<div>\n",
       "<style scoped>\n",
       "    .dataframe tbody tr th:only-of-type {\n",
       "        vertical-align: middle;\n",
       "    }\n",
       "\n",
       "    .dataframe tbody tr th {\n",
       "        vertical-align: top;\n",
       "    }\n",
       "\n",
       "    .dataframe thead th {\n",
       "        text-align: right;\n",
       "    }\n",
       "</style>\n",
       "<table border=\"1\" class=\"dataframe\">\n",
       "  <thead>\n",
       "    <tr style=\"text-align: right;\">\n",
       "      <th></th>\n",
       "      <th>Unnamed: 0</th>\n",
       "      <th>vendor_id</th>\n",
       "      <th>product_id</th>\n",
       "      <th>name</th>\n",
       "      <th>unit_price</th>\n",
       "    </tr>\n",
       "  </thead>\n",
       "  <tbody>\n",
       "    <tr>\n",
       "      <th>0</th>\n",
       "      <td>0</td>\n",
       "      <td>15bbf316</td>\n",
       "      <td>59099e089514</td>\n",
       "      <td>Meat &amp; Seafood Combo 海鲜套餐</td>\n",
       "      <td>0.0036</td>\n",
       "    </tr>\n",
       "    <tr>\n",
       "      <th>1</th>\n",
       "      <td>1</td>\n",
       "      <td>e7b24dc0</td>\n",
       "      <td>52e1017fdbd9</td>\n",
       "      <td>Sausage Egg McMuffin® Meal</td>\n",
       "      <td>0.0024</td>\n",
       "    </tr>\n",
       "    <tr>\n",
       "      <th>2</th>\n",
       "      <td>2</td>\n",
       "      <td>e7b24dc0</td>\n",
       "      <td>fcb7110cd932</td>\n",
       "      <td>Scrambled Egg Burger w Chicken Meal</td>\n",
       "      <td>0.0024</td>\n",
       "    </tr>\n",
       "    <tr>\n",
       "      <th>3</th>\n",
       "      <td>3</td>\n",
       "      <td>7112a20b</td>\n",
       "      <td>d3e7708c2bc9</td>\n",
       "      <td>Maguro Sushi</td>\n",
       "      <td>0.0012</td>\n",
       "    </tr>\n",
       "    <tr>\n",
       "      <th>4</th>\n",
       "      <td>4</td>\n",
       "      <td>6137ef21</td>\n",
       "      <td>bf0d5ac0e03c</td>\n",
       "      <td>Family Meal - Prosp Chic TwLEVMx2 + ChBurgerHM</td>\n",
       "      <td>0.0100</td>\n",
       "    </tr>\n",
       "  </tbody>\n",
       "</table>\n",
       "</div>"
      ],
      "text/plain": [
       "   Unnamed: 0 vendor_id    product_id  \\\n",
       "0           0  15bbf316  59099e089514   \n",
       "1           1  e7b24dc0  52e1017fdbd9   \n",
       "2           2  e7b24dc0  fcb7110cd932   \n",
       "3           3  7112a20b  d3e7708c2bc9   \n",
       "4           4  6137ef21  bf0d5ac0e03c   \n",
       "\n",
       "                                             name  unit_price  \n",
       "0                       Meat & Seafood Combo 海鲜套餐      0.0036  \n",
       "1                      Sausage Egg McMuffin® Meal      0.0024  \n",
       "2             Scrambled Egg Burger w Chicken Meal      0.0024  \n",
       "3                                    Maguro Sushi      0.0012  \n",
       "4  Family Meal - Prosp Chic TwLEVMx2 + ChBurgerHM      0.0100  "
      ]
     },
     "execution_count": 12,
     "metadata": {},
     "output_type": "execute_result"
    }
   ],
   "source": [
    "\n",
    "file_path2 = \"../../raw_data/data_sg-20251021T105154Z-1-001/data_sg/products_sg.txt\"  \n",
    "products = pd.read_csv(file_path2)\n",
    "\n",
    "products.head()"
   ]
  },
  {
   "cell_type": "code",
   "execution_count": 14,
   "id": "afecf54c-9b72-4602-b1ec-c7b5cfe6324b",
   "metadata": {
    "execution": {
     "iopub.execute_input": "2025-10-22T08:15:08.562623Z",
     "iopub.status.busy": "2025-10-22T08:15:08.556030Z",
     "iopub.status.idle": "2025-10-22T08:15:09.528062Z",
     "shell.execute_reply": "2025-10-22T08:15:09.522777Z",
     "shell.execute_reply.started": "2025-10-22T08:15:08.562317Z"
    }
   },
   "outputs": [],
   "source": [
    "products.drop(columns=['Unnamed: 0'], inplace=True)"
   ]
  },
  {
   "cell_type": "code",
   "execution_count": 15,
   "id": "ed5499e1-8e26-4c63-8a0d-478033f8fb99",
   "metadata": {
    "execution": {
     "iopub.execute_input": "2025-10-22T08:15:45.637979Z",
     "iopub.status.busy": "2025-10-22T08:15:45.633610Z",
     "iopub.status.idle": "2025-10-22T08:15:46.104346Z",
     "shell.execute_reply": "2025-10-22T08:15:46.099781Z",
     "shell.execute_reply.started": "2025-10-22T08:15:45.637814Z"
    }
   },
   "outputs": [
    {
     "data": {
      "text/html": [
       "<div>\n",
       "<style scoped>\n",
       "    .dataframe tbody tr th:only-of-type {\n",
       "        vertical-align: middle;\n",
       "    }\n",
       "\n",
       "    .dataframe tbody tr th {\n",
       "        vertical-align: top;\n",
       "    }\n",
       "\n",
       "    .dataframe thead th {\n",
       "        text-align: right;\n",
       "    }\n",
       "</style>\n",
       "<table border=\"1\" class=\"dataframe\">\n",
       "  <thead>\n",
       "    <tr style=\"text-align: right;\">\n",
       "      <th></th>\n",
       "      <th>vendor_id</th>\n",
       "      <th>product_id</th>\n",
       "      <th>name</th>\n",
       "      <th>unit_price</th>\n",
       "    </tr>\n",
       "  </thead>\n",
       "  <tbody>\n",
       "    <tr>\n",
       "      <th>0</th>\n",
       "      <td>15bbf316</td>\n",
       "      <td>59099e089514</td>\n",
       "      <td>Meat &amp; Seafood Combo 海鲜套餐</td>\n",
       "      <td>0.0036</td>\n",
       "    </tr>\n",
       "    <tr>\n",
       "      <th>1</th>\n",
       "      <td>e7b24dc0</td>\n",
       "      <td>52e1017fdbd9</td>\n",
       "      <td>Sausage Egg McMuffin® Meal</td>\n",
       "      <td>0.0024</td>\n",
       "    </tr>\n",
       "    <tr>\n",
       "      <th>2</th>\n",
       "      <td>e7b24dc0</td>\n",
       "      <td>fcb7110cd932</td>\n",
       "      <td>Scrambled Egg Burger w Chicken Meal</td>\n",
       "      <td>0.0024</td>\n",
       "    </tr>\n",
       "  </tbody>\n",
       "</table>\n",
       "</div>"
      ],
      "text/plain": [
       "  vendor_id    product_id                                 name  unit_price\n",
       "0  15bbf316  59099e089514            Meat & Seafood Combo 海鲜套餐      0.0036\n",
       "1  e7b24dc0  52e1017fdbd9           Sausage Egg McMuffin® Meal      0.0024\n",
       "2  e7b24dc0  fcb7110cd932  Scrambled Egg Burger w Chicken Meal      0.0024"
      ]
     },
     "execution_count": 15,
     "metadata": {},
     "output_type": "execute_result"
    }
   ],
   "source": [
    "products.head(3)"
   ]
  },
  {
   "cell_type": "code",
   "execution_count": 13,
   "id": "83295953-4cba-4966-abc2-3e42ac8a48ea",
   "metadata": {
    "execution": {
     "iopub.execute_input": "2025-10-22T08:14:10.036231Z",
     "iopub.status.busy": "2025-10-22T08:14:10.035850Z",
     "iopub.status.idle": "2025-10-22T08:14:10.093971Z",
     "shell.execute_reply": "2025-10-22T08:14:10.090453Z",
     "shell.execute_reply.started": "2025-10-22T08:14:10.036205Z"
    }
   },
   "outputs": [
    {
     "data": {
      "text/html": [
       "<div>\n",
       "<style scoped>\n",
       "    .dataframe tbody tr th:only-of-type {\n",
       "        vertical-align: middle;\n",
       "    }\n",
       "\n",
       "    .dataframe tbody tr th {\n",
       "        vertical-align: top;\n",
       "    }\n",
       "\n",
       "    .dataframe thead th {\n",
       "        text-align: right;\n",
       "    }\n",
       "</style>\n",
       "<table border=\"1\" class=\"dataframe\">\n",
       "  <thead>\n",
       "    <tr style=\"text-align: right;\">\n",
       "      <th></th>\n",
       "      <th>Unnamed: 0</th>\n",
       "      <th>vendor_id</th>\n",
       "      <th>chain_id</th>\n",
       "      <th>geohash</th>\n",
       "      <th>primary_cuisine</th>\n",
       "    </tr>\n",
       "  </thead>\n",
       "  <tbody>\n",
       "    <tr>\n",
       "      <th>0</th>\n",
       "      <td>0</td>\n",
       "      <td>b160c319</td>\n",
       "      <td>d2786168</td>\n",
       "      <td>w21z6</td>\n",
       "      <td>mexican</td>\n",
       "    </tr>\n",
       "    <tr>\n",
       "      <th>1</th>\n",
       "      <td>1</td>\n",
       "      <td>9c8f010e</td>\n",
       "      <td>d2786168</td>\n",
       "      <td>w21ze</td>\n",
       "      <td>mexican</td>\n",
       "    </tr>\n",
       "    <tr>\n",
       "      <th>2</th>\n",
       "      <td>4</td>\n",
       "      <td>03eb25e1</td>\n",
       "      <td>5055ab25</td>\n",
       "      <td>w21ze</td>\n",
       "      <td>bak kut teh</td>\n",
       "    </tr>\n",
       "    <tr>\n",
       "      <th>3</th>\n",
       "      <td>5</td>\n",
       "      <td>3613129a</td>\n",
       "      <td>8984acb6</td>\n",
       "      <td>w23b1</td>\n",
       "      <td>italian</td>\n",
       "    </tr>\n",
       "    <tr>\n",
       "      <th>4</th>\n",
       "      <td>7</td>\n",
       "      <td>0946c9e5</td>\n",
       "      <td>1e3a2913</td>\n",
       "      <td>w21z4</td>\n",
       "      <td>bak kut teh</td>\n",
       "    </tr>\n",
       "  </tbody>\n",
       "</table>\n",
       "</div>"
      ],
      "text/plain": [
       "   Unnamed: 0 vendor_id  chain_id geohash primary_cuisine\n",
       "0           0  b160c319  d2786168   w21z6         mexican\n",
       "1           1  9c8f010e  d2786168   w21ze         mexican\n",
       "2           4  03eb25e1  5055ab25   w21ze     bak kut teh\n",
       "3           5  3613129a  8984acb6   w23b1         italian\n",
       "4           7  0946c9e5  1e3a2913   w21z4     bak kut teh"
      ]
     },
     "execution_count": 13,
     "metadata": {},
     "output_type": "execute_result"
    }
   ],
   "source": [
    "\n",
    "file_path3 = \"../../raw_data/data_sg-20251021T105154Z-1-001/data_sg/vendors_sg.txt\"  \n",
    "vendors = pd.read_csv(file_path3)\n",
    "\n",
    "vendors.head()"
   ]
  },
  {
   "cell_type": "code",
   "execution_count": 16,
   "id": "e75b43bf-d79d-4361-bb1e-08455342bf33",
   "metadata": {
    "execution": {
     "iopub.execute_input": "2025-10-22T08:15:52.506706Z",
     "iopub.status.busy": "2025-10-22T08:15:52.506299Z",
     "iopub.status.idle": "2025-10-22T08:15:52.538535Z",
     "shell.execute_reply": "2025-10-22T08:15:52.533559Z",
     "shell.execute_reply.started": "2025-10-22T08:15:52.506681Z"
    }
   },
   "outputs": [],
   "source": [
    "vendors.drop(columns=['Unnamed: 0'], inplace=True)"
   ]
  },
  {
   "cell_type": "code",
   "execution_count": 17,
   "id": "ac7ad3aa-688c-4fcd-a630-e5461e313313",
   "metadata": {
    "execution": {
     "iopub.execute_input": "2025-10-22T08:16:09.776080Z",
     "iopub.status.busy": "2025-10-22T08:16:09.775194Z",
     "iopub.status.idle": "2025-10-22T08:16:09.805018Z",
     "shell.execute_reply": "2025-10-22T08:16:09.786406Z",
     "shell.execute_reply.started": "2025-10-22T08:16:09.776050Z"
    }
   },
   "outputs": [
    {
     "data": {
      "text/html": [
       "<div>\n",
       "<style scoped>\n",
       "    .dataframe tbody tr th:only-of-type {\n",
       "        vertical-align: middle;\n",
       "    }\n",
       "\n",
       "    .dataframe tbody tr th {\n",
       "        vertical-align: top;\n",
       "    }\n",
       "\n",
       "    .dataframe thead th {\n",
       "        text-align: right;\n",
       "    }\n",
       "</style>\n",
       "<table border=\"1\" class=\"dataframe\">\n",
       "  <thead>\n",
       "    <tr style=\"text-align: right;\">\n",
       "      <th></th>\n",
       "      <th>vendor_id</th>\n",
       "      <th>chain_id</th>\n",
       "      <th>geohash</th>\n",
       "      <th>primary_cuisine</th>\n",
       "    </tr>\n",
       "  </thead>\n",
       "  <tbody>\n",
       "    <tr>\n",
       "      <th>0</th>\n",
       "      <td>b160c319</td>\n",
       "      <td>d2786168</td>\n",
       "      <td>w21z6</td>\n",
       "      <td>mexican</td>\n",
       "    </tr>\n",
       "    <tr>\n",
       "      <th>1</th>\n",
       "      <td>9c8f010e</td>\n",
       "      <td>d2786168</td>\n",
       "      <td>w21ze</td>\n",
       "      <td>mexican</td>\n",
       "    </tr>\n",
       "    <tr>\n",
       "      <th>2</th>\n",
       "      <td>03eb25e1</td>\n",
       "      <td>5055ab25</td>\n",
       "      <td>w21ze</td>\n",
       "      <td>bak kut teh</td>\n",
       "    </tr>\n",
       "  </tbody>\n",
       "</table>\n",
       "</div>"
      ],
      "text/plain": [
       "  vendor_id  chain_id geohash primary_cuisine\n",
       "0  b160c319  d2786168   w21z6         mexican\n",
       "1  9c8f010e  d2786168   w21ze         mexican\n",
       "2  03eb25e1  5055ab25   w21ze     bak kut teh"
      ]
     },
     "execution_count": 17,
     "metadata": {},
     "output_type": "execute_result"
    }
   ],
   "source": [
    "vendors.head(3)"
   ]
  },
  {
   "cell_type": "code",
   "execution_count": null,
   "id": "a6b92283-e30d-4dad-8e24-92f2944505bd",
   "metadata": {},
   "outputs": [],
   "source": []
  },
  {
   "cell_type": "code",
   "execution_count": 26,
   "id": "f1c2ac33-5dae-4357-8035-cceb213f860e",
   "metadata": {
    "execution": {
     "iopub.execute_input": "2025-10-22T08:34:24.739202Z",
     "iopub.status.busy": "2025-10-22T08:34:24.738809Z",
     "iopub.status.idle": "2025-10-22T08:34:27.519155Z",
     "shell.execute_reply": "2025-10-22T08:34:27.517039Z",
     "shell.execute_reply.started": "2025-10-22T08:34:24.739176Z"
    }
   },
   "outputs": [
    {
     "data": {
      "text/html": [
       "<div>\n",
       "<style scoped>\n",
       "    .dataframe tbody tr th:only-of-type {\n",
       "        vertical-align: middle;\n",
       "    }\n",
       "\n",
       "    .dataframe tbody tr th {\n",
       "        vertical-align: top;\n",
       "    }\n",
       "\n",
       "    .dataframe thead th {\n",
       "        text-align: right;\n",
       "    }\n",
       "</style>\n",
       "<table border=\"1\" class=\"dataframe\">\n",
       "  <thead>\n",
       "    <tr style=\"text-align: right;\">\n",
       "      <th></th>\n",
       "      <th>Unnamed: 0</th>\n",
       "      <th>customer_id</th>\n",
       "      <th>geohash_x</th>\n",
       "      <th>order_id</th>\n",
       "      <th>vendor_id</th>\n",
       "      <th>product_id</th>\n",
       "      <th>day_of_week</th>\n",
       "      <th>order_time</th>\n",
       "      <th>order_day</th>\n",
       "      <th>name</th>\n",
       "      <th>unit_price</th>\n",
       "      <th>chain_id</th>\n",
       "      <th>geohash_y</th>\n",
       "      <th>primary_cuisine</th>\n",
       "    </tr>\n",
       "  </thead>\n",
       "  <tbody>\n",
       "    <tr>\n",
       "      <th>0</th>\n",
       "      <td>0</td>\n",
       "      <td>1ba124d4e5</td>\n",
       "      <td>w21z7</td>\n",
       "      <td>0</td>\n",
       "      <td>212753d2</td>\n",
       "      <td>783e85338f1c</td>\n",
       "      <td>0</td>\n",
       "      <td>12:03:29</td>\n",
       "      <td>85 days</td>\n",
       "      <td>201. Japanese Garlic Karaage Don</td>\n",
       "      <td>0.0060</td>\n",
       "      <td>66c9978d</td>\n",
       "      <td>w21z7</td>\n",
       "      <td>ramen</td>\n",
       "    </tr>\n",
       "    <tr>\n",
       "      <th>1</th>\n",
       "      <td>1</td>\n",
       "      <td>1ba124d4e5</td>\n",
       "      <td>w21z7</td>\n",
       "      <td>0</td>\n",
       "      <td>212753d2</td>\n",
       "      <td>084ab73246e6</td>\n",
       "      <td>0</td>\n",
       "      <td>12:03:29</td>\n",
       "      <td>85 days</td>\n",
       "      <td>204. Chicken Cutlet Don</td>\n",
       "      <td>0.0068</td>\n",
       "      <td>66c9978d</td>\n",
       "      <td>w21z7</td>\n",
       "      <td>ramen</td>\n",
       "    </tr>\n",
       "    <tr>\n",
       "      <th>2</th>\n",
       "      <td>2</td>\n",
       "      <td>1ba124d4e5</td>\n",
       "      <td>w21z7</td>\n",
       "      <td>0</td>\n",
       "      <td>212753d2</td>\n",
       "      <td>30eba3cc2676</td>\n",
       "      <td>0</td>\n",
       "      <td>12:03:29</td>\n",
       "      <td>85 days</td>\n",
       "      <td>206. Beef Sukiyaki Don</td>\n",
       "      <td>0.0068</td>\n",
       "      <td>66c9978d</td>\n",
       "      <td>w21z7</td>\n",
       "      <td>ramen</td>\n",
       "    </tr>\n",
       "    <tr>\n",
       "      <th>3</th>\n",
       "      <td>3</td>\n",
       "      <td>1ba124d4e5</td>\n",
       "      <td>w21z7</td>\n",
       "      <td>0</td>\n",
       "      <td>212753d2</td>\n",
       "      <td>3910309eea60</td>\n",
       "      <td>0</td>\n",
       "      <td>12:03:29</td>\n",
       "      <td>85 days</td>\n",
       "      <td>209. Japanese Beef Yakiniku Don</td>\n",
       "      <td>0.0068</td>\n",
       "      <td>66c9978d</td>\n",
       "      <td>w21z7</td>\n",
       "      <td>ramen</td>\n",
       "    </tr>\n",
       "    <tr>\n",
       "      <th>4</th>\n",
       "      <td>4</td>\n",
       "      <td>1ba124d4e5</td>\n",
       "      <td>w21z7</td>\n",
       "      <td>0</td>\n",
       "      <td>212753d2</td>\n",
       "      <td>20049fb602cb</td>\n",
       "      <td>0</td>\n",
       "      <td>12:03:29</td>\n",
       "      <td>85 days</td>\n",
       "      <td>210. Teriyaki Salmon Don</td>\n",
       "      <td>0.0080</td>\n",
       "      <td>66c9978d</td>\n",
       "      <td>w21z7</td>\n",
       "      <td>ramen</td>\n",
       "    </tr>\n",
       "  </tbody>\n",
       "</table>\n",
       "</div>"
      ],
      "text/plain": [
       "   Unnamed: 0 customer_id geohash_x  order_id vendor_id    product_id  \\\n",
       "0           0  1ba124d4e5     w21z7         0  212753d2  783e85338f1c   \n",
       "1           1  1ba124d4e5     w21z7         0  212753d2  084ab73246e6   \n",
       "2           2  1ba124d4e5     w21z7         0  212753d2  30eba3cc2676   \n",
       "3           3  1ba124d4e5     w21z7         0  212753d2  3910309eea60   \n",
       "4           4  1ba124d4e5     w21z7         0  212753d2  20049fb602cb   \n",
       "\n",
       "   day_of_week order_time order_day                              name  \\\n",
       "0            0   12:03:29   85 days  201. Japanese Garlic Karaage Don   \n",
       "1            0   12:03:29   85 days           204. Chicken Cutlet Don   \n",
       "2            0   12:03:29   85 days            206. Beef Sukiyaki Don   \n",
       "3            0   12:03:29   85 days   209. Japanese Beef Yakiniku Don   \n",
       "4            0   12:03:29   85 days          210. Teriyaki Salmon Don   \n",
       "\n",
       "   unit_price  chain_id geohash_y primary_cuisine  \n",
       "0      0.0060  66c9978d     w21z7           ramen  \n",
       "1      0.0068  66c9978d     w21z7           ramen  \n",
       "2      0.0068  66c9978d     w21z7           ramen  \n",
       "3      0.0068  66c9978d     w21z7           ramen  \n",
       "4      0.0080  66c9978d     w21z7           ramen  "
      ]
     },
     "execution_count": 26,
     "metadata": {},
     "output_type": "execute_result"
    }
   ],
   "source": [
    "\n",
    "# Step 1: Merge orders with products on vendor_id and product_id\n",
    "orders_products = orders.merge(products, on=['vendor_id', 'product_id'], how='left')\n",
    "\n",
    "# Step 2: Merge the result with vendors on vendor_id\n",
    "full_data = orders_products.merge(vendors, on='vendor_id', how='left')\n",
    "\n",
    "# Preview the final merged dataset\n",
    "full_data.head()"
   ]
  },
  {
   "cell_type": "code",
   "execution_count": 27,
   "id": "b8d8086f-3645-41de-a98a-d310b1f49d6b",
   "metadata": {
    "execution": {
     "iopub.execute_input": "2025-10-22T08:34:27.520805Z",
     "iopub.status.busy": "2025-10-22T08:34:27.520528Z",
     "iopub.status.idle": "2025-10-22T08:34:27.529248Z",
     "shell.execute_reply": "2025-10-22T08:34:27.527623Z",
     "shell.execute_reply.started": "2025-10-22T08:34:27.520782Z"
    }
   },
   "outputs": [],
   "source": [
    "full_data.drop(columns=['Unnamed: 0', 'geohash_x'], inplace=True)"
   ]
  },
  {
   "cell_type": "code",
   "execution_count": 28,
   "id": "ed36e6e7-80be-47a4-9aed-b0d6f738bd98",
   "metadata": {
    "execution": {
     "iopub.execute_input": "2025-10-22T08:34:42.038511Z",
     "iopub.status.busy": "2025-10-22T08:34:42.038065Z",
     "iopub.status.idle": "2025-10-22T08:34:42.054083Z",
     "shell.execute_reply": "2025-10-22T08:34:42.051805Z",
     "shell.execute_reply.started": "2025-10-22T08:34:42.038478Z"
    }
   },
   "outputs": [
    {
     "data": {
      "text/html": [
       "<div>\n",
       "<style scoped>\n",
       "    .dataframe tbody tr th:only-of-type {\n",
       "        vertical-align: middle;\n",
       "    }\n",
       "\n",
       "    .dataframe tbody tr th {\n",
       "        vertical-align: top;\n",
       "    }\n",
       "\n",
       "    .dataframe thead th {\n",
       "        text-align: right;\n",
       "    }\n",
       "</style>\n",
       "<table border=\"1\" class=\"dataframe\">\n",
       "  <thead>\n",
       "    <tr style=\"text-align: right;\">\n",
       "      <th></th>\n",
       "      <th>customer_id</th>\n",
       "      <th>order_id</th>\n",
       "      <th>vendor_id</th>\n",
       "      <th>product_id</th>\n",
       "      <th>day_of_week</th>\n",
       "      <th>order_time</th>\n",
       "      <th>order_day</th>\n",
       "      <th>name</th>\n",
       "      <th>unit_price</th>\n",
       "      <th>chain_id</th>\n",
       "      <th>geohash_y</th>\n",
       "      <th>primary_cuisine</th>\n",
       "    </tr>\n",
       "  </thead>\n",
       "  <tbody>\n",
       "    <tr>\n",
       "      <th>0</th>\n",
       "      <td>1ba124d4e5</td>\n",
       "      <td>0</td>\n",
       "      <td>212753d2</td>\n",
       "      <td>783e85338f1c</td>\n",
       "      <td>0</td>\n",
       "      <td>12:03:29</td>\n",
       "      <td>85 days</td>\n",
       "      <td>201. Japanese Garlic Karaage Don</td>\n",
       "      <td>0.0060</td>\n",
       "      <td>66c9978d</td>\n",
       "      <td>w21z7</td>\n",
       "      <td>ramen</td>\n",
       "    </tr>\n",
       "    <tr>\n",
       "      <th>1</th>\n",
       "      <td>1ba124d4e5</td>\n",
       "      <td>0</td>\n",
       "      <td>212753d2</td>\n",
       "      <td>084ab73246e6</td>\n",
       "      <td>0</td>\n",
       "      <td>12:03:29</td>\n",
       "      <td>85 days</td>\n",
       "      <td>204. Chicken Cutlet Don</td>\n",
       "      <td>0.0068</td>\n",
       "      <td>66c9978d</td>\n",
       "      <td>w21z7</td>\n",
       "      <td>ramen</td>\n",
       "    </tr>\n",
       "    <tr>\n",
       "      <th>2</th>\n",
       "      <td>1ba124d4e5</td>\n",
       "      <td>0</td>\n",
       "      <td>212753d2</td>\n",
       "      <td>30eba3cc2676</td>\n",
       "      <td>0</td>\n",
       "      <td>12:03:29</td>\n",
       "      <td>85 days</td>\n",
       "      <td>206. Beef Sukiyaki Don</td>\n",
       "      <td>0.0068</td>\n",
       "      <td>66c9978d</td>\n",
       "      <td>w21z7</td>\n",
       "      <td>ramen</td>\n",
       "    </tr>\n",
       "    <tr>\n",
       "      <th>3</th>\n",
       "      <td>1ba124d4e5</td>\n",
       "      <td>0</td>\n",
       "      <td>212753d2</td>\n",
       "      <td>3910309eea60</td>\n",
       "      <td>0</td>\n",
       "      <td>12:03:29</td>\n",
       "      <td>85 days</td>\n",
       "      <td>209. Japanese Beef Yakiniku Don</td>\n",
       "      <td>0.0068</td>\n",
       "      <td>66c9978d</td>\n",
       "      <td>w21z7</td>\n",
       "      <td>ramen</td>\n",
       "    </tr>\n",
       "    <tr>\n",
       "      <th>4</th>\n",
       "      <td>1ba124d4e5</td>\n",
       "      <td>0</td>\n",
       "      <td>212753d2</td>\n",
       "      <td>20049fb602cb</td>\n",
       "      <td>0</td>\n",
       "      <td>12:03:29</td>\n",
       "      <td>85 days</td>\n",
       "      <td>210. Teriyaki Salmon Don</td>\n",
       "      <td>0.0080</td>\n",
       "      <td>66c9978d</td>\n",
       "      <td>w21z7</td>\n",
       "      <td>ramen</td>\n",
       "    </tr>\n",
       "  </tbody>\n",
       "</table>\n",
       "</div>"
      ],
      "text/plain": [
       "  customer_id  order_id vendor_id    product_id  day_of_week order_time  \\\n",
       "0  1ba124d4e5         0  212753d2  783e85338f1c            0   12:03:29   \n",
       "1  1ba124d4e5         0  212753d2  084ab73246e6            0   12:03:29   \n",
       "2  1ba124d4e5         0  212753d2  30eba3cc2676            0   12:03:29   \n",
       "3  1ba124d4e5         0  212753d2  3910309eea60            0   12:03:29   \n",
       "4  1ba124d4e5         0  212753d2  20049fb602cb            0   12:03:29   \n",
       "\n",
       "  order_day                              name  unit_price  chain_id geohash_y  \\\n",
       "0   85 days  201. Japanese Garlic Karaage Don      0.0060  66c9978d     w21z7   \n",
       "1   85 days           204. Chicken Cutlet Don      0.0068  66c9978d     w21z7   \n",
       "2   85 days            206. Beef Sukiyaki Don      0.0068  66c9978d     w21z7   \n",
       "3   85 days   209. Japanese Beef Yakiniku Don      0.0068  66c9978d     w21z7   \n",
       "4   85 days          210. Teriyaki Salmon Don      0.0080  66c9978d     w21z7   \n",
       "\n",
       "  primary_cuisine  \n",
       "0           ramen  \n",
       "1           ramen  \n",
       "2           ramen  \n",
       "3           ramen  \n",
       "4           ramen  "
      ]
     },
     "execution_count": 28,
     "metadata": {},
     "output_type": "execute_result"
    }
   ],
   "source": [
    "full_data.head()"
   ]
  },
  {
   "cell_type": "code",
   "execution_count": 29,
   "id": "65e1f82f-47d2-4705-856c-ae4a9fbf9b5b",
   "metadata": {
    "execution": {
     "iopub.execute_input": "2025-10-22T08:43:01.044168Z",
     "iopub.status.busy": "2025-10-22T08:43:01.031525Z",
     "iopub.status.idle": "2025-10-22T08:43:01.132105Z",
     "shell.execute_reply": "2025-10-22T08:43:01.125946Z",
     "shell.execute_reply.started": "2025-10-22T08:43:01.042858Z"
    }
   },
   "outputs": [
    {
     "data": {
      "text/plain": [
       "(10001, 12)"
      ]
     },
     "execution_count": 29,
     "metadata": {},
     "output_type": "execute_result"
    }
   ],
   "source": [
    "full_data.shape"
   ]
  },
  {
   "cell_type": "markdown",
   "id": "06bee381-a456-4c05-b5ba-86ca93d9c4a9",
   "metadata": {},
   "source": [
    "### 👥 Step 2: Analyze Customer Preferences\n",
    "##### 🔸 Most Frequent Customers per Cuisine"
   ]
  },
  {
   "cell_type": "code",
   "execution_count": 35,
   "id": "24a3a042-c6f9-4eb4-9faf-a72a15e3d73f",
   "metadata": {
    "execution": {
     "iopub.execute_input": "2025-10-22T08:55:20.396426Z",
     "iopub.status.busy": "2025-10-22T08:55:20.395950Z",
     "iopub.status.idle": "2025-10-22T08:55:20.448235Z",
     "shell.execute_reply": "2025-10-22T08:55:20.441113Z",
     "shell.execute_reply.started": "2025-10-22T08:55:20.396384Z"
    }
   },
   "outputs": [],
   "source": [
    "# Example: Filter for Italian cuisine\n",
    "mexican_orders = full_data[full_data['primary_cuisine'] == 'mexican']\n"
   ]
  },
  {
   "cell_type": "code",
   "execution_count": 36,
   "id": "926a011d-eb55-49e8-a774-d186a74768b4",
   "metadata": {
    "execution": {
     "iopub.execute_input": "2025-10-22T08:55:20.903982Z",
     "iopub.status.busy": "2025-10-22T08:55:20.903619Z",
     "iopub.status.idle": "2025-10-22T08:55:20.940420Z",
     "shell.execute_reply": "2025-10-22T08:55:20.938598Z",
     "shell.execute_reply.started": "2025-10-22T08:55:20.903951Z"
    }
   },
   "outputs": [
    {
     "name": "stdout",
     "output_type": "stream",
     "text": [
      "customer_id\n",
      "3307033447    17\n",
      "a366f0d29a     6\n",
      "53d1c13658     2\n",
      "70e0ad7f1e     2\n",
      "f9dbb6d1b8     1\n",
      "73a3961ed8     1\n",
      "01a45b2349     1\n",
      "92d6272d7d     1\n",
      "f3dbf24141     1\n",
      "86e84e17a2     1\n",
      "Name: count, dtype: int64\n"
     ]
    }
   ],
   "source": [
    "top_customers = mexican_orders['customer_id'].value_counts().head(10)\n",
    "print(top_customers)"
   ]
  },
  {
   "cell_type": "markdown",
   "id": "e01752f8-bf2f-4c21-8915-f2ea4f025e17",
   "metadata": {},
   "source": [
    "### Most Ordered Products per Cuisine"
   ]
  },
  {
   "cell_type": "code",
   "execution_count": 37,
   "id": "7ab95e1b-4237-4812-a198-46ee5056a1b4",
   "metadata": {
    "execution": {
     "iopub.execute_input": "2025-10-22T08:56:42.211361Z",
     "iopub.status.busy": "2025-10-22T08:56:42.210235Z",
     "iopub.status.idle": "2025-10-22T08:56:42.235830Z",
     "shell.execute_reply": "2025-10-22T08:56:42.233580Z",
     "shell.execute_reply.started": "2025-10-22T08:56:42.211329Z"
    }
   },
   "outputs": [
    {
     "name": "stdout",
     "output_type": "stream",
     "text": [
      "name\n",
      "Honey Tequila Chicken Wings                  4\n",
      "Free Heineken 0.0                            4\n",
      "Spicy Chicken Quesadilla                     4\n",
      "Roasted Tomato Salsa (Vegan)(Gluten-Free)    2\n",
      "Rotisserie Chicken                           2\n",
      "Smoky Chipotle BBQ                           1\n",
      "2 Breakfast Tacos                            1\n",
      "Chico Slaw (VG)                              1\n",
      "Quinoa Salad (VG)(GF)                        1\n",
      "Roasted Veggies (VG)(GF)                     1\n",
      "Name: count, dtype: int64\n"
     ]
    }
   ],
   "source": [
    "top_dishes =mexican_orders['name'].value_counts().head(10)\n",
    "print(top_dishes)\n"
   ]
  },
  {
   "cell_type": "code",
   "execution_count": null,
   "id": "87548786-37c3-44bf-a013-25ee7885cfb5",
   "metadata": {},
   "outputs": [],
   "source": []
  },
  {
   "cell_type": "markdown",
   "id": "5cba5c29-5690-4306-acd8-3cd3d79c675b",
   "metadata": {},
   "source": [
    "### 🔸 Average Spending per Customer"
   ]
  },
  {
   "cell_type": "code",
   "execution_count": 38,
   "id": "cae81e25-a5b0-46ae-b49d-1b194887fe80",
   "metadata": {
    "execution": {
     "iopub.execute_input": "2025-10-22T09:01:00.465951Z",
     "iopub.status.busy": "2025-10-22T09:01:00.452563Z",
     "iopub.status.idle": "2025-10-22T09:01:00.636798Z",
     "shell.execute_reply": "2025-10-22T09:01:00.631938Z",
     "shell.execute_reply.started": "2025-10-22T09:01:00.465686Z"
    }
   },
   "outputs": [
    {
     "name": "stdout",
     "output_type": "stream",
     "text": [
      "customer_id\n",
      "3307033447    0.007435\n",
      "73a3961ed8    0.005600\n",
      "f3dbf24141    0.005600\n",
      "53d1c13658    0.003600\n",
      "a366f0d29a    0.002800\n",
      "70e0ad7f1e    0.001800\n",
      "01a45b2349    0.000000\n",
      "86e84e17a2    0.000000\n",
      "92d6272d7d    0.000000\n",
      "f9dbb6d1b8    0.000000\n",
      "Name: unit_price, dtype: float64\n"
     ]
    }
   ],
   "source": [
    "avg_spending = mexican_orders.groupby('customer_id')['unit_price'].mean().sort_values(ascending=False).head(10)\n",
    "print(avg_spending)\n"
   ]
  },
  {
   "cell_type": "code",
   "execution_count": null,
   "id": "3bb7a813-1e7d-4d9c-b746-9d23645cff4c",
   "metadata": {},
   "outputs": [],
   "source": []
  },
  {
   "cell_type": "markdown",
   "id": "6c142199-2d6b-4c1f-bf6a-79af5f2a3995",
   "metadata": {
    "execution": {
     "iopub.execute_input": "2025-10-21T19:04:22.016742Z",
     "iopub.status.busy": "2025-10-21T19:04:22.016247Z",
     "iopub.status.idle": "2025-10-21T19:04:22.024295Z",
     "shell.execute_reply": "2025-10-21T19:04:22.022075Z",
     "shell.execute_reply.started": "2025-10-21T19:04:22.016701Z"
    }
   },
   "source": [
    "## Explore Key Features\n",
    "### 📊 Frequency of Orders by Day"
   ]
  },
  {
   "cell_type": "code",
   "execution_count": 15,
   "id": "544b5c65-f8cf-4040-b225-1037a6faaff9",
   "metadata": {
    "execution": {
     "iopub.execute_input": "2025-10-21T19:08:03.265523Z",
     "iopub.status.busy": "2025-10-21T19:08:03.265000Z",
     "iopub.status.idle": "2025-10-21T19:08:03.462944Z",
     "shell.execute_reply": "2025-10-21T19:08:03.461311Z",
     "shell.execute_reply.started": "2025-10-21T19:08:03.265488Z"
    }
   },
   "outputs": [
    {
     "data": {
      "image/png": "[encoded data removed]",
      "text/plain": [
       "<Figure size 1400x600 with 1 Axes>"
      ]
     },
     "metadata": {},
     "output_type": "display_data"
    }
   ],
   "source": [
    "daily_orders = orders['order_day'].value_counts().sort_index()\n",
    "\n",
    "plt.figure(figsize=(14, 6))\n",
    "daily_orders.plot(kind='line', title='Daily Order Trend')\n",
    "plt.xlabel('Date')\n",
    "plt.ylabel('Orders')\n",
    "plt.tight_layout()\n",
    "plt.show()\n",
    "\n"
   ]
  },
  {
   "cell_type": "markdown",
   "id": "af481bff-9fde-4e78-beef-4cb261ee6497",
   "metadata": {},
   "source": [
    "## ⏰ Time of Day Analysis\n",
    "### Extract hour and categorize:"
   ]
  },
  {
   "cell_type": "code",
   "execution_count": 22,
   "id": "5db69c30-fc8b-4393-89d6-e2a6366b6c5c",
   "metadata": {
    "execution": {
     "iopub.execute_input": "2025-10-21T19:14:31.592927Z",
     "iopub.status.busy": "2025-10-21T19:14:31.592491Z",
     "iopub.status.idle": "2025-10-21T19:14:31.598791Z",
     "shell.execute_reply": "2025-10-21T19:14:31.596882Z",
     "shell.execute_reply.started": "2025-10-21T19:14:31.592887Z"
    }
   },
   "outputs": [],
   "source": [
    "#orders['hour'] = orders['order_time'].dt.hour\n",
    "#orders['time_of_day'] = pd.cut(orders['hour'], bins=[0, 11, 17, 23], labels=['Morning', 'Afternoon', 'Evening'])\n"
   ]
  },
  {
   "cell_type": "code",
   "execution_count": 23,
   "id": "a2f3791e-525e-48a5-b858-a3b6558eeefc",
   "metadata": {
    "execution": {
     "iopub.execute_input": "2025-10-21T19:14:32.055051Z",
     "iopub.status.busy": "2025-10-21T19:14:32.054513Z",
     "iopub.status.idle": "2025-10-21T19:14:32.192939Z",
     "shell.execute_reply": "2025-10-21T19:14:32.191008Z",
     "shell.execute_reply.started": "2025-10-21T19:14:32.054995Z"
    }
   },
   "outputs": [
    {
     "data": {
      "image/png": "[encoded data removed]",
      "text/plain": [
       "<Figure size 800x500 with 1 Axes>"
      ]
     },
     "metadata": {},
     "output_type": "display_data"
    }
   ],
   "source": [
    "import matplotlib.pyplot as plt\n",
    "\n",
    "plt.figure(figsize=(8, 5))\n",
    "orders['time_of_day'].value_counts().plot(kind='bar', title='Orders by Time of Day')\n",
    "plt.xlabel('Time of Day')\n",
    "plt.ylabel('Number of Orders')\n",
    "plt.tight_layout()\n",
    "plt.show()\n"
   ]
  },
  {
   "cell_type": "code",
   "execution_count": null,
   "id": "aaf56941-bf1e-49d9-a995-9bee313d96e7",
   "metadata": {},
   "outputs": [],
   "source": []
  },
  {
   "cell_type": "markdown",
   "id": "b3a08b18-7a53-4eb8-a00e-561cad3be198",
   "metadata": {},
   "source": [
    "### 👥 Top Customers"
   ]
  },
  {
   "cell_type": "code",
   "execution_count": 17,
   "id": "bc05db08-e4b7-4a42-aa1b-ec4676e1ab2d",
   "metadata": {
    "execution": {
     "iopub.execute_input": "2025-10-21T19:10:58.264820Z",
     "iopub.status.busy": "2025-10-21T19:10:58.264430Z",
     "iopub.status.idle": "2025-10-21T19:10:58.282933Z",
     "shell.execute_reply": "2025-10-21T19:10:58.280618Z",
     "shell.execute_reply.started": "2025-10-21T19:10:58.264792Z"
    }
   },
   "outputs": [
    {
     "name": "stdout",
     "output_type": "stream",
     "text": [
      "customer_id\n",
      "857c695baa    182\n",
      "e09be49ad4    131\n",
      "4e8b406597    108\n",
      "ac01e97093    102\n",
      "b8a1953622     74\n",
      "5ebbe86884     68\n",
      "1687ceff41     66\n",
      "fec4d1f339     65\n",
      "818a757422     62\n",
      "57cdd9b3a7     61\n",
      "Name: count, dtype: int64\n"
     ]
    }
   ],
   "source": [
    "top_customers = orders['customer_id'].value_counts().head(10)\n",
    "print(top_customers)\n"
   ]
  },
  {
   "cell_type": "markdown",
   "id": "1db24a35-f08a-4281-9875-4eaa95b554db",
   "metadata": {},
   "source": [
    "### 🗺️ Geohash Distribution"
   ]
  },
  {
   "cell_type": "code",
   "execution_count": 18,
   "id": "0dddcf9c-569b-4121-8ae9-484877171c73",
   "metadata": {
    "execution": {
     "iopub.execute_input": "2025-10-21T19:12:14.115777Z",
     "iopub.status.busy": "2025-10-21T19:12:14.115370Z",
     "iopub.status.idle": "2025-10-21T19:12:14.284814Z",
     "shell.execute_reply": "2025-10-21T19:12:14.282783Z",
     "shell.execute_reply.started": "2025-10-21T19:12:14.115746Z"
    }
   },
   "outputs": [
    {
     "data": {
      "text/plain": [
       "<Axes: title={'center': 'Top Geohash Areas'}, xlabel='geohash'>"
      ]
     },
     "execution_count": 18,
     "metadata": {},
     "output_type": "execute_result"
    },
    {
     "data": {
      "image/png": "[encoded data removed]",
      "text/plain": [
       "<Figure size 640x480 with 1 Axes>"
      ]
     },
     "metadata": {},
     "output_type": "display_data"
    }
   ],
   "source": [
    "orders['geohash'].value_counts().head(10).plot(kind='bar', title='Top Geohash Areas')"
   ]
  },
  {
   "cell_type": "code",
   "execution_count": null,
   "id": "4bcf8e45-576a-4a9e-9e76-f2ab794a3d5d",
   "metadata": {},
   "outputs": [],
   "source": []
  }
 ],
 "metadata": {
  "kernelspec": {
   "display_name": "Python 3 (ipykernel)",
   "language": "python",
   "name": "python3"
  },
  "language_info": {
   "codemirror_mode": {
    "name": "ipython",
    "version": 3
   },
   "file_extension": ".py",
   "mimetype": "text/x-python",
   "name": "python",
   "nbconvert_exporter": "python",
   "pygments_lexer": "ipython3",
   "version": "3.10.6"
  }
 },
 "nbformat": 4,
 "nbformat_minor": 5
}
