{
 "cells": [
  {
   "cell_type": "markdown",
   "id": "f6c890e7-d325-4333-a0fc-0baca712db0a",
   "metadata": {
    "execution": {
     "iopub.execute_input": "2025-10-21T11:28:45.103526Z",
     "iopub.status.busy": "2025-10-21T11:28:45.071556Z",
     "iopub.status.idle": "2025-10-21T11:28:45.285936Z",
     "shell.execute_reply": "2025-10-21T11:28:45.278811Z",
     "shell.execute_reply.started": "2025-10-21T11:28:45.101301Z"
    }
   },
   "source": [
    "## Food Recommender System"
   ]
  },
  {
   "cell_type": "code",
   "execution_count": 6,
   "id": "ee831a32-9965-4145-9519-7fedc44f5912",
   "metadata": {
    "execution": {
     "iopub.execute_input": "2025-10-21T11:47:02.639393Z",
     "iopub.status.busy": "2025-10-21T11:47:02.583875Z",
     "iopub.status.idle": "2025-10-21T11:49:08.488546Z",
     "shell.execute_reply": "2025-10-21T11:49:08.463146Z",
     "shell.execute_reply.started": "2025-10-21T11:47:02.620191Z"
    }
   },
   "outputs": [
    {
     "data": {
      "text/html": [
       "<div>\n",
       "<style scoped>\n",
       "    .dataframe tbody tr th:only-of-type {\n",
       "        vertical-align: middle;\n",
       "    }\n",
       "\n",
       "    .dataframe tbody tr th {\n",
       "        vertical-align: top;\n",
       "    }\n",
       "\n",
       "    .dataframe thead th {\n",
       "        text-align: right;\n",
       "    }\n",
       "</style>\n",
       "<table border=\"1\" class=\"dataframe\">\n",
       "  <thead>\n",
       "    <tr style=\"text-align: right;\">\n",
       "      <th></th>\n",
       "      <th>Unnamed: 0</th>\n",
       "      <th>customer_id</th>\n",
       "      <th>geohash</th>\n",
       "      <th>order_id</th>\n",
       "      <th>vendor_id</th>\n",
       "      <th>product_id</th>\n",
       "      <th>day_of_week</th>\n",
       "      <th>order_time</th>\n",
       "      <th>order_day</th>\n",
       "    </tr>\n",
       "  </thead>\n",
       "  <tbody>\n",
       "    <tr>\n",
       "      <th>0</th>\n",
       "      <td>0</td>\n",
       "      <td>1ba124d4e5</td>\n",
       "      <td>w21z7</td>\n",
       "      <td>0</td>\n",
       "      <td>212753d2</td>\n",
       "      <td>783e85338f1c</td>\n",
       "      <td>0</td>\n",
       "      <td>12:03:29</td>\n",
       "      <td>85 days</td>\n",
       "    </tr>\n",
       "    <tr>\n",
       "      <th>1</th>\n",
       "      <td>1</td>\n",
       "      <td>1ba124d4e5</td>\n",
       "      <td>w21z7</td>\n",
       "      <td>0</td>\n",
       "      <td>212753d2</td>\n",
       "      <td>084ab73246e6</td>\n",
       "      <td>0</td>\n",
       "      <td>12:03:29</td>\n",
       "      <td>85 days</td>\n",
       "    </tr>\n",
       "    <tr>\n",
       "      <th>2</th>\n",
       "      <td>2</td>\n",
       "      <td>1ba124d4e5</td>\n",
       "      <td>w21z7</td>\n",
       "      <td>0</td>\n",
       "      <td>212753d2</td>\n",
       "      <td>30eba3cc2676</td>\n",
       "      <td>0</td>\n",
       "      <td>12:03:29</td>\n",
       "      <td>85 days</td>\n",
       "    </tr>\n",
       "    <tr>\n",
       "      <th>3</th>\n",
       "      <td>3</td>\n",
       "      <td>1ba124d4e5</td>\n",
       "      <td>w21z7</td>\n",
       "      <td>0</td>\n",
       "      <td>212753d2</td>\n",
       "      <td>3910309eea60</td>\n",
       "      <td>0</td>\n",
       "      <td>12:03:29</td>\n",
       "      <td>85 days</td>\n",
       "    </tr>\n",
       "    <tr>\n",
       "      <th>4</th>\n",
       "      <td>4</td>\n",
       "      <td>1ba124d4e5</td>\n",
       "      <td>w21z7</td>\n",
       "      <td>0</td>\n",
       "      <td>212753d2</td>\n",
       "      <td>20049fb602cb</td>\n",
       "      <td>0</td>\n",
       "      <td>12:03:29</td>\n",
       "      <td>85 days</td>\n",
       "    </tr>\n",
       "  </tbody>\n",
       "</table>\n",
       "</div>"
      ],
      "text/plain": [
       "   Unnamed: 0 customer_id geohash  order_id vendor_id    product_id  \\\n",
       "0           0  1ba124d4e5   w21z7         0  212753d2  783e85338f1c   \n",
       "1           1  1ba124d4e5   w21z7         0  212753d2  084ab73246e6   \n",
       "2           2  1ba124d4e5   w21z7         0  212753d2  30eba3cc2676   \n",
       "3           3  1ba124d4e5   w21z7         0  212753d2  3910309eea60   \n",
       "4           4  1ba124d4e5   w21z7         0  212753d2  20049fb602cb   \n",
       "\n",
       "   day_of_week order_time order_day  \n",
       "0            0   12:03:29   85 days  \n",
       "1            0   12:03:29   85 days  \n",
       "2            0   12:03:29   85 days  \n",
       "3            0   12:03:29   85 days  \n",
       "4            0   12:03:29   85 days  "
      ]
     },
     "execution_count": 6,
     "metadata": {},
     "output_type": "execute_result"
    }
   ],
   "source": [
    "import pandas as pd\n",
    "\n",
    "\n",
    "file_path = \"orders_sg.txt\"  \n",
    "\n",
    "\n",
    "df = pd.read_csv(file_path)\n",
    "\n",
    "df.head()"
   ]
  },
  {
   "cell_type": "code",
   "execution_count": 7,
   "id": "5ab53944-ca70-46af-ae66-d549705af008",
   "metadata": {
    "execution": {
     "iopub.execute_input": "2025-10-21T11:49:08.506600Z",
     "iopub.status.busy": "2025-10-21T11:49:08.504401Z",
     "iopub.status.idle": "2025-10-21T11:49:08.667609Z",
     "shell.execute_reply": "2025-10-21T11:49:08.664074Z",
     "shell.execute_reply.started": "2025-10-21T11:49:08.506499Z"
    }
   },
   "outputs": [
    {
     "name": "stdout",
     "output_type": "stream",
     "text": [
      "<class 'pandas.core.frame.DataFrame'>\n",
      "RangeIndex: 4023005 entries, 0 to 4023004\n",
      "Data columns (total 9 columns):\n",
      " #   Column       Dtype \n",
      "---  ------       ----- \n",
      " 0   Unnamed: 0   int64 \n",
      " 1   customer_id  object\n",
      " 2   geohash      object\n",
      " 3   order_id     int64 \n",
      " 4   vendor_id    object\n",
      " 5   product_id   object\n",
      " 6   day_of_week  int64 \n",
      " 7   order_time   object\n",
      " 8   order_day    object\n",
      "dtypes: int64(3), object(6)\n",
      "memory usage: 276.2+ MB\n"
     ]
    }
   ],
   "source": [
    "df.info()"
   ]
  },
  {
   "cell_type": "code",
   "execution_count": 8,
   "id": "4c086476-ee66-4f2d-906c-693c4b2d4cb4",
   "metadata": {
    "execution": {
     "iopub.execute_input": "2025-10-21T11:49:08.670093Z",
     "iopub.status.busy": "2025-10-21T11:49:08.669393Z",
     "iopub.status.idle": "2025-10-21T11:49:08.682164Z",
     "shell.execute_reply": "2025-10-21T11:49:08.679240Z",
     "shell.execute_reply.started": "2025-10-21T11:49:08.670059Z"
    }
   },
   "outputs": [
    {
     "data": {
      "text/plain": [
       "(4023005, 9)"
      ]
     },
     "execution_count": 8,
     "metadata": {},
     "output_type": "execute_result"
    }
   ],
   "source": [
    "df.shape"
   ]
  },
  {
   "cell_type": "code",
   "execution_count": 11,
   "id": "5ba3157f-5f8c-4f50-b642-fab6ab79f2a0",
   "metadata": {
    "execution": {
     "iopub.execute_input": "2025-10-21T11:54:47.730264Z",
     "iopub.status.busy": "2025-10-21T11:54:47.691281Z",
     "iopub.status.idle": "2025-10-21T11:54:52.532795Z",
     "shell.execute_reply": "2025-10-21T11:54:52.530141Z",
     "shell.execute_reply.started": "2025-10-21T11:54:47.729184Z"
    }
   },
   "outputs": [
    {
     "data": {
      "text/html": [
       "<div>\n",
       "<style scoped>\n",
       "    .dataframe tbody tr th:only-of-type {\n",
       "        vertical-align: middle;\n",
       "    }\n",
       "\n",
       "    .dataframe tbody tr th {\n",
       "        vertical-align: top;\n",
       "    }\n",
       "\n",
       "    .dataframe thead th {\n",
       "        text-align: right;\n",
       "    }\n",
       "</style>\n",
       "<table border=\"1\" class=\"dataframe\">\n",
       "  <thead>\n",
       "    <tr style=\"text-align: right;\">\n",
       "      <th></th>\n",
       "      <th>Unnamed: 0</th>\n",
       "      <th>vendor_id</th>\n",
       "      <th>product_id</th>\n",
       "      <th>name</th>\n",
       "      <th>unit_price</th>\n",
       "    </tr>\n",
       "  </thead>\n",
       "  <tbody>\n",
       "    <tr>\n",
       "      <th>0</th>\n",
       "      <td>0</td>\n",
       "      <td>15bbf316</td>\n",
       "      <td>59099e089514</td>\n",
       "      <td>Meat &amp; Seafood Combo 海鲜套餐</td>\n",
       "      <td>0.0036</td>\n",
       "    </tr>\n",
       "    <tr>\n",
       "      <th>1</th>\n",
       "      <td>1</td>\n",
       "      <td>e7b24dc0</td>\n",
       "      <td>52e1017fdbd9</td>\n",
       "      <td>Sausage Egg McMuffin® Meal</td>\n",
       "      <td>0.0024</td>\n",
       "    </tr>\n",
       "    <tr>\n",
       "      <th>2</th>\n",
       "      <td>2</td>\n",
       "      <td>e7b24dc0</td>\n",
       "      <td>fcb7110cd932</td>\n",
       "      <td>Scrambled Egg Burger w Chicken Meal</td>\n",
       "      <td>0.0024</td>\n",
       "    </tr>\n",
       "    <tr>\n",
       "      <th>3</th>\n",
       "      <td>3</td>\n",
       "      <td>7112a20b</td>\n",
       "      <td>d3e7708c2bc9</td>\n",
       "      <td>Maguro Sushi</td>\n",
       "      <td>0.0012</td>\n",
       "    </tr>\n",
       "    <tr>\n",
       "      <th>4</th>\n",
       "      <td>4</td>\n",
       "      <td>6137ef21</td>\n",
       "      <td>bf0d5ac0e03c</td>\n",
       "      <td>Family Meal - Prosp Chic TwLEVMx2 + ChBurgerHM</td>\n",
       "      <td>0.0100</td>\n",
       "    </tr>\n",
       "  </tbody>\n",
       "</table>\n",
       "</div>"
      ],
      "text/plain": [
       "   Unnamed: 0 vendor_id    product_id  \\\n",
       "0           0  15bbf316  59099e089514   \n",
       "1           1  e7b24dc0  52e1017fdbd9   \n",
       "2           2  e7b24dc0  fcb7110cd932   \n",
       "3           3  7112a20b  d3e7708c2bc9   \n",
       "4           4  6137ef21  bf0d5ac0e03c   \n",
       "\n",
       "                                             name  unit_price  \n",
       "0                       Meat & Seafood Combo 海鲜套餐      0.0036  \n",
       "1                      Sausage Egg McMuffin® Meal      0.0024  \n",
       "2             Scrambled Egg Burger w Chicken Meal      0.0024  \n",
       "3                                    Maguro Sushi      0.0012  \n",
       "4  Family Meal - Prosp Chic TwLEVMx2 + ChBurgerHM      0.0100  "
      ]
     },
     "execution_count": 11,
     "metadata": {},
     "output_type": "execute_result"
    }
   ],
   "source": [
    "\n",
    "\n",
    "\n",
    "file_path1 = \"products_sg.txt\"  \n",
    "\n",
    "\n",
    "df1 = pd.read_csv(file_path1)\n",
    "\n",
    "df1.head()"
   ]
  },
  {
   "cell_type": "code",
   "execution_count": 12,
   "id": "745f1bea-2cd1-4ee6-8010-157d8cfb72c9",
   "metadata": {
    "execution": {
     "iopub.execute_input": "2025-10-21T11:54:52.534993Z",
     "iopub.status.busy": "2025-10-21T11:54:52.534630Z",
     "iopub.status.idle": "2025-10-21T11:54:52.704410Z",
     "shell.execute_reply": "2025-10-21T11:54:52.702801Z",
     "shell.execute_reply.started": "2025-10-21T11:54:52.534966Z"
    }
   },
   "outputs": [
    {
     "name": "stdout",
     "output_type": "stream",
     "text": [
      "<class 'pandas.core.frame.DataFrame'>\n",
      "RangeIndex: 1066840 entries, 0 to 1066839\n",
      "Data columns (total 5 columns):\n",
      " #   Column      Non-Null Count    Dtype  \n",
      "---  ------      --------------    -----  \n",
      " 0   Unnamed: 0  1066840 non-null  int64  \n",
      " 1   vendor_id   1066840 non-null  object \n",
      " 2   product_id  1066840 non-null  object \n",
      " 3   name        1066800 non-null  object \n",
      " 4   unit_price  1066840 non-null  float64\n",
      "dtypes: float64(1), int64(1), object(3)\n",
      "memory usage: 40.7+ MB\n"
     ]
    }
   ],
   "source": [
    "df1.info()"
   ]
  },
  {
   "cell_type": "code",
   "execution_count": 16,
   "id": "81b69f59-3b40-4b90-b02f-ebf7eee50f3e",
   "metadata": {
    "execution": {
     "iopub.execute_input": "2025-10-21T11:55:38.334938Z",
     "iopub.status.busy": "2025-10-21T11:55:38.334327Z",
     "iopub.status.idle": "2025-10-21T11:55:38.346805Z",
     "shell.execute_reply": "2025-10-21T11:55:38.344286Z",
     "shell.execute_reply.started": "2025-10-21T11:55:38.334901Z"
    }
   },
   "outputs": [
    {
     "data": {
      "text/plain": [
       "(1066840, 5)"
      ]
     },
     "execution_count": 16,
     "metadata": {},
     "output_type": "execute_result"
    }
   ],
   "source": [
    "df1.shape"
   ]
  },
  {
   "cell_type": "code",
   "execution_count": 17,
   "id": "9a5dbebe-1fb2-4773-972a-85965b4022de",
   "metadata": {
    "execution": {
     "iopub.execute_input": "2025-10-21T11:58:26.885589Z",
     "iopub.status.busy": "2025-10-21T11:58:26.869666Z",
     "iopub.status.idle": "2025-10-21T11:58:27.340937Z",
     "shell.execute_reply": "2025-10-21T11:58:27.336738Z",
     "shell.execute_reply.started": "2025-10-21T11:58:26.884299Z"
    }
   },
   "outputs": [
    {
     "data": {
      "text/html": [
       "<div>\n",
       "<style scoped>\n",
       "    .dataframe tbody tr th:only-of-type {\n",
       "        vertical-align: middle;\n",
       "    }\n",
       "\n",
       "    .dataframe tbody tr th {\n",
       "        vertical-align: top;\n",
       "    }\n",
       "\n",
       "    .dataframe thead th {\n",
       "        text-align: right;\n",
       "    }\n",
       "</style>\n",
       "<table border=\"1\" class=\"dataframe\">\n",
       "  <thead>\n",
       "    <tr style=\"text-align: right;\">\n",
       "      <th></th>\n",
       "      <th>Unnamed: 0</th>\n",
       "      <th>vendor_id</th>\n",
       "      <th>chain_id</th>\n",
       "      <th>geohash</th>\n",
       "      <th>primary_cuisine</th>\n",
       "    </tr>\n",
       "  </thead>\n",
       "  <tbody>\n",
       "    <tr>\n",
       "      <th>0</th>\n",
       "      <td>0</td>\n",
       "      <td>b160c319</td>\n",
       "      <td>d2786168</td>\n",
       "      <td>w21z6</td>\n",
       "      <td>mexican</td>\n",
       "    </tr>\n",
       "    <tr>\n",
       "      <th>1</th>\n",
       "      <td>1</td>\n",
       "      <td>9c8f010e</td>\n",
       "      <td>d2786168</td>\n",
       "      <td>w21ze</td>\n",
       "      <td>mexican</td>\n",
       "    </tr>\n",
       "    <tr>\n",
       "      <th>2</th>\n",
       "      <td>4</td>\n",
       "      <td>03eb25e1</td>\n",
       "      <td>5055ab25</td>\n",
       "      <td>w21ze</td>\n",
       "      <td>bak kut teh</td>\n",
       "    </tr>\n",
       "    <tr>\n",
       "      <th>3</th>\n",
       "      <td>5</td>\n",
       "      <td>3613129a</td>\n",
       "      <td>8984acb6</td>\n",
       "      <td>w23b1</td>\n",
       "      <td>italian</td>\n",
       "    </tr>\n",
       "    <tr>\n",
       "      <th>4</th>\n",
       "      <td>7</td>\n",
       "      <td>0946c9e5</td>\n",
       "      <td>1e3a2913</td>\n",
       "      <td>w21z4</td>\n",
       "      <td>bak kut teh</td>\n",
       "    </tr>\n",
       "  </tbody>\n",
       "</table>\n",
       "</div>"
      ],
      "text/plain": [
       "   Unnamed: 0 vendor_id  chain_id geohash primary_cuisine\n",
       "0           0  b160c319  d2786168   w21z6         mexican\n",
       "1           1  9c8f010e  d2786168   w21ze         mexican\n",
       "2           4  03eb25e1  5055ab25   w21ze     bak kut teh\n",
       "3           5  3613129a  8984acb6   w23b1         italian\n",
       "4           7  0946c9e5  1e3a2913   w21z4     bak kut teh"
      ]
     },
     "execution_count": 17,
     "metadata": {},
     "output_type": "execute_result"
    }
   ],
   "source": [
    "df2 = pd.read_csv(\"vendors_sg.txt\")\n",
    "\n",
    "df2.head()"
   ]
  },
  {
   "cell_type": "code",
   "execution_count": null,
   "id": "b411a85e-884d-4a40-97cb-d83e7eb16c69",
   "metadata": {},
   "outputs": [],
   "source": []
  }
 ],
 "metadata": {
  "kernelspec": {
   "display_name": "Python 3 (ipykernel)",
   "language": "python",
   "name": "python3"
  },
  "language_info": {
   "codemirror_mode": {
    "name": "ipython",
    "version": 3
   },
   "file_extension": ".py",
   "mimetype": "text/x-python",
   "name": "python",
   "nbconvert_exporter": "python",
   "pygments_lexer": "ipython3",
   "version": "3.10.6"
  }
 },
 "nbformat": 4,
 "nbformat_minor": 5
}
