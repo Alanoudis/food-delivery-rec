{
 "cells": [
  {
   "cell_type": "markdown",
   "id": "f6c890e7-d325-4333-a0fc-0baca712db0a",
   "metadata": {
    "execution": {
     "iopub.execute_input": "2025-10-21T11:28:45.103526Z",
     "iopub.status.busy": "2025-10-21T11:28:45.071556Z",
     "iopub.status.idle": "2025-10-21T11:28:45.285936Z",
     "shell.execute_reply": "2025-10-21T11:28:45.278811Z",
     "shell.execute_reply.started": "2025-10-21T11:28:45.101301Z"
    }
   },
   "source": [
    "## Food Recommender System"
   ]
  },
  {
   "cell_type": "code",
   "execution_count": 1,
   "id": "32e6a0c3-df7b-4720-83ec-eb0de2f726c5",
   "metadata": {
    "execution": {
     "iopub.execute_input": "2025-10-26T07:14:16.090209Z",
     "iopub.status.busy": "2025-10-26T07:14:16.049205Z",
     "iopub.status.idle": "2025-10-26T07:14:16.668264Z",
     "shell.execute_reply": "2025-10-26T07:14:16.653877Z",
     "shell.execute_reply.started": "2025-10-26T07:14:16.087802Z"
    }
   },
   "outputs": [
    {
     "name": "stdout",
     "output_type": "stream",
     "text": [
      "/home/afnan/code/Alanoudis/food-delivery-rec/notebooks/afnan\n"
     ]
    }
   ],
   "source": [
    "!pwd"
   ]
  },
  {
   "cell_type": "code",
   "execution_count": 2,
   "id": "3e522cc6-4ee2-482c-87bc-7352cc5fc22f",
   "metadata": {
    "execution": {
     "iopub.execute_input": "2025-10-26T07:14:17.148864Z",
     "iopub.status.busy": "2025-10-26T07:14:17.148238Z",
     "iopub.status.idle": "2025-10-26T07:14:19.186436Z",
     "shell.execute_reply": "2025-10-26T07:14:19.184115Z",
     "shell.execute_reply.started": "2025-10-26T07:14:17.148814Z"
    }
   },
   "outputs": [],
   "source": [
    "import pandas as pd\n",
    "pd.set_option('display.max_rows',None)"
   ]
  },
  {
   "cell_type": "code",
   "execution_count": null,
   "id": "5db1b8fd-526c-473c-87b7-2a6670e433eb",
   "metadata": {
    "execution": {
     "iopub.execute_input": "2025-10-26T07:14:19.189294Z",
     "iopub.status.busy": "2025-10-26T07:14:19.188593Z",
     "iopub.status.idle": "2025-10-26T07:14:19.267690Z",
     "shell.execute_reply": "2025-10-26T07:14:19.265295Z",
     "shell.execute_reply.started": "2025-10-26T07:14:19.189243Z"
    }
   },
   "outputs": [
    {
     "data": {
      "text/html": [
       "<div>\n",
       "<style scoped>\n",
       "    .dataframe tbody tr th:only-of-type {\n",
       "        vertical-align: middle;\n",
       "    }\n",
       "\n",
       "    .dataframe tbody tr th {\n",
       "        vertical-align: top;\n",
       "    }\n",
       "\n",
       "    .dataframe thead th {\n",
       "        text-align: right;\n",
       "    }\n",
       "</style>\n",
       "<table border=\"1\" class=\"dataframe\">\n",
       "  <thead>\n",
       "    <tr style=\"text-align: right;\">\n",
       "      <th></th>\n",
       "      <th>Unnamed: 0</th>\n",
       "      <th>customer_id</th>\n",
       "      <th>geohash</th>\n",
       "      <th>order_id</th>\n",
       "      <th>vendor_id</th>\n",
       "      <th>product_id</th>\n",
       "      <th>day_of_week</th>\n",
       "      <th>order_time</th>\n",
       "      <th>order_day</th>\n",
       "    </tr>\n",
       "  </thead>\n",
       "  <tbody>\n",
       "    <tr>\n",
       "      <th>0</th>\n",
       "      <td>0</td>\n",
       "      <td>1ba124d4e5</td>\n",
       "      <td>w21z7</td>\n",
       "      <td>0</td>\n",
       "      <td>212753d2</td>\n",
       "      <td>783e85338f1c</td>\n",
       "      <td>0</td>\n",
       "      <td>12:03:29</td>\n",
       "      <td>85 days</td>\n",
       "    </tr>\n",
       "    <tr>\n",
       "      <th>1</th>\n",
       "      <td>1</td>\n",
       "      <td>1ba124d4e5</td>\n",
       "      <td>w21z7</td>\n",
       "      <td>0</td>\n",
       "      <td>212753d2</td>\n",
       "      <td>084ab73246e6</td>\n",
       "      <td>0</td>\n",
       "      <td>12:03:29</td>\n",
       "      <td>85 days</td>\n",
       "    </tr>\n",
       "    <tr>\n",
       "      <th>2</th>\n",
       "      <td>2</td>\n",
       "      <td>1ba124d4e5</td>\n",
       "      <td>w21z7</td>\n",
       "      <td>0</td>\n",
       "      <td>212753d2</td>\n",
       "      <td>30eba3cc2676</td>\n",
       "      <td>0</td>\n",
       "      <td>12:03:29</td>\n",
       "      <td>85 days</td>\n",
       "    </tr>\n",
       "    <tr>\n",
       "      <th>3</th>\n",
       "      <td>3</td>\n",
       "      <td>1ba124d4e5</td>\n",
       "      <td>w21z7</td>\n",
       "      <td>0</td>\n",
       "      <td>212753d2</td>\n",
       "      <td>3910309eea60</td>\n",
       "      <td>0</td>\n",
       "      <td>12:03:29</td>\n",
       "      <td>85 days</td>\n",
       "    </tr>\n",
       "    <tr>\n",
       "      <th>4</th>\n",
       "      <td>4</td>\n",
       "      <td>1ba124d4e5</td>\n",
       "      <td>w21z7</td>\n",
       "      <td>0</td>\n",
       "      <td>212753d2</td>\n",
       "      <td>20049fb602cb</td>\n",
       "      <td>0</td>\n",
       "      <td>12:03:29</td>\n",
       "      <td>85 days</td>\n",
       "    </tr>\n",
       "  </tbody>\n",
       "</table>\n",
       "</div>"
      ],
      "text/plain": [
       "   Unnamed: 0 customer_id geohash  order_id vendor_id    product_id  \\\n",
       "0           0  1ba124d4e5   w21z7         0  212753d2  783e85338f1c   \n",
       "1           1  1ba124d4e5   w21z7         0  212753d2  084ab73246e6   \n",
       "2           2  1ba124d4e5   w21z7         0  212753d2  30eba3cc2676   \n",
       "3           3  1ba124d4e5   w21z7         0  212753d2  3910309eea60   \n",
       "4           4  1ba124d4e5   w21z7         0  212753d2  20049fb602cb   \n",
       "\n",
       "   day_of_week order_time order_day  \n",
       "0            0   12:03:29   85 days  \n",
       "1            0   12:03:29   85 days  \n",
       "2            0   12:03:29   85 days  \n",
       "3            0   12:03:29   85 days  \n",
       "4            0   12:03:29   85 days  "
      ]
     },
     "execution_count": 3,
     "metadata": {},
     "output_type": "execute_result"
    }
   ],
   "source": [
    "file_path = \"../../data/updated_data/orders_sg10k.txt\"\n",
    "orders = pd.read_csv(file_path)\n",
    "orders.head()"
   ]
  },
  {
   "cell_type": "code",
   "execution_count": 4,
   "id": "ab21291b-56f5-4ccd-9504-98a1edf8916f",
   "metadata": {
    "execution": {
     "iopub.execute_input": "2025-10-26T07:14:19.270829Z",
     "iopub.status.busy": "2025-10-26T07:14:19.270038Z",
     "iopub.status.idle": "2025-10-26T07:14:19.282767Z",
     "shell.execute_reply": "2025-10-26T07:14:19.279857Z",
     "shell.execute_reply.started": "2025-10-26T07:14:19.270769Z"
    }
   },
   "outputs": [
    {
     "data": {
      "text/plain": [
       "(10001, 9)"
      ]
     },
     "execution_count": 4,
     "metadata": {},
     "output_type": "execute_result"
    }
   ],
   "source": [
    "orders.shape"
   ]
  },
  {
   "cell_type": "markdown",
   "id": "d0b3a93d-024e-4711-8180-543632796170",
   "metadata": {},
   "source": [
    "## Clean the Data\n",
    "### Remove Unnecessary Columns"
   ]
  },
  {
   "cell_type": "code",
   "execution_count": 5,
   "id": "9d3044f0-e253-458d-96e5-81bcea594d27",
   "metadata": {
    "execution": {
     "iopub.execute_input": "2025-10-26T07:14:20.718274Z",
     "iopub.status.busy": "2025-10-26T07:14:20.717642Z",
     "iopub.status.idle": "2025-10-26T07:14:20.735461Z",
     "shell.execute_reply": "2025-10-26T07:14:20.731297Z",
     "shell.execute_reply.started": "2025-10-26T07:14:20.718224Z"
    }
   },
   "outputs": [],
   "source": [
    "orders.drop(columns=['Unnamed: 0'], inplace=True)"
   ]
  },
  {
   "cell_type": "code",
   "execution_count": 6,
   "id": "089388b5-a67e-477e-a185-66f684d629f5",
   "metadata": {
    "execution": {
     "iopub.execute_input": "2025-10-26T07:14:21.314619Z",
     "iopub.status.busy": "2025-10-26T07:14:21.314240Z",
     "iopub.status.idle": "2025-10-26T07:14:21.340090Z",
     "shell.execute_reply": "2025-10-26T07:14:21.335259Z",
     "shell.execute_reply.started": "2025-10-26T07:14:21.314584Z"
    }
   },
   "outputs": [
    {
     "data": {
      "text/html": [
       "<div>\n",
       "<style scoped>\n",
       "    .dataframe tbody tr th:only-of-type {\n",
       "        vertical-align: middle;\n",
       "    }\n",
       "\n",
       "    .dataframe tbody tr th {\n",
       "        vertical-align: top;\n",
       "    }\n",
       "\n",
       "    .dataframe thead th {\n",
       "        text-align: right;\n",
       "    }\n",
       "</style>\n",
       "<table border=\"1\" class=\"dataframe\">\n",
       "  <thead>\n",
       "    <tr style=\"text-align: right;\">\n",
       "      <th></th>\n",
       "      <th>customer_id</th>\n",
       "      <th>geohash</th>\n",
       "      <th>order_id</th>\n",
       "      <th>vendor_id</th>\n",
       "      <th>product_id</th>\n",
       "      <th>day_of_week</th>\n",
       "      <th>order_time</th>\n",
       "      <th>order_day</th>\n",
       "    </tr>\n",
       "  </thead>\n",
       "  <tbody>\n",
       "    <tr>\n",
       "      <th>0</th>\n",
       "      <td>1ba124d4e5</td>\n",
       "      <td>w21z7</td>\n",
       "      <td>0</td>\n",
       "      <td>212753d2</td>\n",
       "      <td>783e85338f1c</td>\n",
       "      <td>0</td>\n",
       "      <td>12:03:29</td>\n",
       "      <td>85 days</td>\n",
       "    </tr>\n",
       "    <tr>\n",
       "      <th>1</th>\n",
       "      <td>1ba124d4e5</td>\n",
       "      <td>w21z7</td>\n",
       "      <td>0</td>\n",
       "      <td>212753d2</td>\n",
       "      <td>084ab73246e6</td>\n",
       "      <td>0</td>\n",
       "      <td>12:03:29</td>\n",
       "      <td>85 days</td>\n",
       "    </tr>\n",
       "    <tr>\n",
       "      <th>2</th>\n",
       "      <td>1ba124d4e5</td>\n",
       "      <td>w21z7</td>\n",
       "      <td>0</td>\n",
       "      <td>212753d2</td>\n",
       "      <td>30eba3cc2676</td>\n",
       "      <td>0</td>\n",
       "      <td>12:03:29</td>\n",
       "      <td>85 days</td>\n",
       "    </tr>\n",
       "  </tbody>\n",
       "</table>\n",
       "</div>"
      ],
      "text/plain": [
       "  customer_id geohash  order_id vendor_id    product_id  day_of_week  \\\n",
       "0  1ba124d4e5   w21z7         0  212753d2  783e85338f1c            0   \n",
       "1  1ba124d4e5   w21z7         0  212753d2  084ab73246e6            0   \n",
       "2  1ba124d4e5   w21z7         0  212753d2  30eba3cc2676            0   \n",
       "\n",
       "  order_time order_day  \n",
       "0   12:03:29   85 days  \n",
       "1   12:03:29   85 days  \n",
       "2   12:03:29   85 days  "
      ]
     },
     "execution_count": 6,
     "metadata": {},
     "output_type": "execute_result"
    }
   ],
   "source": [
    "orders.head(3)"
   ]
  },
  {
   "cell_type": "code",
   "execution_count": null,
   "id": "f9de9c82-358e-4732-8fc6-3f3174107695",
   "metadata": {
    "execution": {
     "iopub.execute_input": "2025-10-26T07:14:22.311178Z",
     "iopub.status.busy": "2025-10-26T07:14:22.310756Z",
     "iopub.status.idle": "2025-10-26T07:14:24.246047Z",
     "shell.execute_reply": "2025-10-26T07:14:24.243385Z",
     "shell.execute_reply.started": "2025-10-26T07:14:22.311137Z"
    }
   },
   "outputs": [
    {
     "data": {
      "text/html": [
       "<div>\n",
       "<style scoped>\n",
       "    .dataframe tbody tr th:only-of-type {\n",
       "        vertical-align: middle;\n",
       "    }\n",
       "\n",
       "    .dataframe tbody tr th {\n",
       "        vertical-align: top;\n",
       "    }\n",
       "\n",
       "    .dataframe thead th {\n",
       "        text-align: right;\n",
       "    }\n",
       "</style>\n",
       "<table border=\"1\" class=\"dataframe\">\n",
       "  <thead>\n",
       "    <tr style=\"text-align: right;\">\n",
       "      <th></th>\n",
       "      <th>Unnamed: 0</th>\n",
       "      <th>vendor_id</th>\n",
       "      <th>product_id</th>\n",
       "      <th>name</th>\n",
       "      <th>unit_price</th>\n",
       "    </tr>\n",
       "  </thead>\n",
       "  <tbody>\n",
       "    <tr>\n",
       "      <th>0</th>\n",
       "      <td>0</td>\n",
       "      <td>15bbf316</td>\n",
       "      <td>59099e089514</td>\n",
       "      <td>Meat &amp; Seafood Combo 海鲜套餐</td>\n",
       "      <td>0.0036</td>\n",
       "    </tr>\n",
       "    <tr>\n",
       "      <th>1</th>\n",
       "      <td>1</td>\n",
       "      <td>e7b24dc0</td>\n",
       "      <td>52e1017fdbd9</td>\n",
       "      <td>Sausage Egg McMuffin® Meal</td>\n",
       "      <td>0.0024</td>\n",
       "    </tr>\n",
       "    <tr>\n",
       "      <th>2</th>\n",
       "      <td>2</td>\n",
       "      <td>e7b24dc0</td>\n",
       "      <td>fcb7110cd932</td>\n",
       "      <td>Scrambled Egg Burger w Chicken Meal</td>\n",
       "      <td>0.0024</td>\n",
       "    </tr>\n",
       "    <tr>\n",
       "      <th>3</th>\n",
       "      <td>3</td>\n",
       "      <td>7112a20b</td>\n",
       "      <td>d3e7708c2bc9</td>\n",
       "      <td>Maguro Sushi</td>\n",
       "      <td>0.0012</td>\n",
       "    </tr>\n",
       "    <tr>\n",
       "      <th>4</th>\n",
       "      <td>4</td>\n",
       "      <td>6137ef21</td>\n",
       "      <td>bf0d5ac0e03c</td>\n",
       "      <td>Family Meal - Prosp Chic TwLEVMx2 + ChBurgerHM</td>\n",
       "      <td>0.0100</td>\n",
       "    </tr>\n",
       "  </tbody>\n",
       "</table>\n",
       "</div>"
      ],
      "text/plain": [
       "   Unnamed: 0 vendor_id    product_id  \\\n",
       "0           0  15bbf316  59099e089514   \n",
       "1           1  e7b24dc0  52e1017fdbd9   \n",
       "2           2  e7b24dc0  fcb7110cd932   \n",
       "3           3  7112a20b  d3e7708c2bc9   \n",
       "4           4  6137ef21  bf0d5ac0e03c   \n",
       "\n",
       "                                             name  unit_price  \n",
       "0                       Meat & Seafood Combo 海鲜套餐      0.0036  \n",
       "1                      Sausage Egg McMuffin® Meal      0.0024  \n",
       "2             Scrambled Egg Burger w Chicken Meal      0.0024  \n",
       "3                                    Maguro Sushi      0.0012  \n",
       "4  Family Meal - Prosp Chic TwLEVMx2 + ChBurgerHM      0.0100  "
      ]
     },
     "execution_count": 7,
     "metadata": {},
     "output_type": "execute_result"
    }
   ],
   "source": [
    "\n",
    "file_path2 = \"../../data/raw_data/products_sg.txt\"\n",
    "products = pd.read_csv(file_path2)\n",
    "\n",
    "products.head()"
   ]
  },
  {
   "cell_type": "code",
   "execution_count": 8,
   "id": "afecf54c-9b72-4602-b1ec-c7b5cfe6324b",
   "metadata": {
    "execution": {
     "iopub.execute_input": "2025-10-26T07:14:24.247320Z",
     "iopub.status.busy": "2025-10-26T07:14:24.246878Z",
     "iopub.status.idle": "2025-10-26T07:14:24.323521Z",
     "shell.execute_reply": "2025-10-26T07:14:24.321651Z",
     "shell.execute_reply.started": "2025-10-26T07:14:24.247264Z"
    }
   },
   "outputs": [],
   "source": [
    "products.drop(columns=['Unnamed: 0'], inplace=True)"
   ]
  },
  {
   "cell_type": "code",
   "execution_count": 9,
   "id": "ed5499e1-8e26-4c63-8a0d-478033f8fb99",
   "metadata": {
    "execution": {
     "iopub.execute_input": "2025-10-26T07:14:24.325045Z",
     "iopub.status.busy": "2025-10-26T07:14:24.324723Z",
     "iopub.status.idle": "2025-10-26T07:14:24.342252Z",
     "shell.execute_reply": "2025-10-26T07:14:24.339627Z",
     "shell.execute_reply.started": "2025-10-26T07:14:24.325015Z"
    }
   },
   "outputs": [
    {
     "data": {
      "text/html": [
       "<div>\n",
       "<style scoped>\n",
       "    .dataframe tbody tr th:only-of-type {\n",
       "        vertical-align: middle;\n",
       "    }\n",
       "\n",
       "    .dataframe tbody tr th {\n",
       "        vertical-align: top;\n",
       "    }\n",
       "\n",
       "    .dataframe thead th {\n",
       "        text-align: right;\n",
       "    }\n",
       "</style>\n",
       "<table border=\"1\" class=\"dataframe\">\n",
       "  <thead>\n",
       "    <tr style=\"text-align: right;\">\n",
       "      <th></th>\n",
       "      <th>vendor_id</th>\n",
       "      <th>product_id</th>\n",
       "      <th>name</th>\n",
       "      <th>unit_price</th>\n",
       "    </tr>\n",
       "  </thead>\n",
       "  <tbody>\n",
       "    <tr>\n",
       "      <th>0</th>\n",
       "      <td>15bbf316</td>\n",
       "      <td>59099e089514</td>\n",
       "      <td>Meat &amp; Seafood Combo 海鲜套餐</td>\n",
       "      <td>0.0036</td>\n",
       "    </tr>\n",
       "    <tr>\n",
       "      <th>1</th>\n",
       "      <td>e7b24dc0</td>\n",
       "      <td>52e1017fdbd9</td>\n",
       "      <td>Sausage Egg McMuffin® Meal</td>\n",
       "      <td>0.0024</td>\n",
       "    </tr>\n",
       "    <tr>\n",
       "      <th>2</th>\n",
       "      <td>e7b24dc0</td>\n",
       "      <td>fcb7110cd932</td>\n",
       "      <td>Scrambled Egg Burger w Chicken Meal</td>\n",
       "      <td>0.0024</td>\n",
       "    </tr>\n",
       "  </tbody>\n",
       "</table>\n",
       "</div>"
      ],
      "text/plain": [
       "  vendor_id    product_id                                 name  unit_price\n",
       "0  15bbf316  59099e089514            Meat & Seafood Combo 海鲜套餐      0.0036\n",
       "1  e7b24dc0  52e1017fdbd9           Sausage Egg McMuffin® Meal      0.0024\n",
       "2  e7b24dc0  fcb7110cd932  Scrambled Egg Burger w Chicken Meal      0.0024"
      ]
     },
     "execution_count": 9,
     "metadata": {},
     "output_type": "execute_result"
    }
   ],
   "source": [
    "products.head(3)"
   ]
  },
  {
   "cell_type": "code",
   "execution_count": 10,
   "id": "83295953-4cba-4966-abc2-3e42ac8a48ea",
   "metadata": {
    "execution": {
     "iopub.execute_input": "2025-10-26T07:14:24.343548Z",
     "iopub.status.busy": "2025-10-26T07:14:24.343283Z",
     "iopub.status.idle": "2025-10-26T07:14:24.374934Z",
     "shell.execute_reply": "2025-10-26T07:14:24.373095Z",
     "shell.execute_reply.started": "2025-10-26T07:14:24.343521Z"
    }
   },
   "outputs": [
    {
     "data": {
      "text/html": [
       "<div>\n",
       "<style scoped>\n",
       "    .dataframe tbody tr th:only-of-type {\n",
       "        vertical-align: middle;\n",
       "    }\n",
       "\n",
       "    .dataframe tbody tr th {\n",
       "        vertical-align: top;\n",
       "    }\n",
       "\n",
       "    .dataframe thead th {\n",
       "        text-align: right;\n",
       "    }\n",
       "</style>\n",
       "<table border=\"1\" class=\"dataframe\">\n",
       "  <thead>\n",
       "    <tr style=\"text-align: right;\">\n",
       "      <th></th>\n",
       "      <th>Unnamed: 0</th>\n",
       "      <th>vendor_id</th>\n",
       "      <th>chain_id</th>\n",
       "      <th>geohash</th>\n",
       "      <th>primary_cuisine</th>\n",
       "    </tr>\n",
       "  </thead>\n",
       "  <tbody>\n",
       "    <tr>\n",
       "      <th>0</th>\n",
       "      <td>0</td>\n",
       "      <td>b160c319</td>\n",
       "      <td>d2786168</td>\n",
       "      <td>w21z6</td>\n",
       "      <td>mexican</td>\n",
       "    </tr>\n",
       "    <tr>\n",
       "      <th>1</th>\n",
       "      <td>1</td>\n",
       "      <td>9c8f010e</td>\n",
       "      <td>d2786168</td>\n",
       "      <td>w21ze</td>\n",
       "      <td>mexican</td>\n",
       "    </tr>\n",
       "    <tr>\n",
       "      <th>2</th>\n",
       "      <td>4</td>\n",
       "      <td>03eb25e1</td>\n",
       "      <td>5055ab25</td>\n",
       "      <td>w21ze</td>\n",
       "      <td>bak kut teh</td>\n",
       "    </tr>\n",
       "    <tr>\n",
       "      <th>3</th>\n",
       "      <td>5</td>\n",
       "      <td>3613129a</td>\n",
       "      <td>8984acb6</td>\n",
       "      <td>w23b1</td>\n",
       "      <td>italian</td>\n",
       "    </tr>\n",
       "    <tr>\n",
       "      <th>4</th>\n",
       "      <td>7</td>\n",
       "      <td>0946c9e5</td>\n",
       "      <td>1e3a2913</td>\n",
       "      <td>w21z4</td>\n",
       "      <td>bak kut teh</td>\n",
       "    </tr>\n",
       "  </tbody>\n",
       "</table>\n",
       "</div>"
      ],
      "text/plain": [
       "   Unnamed: 0 vendor_id  chain_id geohash primary_cuisine\n",
       "0           0  b160c319  d2786168   w21z6         mexican\n",
       "1           1  9c8f010e  d2786168   w21ze         mexican\n",
       "2           4  03eb25e1  5055ab25   w21ze     bak kut teh\n",
       "3           5  3613129a  8984acb6   w23b1         italian\n",
       "4           7  0946c9e5  1e3a2913   w21z4     bak kut teh"
      ]
     },
     "execution_count": 10,
     "metadata": {},
     "output_type": "execute_result"
    }
   ],
   "source": [
    "\n",
    "file_path3 = \"../../data/raw_data/vendors_sg.txt\"\n",
    "vendors = pd.read_csv(file_path3)\n",
    "\n",
    "vendors.head()"
   ]
  },
  {
   "cell_type": "code",
   "execution_count": 11,
   "id": "e75b43bf-d79d-4361-bb1e-08455342bf33",
   "metadata": {
    "execution": {
     "iopub.execute_input": "2025-10-26T07:14:24.376027Z",
     "iopub.status.busy": "2025-10-26T07:14:24.375747Z",
     "iopub.status.idle": "2025-10-26T07:14:24.384755Z",
     "shell.execute_reply": "2025-10-26T07:14:24.380807Z",
     "shell.execute_reply.started": "2025-10-26T07:14:24.376002Z"
    }
   },
   "outputs": [],
   "source": [
    "vendors.drop(columns=['Unnamed: 0'], inplace=True)"
   ]
  },
  {
   "cell_type": "code",
   "execution_count": 12,
   "id": "ac7ad3aa-688c-4fcd-a630-e5461e313313",
   "metadata": {
    "execution": {
     "iopub.execute_input": "2025-10-26T07:14:24.811403Z",
     "iopub.status.busy": "2025-10-26T07:14:24.811051Z",
     "iopub.status.idle": "2025-10-26T07:14:24.826470Z",
     "shell.execute_reply": "2025-10-26T07:14:24.823751Z",
     "shell.execute_reply.started": "2025-10-26T07:14:24.811374Z"
    }
   },
   "outputs": [
    {
     "data": {
      "text/html": [
       "<div>\n",
       "<style scoped>\n",
       "    .dataframe tbody tr th:only-of-type {\n",
       "        vertical-align: middle;\n",
       "    }\n",
       "\n",
       "    .dataframe tbody tr th {\n",
       "        vertical-align: top;\n",
       "    }\n",
       "\n",
       "    .dataframe thead th {\n",
       "        text-align: right;\n",
       "    }\n",
       "</style>\n",
       "<table border=\"1\" class=\"dataframe\">\n",
       "  <thead>\n",
       "    <tr style=\"text-align: right;\">\n",
       "      <th></th>\n",
       "      <th>vendor_id</th>\n",
       "      <th>chain_id</th>\n",
       "      <th>geohash</th>\n",
       "      <th>primary_cuisine</th>\n",
       "    </tr>\n",
       "  </thead>\n",
       "  <tbody>\n",
       "    <tr>\n",
       "      <th>0</th>\n",
       "      <td>b160c319</td>\n",
       "      <td>d2786168</td>\n",
       "      <td>w21z6</td>\n",
       "      <td>mexican</td>\n",
       "    </tr>\n",
       "    <tr>\n",
       "      <th>1</th>\n",
       "      <td>9c8f010e</td>\n",
       "      <td>d2786168</td>\n",
       "      <td>w21ze</td>\n",
       "      <td>mexican</td>\n",
       "    </tr>\n",
       "    <tr>\n",
       "      <th>2</th>\n",
       "      <td>03eb25e1</td>\n",
       "      <td>5055ab25</td>\n",
       "      <td>w21ze</td>\n",
       "      <td>bak kut teh</td>\n",
       "    </tr>\n",
       "  </tbody>\n",
       "</table>\n",
       "</div>"
      ],
      "text/plain": [
       "  vendor_id  chain_id geohash primary_cuisine\n",
       "0  b160c319  d2786168   w21z6         mexican\n",
       "1  9c8f010e  d2786168   w21ze         mexican\n",
       "2  03eb25e1  5055ab25   w21ze     bak kut teh"
      ]
     },
     "execution_count": 12,
     "metadata": {},
     "output_type": "execute_result"
    }
   ],
   "source": [
    "vendors.head(3)"
   ]
  },
  {
   "cell_type": "code",
   "execution_count": 13,
   "id": "f1c2ac33-5dae-4357-8035-cceb213f860e",
   "metadata": {
    "execution": {
     "iopub.execute_input": "2025-10-26T07:14:25.217032Z",
     "iopub.status.busy": "2025-10-26T07:14:25.216339Z",
     "iopub.status.idle": "2025-10-26T07:14:25.953720Z",
     "shell.execute_reply": "2025-10-26T07:14:25.951199Z",
     "shell.execute_reply.started": "2025-10-26T07:14:25.216973Z"
    }
   },
   "outputs": [
    {
     "data": {
      "text/html": [
       "<div>\n",
       "<style scoped>\n",
       "    .dataframe tbody tr th:only-of-type {\n",
       "        vertical-align: middle;\n",
       "    }\n",
       "\n",
       "    .dataframe tbody tr th {\n",
       "        vertical-align: top;\n",
       "    }\n",
       "\n",
       "    .dataframe thead th {\n",
       "        text-align: right;\n",
       "    }\n",
       "</style>\n",
       "<table border=\"1\" class=\"dataframe\">\n",
       "  <thead>\n",
       "    <tr style=\"text-align: right;\">\n",
       "      <th></th>\n",
       "      <th>customer_id</th>\n",
       "      <th>geohash_x</th>\n",
       "      <th>order_id</th>\n",
       "      <th>vendor_id</th>\n",
       "      <th>product_id</th>\n",
       "      <th>day_of_week</th>\n",
       "      <th>order_time</th>\n",
       "      <th>order_day</th>\n",
       "      <th>name</th>\n",
       "      <th>unit_price</th>\n",
       "      <th>chain_id</th>\n",
       "      <th>geohash_y</th>\n",
       "      <th>primary_cuisine</th>\n",
       "    </tr>\n",
       "  </thead>\n",
       "  <tbody>\n",
       "    <tr>\n",
       "      <th>0</th>\n",
       "      <td>1ba124d4e5</td>\n",
       "      <td>w21z7</td>\n",
       "      <td>0</td>\n",
       "      <td>212753d2</td>\n",
       "      <td>783e85338f1c</td>\n",
       "      <td>0</td>\n",
       "      <td>12:03:29</td>\n",
       "      <td>85 days</td>\n",
       "      <td>201. Japanese Garlic Karaage Don</td>\n",
       "      <td>0.0060</td>\n",
       "      <td>66c9978d</td>\n",
       "      <td>w21z7</td>\n",
       "      <td>ramen</td>\n",
       "    </tr>\n",
       "    <tr>\n",
       "      <th>1</th>\n",
       "      <td>1ba124d4e5</td>\n",
       "      <td>w21z7</td>\n",
       "      <td>0</td>\n",
       "      <td>212753d2</td>\n",
       "      <td>084ab73246e6</td>\n",
       "      <td>0</td>\n",
       "      <td>12:03:29</td>\n",
       "      <td>85 days</td>\n",
       "      <td>204. Chicken Cutlet Don</td>\n",
       "      <td>0.0068</td>\n",
       "      <td>66c9978d</td>\n",
       "      <td>w21z7</td>\n",
       "      <td>ramen</td>\n",
       "    </tr>\n",
       "    <tr>\n",
       "      <th>2</th>\n",
       "      <td>1ba124d4e5</td>\n",
       "      <td>w21z7</td>\n",
       "      <td>0</td>\n",
       "      <td>212753d2</td>\n",
       "      <td>30eba3cc2676</td>\n",
       "      <td>0</td>\n",
       "      <td>12:03:29</td>\n",
       "      <td>85 days</td>\n",
       "      <td>206. Beef Sukiyaki Don</td>\n",
       "      <td>0.0068</td>\n",
       "      <td>66c9978d</td>\n",
       "      <td>w21z7</td>\n",
       "      <td>ramen</td>\n",
       "    </tr>\n",
       "    <tr>\n",
       "      <th>3</th>\n",
       "      <td>1ba124d4e5</td>\n",
       "      <td>w21z7</td>\n",
       "      <td>0</td>\n",
       "      <td>212753d2</td>\n",
       "      <td>3910309eea60</td>\n",
       "      <td>0</td>\n",
       "      <td>12:03:29</td>\n",
       "      <td>85 days</td>\n",
       "      <td>209. Japanese Beef Yakiniku Don</td>\n",
       "      <td>0.0068</td>\n",
       "      <td>66c9978d</td>\n",
       "      <td>w21z7</td>\n",
       "      <td>ramen</td>\n",
       "    </tr>\n",
       "    <tr>\n",
       "      <th>4</th>\n",
       "      <td>1ba124d4e5</td>\n",
       "      <td>w21z7</td>\n",
       "      <td>0</td>\n",
       "      <td>212753d2</td>\n",
       "      <td>20049fb602cb</td>\n",
       "      <td>0</td>\n",
       "      <td>12:03:29</td>\n",
       "      <td>85 days</td>\n",
       "      <td>210. Teriyaki Salmon Don</td>\n",
       "      <td>0.0080</td>\n",
       "      <td>66c9978d</td>\n",
       "      <td>w21z7</td>\n",
       "      <td>ramen</td>\n",
       "    </tr>\n",
       "  </tbody>\n",
       "</table>\n",
       "</div>"
      ],
      "text/plain": [
       "  customer_id geohash_x  order_id vendor_id    product_id  day_of_week  \\\n",
       "0  1ba124d4e5     w21z7         0  212753d2  783e85338f1c            0   \n",
       "1  1ba124d4e5     w21z7         0  212753d2  084ab73246e6            0   \n",
       "2  1ba124d4e5     w21z7         0  212753d2  30eba3cc2676            0   \n",
       "3  1ba124d4e5     w21z7         0  212753d2  3910309eea60            0   \n",
       "4  1ba124d4e5     w21z7         0  212753d2  20049fb602cb            0   \n",
       "\n",
       "  order_time order_day                              name  unit_price  \\\n",
       "0   12:03:29   85 days  201. Japanese Garlic Karaage Don      0.0060   \n",
       "1   12:03:29   85 days           204. Chicken Cutlet Don      0.0068   \n",
       "2   12:03:29   85 days            206. Beef Sukiyaki Don      0.0068   \n",
       "3   12:03:29   85 days   209. Japanese Beef Yakiniku Don      0.0068   \n",
       "4   12:03:29   85 days          210. Teriyaki Salmon Don      0.0080   \n",
       "\n",
       "   chain_id geohash_y primary_cuisine  \n",
       "0  66c9978d     w21z7           ramen  \n",
       "1  66c9978d     w21z7           ramen  \n",
       "2  66c9978d     w21z7           ramen  \n",
       "3  66c9978d     w21z7           ramen  \n",
       "4  66c9978d     w21z7           ramen  "
      ]
     },
     "execution_count": 13,
     "metadata": {},
     "output_type": "execute_result"
    }
   ],
   "source": [
    "\n",
    "# Step 1: Merge orders with products on vendor_id and product_id\n",
    "orders_products = orders.merge(products, on=['vendor_id', 'product_id'], how='left')\n",
    "\n",
    "# Step 2: Merge the result with vendors on vendor_id\n",
    "full_data = orders_products.merge(vendors, on='vendor_id', how='left')\n",
    "\n",
    "# Preview the final merged dataset\n",
    "full_data.head()"
   ]
  },
  {
   "cell_type": "code",
   "execution_count": 14,
   "id": "a57d21dd-4e1c-4de2-aec7-4bf20325dc90",
   "metadata": {
    "execution": {
     "iopub.execute_input": "2025-10-26T07:14:25.955787Z",
     "iopub.status.busy": "2025-10-26T07:14:25.955126Z",
     "iopub.status.idle": "2025-10-26T07:14:25.986986Z",
     "shell.execute_reply": "2025-10-26T07:14:25.984855Z",
     "shell.execute_reply.started": "2025-10-26T07:14:25.955736Z"
    }
   },
   "outputs": [
    {
     "data": {
      "text/html": [
       "<div>\n",
       "<style scoped>\n",
       "    .dataframe tbody tr th:only-of-type {\n",
       "        vertical-align: middle;\n",
       "    }\n",
       "\n",
       "    .dataframe tbody tr th {\n",
       "        vertical-align: top;\n",
       "    }\n",
       "\n",
       "    .dataframe thead th {\n",
       "        text-align: right;\n",
       "    }\n",
       "</style>\n",
       "<table border=\"1\" class=\"dataframe\">\n",
       "  <thead>\n",
       "    <tr style=\"text-align: right;\">\n",
       "      <th></th>\n",
       "      <th>order_id</th>\n",
       "      <th>day_of_week</th>\n",
       "      <th>unit_price</th>\n",
       "    </tr>\n",
       "  </thead>\n",
       "  <tbody>\n",
       "    <tr>\n",
       "      <th>count</th>\n",
       "      <td>10001.000000</td>\n",
       "      <td>10001.000000</td>\n",
       "      <td>10001.000000</td>\n",
       "    </tr>\n",
       "    <tr>\n",
       "      <th>mean</th>\n",
       "      <td>2419.860114</td>\n",
       "      <td>3.311669</td>\n",
       "      <td>0.003485</td>\n",
       "    </tr>\n",
       "    <tr>\n",
       "      <th>std</th>\n",
       "      <td>1403.026996</td>\n",
       "      <td>2.003286</td>\n",
       "      <td>0.003377</td>\n",
       "    </tr>\n",
       "    <tr>\n",
       "      <th>min</th>\n",
       "      <td>0.000000</td>\n",
       "      <td>0.000000</td>\n",
       "      <td>0.000000</td>\n",
       "    </tr>\n",
       "    <tr>\n",
       "      <th>25%</th>\n",
       "      <td>1222.000000</td>\n",
       "      <td>2.000000</td>\n",
       "      <td>0.001600</td>\n",
       "    </tr>\n",
       "    <tr>\n",
       "      <th>50%</th>\n",
       "      <td>2450.000000</td>\n",
       "      <td>4.000000</td>\n",
       "      <td>0.002800</td>\n",
       "    </tr>\n",
       "    <tr>\n",
       "      <th>75%</th>\n",
       "      <td>3620.000000</td>\n",
       "      <td>5.000000</td>\n",
       "      <td>0.004000</td>\n",
       "    </tr>\n",
       "    <tr>\n",
       "      <th>max</th>\n",
       "      <td>4801.000000</td>\n",
       "      <td>6.000000</td>\n",
       "      <td>0.090800</td>\n",
       "    </tr>\n",
       "  </tbody>\n",
       "</table>\n",
       "</div>"
      ],
      "text/plain": [
       "           order_id   day_of_week    unit_price\n",
       "count  10001.000000  10001.000000  10001.000000\n",
       "mean    2419.860114      3.311669      0.003485\n",
       "std     1403.026996      2.003286      0.003377\n",
       "min        0.000000      0.000000      0.000000\n",
       "25%     1222.000000      2.000000      0.001600\n",
       "50%     2450.000000      4.000000      0.002800\n",
       "75%     3620.000000      5.000000      0.004000\n",
       "max     4801.000000      6.000000      0.090800"
      ]
     },
     "execution_count": 14,
     "metadata": {},
     "output_type": "execute_result"
    }
   ],
   "source": [
    "full_data.describe()"
   ]
  },
  {
   "cell_type": "code",
   "execution_count": 15,
   "id": "65e1f82f-47d2-4705-856c-ae4a9fbf9b5b",
   "metadata": {
    "execution": {
     "iopub.execute_input": "2025-10-26T07:14:26.013917Z",
     "iopub.status.busy": "2025-10-26T07:14:26.013483Z",
     "iopub.status.idle": "2025-10-26T07:14:26.023165Z",
     "shell.execute_reply": "2025-10-26T07:14:26.020356Z",
     "shell.execute_reply.started": "2025-10-26T07:14:26.013873Z"
    }
   },
   "outputs": [
    {
     "data": {
      "text/plain": [
       "(10001, 13)"
      ]
     },
     "execution_count": 15,
     "metadata": {},
     "output_type": "execute_result"
    }
   ],
   "source": [
    "full_data.shape"
   ]
  },
  {
   "cell_type": "markdown",
   "id": "06bee381-a456-4c05-b5ba-86ca93d9c4a9",
   "metadata": {},
   "source": [
    "### 👥 Step 2: Analyze Customer Preferences"
   ]
  },
  {
   "cell_type": "code",
   "execution_count": 16,
   "id": "586036dc-8f74-443d-be09-cb44564558fd",
   "metadata": {
    "execution": {
     "iopub.execute_input": "2025-10-26T07:14:26.855933Z",
     "iopub.status.busy": "2025-10-26T07:14:26.855274Z",
     "iopub.status.idle": "2025-10-26T07:14:26.868749Z",
     "shell.execute_reply": "2025-10-26T07:14:26.866616Z",
     "shell.execute_reply.started": "2025-10-26T07:14:26.855880Z"
    }
   },
   "outputs": [
    {
     "data": {
      "text/plain": [
       "71"
      ]
     },
     "execution_count": 16,
     "metadata": {},
     "output_type": "execute_result"
    }
   ],
   "source": [
    "full_data[\"primary_cuisine\"].nunique()"
   ]
  },
  {
   "cell_type": "code",
   "execution_count": 17,
   "id": "e92ebd8e-383e-46c7-8550-c54b66bae1e5",
   "metadata": {
    "execution": {
     "iopub.execute_input": "2025-10-26T07:14:27.305701Z",
     "iopub.status.busy": "2025-10-26T07:14:27.305215Z",
     "iopub.status.idle": "2025-10-26T07:14:27.318227Z",
     "shell.execute_reply": "2025-10-26T07:14:27.315791Z",
     "shell.execute_reply.started": "2025-10-26T07:14:27.305667Z"
    }
   },
   "outputs": [
    {
     "data": {
      "text/plain": [
       "primary_cuisine\n",
       "chinese                 1126\n",
       "indian                   624\n",
       "dessert                  506\n",
       "noodles                  489\n",
       "bubble tea               442\n",
       "coffee                   420\n",
       "japanese                 389\n",
       "singaporean              347\n",
       "mala xiang guo           343\n",
       "dim sum                  323\n",
       "western                  320\n",
       "soups                    312\n",
       "thai                     308\n",
       "fried chicken            304\n",
       "chicken                  282\n",
       "rice dishes              225\n",
       "pizza                    223\n",
       "chicken rice             201\n",
       "fried rice               173\n",
       "sushi                    171\n",
       "seafood                  159\n",
       "nasi lemak               156\n",
       "burgers                  154\n",
       "american                 149\n",
       "malaysian                147\n",
       "cakes                    139\n",
       "asian                    120\n",
       "sandwiches               107\n",
       "ayam penyet              102\n",
       "ramen                     91\n",
       "korean                    90\n",
       "pasta                     88\n",
       "indonesian                82\n",
       "snacks                    78\n",
       "roti prata                70\n",
       "healthy                   63\n",
       "beverages                 60\n",
       "vietnamese                59\n",
       "vegetarian                59\n",
       "porridge                  55\n",
       "bakery                    54\n",
       "italian                   49\n",
       "curry                     41\n",
       "yong tau foo              39\n",
       "mexican                   33\n",
       "bak kut teh               27\n",
       "grill                     26\n",
       "donut                     24\n",
       "fries                     19\n",
       "international             17\n",
       "hokkien mee               15\n",
       "satay                     13\n",
       "laksa                     13\n",
       "pho                       12\n",
       "pancakes and waffles      12\n",
       "wraps                      7\n",
       "fish soup                  6\n",
       "tea                        6\n",
       "acai bowl                  5\n",
       "kaya toast                 5\n",
       "salads                     4\n",
       "turkish                    3\n",
       "spanish                    3\n",
       "lebanese                   2\n",
       "german                     2\n",
       "fast food                  2\n",
       "mala soups                 2\n",
       "halal                      1\n",
       "greek                      1\n",
       "ban mian                   1\n",
       "french                     1\n",
       "Name: count, dtype: int64"
      ]
     },
     "execution_count": 17,
     "metadata": {},
     "output_type": "execute_result"
    }
   ],
   "source": [
    "# top 20 most popular cuisines\n",
    "full_data[\"primary_cuisine\"].value_counts(dropna=False).head(73)"
   ]
  },
  {
   "cell_type": "code",
   "execution_count": 18,
   "id": "d569c2fb-4c5b-4ce5-9a6c-2a67259c8b08",
   "metadata": {
    "execution": {
     "iopub.execute_input": "2025-10-26T07:14:28.110240Z",
     "iopub.status.busy": "2025-10-26T07:14:28.109686Z",
     "iopub.status.idle": "2025-10-26T07:14:28.122767Z",
     "shell.execute_reply": "2025-10-26T07:14:28.120594Z",
     "shell.execute_reply.started": "2025-10-26T07:14:28.110186Z"
    }
   },
   "outputs": [],
   "source": [
    "global_cuisine_category = {\n",
    "    \"japanese\": \"japanese\",\n",
    "    \"ramen\": \"japanese\",\n",
    "    \"sushi\": \"japanese\",\n",
    "\n",
    "    \" korean\": \" korean\",\n",
    "\n",
    "    \"chinese\": \"chinese\",\n",
    "    \"dim sum\": \"chinese\",\n",
    "    \"bak kut teh\": \"chinese\",\n",
    "    \"mala xiang guo\": \"chinese\",\n",
    "    \"mala soups\": \"chinese\",\n",
    "    \"hokkien mee\": \"chinese\",\n",
    "    \"noodles\": \"chinese\",\n",
    "    \"tea\": \"chinese\",\n",
    "\n",
    "    \"indian\": \"indian\",\n",
    "    \"curry\": \"indian\",\n",
    "\n",
    "    \"thai\": \"thai\",\n",
    "\n",
    "    \"vietnamese\": \"vietnamese\",\n",
    "    \"pho\": \"vietnamese\",\n",
    "\n",
    "    \"singaporean\": \"singaporean\",\n",
    "    \"chicken rice\": \"singaporean\",\n",
    "    \"ban mian\": \"singaporean\",\n",
    "    \"yong tau foo\": \"singaporean\",\n",
    "\n",
    "    \"indonesian\": \"indonesian\",\n",
    "    \"ayam penyet\": \"indonesian\",\n",
    "\n",
    "    \"malaysian\": \"malaysian\",\n",
    "    \"nasi lemak\": \"malaysian\",\n",
    "    \"roti prata\": \"malaysian\",\n",
    "\n",
    "    \"american\": \"american\",\n",
    "    \"burgers\": \"american\",\n",
    "    \"fried chicken\": \"american\",\n",
    "    \"chicken\": \"american\",\n",
    "    \"sandwiches\": \"american\",\n",
    "    \"grill\": \"american\",\n",
    "    \"fries\": \"american\",\n",
    "    \"fast food\": \"american\",\n",
    "    \"chicken wings\": \"american\",\n",
    "\n",
    "    \"italian\": \"italian\",\n",
    "    \"pizza\": \"italian\",\n",
    "    \"pasta\": \"italian\",\n",
    "\n",
    "    \"french\": \"french\",\n",
    "    \"german\": \"german\",\n",
    "    \"spanish\": \"spanish\",\n",
    "    \"mexican\": \"mexican\",\n",
    "    \"turkish\": \"turkish\",\n",
    "    \"lebanese\": \"lebanese\",\n",
    "\n",
    "    # Reassign rice-based dishes\n",
    "    \"rice dishes\": \"asian\",\n",
    "    \"asian\": \"asian\",\n",
    "    \"fried rice\": \"asian\",\n",
    "    \"seafood\": \"asian\",\n",
    "    \"soups\": \"asian\",\n",
    "    \"filipino\": \"asian\",\n",
    "    \"laksa\": \"asian\",\n",
    "    \"porridge\": \"asian\",\n",
    "    \"fish soup\": \"asian\",\n",
    "\n",
    "    # Everything else defaults to snacks\n",
    "}\n"
   ]
  },
  {
   "cell_type": "code",
   "execution_count": 19,
   "id": "78a49609-3ce3-4194-a72d-262b2a630808",
   "metadata": {
    "execution": {
     "iopub.execute_input": "2025-10-26T07:14:28.621629Z",
     "iopub.status.busy": "2025-10-26T07:14:28.621235Z",
     "iopub.status.idle": "2025-10-26T07:14:28.630487Z",
     "shell.execute_reply": "2025-10-26T07:14:28.628557Z",
     "shell.execute_reply.started": "2025-10-26T07:14:28.621600Z"
    }
   },
   "outputs": [
    {
     "data": {
      "text/plain": [
       "array(['japanese', ' korean', 'chinese', 'indian', 'thai', 'vietnamese',\n",
       "       'singaporean', 'indonesian', 'malaysian', 'american', 'italian',\n",
       "       'french', 'german', 'spanish', 'mexican', 'turkish', 'lebanese',\n",
       "       'asian'], dtype=object)"
      ]
     },
     "execution_count": 19,
     "metadata": {},
     "output_type": "execute_result"
    }
   ],
   "source": [
    "pd.Series(global_cuisine_category.values()).unique()"
   ]
  },
  {
   "cell_type": "code",
   "execution_count": 20,
   "id": "8f843c2b-9d05-4cca-91b4-7b6f757a4bb4",
   "metadata": {
    "execution": {
     "iopub.execute_input": "2025-10-26T07:14:29.108505Z",
     "iopub.status.busy": "2025-10-26T07:14:29.108008Z",
     "iopub.status.idle": "2025-10-26T07:14:29.119043Z",
     "shell.execute_reply": "2025-10-26T07:14:29.116605Z",
     "shell.execute_reply.started": "2025-10-26T07:14:29.108460Z"
    }
   },
   "outputs": [
    {
     "data": {
      "text/plain": [
       "18"
      ]
     },
     "execution_count": 20,
     "metadata": {},
     "output_type": "execute_result"
    }
   ],
   "source": [
    "pd.Series(global_cuisine_category.values()).nunique()"
   ]
  },
  {
   "cell_type": "code",
   "execution_count": 21,
   "id": "ac96378f-54e2-4fa4-ba92-228352d4eabb",
   "metadata": {
    "execution": {
     "iopub.execute_input": "2025-10-26T07:14:29.677842Z",
     "iopub.status.busy": "2025-10-26T07:14:29.677399Z",
     "iopub.status.idle": "2025-10-26T07:14:29.695027Z",
     "shell.execute_reply": "2025-10-26T07:14:29.692446Z",
     "shell.execute_reply.started": "2025-10-26T07:14:29.677805Z"
    }
   },
   "outputs": [
    {
     "name": "stderr",
     "output_type": "stream",
     "text": [
      "/tmp/ipykernel_1333/2676602241.py:2: FutureWarning: A value is trying to be set on a copy of a DataFrame or Series through chained assignment using an inplace method.\n",
      "The behavior will change in pandas 3.0. This inplace method will never work because the intermediate object on which we are setting values always behaves as a copy.\n",
      "\n",
      "For example, when doing 'df[col].method(value, inplace=True)', try using 'df.method({col: value}, inplace=True)' or df[col] = df[col].method(value) instead, to perform the operation inplace on the original object.\n",
      "\n",
      "\n",
      "  full_data['cuisine_origin'].fillna('snacks', inplace=True)\n"
     ]
    }
   ],
   "source": [
    "full_data['cuisine_origin'] = full_data['primary_cuisine'].str.strip().map(global_cuisine_category)\n",
    "full_data['cuisine_origin'].fillna('snacks', inplace=True)\n"
   ]
  },
  {
   "cell_type": "code",
   "execution_count": 22,
   "id": "d20a62dc-0219-4efb-aad4-82e57f6c7809",
   "metadata": {
    "execution": {
     "iopub.execute_input": "2025-10-26T07:14:30.219870Z",
     "iopub.status.busy": "2025-10-26T07:14:30.219479Z",
     "iopub.status.idle": "2025-10-26T07:14:30.238549Z",
     "shell.execute_reply": "2025-10-26T07:14:30.236008Z",
     "shell.execute_reply.started": "2025-10-26T07:14:30.219838Z"
    }
   },
   "outputs": [
    {
     "name": "stdout",
     "output_type": "stream",
     "text": [
      "           primary_cuisine cuisine_origin\n",
      "3347             acai bowl         snacks\n",
      "66                american       american\n",
      "51                   asian          asian\n",
      "170            ayam penyet     indonesian\n",
      "2915           bak kut teh        chinese\n",
      "41                  bakery         snacks\n",
      "2420              ban mian    singaporean\n",
      "208              beverages         snacks\n",
      "195             bubble tea         snacks\n",
      "30                 burgers       american\n",
      "429                  cakes         snacks\n",
      "189                chicken       american\n",
      "90            chicken rice    singaporean\n",
      "103                chinese        chinese\n",
      "57                  coffee         snacks\n",
      "376                  curry         indian\n",
      "32                 dessert         snacks\n",
      "196               dim sum         chinese\n",
      "889                  donut         snacks\n",
      "641              fast food       american\n",
      "399              fish soup          asian\n",
      "5675                french         french\n",
      "81           fried chicken       american\n",
      "87              fried rice          asian\n",
      "1928                 fries       american\n",
      "7508                german         german\n",
      "465                  greek         snacks\n",
      "1814                 grill       american\n",
      "529                  halal         snacks\n",
      "97                 healthy         snacks\n",
      "3621           hokkien mee        chinese\n",
      "24                  indian         indian\n",
      "218             indonesian     indonesian\n",
      "5294         international         snacks\n",
      "1480               italian        italian\n",
      "48                japanese       japanese\n",
      "4979            kaya toast         snacks\n",
      "47                  korean         snacks\n",
      "921                  laksa          asian\n",
      "9155              lebanese       lebanese\n",
      "4628            mala soups        chinese\n",
      "88          mala xiang guo        chinese\n",
      "72               malaysian      malaysian\n",
      "1004               mexican        mexican\n",
      "155             nasi lemak      malaysian\n",
      "59                 noodles        chinese\n",
      "2692  pancakes and waffles         snacks\n",
      "20                   pasta        italian\n",
      "2132                   pho     vietnamese\n",
      "17                   pizza        italian\n",
      "649               porridge          asian\n",
      "0                    ramen       japanese\n",
      "533            rice dishes          asian\n",
      "174             roti prata      malaysian\n",
      "3200                salads         snacks\n",
      "268             sandwiches       american\n",
      "1473                 satay         snacks\n",
      "226                seafood          asian\n",
      "65             singaporean    singaporean\n",
      "799                 snacks         snacks\n",
      "55                   soups          asian\n",
      "466                spanish        spanish\n",
      "198                  sushi       japanese\n",
      "631                    tea        chinese\n",
      "37                    thai           thai\n",
      "3058               turkish        turkish\n",
      "92              vegetarian         snacks\n",
      "13              vietnamese     vietnamese\n",
      "5                  western         snacks\n",
      "5098                 wraps         snacks\n",
      "657           yong tau foo    singaporean\n"
     ]
    }
   ],
   "source": [
    "print(full_data[['primary_cuisine', 'cuisine_origin']].drop_duplicates().sort_values(by='primary_cuisine'))\n"
   ]
  },
  {
   "cell_type": "code",
   "execution_count": 23,
   "id": "4fbd85b7-b42a-4624-a420-3bafbf24e513",
   "metadata": {
    "execution": {
     "iopub.execute_input": "2025-10-26T07:14:30.812677Z",
     "iopub.status.busy": "2025-10-26T07:14:30.812340Z",
     "iopub.status.idle": "2025-10-26T07:14:30.834160Z",
     "shell.execute_reply": "2025-10-26T07:14:30.831928Z",
     "shell.execute_reply.started": "2025-10-26T07:14:30.812649Z"
    }
   },
   "outputs": [
    {
     "data": {
      "text/html": [
       "<div>\n",
       "<style scoped>\n",
       "    .dataframe tbody tr th:only-of-type {\n",
       "        vertical-align: middle;\n",
       "    }\n",
       "\n",
       "    .dataframe tbody tr th {\n",
       "        vertical-align: top;\n",
       "    }\n",
       "\n",
       "    .dataframe thead th {\n",
       "        text-align: right;\n",
       "    }\n",
       "</style>\n",
       "<table border=\"1\" class=\"dataframe\">\n",
       "  <thead>\n",
       "    <tr style=\"text-align: right;\">\n",
       "      <th></th>\n",
       "      <th>customer_id</th>\n",
       "      <th>geohash_x</th>\n",
       "      <th>order_id</th>\n",
       "      <th>vendor_id</th>\n",
       "      <th>product_id</th>\n",
       "      <th>day_of_week</th>\n",
       "      <th>order_time</th>\n",
       "      <th>order_day</th>\n",
       "      <th>name</th>\n",
       "      <th>unit_price</th>\n",
       "      <th>chain_id</th>\n",
       "      <th>geohash_y</th>\n",
       "      <th>primary_cuisine</th>\n",
       "      <th>cuisine_origin</th>\n",
       "    </tr>\n",
       "  </thead>\n",
       "  <tbody>\n",
       "    <tr>\n",
       "      <th>0</th>\n",
       "      <td>1ba124d4e5</td>\n",
       "      <td>w21z7</td>\n",
       "      <td>0</td>\n",
       "      <td>212753d2</td>\n",
       "      <td>783e85338f1c</td>\n",
       "      <td>0</td>\n",
       "      <td>12:03:29</td>\n",
       "      <td>85 days</td>\n",
       "      <td>201. Japanese Garlic Karaage Don</td>\n",
       "      <td>0.0060</td>\n",
       "      <td>66c9978d</td>\n",
       "      <td>w21z7</td>\n",
       "      <td>ramen</td>\n",
       "      <td>japanese</td>\n",
       "    </tr>\n",
       "    <tr>\n",
       "      <th>1</th>\n",
       "      <td>1ba124d4e5</td>\n",
       "      <td>w21z7</td>\n",
       "      <td>0</td>\n",
       "      <td>212753d2</td>\n",
       "      <td>084ab73246e6</td>\n",
       "      <td>0</td>\n",
       "      <td>12:03:29</td>\n",
       "      <td>85 days</td>\n",
       "      <td>204. Chicken Cutlet Don</td>\n",
       "      <td>0.0068</td>\n",
       "      <td>66c9978d</td>\n",
       "      <td>w21z7</td>\n",
       "      <td>ramen</td>\n",
       "      <td>japanese</td>\n",
       "    </tr>\n",
       "    <tr>\n",
       "      <th>2</th>\n",
       "      <td>1ba124d4e5</td>\n",
       "      <td>w21z7</td>\n",
       "      <td>0</td>\n",
       "      <td>212753d2</td>\n",
       "      <td>30eba3cc2676</td>\n",
       "      <td>0</td>\n",
       "      <td>12:03:29</td>\n",
       "      <td>85 days</td>\n",
       "      <td>206. Beef Sukiyaki Don</td>\n",
       "      <td>0.0068</td>\n",
       "      <td>66c9978d</td>\n",
       "      <td>w21z7</td>\n",
       "      <td>ramen</td>\n",
       "      <td>japanese</td>\n",
       "    </tr>\n",
       "    <tr>\n",
       "      <th>3</th>\n",
       "      <td>1ba124d4e5</td>\n",
       "      <td>w21z7</td>\n",
       "      <td>0</td>\n",
       "      <td>212753d2</td>\n",
       "      <td>3910309eea60</td>\n",
       "      <td>0</td>\n",
       "      <td>12:03:29</td>\n",
       "      <td>85 days</td>\n",
       "      <td>209. Japanese Beef Yakiniku Don</td>\n",
       "      <td>0.0068</td>\n",
       "      <td>66c9978d</td>\n",
       "      <td>w21z7</td>\n",
       "      <td>ramen</td>\n",
       "      <td>japanese</td>\n",
       "    </tr>\n",
       "    <tr>\n",
       "      <th>4</th>\n",
       "      <td>1ba124d4e5</td>\n",
       "      <td>w21z7</td>\n",
       "      <td>0</td>\n",
       "      <td>212753d2</td>\n",
       "      <td>20049fb602cb</td>\n",
       "      <td>0</td>\n",
       "      <td>12:03:29</td>\n",
       "      <td>85 days</td>\n",
       "      <td>210. Teriyaki Salmon Don</td>\n",
       "      <td>0.0080</td>\n",
       "      <td>66c9978d</td>\n",
       "      <td>w21z7</td>\n",
       "      <td>ramen</td>\n",
       "      <td>japanese</td>\n",
       "    </tr>\n",
       "  </tbody>\n",
       "</table>\n",
       "</div>"
      ],
      "text/plain": [
       "  customer_id geohash_x  order_id vendor_id    product_id  day_of_week  \\\n",
       "0  1ba124d4e5     w21z7         0  212753d2  783e85338f1c            0   \n",
       "1  1ba124d4e5     w21z7         0  212753d2  084ab73246e6            0   \n",
       "2  1ba124d4e5     w21z7         0  212753d2  30eba3cc2676            0   \n",
       "3  1ba124d4e5     w21z7         0  212753d2  3910309eea60            0   \n",
       "4  1ba124d4e5     w21z7         0  212753d2  20049fb602cb            0   \n",
       "\n",
       "  order_time order_day                              name  unit_price  \\\n",
       "0   12:03:29   85 days  201. Japanese Garlic Karaage Don      0.0060   \n",
       "1   12:03:29   85 days           204. Chicken Cutlet Don      0.0068   \n",
       "2   12:03:29   85 days            206. Beef Sukiyaki Don      0.0068   \n",
       "3   12:03:29   85 days   209. Japanese Beef Yakiniku Don      0.0068   \n",
       "4   12:03:29   85 days          210. Teriyaki Salmon Don      0.0080   \n",
       "\n",
       "   chain_id geohash_y primary_cuisine cuisine_origin  \n",
       "0  66c9978d     w21z7           ramen       japanese  \n",
       "1  66c9978d     w21z7           ramen       japanese  \n",
       "2  66c9978d     w21z7           ramen       japanese  \n",
       "3  66c9978d     w21z7           ramen       japanese  \n",
       "4  66c9978d     w21z7           ramen       japanese  "
      ]
     },
     "execution_count": 23,
     "metadata": {},
     "output_type": "execute_result"
    }
   ],
   "source": [
    "full_data.head()"
   ]
  },
  {
   "cell_type": "code",
   "execution_count": 24,
   "id": "8ae114ac-ea9e-4dad-99c4-eeb23739d744",
   "metadata": {
    "execution": {
     "iopub.execute_input": "2025-10-26T07:14:31.323641Z",
     "iopub.status.busy": "2025-10-26T07:14:31.323253Z",
     "iopub.status.idle": "2025-10-26T07:14:31.510582Z",
     "shell.execute_reply": "2025-10-26T07:14:31.509034Z",
     "shell.execute_reply.started": "2025-10-26T07:14:31.323607Z"
    }
   },
   "outputs": [
    {
     "name": "stdout",
     "output_type": "stream",
     "text": [
      "/home/afnan/code/Alanoudis/food-delivery-rec/notebooks/afnan\n"
     ]
    }
   ],
   "source": [
    "!pwd"
   ]
  },
  {
   "cell_type": "code",
   "execution_count": 25,
   "id": "3c7b52e0-7a77-4045-9a41-101d5d7b7593",
   "metadata": {
    "execution": {
     "iopub.execute_input": "2025-10-26T07:14:31.839451Z",
     "iopub.status.busy": "2025-10-26T07:14:31.838920Z",
     "iopub.status.idle": "2025-10-26T07:14:31.899583Z",
     "shell.execute_reply": "2025-10-26T07:14:31.897599Z",
     "shell.execute_reply.started": "2025-10-26T07:14:31.839402Z"
    }
   },
   "outputs": [],
   "source": [
    "full_data[[\"name\"]].to_csv(\"meals.csv\")"
   ]
  },
  {
   "cell_type": "code",
   "execution_count": 26,
   "id": "9529731a-c2d0-4632-ae87-5769610f86e9",
   "metadata": {
    "execution": {
     "iopub.execute_input": "2025-10-26T07:14:32.357292Z",
     "iopub.status.busy": "2025-10-26T07:14:32.356771Z",
     "iopub.status.idle": "2025-10-26T07:14:32.376300Z",
     "shell.execute_reply": "2025-10-26T07:14:32.374491Z",
     "shell.execute_reply.started": "2025-10-26T07:14:32.357246Z"
    }
   },
   "outputs": [],
   "source": [
    "df = pd.read_csv('meals.csv')"
   ]
  },
  {
   "cell_type": "code",
   "execution_count": 27,
   "id": "906b0706-f1fe-4fb2-b23a-4b4932791d9d",
   "metadata": {
    "execution": {
     "iopub.execute_input": "2025-10-26T07:14:32.870775Z",
     "iopub.status.busy": "2025-10-26T07:14:32.870463Z",
     "iopub.status.idle": "2025-10-26T07:14:32.883061Z",
     "shell.execute_reply": "2025-10-26T07:14:32.880619Z",
     "shell.execute_reply.started": "2025-10-26T07:14:32.870749Z"
    }
   },
   "outputs": [
    {
     "data": {
      "text/html": [
       "<div>\n",
       "<style scoped>\n",
       "    .dataframe tbody tr th:only-of-type {\n",
       "        vertical-align: middle;\n",
       "    }\n",
       "\n",
       "    .dataframe tbody tr th {\n",
       "        vertical-align: top;\n",
       "    }\n",
       "\n",
       "    .dataframe thead th {\n",
       "        text-align: right;\n",
       "    }\n",
       "</style>\n",
       "<table border=\"1\" class=\"dataframe\">\n",
       "  <thead>\n",
       "    <tr style=\"text-align: right;\">\n",
       "      <th></th>\n",
       "      <th>Unnamed: 0</th>\n",
       "      <th>name</th>\n",
       "    </tr>\n",
       "  </thead>\n",
       "  <tbody>\n",
       "    <tr>\n",
       "      <th>0</th>\n",
       "      <td>0</td>\n",
       "      <td>201. Japanese Garlic Karaage Don</td>\n",
       "    </tr>\n",
       "    <tr>\n",
       "      <th>1</th>\n",
       "      <td>1</td>\n",
       "      <td>204. Chicken Cutlet Don</td>\n",
       "    </tr>\n",
       "    <tr>\n",
       "      <th>2</th>\n",
       "      <td>2</td>\n",
       "      <td>206. Beef Sukiyaki Don</td>\n",
       "    </tr>\n",
       "    <tr>\n",
       "      <th>3</th>\n",
       "      <td>3</td>\n",
       "      <td>209. Japanese Beef Yakiniku Don</td>\n",
       "    </tr>\n",
       "    <tr>\n",
       "      <th>4</th>\n",
       "      <td>4</td>\n",
       "      <td>210. Teriyaki Salmon Don</td>\n",
       "    </tr>\n",
       "  </tbody>\n",
       "</table>\n",
       "</div>"
      ],
      "text/plain": [
       "   Unnamed: 0                              name\n",
       "0           0  201. Japanese Garlic Karaage Don\n",
       "1           1           204. Chicken Cutlet Don\n",
       "2           2            206. Beef Sukiyaki Don\n",
       "3           3   209. Japanese Beef Yakiniku Don\n",
       "4           4          210. Teriyaki Salmon Don"
      ]
     },
     "execution_count": 27,
     "metadata": {},
     "output_type": "execute_result"
    }
   ],
   "source": [
    "df.head()"
   ]
  },
  {
   "cell_type": "code",
   "execution_count": 28,
   "id": "1924dba0-325c-4bfd-9335-9796d19b78ef",
   "metadata": {
    "execution": {
     "iopub.execute_input": "2025-10-26T07:14:33.844044Z",
     "iopub.status.busy": "2025-10-26T07:14:33.843596Z",
     "iopub.status.idle": "2025-10-26T07:14:33.852164Z",
     "shell.execute_reply": "2025-10-26T07:14:33.849494Z",
     "shell.execute_reply.started": "2025-10-26T07:14:33.844011Z"
    }
   },
   "outputs": [],
   "source": [
    "df = df.drop(columns=['Unnamed: 0'], errors='ignore')"
   ]
  },
  {
   "cell_type": "markdown",
   "id": "438f30c6-bfe2-48be-9907-cccee6c2742f",
   "metadata": {},
   "source": [
    "### 🟦  Clean the Dish Names"
   ]
  },
  {
   "cell_type": "code",
   "execution_count": 29,
   "id": "125cb792-11ef-400f-8d56-b58b9f09c999",
   "metadata": {
    "execution": {
     "iopub.execute_input": "2025-10-26T07:14:34.938383Z",
     "iopub.status.busy": "2025-10-26T07:14:34.937735Z",
     "iopub.status.idle": "2025-10-26T07:14:35.017402Z",
     "shell.execute_reply": "2025-10-26T07:14:35.015380Z",
     "shell.execute_reply.started": "2025-10-26T07:14:34.938325Z"
    }
   },
   "outputs": [],
   "source": [
    "import re\n",
    "\n",
    "def clean_text(text):\n",
    "    text = str(text).lower()\n",
    "    text = re.sub(r'\\d+\\.', '', text)         # Remove leading numbers like \"204.\"\n",
    "    text = re.sub(r'[^\\w\\s]', '', text)       # Remove punctuation\n",
    "    text = re.sub(r'\\d+', '', text)           # Remove remaining numbers\n",
    "    text = text.strip()\n",
    "    return text\n",
    "\n",
    "df['name_cleaned'] = df['name'].fillna('').apply(clean_text)\n"
   ]
  },
  {
   "cell_type": "code",
   "execution_count": 30,
   "id": "782d8ee7-347f-460a-99c7-df321d03988b",
   "metadata": {
    "execution": {
     "iopub.execute_input": "2025-10-26T07:14:35.411257Z",
     "iopub.status.busy": "2025-10-26T07:14:35.410798Z",
     "iopub.status.idle": "2025-10-26T07:14:35.422541Z",
     "shell.execute_reply": "2025-10-26T07:14:35.420132Z",
     "shell.execute_reply.started": "2025-10-26T07:14:35.411224Z"
    }
   },
   "outputs": [
    {
     "data": {
      "text/plain": [
       "0    japanese garlic karaage don\n",
       "1             chicken cutlet don\n",
       "2              beef sukiyaki don\n",
       "3     japanese beef yakiniku don\n",
       "4            teriyaki salmon don\n",
       "Name: name_cleaned, dtype: object"
      ]
     },
     "execution_count": 30,
     "metadata": {},
     "output_type": "execute_result"
    }
   ],
   "source": [
    "df['name_cleaned'].head()"
   ]
  },
  {
   "cell_type": "markdown",
   "id": "48996446-5df3-4ce3-880a-afa9e4db7c1a",
   "metadata": {},
   "source": [
    "### 🟦 Create TF-IDF Matrix"
   ]
  },
  {
   "cell_type": "code",
   "execution_count": 31,
   "id": "b78d7304-a190-4bf4-9f17-811f93e5720c",
   "metadata": {
    "execution": {
     "iopub.execute_input": "2025-10-26T07:14:36.585576Z",
     "iopub.status.busy": "2025-10-26T07:14:36.585097Z",
     "iopub.status.idle": "2025-10-26T07:14:38.469957Z",
     "shell.execute_reply": "2025-10-26T07:14:38.467770Z",
     "shell.execute_reply.started": "2025-10-26T07:14:36.585542Z"
    }
   },
   "outputs": [
    {
     "name": "stdout",
     "output_type": "stream",
     "text": [
      "✅ TF-IDF matrix created.\n",
      "Matrix shape: (10001, 3806)\n"
     ]
    }
   ],
   "source": [
    "from sklearn.feature_extraction.text import TfidfVectorizer\n",
    "\n",
    "# Initialize vectorizer\n",
    "tfidf_vectorizer = TfidfVectorizer(stop_words='english')\n",
    "\n",
    "# Fit and transform\n",
    "tfidf_matrix = tfidf_vectorizer.fit_transform(df['name_cleaned'])\n",
    "\n",
    "# Summary\n",
    "print(\"✅ TF-IDF matrix created.\")\n",
    "print(f\"Matrix shape: {tfidf_matrix.shape}\")\n"
   ]
  },
  {
   "cell_type": "markdown",
   "id": "8ed13c3f-1846-4196-a002-f261a24061dc",
   "metadata": {},
   "source": [
    "### 🟦 Compute Cosine Similarity"
   ]
  },
  {
   "cell_type": "code",
   "execution_count": 32,
   "id": "43cd8d13-8e0e-4988-9946-09bdbacc56ed",
   "metadata": {
    "execution": {
     "iopub.execute_input": "2025-10-26T07:14:38.471814Z",
     "iopub.status.busy": "2025-10-26T07:14:38.471151Z",
     "iopub.status.idle": "2025-10-26T07:14:56.807531Z",
     "shell.execute_reply": "2025-10-26T07:14:56.796300Z",
     "shell.execute_reply.started": "2025-10-26T07:14:38.471732Z"
    }
   },
   "outputs": [],
   "source": [
    "from sklearn.metrics.pairwise import cosine_similarity\n",
    "\n",
    "# Compute similarity\n",
    "cosine_sim_matrix = cosine_similarity(tfidf_matrix)\n",
    "\n",
    "# Preview\n",
    "#print(\"✅ Cosine similarity matrix built.\")\n",
    "#print(\"Top-left 5x5 sample:\")\n",
    "#print(cosine_sim_matrix[:5, :5])\n"
   ]
  },
  {
   "cell_type": "markdown",
   "id": "3f1669c0-9abf-4006-9cb2-b91c98056081",
   "metadata": {},
   "source": [
    "### 🟦  Build Recommender Function"
   ]
  },
  {
   "cell_type": "code",
   "execution_count": 33,
   "id": "3fb329bb-2b11-47ec-a896-d66e2b71267a",
   "metadata": {
    "execution": {
     "iopub.execute_input": "2025-10-26T07:15:02.363971Z",
     "iopub.status.busy": "2025-10-26T07:15:02.362221Z",
     "iopub.status.idle": "2025-10-26T07:15:06.688712Z",
     "shell.execute_reply": "2025-10-26T07:15:06.668646Z",
     "shell.execute_reply.started": "2025-10-26T07:15:02.363894Z"
    }
   },
   "outputs": [],
   "source": [
    "# Create a lookup index using cleaned names, keeping only the first match\n",
    "indices = df['name_cleaned'].drop_duplicates().reset_index(drop=True)\n",
    "lookup = pd.Series(indices.index, index=indices.values)\n"
   ]
  },
  {
   "cell_type": "code",
   "execution_count": 34,
   "id": "634df172-b0b1-440a-86cb-8c04870102c1",
   "metadata": {
    "execution": {
     "iopub.execute_input": "2025-10-26T07:15:07.499581Z",
     "iopub.status.busy": "2025-10-26T07:15:07.498641Z",
     "iopub.status.idle": "2025-10-26T07:15:07.522440Z",
     "shell.execute_reply": "2025-10-26T07:15:07.519355Z",
     "shell.execute_reply.started": "2025-10-26T07:15:07.499515Z"
    }
   },
   "outputs": [],
   "source": [
    "def get_similar_meals(title, cosine_sim=cosine_sim_matrix, lookup=lookup, df=df):\n",
    "    try:\n",
    "        title_cleaned = clean_text(title)\n",
    "\n",
    "        if title_cleaned not in lookup:\n",
    "            return f\"Meal '{title}' not found in the dataset.\"\n",
    "\n",
    "        idx = lookup[title_cleaned]\n",
    "\n",
    "        sim_scores = list(enumerate(cosine_sim[idx]))\n",
    "        sim_scores = sorted(sim_scores, key=lambda x: x[1], reverse=True)\n",
    "        sim_scores = [score for score in sim_scores if score[0] != idx][:10]\n",
    "        meal_indices = [i[0] for i in sim_scores]\n",
    "\n",
    "        return df['name_cleaned'].iloc[meal_indices]\n",
    "\n",
    "    except Exception as e:\n",
    "        return f\"Error: {e}\"\n"
   ]
  },
  {
   "cell_type": "markdown",
   "id": "dbe6301d-a3c8-47e4-8d88-ce7652375ff0",
   "metadata": {},
   "source": [
    "### 🟦 Test the Recommender"
   ]
  },
  {
   "cell_type": "code",
   "execution_count": 35,
   "id": "73c9d4bd-cfb5-4811-ac6c-9d93e0ddf643",
   "metadata": {
    "execution": {
     "iopub.execute_input": "2025-10-26T07:15:09.098877Z",
     "iopub.status.busy": "2025-10-26T07:15:09.098184Z",
     "iopub.status.idle": "2025-10-26T07:15:09.301231Z",
     "shell.execute_reply": "2025-10-26T07:15:09.296498Z",
     "shell.execute_reply.started": "2025-10-26T07:15:09.098826Z"
    }
   },
   "outputs": [
    {
     "name": "stdout",
     "output_type": "stream",
     "text": [
      "3242          chicken cutlet don\n",
      "4546              chicken cutlet\n",
      "5465            m chicken cutlet\n",
      "5720              chicken cutlet\n",
      "9766            a chicken cutlet\n",
      "9768            a chicken cutlet\n",
      "5       chicken cutlet with rice\n",
      "853     chicken cutlet with rice\n",
      "2687         chicken cutlet rice\n",
      "4071         chicken cutlet rice\n",
      "Name: name_cleaned, dtype: object\n"
     ]
    }
   ],
   "source": [
    "test_meal = \"chicken cutlet don\"\n",
    "similar_meals = get_similar_meals(test_meal)\n",
    "print(similar_meals)"
   ]
  },
  {
   "cell_type": "code",
   "execution_count": 36,
   "id": "090cba3f-fe7b-48b5-a831-2f773bc625cd",
   "metadata": {
    "execution": {
     "iopub.execute_input": "2025-10-26T07:15:10.343980Z",
     "iopub.status.busy": "2025-10-26T07:15:10.343404Z",
     "iopub.status.idle": "2025-10-26T07:15:10.367589Z",
     "shell.execute_reply": "2025-10-26T07:15:10.362669Z",
     "shell.execute_reply.started": "2025-10-26T07:15:10.343927Z"
    }
   },
   "outputs": [
    {
     "name": "stdout",
     "output_type": "stream",
     "text": [
      "3241         japanese garlic karaage don\n",
      "3             japanese beef yakiniku don\n",
      "9170          japanese beef yakiniku don\n",
      "4055                       japanese rice\n",
      "7893                         karaage set\n",
      "1831                       curry karaage\n",
      "8503                 chicken karaage pcs\n",
      "3962    japanese curry w  croquette rice\n",
      "4054                r fish karaage ramen\n",
      "1899                          salmon don\n",
      "Name: name_cleaned, dtype: object\n"
     ]
    }
   ],
   "source": [
    "test_meal = \"japanese garlic karaage don\"\n",
    "similar_meals = get_similar_meals(test_meal)\n",
    "print(similar_meals)\n"
   ]
  },
  {
   "cell_type": "code",
   "execution_count": 37,
   "id": "99a6232b-35ab-43df-a97b-f990e4bdeb6a",
   "metadata": {
    "execution": {
     "iopub.execute_input": "2025-10-26T07:15:11.395450Z",
     "iopub.status.busy": "2025-10-26T07:15:11.394889Z",
     "iopub.status.idle": "2025-10-26T07:15:11.408783Z",
     "shell.execute_reply": "2025-10-26T07:15:11.404733Z",
     "shell.execute_reply.started": "2025-10-26T07:15:11.395406Z"
    }
   },
   "outputs": [
    {
     "name": "stdout",
     "output_type": "stream",
     "text": [
      "Meal 'sushis' not found in the dataset.\n"
     ]
    }
   ],
   "source": [
    "test_meal = \"sushis\"\n",
    "similar_meals = get_similar_meals(test_meal)\n",
    "print(similar_meals)"
   ]
  },
  {
   "cell_type": "code",
   "execution_count": 38,
   "id": "c7c3eabb-854e-4cf3-94c5-9c3635760b1e",
   "metadata": {
    "execution": {
     "iopub.execute_input": "2025-10-26T07:15:12.731235Z",
     "iopub.status.busy": "2025-10-26T07:15:12.730622Z",
     "iopub.status.idle": "2025-10-26T07:15:12.749473Z",
     "shell.execute_reply": "2025-10-26T07:15:12.742898Z",
     "shell.execute_reply.started": "2025-10-26T07:15:12.731192Z"
    }
   },
   "outputs": [],
   "source": [
    "def get_similar_meals_by_keyword(keyword, df=df):\n",
    "    try:\n",
    "        keyword_cleaned = clean_text(keyword)\n",
    "\n",
    "        # Find all meals that contain the keyword\n",
    "        matches = df[df['name_cleaned'].str.contains(keyword_cleaned, case=False, na=False)]\n",
    "\n",
    "        if matches.empty:\n",
    "            return f\"No meals found containing '{keyword}'.\"\n",
    "\n",
    "        return matches['name_cleaned'].drop_duplicates().reset_index(drop=True)\n",
    "\n",
    "    except Exception as e:\n",
    "        return f\"Error: {e}\"\n"
   ]
  },
  {
   "cell_type": "code",
   "execution_count": 39,
   "id": "7265d023-32e0-4a73-8bc5-f77ce10e366d",
   "metadata": {
    "execution": {
     "iopub.execute_input": "2025-10-26T07:15:13.471665Z",
     "iopub.status.busy": "2025-10-26T07:15:13.471197Z",
     "iopub.status.idle": "2025-10-26T07:15:13.635716Z",
     "shell.execute_reply": "2025-10-26T07:15:13.633062Z",
     "shell.execute_reply.started": "2025-10-26T07:15:13.471625Z"
    }
   },
   "outputs": [
    {
     "data": {
      "text/plain": [
       "0                  chicken cutlet don\n",
       "1            chicken cutlet with rice\n",
       "2                        chicken chop\n",
       "3             chicken wings with rice\n",
       "4              chicken chop with rice\n",
       "5                      butter chicken\n",
       "6    chicken wing nasi lemak istimewa\n",
       "7                chicken hor fun 鸡丝河粉\n",
       "8                       chicken piece\n",
       "9             chicken claw noodle 凤爪面\n",
       "Name: name_cleaned, dtype: object"
      ]
     },
     "execution_count": 39,
     "metadata": {},
     "output_type": "execute_result"
    }
   ],
   "source": [
    "test_meal = \"chicken\"\n",
    "similar_meals = get_similar_meals_by_keyword(test_meal)\n",
    "similar_meals.head(10)\n"
   ]
  },
  {
   "cell_type": "code",
   "execution_count": null,
   "id": "0b8cc0ea-a3ca-41c1-9530-bcfaec09aa2d",
   "metadata": {},
   "outputs": [],
   "source": []
  },
  {
   "cell_type": "code",
   "execution_count": 40,
   "id": "4662a844-e5d8-4c1b-ba08-a489a587a23d",
   "metadata": {
    "execution": {
     "iopub.execute_input": "2025-10-26T07:15:14.887650Z",
     "iopub.status.busy": "2025-10-26T07:15:14.887058Z",
     "iopub.status.idle": "2025-10-26T07:15:16.711818Z",
     "shell.execute_reply": "2025-10-26T07:15:16.709434Z",
     "shell.execute_reply.started": "2025-10-26T07:15:14.887608Z"
    }
   },
   "outputs": [
    {
     "name": "stdout",
     "output_type": "stream",
     "text": [
      "--- Fitting NMF model to find topics ---\n",
      "--- NMF model training complete ---\n",
      "\n",
      "--- Discovered Topics (Main Ideas) ---\n",
      "Topic 0:\n",
      "rice 白饭 white steamed roasted 米饭 fragrant curry\n",
      "--------------------\n",
      "Topic 1:\n",
      "chicken curry chop cutlet crispy grilled teriyaki pc\n",
      "--------------------\n",
      "Topic 2:\n",
      "tea milk medium green honey thai oolong caramel\n",
      "--------------------\n",
      "Topic 3:\n",
      "set bee hoon kee yew 友记鸭饭 create sandwich\n",
      "--------------------\n",
      "Topic 4:\n",
      "fried seasoned prawns dumpling seafood thai prawn bee\n",
      "--------------------\n",
      "Topic 5:\n",
      "egg mayo salted prata braised sandwich prawns seasoned\n",
      "--------------------\n",
      "Topic 6:\n",
      "pcs wings separation nuggets mai sauce siew golden\n",
      "--------------------\n",
      "Topic 7:\n",
      "nasi lemak ayam penyet goreng sambal selected drink\n",
      "--------------------\n",
      "Topic 8:\n",
      "large kopi teh iced green yakult ovaltine lemon\n",
      "--------------------\n",
      "Topic 9:\n",
      "plain prata 米饭 thosai pc coin bomb naan\n",
      "--------------------\n",
      "Topic 10:\n",
      "toast butter kaya traditional sugar peanut french naan\n",
      "--------------------\n",
      "Topic 11:\n",
      "noodle mushroom minced meat noodles 香菇肉脞面 miso wanton\n",
      "--------------------\n",
      "Topic 12:\n",
      "meal buddy value pc prosperity double mcgriddles upsized\n",
      "--------------------\n",
      "Topic 13:\n",
      "beef prosperity salmon pepper braised black combo bowl\n",
      "--------------------\n",
      "Topic 14:\n",
      "mee goreng hoon bee rebus maggi combo soto\n",
      "--------------------\n",
      "Topic 15:\n",
      "pork ribs roasted pickled chillies collar small腌菜松板肉小 poached\n",
      "--------------------\n",
      "Topic 16:\n",
      "fish sliced grilled porridge fillet chips bee hoon\n",
      "--------------------\n",
      "Topic 17:\n",
      "soup tom seafood yum spinach clear red wanton\n",
      "--------------------\n",
      "Topic 18:\n",
      "cheese ham sandwich fries pancake laksa prata curry\n",
      "--------------------\n",
      "Topic 19:\n",
      "fun cheong chee hor prawn siew 猪肠粉虾 char\n",
      "--------------------\n"
     ]
    }
   ],
   "source": [
    "from sklearn.decomposition import NMF\n",
    "\n",
    "# --- 3. Define and Fit the NMF Model ---\n",
    "print(f\"--- Fitting NMF model to find topics ---\")\n",
    "\n",
    "# Define the number of \"main ideas\" you want to find\n",
    "num_topics = 20\n",
    "\n",
    "# Initialize NMF\n",
    "# 'n_components' is the number of topics.\n",
    "# 'random_state' ensures you get the same results every time you run it.\n",
    "# 'init='nndsvda'' is a smart initialization method that often leads to better results.\n",
    "# 'max_iter=500' gives the model more time to converge.\n",
    "nmf_model = NMF(\n",
    "    n_components=num_topics,\n",
    "    random_state=42,\n",
    "    max_iter=500,\n",
    "    init='nndsvda'\n",
    ")\n",
    "\n",
    "# Fit NMF to our TF-IDF matrix\n",
    "# This is the main \"training\" step that discovers the topics.\n",
    "nmf_model.fit(tfidf_matrix)\n",
    "\n",
    "print(\"--- NMF model training complete ---\")\n",
    "\n",
    "\n",
    "# --- 4. Define Function to Display Topics ---\n",
    "\n",
    "# Get the list of all unique words (the \"features\") from the vectorizer\n",
    "feature_names = tfidf_vectorizer.get_feature_names_out()\n",
    "\n",
    "def display_topics(model, feature_names, no_top_words):\n",
    "    \"\"\"Prints the top words for each topic found by the model.\"\"\"\n",
    "    print(\"\\n--- Discovered Topics (Main Ideas) ---\")\n",
    "\n",
    "    # 'model.components_' is a matrix (topics x words)\n",
    "    # Each row is a topic, and the values are the \"importance\" of each word.\n",
    "    for topic_idx, topic in enumerate(model.components_):\n",
    "\n",
    "        # Get the index numbers of the top N words for this topic\n",
    "        top_word_indices = topic.argsort()[:-no_top_words - 1:-1]\n",
    "\n",
    "        # Get the actual words from their index numbers\n",
    "        top_words = [feature_names[i] for i in top_word_indices]\n",
    "\n",
    "        # Print the topic\n",
    "        print(f\"Topic {topic_idx}:\")\n",
    "        print(\" \".join(top_words))\n",
    "        print(\"-\" * 20)\n",
    "\n",
    "# --- 5. Display the Results ---\n",
    "# Show the top 8 words for each of our 20 topics.\n",
    "display_topics(model=nmf_model,\n",
    "               feature_names=feature_names,\n",
    "               no_top_words=8)"
   ]
  },
  {
   "cell_type": "code",
   "execution_count": 41,
   "id": "7e4e0fb8-c6e7-4d10-8fc1-8e8b33dce7cb",
   "metadata": {
    "execution": {
     "iopub.execute_input": "2025-10-26T07:15:16.717524Z",
     "iopub.status.busy": "2025-10-26T07:15:16.716137Z",
     "iopub.status.idle": "2025-10-26T07:15:17.332990Z",
     "shell.execute_reply": "2025-10-26T07:15:17.327225Z",
     "shell.execute_reply.started": "2025-10-26T07:15:16.717483Z"
    }
   },
   "outputs": [
    {
     "name": "stdout",
     "output_type": "stream",
     "text": [
      "data_explor_2.ipynb  data_explor.ipynb:Zone.Identifier\n",
      "data_explor.ipynb    meals.csv\n"
     ]
    }
   ],
   "source": [
    "!ls"
   ]
  },
  {
   "cell_type": "code",
   "execution_count": 42,
   "id": "108f606d-f995-4679-bfc3-e8044c44d3bc",
   "metadata": {
    "execution": {
     "iopub.execute_input": "2025-10-26T07:15:17.335887Z",
     "iopub.status.busy": "2025-10-26T07:15:17.335108Z",
     "iopub.status.idle": "2025-10-26T07:15:17.791649Z",
     "shell.execute_reply": "2025-10-26T07:15:17.788265Z",
     "shell.execute_reply.started": "2025-10-26T07:15:17.335817Z"
    }
   },
   "outputs": [
    {
     "data": {
      "text/plain": [
       "5683"
      ]
     },
     "execution_count": 42,
     "metadata": {},
     "output_type": "execute_result"
    }
   ],
   "source": [
    "full_data[\"name\"].nunique()"
   ]
  },
  {
   "cell_type": "code",
   "execution_count": 43,
   "id": "24a3a042-c6f9-4eb4-9faf-a72a15e3d73f",
   "metadata": {
    "execution": {
     "iopub.execute_input": "2025-10-26T07:15:17.794677Z",
     "iopub.status.busy": "2025-10-26T07:15:17.794183Z",
     "iopub.status.idle": "2025-10-26T07:15:17.838551Z",
     "shell.execute_reply": "2025-10-26T07:15:17.836121Z",
     "shell.execute_reply.started": "2025-10-26T07:15:17.794631Z"
    }
   },
   "outputs": [],
   "source": [
    "# Example: Filter for Italian cuisine\n",
    "mexican_orders = full_data[full_data['primary_cuisine'] == 'mexican']\n"
   ]
  },
  {
   "cell_type": "markdown",
   "id": "59d9ab80-b5cf-41cd-8ea7-ea7ba079e5d7",
   "metadata": {},
   "source": [
    "##### 🔸 Most Frequent Customers per Cuisine(mexican cuisine)"
   ]
  },
  {
   "cell_type": "code",
   "execution_count": 44,
   "id": "926a011d-eb55-49e8-a774-d186a74768b4",
   "metadata": {
    "execution": {
     "iopub.execute_input": "2025-10-26T07:15:18.439506Z",
     "iopub.status.busy": "2025-10-26T07:15:18.439079Z",
     "iopub.status.idle": "2025-10-26T07:15:18.539408Z",
     "shell.execute_reply": "2025-10-26T07:15:18.535854Z",
     "shell.execute_reply.started": "2025-10-26T07:15:18.439476Z"
    }
   },
   "outputs": [
    {
     "name": "stdout",
     "output_type": "stream",
     "text": [
      "customer_id\n",
      "3307033447    17\n",
      "a366f0d29a     6\n",
      "53d1c13658     2\n",
      "70e0ad7f1e     2\n",
      "f9dbb6d1b8     1\n",
      "73a3961ed8     1\n",
      "01a45b2349     1\n",
      "92d6272d7d     1\n",
      "f3dbf24141     1\n",
      "86e84e17a2     1\n",
      "Name: count, dtype: int64\n"
     ]
    }
   ],
   "source": [
    "top_customers = mexican_orders['customer_id'].value_counts().head(10)\n",
    "print(top_customers)"
   ]
  },
  {
   "cell_type": "markdown",
   "id": "e01752f8-bf2f-4c21-8915-f2ea4f025e17",
   "metadata": {},
   "source": [
    "### Most Ordered Products per Cuisine"
   ]
  },
  {
   "cell_type": "code",
   "execution_count": 45,
   "id": "7ab95e1b-4237-4812-a198-46ee5056a1b4",
   "metadata": {
    "execution": {
     "iopub.execute_input": "2025-10-26T07:15:19.384418Z",
     "iopub.status.busy": "2025-10-26T07:15:19.384044Z",
     "iopub.status.idle": "2025-10-26T07:15:19.398797Z",
     "shell.execute_reply": "2025-10-26T07:15:19.394581Z",
     "shell.execute_reply.started": "2025-10-26T07:15:19.384386Z"
    }
   },
   "outputs": [
    {
     "name": "stdout",
     "output_type": "stream",
     "text": [
      "name\n",
      "Honey Tequila Chicken Wings                  4\n",
      "Free Heineken 0.0                            4\n",
      "Spicy Chicken Quesadilla                     4\n",
      "Roasted Tomato Salsa (Vegan)(Gluten-Free)    2\n",
      "Rotisserie Chicken                           2\n",
      "Smoky Chipotle BBQ                           1\n",
      "2 Breakfast Tacos                            1\n",
      "Chico Slaw (VG)                              1\n",
      "Quinoa Salad (VG)(GF)                        1\n",
      "Roasted Veggies (VG)(GF)                     1\n",
      "Name: count, dtype: int64\n"
     ]
    }
   ],
   "source": [
    "top_dishes =mexican_orders['name'].value_counts().head(10)\n",
    "print(top_dishes)\n"
   ]
  },
  {
   "cell_type": "code",
   "execution_count": null,
   "id": "87548786-37c3-44bf-a013-25ee7885cfb5",
   "metadata": {},
   "outputs": [],
   "source": []
  },
  {
   "cell_type": "markdown",
   "id": "5cba5c29-5690-4306-acd8-3cd3d79c675b",
   "metadata": {},
   "source": [
    "### 🔸 Average Spending per Customer"
   ]
  },
  {
   "cell_type": "code",
   "execution_count": 46,
   "id": "cae81e25-a5b0-46ae-b49d-1b194887fe80",
   "metadata": {
    "execution": {
     "iopub.execute_input": "2025-10-26T07:15:20.724073Z",
     "iopub.status.busy": "2025-10-26T07:15:20.723495Z",
     "iopub.status.idle": "2025-10-26T07:15:20.793466Z",
     "shell.execute_reply": "2025-10-26T07:15:20.790730Z",
     "shell.execute_reply.started": "2025-10-26T07:15:20.724013Z"
    }
   },
   "outputs": [
    {
     "name": "stdout",
     "output_type": "stream",
     "text": [
      "customer_id\n",
      "3307033447    0.007435\n",
      "73a3961ed8    0.005600\n",
      "f3dbf24141    0.005600\n",
      "53d1c13658    0.003600\n",
      "a366f0d29a    0.002800\n",
      "70e0ad7f1e    0.001800\n",
      "01a45b2349    0.000000\n",
      "86e84e17a2    0.000000\n",
      "92d6272d7d    0.000000\n",
      "f9dbb6d1b8    0.000000\n",
      "Name: unit_price, dtype: float64\n"
     ]
    }
   ],
   "source": [
    "avg_spending = mexican_orders.groupby('customer_id')['unit_price'].mean().sort_values(ascending=False).head(10)\n",
    "print(avg_spending)\n"
   ]
  },
  {
   "cell_type": "code",
   "execution_count": 47,
   "id": "3bb7a813-1e7d-4d9c-b746-9d23645cff4c",
   "metadata": {
    "execution": {
     "iopub.execute_input": "2025-10-26T07:15:21.246637Z",
     "iopub.status.busy": "2025-10-26T07:15:21.246034Z",
     "iopub.status.idle": "2025-10-26T07:15:21.264421Z",
     "shell.execute_reply": "2025-10-26T07:15:21.261934Z",
     "shell.execute_reply.started": "2025-10-26T07:15:21.246582Z"
    }
   },
   "outputs": [
    {
     "name": "stdout",
     "output_type": "stream",
     "text": [
      "customer_id\n",
      "3307033447    0.1264\n",
      "a366f0d29a    0.0168\n",
      "53d1c13658    0.0072\n",
      "f3dbf24141    0.0056\n",
      "73a3961ed8    0.0056\n",
      "70e0ad7f1e    0.0036\n",
      "01a45b2349    0.0000\n",
      "86e84e17a2    0.0000\n",
      "92d6272d7d    0.0000\n",
      "f9dbb6d1b8    0.0000\n",
      "Name: unit_price, dtype: float64\n"
     ]
    }
   ],
   "source": [
    "spending_per_customer = mexican_orders.groupby('customer_id')['unit_price'].sum().sort_values(ascending=False).head(10)\n",
    "print(spending_per_customer)\n"
   ]
  },
  {
   "cell_type": "code",
   "execution_count": null,
   "id": "023e61b7-7a7d-4adf-b1d1-86260abd094a",
   "metadata": {},
   "outputs": [],
   "source": []
  },
  {
   "cell_type": "code",
   "execution_count": 48,
   "id": "318aee49-2335-446a-83be-928c369e7def",
   "metadata": {
    "execution": {
     "iopub.execute_input": "2025-10-26T07:15:22.196515Z",
     "iopub.status.busy": "2025-10-26T07:15:22.196082Z",
     "iopub.status.idle": "2025-10-26T07:15:24.953018Z",
     "shell.execute_reply": "2025-10-26T07:15:24.949831Z",
     "shell.execute_reply.started": "2025-10-26T07:15:22.196474Z"
    }
   },
   "outputs": [
    {
     "name": "stdout",
     "output_type": "stream",
     "text": [
      "Requirement already satisfied: gensim in /home/afnan/.pyenv/versions/3.10.6/envs/food-delivery-rec/lib/python3.10/site-packages (4.4.0)\n",
      "Requirement already satisfied: numpy>=1.18.5 in /home/afnan/.pyenv/versions/3.10.6/envs/food-delivery-rec/lib/python3.10/site-packages (from gensim) (2.2.6)\n",
      "Requirement already satisfied: scipy>=1.7.0 in /home/afnan/.pyenv/versions/3.10.6/envs/food-delivery-rec/lib/python3.10/site-packages (from gensim) (1.15.3)\n",
      "Requirement already satisfied: smart_open>=1.8.1 in /home/afnan/.pyenv/versions/3.10.6/envs/food-delivery-rec/lib/python3.10/site-packages (from gensim) (7.4.1)\n",
      "Requirement already satisfied: wrapt in /home/afnan/.pyenv/versions/3.10.6/envs/food-delivery-rec/lib/python3.10/site-packages (from smart_open>=1.8.1->gensim) (2.0.0)\n",
      "Note: you may need to restart the kernel to use updated packages.\n"
     ]
    }
   ],
   "source": [
    "pip install gensim"
   ]
  },
  {
   "cell_type": "markdown",
   "id": "fecee50e-9805-4690-94df-8fca2cd77c25",
   "metadata": {},
   "source": [
    "### Group Dishes by Order"
   ]
  },
  {
   "cell_type": "code",
   "execution_count": 49,
   "id": "6a0993fc-b2bf-4170-b3c0-28b2fc2a64f7",
   "metadata": {
    "execution": {
     "iopub.execute_input": "2025-10-26T07:15:24.955796Z",
     "iopub.status.busy": "2025-10-26T07:15:24.955240Z",
     "iopub.status.idle": "2025-10-26T07:15:26.357232Z",
     "shell.execute_reply": "2025-10-26T07:15:26.355517Z",
     "shell.execute_reply.started": "2025-10-26T07:15:24.955746Z"
    }
   },
   "outputs": [],
   "source": [
    "# Group dish names by order_id\n",
    "orders2 = full_data.groupby('order_id')['name'].apply(list).tolist()\n"
   ]
  },
  {
   "cell_type": "code",
   "execution_count": 50,
   "id": "cb591abc-2007-44c1-8525-07571ab2f7e1",
   "metadata": {
    "execution": {
     "iopub.execute_input": "2025-10-26T07:15:26.359850Z",
     "iopub.status.busy": "2025-10-26T07:15:26.359274Z",
     "iopub.status.idle": "2025-10-26T07:15:26.385990Z",
     "shell.execute_reply": "2025-10-26T07:15:26.383581Z",
     "shell.execute_reply.started": "2025-10-26T07:15:26.359802Z"
    }
   },
   "outputs": [
    {
     "data": {
      "text/html": [
       "<div>\n",
       "<style scoped>\n",
       "    .dataframe tbody tr th:only-of-type {\n",
       "        vertical-align: middle;\n",
       "    }\n",
       "\n",
       "    .dataframe tbody tr th {\n",
       "        vertical-align: top;\n",
       "    }\n",
       "\n",
       "    .dataframe thead th {\n",
       "        text-align: right;\n",
       "    }\n",
       "</style>\n",
       "<table border=\"1\" class=\"dataframe\">\n",
       "  <thead>\n",
       "    <tr style=\"text-align: right;\">\n",
       "      <th></th>\n",
       "      <th>customer_id</th>\n",
       "      <th>geohash_x</th>\n",
       "      <th>order_id</th>\n",
       "      <th>vendor_id</th>\n",
       "      <th>product_id</th>\n",
       "      <th>day_of_week</th>\n",
       "      <th>order_time</th>\n",
       "      <th>order_day</th>\n",
       "      <th>name</th>\n",
       "      <th>unit_price</th>\n",
       "      <th>chain_id</th>\n",
       "      <th>geohash_y</th>\n",
       "      <th>primary_cuisine</th>\n",
       "      <th>cuisine_origin</th>\n",
       "    </tr>\n",
       "  </thead>\n",
       "  <tbody>\n",
       "    <tr>\n",
       "      <th>0</th>\n",
       "      <td>1ba124d4e5</td>\n",
       "      <td>w21z7</td>\n",
       "      <td>0</td>\n",
       "      <td>212753d2</td>\n",
       "      <td>783e85338f1c</td>\n",
       "      <td>0</td>\n",
       "      <td>12:03:29</td>\n",
       "      <td>85 days</td>\n",
       "      <td>201. Japanese Garlic Karaage Don</td>\n",
       "      <td>0.0060</td>\n",
       "      <td>66c9978d</td>\n",
       "      <td>w21z7</td>\n",
       "      <td>ramen</td>\n",
       "      <td>japanese</td>\n",
       "    </tr>\n",
       "    <tr>\n",
       "      <th>1</th>\n",
       "      <td>1ba124d4e5</td>\n",
       "      <td>w21z7</td>\n",
       "      <td>0</td>\n",
       "      <td>212753d2</td>\n",
       "      <td>084ab73246e6</td>\n",
       "      <td>0</td>\n",
       "      <td>12:03:29</td>\n",
       "      <td>85 days</td>\n",
       "      <td>204. Chicken Cutlet Don</td>\n",
       "      <td>0.0068</td>\n",
       "      <td>66c9978d</td>\n",
       "      <td>w21z7</td>\n",
       "      <td>ramen</td>\n",
       "      <td>japanese</td>\n",
       "    </tr>\n",
       "    <tr>\n",
       "      <th>2</th>\n",
       "      <td>1ba124d4e5</td>\n",
       "      <td>w21z7</td>\n",
       "      <td>0</td>\n",
       "      <td>212753d2</td>\n",
       "      <td>30eba3cc2676</td>\n",
       "      <td>0</td>\n",
       "      <td>12:03:29</td>\n",
       "      <td>85 days</td>\n",
       "      <td>206. Beef Sukiyaki Don</td>\n",
       "      <td>0.0068</td>\n",
       "      <td>66c9978d</td>\n",
       "      <td>w21z7</td>\n",
       "      <td>ramen</td>\n",
       "      <td>japanese</td>\n",
       "    </tr>\n",
       "    <tr>\n",
       "      <th>3</th>\n",
       "      <td>1ba124d4e5</td>\n",
       "      <td>w21z7</td>\n",
       "      <td>0</td>\n",
       "      <td>212753d2</td>\n",
       "      <td>3910309eea60</td>\n",
       "      <td>0</td>\n",
       "      <td>12:03:29</td>\n",
       "      <td>85 days</td>\n",
       "      <td>209. Japanese Beef Yakiniku Don</td>\n",
       "      <td>0.0068</td>\n",
       "      <td>66c9978d</td>\n",
       "      <td>w21z7</td>\n",
       "      <td>ramen</td>\n",
       "      <td>japanese</td>\n",
       "    </tr>\n",
       "    <tr>\n",
       "      <th>4</th>\n",
       "      <td>1ba124d4e5</td>\n",
       "      <td>w21z7</td>\n",
       "      <td>0</td>\n",
       "      <td>212753d2</td>\n",
       "      <td>20049fb602cb</td>\n",
       "      <td>0</td>\n",
       "      <td>12:03:29</td>\n",
       "      <td>85 days</td>\n",
       "      <td>210. Teriyaki Salmon Don</td>\n",
       "      <td>0.0080</td>\n",
       "      <td>66c9978d</td>\n",
       "      <td>w21z7</td>\n",
       "      <td>ramen</td>\n",
       "      <td>japanese</td>\n",
       "    </tr>\n",
       "  </tbody>\n",
       "</table>\n",
       "</div>"
      ],
      "text/plain": [
       "  customer_id geohash_x  order_id vendor_id    product_id  day_of_week  \\\n",
       "0  1ba124d4e5     w21z7         0  212753d2  783e85338f1c            0   \n",
       "1  1ba124d4e5     w21z7         0  212753d2  084ab73246e6            0   \n",
       "2  1ba124d4e5     w21z7         0  212753d2  30eba3cc2676            0   \n",
       "3  1ba124d4e5     w21z7         0  212753d2  3910309eea60            0   \n",
       "4  1ba124d4e5     w21z7         0  212753d2  20049fb602cb            0   \n",
       "\n",
       "  order_time order_day                              name  unit_price  \\\n",
       "0   12:03:29   85 days  201. Japanese Garlic Karaage Don      0.0060   \n",
       "1   12:03:29   85 days           204. Chicken Cutlet Don      0.0068   \n",
       "2   12:03:29   85 days            206. Beef Sukiyaki Don      0.0068   \n",
       "3   12:03:29   85 days   209. Japanese Beef Yakiniku Don      0.0068   \n",
       "4   12:03:29   85 days          210. Teriyaki Salmon Don      0.0080   \n",
       "\n",
       "   chain_id geohash_y primary_cuisine cuisine_origin  \n",
       "0  66c9978d     w21z7           ramen       japanese  \n",
       "1  66c9978d     w21z7           ramen       japanese  \n",
       "2  66c9978d     w21z7           ramen       japanese  \n",
       "3  66c9978d     w21z7           ramen       japanese  \n",
       "4  66c9978d     w21z7           ramen       japanese  "
      ]
     },
     "execution_count": 50,
     "metadata": {},
     "output_type": "execute_result"
    }
   ],
   "source": [
    "full_data.head()"
   ]
  },
  {
   "cell_type": "markdown",
   "id": "a6207d47-8b09-406a-9daf-cb6f701ae989",
   "metadata": {},
   "source": [
    "### Tokenize Dish Names"
   ]
  },
  {
   "cell_type": "code",
   "execution_count": 51,
   "id": "e6fd9b75-e62f-4f55-83d6-5511949bc48e",
   "metadata": {
    "execution": {
     "iopub.execute_input": "2025-10-26T07:15:26.387025Z",
     "iopub.status.busy": "2025-10-26T07:15:26.386717Z",
     "iopub.status.idle": "2025-10-26T07:15:26.419290Z",
     "shell.execute_reply": "2025-10-26T07:15:26.417033Z",
     "shell.execute_reply.started": "2025-10-26T07:15:26.386999Z"
    }
   },
   "outputs": [],
   "source": [
    "# Split each dish name into tokens (words)\n",
    "\n",
    "tokenized_orders = [[dish.lower().split() for dish in order] for order in orders2]\n",
    "\n",
    "# Flatten inner lists so each order is a list of words\n",
    "tokenized_orders = [[word for dish in order for word in dish] for order in tokenized_orders]\n"
   ]
  },
  {
   "cell_type": "code",
   "execution_count": 52,
   "id": "9fc887db-3527-4cc3-9960-8fb1cde367d2",
   "metadata": {
    "execution": {
     "iopub.execute_input": "2025-10-26T07:15:26.422065Z",
     "iopub.status.busy": "2025-10-26T07:15:26.421519Z",
     "iopub.status.idle": "2025-10-26T07:15:26.432328Z",
     "shell.execute_reply": "2025-10-26T07:15:26.429519Z",
     "shell.execute_reply.started": "2025-10-26T07:15:26.422017Z"
    }
   },
   "outputs": [
    {
     "data": {
      "text/plain": [
       "4802"
      ]
     },
     "execution_count": 52,
     "metadata": {},
     "output_type": "execute_result"
    }
   ],
   "source": [
    "len(tokenized_orders)"
   ]
  },
  {
   "cell_type": "code",
   "execution_count": 53,
   "id": "873648f1-e300-481f-9f53-9103e60d3701",
   "metadata": {
    "execution": {
     "iopub.execute_input": "2025-10-26T07:15:26.436946Z",
     "iopub.status.busy": "2025-10-26T07:15:26.435355Z",
     "iopub.status.idle": "2025-10-26T07:15:26.446441Z",
     "shell.execute_reply": "2025-10-26T07:15:26.444604Z",
     "shell.execute_reply.started": "2025-10-26T07:15:26.436799Z"
    }
   },
   "outputs": [
    {
     "data": {
      "text/plain": [
       "22"
      ]
     },
     "execution_count": 53,
     "metadata": {},
     "output_type": "execute_result"
    }
   ],
   "source": [
    "len(tokenized_orders[0])"
   ]
  },
  {
   "cell_type": "code",
   "execution_count": 54,
   "id": "ce5aa17f-53c6-402c-84c9-efe88bf683eb",
   "metadata": {
    "execution": {
     "iopub.execute_input": "2025-10-26T07:15:26.533243Z",
     "iopub.status.busy": "2025-10-26T07:15:26.532877Z",
     "iopub.status.idle": "2025-10-26T07:15:27.298330Z",
     "shell.execute_reply": "2025-10-26T07:15:27.296444Z",
     "shell.execute_reply.started": "2025-10-26T07:15:26.533212Z"
    }
   },
   "outputs": [],
   "source": [
    "from gensim.models import Word2Vec\n",
    "\n",
    "# Train the model\n",
    "model = Word2Vec(sentences=tokenized_orders, vector_size=20, window=5, min_count=2, workers=4, sg=1)\n"
   ]
  },
  {
   "cell_type": "code",
   "execution_count": 55,
   "id": "1681e9f7-276c-419e-af51-ae97a14647b1",
   "metadata": {
    "execution": {
     "iopub.execute_input": "2025-10-26T07:15:27.300706Z",
     "iopub.status.busy": "2025-10-26T07:15:27.299893Z",
     "iopub.status.idle": "2025-10-26T07:15:27.315304Z",
     "shell.execute_reply": "2025-10-26T07:15:27.313147Z",
     "shell.execute_reply.started": "2025-10-26T07:15:27.300650Z"
    }
   },
   "outputs": [
    {
     "data": {
      "text/plain": [
       "[('don', 0.9621098041534424),\n",
       " ('teriyaki', 0.8961438536643982),\n",
       " ('sashimi', 0.8957017660140991),\n",
       " ('steak', 0.8820583820343018),\n",
       " ('tori', 0.8765750527381897)]"
      ]
     },
     "execution_count": 55,
     "metadata": {},
     "output_type": "execute_result"
    }
   ],
   "source": [
    "# Find dishes similar to \"karaage\"\n",
    "model.wv.most_similar(\"salmon\", topn=5)\n"
   ]
  },
  {
   "cell_type": "code",
   "execution_count": 56,
   "id": "3f3fe77c-1e31-4b90-8661-a7f14b0765d3",
   "metadata": {
    "execution": {
     "iopub.execute_input": "2025-10-26T07:15:27.665657Z",
     "iopub.status.busy": "2025-10-26T07:15:27.665030Z",
     "iopub.status.idle": "2025-10-26T07:15:27.677433Z",
     "shell.execute_reply": "2025-10-26T07:15:27.674989Z",
     "shell.execute_reply.started": "2025-10-26T07:15:27.665613Z"
    }
   },
   "outputs": [
    {
     "data": {
      "text/plain": [
       "[('grilled', 0.9201303124427795),\n",
       " ('udon', 0.8940363526344299),\n",
       " ('prawns', 0.892971932888031),\n",
       " ('seasoned', 0.8839151263237),\n",
       " ('cutlet', 0.8785425424575806)]"
      ]
     },
     "execution_count": 56,
     "metadata": {},
     "output_type": "execute_result"
    }
   ],
   "source": [
    "# Find dishes similar to \"ramen\"\n",
    "model.wv.most_similar(\"ramen\", topn=5)"
   ]
  },
  {
   "cell_type": "code",
   "execution_count": 57,
   "id": "9298c727-7768-4222-9e57-31df608cf2ed",
   "metadata": {
    "execution": {
     "iopub.execute_input": "2025-10-26T07:15:28.232917Z",
     "iopub.status.busy": "2025-10-26T07:15:28.232496Z",
     "iopub.status.idle": "2025-10-26T07:15:28.244312Z",
     "shell.execute_reply": "2025-10-26T07:15:28.241997Z",
     "shell.execute_reply.started": "2025-10-26T07:15:28.232878Z"
    }
   },
   "outputs": [
    {
     "data": {
      "text/plain": [
       "[('(reg)', 0.9892733693122864),\n",
       " ('recipe', 0.9888930320739746),\n",
       " ('truffled', 0.9867165088653564),\n",
       " ('(2', 0.9862599968910217),\n",
       " ('no', 0.9857614636421204)]"
      ]
     },
     "execution_count": 57,
     "metadata": {},
     "output_type": "execute_result"
    }
   ],
   "source": [
    "# Find dishes similar to \"pizza\"\n",
    "model.wv.most_similar(\"pizza\", topn=5)"
   ]
  },
  {
   "cell_type": "markdown",
   "id": "31ccd6e8-7cda-4496-aa2e-e7e49b957ce6",
   "metadata": {},
   "source": [
    "### 🎨  Word Cloud of Dish Names"
   ]
  },
  {
   "cell_type": "code",
   "execution_count": 58,
   "id": "f13c23b9-a7dc-4d50-9dff-0495a2615315",
   "metadata": {
    "execution": {
     "iopub.execute_input": "2025-10-26T07:15:29.176676Z",
     "iopub.status.busy": "2025-10-26T07:15:29.176234Z",
     "iopub.status.idle": "2025-10-26T07:15:30.667067Z",
     "shell.execute_reply": "2025-10-26T07:15:30.663703Z",
     "shell.execute_reply.started": "2025-10-26T07:15:29.176637Z"
    }
   },
   "outputs": [
    {
     "name": "stdout",
     "output_type": "stream",
     "text": [
      "Requirement already satisfied: wordcloud in /home/afnan/.pyenv/versions/3.10.6/envs/food-delivery-rec/lib/python3.10/site-packages (1.9.4)\n",
      "Requirement already satisfied: matplotlib in /home/afnan/.pyenv/versions/3.10.6/envs/food-delivery-rec/lib/python3.10/site-packages (3.10.7)\n",
      "Requirement already satisfied: numpy>=1.6.1 in /home/afnan/.pyenv/versions/3.10.6/envs/food-delivery-rec/lib/python3.10/site-packages (from wordcloud) (2.2.6)\n",
      "Requirement already satisfied: pillow in /home/afnan/.pyenv/versions/3.10.6/envs/food-delivery-rec/lib/python3.10/site-packages (from wordcloud) (12.0.0)\n",
      "Requirement already satisfied: contourpy>=1.0.1 in /home/afnan/.pyenv/versions/3.10.6/envs/food-delivery-rec/lib/python3.10/site-packages (from matplotlib) (1.3.2)\n",
      "Requirement already satisfied: cycler>=0.10 in /home/afnan/.pyenv/versions/3.10.6/envs/food-delivery-rec/lib/python3.10/site-packages (from matplotlib) (0.12.1)\n",
      "Requirement already satisfied: fonttools>=4.22.0 in /home/afnan/.pyenv/versions/3.10.6/envs/food-delivery-rec/lib/python3.10/site-packages (from matplotlib) (4.60.1)\n",
      "Requirement already satisfied: kiwisolver>=1.3.1 in /home/afnan/.pyenv/versions/3.10.6/envs/food-delivery-rec/lib/python3.10/site-packages (from matplotlib) (1.4.9)\n",
      "Requirement already satisfied: packaging>=20.0 in /home/afnan/.pyenv/versions/3.10.6/envs/food-delivery-rec/lib/python3.10/site-packages (from matplotlib) (25.0)\n",
      "Requirement already satisfied: pyparsing>=3 in /home/afnan/.pyenv/versions/3.10.6/envs/food-delivery-rec/lib/python3.10/site-packages (from matplotlib) (3.2.5)\n",
      "Requirement already satisfied: python-dateutil>=2.7 in /home/afnan/.pyenv/versions/3.10.6/envs/food-delivery-rec/lib/python3.10/site-packages (from matplotlib) (2.9.0.post0)\n",
      "Requirement already satisfied: six>=1.5 in /home/afnan/.pyenv/versions/3.10.6/envs/food-delivery-rec/lib/python3.10/site-packages (from python-dateutil>=2.7->matplotlib) (1.17.0)\n",
      "Note: you may need to restart the kernel to use updated packages.\n"
     ]
    }
   ],
   "source": [
    "pip install wordcloud matplotlib"
   ]
  },
  {
   "cell_type": "code",
   "execution_count": 59,
   "id": "3c3742dc-5224-43f1-8481-d2f98eae92cb",
   "metadata": {
    "execution": {
     "iopub.execute_input": "2025-10-26T07:15:30.669698Z",
     "iopub.status.busy": "2025-10-26T07:15:30.669006Z",
     "iopub.status.idle": "2025-10-26T07:15:30.702421Z",
     "shell.execute_reply": "2025-10-26T07:15:30.698431Z",
     "shell.execute_reply.started": "2025-10-26T07:15:30.669639Z"
    }
   },
   "outputs": [],
   "source": [
    "text = \" \".join(full_data['name'].dropna().astype(str).tolist())\n"
   ]
  },
  {
   "cell_type": "code",
   "execution_count": 60,
   "id": "377ff8eb-9072-4ba5-8fff-fb0e1bc9f441",
   "metadata": {
    "execution": {
     "iopub.execute_input": "2025-10-26T07:15:30.703850Z",
     "iopub.status.busy": "2025-10-26T07:15:30.703526Z",
     "iopub.status.idle": "2025-10-26T07:15:32.784641Z",
     "shell.execute_reply": "2025-10-26T07:15:32.781981Z",
     "shell.execute_reply.started": "2025-10-26T07:15:30.703825Z"
    }
   },
   "outputs": [
    {
     "data": {
      "image/png": "[encoded data removed]",
      "text/plain": [
       "<Figure size 1200x600 with 1 Axes>"
      ]
     },
     "metadata": {},
     "output_type": "display_data"
    }
   ],
   "source": [
    "from wordcloud import WordCloud\n",
    "import matplotlib.pyplot as plt\n",
    "\n",
    "# Create the word cloud\n",
    "wordcloud = WordCloud(width=800, height=400, background_color='black', colormap='Set2').generate(text)\n",
    "\n",
    "# Display it\n",
    "plt.figure(figsize=(12, 6))\n",
    "plt.imshow(wordcloud, interpolation='bilinear')\n",
    "plt.axis('off')\n",
    "plt.title(\"Dish Name Word Cloud\", fontsize=20)\n",
    "plt.show()"
   ]
  },
  {
   "cell_type": "code",
   "execution_count": null,
   "id": "676275b9-7991-41a2-9f6a-c93f178e31fa",
   "metadata": {},
   "outputs": [],
   "source": []
  },
  {
   "cell_type": "markdown",
   "id": "b3a08b18-7a53-4eb8-a00e-561cad3be198",
   "metadata": {},
   "source": [
    "### 👥 Top Customers"
   ]
  },
  {
   "cell_type": "code",
   "execution_count": 61,
   "id": "bc05db08-e4b7-4a42-aa1b-ec4676e1ab2d",
   "metadata": {
    "execution": {
     "iopub.execute_input": "2025-10-26T07:15:32.786508Z",
     "iopub.status.busy": "2025-10-26T07:15:32.785995Z",
     "iopub.status.idle": "2025-10-26T07:15:32.800752Z",
     "shell.execute_reply": "2025-10-26T07:15:32.798384Z",
     "shell.execute_reply.started": "2025-10-26T07:15:32.786474Z"
    }
   },
   "outputs": [
    {
     "name": "stdout",
     "output_type": "stream",
     "text": [
      "customer_id\n",
      "857c695baa    182\n",
      "e09be49ad4    131\n",
      "4e8b406597    108\n",
      "ac01e97093    102\n",
      "b8a1953622     74\n",
      "5ebbe86884     68\n",
      "1687ceff41     66\n",
      "fec4d1f339     65\n",
      "818a757422     62\n",
      "57cdd9b3a7     61\n",
      "Name: count, dtype: int64\n"
     ]
    }
   ],
   "source": [
    "top_customers = orders['customer_id'].value_counts().head(10)\n",
    "print(top_customers)\n"
   ]
  },
  {
   "cell_type": "markdown",
   "id": "1db24a35-f08a-4281-9875-4eaa95b554db",
   "metadata": {},
   "source": [
    "### 🗺️ Geohash Distribution"
   ]
  },
  {
   "cell_type": "code",
   "execution_count": 62,
   "id": "0dddcf9c-569b-4121-8ae9-484877171c73",
   "metadata": {
    "execution": {
     "iopub.execute_input": "2025-10-26T07:15:32.803533Z",
     "iopub.status.busy": "2025-10-26T07:15:32.803187Z",
     "iopub.status.idle": "2025-10-26T07:15:33.018342Z",
     "shell.execute_reply": "2025-10-26T07:15:33.016228Z",
     "shell.execute_reply.started": "2025-10-26T07:15:32.803506Z"
    }
   },
   "outputs": [
    {
     "data": {
      "text/plain": [
       "<Axes: title={'center': 'Top Geohash Areas'}, xlabel='geohash'>"
      ]
     },
     "execution_count": 62,
     "metadata": {},
     "output_type": "execute_result"
    },
    {
     "data": {
      "image/png": "[encoded data removed]",
      "text/plain": [
       "<Figure size 640x480 with 1 Axes>"
      ]
     },
     "metadata": {},
     "output_type": "display_data"
    }
   ],
   "source": [
    "orders['geohash'].value_counts().head(10).plot(kind='bar', title='Top Geohash Areas')"
   ]
  },
  {
   "cell_type": "code",
   "execution_count": 63,
   "id": "4bcf8e45-576a-4a9e-9e76-f2ab794a3d5d",
   "metadata": {
    "execution": {
     "iopub.execute_input": "2025-10-26T07:15:59.028483Z",
     "iopub.status.busy": "2025-10-26T07:15:59.027865Z",
     "iopub.status.idle": "2025-10-26T07:15:59.051685Z",
     "shell.execute_reply": "2025-10-26T07:15:59.049044Z",
     "shell.execute_reply.started": "2025-10-26T07:15:59.028430Z"
    }
   },
   "outputs": [
    {
     "data": {
      "text/html": [
       "<div>\n",
       "<style scoped>\n",
       "    .dataframe tbody tr th:only-of-type {\n",
       "        vertical-align: middle;\n",
       "    }\n",
       "\n",
       "    .dataframe tbody tr th {\n",
       "        vertical-align: top;\n",
       "    }\n",
       "\n",
       "    .dataframe thead th {\n",
       "        text-align: right;\n",
       "    }\n",
       "</style>\n",
       "<table border=\"1\" class=\"dataframe\">\n",
       "  <thead>\n",
       "    <tr style=\"text-align: right;\">\n",
       "      <th></th>\n",
       "      <th>customer_id</th>\n",
       "      <th>geohash_x</th>\n",
       "      <th>order_id</th>\n",
       "      <th>vendor_id</th>\n",
       "      <th>product_id</th>\n",
       "      <th>day_of_week</th>\n",
       "      <th>order_time</th>\n",
       "      <th>order_day</th>\n",
       "      <th>name</th>\n",
       "      <th>unit_price</th>\n",
       "      <th>chain_id</th>\n",
       "      <th>geohash_y</th>\n",
       "      <th>primary_cuisine</th>\n",
       "      <th>cuisine_origin</th>\n",
       "    </tr>\n",
       "  </thead>\n",
       "  <tbody>\n",
       "    <tr>\n",
       "      <th>0</th>\n",
       "      <td>1ba124d4e5</td>\n",
       "      <td>w21z7</td>\n",
       "      <td>0</td>\n",
       "      <td>212753d2</td>\n",
       "      <td>783e85338f1c</td>\n",
       "      <td>0</td>\n",
       "      <td>12:03:29</td>\n",
       "      <td>85 days</td>\n",
       "      <td>201. Japanese Garlic Karaage Don</td>\n",
       "      <td>0.0060</td>\n",
       "      <td>66c9978d</td>\n",
       "      <td>w21z7</td>\n",
       "      <td>ramen</td>\n",
       "      <td>japanese</td>\n",
       "    </tr>\n",
       "    <tr>\n",
       "      <th>1</th>\n",
       "      <td>1ba124d4e5</td>\n",
       "      <td>w21z7</td>\n",
       "      <td>0</td>\n",
       "      <td>212753d2</td>\n",
       "      <td>084ab73246e6</td>\n",
       "      <td>0</td>\n",
       "      <td>12:03:29</td>\n",
       "      <td>85 days</td>\n",
       "      <td>204. Chicken Cutlet Don</td>\n",
       "      <td>0.0068</td>\n",
       "      <td>66c9978d</td>\n",
       "      <td>w21z7</td>\n",
       "      <td>ramen</td>\n",
       "      <td>japanese</td>\n",
       "    </tr>\n",
       "    <tr>\n",
       "      <th>2</th>\n",
       "      <td>1ba124d4e5</td>\n",
       "      <td>w21z7</td>\n",
       "      <td>0</td>\n",
       "      <td>212753d2</td>\n",
       "      <td>30eba3cc2676</td>\n",
       "      <td>0</td>\n",
       "      <td>12:03:29</td>\n",
       "      <td>85 days</td>\n",
       "      <td>206. Beef Sukiyaki Don</td>\n",
       "      <td>0.0068</td>\n",
       "      <td>66c9978d</td>\n",
       "      <td>w21z7</td>\n",
       "      <td>ramen</td>\n",
       "      <td>japanese</td>\n",
       "    </tr>\n",
       "    <tr>\n",
       "      <th>3</th>\n",
       "      <td>1ba124d4e5</td>\n",
       "      <td>w21z7</td>\n",
       "      <td>0</td>\n",
       "      <td>212753d2</td>\n",
       "      <td>3910309eea60</td>\n",
       "      <td>0</td>\n",
       "      <td>12:03:29</td>\n",
       "      <td>85 days</td>\n",
       "      <td>209. Japanese Beef Yakiniku Don</td>\n",
       "      <td>0.0068</td>\n",
       "      <td>66c9978d</td>\n",
       "      <td>w21z7</td>\n",
       "      <td>ramen</td>\n",
       "      <td>japanese</td>\n",
       "    </tr>\n",
       "    <tr>\n",
       "      <th>4</th>\n",
       "      <td>1ba124d4e5</td>\n",
       "      <td>w21z7</td>\n",
       "      <td>0</td>\n",
       "      <td>212753d2</td>\n",
       "      <td>20049fb602cb</td>\n",
       "      <td>0</td>\n",
       "      <td>12:03:29</td>\n",
       "      <td>85 days</td>\n",
       "      <td>210. Teriyaki Salmon Don</td>\n",
       "      <td>0.0080</td>\n",
       "      <td>66c9978d</td>\n",
       "      <td>w21z7</td>\n",
       "      <td>ramen</td>\n",
       "      <td>japanese</td>\n",
       "    </tr>\n",
       "  </tbody>\n",
       "</table>\n",
       "</div>"
      ],
      "text/plain": [
       "  customer_id geohash_x  order_id vendor_id    product_id  day_of_week  \\\n",
       "0  1ba124d4e5     w21z7         0  212753d2  783e85338f1c            0   \n",
       "1  1ba124d4e5     w21z7         0  212753d2  084ab73246e6            0   \n",
       "2  1ba124d4e5     w21z7         0  212753d2  30eba3cc2676            0   \n",
       "3  1ba124d4e5     w21z7         0  212753d2  3910309eea60            0   \n",
       "4  1ba124d4e5     w21z7         0  212753d2  20049fb602cb            0   \n",
       "\n",
       "  order_time order_day                              name  unit_price  \\\n",
       "0   12:03:29   85 days  201. Japanese Garlic Karaage Don      0.0060   \n",
       "1   12:03:29   85 days           204. Chicken Cutlet Don      0.0068   \n",
       "2   12:03:29   85 days            206. Beef Sukiyaki Don      0.0068   \n",
       "3   12:03:29   85 days   209. Japanese Beef Yakiniku Don      0.0068   \n",
       "4   12:03:29   85 days          210. Teriyaki Salmon Don      0.0080   \n",
       "\n",
       "   chain_id geohash_y primary_cuisine cuisine_origin  \n",
       "0  66c9978d     w21z7           ramen       japanese  \n",
       "1  66c9978d     w21z7           ramen       japanese  \n",
       "2  66c9978d     w21z7           ramen       japanese  \n",
       "3  66c9978d     w21z7           ramen       japanese  \n",
       "4  66c9978d     w21z7           ramen       japanese  "
      ]
     },
     "execution_count": 63,
     "metadata": {},
     "output_type": "execute_result"
    }
   ],
   "source": [
    "full_data.head()"
   ]
  },
  {
   "cell_type": "code",
   "execution_count": 65,
   "id": "491ac0de-f597-4bd8-b7af-66f49475d2a3",
   "metadata": {
    "execution": {
     "iopub.execute_input": "2025-10-26T07:18:37.947111Z",
     "iopub.status.busy": "2025-10-26T07:18:37.946604Z",
     "iopub.status.idle": "2025-10-26T07:18:38.692614Z",
     "shell.execute_reply": "2025-10-26T07:18:38.690374Z",
     "shell.execute_reply.started": "2025-10-26T07:18:37.947074Z"
    }
   },
   "outputs": [],
   "source": [
    "import numpy as np\n",
    "import pandas as pd\n",
    "\n",
    "# Set seed for reproducibility (optional)\n",
    "np.random.seed(42)\n",
    "\n",
    "# Total number of rows\n",
    "n_rows =full_data.shape[0]\n",
    "# Count UNIQUE orders per customer (not rows)\n",
    "order_counts = full_data.groupby('customer_id')['order_id'].nunique()\n",
    "\n",
    "# Map order counts back to original dataframe\n",
    "full_data['order_frequency'] = full_data['customer_id'].map(order_counts)\n",
    "\n",
    "# Define thresholds based on order frequency quartiles\n",
    "high_freq_threshold = full_data['order_frequency'].quantile(0.75)\n",
    "medium_freq_threshold = full_data['order_frequency'].quantile(0.50)\n",
    "\n",
    "\n",
    "# Initialize rating column\n",
    "ratings = np.zeros(n_rows)\n",
    "\n",
    "# Assign ratings based on order frequency\n",
    "for idx in range(n_rows):\n",
    "    order_freq = full_data.iloc[idx, full_data.columns.get_loc('order_frequency')]\n",
    "\n",
    "    if order_freq >= high_freq_threshold:\n",
    "        # Most frequent orders: mostly 5 stars\n",
    "        ratings[idx] = np.random.choice([5, 4, 3], p=[0.85, 0.10, 0.05])\n",
    "\n",
    "    elif order_freq >= medium_freq_threshold:\n",
    "        # Medium frequency: some lower ratings for 1, 2, 3 stars\n",
    "        ratings[idx] = np.random.choice([5, 4, 3, 2, 1], p=[0.30, 0.25, 0.25, 0.15, 0.05])\n",
    "\n",
    "    else:\n",
    "        # Lower frequency: random distribution\n",
    "        ratings[idx] = np.random.randint(1, 6)\n",
    "\n",
    "# Add rating column to dataframe\n",
    "full_data['rating'] = ratings.astype(int) "
   ]
  },
  {
   "cell_type": "code",
   "execution_count": 144,
   "id": "8f658506-6313-4119-99d5-1bd82942c5ce",
   "metadata": {
    "execution": {
     "iopub.execute_input": "2025-10-26T11:12:43.693617Z",
     "iopub.status.busy": "2025-10-26T11:12:43.671351Z",
     "iopub.status.idle": "2025-10-26T11:12:44.017381Z",
     "shell.execute_reply": "2025-10-26T11:12:44.012370Z",
     "shell.execute_reply.started": "2025-10-26T11:12:43.692727Z"
    }
   },
   "outputs": [
    {
     "data": {
      "text/html": [
       "<div>\n",
       "<style scoped>\n",
       "    .dataframe tbody tr th:only-of-type {\n",
       "        vertical-align: middle;\n",
       "    }\n",
       "\n",
       "    .dataframe tbody tr th {\n",
       "        vertical-align: top;\n",
       "    }\n",
       "\n",
       "    .dataframe thead th {\n",
       "        text-align: right;\n",
       "    }\n",
       "</style>\n",
       "<table border=\"1\" class=\"dataframe\">\n",
       "  <thead>\n",
       "    <tr style=\"text-align: right;\">\n",
       "      <th></th>\n",
       "      <th>customer_id</th>\n",
       "      <th>geohash_x</th>\n",
       "      <th>order_id</th>\n",
       "      <th>vendor_id</th>\n",
       "      <th>product_id</th>\n",
       "      <th>day_of_week</th>\n",
       "      <th>order_time</th>\n",
       "      <th>order_day</th>\n",
       "      <th>name</th>\n",
       "      <th>unit_price</th>\n",
       "      <th>chain_id</th>\n",
       "      <th>geohash_y</th>\n",
       "      <th>primary_cuisine</th>\n",
       "      <th>cuisine_origin</th>\n",
       "      <th>order_frequency</th>\n",
       "      <th>rating</th>\n",
       "    </tr>\n",
       "  </thead>\n",
       "  <tbody>\n",
       "    <tr>\n",
       "      <th>0</th>\n",
       "      <td>1ba124d4e5</td>\n",
       "      <td>w21z7</td>\n",
       "      <td>0</td>\n",
       "      <td>212753d2</td>\n",
       "      <td>783e85338f1c</td>\n",
       "      <td>0</td>\n",
       "      <td>12:03:29</td>\n",
       "      <td>85 days</td>\n",
       "      <td>201. Japanese Garlic Karaage Don</td>\n",
       "      <td>0.0060</td>\n",
       "      <td>66c9978d</td>\n",
       "      <td>w21z7</td>\n",
       "      <td>ramen</td>\n",
       "      <td>japanese</td>\n",
       "      <td>1</td>\n",
       "      <td>4</td>\n",
       "    </tr>\n",
       "    <tr>\n",
       "      <th>1</th>\n",
       "      <td>1ba124d4e5</td>\n",
       "      <td>w21z7</td>\n",
       "      <td>0</td>\n",
       "      <td>212753d2</td>\n",
       "      <td>084ab73246e6</td>\n",
       "      <td>0</td>\n",
       "      <td>12:03:29</td>\n",
       "      <td>85 days</td>\n",
       "      <td>204. Chicken Cutlet Don</td>\n",
       "      <td>0.0068</td>\n",
       "      <td>66c9978d</td>\n",
       "      <td>w21z7</td>\n",
       "      <td>ramen</td>\n",
       "      <td>japanese</td>\n",
       "      <td>1</td>\n",
       "      <td>5</td>\n",
       "    </tr>\n",
       "    <tr>\n",
       "      <th>2</th>\n",
       "      <td>1ba124d4e5</td>\n",
       "      <td>w21z7</td>\n",
       "      <td>0</td>\n",
       "      <td>212753d2</td>\n",
       "      <td>30eba3cc2676</td>\n",
       "      <td>0</td>\n",
       "      <td>12:03:29</td>\n",
       "      <td>85 days</td>\n",
       "      <td>206. Beef Sukiyaki Don</td>\n",
       "      <td>0.0068</td>\n",
       "      <td>66c9978d</td>\n",
       "      <td>w21z7</td>\n",
       "      <td>ramen</td>\n",
       "      <td>japanese</td>\n",
       "      <td>1</td>\n",
       "      <td>3</td>\n",
       "    </tr>\n",
       "    <tr>\n",
       "      <th>3</th>\n",
       "      <td>1ba124d4e5</td>\n",
       "      <td>w21z7</td>\n",
       "      <td>0</td>\n",
       "      <td>212753d2</td>\n",
       "      <td>3910309eea60</td>\n",
       "      <td>0</td>\n",
       "      <td>12:03:29</td>\n",
       "      <td>85 days</td>\n",
       "      <td>209. Japanese Beef Yakiniku Don</td>\n",
       "      <td>0.0068</td>\n",
       "      <td>66c9978d</td>\n",
       "      <td>w21z7</td>\n",
       "      <td>ramen</td>\n",
       "      <td>japanese</td>\n",
       "      <td>1</td>\n",
       "      <td>5</td>\n",
       "    </tr>\n",
       "    <tr>\n",
       "      <th>4</th>\n",
       "      <td>1ba124d4e5</td>\n",
       "      <td>w21z7</td>\n",
       "      <td>0</td>\n",
       "      <td>212753d2</td>\n",
       "      <td>20049fb602cb</td>\n",
       "      <td>0</td>\n",
       "      <td>12:03:29</td>\n",
       "      <td>85 days</td>\n",
       "      <td>210. Teriyaki Salmon Don</td>\n",
       "      <td>0.0080</td>\n",
       "      <td>66c9978d</td>\n",
       "      <td>w21z7</td>\n",
       "      <td>ramen</td>\n",
       "      <td>japanese</td>\n",
       "      <td>1</td>\n",
       "      <td>5</td>\n",
       "    </tr>\n",
       "    <tr>\n",
       "      <th>5</th>\n",
       "      <td>f374c8c54c</td>\n",
       "      <td>w21zt</td>\n",
       "      <td>1</td>\n",
       "      <td>21830106</td>\n",
       "      <td>f245bdf79350</td>\n",
       "      <td>4</td>\n",
       "      <td>19:03:03</td>\n",
       "      <td>61 days</td>\n",
       "      <td>Chicken Cutlet with Rice</td>\n",
       "      <td>0.0020</td>\n",
       "      <td>NaN</td>\n",
       "      <td>w21zt</td>\n",
       "      <td>western</td>\n",
       "      <td>snacks</td>\n",
       "      <td>1</td>\n",
       "      <td>2</td>\n",
       "    </tr>\n",
       "    <tr>\n",
       "      <th>6</th>\n",
       "      <td>f374c8c54c</td>\n",
       "      <td>w21zt</td>\n",
       "      <td>1</td>\n",
       "      <td>21830106</td>\n",
       "      <td>146127be77d4</td>\n",
       "      <td>4</td>\n",
       "      <td>19:03:03</td>\n",
       "      <td>61 days</td>\n",
       "      <td>Chicken Chop</td>\n",
       "      <td>0.0028</td>\n",
       "      <td>NaN</td>\n",
       "      <td>w21zt</td>\n",
       "      <td>western</td>\n",
       "      <td>snacks</td>\n",
       "      <td>1</td>\n",
       "      <td>3</td>\n",
       "    </tr>\n",
       "    <tr>\n",
       "      <th>7</th>\n",
       "      <td>f374c8c54c</td>\n",
       "      <td>w21zt</td>\n",
       "      <td>1</td>\n",
       "      <td>21830106</td>\n",
       "      <td>6c108c0fb2b9</td>\n",
       "      <td>4</td>\n",
       "      <td>19:03:03</td>\n",
       "      <td>61 days</td>\n",
       "      <td>Chicken Wings with Rice</td>\n",
       "      <td>0.0016</td>\n",
       "      <td>NaN</td>\n",
       "      <td>w21zt</td>\n",
       "      <td>western</td>\n",
       "      <td>snacks</td>\n",
       "      <td>1</td>\n",
       "      <td>3</td>\n",
       "    </tr>\n",
       "    <tr>\n",
       "      <th>8</th>\n",
       "      <td>f374c8c54c</td>\n",
       "      <td>w21zt</td>\n",
       "      <td>1</td>\n",
       "      <td>21830106</td>\n",
       "      <td>da422c7836e1</td>\n",
       "      <td>4</td>\n",
       "      <td>19:03:03</td>\n",
       "      <td>61 days</td>\n",
       "      <td>Saba Fish with Rice</td>\n",
       "      <td>0.0024</td>\n",
       "      <td>NaN</td>\n",
       "      <td>w21zt</td>\n",
       "      <td>western</td>\n",
       "      <td>snacks</td>\n",
       "      <td>1</td>\n",
       "      <td>3</td>\n",
       "    </tr>\n",
       "    <tr>\n",
       "      <th>9</th>\n",
       "      <td>f374c8c54c</td>\n",
       "      <td>w21zt</td>\n",
       "      <td>1</td>\n",
       "      <td>21830106</td>\n",
       "      <td>01110c80a0fa</td>\n",
       "      <td>4</td>\n",
       "      <td>19:03:03</td>\n",
       "      <td>61 days</td>\n",
       "      <td>Chicken Chop with Rice</td>\n",
       "      <td>0.0020</td>\n",
       "      <td>NaN</td>\n",
       "      <td>w21zt</td>\n",
       "      <td>western</td>\n",
       "      <td>snacks</td>\n",
       "      <td>1</td>\n",
       "      <td>5</td>\n",
       "    </tr>\n",
       "  </tbody>\n",
       "</table>\n",
       "</div>"
      ],
      "text/plain": [
       "  customer_id geohash_x  order_id vendor_id    product_id  day_of_week  \\\n",
       "0  1ba124d4e5     w21z7         0  212753d2  783e85338f1c            0   \n",
       "1  1ba124d4e5     w21z7         0  212753d2  084ab73246e6            0   \n",
       "2  1ba124d4e5     w21z7         0  212753d2  30eba3cc2676            0   \n",
       "3  1ba124d4e5     w21z7         0  212753d2  3910309eea60            0   \n",
       "4  1ba124d4e5     w21z7         0  212753d2  20049fb602cb            0   \n",
       "5  f374c8c54c     w21zt         1  21830106  f245bdf79350            4   \n",
       "6  f374c8c54c     w21zt         1  21830106  146127be77d4            4   \n",
       "7  f374c8c54c     w21zt         1  21830106  6c108c0fb2b9            4   \n",
       "8  f374c8c54c     w21zt         1  21830106  da422c7836e1            4   \n",
       "9  f374c8c54c     w21zt         1  21830106  01110c80a0fa            4   \n",
       "\n",
       "  order_time order_day                              name  unit_price  \\\n",
       "0   12:03:29   85 days  201. Japanese Garlic Karaage Don      0.0060   \n",
       "1   12:03:29   85 days           204. Chicken Cutlet Don      0.0068   \n",
       "2   12:03:29   85 days            206. Beef Sukiyaki Don      0.0068   \n",
       "3   12:03:29   85 days   209. Japanese Beef Yakiniku Don      0.0068   \n",
       "4   12:03:29   85 days          210. Teriyaki Salmon Don      0.0080   \n",
       "5   19:03:03   61 days          Chicken Cutlet with Rice      0.0020   \n",
       "6   19:03:03   61 days                      Chicken Chop      0.0028   \n",
       "7   19:03:03   61 days           Chicken Wings with Rice      0.0016   \n",
       "8   19:03:03   61 days               Saba Fish with Rice      0.0024   \n",
       "9   19:03:03   61 days            Chicken Chop with Rice      0.0020   \n",
       "\n",
       "   chain_id geohash_y primary_cuisine cuisine_origin  order_frequency  rating  \n",
       "0  66c9978d     w21z7           ramen       japanese                1       4  \n",
       "1  66c9978d     w21z7           ramen       japanese                1       5  \n",
       "2  66c9978d     w21z7           ramen       japanese                1       3  \n",
       "3  66c9978d     w21z7           ramen       japanese                1       5  \n",
       "4  66c9978d     w21z7           ramen       japanese                1       5  \n",
       "5       NaN     w21zt         western         snacks                1       2  \n",
       "6       NaN     w21zt         western         snacks                1       3  \n",
       "7       NaN     w21zt         western         snacks                1       3  \n",
       "8       NaN     w21zt         western         snacks                1       3  \n",
       "9       NaN     w21zt         western         snacks                1       5  "
      ]
     },
     "execution_count": 144,
     "metadata": {},
     "output_type": "execute_result"
    }
   ],
   "source": [
    "full_data.head(10)"
   ]
  },
  {
   "cell_type": "code",
   "execution_count": 67,
   "id": "6de3207b-34d1-4879-8ca8-146c372fdbd6",
   "metadata": {
    "execution": {
     "iopub.execute_input": "2025-10-26T07:38:32.298152Z",
     "iopub.status.busy": "2025-10-26T07:38:32.280014Z",
     "iopub.status.idle": "2025-10-26T07:38:39.657943Z",
     "shell.execute_reply": "2025-10-26T07:38:39.650901Z",
     "shell.execute_reply.started": "2025-10-26T07:38:32.297844Z"
    }
   },
   "outputs": [
    {
     "name": "stdout",
     "output_type": "stream",
     "text": [
      "Requirement already satisfied: pandas in /home/afnan/.pyenv/versions/3.10.6/envs/food-delivery-rec/lib/python3.10/site-packages (2.3.3)\n",
      "Requirement already satisfied: numpy in /home/afnan/.pyenv/versions/3.10.6/envs/food-delivery-rec/lib/python3.10/site-packages (2.2.6)\n",
      "Requirement already satisfied: scipy in /home/afnan/.pyenv/versions/3.10.6/envs/food-delivery-rec/lib/python3.10/site-packages (1.15.3)\n",
      "Collecting implicit\n",
      "  Downloading implicit-0.7.2-cp310-cp310-manylinux2014_x86_64.whl.metadata (6.1 kB)\n",
      "Requirement already satisfied: scikit-learn in /home/afnan/.pyenv/versions/3.10.6/envs/food-delivery-rec/lib/python3.10/site-packages (1.7.2)\n",
      "Requirement already satisfied: python-dateutil>=2.8.2 in /home/afnan/.pyenv/versions/3.10.6/envs/food-delivery-rec/lib/python3.10/site-packages (from pandas) (2.9.0.post0)\n",
      "Requirement already satisfied: pytz>=2020.1 in /home/afnan/.pyenv/versions/3.10.6/envs/food-delivery-rec/lib/python3.10/site-packages (from pandas) (2025.2)\n",
      "Requirement already satisfied: tzdata>=2022.7 in /home/afnan/.pyenv/versions/3.10.6/envs/food-delivery-rec/lib/python3.10/site-packages (from pandas) (2025.2)\n",
      "Collecting tqdm>=4.27 (from implicit)\n",
      "  Using cached tqdm-4.67.1-py3-none-any.whl.metadata (57 kB)\n",
      "Requirement already satisfied: threadpoolctl in /home/afnan/.pyenv/versions/3.10.6/envs/food-delivery-rec/lib/python3.10/site-packages (from implicit) (3.6.0)\n",
      "Requirement already satisfied: joblib>=1.2.0 in /home/afnan/.pyenv/versions/3.10.6/envs/food-delivery-rec/lib/python3.10/site-packages (from scikit-learn) (1.5.2)\n",
      "Requirement already satisfied: six>=1.5 in /home/afnan/.pyenv/versions/3.10.6/envs/food-delivery-rec/lib/python3.10/site-packages (from python-dateutil>=2.8.2->pandas) (1.17.0)\n",
      "Downloading implicit-0.7.2-cp310-cp310-manylinux2014_x86_64.whl (8.9 MB)\n",
      "\u001b[2K   \u001b[90m━━━━━━━━━━━━━━━━━━━━━━━━━━━━━━━━━━━━━━━━\u001b[0m \u001b[32m8.9/8.9 MB\u001b[0m \u001b[31m3.8 MB/s\u001b[0m  \u001b[33m0:00:02\u001b[0m eta \u001b[36m0:00:01\u001b[0mm\n",
      "\u001b[?25hUsing cached tqdm-4.67.1-py3-none-any.whl (78 kB)\n",
      "Installing collected packages: tqdm, implicit\n",
      "\u001b[2K   \u001b[90m━━━━━━━━━━━━━━━━━━━━━━━━━━━━━━━━━━━━━━━━\u001b[0m \u001b[32m2/2\u001b[0m [implicit]1/2\u001b[0m [implicit]\n",
      "\u001b[1A\u001b[2KSuccessfully installed implicit-0.7.2 tqdm-4.67.1\n",
      "Note: you may need to restart the kernel to use updated packages.\n"
     ]
    }
   ],
   "source": [
    "pip install pandas numpy scipy implicit scikit-learn\n"
   ]
  },
  {
   "cell_type": "code",
   "execution_count": null,
   "id": "3c62ba6f-1b69-4166-ba58-b02d720799ca",
   "metadata": {},
   "outputs": [],
   "source": []
  },
  {
   "cell_type": "code",
   "execution_count": 145,
   "id": "2541ed67-7e88-4b8d-bd0c-e3b3f8f6f3e2",
   "metadata": {
    "execution": {
     "iopub.execute_input": "2025-10-26T11:13:00.307357Z",
     "iopub.status.busy": "2025-10-26T11:13:00.306547Z",
     "iopub.status.idle": "2025-10-26T11:13:00.592261Z",
     "shell.execute_reply": "2025-10-26T11:13:00.586537Z",
     "shell.execute_reply.started": "2025-10-26T11:13:00.307307Z"
    }
   },
   "outputs": [],
   "source": [
    "import pandas as pd\n",
    "import numpy as np\n",
    "from scipy.sparse import coo_matrix, csr_matrix\n",
    "from implicit.als import AlternatingLeastSquares\n",
    "df = full_data[['customer_id', 'vendor_id', 'order_frequency', 'rating']].copy()\n",
    "\n",
    "# Create a weighted score: order_frequency × rating\n",
    "df['score'] = df['order_frequency'] * df['rating']\n"
   ]
  },
  {
   "cell_type": "markdown",
   "id": "cf0ad3c0-3863-4936-a548-75ef5046532d",
   "metadata": {},
   "source": [
    "### 🔹  Encode Users and Vendors"
   ]
  },
  {
   "cell_type": "code",
   "execution_count": 146,
   "id": "9bd8e21a-6761-449e-8390-85e75251abe2",
   "metadata": {
    "execution": {
     "iopub.execute_input": "2025-10-26T11:13:03.264609Z",
     "iopub.status.busy": "2025-10-26T11:13:03.263006Z",
     "iopub.status.idle": "2025-10-26T11:13:03.570443Z",
     "shell.execute_reply": "2025-10-26T11:13:03.567537Z",
     "shell.execute_reply.started": "2025-10-26T11:13:03.264567Z"
    }
   },
   "outputs": [],
   "source": [
    "# Encode customer_id and vendor_id as numeric codes\n",
    "df['user_code'] = df['customer_id'].astype('category').cat.codes\n",
    "df['vendor_code'] = df['vendor_id'].astype('category').cat.codes\n"
   ]
  },
  {
   "cell_type": "markdown",
   "id": "68e672f3-c58b-4432-b648-8732adac328d",
   "metadata": {},
   "source": [
    "### 🧮  Create Implicit Feedback Matrix"
   ]
  },
  {
   "cell_type": "code",
   "execution_count": 147,
   "id": "090a115a-eba9-4c4c-8a4f-56893a9050cd",
   "metadata": {
    "execution": {
     "iopub.execute_input": "2025-10-26T11:13:05.206719Z",
     "iopub.status.busy": "2025-10-26T11:13:05.206223Z",
     "iopub.status.idle": "2025-10-26T11:13:05.288200Z",
     "shell.execute_reply": "2025-10-26T11:13:05.284121Z",
     "shell.execute_reply.started": "2025-10-26T11:13:05.206678Z"
    }
   },
   "outputs": [],
   "source": [
    "# Build sparse interaction matrix (users × vendors)\n",
    "interaction_matrix = coo_matrix(\n",
    "    (df['score'], (df['user_code'], df['vendor_code']))).T.tocsr()\n"
   ]
  },
  {
   "cell_type": "code",
   "execution_count": 148,
   "id": "c509219c-566c-40d7-a56d-6fc83d7729af",
   "metadata": {
    "execution": {
     "iopub.execute_input": "2025-10-26T11:13:06.935973Z",
     "iopub.status.busy": "2025-10-26T11:13:06.935082Z",
     "iopub.status.idle": "2025-10-26T11:13:11.286171Z",
     "shell.execute_reply": "2025-10-26T11:13:11.267609Z",
     "shell.execute_reply.started": "2025-10-26T11:13:06.935908Z"
    }
   },
   "outputs": [
    {
     "data": {
      "text/plain": [
       "(2351, 1072)"
      ]
     },
     "execution_count": 148,
     "metadata": {},
     "output_type": "execute_result"
    }
   ],
   "source": [
    "interaction_matrix.shape"
   ]
  },
  {
   "cell_type": "markdown",
   "id": "6ef1414b-3516-49c0-b213-0a7b7bbb1b9f",
   "metadata": {},
   "source": [
    "### Train ALS Model"
   ]
  },
  {
   "cell_type": "code",
   "execution_count": 149,
   "id": "0e26d100-86ea-427b-bc7f-a0a59e3091ea",
   "metadata": {
    "execution": {
     "iopub.execute_input": "2025-10-26T11:13:31.260826Z",
     "iopub.status.busy": "2025-10-26T11:13:31.260369Z",
     "iopub.status.idle": "2025-10-26T11:13:32.024584Z",
     "shell.execute_reply": "2025-10-26T11:13:32.020014Z",
     "shell.execute_reply.started": "2025-10-26T11:13:31.260793Z"
    }
   },
   "outputs": [
    {
     "name": "stderr",
     "output_type": "stream",
     "text": [
      "/home/afnan/.pyenv/versions/3.10.6/envs/food-delivery-rec/lib/python3.10/site-packages/implicit/utils.py:164: ParameterWarning: Method expects CSR input, and was passed csc_matrix instead. Converting to CSR took 0.005020856857299805 seconds\n",
      "  warnings.warn(\n"
     ]
    },
    {
     "data": {
      "application/vnd.jupyter.widget-view+json": {
       "model_id": "685ad6ff69af44a98a2d98d23d4ee2c9",
       "version_major": 2,
       "version_minor": 0
      },
      "text/plain": [
       "  0%|          | 0/30 [00:00<?, ?it/s]"
      ]
     },
     "metadata": {},
     "output_type": "display_data"
    }
   ],
   "source": [
    "from implicit.als import AlternatingLeastSquares\n",
    "from scipy.sparse import csr_matrix\n",
    "# Initialize ALS model\n",
    "# Initialize ALS model\n",
    "als_model = AlternatingLeastSquares(\n",
    "    factors=50,\n",
    "    regularization=0.1,\n",
    "    iterations=30,\n",
    "    random_state=42\n",
    ")\n",
    "\n",
    "# Fit the model (transpose for implicit format: items × users)\n",
    "als_model.fit(interaction_matrix.T)\n"
   ]
  },
  {
   "cell_type": "markdown",
   "id": "ad43189d-438b-4320-9598-def4a1f75c34",
   "metadata": {},
   "source": [
    "### 🔍 Build Lookup Tables"
   ]
  },
  {
   "cell_type": "code",
   "execution_count": 150,
   "id": "0aabffaa-15a2-46fb-b99a-c1c282433e7e",
   "metadata": {
    "execution": {
     "iopub.execute_input": "2025-10-26T11:13:37.297029Z",
     "iopub.status.busy": "2025-10-26T11:13:37.296408Z",
     "iopub.status.idle": "2025-10-26T11:13:37.333204Z",
     "shell.execute_reply": "2025-10-26T11:13:37.329944Z",
     "shell.execute_reply.started": "2025-10-26T11:13:37.296991Z"
    }
   },
   "outputs": [],
   "source": [
    "# Map encoded indices back to original IDs\n",
    "user_map = dict(enumerate(df['customer_id'].astype('category').cat.categories))\n",
    "vendor_map = dict(enumerate(df['vendor_id'].astype('category').cat.categories))\n",
    "\n",
    "# Reverse lookup for user input\n",
    "reverse_user_map = {v: k for k, v in user_map.items()}\n",
    "reverse_vendor_map = {v: k for k, v in vendor_map.items()}\n"
   ]
  },
  {
   "cell_type": "markdown",
   "id": "857bddca-969c-414b-a8a6-bd413702b6fa",
   "metadata": {},
   "source": [
    "### 🍽 Recommend Restaurants for a User"
   ]
  },
  {
   "cell_type": "code",
   "execution_count": 151,
   "id": "c7191789-7b9d-4864-ad72-8b2e5d098fda",
   "metadata": {
    "execution": {
     "iopub.execute_input": "2025-10-26T11:13:42.338716Z",
     "iopub.status.busy": "2025-10-26T11:13:42.338077Z",
     "iopub.status.idle": "2025-10-26T11:13:42.364631Z",
     "shell.execute_reply": "2025-10-26T11:13:42.359767Z",
     "shell.execute_reply.started": "2025-10-26T11:13:42.338669Z"
    }
   },
   "outputs": [],
   "source": [
    "def recommend_vendors(user_id, \n",
    "                      model=als_model,\n",
    "                      matrix = interaction_matrix, \n",
    "                      user_lookup=reverse_user_map,\n",
    "                      vendor_lookup=vendor_map, N=10):\n",
    "    if user_id not in user_lookup:\n",
    "        return \"Cold-start user. Recommend popular restaurants.\"\n",
    "    \n",
    "    user_idx = user_lookup[user_id]\n",
    "    user_items = interaction_matrix.T.tocsr()  # Ensure CSR format\n",
    "    \n",
    "    # Get recommendations\n",
    "    recommended = model.recommend(user_idx, user_items[user_idx], N=N)\n",
    "    \n",
    "    # Safely extract vendor IDs\n",
    "    recommended_vendors = [vendor_lookup[int(i[0])] for i in recommended]\n",
    "    \n",
    "    return recommended_vendors\n"
   ]
  },
  {
   "cell_type": "code",
   "execution_count": 143,
   "id": "fbc1e726-aa35-4ea5-a673-7a322f35a4ec",
   "metadata": {
    "execution": {
     "iopub.execute_input": "2025-10-26T11:11:05.910543Z",
     "iopub.status.busy": "2025-10-26T11:11:05.892284Z",
     "iopub.status.idle": "2025-10-26T11:11:06.422226Z",
     "shell.execute_reply": "2025-10-26T11:11:06.410060Z",
     "shell.execute_reply.started": "2025-10-26T11:11:05.909935Z"
    }
   },
   "outputs": [
    {
     "name": "stdout",
     "output_type": "stream",
     "text": [
      "Recommended restaurants for user: 1ba124d4e5\n",
      "Cuisine-matched ALS recommendations: []\n"
     ]
    }
   ],
   "source": [
    "# --- Cuisine-Based Filtering for ALS Recommendations ---\n",
    "user_id = \"1ba124d4e5\"  # Replace with any valid customer_id\n",
    "\n",
    "# Step A: Get ALS recommendations\n",
    "als_recs = recommend_vendors(user_id, N=20)\n",
    "\n",
    "# Step B: Get user's preferred cuisine\n",
    "user_cuisine = full_data[full_data['customer_id'] == user_id]['cuisine_origin'].mode()[0]\n",
    "\n",
    "# Step C: Get vendors that match the user's cuisine\n",
    "valid_vendors = full_data[full_data['cuisine_origin'] == user_cuisine]['vendor_id'].unique()\n",
    "\n",
    "# Step D: Filter ALS recommendations by cuisine\n",
    "filtered_recs = [v for v in als_recs if v in valid_vendors]\n",
    "\n",
    "# Step E: Display results\n",
    "print(\"Recommended restaurants for user:\", user_id)\n",
    "print(\"Cuisine-matched ALS recommendations:\", filtered_recs)\n"
   ]
  },
  {
   "cell_type": "code",
   "execution_count": 152,
   "id": "4ffa883e-07a1-4966-b547-906a122fb91a",
   "metadata": {
    "execution": {
     "iopub.execute_input": "2025-10-26T11:13:53.371108Z",
     "iopub.status.busy": "2025-10-26T11:13:53.370564Z",
     "iopub.status.idle": "2025-10-26T11:13:53.392349Z",
     "shell.execute_reply": "2025-10-26T11:13:53.388462Z",
     "shell.execute_reply.started": "2025-10-26T11:13:53.371070Z"
    }
   },
   "outputs": [
    {
     "name": "stdout",
     "output_type": "stream",
     "text": [
      "Recommended restaurants for user: f374c8c54c\n",
      "['f8b0e5ea', '0002b34d']\n"
     ]
    }
   ],
   "source": [
    "# Choose a valid user ID from your dataset\n",
    "user_id = \"f374c8c54c\"\n",
    "\n",
    "# Print recommendations\n",
    "print(\"Recommended restaurants for user:\", user_id)\n",
    "print(recommend_vendors(user_id))\n"
   ]
  },
  {
   "cell_type": "markdown",
   "id": "731eb966-3bd5-4dba-ab20-fdf8e42b5eda",
   "metadata": {},
   "source": [
    "#### 🔍  See What the User Ordered"
   ]
  },
  {
   "cell_type": "code",
   "execution_count": 153,
   "id": "920520d4-8bc4-4669-a587-7324b79331ae",
   "metadata": {
    "execution": {
     "iopub.execute_input": "2025-10-26T11:14:01.628947Z",
     "iopub.status.busy": "2025-10-26T11:14:01.627486Z",
     "iopub.status.idle": "2025-10-26T11:14:01.724512Z",
     "shell.execute_reply": "2025-10-26T11:14:01.715223Z",
     "shell.execute_reply.started": "2025-10-26T11:14:01.628893Z"
    }
   },
   "outputs": [
    {
     "data": {
      "text/html": [
       "<div>\n",
       "<style scoped>\n",
       "    .dataframe tbody tr th:only-of-type {\n",
       "        vertical-align: middle;\n",
       "    }\n",
       "\n",
       "    .dataframe tbody tr th {\n",
       "        vertical-align: top;\n",
       "    }\n",
       "\n",
       "    .dataframe thead th {\n",
       "        text-align: right;\n",
       "    }\n",
       "</style>\n",
       "<table border=\"1\" class=\"dataframe\">\n",
       "  <thead>\n",
       "    <tr style=\"text-align: right;\">\n",
       "      <th></th>\n",
       "      <th>vendor_id</th>\n",
       "      <th>name</th>\n",
       "      <th>cuisine_origin</th>\n",
       "      <th>unit_price</th>\n",
       "      <th>rating</th>\n",
       "    </tr>\n",
       "  </thead>\n",
       "  <tbody>\n",
       "    <tr>\n",
       "      <th>5</th>\n",
       "      <td>21830106</td>\n",
       "      <td>Chicken Cutlet with Rice</td>\n",
       "      <td>snacks</td>\n",
       "      <td>0.0020</td>\n",
       "      <td>2</td>\n",
       "    </tr>\n",
       "    <tr>\n",
       "      <th>6</th>\n",
       "      <td>21830106</td>\n",
       "      <td>Chicken Chop</td>\n",
       "      <td>snacks</td>\n",
       "      <td>0.0028</td>\n",
       "      <td>3</td>\n",
       "    </tr>\n",
       "    <tr>\n",
       "      <th>7</th>\n",
       "      <td>21830106</td>\n",
       "      <td>Chicken Wings with Rice</td>\n",
       "      <td>snacks</td>\n",
       "      <td>0.0016</td>\n",
       "      <td>3</td>\n",
       "    </tr>\n",
       "    <tr>\n",
       "      <th>8</th>\n",
       "      <td>21830106</td>\n",
       "      <td>Saba Fish with Rice</td>\n",
       "      <td>snacks</td>\n",
       "      <td>0.0024</td>\n",
       "      <td>3</td>\n",
       "    </tr>\n",
       "    <tr>\n",
       "      <th>9</th>\n",
       "      <td>21830106</td>\n",
       "      <td>Chicken Chop with Rice</td>\n",
       "      <td>snacks</td>\n",
       "      <td>0.0020</td>\n",
       "      <td>5</td>\n",
       "    </tr>\n",
       "    <tr>\n",
       "      <th>10</th>\n",
       "      <td>21830106</td>\n",
       "      <td>Tomato Sauce Spaghetti</td>\n",
       "      <td>snacks</td>\n",
       "      <td>0.0020</td>\n",
       "      <td>4</td>\n",
       "    </tr>\n",
       "    <tr>\n",
       "      <th>11</th>\n",
       "      <td>21830106</td>\n",
       "      <td>Grilled Fish</td>\n",
       "      <td>snacks</td>\n",
       "      <td>0.0036</td>\n",
       "      <td>3</td>\n",
       "    </tr>\n",
       "    <tr>\n",
       "      <th>12</th>\n",
       "      <td>21830106</td>\n",
       "      <td>Fish &amp; Chips</td>\n",
       "      <td>snacks</td>\n",
       "      <td>0.0028</td>\n",
       "      <td>5</td>\n",
       "    </tr>\n",
       "  </tbody>\n",
       "</table>\n",
       "</div>"
      ],
      "text/plain": [
       "   vendor_id                      name cuisine_origin  unit_price  rating\n",
       "5   21830106  Chicken Cutlet with Rice         snacks      0.0020       2\n",
       "6   21830106              Chicken Chop         snacks      0.0028       3\n",
       "7   21830106   Chicken Wings with Rice         snacks      0.0016       3\n",
       "8   21830106       Saba Fish with Rice         snacks      0.0024       3\n",
       "9   21830106    Chicken Chop with Rice         snacks      0.0020       5\n",
       "10  21830106    Tomato Sauce Spaghetti         snacks      0.0020       4\n",
       "11  21830106              Grilled Fish         snacks      0.0036       3\n",
       "12  21830106              Fish & Chips         snacks      0.0028       5"
      ]
     },
     "execution_count": 153,
     "metadata": {},
     "output_type": "execute_result"
    }
   ],
   "source": [
    "# Filter orders placed by the user\n",
    "user_orders = full_data[full_data['customer_id'] == \"f374c8c54c\"]\n",
    "\n",
    "# Display key details\n",
    "user_orders[['vendor_id', 'name', 'cuisine_origin', 'unit_price', 'rating']]\n"
   ]
  },
  {
   "cell_type": "markdown",
   "id": "59a64fdd-4ff0-4d5b-9af2-29c39eeb02a5",
   "metadata": {},
   "source": [
    "This will show:\n",
    "\n",
    "Which vendors the user ordered from\n",
    "\n",
    "What dishes they ordered\n",
    "\n",
    "Cuisine type, price, and rating"
   ]
  },
  {
   "cell_type": "markdown",
   "id": "e554c698-1f60-4f48-9810-3d9df22d10bd",
   "metadata": {},
   "source": [
    "#### 🔍 See What the Recommended Vendors Offer"
   ]
  },
  {
   "cell_type": "code",
   "execution_count": 154,
   "id": "c9653aae-6ece-40e9-aa2e-daa45da66da3",
   "metadata": {
    "execution": {
     "iopub.execute_input": "2025-10-26T11:14:44.743403Z",
     "iopub.status.busy": "2025-10-26T11:14:44.740675Z",
     "iopub.status.idle": "2025-10-26T11:14:44.846156Z",
     "shell.execute_reply": "2025-10-26T11:14:44.842128Z",
     "shell.execute_reply.started": "2025-10-26T11:14:44.743230Z"
    }
   },
   "outputs": [
    {
     "data": {
      "text/html": [
       "<div>\n",
       "<style scoped>\n",
       "    .dataframe tbody tr th:only-of-type {\n",
       "        vertical-align: middle;\n",
       "    }\n",
       "\n",
       "    .dataframe tbody tr th {\n",
       "        vertical-align: top;\n",
       "    }\n",
       "\n",
       "    .dataframe thead th {\n",
       "        text-align: right;\n",
       "    }\n",
       "</style>\n",
       "<table border=\"1\" class=\"dataframe\">\n",
       "  <thead>\n",
       "    <tr style=\"text-align: right;\">\n",
       "      <th></th>\n",
       "      <th>vendor_id</th>\n",
       "      <th>name</th>\n",
       "      <th>cuisine_origin</th>\n",
       "      <th>unit_price</th>\n",
       "    </tr>\n",
       "  </thead>\n",
       "  <tbody>\n",
       "    <tr>\n",
       "      <th>3381</th>\n",
       "      <td>0002b34d</td>\n",
       "      <td>Back To Basics (Vegan)</td>\n",
       "      <td>snacks</td>\n",
       "      <td>0.0036</td>\n",
       "    </tr>\n",
       "    <tr>\n",
       "      <th>3382</th>\n",
       "      <td>0002b34d</td>\n",
       "      <td>Avo Vanilla</td>\n",
       "      <td>snacks</td>\n",
       "      <td>0.0036</td>\n",
       "    </tr>\n",
       "    <tr>\n",
       "      <th>3383</th>\n",
       "      <td>0002b34d</td>\n",
       "      <td>Goodfellas</td>\n",
       "      <td>snacks</td>\n",
       "      <td>0.0040</td>\n",
       "    </tr>\n",
       "    <tr>\n",
       "      <th>3384</th>\n",
       "      <td>0002b34d</td>\n",
       "      <td>Avo Vanilla</td>\n",
       "      <td>snacks</td>\n",
       "      <td>0.0036</td>\n",
       "    </tr>\n",
       "    <tr>\n",
       "      <th>6894</th>\n",
       "      <td>f8b0e5ea</td>\n",
       "      <td>Tau Pok</td>\n",
       "      <td>chinese</td>\n",
       "      <td>0.0028</td>\n",
       "    </tr>\n",
       "    <tr>\n",
       "      <th>6895</th>\n",
       "      <td>f8b0e5ea</td>\n",
       "      <td>Pork Tenderloin Soup</td>\n",
       "      <td>chinese</td>\n",
       "      <td>0.0060</td>\n",
       "    </tr>\n",
       "    <tr>\n",
       "      <th>6896</th>\n",
       "      <td>f8b0e5ea</td>\n",
       "      <td>Kai Lan Vegetables</td>\n",
       "      <td>chinese</td>\n",
       "      <td>0.0052</td>\n",
       "    </tr>\n",
       "    <tr>\n",
       "      <th>6897</th>\n",
       "      <td>f8b0e5ea</td>\n",
       "      <td>Rice</td>\n",
       "      <td>chinese</td>\n",
       "      <td>0.0004</td>\n",
       "    </tr>\n",
       "  </tbody>\n",
       "</table>\n",
       "</div>"
      ],
      "text/plain": [
       "     vendor_id                    name cuisine_origin  unit_price\n",
       "3381  0002b34d  Back To Basics (Vegan)         snacks      0.0036\n",
       "3382  0002b34d             Avo Vanilla         snacks      0.0036\n",
       "3383  0002b34d              Goodfellas         snacks      0.0040\n",
       "3384  0002b34d             Avo Vanilla         snacks      0.0036\n",
       "6894  f8b0e5ea                 Tau Pok        chinese      0.0028\n",
       "6895  f8b0e5ea    Pork Tenderloin Soup        chinese      0.0060\n",
       "6896  f8b0e5ea      Kai Lan Vegetables        chinese      0.0052\n",
       "6897  f8b0e5ea                    Rice        chinese      0.0004"
      ]
     },
     "execution_count": 154,
     "metadata": {},
     "output_type": "execute_result"
    }
   ],
   "source": [
    "# List of recommended vendor IDs\n",
    "recommended_ids = ['f8b0e5ea', '0002b34d']\n",
    "\n",
    "# Filter full_data for those vendors\n",
    "vendor_offers = full_data[full_data['vendor_id'].isin(recommended_ids)]\n",
    "\n",
    "# Display their menu items\n",
    "vendor_offers[['vendor_id', 'name', 'cuisine_origin', 'unit_price']]\n"
   ]
  },
  {
   "cell_type": "markdown",
   "id": "90e2a858-07b3-424c-9e15-15ad1828e93f",
   "metadata": {},
   "source": [
    "This will show:\n",
    "\n",
    "What dishes those vendors serve\n",
    "\n",
    "Their cuisine type and pricing"
   ]
  },
  {
   "cell_type": "markdown",
   "id": "f58a79cb-05a5-4482-a81d-8d3ff521890a",
   "metadata": {},
   "source": [
    "###  🔹 Step 1: Build the Vendor Feature Matrix"
   ]
  },
  {
   "cell_type": "code",
   "execution_count": 155,
   "id": "e1849215-b2df-4c5a-9fcc-78763281a7f8",
   "metadata": {
    "execution": {
     "iopub.execute_input": "2025-10-26T11:41:44.190845Z",
     "iopub.status.busy": "2025-10-26T11:41:44.165132Z",
     "iopub.status.idle": "2025-10-26T11:41:44.733540Z",
     "shell.execute_reply": "2025-10-26T11:41:44.721894Z",
     "shell.execute_reply.started": "2025-10-26T11:41:44.190069Z"
    }
   },
   "outputs": [],
   "source": [
    "# Step 1: Aggregate vendor features\n",
    "vendor_features = full_data.groupby('vendor_id').agg({\n",
    "    'primary_cuisine': 'first',\n",
    "    'unit_price': 'mean',\n",
    "    'rating': 'mean'\n",
    "}).reset_index()\n",
    "\n",
    "# Step 2: One-hot encode cuisine\n",
    "cuisine_encoded = pd.get_dummies(vendor_features['primary_cuisine'])\n",
    "\n",
    "# Step 3: Normalize price and rating\n",
    "vendor_features['unit_price_norm'] = (vendor_features['unit_price'] - vendor_features['unit_price'].min()) / (vendor_features['unit_price'].max() - vendor_features['unit_price'].min())\n",
    "vendor_features['rating_norm'] = (vendor_features['rating'] - vendor_features['rating'].min()) / (vendor_features['rating'].max() - vendor_features['rating'].min())\n",
    "\n",
    "# Step 4: Combine all features\n",
    "content_matrix = pd.concat([cuisine_encoded, vendor_features[['unit_price_norm', 'rating_norm']]], axis=1)\n",
    "content_matrix.index = vendor_features['vendor_id']\n"
   ]
  },
  {
   "cell_type": "markdown",
   "id": "10037536-6cf5-461a-a059-90c70beba8f9",
   "metadata": {},
   "source": [
    "### 🔹 Step 2: Compute Vendor Similarity"
   ]
  },
  {
   "cell_type": "code",
   "execution_count": 156,
   "id": "b693e080-7b3c-4d96-b78b-f71baa0664f9",
   "metadata": {
    "execution": {
     "iopub.execute_input": "2025-10-26T11:42:53.753014Z",
     "iopub.status.busy": "2025-10-26T11:42:53.733947Z",
     "iopub.status.idle": "2025-10-26T11:42:54.222963Z",
     "shell.execute_reply": "2025-10-26T11:42:54.217283Z",
     "shell.execute_reply.started": "2025-10-26T11:42:53.752616Z"
    }
   },
   "outputs": [],
   "source": [
    "from sklearn.metrics.pairwise import cosine_similarity\n",
    "\n",
    "# Compute cosine similarity between all vendors\n",
    "vendor_similarity = pd.DataFrame(\n",
    "    cosine_similarity(content_matrix),\n",
    "    index=content_matrix.index,\n",
    "    columns=content_matrix.index\n",
    ")\n"
   ]
  },
  {
   "cell_type": "markdown",
   "id": "55eb8556-2d1a-49bd-b3ee-5752b72b7fe4",
   "metadata": {},
   "source": [
    "### 🔹 Step 3: Define Hybrid Recommendation Function"
   ]
  },
  {
   "cell_type": "code",
   "execution_count": 157,
   "id": "374023af-fac8-4bca-ab6b-de7c35de5dc3",
   "metadata": {
    "execution": {
     "iopub.execute_input": "2025-10-26T11:44:25.981052Z",
     "iopub.status.busy": "2025-10-26T11:44:25.952625Z",
     "iopub.status.idle": "2025-10-26T11:44:26.131023Z",
     "shell.execute_reply": "2025-10-26T11:44:26.124163Z",
     "shell.execute_reply.started": "2025-10-26T11:44:25.979830Z"
    }
   },
   "outputs": [],
   "source": [
    "def hybrid_recommend(user_id, N=10):\n",
    "    # Step A: Get vendors the user has ordered from\n",
    "    user_vendors = full_data[full_data['customer_id'] == user_id]['vendor_id'].unique()\n",
    "    \n",
    "    # Step B: Content-based similarity scores\n",
    "    if len(user_vendors) == 0:\n",
    "        return \"Cold-start user. Recommend popular restaurants.\"\n",
    "    \n",
    "    content_scores = vendor_similarity[user_vendors].mean(axis=1)\n",
    "    content_scores = content_scores.drop(user_vendors, errors='ignore')\n",
    "    \n",
    "    # Step C: ALS recommendations\n",
    "    als_recs = recommend_vendors(user_id, N=50)\n",
    "    als_scores = pd.Series([1 / (i + 1) for i in range(len(als_recs))], index=als_recs)\n",
    "    \n",
    "    # Step D: Combine scores\n",
    "    hybrid_scores = pd.concat([als_scores, content_scores], axis=1).fillna(0)\n",
    "    hybrid_scores.columns = ['als', 'content']\n",
    "    hybrid_scores['hybrid'] = 0.5 * hybrid_scores['als'] + 0.5 * hybrid_scores['content']\n",
    "    \n",
    "    # Step E: Return top N\n",
    "    top_hybrid = hybrid_scores['hybrid'].sort_values(ascending=False).head(N).index.tolist()\n",
    "    return top_hybrid\n"
   ]
  },
  {
   "cell_type": "markdown",
   "id": "8926703e-f461-49c4-aed8-432d4d86ab78",
   "metadata": {},
   "source": [
    "### 🔹 Step 4: Test the Hybrid Recommender"
   ]
  },
  {
   "cell_type": "code",
   "execution_count": 158,
   "id": "51c7460c-902b-4e98-b9c7-ff871b382e01",
   "metadata": {
    "execution": {
     "iopub.execute_input": "2025-10-26T11:45:49.010247Z",
     "iopub.status.busy": "2025-10-26T11:45:48.997054Z",
     "iopub.status.idle": "2025-10-26T11:45:49.689421Z",
     "shell.execute_reply": "2025-10-26T11:45:49.683941Z",
     "shell.execute_reply.started": "2025-10-26T11:45:49.009627Z"
    }
   },
   "outputs": [
    {
     "name": "stdout",
     "output_type": "stream",
     "text": [
      "Hybrid recommendations for user: 1ba124d4e5\n",
      "['ffb3294b', 'c869579a', 'c6cc6a1a', 'd63258a2', '797acc51', '98231831', '14095e05', '4b2eb250', 'a09256a5', '6e89c321']\n"
     ]
    }
   ],
   "source": [
    "user_id = \"1ba124d4e5\"\n",
    "print(\"Hybrid recommendations for user:\", user_id)\n",
    "print(hybrid_recommend(user_id, N=10))\n"
   ]
  },
  {
   "cell_type": "code",
   "execution_count": 164,
   "id": "a635a096-e267-46eb-a3ca-79299bf09ec9",
   "metadata": {
    "execution": {
     "iopub.execute_input": "2025-10-26T11:54:03.474859Z",
     "iopub.status.busy": "2025-10-26T11:54:03.474251Z",
     "iopub.status.idle": "2025-10-26T11:54:03.537462Z",
     "shell.execute_reply": "2025-10-26T11:54:03.533433Z",
     "shell.execute_reply.started": "2025-10-26T11:54:03.474821Z"
    }
   },
   "outputs": [
    {
     "data": {
      "text/html": [
       "<div>\n",
       "<style scoped>\n",
       "    .dataframe tbody tr th:only-of-type {\n",
       "        vertical-align: middle;\n",
       "    }\n",
       "\n",
       "    .dataframe tbody tr th {\n",
       "        vertical-align: top;\n",
       "    }\n",
       "\n",
       "    .dataframe thead th {\n",
       "        text-align: right;\n",
       "    }\n",
       "</style>\n",
       "<table border=\"1\" class=\"dataframe\">\n",
       "  <thead>\n",
       "    <tr style=\"text-align: right;\">\n",
       "      <th></th>\n",
       "      <th>vendor_id</th>\n",
       "      <th>name</th>\n",
       "      <th>cuisine_origin</th>\n",
       "      <th>unit_price</th>\n",
       "      <th>rating</th>\n",
       "    </tr>\n",
       "  </thead>\n",
       "  <tbody>\n",
       "    <tr>\n",
       "      <th>0</th>\n",
       "      <td>212753d2</td>\n",
       "      <td>201. Japanese Garlic Karaage Don</td>\n",
       "      <td>japanese</td>\n",
       "      <td>0.0060</td>\n",
       "      <td>4</td>\n",
       "    </tr>\n",
       "    <tr>\n",
       "      <th>1</th>\n",
       "      <td>212753d2</td>\n",
       "      <td>204. Chicken Cutlet Don</td>\n",
       "      <td>japanese</td>\n",
       "      <td>0.0068</td>\n",
       "      <td>5</td>\n",
       "    </tr>\n",
       "    <tr>\n",
       "      <th>2</th>\n",
       "      <td>212753d2</td>\n",
       "      <td>206. Beef Sukiyaki Don</td>\n",
       "      <td>japanese</td>\n",
       "      <td>0.0068</td>\n",
       "      <td>3</td>\n",
       "    </tr>\n",
       "    <tr>\n",
       "      <th>3</th>\n",
       "      <td>212753d2</td>\n",
       "      <td>209. Japanese Beef Yakiniku Don</td>\n",
       "      <td>japanese</td>\n",
       "      <td>0.0068</td>\n",
       "      <td>5</td>\n",
       "    </tr>\n",
       "    <tr>\n",
       "      <th>4</th>\n",
       "      <td>212753d2</td>\n",
       "      <td>210. Teriyaki Salmon Don</td>\n",
       "      <td>japanese</td>\n",
       "      <td>0.0080</td>\n",
       "      <td>5</td>\n",
       "    </tr>\n",
       "  </tbody>\n",
       "</table>\n",
       "</div>"
      ],
      "text/plain": [
       "  vendor_id                              name cuisine_origin  unit_price  \\\n",
       "0  212753d2  201. Japanese Garlic Karaage Don       japanese      0.0060   \n",
       "1  212753d2           204. Chicken Cutlet Don       japanese      0.0068   \n",
       "2  212753d2            206. Beef Sukiyaki Don       japanese      0.0068   \n",
       "3  212753d2   209. Japanese Beef Yakiniku Don       japanese      0.0068   \n",
       "4  212753d2          210. Teriyaki Salmon Don       japanese      0.0080   \n",
       "\n",
       "   rating  \n",
       "0       4  \n",
       "1       5  \n",
       "2       3  \n",
       "3       5  \n",
       "4       5  "
      ]
     },
     "execution_count": 164,
     "metadata": {},
     "output_type": "execute_result"
    }
   ],
   "source": [
    "# Filter orders placed by the user\n",
    "user_orders = full_data[full_data['customer_id'] == \"1ba124d4e5\"]\n",
    "\n",
    "# Display key details\n",
    "user_orders[['vendor_id', 'name', 'cuisine_origin', 'unit_price', 'rating']]"
   ]
  },
  {
   "cell_type": "code",
   "execution_count": 159,
   "id": "7c6dbbd2-63fb-4c8e-83a6-b511cb474c19",
   "metadata": {
    "execution": {
     "iopub.execute_input": "2025-10-26T11:50:01.580456Z",
     "iopub.status.busy": "2025-10-26T11:50:01.550980Z",
     "iopub.status.idle": "2025-10-26T11:50:01.731051Z",
     "shell.execute_reply": "2025-10-26T11:50:01.720632Z",
     "shell.execute_reply.started": "2025-10-26T11:50:01.579822Z"
    }
   },
   "outputs": [],
   "source": [
    "recommended_vendors = ['ffb3294b', 'c869579a', 'c6cc6a1a', 'd63258a2', \n",
    "                       '797acc51', '98231831', '14095e05', '4b2eb250', \n",
    "                       'a09256a5', '6e89c321']\n"
   ]
  },
  {
   "cell_type": "code",
   "execution_count": 161,
   "id": "4f2eebd9-e8f8-437b-8c03-7293baf8eb26",
   "metadata": {
    "execution": {
     "iopub.execute_input": "2025-10-26T11:50:32.758447Z",
     "iopub.status.busy": "2025-10-26T11:50:32.757404Z",
     "iopub.status.idle": "2025-10-26T11:50:32.811252Z",
     "shell.execute_reply": "2025-10-26T11:50:32.804516Z",
     "shell.execute_reply.started": "2025-10-26T11:50:32.758403Z"
    }
   },
   "outputs": [
    {
     "data": {
      "text/html": [
       "<div>\n",
       "<style scoped>\n",
       "    .dataframe tbody tr th:only-of-type {\n",
       "        vertical-align: middle;\n",
       "    }\n",
       "\n",
       "    .dataframe tbody tr th {\n",
       "        vertical-align: top;\n",
       "    }\n",
       "\n",
       "    .dataframe thead th {\n",
       "        text-align: right;\n",
       "    }\n",
       "</style>\n",
       "<table border=\"1\" class=\"dataframe\">\n",
       "  <thead>\n",
       "    <tr style=\"text-align: right;\">\n",
       "      <th></th>\n",
       "      <th>vendor_id</th>\n",
       "      <th>name</th>\n",
       "      <th>cuisine_origin</th>\n",
       "      <th>unit_price</th>\n",
       "      <th>rating</th>\n",
       "    </tr>\n",
       "  </thead>\n",
       "  <tbody>\n",
       "    <tr>\n",
       "      <th>508</th>\n",
       "      <td>c869579a</td>\n",
       "      <td>Volcano Ramen</td>\n",
       "      <td>japanese</td>\n",
       "      <td>0.0064</td>\n",
       "      <td>4</td>\n",
       "    </tr>\n",
       "    <tr>\n",
       "      <th>509</th>\n",
       "      <td>c869579a</td>\n",
       "      <td>Ajisen Ramen</td>\n",
       "      <td>japanese</td>\n",
       "      <td>0.0048</td>\n",
       "      <td>4</td>\n",
       "    </tr>\n",
       "    <tr>\n",
       "      <th>510</th>\n",
       "      <td>c869579a</td>\n",
       "      <td>Nankotsu Ramen</td>\n",
       "      <td>japanese</td>\n",
       "      <td>0.0064</td>\n",
       "      <td>5</td>\n",
       "    </tr>\n",
       "    <tr>\n",
       "      <th>1020</th>\n",
       "      <td>797acc51</td>\n",
       "      <td>Scallop Spicy Ramen ホタテスパイシーラーメン</td>\n",
       "      <td>japanese</td>\n",
       "      <td>0.0072</td>\n",
       "      <td>4</td>\n",
       "    </tr>\n",
       "    <tr>\n",
       "      <th>2566</th>\n",
       "      <td>ffb3294b</td>\n",
       "      <td>Steamed Pork Dumpling 'Siew Mai' 鱼子蒸烧卖皇(3pcs)</td>\n",
       "      <td>chinese</td>\n",
       "      <td>0.0032</td>\n",
       "      <td>2</td>\n",
       "    </tr>\n",
       "    <tr>\n",
       "      <th>2567</th>\n",
       "      <td>ffb3294b</td>\n",
       "      <td>Steamed Molten Salted Egg Yolk Custard Piggy B...</td>\n",
       "      <td>chinese</td>\n",
       "      <td>0.0032</td>\n",
       "      <td>5</td>\n",
       "    </tr>\n",
       "    <tr>\n",
       "      <th>2568</th>\n",
       "      <td>ffb3294b</td>\n",
       "      <td>Steamed Prawn Dumpling 'Ha Kao' 筍尖鲜虾饺 (3pcs)</td>\n",
       "      <td>chinese</td>\n",
       "      <td>0.0032</td>\n",
       "      <td>1</td>\n",
       "    </tr>\n",
       "    <tr>\n",
       "      <th>3241</th>\n",
       "      <td>a09256a5</td>\n",
       "      <td>201. Japanese Garlic Karaage Don</td>\n",
       "      <td>japanese</td>\n",
       "      <td>0.0060</td>\n",
       "      <td>5</td>\n",
       "    </tr>\n",
       "    <tr>\n",
       "      <th>3242</th>\n",
       "      <td>a09256a5</td>\n",
       "      <td>204. Chicken Cutlet Don</td>\n",
       "      <td>japanese</td>\n",
       "      <td>0.0068</td>\n",
       "      <td>5</td>\n",
       "    </tr>\n",
       "    <tr>\n",
       "      <th>3656</th>\n",
       "      <td>98231831</td>\n",
       "      <td>Gyoza</td>\n",
       "      <td>japanese</td>\n",
       "      <td>0.0028</td>\n",
       "      <td>4</td>\n",
       "    </tr>\n",
       "    <tr>\n",
       "      <th>3657</th>\n",
       "      <td>98231831</td>\n",
       "      <td>Piri Spicy Karaage</td>\n",
       "      <td>japanese</td>\n",
       "      <td>0.0032</td>\n",
       "      <td>5</td>\n",
       "    </tr>\n",
       "    <tr>\n",
       "      <th>3669</th>\n",
       "      <td>14095e05</td>\n",
       "      <td>Toroniku Uobushi Ramen Bundle for 1</td>\n",
       "      <td>japanese</td>\n",
       "      <td>0.0080</td>\n",
       "      <td>5</td>\n",
       "    </tr>\n",
       "    <tr>\n",
       "      <th>4990</th>\n",
       "      <td>c6cc6a1a</td>\n",
       "      <td>Spicy Ramen + 3 Pcs Gyoza</td>\n",
       "      <td>japanese</td>\n",
       "      <td>0.0052</td>\n",
       "      <td>4</td>\n",
       "    </tr>\n",
       "    <tr>\n",
       "      <th>4991</th>\n",
       "      <td>c6cc6a1a</td>\n",
       "      <td>Corn Chashu Ramen</td>\n",
       "      <td>japanese</td>\n",
       "      <td>0.0048</td>\n",
       "      <td>5</td>\n",
       "    </tr>\n",
       "    <tr>\n",
       "      <th>4992</th>\n",
       "      <td>c6cc6a1a</td>\n",
       "      <td>Aso Ramen + 3 Pcs Gyoza</td>\n",
       "      <td>japanese</td>\n",
       "      <td>0.0052</td>\n",
       "      <td>4</td>\n",
       "    </tr>\n",
       "    <tr>\n",
       "      <th>6671</th>\n",
       "      <td>d63258a2</td>\n",
       "      <td>Wafu Seaweed Choregi Salad</td>\n",
       "      <td>japanese</td>\n",
       "      <td>0.0044</td>\n",
       "      <td>5</td>\n",
       "    </tr>\n",
       "    <tr>\n",
       "      <th>6672</th>\n",
       "      <td>d63258a2</td>\n",
       "      <td>Buddy Meal for 2 (U.P. $60)</td>\n",
       "      <td>japanese</td>\n",
       "      <td>0.0164</td>\n",
       "      <td>5</td>\n",
       "    </tr>\n",
       "    <tr>\n",
       "      <th>6673</th>\n",
       "      <td>d63258a2</td>\n",
       "      <td>Goma Q</td>\n",
       "      <td>japanese</td>\n",
       "      <td>0.0028</td>\n",
       "      <td>5</td>\n",
       "    </tr>\n",
       "    <tr>\n",
       "      <th>6676</th>\n",
       "      <td>d63258a2</td>\n",
       "      <td>IPPUDO Chicken Wings 4pcs</td>\n",
       "      <td>japanese</td>\n",
       "      <td>0.0040</td>\n",
       "      <td>5</td>\n",
       "    </tr>\n",
       "    <tr>\n",
       "      <th>6678</th>\n",
       "      <td>d63258a2</td>\n",
       "      <td>Hakata Nikusoba Ramen</td>\n",
       "      <td>japanese</td>\n",
       "      <td>0.0076</td>\n",
       "      <td>5</td>\n",
       "    </tr>\n",
       "    <tr>\n",
       "      <th>6683</th>\n",
       "      <td>d63258a2</td>\n",
       "      <td>Buddy Meal for 2 (U.P. $60)</td>\n",
       "      <td>japanese</td>\n",
       "      <td>0.0164</td>\n",
       "      <td>4</td>\n",
       "    </tr>\n",
       "    <tr>\n",
       "      <th>6685</th>\n",
       "      <td>d63258a2</td>\n",
       "      <td>Goma Q</td>\n",
       "      <td>japanese</td>\n",
       "      <td>0.0028</td>\n",
       "      <td>4</td>\n",
       "    </tr>\n",
       "    <tr>\n",
       "      <th>6696</th>\n",
       "      <td>d63258a2</td>\n",
       "      <td>Spicy Black Ramen</td>\n",
       "      <td>japanese</td>\n",
       "      <td>0.0080</td>\n",
       "      <td>3</td>\n",
       "    </tr>\n",
       "    <tr>\n",
       "      <th>6703</th>\n",
       "      <td>d63258a2</td>\n",
       "      <td>Japanese Shio Pudding</td>\n",
       "      <td>japanese</td>\n",
       "      <td>0.0028</td>\n",
       "      <td>3</td>\n",
       "    </tr>\n",
       "    <tr>\n",
       "      <th>8362</th>\n",
       "      <td>6e89c321</td>\n",
       "      <td>Kotteri Tonkotsu Ramen</td>\n",
       "      <td>japanese</td>\n",
       "      <td>0.0064</td>\n",
       "      <td>5</td>\n",
       "    </tr>\n",
       "    <tr>\n",
       "      <th>8502</th>\n",
       "      <td>d63258a2</td>\n",
       "      <td>IPPUDO Signature Set for 1 (U.P. $32)</td>\n",
       "      <td>japanese</td>\n",
       "      <td>0.0088</td>\n",
       "      <td>4</td>\n",
       "    </tr>\n",
       "    <tr>\n",
       "      <th>8503</th>\n",
       "      <td>d63258a2</td>\n",
       "      <td>Chicken Karaage 5pcs</td>\n",
       "      <td>japanese</td>\n",
       "      <td>0.0032</td>\n",
       "      <td>5</td>\n",
       "    </tr>\n",
       "    <tr>\n",
       "      <th>8504</th>\n",
       "      <td>d63258a2</td>\n",
       "      <td>Katsuo Bakkoshi Takoyaki 5pcs</td>\n",
       "      <td>japanese</td>\n",
       "      <td>0.0032</td>\n",
       "      <td>2</td>\n",
       "    </tr>\n",
       "    <tr>\n",
       "      <th>8505</th>\n",
       "      <td>d63258a2</td>\n",
       "      <td>Buddy Meal for 2 (U.P. $60)</td>\n",
       "      <td>japanese</td>\n",
       "      <td>0.0164</td>\n",
       "      <td>2</td>\n",
       "    </tr>\n",
       "    <tr>\n",
       "      <th>8828</th>\n",
       "      <td>ffb3294b</td>\n",
       "      <td>Baked BBQ Pork Pastry (3pc) 蜜汁叉烧酥</td>\n",
       "      <td>chinese</td>\n",
       "      <td>0.0028</td>\n",
       "      <td>2</td>\n",
       "    </tr>\n",
       "    <tr>\n",
       "      <th>8829</th>\n",
       "      <td>ffb3294b</td>\n",
       "      <td>Steamed Glutinous Rice with Chicken Wrapped in...</td>\n",
       "      <td>chinese</td>\n",
       "      <td>0.0012</td>\n",
       "      <td>3</td>\n",
       "    </tr>\n",
       "    <tr>\n",
       "      <th>8830</th>\n",
       "      <td>ffb3294b</td>\n",
       "      <td>Carrot Cake in XO Sauce XO萝卜糕</td>\n",
       "      <td>chinese</td>\n",
       "      <td>0.0052</td>\n",
       "      <td>4</td>\n",
       "    </tr>\n",
       "    <tr>\n",
       "      <th>8831</th>\n",
       "      <td>ffb3294b</td>\n",
       "      <td>Beancurd Skin Prawn Fritter 鲜虾腐皮卷</td>\n",
       "      <td>chinese</td>\n",
       "      <td>0.0036</td>\n",
       "      <td>2</td>\n",
       "    </tr>\n",
       "    <tr>\n",
       "      <th>8832</th>\n",
       "      <td>ffb3294b</td>\n",
       "      <td>Bento Set A.   Crisp Fried Sweet and Sour Pork...</td>\n",
       "      <td>chinese</td>\n",
       "      <td>0.0056</td>\n",
       "      <td>5</td>\n",
       "    </tr>\n",
       "    <tr>\n",
       "      <th>8833</th>\n",
       "      <td>ffb3294b</td>\n",
       "      <td>Bento Set C.  Sweet and Sour Sliced Fish Fille...</td>\n",
       "      <td>chinese</td>\n",
       "      <td>0.0060</td>\n",
       "      <td>1</td>\n",
       "    </tr>\n",
       "    <tr>\n",
       "      <th>8834</th>\n",
       "      <td>ffb3294b</td>\n",
       "      <td>Baked BBQ Pork Pastry (3pc) 蜜汁叉烧酥</td>\n",
       "      <td>chinese</td>\n",
       "      <td>0.0028</td>\n",
       "      <td>4</td>\n",
       "    </tr>\n",
       "    <tr>\n",
       "      <th>8835</th>\n",
       "      <td>ffb3294b</td>\n",
       "      <td>Bento Set A.   Crisp Fried Sweet and Sour Pork...</td>\n",
       "      <td>chinese</td>\n",
       "      <td>0.0056</td>\n",
       "      <td>3</td>\n",
       "    </tr>\n",
       "    <tr>\n",
       "      <th>8836</th>\n",
       "      <td>ffb3294b</td>\n",
       "      <td>Bento Set C.  Sweet and Sour Sliced Fish Fille...</td>\n",
       "      <td>chinese</td>\n",
       "      <td>0.0060</td>\n",
       "      <td>2</td>\n",
       "    </tr>\n",
       "    <tr>\n",
       "      <th>8837</th>\n",
       "      <td>ffb3294b</td>\n",
       "      <td>Baked BBQ Pork Pastry (3pc) 蜜汁叉烧酥</td>\n",
       "      <td>chinese</td>\n",
       "      <td>0.0028</td>\n",
       "      <td>5</td>\n",
       "    </tr>\n",
       "    <tr>\n",
       "      <th>9015</th>\n",
       "      <td>4b2eb250</td>\n",
       "      <td>A5 Prawn Dumplings Shrimp Ramen 鲜虾水饺赤汤面</td>\n",
       "      <td>japanese</td>\n",
       "      <td>0.0064</td>\n",
       "      <td>5</td>\n",
       "    </tr>\n",
       "  </tbody>\n",
       "</table>\n",
       "</div>"
      ],
      "text/plain": [
       "     vendor_id                                               name  \\\n",
       "508   c869579a                                      Volcano Ramen   \n",
       "509   c869579a                                       Ajisen Ramen   \n",
       "510   c869579a                                     Nankotsu Ramen   \n",
       "1020  797acc51                 Scallop Spicy Ramen ホタテスパイシーラーメン     \n",
       "2566  ffb3294b      Steamed Pork Dumpling 'Siew Mai' 鱼子蒸烧卖皇(3pcs)   \n",
       "2567  ffb3294b  Steamed Molten Salted Egg Yolk Custard Piggy B...   \n",
       "2568  ffb3294b       Steamed Prawn Dumpling 'Ha Kao' 筍尖鲜虾饺 (3pcs)   \n",
       "3241  a09256a5                   201. Japanese Garlic Karaage Don   \n",
       "3242  a09256a5                            204. Chicken Cutlet Don   \n",
       "3656  98231831                                              Gyoza   \n",
       "3657  98231831                                 Piri Spicy Karaage   \n",
       "3669  14095e05                Toroniku Uobushi Ramen Bundle for 1   \n",
       "4990  c6cc6a1a                          Spicy Ramen + 3 Pcs Gyoza   \n",
       "4991  c6cc6a1a                                  Corn Chashu Ramen   \n",
       "4992  c6cc6a1a                            Aso Ramen + 3 Pcs Gyoza   \n",
       "6671  d63258a2                         Wafu Seaweed Choregi Salad   \n",
       "6672  d63258a2                        Buddy Meal for 2 (U.P. $60)   \n",
       "6673  d63258a2                                             Goma Q   \n",
       "6676  d63258a2                          IPPUDO Chicken Wings 4pcs   \n",
       "6678  d63258a2                              Hakata Nikusoba Ramen   \n",
       "6683  d63258a2                        Buddy Meal for 2 (U.P. $60)   \n",
       "6685  d63258a2                                             Goma Q   \n",
       "6696  d63258a2                                  Spicy Black Ramen   \n",
       "6703  d63258a2                              Japanese Shio Pudding   \n",
       "8362  6e89c321                             Kotteri Tonkotsu Ramen   \n",
       "8502  d63258a2              IPPUDO Signature Set for 1 (U.P. $32)   \n",
       "8503  d63258a2                               Chicken Karaage 5pcs   \n",
       "8504  d63258a2                      Katsuo Bakkoshi Takoyaki 5pcs   \n",
       "8505  d63258a2                        Buddy Meal for 2 (U.P. $60)   \n",
       "8828  ffb3294b                  Baked BBQ Pork Pastry (3pc) 蜜汁叉烧酥   \n",
       "8829  ffb3294b  Steamed Glutinous Rice with Chicken Wrapped in...   \n",
       "8830  ffb3294b                      Carrot Cake in XO Sauce XO萝卜糕   \n",
       "8831  ffb3294b                  Beancurd Skin Prawn Fritter 鲜虾腐皮卷   \n",
       "8832  ffb3294b  Bento Set A.   Crisp Fried Sweet and Sour Pork...   \n",
       "8833  ffb3294b  Bento Set C.  Sweet and Sour Sliced Fish Fille...   \n",
       "8834  ffb3294b                  Baked BBQ Pork Pastry (3pc) 蜜汁叉烧酥   \n",
       "8835  ffb3294b  Bento Set A.   Crisp Fried Sweet and Sour Pork...   \n",
       "8836  ffb3294b  Bento Set C.  Sweet and Sour Sliced Fish Fille...   \n",
       "8837  ffb3294b                  Baked BBQ Pork Pastry (3pc) 蜜汁叉烧酥   \n",
       "9015  4b2eb250            A5 Prawn Dumplings Shrimp Ramen 鲜虾水饺赤汤面   \n",
       "\n",
       "     cuisine_origin  unit_price  rating  \n",
       "508        japanese      0.0064       4  \n",
       "509        japanese      0.0048       4  \n",
       "510        japanese      0.0064       5  \n",
       "1020       japanese      0.0072       4  \n",
       "2566        chinese      0.0032       2  \n",
       "2567        chinese      0.0032       5  \n",
       "2568        chinese      0.0032       1  \n",
       "3241       japanese      0.0060       5  \n",
       "3242       japanese      0.0068       5  \n",
       "3656       japanese      0.0028       4  \n",
       "3657       japanese      0.0032       5  \n",
       "3669       japanese      0.0080       5  \n",
       "4990       japanese      0.0052       4  \n",
       "4991       japanese      0.0048       5  \n",
       "4992       japanese      0.0052       4  \n",
       "6671       japanese      0.0044       5  \n",
       "6672       japanese      0.0164       5  \n",
       "6673       japanese      0.0028       5  \n",
       "6676       japanese      0.0040       5  \n",
       "6678       japanese      0.0076       5  \n",
       "6683       japanese      0.0164       4  \n",
       "6685       japanese      0.0028       4  \n",
       "6696       japanese      0.0080       3  \n",
       "6703       japanese      0.0028       3  \n",
       "8362       japanese      0.0064       5  \n",
       "8502       japanese      0.0088       4  \n",
       "8503       japanese      0.0032       5  \n",
       "8504       japanese      0.0032       2  \n",
       "8505       japanese      0.0164       2  \n",
       "8828        chinese      0.0028       2  \n",
       "8829        chinese      0.0012       3  \n",
       "8830        chinese      0.0052       4  \n",
       "8831        chinese      0.0036       2  \n",
       "8832        chinese      0.0056       5  \n",
       "8833        chinese      0.0060       1  \n",
       "8834        chinese      0.0028       4  \n",
       "8835        chinese      0.0056       3  \n",
       "8836        chinese      0.0060       2  \n",
       "8837        chinese      0.0028       5  \n",
       "9015       japanese      0.0064       5  "
      ]
     },
     "execution_count": 161,
     "metadata": {},
     "output_type": "execute_result"
    }
   ],
   "source": [
    "# Get menu items and vendor details for recommended vendors\n",
    "recommended_details = full_data[full_data['vendor_id'].isin(recommended_vendors)]\n",
    "\n",
    "# Display key columns\n",
    "recommended_details[['vendor_id', 'name', 'cuisine_origin', 'unit_price', 'rating']].drop_duplicates()\n"
   ]
  },
  {
   "cell_type": "code",
   "execution_count": 163,
   "id": "8d43da36-9c7f-4a4a-ac87-306ca9751aff",
   "metadata": {
    "execution": {
     "iopub.execute_input": "2025-10-26T11:53:22.497761Z",
     "iopub.status.busy": "2025-10-26T11:53:22.488058Z",
     "iopub.status.idle": "2025-10-26T11:53:22.632141Z",
     "shell.execute_reply": "2025-10-26T11:53:22.628655Z",
     "shell.execute_reply.started": "2025-10-26T11:53:22.496486Z"
    }
   },
   "outputs": [
    {
     "data": {
      "text/html": [
       "<div>\n",
       "<style scoped>\n",
       "    .dataframe tbody tr th:only-of-type {\n",
       "        vertical-align: middle;\n",
       "    }\n",
       "\n",
       "    .dataframe tbody tr th {\n",
       "        vertical-align: top;\n",
       "    }\n",
       "\n",
       "    .dataframe thead th {\n",
       "        text-align: right;\n",
       "    }\n",
       "</style>\n",
       "<table border=\"1\" class=\"dataframe\">\n",
       "  <thead>\n",
       "    <tr style=\"text-align: right;\">\n",
       "      <th></th>\n",
       "      <th>vendor_id</th>\n",
       "      <th>cuisine_origin</th>\n",
       "      <th>unit_price</th>\n",
       "      <th>rating</th>\n",
       "      <th>name</th>\n",
       "    </tr>\n",
       "  </thead>\n",
       "  <tbody>\n",
       "    <tr>\n",
       "      <th>0</th>\n",
       "      <td>14095e05</td>\n",
       "      <td>japanese</td>\n",
       "      <td>0.008000</td>\n",
       "      <td>5.000000</td>\n",
       "      <td>[Toroniku Uobushi Ramen Bundle for 1]</td>\n",
       "    </tr>\n",
       "    <tr>\n",
       "      <th>1</th>\n",
       "      <td>4b2eb250</td>\n",
       "      <td>japanese</td>\n",
       "      <td>0.006400</td>\n",
       "      <td>5.000000</td>\n",
       "      <td>[A5 Prawn Dumplings Shrimp Ramen 鲜虾水饺赤汤面]</td>\n",
       "    </tr>\n",
       "    <tr>\n",
       "      <th>2</th>\n",
       "      <td>6e89c321</td>\n",
       "      <td>japanese</td>\n",
       "      <td>0.006400</td>\n",
       "      <td>5.000000</td>\n",
       "      <td>[Kotteri Tonkotsu Ramen]</td>\n",
       "    </tr>\n",
       "    <tr>\n",
       "      <th>3</th>\n",
       "      <td>797acc51</td>\n",
       "      <td>japanese</td>\n",
       "      <td>0.007200</td>\n",
       "      <td>4.000000</td>\n",
       "      <td>[Scallop Spicy Ramen ホタテスパイシーラーメン  ]</td>\n",
       "    </tr>\n",
       "    <tr>\n",
       "      <th>4</th>\n",
       "      <td>98231831</td>\n",
       "      <td>japanese</td>\n",
       "      <td>0.003000</td>\n",
       "      <td>4.500000</td>\n",
       "      <td>[Gyoza, Piri Spicy Karaage]</td>\n",
       "    </tr>\n",
       "    <tr>\n",
       "      <th>5</th>\n",
       "      <td>a09256a5</td>\n",
       "      <td>japanese</td>\n",
       "      <td>0.006400</td>\n",
       "      <td>5.000000</td>\n",
       "      <td>[201. Japanese Garlic Karaage Don, 204. Chicke...</td>\n",
       "    </tr>\n",
       "    <tr>\n",
       "      <th>6</th>\n",
       "      <td>c6cc6a1a</td>\n",
       "      <td>japanese</td>\n",
       "      <td>0.005067</td>\n",
       "      <td>4.333333</td>\n",
       "      <td>[Spicy Ramen + 3 Pcs Gyoza, Corn Chashu Ramen,...</td>\n",
       "    </tr>\n",
       "    <tr>\n",
       "      <th>7</th>\n",
       "      <td>c869579a</td>\n",
       "      <td>japanese</td>\n",
       "      <td>0.005867</td>\n",
       "      <td>4.333333</td>\n",
       "      <td>[Volcano Ramen, Ajisen Ramen, Nankotsu Ramen]</td>\n",
       "    </tr>\n",
       "    <tr>\n",
       "      <th>8</th>\n",
       "      <td>d63258a2</td>\n",
       "      <td>japanese</td>\n",
       "      <td>0.009308</td>\n",
       "      <td>4.567568</td>\n",
       "      <td>[Wafu Seaweed Choregi Salad, Buddy Meal for 2 ...</td>\n",
       "    </tr>\n",
       "    <tr>\n",
       "      <th>9</th>\n",
       "      <td>ffb3294b</td>\n",
       "      <td>chinese</td>\n",
       "      <td>0.003938</td>\n",
       "      <td>3.000000</td>\n",
       "      <td>[Steamed Pork Dumpling 'Siew Mai' 鱼子蒸烧卖皇(3pcs)...</td>\n",
       "    </tr>\n",
       "  </tbody>\n",
       "</table>\n",
       "</div>"
      ],
      "text/plain": [
       "  vendor_id cuisine_origin  unit_price    rating  \\\n",
       "0  14095e05       japanese    0.008000  5.000000   \n",
       "1  4b2eb250       japanese    0.006400  5.000000   \n",
       "2  6e89c321       japanese    0.006400  5.000000   \n",
       "3  797acc51       japanese    0.007200  4.000000   \n",
       "4  98231831       japanese    0.003000  4.500000   \n",
       "5  a09256a5       japanese    0.006400  5.000000   \n",
       "6  c6cc6a1a       japanese    0.005067  4.333333   \n",
       "7  c869579a       japanese    0.005867  4.333333   \n",
       "8  d63258a2       japanese    0.009308  4.567568   \n",
       "9  ffb3294b        chinese    0.003938  3.000000   \n",
       "\n",
       "                                                name  \n",
       "0              [Toroniku Uobushi Ramen Bundle for 1]  \n",
       "1          [A5 Prawn Dumplings Shrimp Ramen 鲜虾水饺赤汤面]  \n",
       "2                           [Kotteri Tonkotsu Ramen]  \n",
       "3               [Scallop Spicy Ramen ホタテスパイシーラーメン  ]  \n",
       "4                        [Gyoza, Piri Spicy Karaage]  \n",
       "5  [201. Japanese Garlic Karaage Don, 204. Chicke...  \n",
       "6  [Spicy Ramen + 3 Pcs Gyoza, Corn Chashu Ramen,...  \n",
       "7      [Volcano Ramen, Ajisen Ramen, Nankotsu Ramen]  \n",
       "8  [Wafu Seaweed Choregi Salad, Buddy Meal for 2 ...  \n",
       "9  [Steamed Pork Dumpling 'Siew Mai' 鱼子蒸烧卖皇(3pcs)...  "
      ]
     },
     "execution_count": 163,
     "metadata": {},
     "output_type": "execute_result"
    }
   ],
   "source": [
    "vendor_summary = recommended_details.groupby('vendor_id').agg({\n",
    "    'cuisine_origin': 'first',\n",
    "    'unit_price': 'mean',\n",
    "    'rating': 'mean',\n",
    "    'name': lambda x: list(x.unique())[:3]  # Show up to 3 sample dishes\n",
    "}).reset_index()\n",
    "\n",
    "vendor_summary\n"
   ]
  },
  {
   "cell_type": "code",
   "execution_count": null,
   "id": "0b5e5b9d-1a7a-4adb-a066-015337775f94",
   "metadata": {},
   "outputs": [],
   "source": []
  },
  {
   "cell_type": "code",
   "execution_count": null,
   "id": "20cc8b40-4d04-45e4-aad0-d64642bd7061",
   "metadata": {},
   "outputs": [],
   "source": []
  },
  {
   "cell_type": "code",
   "execution_count": 166,
   "id": "6270d229-b53b-4993-a8ed-9f85fec0ceeb",
   "metadata": {
    "execution": {
     "iopub.execute_input": "2025-10-26T11:58:10.643536Z",
     "iopub.status.busy": "2025-10-26T11:58:10.642860Z",
     "iopub.status.idle": "2025-10-26T11:58:10.788909Z",
     "shell.execute_reply": "2025-10-26T11:58:10.784533Z",
     "shell.execute_reply.started": "2025-10-26T11:58:10.643469Z"
    }
   },
   "outputs": [],
   "source": [
    "# Filter full_data for recommended vendors\n",
    "vendor_data = full_data[full_data['vendor_id'].isin(recommended_vendors)]\n",
    "\n",
    "# Calculate average unit price and rating per vendor\n",
    "summary = vendor_data.groupby('vendor_id')[['unit_price', 'rating']].mean().reset_index()\n"
   ]
  },
  {
   "cell_type": "code",
   "execution_count": 167,
   "id": "21f5b4e3-d373-439d-8d27-5dbdca494e12",
   "metadata": {
    "execution": {
     "iopub.execute_input": "2025-10-26T11:58:11.188004Z",
     "iopub.status.busy": "2025-10-26T11:58:11.187500Z",
     "iopub.status.idle": "2025-10-26T11:58:12.626622Z",
     "shell.execute_reply": "2025-10-26T11:58:12.624091Z",
     "shell.execute_reply.started": "2025-10-26T11:58:11.187970Z"
    }
   },
   "outputs": [
    {
     "data": {
      "image/png": "[encoded data removed]",
      "text/plain": [
       "<Figure size 1200x600 with 1 Axes>"
      ]
     },
     "metadata": {},
     "output_type": "display_data"
    }
   ],
   "source": [
    "import matplotlib.pyplot as plt\n",
    "import numpy as np\n",
    "\n",
    "# Set up bar positions\n",
    "x = np.arange(len(summary['vendor_id']))\n",
    "width = 0.35\n",
    "\n",
    "# Create the plot\n",
    "fig, ax = plt.subplots(figsize=(12, 6))\n",
    "bars1 = ax.bar(x - width/2, summary['unit_price'], width, label='Unit Price')\n",
    "bars2 = ax.bar(x + width/2, summary['rating'], width, label='Rating')\n",
    "\n",
    "# Add labels and title\n",
    "ax.set_xlabel('Vendor ID')\n",
    "ax.set_ylabel('Value')\n",
    "ax.set_title('Average Unit Price and Rating per Recommended Vendor')\n",
    "ax.set_xticks(x)\n",
    "ax.set_xticklabels(summary['vendor_id'], rotation=45)\n",
    "ax.legend()\n",
    "\n",
    "plt.tight_layout()\n",
    "plt.show()\n"
   ]
  },
  {
   "cell_type": "code",
   "execution_count": null,
   "id": "22c19a1b-5e28-4550-bfe9-219e9d456373",
   "metadata": {},
   "outputs": [],
   "source": []
  },
  {
   "cell_type": "code",
   "execution_count": null,
   "id": "90f107cd-0ab5-4bbe-bbd6-b9e32c9f6f64",
   "metadata": {},
   "outputs": [],
   "source": []
  },
  {
   "cell_type": "markdown",
   "id": "7ad9e30b-1aba-4c40-96d2-ae365ed8cdf2",
   "metadata": {},
   "source": [
    "### 🧠 Content-Based Filtering (Cuisine + Price)"
   ]
  },
  {
   "cell_type": "code",
   "execution_count": 103,
   "id": "5711330a-719d-45c1-aab8-27b329d1889b",
   "metadata": {
    "execution": {
     "iopub.execute_input": "2025-10-26T08:38:52.668122Z",
     "iopub.status.busy": "2025-10-26T08:38:52.620792Z",
     "iopub.status.idle": "2025-10-26T08:38:54.007480Z",
     "shell.execute_reply": "2025-10-26T08:38:53.993265Z",
     "shell.execute_reply.started": "2025-10-26T08:38:52.666459Z"
    }
   },
   "outputs": [
    {
     "ename": "KeyError",
     "evalue": "'cuisine_origin'",
     "output_type": "error",
     "traceback": [
      "\u001b[0;31m---------------------------------------------------------------------------\u001b[0m",
      "\u001b[0;31mKeyError\u001b[0m                                  Traceback (most recent call last)",
      "Cell \u001b[0;32mIn[103], line 4\u001b[0m\n\u001b[1;32m      1\u001b[0m \u001b[38;5;28;01mfrom\u001b[39;00m\u001b[38;5;250m \u001b[39m\u001b[38;5;21;01msklearn\u001b[39;00m\u001b[38;5;21;01m.\u001b[39;00m\u001b[38;5;21;01mmetrics\u001b[39;00m\u001b[38;5;21;01m.\u001b[39;00m\u001b[38;5;21;01mpairwise\u001b[39;00m\u001b[38;5;250m \u001b[39m\u001b[38;5;28;01mimport\u001b[39;00m cosine_similarity\n\u001b[1;32m      3\u001b[0m \u001b[38;5;66;03m# Create user-cuisine matrix\u001b[39;00m\n\u001b[0;32m----> 4\u001b[0m cuisine_matrix \u001b[38;5;241m=\u001b[39m \u001b[43mpd\u001b[49m\u001b[38;5;241;43m.\u001b[39;49m\u001b[43mpivot_table\u001b[49m\u001b[43m(\u001b[49m\u001b[43mdf\u001b[49m\u001b[43m,\u001b[49m\u001b[43m \u001b[49m\u001b[43mindex\u001b[49m\u001b[38;5;241;43m=\u001b[39;49m\u001b[38;5;124;43m'\u001b[39;49m\u001b[38;5;124;43mcustomer_id\u001b[39;49m\u001b[38;5;124;43m'\u001b[39;49m\u001b[43m,\u001b[49m\u001b[43m \u001b[49m\u001b[43mcolumns\u001b[49m\u001b[38;5;241;43m=\u001b[39;49m\u001b[38;5;124;43m'\u001b[39;49m\u001b[38;5;124;43mcuisine_origin\u001b[39;49m\u001b[38;5;124;43m'\u001b[39;49m\u001b[43m,\u001b[49m\u001b[43m \u001b[49m\u001b[43mvalues\u001b[49m\u001b[38;5;241;43m=\u001b[39;49m\u001b[38;5;124;43m'\u001b[39;49m\u001b[38;5;124;43morder_frequency\u001b[39;49m\u001b[38;5;124;43m'\u001b[39;49m\u001b[43m,\u001b[49m\u001b[43m \u001b[49m\u001b[43maggfunc\u001b[49m\u001b[38;5;241;43m=\u001b[39;49m\u001b[38;5;124;43m'\u001b[39;49m\u001b[38;5;124;43msum\u001b[39;49m\u001b[38;5;124;43m'\u001b[39;49m\u001b[43m,\u001b[49m\u001b[43m \u001b[49m\u001b[43mfill_value\u001b[49m\u001b[38;5;241;43m=\u001b[39;49m\u001b[38;5;241;43m0\u001b[39;49m\u001b[43m)\u001b[49m\n\u001b[1;32m      6\u001b[0m \u001b[38;5;66;03m# Normalize\u001b[39;00m\n\u001b[1;32m      7\u001b[0m cuisine_norm \u001b[38;5;241m=\u001b[39m cuisine_matrix\u001b[38;5;241m.\u001b[39mdiv(cuisine_matrix\u001b[38;5;241m.\u001b[39msum(axis\u001b[38;5;241m=\u001b[39m\u001b[38;5;241m1\u001b[39m), axis\u001b[38;5;241m=\u001b[39m\u001b[38;5;241m0\u001b[39m)\n",
      "File \u001b[0;32m~/.pyenv/versions/3.10.6/envs/food-delivery-rec/lib/python3.10/site-packages/pandas/core/reshape/pivot.py:102\u001b[0m, in \u001b[0;36mpivot_table\u001b[0;34m(data, values, index, columns, aggfunc, fill_value, margins, dropna, margins_name, observed, sort)\u001b[0m\n\u001b[1;32m     99\u001b[0m     table \u001b[38;5;241m=\u001b[39m concat(pieces, keys\u001b[38;5;241m=\u001b[39mkeys, axis\u001b[38;5;241m=\u001b[39m\u001b[38;5;241m1\u001b[39m)\n\u001b[1;32m    100\u001b[0m     \u001b[38;5;28;01mreturn\u001b[39;00m table\u001b[38;5;241m.\u001b[39m__finalize__(data, method\u001b[38;5;241m=\u001b[39m\u001b[38;5;124m\"\u001b[39m\u001b[38;5;124mpivot_table\u001b[39m\u001b[38;5;124m\"\u001b[39m)\n\u001b[0;32m--> 102\u001b[0m table \u001b[38;5;241m=\u001b[39m \u001b[43m__internal_pivot_table\u001b[49m\u001b[43m(\u001b[49m\n\u001b[1;32m    103\u001b[0m \u001b[43m    \u001b[49m\u001b[43mdata\u001b[49m\u001b[43m,\u001b[49m\n\u001b[1;32m    104\u001b[0m \u001b[43m    \u001b[49m\u001b[43mvalues\u001b[49m\u001b[43m,\u001b[49m\n\u001b[1;32m    105\u001b[0m \u001b[43m    \u001b[49m\u001b[43mindex\u001b[49m\u001b[43m,\u001b[49m\n\u001b[1;32m    106\u001b[0m \u001b[43m    \u001b[49m\u001b[43mcolumns\u001b[49m\u001b[43m,\u001b[49m\n\u001b[1;32m    107\u001b[0m \u001b[43m    \u001b[49m\u001b[43maggfunc\u001b[49m\u001b[43m,\u001b[49m\n\u001b[1;32m    108\u001b[0m \u001b[43m    \u001b[49m\u001b[43mfill_value\u001b[49m\u001b[43m,\u001b[49m\n\u001b[1;32m    109\u001b[0m \u001b[43m    \u001b[49m\u001b[43mmargins\u001b[49m\u001b[43m,\u001b[49m\n\u001b[1;32m    110\u001b[0m \u001b[43m    \u001b[49m\u001b[43mdropna\u001b[49m\u001b[43m,\u001b[49m\n\u001b[1;32m    111\u001b[0m \u001b[43m    \u001b[49m\u001b[43mmargins_name\u001b[49m\u001b[43m,\u001b[49m\n\u001b[1;32m    112\u001b[0m \u001b[43m    \u001b[49m\u001b[43mobserved\u001b[49m\u001b[43m,\u001b[49m\n\u001b[1;32m    113\u001b[0m \u001b[43m    \u001b[49m\u001b[43msort\u001b[49m\u001b[43m,\u001b[49m\n\u001b[1;32m    114\u001b[0m \u001b[43m\u001b[49m\u001b[43m)\u001b[49m\n\u001b[1;32m    115\u001b[0m \u001b[38;5;28;01mreturn\u001b[39;00m table\u001b[38;5;241m.\u001b[39m__finalize__(data, method\u001b[38;5;241m=\u001b[39m\u001b[38;5;124m\"\u001b[39m\u001b[38;5;124mpivot_table\u001b[39m\u001b[38;5;124m\"\u001b[39m)\n",
      "File \u001b[0;32m~/.pyenv/versions/3.10.6/envs/food-delivery-rec/lib/python3.10/site-packages/pandas/core/reshape/pivot.py:172\u001b[0m, in \u001b[0;36m__internal_pivot_table\u001b[0;34m(data, values, index, columns, aggfunc, fill_value, margins, dropna, margins_name, observed, sort)\u001b[0m\n\u001b[1;32m    169\u001b[0m     values \u001b[38;5;241m=\u001b[39m \u001b[38;5;28mlist\u001b[39m(values)\n\u001b[1;32m    171\u001b[0m observed_bool \u001b[38;5;241m=\u001b[39m \u001b[38;5;28;01mFalse\u001b[39;00m \u001b[38;5;28;01mif\u001b[39;00m observed \u001b[38;5;129;01mis\u001b[39;00m lib\u001b[38;5;241m.\u001b[39mno_default \u001b[38;5;28;01melse\u001b[39;00m observed\n\u001b[0;32m--> 172\u001b[0m grouped \u001b[38;5;241m=\u001b[39m \u001b[43mdata\u001b[49m\u001b[38;5;241;43m.\u001b[39;49m\u001b[43mgroupby\u001b[49m\u001b[43m(\u001b[49m\u001b[43mkeys\u001b[49m\u001b[43m,\u001b[49m\u001b[43m \u001b[49m\u001b[43mobserved\u001b[49m\u001b[38;5;241;43m=\u001b[39;49m\u001b[43mobserved_bool\u001b[49m\u001b[43m,\u001b[49m\u001b[43m \u001b[49m\u001b[43msort\u001b[49m\u001b[38;5;241;43m=\u001b[39;49m\u001b[43msort\u001b[49m\u001b[43m,\u001b[49m\u001b[43m \u001b[49m\u001b[43mdropna\u001b[49m\u001b[38;5;241;43m=\u001b[39;49m\u001b[43mdropna\u001b[49m\u001b[43m)\u001b[49m\n\u001b[1;32m    173\u001b[0m \u001b[38;5;28;01mif\u001b[39;00m observed \u001b[38;5;129;01mis\u001b[39;00m lib\u001b[38;5;241m.\u001b[39mno_default \u001b[38;5;129;01mand\u001b[39;00m \u001b[38;5;28many\u001b[39m(\n\u001b[1;32m    174\u001b[0m     ping\u001b[38;5;241m.\u001b[39m_passed_categorical \u001b[38;5;28;01mfor\u001b[39;00m ping \u001b[38;5;129;01min\u001b[39;00m grouped\u001b[38;5;241m.\u001b[39m_grouper\u001b[38;5;241m.\u001b[39mgroupings\n\u001b[1;32m    175\u001b[0m ):\n\u001b[1;32m    176\u001b[0m     warnings\u001b[38;5;241m.\u001b[39mwarn(\n\u001b[1;32m    177\u001b[0m         \u001b[38;5;124m\"\u001b[39m\u001b[38;5;124mThe default value of observed=False is deprecated and will change \u001b[39m\u001b[38;5;124m\"\u001b[39m\n\u001b[1;32m    178\u001b[0m         \u001b[38;5;124m\"\u001b[39m\u001b[38;5;124mto observed=True in a future version of pandas. Specify \u001b[39m\u001b[38;5;124m\"\u001b[39m\n\u001b[0;32m   (...)\u001b[0m\n\u001b[1;32m    181\u001b[0m         stacklevel\u001b[38;5;241m=\u001b[39mfind_stack_level(),\n\u001b[1;32m    182\u001b[0m     )\n",
      "File \u001b[0;32m~/.pyenv/versions/3.10.6/envs/food-delivery-rec/lib/python3.10/site-packages/pandas/core/frame.py:9210\u001b[0m, in \u001b[0;36mDataFrame.groupby\u001b[0;34m(self, by, axis, level, as_index, sort, group_keys, observed, dropna)\u001b[0m\n\u001b[1;32m   9207\u001b[0m \u001b[38;5;28;01mif\u001b[39;00m level \u001b[38;5;129;01mis\u001b[39;00m \u001b[38;5;28;01mNone\u001b[39;00m \u001b[38;5;129;01mand\u001b[39;00m by \u001b[38;5;129;01mis\u001b[39;00m \u001b[38;5;28;01mNone\u001b[39;00m:\n\u001b[1;32m   9208\u001b[0m     \u001b[38;5;28;01mraise\u001b[39;00m \u001b[38;5;167;01mTypeError\u001b[39;00m(\u001b[38;5;124m\"\u001b[39m\u001b[38;5;124mYou have to supply one of \u001b[39m\u001b[38;5;124m'\u001b[39m\u001b[38;5;124mby\u001b[39m\u001b[38;5;124m'\u001b[39m\u001b[38;5;124m and \u001b[39m\u001b[38;5;124m'\u001b[39m\u001b[38;5;124mlevel\u001b[39m\u001b[38;5;124m'\u001b[39m\u001b[38;5;124m\"\u001b[39m)\n\u001b[0;32m-> 9210\u001b[0m \u001b[38;5;28;01mreturn\u001b[39;00m \u001b[43mDataFrameGroupBy\u001b[49m\u001b[43m(\u001b[49m\n\u001b[1;32m   9211\u001b[0m \u001b[43m    \u001b[49m\u001b[43mobj\u001b[49m\u001b[38;5;241;43m=\u001b[39;49m\u001b[38;5;28;43mself\u001b[39;49m\u001b[43m,\u001b[49m\n\u001b[1;32m   9212\u001b[0m \u001b[43m    \u001b[49m\u001b[43mkeys\u001b[49m\u001b[38;5;241;43m=\u001b[39;49m\u001b[43mby\u001b[49m\u001b[43m,\u001b[49m\n\u001b[1;32m   9213\u001b[0m \u001b[43m    \u001b[49m\u001b[43maxis\u001b[49m\u001b[38;5;241;43m=\u001b[39;49m\u001b[43maxis\u001b[49m\u001b[43m,\u001b[49m\n\u001b[1;32m   9214\u001b[0m \u001b[43m    \u001b[49m\u001b[43mlevel\u001b[49m\u001b[38;5;241;43m=\u001b[39;49m\u001b[43mlevel\u001b[49m\u001b[43m,\u001b[49m\n\u001b[1;32m   9215\u001b[0m \u001b[43m    \u001b[49m\u001b[43mas_index\u001b[49m\u001b[38;5;241;43m=\u001b[39;49m\u001b[43mas_index\u001b[49m\u001b[43m,\u001b[49m\n\u001b[1;32m   9216\u001b[0m \u001b[43m    \u001b[49m\u001b[43msort\u001b[49m\u001b[38;5;241;43m=\u001b[39;49m\u001b[43msort\u001b[49m\u001b[43m,\u001b[49m\n\u001b[1;32m   9217\u001b[0m \u001b[43m    \u001b[49m\u001b[43mgroup_keys\u001b[49m\u001b[38;5;241;43m=\u001b[39;49m\u001b[43mgroup_keys\u001b[49m\u001b[43m,\u001b[49m\n\u001b[1;32m   9218\u001b[0m \u001b[43m    \u001b[49m\u001b[43mobserved\u001b[49m\u001b[38;5;241;43m=\u001b[39;49m\u001b[43mobserved\u001b[49m\u001b[43m,\u001b[49m\n\u001b[1;32m   9219\u001b[0m \u001b[43m    \u001b[49m\u001b[43mdropna\u001b[49m\u001b[38;5;241;43m=\u001b[39;49m\u001b[43mdropna\u001b[49m\u001b[43m,\u001b[49m\n\u001b[1;32m   9220\u001b[0m \u001b[43m\u001b[49m\u001b[43m)\u001b[49m\n",
      "File \u001b[0;32m~/.pyenv/versions/3.10.6/envs/food-delivery-rec/lib/python3.10/site-packages/pandas/core/groupby/groupby.py:1331\u001b[0m, in \u001b[0;36mGroupBy.__init__\u001b[0;34m(self, obj, keys, axis, level, grouper, exclusions, selection, as_index, sort, group_keys, observed, dropna)\u001b[0m\n\u001b[1;32m   1328\u001b[0m \u001b[38;5;28mself\u001b[39m\u001b[38;5;241m.\u001b[39mdropna \u001b[38;5;241m=\u001b[39m dropna\n\u001b[1;32m   1330\u001b[0m \u001b[38;5;28;01mif\u001b[39;00m grouper \u001b[38;5;129;01mis\u001b[39;00m \u001b[38;5;28;01mNone\u001b[39;00m:\n\u001b[0;32m-> 1331\u001b[0m     grouper, exclusions, obj \u001b[38;5;241m=\u001b[39m \u001b[43mget_grouper\u001b[49m\u001b[43m(\u001b[49m\n\u001b[1;32m   1332\u001b[0m \u001b[43m        \u001b[49m\u001b[43mobj\u001b[49m\u001b[43m,\u001b[49m\n\u001b[1;32m   1333\u001b[0m \u001b[43m        \u001b[49m\u001b[43mkeys\u001b[49m\u001b[43m,\u001b[49m\n\u001b[1;32m   1334\u001b[0m \u001b[43m        \u001b[49m\u001b[43maxis\u001b[49m\u001b[38;5;241;43m=\u001b[39;49m\u001b[43maxis\u001b[49m\u001b[43m,\u001b[49m\n\u001b[1;32m   1335\u001b[0m \u001b[43m        \u001b[49m\u001b[43mlevel\u001b[49m\u001b[38;5;241;43m=\u001b[39;49m\u001b[43mlevel\u001b[49m\u001b[43m,\u001b[49m\n\u001b[1;32m   1336\u001b[0m \u001b[43m        \u001b[49m\u001b[43msort\u001b[49m\u001b[38;5;241;43m=\u001b[39;49m\u001b[43msort\u001b[49m\u001b[43m,\u001b[49m\n\u001b[1;32m   1337\u001b[0m \u001b[43m        \u001b[49m\u001b[43mobserved\u001b[49m\u001b[38;5;241;43m=\u001b[39;49m\u001b[38;5;28;43;01mFalse\u001b[39;49;00m\u001b[43m \u001b[49m\u001b[38;5;28;43;01mif\u001b[39;49;00m\u001b[43m \u001b[49m\u001b[43mobserved\u001b[49m\u001b[43m \u001b[49m\u001b[38;5;129;43;01mis\u001b[39;49;00m\u001b[43m \u001b[49m\u001b[43mlib\u001b[49m\u001b[38;5;241;43m.\u001b[39;49m\u001b[43mno_default\u001b[49m\u001b[43m \u001b[49m\u001b[38;5;28;43;01melse\u001b[39;49;00m\u001b[43m \u001b[49m\u001b[43mobserved\u001b[49m\u001b[43m,\u001b[49m\n\u001b[1;32m   1338\u001b[0m \u001b[43m        \u001b[49m\u001b[43mdropna\u001b[49m\u001b[38;5;241;43m=\u001b[39;49m\u001b[38;5;28;43mself\u001b[39;49m\u001b[38;5;241;43m.\u001b[39;49m\u001b[43mdropna\u001b[49m\u001b[43m,\u001b[49m\n\u001b[1;32m   1339\u001b[0m \u001b[43m    \u001b[49m\u001b[43m)\u001b[49m\n\u001b[1;32m   1341\u001b[0m \u001b[38;5;28;01mif\u001b[39;00m observed \u001b[38;5;129;01mis\u001b[39;00m lib\u001b[38;5;241m.\u001b[39mno_default:\n\u001b[1;32m   1342\u001b[0m     \u001b[38;5;28;01mif\u001b[39;00m \u001b[38;5;28many\u001b[39m(ping\u001b[38;5;241m.\u001b[39m_passed_categorical \u001b[38;5;28;01mfor\u001b[39;00m ping \u001b[38;5;129;01min\u001b[39;00m grouper\u001b[38;5;241m.\u001b[39mgroupings):\n",
      "File \u001b[0;32m~/.pyenv/versions/3.10.6/envs/food-delivery-rec/lib/python3.10/site-packages/pandas/core/groupby/grouper.py:1043\u001b[0m, in \u001b[0;36mget_grouper\u001b[0;34m(obj, key, axis, level, sort, observed, validate, dropna)\u001b[0m\n\u001b[1;32m   1041\u001b[0m         in_axis, level, gpr \u001b[38;5;241m=\u001b[39m \u001b[38;5;28;01mFalse\u001b[39;00m, gpr, \u001b[38;5;28;01mNone\u001b[39;00m\n\u001b[1;32m   1042\u001b[0m     \u001b[38;5;28;01melse\u001b[39;00m:\n\u001b[0;32m-> 1043\u001b[0m         \u001b[38;5;28;01mraise\u001b[39;00m \u001b[38;5;167;01mKeyError\u001b[39;00m(gpr)\n\u001b[1;32m   1044\u001b[0m \u001b[38;5;28;01melif\u001b[39;00m \u001b[38;5;28misinstance\u001b[39m(gpr, Grouper) \u001b[38;5;129;01mand\u001b[39;00m gpr\u001b[38;5;241m.\u001b[39mkey \u001b[38;5;129;01mis\u001b[39;00m \u001b[38;5;129;01mnot\u001b[39;00m \u001b[38;5;28;01mNone\u001b[39;00m:\n\u001b[1;32m   1045\u001b[0m     \u001b[38;5;66;03m# Add key to exclusions\u001b[39;00m\n\u001b[1;32m   1046\u001b[0m     exclusions\u001b[38;5;241m.\u001b[39madd(gpr\u001b[38;5;241m.\u001b[39mkey)\n",
      "\u001b[0;31mKeyError\u001b[0m: 'cuisine_origin'"
     ]
    }
   ],
   "source": [
    "from sklearn.metrics.pairwise import cosine_similarity\n",
    "\n",
    "# Create user-cuisine matrix\n",
    "cuisine_matrix = pd.pivot_table(df, index='customer_id', columns='cuisine_origin', values='order_frequency', aggfunc='sum', fill_value=0)\n",
    "\n",
    "# Normalize\n",
    "cuisine_norm = cuisine_matrix.div(cuisine_matrix.sum(axis=1), axis=0)\n",
    "\n",
    "# Compute similarity\n",
    "cuisine_sim = cosine_similarity(cuisine_norm)\n"
   ]
  },
  {
   "cell_type": "markdown",
   "id": "7f4f3d9b-4f6b-4ff1-9d28-788c048ca472",
   "metadata": {},
   "source": [
    "### 🔗  Hybrid Recommendation"
   ]
  },
  {
   "cell_type": "code",
   "execution_count": 87,
   "id": "46a504ef-35ab-43d8-abdc-15b6ffa904a7",
   "metadata": {
    "execution": {
     "iopub.execute_input": "2025-10-26T07:58:43.752823Z",
     "iopub.status.busy": "2025-10-26T07:58:43.752377Z",
     "iopub.status.idle": "2025-10-26T07:58:43.767296Z",
     "shell.execute_reply": "2025-10-26T07:58:43.765283Z",
     "shell.execute_reply.started": "2025-10-26T07:58:43.752791Z"
    }
   },
   "outputs": [],
   "source": [
    "def hybrid_recommendation(user_id, alpha=0.7):\n",
    "    if user_id not in reverse_user_map:\n",
    "        return \"Cold-start user. Recommend popular restaurants.\"\n",
    "\n",
    "    # ALS recommendations\n",
    "    als_recs = recommend_vendors(user_id, N=20)\n",
    "\n",
    "    # Content-based fallback (similar users)\n",
    "    user_idx = cuisine_norm.index.get_loc(user_id)\n",
    "    similar_users = np.argsort(cuisine_sim[user_idx])[::-1][1:6]\n",
    "    similar_ids = cuisine_norm.index[similar_users]\n",
    "\n",
    "    # Vendors liked by similar users\n",
    "    similar_vendors = df[df['customer_id'].isin(similar_ids)]['vendor_id'].value_counts().index.tolist()\n",
    "\n",
    "    # Combine\n",
    "    hybrid = list(set(als_recs[:int(alpha*10)] + similar_vendors[:int((1-alpha)*10)]))\n",
    "    return hybrid\n"
   ]
  },
  {
   "cell_type": "markdown",
   "id": "ed3d1678-f56e-40f2-b313-5cafce371330",
   "metadata": {},
   "source": [
    "### 🧪  Test It"
   ]
  },
  {
   "cell_type": "code",
   "execution_count": 89,
   "id": "daa0a574-a02f-40bf-8eb5-bbf8c56a7ae1",
   "metadata": {
    "execution": {
     "iopub.execute_input": "2025-10-26T07:59:45.872725Z",
     "iopub.status.busy": "2025-10-26T07:59:45.872370Z",
     "iopub.status.idle": "2025-10-26T07:59:45.984792Z",
     "shell.execute_reply": "2025-10-26T07:59:45.982033Z",
     "shell.execute_reply.started": "2025-10-26T07:59:45.872699Z"
    }
   },
   "outputs": [
    {
     "name": "stdout",
     "output_type": "stream",
     "text": [
      "Recommended restaurants for user: 1ba124d4e5\n"
     ]
    },
    {
     "ename": "ValueError",
     "evalue": "user_items needs to be a CSR sparse matrix",
     "output_type": "error",
     "traceback": [
      "\u001b[0;31m---------------------------------------------------------------------------\u001b[0m",
      "\u001b[0;31mValueError\u001b[0m                                Traceback (most recent call last)",
      "Cell \u001b[0;32mIn[89], line 3\u001b[0m\n\u001b[1;32m      1\u001b[0m user \u001b[38;5;241m=\u001b[39m \u001b[38;5;124m\"\u001b[39m\u001b[38;5;124m1ba124d4e5\u001b[39m\u001b[38;5;124m\"\u001b[39m\n\u001b[1;32m      2\u001b[0m \u001b[38;5;28mprint\u001b[39m(\u001b[38;5;124m\"\u001b[39m\u001b[38;5;124mRecommended restaurants for user:\u001b[39m\u001b[38;5;124m\"\u001b[39m, user)\n\u001b[0;32m----> 3\u001b[0m \u001b[38;5;28mprint\u001b[39m(\u001b[43mhybrid_recommendation\u001b[49m\u001b[43m(\u001b[49m\u001b[43muser\u001b[49m\u001b[43m)\u001b[49m)\n",
      "Cell \u001b[0;32mIn[87], line 6\u001b[0m, in \u001b[0;36mhybrid_recommendation\u001b[0;34m(user_id, alpha)\u001b[0m\n\u001b[1;32m      3\u001b[0m     \u001b[38;5;28;01mreturn\u001b[39;00m \u001b[38;5;124m\"\u001b[39m\u001b[38;5;124mCold-start user. Recommend popular restaurants.\u001b[39m\u001b[38;5;124m\"\u001b[39m\n\u001b[1;32m      5\u001b[0m \u001b[38;5;66;03m# ALS recommendations\u001b[39;00m\n\u001b[0;32m----> 6\u001b[0m als_recs \u001b[38;5;241m=\u001b[39m \u001b[43mrecommend_vendors\u001b[49m\u001b[43m(\u001b[49m\u001b[43muser_id\u001b[49m\u001b[43m,\u001b[49m\u001b[43m \u001b[49m\u001b[43mN\u001b[49m\u001b[38;5;241;43m=\u001b[39;49m\u001b[38;5;241;43m20\u001b[39;49m\u001b[43m)\u001b[49m\n\u001b[1;32m      8\u001b[0m \u001b[38;5;66;03m# Content-based fallback (similar users)\u001b[39;00m\n\u001b[1;32m      9\u001b[0m user_idx \u001b[38;5;241m=\u001b[39m cuisine_norm\u001b[38;5;241m.\u001b[39mindex\u001b[38;5;241m.\u001b[39mget_loc(user_id)\n",
      "Cell \u001b[0;32mIn[85], line 6\u001b[0m, in \u001b[0;36mrecommend_vendors\u001b[0;34m(user_id, model, user_lookup, vendor_lookup, N)\u001b[0m\n\u001b[1;32m      3\u001b[0m     \u001b[38;5;28;01mreturn\u001b[39;00m \u001b[38;5;124m\"\u001b[39m\u001b[38;5;124mCold-start user. Recommend popular restaurants.\u001b[39m\u001b[38;5;124m\"\u001b[39m\n\u001b[1;32m      5\u001b[0m user_idx \u001b[38;5;241m=\u001b[39m user_lookup[user_id]\n\u001b[0;32m----> 6\u001b[0m recommended \u001b[38;5;241m=\u001b[39m \u001b[43mmodel\u001b[49m\u001b[38;5;241;43m.\u001b[39;49m\u001b[43mrecommend\u001b[49m\u001b[43m(\u001b[49m\u001b[43muser_idx\u001b[49m\u001b[43m,\u001b[49m\u001b[43m \u001b[49m\u001b[43minteraction_matrix\u001b[49m\u001b[38;5;241;43m.\u001b[39;49m\u001b[43mT\u001b[49m\u001b[43m,\u001b[49m\u001b[43m \u001b[49m\u001b[43mN\u001b[49m\u001b[38;5;241;43m=\u001b[39;49m\u001b[43mN\u001b[49m\u001b[43m)\u001b[49m\n\u001b[1;32m      7\u001b[0m \u001b[38;5;28;01mreturn\u001b[39;00m [vendor_lookup[i] \u001b[38;5;28;01mfor\u001b[39;00m i, score \u001b[38;5;129;01min\u001b[39;00m recommended]\n",
      "File \u001b[0;32m~/.pyenv/versions/3.10.6/envs/food-delivery-rec/lib/python3.10/site-packages/implicit/cpu/matrix_factorization_base.py:46\u001b[0m, in \u001b[0;36mMatrixFactorizationBase.recommend\u001b[0;34m(self, userid, user_items, N, filter_already_liked_items, filter_items, recalculate_user, items)\u001b[0m\n\u001b[1;32m     44\u001b[0m \u001b[38;5;28;01mif\u001b[39;00m filter_already_liked_items \u001b[38;5;129;01mor\u001b[39;00m recalculate_user:\n\u001b[1;32m     45\u001b[0m     \u001b[38;5;28;01mif\u001b[39;00m \u001b[38;5;129;01mnot\u001b[39;00m \u001b[38;5;28misinstance\u001b[39m(user_items, csr_matrix):\n\u001b[0;32m---> 46\u001b[0m         \u001b[38;5;28;01mraise\u001b[39;00m \u001b[38;5;167;01mValueError\u001b[39;00m(\u001b[38;5;124m\"\u001b[39m\u001b[38;5;124muser_items needs to be a CSR sparse matrix\u001b[39m\u001b[38;5;124m\"\u001b[39m)\n\u001b[1;32m     47\u001b[0m     user_count \u001b[38;5;241m=\u001b[39m \u001b[38;5;241m1\u001b[39m \u001b[38;5;28;01mif\u001b[39;00m np\u001b[38;5;241m.\u001b[39misscalar(userid) \u001b[38;5;28;01melse\u001b[39;00m \u001b[38;5;28mlen\u001b[39m(userid)\n\u001b[1;32m     48\u001b[0m     \u001b[38;5;28;01mif\u001b[39;00m user_items\u001b[38;5;241m.\u001b[39mshape[\u001b[38;5;241m0\u001b[39m] \u001b[38;5;241m!=\u001b[39m user_count:\n",
      "\u001b[0;31mValueError\u001b[0m: user_items needs to be a CSR sparse matrix"
     ]
    }
   ],
   "source": [
    "user = \"1ba124d4e5\"\n",
    "print(\"Recommended restaurants for user:\", user)\n",
    "print(hybrid_recommendation(user))\n"
   ]
  },
  {
   "cell_type": "code",
   "execution_count": null,
   "id": "3d4fb31c-d2d7-4e3e-bcd5-cb2a47375310",
   "metadata": {},
   "outputs": [],
   "source": []
  }
 ],
 "metadata": {
  "kernelspec": {
   "display_name": "Python 3 (ipykernel)",
   "language": "python",
   "name": "python3"
  },
  "language_info": {
   "codemirror_mode": {
    "name": "ipython",
    "version": 3
   },
   "file_extension": ".py",
   "mimetype": "text/x-python",
   "name": "python",
   "nbconvert_exporter": "python",
   "pygments_lexer": "ipython3",
   "version": "3.10.6"
  }
 },
 "nbformat": 4,
 "nbformat_minor": 5
}
