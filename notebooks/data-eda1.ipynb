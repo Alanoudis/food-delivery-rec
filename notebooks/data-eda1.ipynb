{
 "cells": [
  {
   "cell_type": "code",
   "execution_count": null,
   "id": "f029df45-8d8c-4538-aa0b-efcd994fe2c5",
   "metadata": {},
   "outputs": [],
   "source": [
    "import pandas as pd"
   ]
  },
  {
   "cell_type": "code",
   "execution_count": null,
   "id": "9ccbba50-1272-4b88-af14-989459177c20",
   "metadata": {},
   "outputs": [],
   "source": [
    "file_path = '/home/alnd/code/Alanoudis/food-delivery-rec/data/data_sg/orders_sg10k.txt'\n",
    "\n",
    "orders_ = "
   ]
  }
 ],
 "metadata": {
  "kernelspec": {
   "display_name": "Python 3 (ipykernel)",
   "language": "python",
   "name": "python3"
  },
  "language_info": {
   "codemirror_mode": {
    "name": "ipython",
    "version": 3
   },
   "file_extension": ".py",
   "mimetype": "text/x-python",
   "name": "python",
   "nbconvert_exporter": "python",
   "pygments_lexer": "ipython3",
   "version": "3.10.6"
  }
 },
 "nbformat": 4,
 "nbformat_minor": 5
}
