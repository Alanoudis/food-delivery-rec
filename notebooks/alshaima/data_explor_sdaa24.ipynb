{
  "cells": [
    {
      "cell_type": "markdown",
      "id": "f6c890e7-d325-4333-a0fc-0baca712db0a",
      "metadata": {
        "execution": {
          "iopub.execute_input": "2025-10-21T11:28:45.103526Z",
          "iopub.status.busy": "2025-10-21T11:28:45.071556Z",
          "iopub.status.idle": "2025-10-21T11:28:45.285936Z",
          "shell.execute_reply": "2025-10-21T11:28:45.278811Z",
          "shell.execute_reply.started": "2025-10-21T11:28:45.101301Z"
        },
        "id": "f6c890e7-d325-4333-a0fc-0baca712db0a"
      },
      "source": [
        "## Food Recommender System"
      ]
    },
    {
      "cell_type": "code",
      "execution_count": null,
      "id": "32e6a0c3-df7b-4720-83ec-eb0de2f726c5",
      "metadata": {
        "colab": {
          "base_uri": "https://localhost:8080/"
        },
        "execution": {
          "iopub.execute_input": "2025-10-25T20:20:12.292375Z",
          "iopub.status.busy": "2025-10-25T20:20:12.291701Z",
          "iopub.status.idle": "2025-10-25T20:20:12.478004Z",
          "shell.execute_reply": "2025-10-25T20:20:12.475800Z",
          "shell.execute_reply.started": "2025-10-25T20:20:12.292303Z"
        },
        "id": "32e6a0c3-df7b-4720-83ec-eb0de2f726c5",
        "outputId": "bd1eb644-f5ea-4b09-df57-4706baa31920"
      },
      "outputs": [],
      "source": [
        "!pwd"
      ]
    },
    {
      "cell_type": "code",
      "execution_count": null,
      "id": "3e522cc6-4ee2-482c-87bc-7352cc5fc22f",
      "metadata": {
        "execution": {
          "iopub.execute_input": "2025-10-25T20:20:13.017549Z",
          "iopub.status.busy": "2025-10-25T20:20:13.017045Z",
          "iopub.status.idle": "2025-10-25T20:20:14.185699Z",
          "shell.execute_reply": "2025-10-25T20:20:14.182491Z",
          "shell.execute_reply.started": "2025-10-25T20:20:13.017510Z"
        },
        "id": "3e522cc6-4ee2-482c-87bc-7352cc5fc22f"
      },
      "outputs": [],
      "source": [
        "import pandas as pd\n",
        "pd.set_option('display.max_rows',None)"
      ]
    },
    {
      "cell_type": "code",
      "execution_count": null,
      "id": "5db1b8fd-526c-473c-87b7-2a6670e433eb",
      "metadata": {
        "colab": {
          "base_uri": "https://localhost:8080/",
          "height": 206
        },
        "execution": {
          "iopub.execute_input": "2025-10-25T20:20:14.188086Z",
          "iopub.status.busy": "2025-10-25T20:20:14.187509Z",
          "iopub.status.idle": "2025-10-25T20:20:14.319229Z",
          "shell.execute_reply": "2025-10-25T20:20:14.316475Z",
          "shell.execute_reply.started": "2025-10-25T20:20:14.188040Z"
        },
        "id": "5db1b8fd-526c-473c-87b7-2a6670e433eb",
        "outputId": "b6b1abc1-e335-4adb-bfaa-ac24b6d97ca0"
      },
      "outputs": [],
      "source": [
        "file_path = \"/orders_sg25k.txt\"\n",
        "orders = pd.read_csv(file_path)\n",
        "orders.head()"
      ]
    },
    {
      "cell_type": "code",
      "execution_count": null,
      "id": "ab21291b-56f5-4ccd-9504-98a1edf8916f",
      "metadata": {
        "colab": {
          "base_uri": "https://localhost:8080/"
        },
        "execution": {
          "iopub.execute_input": "2025-10-25T20:20:17.171353Z",
          "iopub.status.busy": "2025-10-25T20:20:17.170820Z",
          "iopub.status.idle": "2025-10-25T20:20:17.182194Z",
          "shell.execute_reply": "2025-10-25T20:20:17.179838Z",
          "shell.execute_reply.started": "2025-10-25T20:20:17.171297Z"
        },
        "id": "ab21291b-56f5-4ccd-9504-98a1edf8916f",
        "outputId": "7374b35e-f084-441b-ccc3-cf56ec2d3dab"
      },
      "outputs": [],
      "source": [
        "orders.shape"
      ]
    },
    {
      "cell_type": "markdown",
      "id": "d0b3a93d-024e-4711-8180-543632796170",
      "metadata": {
        "id": "d0b3a93d-024e-4711-8180-543632796170"
      },
      "source": [
        "## Clean the Data\n",
        "### Remove Unnecessary Columns"
      ]
    },
    {
      "cell_type": "code",
      "execution_count": null,
      "id": "9d3044f0-e253-458d-96e5-81bcea594d27",
      "metadata": {
        "execution": {
          "iopub.execute_input": "2025-10-25T20:20:24.734140Z",
          "iopub.status.busy": "2025-10-25T20:20:24.733556Z",
          "iopub.status.idle": "2025-10-25T20:20:24.750827Z",
          "shell.execute_reply": "2025-10-25T20:20:24.747668Z",
          "shell.execute_reply.started": "2025-10-25T20:20:24.734083Z"
        },
        "id": "9d3044f0-e253-458d-96e5-81bcea594d27"
      },
      "outputs": [],
      "source": [
        "orders.drop(columns=['Unnamed: 0'], inplace=True)"
      ]
    },
    {
      "cell_type": "code",
      "execution_count": null,
      "id": "089388b5-a67e-477e-a185-66f684d629f5",
      "metadata": {
        "colab": {
          "base_uri": "https://localhost:8080/",
          "height": 143
        },
        "execution": {
          "iopub.execute_input": "2025-10-25T20:20:33.453815Z",
          "iopub.status.busy": "2025-10-25T20:20:33.453365Z",
          "iopub.status.idle": "2025-10-25T20:20:33.470704Z",
          "shell.execute_reply": "2025-10-25T20:20:33.468258Z",
          "shell.execute_reply.started": "2025-10-25T20:20:33.453781Z"
        },
        "id": "089388b5-a67e-477e-a185-66f684d629f5",
        "outputId": "056bcab7-d828-4a3c-d4cf-2c9da57a2b9a"
      },
      "outputs": [],
      "source": [
        "orders.head(3)"
      ]
    },
    {
      "cell_type": "code",
      "execution_count": null,
      "id": "f9de9c82-358e-4732-8fc6-3f3174107695",
      "metadata": {
        "colab": {
          "base_uri": "https://localhost:8080/",
          "height": 206
        },
        "execution": {
          "iopub.execute_input": "2025-10-25T20:20:34.115966Z",
          "iopub.status.busy": "2025-10-25T20:20:34.115587Z",
          "iopub.status.idle": "2025-10-25T20:20:36.255130Z",
          "shell.execute_reply": "2025-10-25T20:20:36.252946Z",
          "shell.execute_reply.started": "2025-10-25T20:20:34.115934Z"
        },
        "id": "f9de9c82-358e-4732-8fc6-3f3174107695",
        "outputId": "26004c03-6d24-4374-8215-12656a3d564a"
      },
      "outputs": [],
      "source": [
        "\n",
        "file_path2 = \"/var/products_sg.txt\"\n",
        "products = pd.read_csv(file_path2)\n",
        "\n",
        "products.head()"
      ]
    },
    {
      "cell_type": "code",
      "execution_count": null,
      "id": "afecf54c-9b72-4602-b1ec-c7b5cfe6324b",
      "metadata": {
        "execution": {
          "iopub.execute_input": "2025-10-25T20:20:36.256058Z",
          "iopub.status.busy": "2025-10-25T20:20:36.255777Z",
          "iopub.status.idle": "2025-10-25T20:20:36.331261Z",
          "shell.execute_reply": "2025-10-25T20:20:36.328087Z",
          "shell.execute_reply.started": "2025-10-25T20:20:36.256033Z"
        },
        "id": "afecf54c-9b72-4602-b1ec-c7b5cfe6324b"
      },
      "outputs": [],
      "source": [
        "products.drop(columns=['Unnamed: 0'], inplace=True)"
      ]
    },
    {
      "cell_type": "code",
      "execution_count": null,
      "id": "ed5499e1-8e26-4c63-8a0d-478033f8fb99",
      "metadata": {
        "colab": {
          "base_uri": "https://localhost:8080/",
          "height": 143
        },
        "execution": {
          "iopub.execute_input": "2025-10-25T20:20:37.633659Z",
          "iopub.status.busy": "2025-10-25T20:20:37.632937Z",
          "iopub.status.idle": "2025-10-25T20:20:37.654363Z",
          "shell.execute_reply": "2025-10-25T20:20:37.651727Z",
          "shell.execute_reply.started": "2025-10-25T20:20:37.633601Z"
        },
        "id": "ed5499e1-8e26-4c63-8a0d-478033f8fb99",
        "outputId": "d77040ff-acfb-4c50-88dc-0940ca9040e4"
      },
      "outputs": [],
      "source": [
        "products.head(3)"
      ]
    },
    {
      "cell_type": "code",
      "execution_count": null,
      "id": "83295953-4cba-4966-abc2-3e42ac8a48ea",
      "metadata": {
        "colab": {
          "base_uri": "https://localhost:8080/",
          "height": 206
        },
        "execution": {
          "iopub.execute_input": "2025-10-25T20:20:38.588942Z",
          "iopub.status.busy": "2025-10-25T20:20:38.588444Z",
          "iopub.status.idle": "2025-10-25T20:20:38.613365Z",
          "shell.execute_reply": "2025-10-25T20:20:38.610745Z",
          "shell.execute_reply.started": "2025-10-25T20:20:38.588900Z"
        },
        "id": "83295953-4cba-4966-abc2-3e42ac8a48ea",
        "outputId": "7e1c999d-e164-4af3-f890-8fb3a6e9fe6b"
      },
      "outputs": [],
      "source": [
        "\n",
        "file_path3 = \"/var/vendors_sg.txt\"\n",
        "vendors = pd.read_csv(file_path3)\n",
        "\n",
        "vendors.head()"
      ]
    },
    {
      "cell_type": "code",
      "execution_count": null,
      "id": "e75b43bf-d79d-4361-bb1e-08455342bf33",
      "metadata": {
        "execution": {
          "iopub.execute_input": "2025-10-25T20:20:39.844201Z",
          "iopub.status.busy": "2025-10-25T20:20:39.843772Z",
          "iopub.status.idle": "2025-10-25T20:20:39.853278Z",
          "shell.execute_reply": "2025-10-25T20:20:39.850211Z",
          "shell.execute_reply.started": "2025-10-25T20:20:39.844166Z"
        },
        "id": "e75b43bf-d79d-4361-bb1e-08455342bf33"
      },
      "outputs": [],
      "source": [
        "vendors.drop(columns=['Unnamed: 0'], inplace=True)"
      ]
    },
    {
      "cell_type": "code",
      "execution_count": null,
      "id": "ac7ad3aa-688c-4fcd-a630-e5461e313313",
      "metadata": {
        "colab": {
          "base_uri": "https://localhost:8080/",
          "height": 143
        },
        "execution": {
          "iopub.execute_input": "2025-10-25T20:20:43.704611Z",
          "iopub.status.busy": "2025-10-25T20:20:43.704208Z",
          "iopub.status.idle": "2025-10-25T20:20:43.720776Z",
          "shell.execute_reply": "2025-10-25T20:20:43.718048Z",
          "shell.execute_reply.started": "2025-10-25T20:20:43.704577Z"
        },
        "id": "ac7ad3aa-688c-4fcd-a630-e5461e313313",
        "outputId": "c2bb7be6-a504-4eb8-d599-76c470284f7d"
      },
      "outputs": [],
      "source": [
        "vendors.head(3)"
      ]
    },
    {
      "cell_type": "code",
      "execution_count": null,
      "id": "f1c2ac33-5dae-4357-8035-cceb213f860e",
      "metadata": {
        "colab": {
          "base_uri": "https://localhost:8080/",
          "height": 504
        },
        "execution": {
          "iopub.execute_input": "2025-10-25T20:20:44.236520Z",
          "iopub.status.busy": "2025-10-25T20:20:44.236154Z",
          "iopub.status.idle": "2025-10-25T20:20:44.987819Z",
          "shell.execute_reply": "2025-10-25T20:20:44.984776Z",
          "shell.execute_reply.started": "2025-10-25T20:20:44.236482Z"
        },
        "id": "f1c2ac33-5dae-4357-8035-cceb213f860e",
        "outputId": "4f9550b6-24fd-4fcb-b3f3-da5607831b88"
      },
      "outputs": [],
      "source": [
        "\n",
        "# Step 1: Merge orders with products on vendor_id and product_id\n",
        "orders_products = orders.merge(products, on=['vendor_id', 'product_id'], how='left')\n",
        "\n",
        "# Step 2: Merge the result with vendors on vendor_id\n",
        "full_data = orders_products.merge(vendors, on='vendor_id', how='left')\n",
        "\n",
        "# Preview the final merged dataset\n",
        "full_data.head()"
      ]
    },
    {
      "cell_type": "code",
      "execution_count": null,
      "id": "a57d21dd-4e1c-4de2-aec7-4bf20325dc90",
      "metadata": {
        "colab": {
          "base_uri": "https://localhost:8080/",
          "height": 300
        },
        "execution": {
          "iopub.execute_input": "2025-10-25T20:20:46.377817Z",
          "iopub.status.busy": "2025-10-25T20:20:46.377459Z",
          "iopub.status.idle": "2025-10-25T20:20:46.411729Z",
          "shell.execute_reply": "2025-10-25T20:20:46.408767Z",
          "shell.execute_reply.started": "2025-10-25T20:20:46.377787Z"
        },
        "id": "a57d21dd-4e1c-4de2-aec7-4bf20325dc90",
        "outputId": "9747467a-9176-4845-b915-4bb39759222d"
      },
      "outputs": [],
      "source": [
        "full_data.describe()"
      ]
    },
    {
      "cell_type": "code",
      "execution_count": null,
      "id": "65e1f82f-47d2-4705-856c-ae4a9fbf9b5b",
      "metadata": {
        "colab": {
          "base_uri": "https://localhost:8080/"
        },
        "execution": {
          "iopub.execute_input": "2025-10-25T20:20:47.400728Z",
          "iopub.status.busy": "2025-10-25T20:20:47.400163Z",
          "iopub.status.idle": "2025-10-25T20:20:47.411794Z",
          "shell.execute_reply": "2025-10-25T20:20:47.409044Z",
          "shell.execute_reply.started": "2025-10-25T20:20:47.400679Z"
        },
        "id": "65e1f82f-47d2-4705-856c-ae4a9fbf9b5b",
        "outputId": "c094e241-6b1a-422b-ea32-9bb64a86999f"
      },
      "outputs": [],
      "source": [
        "full_data.shape"
      ]
    },
    {
      "cell_type": "markdown",
      "id": "06bee381-a456-4c05-b5ba-86ca93d9c4a9",
      "metadata": {
        "id": "06bee381-a456-4c05-b5ba-86ca93d9c4a9"
      },
      "source": [
        "### 👥 Step 2: Analyze Customer Preferences"
      ]
    },
    {
      "cell_type": "code",
      "execution_count": null,
      "id": "586036dc-8f74-443d-be09-cb44564558fd",
      "metadata": {
        "colab": {
          "base_uri": "https://localhost:8080/"
        },
        "execution": {
          "iopub.execute_input": "2025-10-25T20:20:56.721803Z",
          "iopub.status.busy": "2025-10-25T20:20:56.721355Z",
          "iopub.status.idle": "2025-10-25T20:20:56.735518Z",
          "shell.execute_reply": "2025-10-25T20:20:56.732824Z",
          "shell.execute_reply.started": "2025-10-25T20:20:56.721771Z"
        },
        "id": "586036dc-8f74-443d-be09-cb44564558fd",
        "outputId": "559d6074-83be-4e29-931b-41c78ad28655"
      },
      "outputs": [],
      "source": [
        "full_data[\"primary_cuisine\"].nunique()"
      ]
    },
    {
      "cell_type": "code",
      "execution_count": null,
      "id": "e92ebd8e-383e-46c7-8550-c54b66bae1e5",
      "metadata": {
        "colab": {
          "base_uri": "https://localhost:8080/",
          "height": 1000
        },
        "execution": {
          "iopub.execute_input": "2025-10-25T20:20:57.786523Z",
          "iopub.status.busy": "2025-10-25T20:20:57.786166Z",
          "iopub.status.idle": "2025-10-25T20:20:57.802235Z",
          "shell.execute_reply": "2025-10-25T20:20:57.799623Z",
          "shell.execute_reply.started": "2025-10-25T20:20:57.786491Z"
        },
        "id": "e92ebd8e-383e-46c7-8550-c54b66bae1e5",
        "outputId": "d20f2de3-9c2f-4498-db48-e022f2a9f892"
      },
      "outputs": [],
      "source": [
        "# top 20 most popular cuisines\n",
        "full_data[\"primary_cuisine\"].value_counts(dropna=False).head(73)"
      ]
    },
    {
      "cell_type": "code",
      "execution_count": null,
      "id": "d569c2fb-4c5b-4ce5-9a6c-2a67259c8b08",
      "metadata": {
        "execution": {
          "iopub.execute_input": "2025-10-25T20:20:58.673198Z",
          "iopub.status.busy": "2025-10-25T20:20:58.672700Z",
          "iopub.status.idle": "2025-10-25T20:20:58.685744Z",
          "shell.execute_reply": "2025-10-25T20:20:58.683142Z",
          "shell.execute_reply.started": "2025-10-25T20:20:58.673154Z"
        },
        "id": "d569c2fb-4c5b-4ce5-9a6c-2a67259c8b08"
      },
      "outputs": [],
      "source": [
        "global_cuisine_category = {\n",
        "    \"japanese\": \"japanese\",\n",
        "    \"ramen\": \"japanese\",\n",
        "    \"sushi\": \"japanese\",\n",
        "\n",
        "    \" korean\": \" korean\",\n",
        "\n",
        "    \"chinese\": \"chinese\",\n",
        "    \"dim sum\": \"chinese\",\n",
        "    \"bak kut teh\": \"chinese\",\n",
        "    \"mala xiang guo\": \"chinese\",\n",
        "    \"mala soups\": \"chinese\",\n",
        "    \"hokkien mee\": \"chinese\",\n",
        "    \"noodles\": \"chinese\",\n",
        "    \"tea\": \"chinese\",\n",
        "\n",
        "    \"indian\": \"indian\",\n",
        "    \"curry\": \"indian\",\n",
        "\n",
        "    \"thai\": \"thai\",\n",
        "\n",
        "    \"vietnamese\": \"vietnamese\",\n",
        "    \"pho\": \"vietnamese\",\n",
        "\n",
        "    \"singaporean\": \"singaporean\",\n",
        "    \"chicken rice\": \"singaporean\",\n",
        "    \"ban mian\": \"singaporean\",\n",
        "    \"yong tau foo\": \"singaporean\",\n",
        "\n",
        "    \"indonesian\": \"indonesian\",\n",
        "    \"ayam penyet\": \"indonesian\",\n",
        "\n",
        "    \"malaysian\": \"malaysian\",\n",
        "    \"nasi lemak\": \"malaysian\",\n",
        "    \"roti prata\": \"malaysian\",\n",
        "\n",
        "    \"american\": \"american\",\n",
        "    \"burgers\": \"american\",\n",
        "    \"fried chicken\": \"american\",\n",
        "    \"chicken\": \"american\",\n",
        "    \"sandwiches\": \"american\",\n",
        "    \"grill\": \"american\",\n",
        "    \"fries\": \"american\",\n",
        "    \"fast food\": \"american\",\n",
        "    \"chicken wings\": \"american\",\n",
        "\n",
        "    \"italian\": \"italian\",\n",
        "    \"pizza\": \"italian\",\n",
        "    \"pasta\": \"italian\",\n",
        "\n",
        "    \"french\": \"french\",\n",
        "    \"german\": \"german\",\n",
        "    \"spanish\": \"spanish\",\n",
        "    \"mexican\": \"mexican\",\n",
        "    \"turkish\": \"turkish\",\n",
        "    \"lebanese\": \"lebanese\",\n",
        "\n",
        "    # Reassign rice-based dishes\n",
        "    \"rice dishes\": \"asian\",\n",
        "    \"asian\": \"asian\",\n",
        "    \"fried rice\": \"asian\",\n",
        "    \"seafood\": \"asian\",\n",
        "    \"soups\": \"asian\",\n",
        "    \"filipino\": \"asian\",\n",
        "    \"laksa\": \"asian\",\n",
        "    \"porridge\": \"asian\",\n",
        "    \"fish soup\": \"asian\",\n",
        "\n",
        "    # Everything else defaults to snacks\n",
        "}\n"
      ]
    },
    {
      "cell_type": "code",
      "execution_count": null,
      "id": "78a49609-3ce3-4194-a72d-262b2a630808",
      "metadata": {
        "colab": {
          "base_uri": "https://localhost:8080/"
        },
        "execution": {
          "iopub.execute_input": "2025-10-25T20:20:59.519016Z",
          "iopub.status.busy": "2025-10-25T20:20:59.518440Z",
          "iopub.status.idle": "2025-10-25T20:20:59.531334Z",
          "shell.execute_reply": "2025-10-25T20:20:59.529005Z",
          "shell.execute_reply.started": "2025-10-25T20:20:59.518965Z"
        },
        "id": "78a49609-3ce3-4194-a72d-262b2a630808",
        "outputId": "1ce0577d-d78c-44a1-9558-f33bb0edc5f4"
      },
      "outputs": [],
      "source": [
        "pd.Series(global_cuisine_category.values()).unique()"
      ]
    },
    {
      "cell_type": "code",
      "execution_count": null,
      "id": "8f843c2b-9d05-4cca-91b4-7b6f757a4bb4",
      "metadata": {
        "colab": {
          "base_uri": "https://localhost:8080/"
        },
        "execution": {
          "iopub.execute_input": "2025-10-25T20:21:00.262099Z",
          "iopub.status.busy": "2025-10-25T20:21:00.261638Z",
          "iopub.status.idle": "2025-10-25T20:21:00.271888Z",
          "shell.execute_reply": "2025-10-25T20:21:00.268829Z",
          "shell.execute_reply.started": "2025-10-25T20:21:00.262060Z"
        },
        "id": "8f843c2b-9d05-4cca-91b4-7b6f757a4bb4",
        "outputId": "869a0eff-61eb-4b6f-d8a1-8de7fb283a4b"
      },
      "outputs": [],
      "source": [
        "pd.Series(global_cuisine_category.values()).nunique()"
      ]
    },
    {
      "cell_type": "code",
      "execution_count": null,
      "id": "ac96378f-54e2-4fa4-ba92-228352d4eabb",
      "metadata": {
        "colab": {
          "base_uri": "https://localhost:8080/"
        },
        "execution": {
          "iopub.execute_input": "2025-10-25T20:21:00.849392Z",
          "iopub.status.busy": "2025-10-25T20:21:00.848906Z",
          "iopub.status.idle": "2025-10-25T20:21:00.873536Z",
          "shell.execute_reply": "2025-10-25T20:21:00.869961Z",
          "shell.execute_reply.started": "2025-10-25T20:21:00.849350Z"
        },
        "id": "ac96378f-54e2-4fa4-ba92-228352d4eabb",
        "outputId": "a361e25b-c27e-4d7b-f181-c0a7f94088b0"
      },
      "outputs": [],
      "source": [
        "full_data['cuisine_origin'] = full_data['primary_cuisine'].str.strip().map(global_cuisine_category)\n",
        "full_data['cuisine_origin'].fillna('snacks', inplace=True)\n"
      ]
    },
    {
      "cell_type": "code",
      "execution_count": null,
      "id": "d20a62dc-0219-4efb-aad4-82e57f6c7809",
      "metadata": {
        "colab": {
          "base_uri": "https://localhost:8080/"
        },
        "execution": {
          "iopub.execute_input": "2025-10-25T20:21:02.204460Z",
          "iopub.status.busy": "2025-10-25T20:21:02.203860Z",
          "iopub.status.idle": "2025-10-25T20:21:02.223015Z",
          "shell.execute_reply": "2025-10-25T20:21:02.220469Z",
          "shell.execute_reply.started": "2025-10-25T20:21:02.204415Z"
        },
        "id": "d20a62dc-0219-4efb-aad4-82e57f6c7809",
        "outputId": "3255462b-02d9-4c29-fe66-1f6f2c612b0c"
      },
      "outputs": [],
      "source": [
        "print(full_data[['primary_cuisine', 'cuisine_origin']].drop_duplicates().sort_values(by='primary_cuisine'))\n"
      ]
    },
    {
      "cell_type": "code",
      "execution_count": null,
      "id": "4fbd85b7-b42a-4624-a420-3bafbf24e513",
      "metadata": {
        "colab": {
          "base_uri": "https://localhost:8080/",
          "height": 504
        },
        "execution": {
          "iopub.execute_input": "2025-10-25T20:21:03.297271Z",
          "iopub.status.busy": "2025-10-25T20:21:03.296906Z",
          "iopub.status.idle": "2025-10-25T20:21:03.318457Z",
          "shell.execute_reply": "2025-10-25T20:21:03.315704Z",
          "shell.execute_reply.started": "2025-10-25T20:21:03.297227Z"
        },
        "id": "4fbd85b7-b42a-4624-a420-3bafbf24e513",
        "outputId": "9d2a7df7-a64b-4a61-bd6c-deaa8f50f92e"
      },
      "outputs": [],
      "source": [
        "full_data.head()"
      ]
    },
    {
      "cell_type": "code",
      "execution_count": null,
      "id": "8ae114ac-ea9e-4dad-99c4-eeb23739d744",
      "metadata": {
        "colab": {
          "base_uri": "https://localhost:8080/"
        },
        "execution": {
          "iopub.execute_input": "2025-10-25T20:21:04.159258Z",
          "iopub.status.busy": "2025-10-25T20:21:04.158726Z",
          "iopub.status.idle": "2025-10-25T20:21:04.324106Z",
          "shell.execute_reply": "2025-10-25T20:21:04.320477Z",
          "shell.execute_reply.started": "2025-10-25T20:21:04.159215Z"
        },
        "id": "8ae114ac-ea9e-4dad-99c4-eeb23739d744",
        "outputId": "e11bd13a-900c-460f-eab4-a529d154a95d"
      },
      "outputs": [],
      "source": [
        "!pwd"
      ]
    },
    {
      "cell_type": "code",
      "execution_count": null,
      "id": "3c7b52e0-7a77-4045-9a41-101d5d7b7593",
      "metadata": {
        "execution": {
          "iopub.execute_input": "2025-10-25T20:21:05.786645Z",
          "iopub.status.busy": "2025-10-25T20:21:05.786082Z",
          "iopub.status.idle": "2025-10-25T20:21:05.853730Z",
          "shell.execute_reply": "2025-10-25T20:21:05.851492Z",
          "shell.execute_reply.started": "2025-10-25T20:21:05.786598Z"
        },
        "id": "3c7b52e0-7a77-4045-9a41-101d5d7b7593"
      },
      "outputs": [],
      "source": [
        "full_data[[\"name\"]].to_csv(\"meals.csv\")"
      ]
    },
    {
      "cell_type": "code",
      "execution_count": null,
      "id": "9529731a-c2d0-4632-ae87-5769610f86e9",
      "metadata": {
        "execution": {
          "iopub.execute_input": "2025-10-25T20:21:06.490826Z",
          "iopub.status.busy": "2025-10-25T20:21:06.490192Z",
          "iopub.status.idle": "2025-10-25T20:21:06.519795Z",
          "shell.execute_reply": "2025-10-25T20:21:06.517441Z",
          "shell.execute_reply.started": "2025-10-25T20:21:06.490770Z"
        },
        "id": "9529731a-c2d0-4632-ae87-5769610f86e9"
      },
      "outputs": [],
      "source": [
        "df = pd.read_csv('meals.csv')"
      ]
    },
    {
      "cell_type": "code",
      "execution_count": null,
      "id": "906b0706-f1fe-4fb2-b23a-4b4932791d9d",
      "metadata": {
        "colab": {
          "base_uri": "https://localhost:8080/",
          "height": 206
        },
        "execution": {
          "iopub.execute_input": "2025-10-25T20:21:07.018924Z",
          "iopub.status.busy": "2025-10-25T20:21:07.018362Z",
          "iopub.status.idle": "2025-10-25T20:21:07.033023Z",
          "shell.execute_reply": "2025-10-25T20:21:07.030393Z",
          "shell.execute_reply.started": "2025-10-25T20:21:07.018875Z"
        },
        "id": "906b0706-f1fe-4fb2-b23a-4b4932791d9d",
        "outputId": "ae4a5224-b3ed-48e5-813b-3f2d03be799d"
      },
      "outputs": [],
      "source": [
        "df.head()"
      ]
    },
    {
      "cell_type": "code",
      "execution_count": null,
      "id": "1924dba0-325c-4bfd-9335-9796d19b78ef",
      "metadata": {
        "execution": {
          "iopub.execute_input": "2025-10-25T20:21:07.966233Z",
          "iopub.status.busy": "2025-10-25T20:21:07.965688Z",
          "iopub.status.idle": "2025-10-25T20:21:07.976318Z",
          "shell.execute_reply": "2025-10-25T20:21:07.973476Z",
          "shell.execute_reply.started": "2025-10-25T20:21:07.966181Z"
        },
        "id": "1924dba0-325c-4bfd-9335-9796d19b78ef"
      },
      "outputs": [],
      "source": [
        "df = df.drop(columns=['Unnamed: 0'], errors='ignore')"
      ]
    },
    {
      "cell_type": "markdown",
      "id": "438f30c6-bfe2-48be-9907-cccee6c2742f",
      "metadata": {
        "id": "438f30c6-bfe2-48be-9907-cccee6c2742f"
      },
      "source": [
        "### 🟦  Clean the Dish Names"
      ]
    },
    {
      "cell_type": "code",
      "execution_count": null,
      "id": "125cb792-11ef-400f-8d56-b58b9f09c999",
      "metadata": {
        "execution": {
          "iopub.execute_input": "2025-10-25T20:33:27.352211Z",
          "iopub.status.busy": "2025-10-25T20:33:27.336926Z",
          "iopub.status.idle": "2025-10-25T20:33:27.569333Z",
          "shell.execute_reply": "2025-10-25T20:33:27.562281Z",
          "shell.execute_reply.started": "2025-10-25T20:33:27.351157Z"
        },
        "id": "125cb792-11ef-400f-8d56-b58b9f09c999"
      },
      "outputs": [],
      "source": [
        "import re\n",
        "\n",
        "def clean_text(text):\n",
        "    text = str(text).lower()\n",
        "    text = re.sub(r'\\d+\\.', '', text)         # Remove leading numbers like \"204.\"\n",
        "    text = re.sub(r'[^\\w\\s]', '', text)       # Remove punctuation\n",
        "    text = re.sub(r'\\d+', '', text)           # Remove remaining numbers\n",
        "    text = text.strip()\n",
        "    return text\n",
        "\n",
        "df['name_cleaned'] = df['name'].fillna('').apply(clean_text)\n"
      ]
    },
    {
      "cell_type": "code",
      "execution_count": null,
      "id": "782d8ee7-347f-460a-99c7-df321d03988b",
      "metadata": {
        "colab": {
          "base_uri": "https://localhost:8080/",
          "height": 241
        },
        "execution": {
          "iopub.execute_input": "2025-10-25T20:33:27.787414Z",
          "iopub.status.busy": "2025-10-25T20:33:27.786925Z",
          "iopub.status.idle": "2025-10-25T20:33:27.855205Z",
          "shell.execute_reply": "2025-10-25T20:33:27.847665Z",
          "shell.execute_reply.started": "2025-10-25T20:33:27.787379Z"
        },
        "id": "782d8ee7-347f-460a-99c7-df321d03988b",
        "outputId": "731e3884-b579-4ca6-ecd0-bbff76c58192"
      },
      "outputs": [],
      "source": [
        "df['name_cleaned'].head()"
      ]
    },
    {
      "cell_type": "markdown",
      "id": "48996446-5df3-4ce3-880a-afa9e4db7c1a",
      "metadata": {
        "id": "48996446-5df3-4ce3-880a-afa9e4db7c1a"
      },
      "source": [
        "### 🟦 Create TF-IDF Matrix"
      ]
    },
    {
      "cell_type": "code",
      "execution_count": null,
      "id": "b78d7304-a190-4bf4-9f17-811f93e5720c",
      "metadata": {
        "colab": {
          "base_uri": "https://localhost:8080/"
        },
        "execution": {
          "iopub.execute_input": "2025-10-25T20:33:29.163089Z",
          "iopub.status.busy": "2025-10-25T20:33:29.162625Z",
          "iopub.status.idle": "2025-10-25T20:33:29.398574Z",
          "shell.execute_reply": "2025-10-25T20:33:29.395900Z",
          "shell.execute_reply.started": "2025-10-25T20:33:29.163048Z"
        },
        "id": "b78d7304-a190-4bf4-9f17-811f93e5720c",
        "outputId": "7338cd1e-1bed-406f-eef7-0ee5a1d3ca54"
      },
      "outputs": [],
      "source": [
        "from sklearn.feature_extraction.text import TfidfVectorizer\n",
        "\n",
        "# Initialize vectorizer\n",
        "tfidf_vectorizer = TfidfVectorizer(stop_words='english')\n",
        "\n",
        "# Fit and transform\n",
        "tfidf_matrix = tfidf_vectorizer.fit_transform(df['name_cleaned'])\n",
        "\n",
        "# Summary\n",
        "print(\"✅ TF-IDF matrix created.\")\n",
        "print(f\"Matrix shape: {tfidf_matrix.shape}\")\n"
      ]
    },
    {
      "cell_type": "markdown",
      "id": "8ed13c3f-1846-4196-a002-f261a24061dc",
      "metadata": {
        "id": "8ed13c3f-1846-4196-a002-f261a24061dc"
      },
      "source": [
        "### 🟦 Compute Cosine Similarity"
      ]
    },
    {
      "cell_type": "code",
      "execution_count": null,
      "id": "43cd8d13-8e0e-4988-9946-09bdbacc56ed",
      "metadata": {
        "execution": {
          "iopub.execute_input": "2025-10-25T20:33:30.804083Z",
          "iopub.status.busy": "2025-10-25T20:33:30.803565Z",
          "iopub.status.idle": "2025-10-25T20:33:33.302962Z",
          "shell.execute_reply": "2025-10-25T20:33:33.290590Z",
          "shell.execute_reply.started": "2025-10-25T20:33:30.804048Z"
        },
        "id": "43cd8d13-8e0e-4988-9946-09bdbacc56ed"
      },
      "outputs": [],
      "source": [
        "from sklearn.metrics.pairwise import cosine_similarity\n",
        "\n",
        "# Compute similarity\n",
        "cosine_sim_matrix = cosine_similarity(tfidf_matrix)\n",
        "\n",
        "# Preview\n",
        "#print(\"✅ Cosine similarity matrix built.\")\n",
        "#print(\"Top-left 5x5 sample:\")\n",
        "#print(cosine_sim_matrix[:5, :5])\n"
      ]
    },
    {
      "cell_type": "markdown",
      "id": "3f1669c0-9abf-4006-9cb2-b91c98056081",
      "metadata": {
        "id": "3f1669c0-9abf-4006-9cb2-b91c98056081"
      },
      "source": [
        "### 🟦  Build Recommender Function"
      ]
    },
    {
      "cell_type": "code",
      "execution_count": null,
      "id": "3fb329bb-2b11-47ec-a896-d66e2b71267a",
      "metadata": {
        "execution": {
          "iopub.execute_input": "2025-10-25T20:33:36.332859Z",
          "iopub.status.busy": "2025-10-25T20:33:36.330229Z",
          "iopub.status.idle": "2025-10-25T20:33:36.464302Z",
          "shell.execute_reply": "2025-10-25T20:33:36.460220Z",
          "shell.execute_reply.started": "2025-10-25T20:33:36.332521Z"
        },
        "id": "3fb329bb-2b11-47ec-a896-d66e2b71267a"
      },
      "outputs": [],
      "source": [
        "# Create a lookup index using cleaned names, keeping only the first match\n",
        "indices = df['name_cleaned'].drop_duplicates().reset_index(drop=True)\n",
        "lookup = pd.Series(indices.index, index=indices.values)\n"
      ]
    },
    {
      "cell_type": "code",
      "execution_count": null,
      "id": "634df172-b0b1-440a-86cb-8c04870102c1",
      "metadata": {
        "execution": {
          "iopub.execute_input": "2025-10-25T20:33:36.911758Z",
          "iopub.status.busy": "2025-10-25T20:33:36.911164Z",
          "iopub.status.idle": "2025-10-25T20:33:37.130807Z",
          "shell.execute_reply": "2025-10-25T20:33:37.127167Z",
          "shell.execute_reply.started": "2025-10-25T20:33:36.911722Z"
        },
        "id": "634df172-b0b1-440a-86cb-8c04870102c1"
      },
      "outputs": [],
      "source": [
        "def get_similar_meals(title, cosine_sim=cosine_sim_matrix, lookup=lookup, df=df):\n",
        "    try:\n",
        "        title_cleaned = clean_text(title)\n",
        "\n",
        "        if title_cleaned not in lookup:\n",
        "            return f\"Meal '{title}' not found in the dataset.\"\n",
        "\n",
        "        idx = lookup[title_cleaned]\n",
        "\n",
        "        sim_scores = list(enumerate(cosine_sim[idx]))\n",
        "        sim_scores = sorted(sim_scores, key=lambda x: x[1], reverse=True)\n",
        "        sim_scores = [score for score in sim_scores if score[0] != idx][:10]\n",
        "        meal_indices = [i[0] for i in sim_scores]\n",
        "\n",
        "        return df['name_cleaned'].iloc[meal_indices]\n",
        "\n",
        "    except Exception as e:\n",
        "        return f\"Error: {e}\"\n"
      ]
    },
    {
      "cell_type": "markdown",
      "id": "dbe6301d-a3c8-47e4-8d88-ce7652375ff0",
      "metadata": {
        "id": "dbe6301d-a3c8-47e4-8d88-ce7652375ff0"
      },
      "source": [
        "### 🟦 Test the Recommender"
      ]
    },
    {
      "cell_type": "code",
      "execution_count": null,
      "id": "73c9d4bd-cfb5-4811-ac6c-9d93e0ddf643",
      "metadata": {
        "colab": {
          "base_uri": "https://localhost:8080/"
        },
        "execution": {
          "iopub.execute_input": "2025-10-25T20:33:38.867551Z",
          "iopub.status.busy": "2025-10-25T20:33:38.866543Z",
          "iopub.status.idle": "2025-10-25T20:33:39.015229Z",
          "shell.execute_reply": "2025-10-25T20:33:39.011918Z",
          "shell.execute_reply.started": "2025-10-25T20:33:38.867490Z"
        },
        "id": "73c9d4bd-cfb5-4811-ac6c-9d93e0ddf643",
        "outputId": "1423bdec-e850-401e-ed22-01c8a2a28a38"
      },
      "outputs": [],
      "source": [
        "test_meal = \"chicken cutlet don\"\n",
        "similar_meals = get_similar_meals(test_meal)\n",
        "print(similar_meals)"
      ]
    },
    {
      "cell_type": "code",
      "execution_count": null,
      "id": "090cba3f-fe7b-48b5-a831-2f773bc625cd",
      "metadata": {
        "colab": {
          "base_uri": "https://localhost:8080/"
        },
        "execution": {
          "iopub.execute_input": "2025-10-25T20:33:40.256723Z",
          "iopub.status.busy": "2025-10-25T20:33:40.256303Z",
          "iopub.status.idle": "2025-10-25T20:33:41.748650Z",
          "shell.execute_reply": "2025-10-25T20:33:41.745567Z",
          "shell.execute_reply.started": "2025-10-25T20:33:40.256687Z"
        },
        "id": "090cba3f-fe7b-48b5-a831-2f773bc625cd",
        "outputId": "62c3eea0-9a81-4f60-e76a-15373cf412ef"
      },
      "outputs": [],
      "source": [
        "test_meal = \"japanese garlic karaage don\"\n",
        "similar_meals = get_similar_meals(test_meal)\n",
        "print(similar_meals)\n"
      ]
    },
    {
      "cell_type": "code",
      "execution_count": null,
      "id": "99a6232b-35ab-43df-a97b-f990e4bdeb6a",
      "metadata": {
        "colab": {
          "base_uri": "https://localhost:8080/"
        },
        "execution": {
          "iopub.execute_input": "2025-10-25T20:33:43.251345Z",
          "iopub.status.busy": "2025-10-25T20:33:43.250869Z",
          "iopub.status.idle": "2025-10-25T20:33:43.261552Z",
          "shell.execute_reply": "2025-10-25T20:33:43.258527Z",
          "shell.execute_reply.started": "2025-10-25T20:33:43.251311Z"
        },
        "id": "99a6232b-35ab-43df-a97b-f990e4bdeb6a",
        "outputId": "c6ce487c-e3a1-4236-802a-a8942eea7108"
      },
      "outputs": [],
      "source": [
        "test_meal = \"sushis\"\n",
        "similar_meals = get_similar_meals(test_meal)\n",
        "print(similar_meals)"
      ]
    },
    {
      "cell_type": "code",
      "execution_count": null,
      "id": "c7c3eabb-854e-4cf3-94c5-9c3635760b1e",
      "metadata": {
        "execution": {
          "iopub.execute_input": "2025-10-25T20:44:25.344965Z",
          "iopub.status.busy": "2025-10-25T20:44:25.344119Z",
          "iopub.status.idle": "2025-10-25T20:44:25.360980Z",
          "shell.execute_reply": "2025-10-25T20:44:25.357331Z",
          "shell.execute_reply.started": "2025-10-25T20:44:25.344918Z"
        },
        "id": "c7c3eabb-854e-4cf3-94c5-9c3635760b1e"
      },
      "outputs": [],
      "source": [
        "def get_similar_meals_by_keyword(keyword, df=df):\n",
        "    try:\n",
        "        keyword_cleaned = clean_text(keyword)\n",
        "\n",
        "        # Find all meals that contain the keyword\n",
        "        matches = df[df['name_cleaned'].str.contains(keyword_cleaned, case=False, na=False)]\n",
        "\n",
        "        if matches.empty:\n",
        "            return f\"No meals found containing '{keyword}'.\"\n",
        "\n",
        "        return matches['name_cleaned'].drop_duplicates().reset_index(drop=True)\n",
        "\n",
        "    except Exception as e:\n",
        "        return f\"Error: {e}\"\n"
      ]
    },
    {
      "cell_type": "code",
      "execution_count": null,
      "id": "7265d023-32e0-4a73-8bc5-f77ce10e366d",
      "metadata": {
        "colab": {
          "base_uri": "https://localhost:8080/",
          "height": 397
        },
        "execution": {
          "iopub.execute_input": "2025-10-25T20:44:25.956834Z",
          "iopub.status.busy": "2025-10-25T20:44:25.956267Z",
          "iopub.status.idle": "2025-10-25T20:44:26.020831Z",
          "shell.execute_reply": "2025-10-25T20:44:26.016865Z",
          "shell.execute_reply.started": "2025-10-25T20:44:25.956776Z"
        },
        "id": "7265d023-32e0-4a73-8bc5-f77ce10e366d",
        "outputId": "c193a373-1899-4ed9-8270-1142144b6b40"
      },
      "outputs": [],
      "source": [
        "test_meal = \"chicken\"\n",
        "similar_meals = get_similar_meals_by_keyword(test_meal)\n",
        "similar_meals.head(10)\n"
      ]
    },
    {
      "cell_type": "code",
      "execution_count": null,
      "id": "0b8cc0ea-a3ca-41c1-9530-bcfaec09aa2d",
      "metadata": {
        "id": "0b8cc0ea-a3ca-41c1-9530-bcfaec09aa2d"
      },
      "outputs": [],
      "source": []
    },
    {
      "cell_type": "code",
      "execution_count": null,
      "id": "4662a844-e5d8-4c1b-ba08-a489a587a23d",
      "metadata": {
        "colab": {
          "base_uri": "https://localhost:8080/"
        },
        "execution": {
          "iopub.execute_input": "2025-10-25T20:24:32.466823Z",
          "iopub.status.busy": "2025-10-25T20:24:32.456589Z",
          "iopub.status.idle": "2025-10-25T20:24:32.577115Z",
          "shell.execute_reply": "2025-10-25T20:24:32.572400Z",
          "shell.execute_reply.started": "2025-10-25T20:24:32.465269Z"
        },
        "id": "4662a844-e5d8-4c1b-ba08-a489a587a23d",
        "outputId": "14933240-0377-4e58-97ca-37ee444832f4"
      },
      "outputs": [],
      "source": [
        "from sklearn.decomposition import NMF\n",
        "\n",
        "# --- 3. Define and Fit the NMF Model ---\n",
        "print(f\"--- Fitting NMF model to find topics ---\")\n",
        "\n",
        "# Define the number of \"main ideas\" you want to find\n",
        "num_topics = 20\n",
        "\n",
        "# Initialize NMF\n",
        "# 'n_components' is the number of topics.\n",
        "# 'random_state' ensures you get the same results every time you run it.\n",
        "# 'init='nndsvda'' is a smart initialization method that often leads to better results.\n",
        "# 'max_iter=500' gives the model more time to converge.\n",
        "nmf_model = NMF(\n",
        "    n_components=num_topics,\n",
        "    random_state=42,\n",
        "    max_iter=500,\n",
        "    init='nndsvda'\n",
        ")\n",
        "\n",
        "# Fit NMF to our TF-IDF matrix\n",
        "# This is the main \"training\" step that discovers the topics.\n",
        "nmf_model.fit(tfidf_matrix)\n",
        "\n",
        "print(\"--- NMF model training complete ---\")\n",
        "\n",
        "\n",
        "# --- 4. Define Function to Display Topics ---\n",
        "\n",
        "# Get the list of all unique words (the \"features\") from the vectorizer\n",
        "feature_names = tfidf_vectorizer.get_feature_names_out()\n",
        "\n",
        "def display_topics(model, feature_names, no_top_words):\n",
        "    \"\"\"Prints the top words for each topic found by the model.\"\"\"\n",
        "    print(\"\\n--- Discovered Topics (Main Ideas) ---\")\n",
        "\n",
        "    # 'model.components_' is a matrix (topics x words)\n",
        "    # Each row is a topic, and the values are the \"importance\" of each word.\n",
        "    for topic_idx, topic in enumerate(model.components_):\n",
        "\n",
        "        # Get the index numbers of the top N words for this topic\n",
        "        top_word_indices = topic.argsort()[:-no_top_words - 1:-1]\n",
        "\n",
        "        # Get the actual words from their index numbers\n",
        "        top_words = [feature_names[i] for i in top_word_indices]\n",
        "\n",
        "        # Print the topic\n",
        "        print(f\"Topic {topic_idx}:\")\n",
        "        print(\" \".join(top_words))\n",
        "        print(\"-\" * 20)\n",
        "\n",
        "# --- 5. Display the Results ---\n",
        "# Show the top 8 words for each of our 20 topics.\n",
        "display_topics(model=nmf_model,\n",
        "               feature_names=feature_names,\n",
        "               no_top_words=8)"
      ]
    },
    {
      "cell_type": "code",
      "execution_count": null,
      "id": "38b8fdf3-9098-469e-9df1-e69205067849",
      "metadata": {
        "id": "38b8fdf3-9098-469e-9df1-e69205067849"
      },
      "outputs": [],
      "source": []
    },
    {
      "cell_type": "code",
      "execution_count": null,
      "id": "7e4e0fb8-c6e7-4d10-8fc1-8e8b33dce7cb",
      "metadata": {
        "colab": {
          "base_uri": "https://localhost:8080/"
        },
        "execution": {
          "iopub.execute_input": "2025-10-25T20:39:56.276317Z",
          "iopub.status.busy": "2025-10-25T20:39:56.275458Z",
          "iopub.status.idle": "2025-10-25T20:39:56.617004Z",
          "shell.execute_reply": "2025-10-25T20:39:56.613462Z",
          "shell.execute_reply.started": "2025-10-25T20:39:56.276116Z"
        },
        "id": "7e4e0fb8-c6e7-4d10-8fc1-8e8b33dce7cb",
        "outputId": "19b1b04e-5c32-429e-f83b-3cd718bd322f"
      },
      "outputs": [],
      "source": [
        "!ls"
      ]
    },
    {
      "cell_type": "code",
      "execution_count": null,
      "id": "108f606d-f995-4679-bfc3-e8044c44d3bc",
      "metadata": {
        "colab": {
          "base_uri": "https://localhost:8080/"
        },
        "execution": {
          "iopub.execute_input": "2025-10-25T20:39:56.938493Z",
          "iopub.status.busy": "2025-10-25T20:39:56.937251Z",
          "iopub.status.idle": "2025-10-25T20:39:57.231676Z",
          "shell.execute_reply": "2025-10-25T20:39:57.228936Z",
          "shell.execute_reply.started": "2025-10-25T20:39:56.938427Z"
        },
        "id": "108f606d-f995-4679-bfc3-e8044c44d3bc",
        "outputId": "6f66df40-7a7b-446e-9034-22b4bc590dc6"
      },
      "outputs": [],
      "source": [
        "full_data[\"name\"].nunique()"
      ]
    },
    {
      "cell_type": "code",
      "execution_count": null,
      "id": "24a3a042-c6f9-4eb4-9faf-a72a15e3d73f",
      "metadata": {
        "execution": {
          "iopub.execute_input": "2025-10-25T20:40:03.535870Z",
          "iopub.status.busy": "2025-10-25T20:40:03.535386Z",
          "iopub.status.idle": "2025-10-25T20:40:03.582611Z",
          "shell.execute_reply": "2025-10-25T20:40:03.580296Z",
          "shell.execute_reply.started": "2025-10-25T20:40:03.535834Z"
        },
        "id": "24a3a042-c6f9-4eb4-9faf-a72a15e3d73f"
      },
      "outputs": [],
      "source": [
        "# Example: Filter for Italian cuisine\n",
        "mexican_orders = full_data[full_data['primary_cuisine'] == 'mexican']\n"
      ]
    },
    {
      "cell_type": "markdown",
      "id": "59d9ab80-b5cf-41cd-8ea7-ea7ba079e5d7",
      "metadata": {
        "id": "59d9ab80-b5cf-41cd-8ea7-ea7ba079e5d7"
      },
      "source": [
        "##### 🔸 Most Frequent Customers per Cuisine(mexican cuisine)"
      ]
    },
    {
      "cell_type": "code",
      "execution_count": null,
      "id": "926a011d-eb55-49e8-a774-d186a74768b4",
      "metadata": {
        "colab": {
          "base_uri": "https://localhost:8080/"
        },
        "execution": {
          "iopub.execute_input": "2025-10-25T20:40:03.892684Z",
          "iopub.status.busy": "2025-10-25T20:40:03.892131Z",
          "iopub.status.idle": "2025-10-25T20:40:03.933946Z",
          "shell.execute_reply": "2025-10-25T20:40:03.930267Z",
          "shell.execute_reply.started": "2025-10-25T20:40:03.892647Z"
        },
        "id": "926a011d-eb55-49e8-a774-d186a74768b4",
        "outputId": "ce7e60cc-ad22-44eb-d7f4-40b09940da92"
      },
      "outputs": [],
      "source": [
        "top_customers = mexican_orders['customer_id'].value_counts().head(10)\n",
        "print(top_customers)"
      ]
    },
    {
      "cell_type": "markdown",
      "id": "e01752f8-bf2f-4c21-8915-f2ea4f025e17",
      "metadata": {
        "id": "e01752f8-bf2f-4c21-8915-f2ea4f025e17"
      },
      "source": [
        "### Most Ordered Products per Cuisine"
      ]
    },
    {
      "cell_type": "code",
      "execution_count": null,
      "id": "7ab95e1b-4237-4812-a198-46ee5056a1b4",
      "metadata": {
        "colab": {
          "base_uri": "https://localhost:8080/"
        },
        "execution": {
          "iopub.execute_input": "2025-10-25T20:40:05.825092Z",
          "iopub.status.busy": "2025-10-25T20:40:05.824618Z",
          "iopub.status.idle": "2025-10-25T20:40:05.864692Z",
          "shell.execute_reply": "2025-10-25T20:40:05.860901Z",
          "shell.execute_reply.started": "2025-10-25T20:40:05.825042Z"
        },
        "id": "7ab95e1b-4237-4812-a198-46ee5056a1b4",
        "outputId": "a9699365-c060-4231-bf47-77941abc1d53"
      },
      "outputs": [],
      "source": [
        "top_dishes =mexican_orders['name'].value_counts().head(10)\n",
        "print(top_dishes)\n"
      ]
    },
    {
      "cell_type": "code",
      "execution_count": null,
      "id": "87548786-37c3-44bf-a013-25ee7885cfb5",
      "metadata": {
        "id": "87548786-37c3-44bf-a013-25ee7885cfb5"
      },
      "outputs": [],
      "source": []
    },
    {
      "cell_type": "markdown",
      "id": "5cba5c29-5690-4306-acd8-3cd3d79c675b",
      "metadata": {
        "id": "5cba5c29-5690-4306-acd8-3cd3d79c675b"
      },
      "source": [
        "### 🔸 Average Spending per Customer"
      ]
    },
    {
      "cell_type": "code",
      "execution_count": null,
      "id": "cae81e25-a5b0-46ae-b49d-1b194887fe80",
      "metadata": {
        "colab": {
          "base_uri": "https://localhost:8080/"
        },
        "execution": {
          "iopub.execute_input": "2025-10-25T20:40:08.065525Z",
          "iopub.status.busy": "2025-10-25T20:40:08.065090Z",
          "iopub.status.idle": "2025-10-25T20:40:08.110209Z",
          "shell.execute_reply": "2025-10-25T20:40:08.106961Z",
          "shell.execute_reply.started": "2025-10-25T20:40:08.065448Z"
        },
        "id": "cae81e25-a5b0-46ae-b49d-1b194887fe80",
        "outputId": "9bcfa217-de1b-4186-b0e6-89d27ad09532"
      },
      "outputs": [],
      "source": [
        "avg_spending = mexican_orders.groupby('customer_id')['unit_price'].mean().sort_values(ascending=False).head(10)\n",
        "print(avg_spending)\n"
      ]
    },
    {
      "cell_type": "code",
      "execution_count": null,
      "id": "3bb7a813-1e7d-4d9c-b746-9d23645cff4c",
      "metadata": {
        "colab": {
          "base_uri": "https://localhost:8080/"
        },
        "execution": {
          "iopub.execute_input": "2025-10-25T20:40:09.704480Z",
          "iopub.status.busy": "2025-10-25T20:40:09.704057Z",
          "iopub.status.idle": "2025-10-25T20:40:09.723334Z",
          "shell.execute_reply": "2025-10-25T20:40:09.719975Z",
          "shell.execute_reply.started": "2025-10-25T20:40:09.704446Z"
        },
        "id": "3bb7a813-1e7d-4d9c-b746-9d23645cff4c",
        "outputId": "7d49985f-8e83-4f50-cbc9-b1ab0f661a5b"
      },
      "outputs": [],
      "source": [
        "spending_per_customer = mexican_orders.groupby('customer_id')['unit_price'].sum().sort_values(ascending=False).head(10)\n",
        "print(spending_per_customer)\n"
      ]
    },
    {
      "cell_type": "code",
      "execution_count": null,
      "id": "023e61b7-7a7d-4adf-b1d1-86260abd094a",
      "metadata": {
        "id": "023e61b7-7a7d-4adf-b1d1-86260abd094a"
      },
      "outputs": [],
      "source": []
    },
    {
      "cell_type": "code",
      "execution_count": 48,
      "id": "318aee49-2335-446a-83be-928c369e7def",
      "metadata": {
        "colab": {
          "base_uri": "https://localhost:8080/"
        },
        "execution": {
          "iopub.execute_input": "2025-10-25T20:40:11.461290Z",
          "iopub.status.busy": "2025-10-25T20:40:11.460832Z",
          "iopub.status.idle": "2025-10-25T20:40:14.212341Z",
          "shell.execute_reply": "2025-10-25T20:40:14.206430Z",
          "shell.execute_reply.started": "2025-10-25T20:40:11.461255Z"
        },
        "id": "318aee49-2335-446a-83be-928c369e7def",
        "outputId": "a519a952-a3d7-4418-9857-a9cfa674b1e7"
      },
      "outputs": [
        {
          "name": "stdout",
          "output_type": "stream",
          "text": [
            "Collecting wrapt (from smart_open>=1.8.1->gensim)\n",
            "  Downloading wrapt-2.0.0-cp310-cp310-manylinux1_x86_64.manylinux_2_28_x86_64.manylinux_2_5_x86_64.whl.metadata (8.8 kB)\n",
            "Downloading gensim-4.4.0-cp310-cp310-manylinux_2_24_x86_64.manylinux_2_28_x86_64.whl (27.6 MB)\n",
            "\u001b[2K   \u001b[91m━━━━━━━\u001b[0m\u001b[91m╸\u001b[0m\u001b[90m━━━━━━━━━━━━━━━━━━━━━━━━━━━━━━━━\u001b[0m \u001b[32m5.2/27.6 MB\u001b[0m \u001b[31m4.2 MB/s\u001b[0m eta \u001b[36m0:00:06\u001b[0m\n",
            "\u001b[?25h^C\n",
            "\u001b[31mERROR: Operation cancelled by user\u001b[0m\u001b[31m\n",
            "\u001b[0mNote: you may need to restart the kernel to use updated packages.\n"
          ]
        }
      ],
      "source": [
        "pip install gensim"
      ]
    },
    {
      "cell_type": "markdown",
      "id": "fecee50e-9805-4690-94df-8fca2cd77c25",
      "metadata": {
        "id": "fecee50e-9805-4690-94df-8fca2cd77c25"
      },
      "source": [
        "### Group Dishes by Order"
      ]
    },
    {
      "cell_type": "code",
      "execution_count": null,
      "id": "6a0993fc-b2bf-4170-b3c0-28b2fc2a64f7",
      "metadata": {
        "execution": {
          "iopub.execute_input": "2025-10-25T20:40:14.216257Z",
          "iopub.status.busy": "2025-10-25T20:40:14.215380Z",
          "iopub.status.idle": "2025-10-25T20:40:14.423259Z",
          "shell.execute_reply": "2025-10-25T20:40:14.420525Z",
          "shell.execute_reply.started": "2025-10-25T20:40:14.216180Z"
        },
        "id": "6a0993fc-b2bf-4170-b3c0-28b2fc2a64f7"
      },
      "outputs": [],
      "source": [
        "# Group dish names by order_id\n",
        "orders2 = full_data.groupby('order_id')['name'].apply(list).tolist()\n"
      ]
    },
    {
      "cell_type": "code",
      "execution_count": null,
      "id": "cb591abc-2007-44c1-8525-07571ab2f7e1",
      "metadata": {
        "colab": {
          "base_uri": "https://localhost:8080/",
          "height": 504
        },
        "execution": {
          "iopub.execute_input": "2025-10-25T20:40:15.369007Z",
          "iopub.status.busy": "2025-10-25T20:40:15.368425Z",
          "iopub.status.idle": "2025-10-25T20:40:15.408216Z",
          "shell.execute_reply": "2025-10-25T20:40:15.405485Z",
          "shell.execute_reply.started": "2025-10-25T20:40:15.368962Z"
        },
        "id": "cb591abc-2007-44c1-8525-07571ab2f7e1",
        "outputId": "d0d8ab63-59c0-410a-bebd-3589edaa954d"
      },
      "outputs": [],
      "source": [
        "full_data.head()"
      ]
    },
    {
      "cell_type": "markdown",
      "id": "a6207d47-8b09-406a-9daf-cb6f701ae989",
      "metadata": {
        "id": "a6207d47-8b09-406a-9daf-cb6f701ae989"
      },
      "source": [
        "### Tokenize Dish Names"
      ]
    },
    {
      "cell_type": "code",
      "execution_count": null,
      "id": "e6fd9b75-e62f-4f55-83d6-5511949bc48e",
      "metadata": {
        "execution": {
          "iopub.execute_input": "2025-10-25T20:40:31.881257Z",
          "iopub.status.busy": "2025-10-25T20:40:31.880629Z",
          "iopub.status.idle": "2025-10-25T20:40:31.971025Z",
          "shell.execute_reply": "2025-10-25T20:40:31.967181Z",
          "shell.execute_reply.started": "2025-10-25T20:40:31.881203Z"
        },
        "id": "e6fd9b75-e62f-4f55-83d6-5511949bc48e"
      },
      "outputs": [],
      "source": [
        "# Split each dish name into tokens (words)\n",
        "\n",
        "tokenized_orders = [[dish.lower().split() for dish in order] for order in orders2]\n",
        "\n",
        "# Flatten inner lists so each order is a list of words\n",
        "tokenized_orders = [[word for dish in order for word in dish] for order in tokenized_orders]\n"
      ]
    },
    {
      "cell_type": "code",
      "execution_count": null,
      "id": "9fc887db-3527-4cc3-9960-8fb1cde367d2",
      "metadata": {
        "colab": {
          "base_uri": "https://localhost:8080/"
        },
        "execution": {
          "iopub.execute_input": "2025-10-25T20:40:32.531233Z",
          "iopub.status.busy": "2025-10-25T20:40:32.530836Z",
          "iopub.status.idle": "2025-10-25T20:40:32.542224Z",
          "shell.execute_reply": "2025-10-25T20:40:32.539280Z",
          "shell.execute_reply.started": "2025-10-25T20:40:32.531190Z"
        },
        "id": "9fc887db-3527-4cc3-9960-8fb1cde367d2",
        "outputId": "0866a626-54a0-4e0d-a584-1f12e8cc57b2"
      },
      "outputs": [],
      "source": [
        "len(tokenized_orders)"
      ]
    },
    {
      "cell_type": "code",
      "execution_count": null,
      "id": "873648f1-e300-481f-9f53-9103e60d3701",
      "metadata": {
        "colab": {
          "base_uri": "https://localhost:8080/"
        },
        "execution": {
          "iopub.execute_input": "2025-10-25T20:40:33.283149Z",
          "iopub.status.busy": "2025-10-25T20:40:33.282470Z",
          "iopub.status.idle": "2025-10-25T20:40:33.294454Z",
          "shell.execute_reply": "2025-10-25T20:40:33.291819Z",
          "shell.execute_reply.started": "2025-10-25T20:40:33.283089Z"
        },
        "id": "873648f1-e300-481f-9f53-9103e60d3701",
        "outputId": "12b96c7c-22b0-4564-fa83-6d5e219b2818"
      },
      "outputs": [],
      "source": [
        "len(tokenized_orders[0])"
      ]
    },
    {
      "cell_type": "code",
      "execution_count": null,
      "id": "ce5aa17f-53c6-402c-84c9-efe88bf683eb",
      "metadata": {
        "execution": {
          "iopub.execute_input": "2025-10-25T20:41:18.958210Z",
          "iopub.status.busy": "2025-10-25T20:41:18.957776Z",
          "iopub.status.idle": "2025-10-25T20:41:19.309778Z",
          "shell.execute_reply": "2025-10-25T20:41:19.308110Z",
          "shell.execute_reply.started": "2025-10-25T20:41:18.958172Z"
        },
        "id": "ce5aa17f-53c6-402c-84c9-efe88bf683eb"
      },
      "outputs": [],
      "source": [
        "from gensim.models import Word2Vec\n",
        "\n",
        "# Train the model\n",
        "model = Word2Vec(sentences=tokenized_orders, vector_size=20, window=5, min_count=2, workers=4, sg=1)\n"
      ]
    },
    {
      "cell_type": "code",
      "execution_count": null,
      "id": "1681e9f7-276c-419e-af51-ae97a14647b1",
      "metadata": {
        "colab": {
          "base_uri": "https://localhost:8080/"
        },
        "execution": {
          "iopub.execute_input": "2025-10-25T20:41:19.629676Z",
          "iopub.status.busy": "2025-10-25T20:41:19.629076Z",
          "iopub.status.idle": "2025-10-25T20:41:19.643063Z",
          "shell.execute_reply": "2025-10-25T20:41:19.639654Z",
          "shell.execute_reply.started": "2025-10-25T20:41:19.629639Z"
        },
        "id": "1681e9f7-276c-419e-af51-ae97a14647b1",
        "outputId": "67c75e81-8f3c-4698-bf57-79dc1d1bfad1"
      },
      "outputs": [],
      "source": [
        "# Find dishes similar to \"karaage\"\n",
        "model.wv.most_similar(\"salmon\", topn=5)\n"
      ]
    },
    {
      "cell_type": "code",
      "execution_count": null,
      "id": "3f3fe77c-1e31-4b90-8661-a7f14b0765d3",
      "metadata": {
        "colab": {
          "base_uri": "https://localhost:8080/"
        },
        "execution": {
          "iopub.execute_input": "2025-10-25T20:41:21.388557Z",
          "iopub.status.busy": "2025-10-25T20:41:21.388059Z",
          "iopub.status.idle": "2025-10-25T20:41:21.400751Z",
          "shell.execute_reply": "2025-10-25T20:41:21.398016Z",
          "shell.execute_reply.started": "2025-10-25T20:41:21.388515Z"
        },
        "id": "3f3fe77c-1e31-4b90-8661-a7f14b0765d3",
        "outputId": "7f1c2003-8fdf-4723-893f-43fecc3eea04"
      },
      "outputs": [],
      "source": [
        "# Find dishes similar to \"ramen\"\n",
        "model.wv.most_similar(\"ramen\", topn=5)"
      ]
    },
    {
      "cell_type": "code",
      "execution_count": null,
      "id": "9298c727-7768-4222-9e57-31df608cf2ed",
      "metadata": {
        "colab": {
          "base_uri": "https://localhost:8080/"
        },
        "execution": {
          "iopub.execute_input": "2025-10-25T20:41:22.412071Z",
          "iopub.status.busy": "2025-10-25T20:41:22.411674Z",
          "iopub.status.idle": "2025-10-25T20:41:22.424767Z",
          "shell.execute_reply": "2025-10-25T20:41:22.421905Z",
          "shell.execute_reply.started": "2025-10-25T20:41:22.412037Z"
        },
        "id": "9298c727-7768-4222-9e57-31df608cf2ed",
        "outputId": "9ecb1d93-7a40-4d28-c04f-2c6a1d9711e1"
      },
      "outputs": [],
      "source": [
        "# Find dishes similar to \"pizza\"\n",
        "model.wv.most_similar(\"pizza\", topn=5)"
      ]
    },
    {
      "cell_type": "markdown",
      "id": "31ccd6e8-7cda-4496-aa2e-e7e49b957ce6",
      "metadata": {
        "id": "31ccd6e8-7cda-4496-aa2e-e7e49b957ce6"
      },
      "source": [
        "### 🎨  Word Cloud of Dish Names"
      ]
    },
    {
      "cell_type": "code",
      "execution_count": null,
      "id": "f13c23b9-a7dc-4d50-9dff-0495a2615315",
      "metadata": {
        "colab": {
          "base_uri": "https://localhost:8080/"
        },
        "execution": {
          "iopub.execute_input": "2025-10-25T20:41:33.141425Z",
          "iopub.status.busy": "2025-10-25T20:41:33.141003Z",
          "iopub.status.idle": "2025-10-25T20:41:32.150556Z",
          "shell.execute_reply": "2025-10-25T20:41:32.146815Z",
          "shell.execute_reply.started": "2025-10-25T20:41:33.141387Z"
        },
        "id": "f13c23b9-a7dc-4d50-9dff-0495a2615315",
        "outputId": "76a5fbc5-3cdc-4550-99d2-c26a335bc6c9"
      },
      "outputs": [],
      "source": [
        "pip install wordcloud matplotlib"
      ]
    },
    {
      "cell_type": "code",
      "execution_count": null,
      "id": "3c3742dc-5224-43f1-8481-d2f98eae92cb",
      "metadata": {
        "execution": {
          "iopub.execute_input": "2025-10-25T20:41:32.318842Z",
          "iopub.status.busy": "2025-10-25T20:41:32.318338Z",
          "iopub.status.idle": "2025-10-25T20:41:32.350797Z",
          "shell.execute_reply": "2025-10-25T20:41:32.348452Z",
          "shell.execute_reply.started": "2025-10-25T20:41:32.318793Z"
        },
        "id": "3c3742dc-5224-43f1-8481-d2f98eae92cb"
      },
      "outputs": [],
      "source": [
        "text = \" \".join(full_data['name'].dropna().astype(str).tolist())\n"
      ]
    },
    {
      "cell_type": "code",
      "execution_count": null,
      "id": "377ff8eb-9072-4ba5-8fff-fb0e1bc9f441",
      "metadata": {
        "colab": {
          "base_uri": "https://localhost:8080/",
          "height": 529
        },
        "execution": {
          "iopub.execute_input": "2025-10-25T20:41:35.390775Z",
          "iopub.status.busy": "2025-10-25T20:41:35.390340Z",
          "iopub.status.idle": "2025-10-25T20:41:38.270120Z",
          "shell.execute_reply": "2025-10-25T20:41:38.267066Z",
          "shell.execute_reply.started": "2025-10-25T20:41:35.390742Z"
        },
        "id": "377ff8eb-9072-4ba5-8fff-fb0e1bc9f441",
        "outputId": "a26f821c-dd8b-4c1b-b99a-4dc64c646edb"
      },
      "outputs": [],
      "source": [
        "from wordcloud import WordCloud\n",
        "import matplotlib.pyplot as plt\n",
        "\n",
        "# Create the word cloud\n",
        "wordcloud = WordCloud(width=800, height=400, background_color='black', colormap='Set2').generate(text)\n",
        "\n",
        "# Display it\n",
        "plt.figure(figsize=(12, 6))\n",
        "plt.imshow(wordcloud, interpolation='bilinear')\n",
        "plt.axis('off')\n",
        "plt.title(\"Dish Name Word Cloud\", fontsize=20)\n",
        "plt.show()"
      ]
    },
    {
      "cell_type": "code",
      "execution_count": null,
      "id": "676275b9-7991-41a2-9f6a-c93f178e31fa",
      "metadata": {
        "id": "676275b9-7991-41a2-9f6a-c93f178e31fa"
      },
      "outputs": [],
      "source": []
    },
    {
      "cell_type": "markdown",
      "id": "b3a08b18-7a53-4eb8-a00e-561cad3be198",
      "metadata": {
        "id": "b3a08b18-7a53-4eb8-a00e-561cad3be198"
      },
      "source": [
        "### 👥 Top Customers"
      ]
    },
    {
      "cell_type": "code",
      "execution_count": null,
      "id": "bc05db08-e4b7-4a42-aa1b-ec4676e1ab2d",
      "metadata": {
        "colab": {
          "base_uri": "https://localhost:8080/"
        },
        "execution": {
          "iopub.execute_input": "2025-10-25T20:42:19.252445Z",
          "iopub.status.busy": "2025-10-25T20:42:19.251929Z",
          "iopub.status.idle": "2025-10-25T20:42:19.270281Z",
          "shell.execute_reply": "2025-10-25T20:42:19.266886Z",
          "shell.execute_reply.started": "2025-10-25T20:42:19.252406Z"
        },
        "id": "bc05db08-e4b7-4a42-aa1b-ec4676e1ab2d",
        "outputId": "bb56a88b-fc1b-47fc-fe16-aebbac9cc2bc"
      },
      "outputs": [],
      "source": [
        "top_customers = orders['customer_id'].value_counts().head(10)\n",
        "print(top_customers)\n"
      ]
    },
    {
      "cell_type": "markdown",
      "id": "1db24a35-f08a-4281-9875-4eaa95b554db",
      "metadata": {
        "id": "1db24a35-f08a-4281-9875-4eaa95b554db"
      },
      "source": [
        "### 🗺️ Geohash Distribution"
      ]
    },
    {
      "cell_type": "code",
      "execution_count": null,
      "id": "0dddcf9c-569b-4121-8ae9-484877171c73",
      "metadata": {
        "colab": {
          "base_uri": "https://localhost:8080/",
          "height": 521
        },
        "execution": {
          "iopub.execute_input": "2025-10-25T20:42:23.215841Z",
          "iopub.status.busy": "2025-10-25T20:42:23.215356Z",
          "iopub.status.idle": "2025-10-25T20:42:23.545996Z",
          "shell.execute_reply": "2025-10-25T20:42:23.543239Z",
          "shell.execute_reply.started": "2025-10-25T20:42:23.215805Z"
        },
        "id": "0dddcf9c-569b-4121-8ae9-484877171c73",
        "outputId": "16a36628-4071-45aa-d887-f583e2319906"
      },
      "outputs": [],
      "source": [
        "orders['geohash'].value_counts().head(10).plot(kind='bar', title='Top Geohash Areas')"
      ]
    },
    {
      "cell_type": "code",
      "execution_count": null,
      "id": "4bcf8e45-576a-4a9e-9e76-f2ab794a3d5d",
      "metadata": {
        "id": "4bcf8e45-576a-4a9e-9e76-f2ab794a3d5d"
      },
      "outputs": [],
      "source": [
        "import numpy as np\n",
        "import pandas as pd\n",
        "\n",
        "# Set seed for reproducibility (optional)\n",
        "np.random.seed(42)\n",
        "\n",
        "# Total number of rows\n",
        "n_rows =full_data.shape[0]\n",
        "# Count UNIQUE orders per customer (not rows)\n",
        "order_counts = full_data.groupby('customer_id')['order_id'].nunique()\n",
        "\n",
        "# Map order counts back to original dataframe\n",
        "full_data['order_frequency'] = full_data['customer_id'].map(order_counts)\n",
        "\n",
        "# Define thresholds based on order frequency quartiles\n",
        "high_freq_threshold = full_data['order_frequency'].quantile(0.75)\n",
        "medium_freq_threshold = full_data['order_frequency'].quantile(0.50)\n",
        "\n",
        "\n",
        "# Initialize rating column\n",
        "ratings = np.zeros(n_rows)\n",
        "\n",
        "# Assign ratings based on order frequency\n",
        "for idx in range(n_rows):\n",
        "    order_freq = full_data.iloc[idx, full_data.columns.get_loc('order_frequency')]\n",
        "\n",
        "    if order_freq >= high_freq_threshold:\n",
        "        # Most frequent orders: mostly 5 stars\n",
        "        ratings[idx] = np.random.choice([5, 4, 3], p=[0.85, 0.10, 0.05])\n",
        "\n",
        "    elif order_freq >= medium_freq_threshold:\n",
        "        # Medium frequency: some lower ratings for 1, 2, 3 stars\n",
        "        ratings[idx] = np.random.choice([5, 4, 3, 2, 1], p=[0.30, 0.25, 0.25, 0.15, 0.05])\n",
        "\n",
        "    else:\n",
        "        # Lower frequency: random distribution\n",
        "        ratings[idx] = np.random.randint(1, 6)\n",
        "\n",
        "# Add rating column to dataframe\n",
        "full_data['rating'] = ratings.astype(int)\n"
      ]
    },
    {
      "cell_type": "code",
      "execution_count": null,
      "id": "gLcVRCtBX4gb",
      "metadata": {
        "colab": {
          "base_uri": "https://localhost:8080/",
          "height": 816
        },
        "id": "gLcVRCtBX4gb",
        "outputId": "1928250b-a49e-415f-ffa0-49784b615f20"
      },
      "outputs": [],
      "source": [
        "full_data.head(10)"
      ]
    },
    {
      "cell_type": "markdown",
      "id": "g4NEPv6LkKiz",
      "metadata": {
        "id": "g4NEPv6LkKiz"
      },
      "source": [
        "**vendors rating generation**\n"
      ]
    },
    {
      "cell_type": "code",
      "execution_count": null,
      "id": "FT1CFMMclDlN",
      "metadata": {
        "id": "FT1CFMMclDlN"
      },
      "outputs": [],
      "source": [
        "vendors_table=full_data"
      ]
    },
    {
      "cell_type": "code",
      "execution_count": null,
      "id": "D9j1bfbNX7Tv",
      "metadata": {
        "colab": {
          "base_uri": "https://localhost:8080/",
          "height": 880
        },
        "id": "D9j1bfbNX7Tv",
        "outputId": "0b0828eb-cb29-4f64-893b-eb5480535b59"
      },
      "outputs": [],
      "source": [
        "import numpy as np\n",
        "import pandas as pd\n",
        "\n",
        "# Set seed for reproducibility\n",
        "np.random.seed(42)\n",
        "\n",
        "# Your cuisine mapping\n",
        "global_cuisine_category = {\n",
        "    \"japanese\": \"japanese\", \"ramen\": \"japanese\", \"sushi\": \"japanese\",\n",
        "    \"chinese\": \"chinese\", \"dim sum\": \"chinese\", \"mala xiang guo\": \"chinese\",\n",
        "    \"mala soups\": \"chinese\", \"hokkien mee\": \"chinese\", \"noodles\": \"chinese\", \"tea\": \"chinese\",\n",
        "    \"indian\": \"indian\", \"curry\": \"indian\",\n",
        "    \"thai\": \"thai\",\n",
        "    \"vietnamese\": \"vietnamese\", \"pho\": \"vietnamese\",\n",
        "    \"singaporean\": \"singaporean\", \"chicken rice\": \"singaporean\",\n",
        "    \"ban mian\": \"singaporean\", \"yong tau foo\": \"singaporean\",\n",
        "    \"indonesian\": \"indonesian\", \"ayam penyet\": \"indonesian\",\n",
        "    \"malaysian\": \"malaysian\", \"nasi lemak\": \"malaysian\", \"roti prata\": \"malaysian\",\n",
        "    \"american\": \"american\", \"burgers\": \"american\", \"sandwiches\": \"american\",\n",
        "    \"grill\": \"american\", \"fries\": \"american\", \"fast food\": \"american\",\n",
        "    \"italian\": \"italian\", \"pizza\": \"italian\", \"pasta\": \"italian\",\n",
        "    \"french\": \"french\", \"german\": \"german\", \"spanish\": \"spanish\",\n",
        "    \"mexican\": \"mexican\", \"turkish\": \"turkish\", \"lebanese\": \"lebanese\",\n",
        "    \"rice dishes\": \"asian\", \"fried rice\": \"asian\", \"porridge\": \"asian\",\n",
        "}\n",
        "\n",
        "# Map cuisine to cuisine_origin (assuming you have a cuisine column in your data)\n",
        "# If you already have cuisine_origin in your data, you can skip this step\n",
        "if 'cuisine_origin' not in vendors_table.columns:\n",
        "    # Replace 'cuisine_column_name' with whatever column contains the cuisine info\n",
        "    vendors_table['cuisine_origin'] = vendors_table['primary_cuisine'].str.strip().map(global_cuisine_category)\n",
        "    vendors_table['cuisine_origin'].fillna('snacks', inplace=True)\n",
        "\n",
        "# Step 1: Calculate vendor-level statistics\n",
        "vendor_stats = vendors_table.groupby('vendor_id').agg({\n",
        "    'order_id': 'nunique',          # number of unique orders\n",
        "    'customer_id': 'nunique',       # number of unique customers\n",
        "    'unit_price': 'mean',           # average price\n",
        "    'cuisine_origin': lambda x: x.mode()[0] if len(x) > 0 else 'other'\n",
        "}).reset_index()\n",
        "\n",
        "vendor_stats.columns = ['vendor_id', 'total_orders', 'unique_customers', 'avg_price', 'cuisine_origin']\n",
        "\n",
        "# Step 2: Assign base rating (3.5 to 4.8) based on popularity\n",
        "vendor_stats['base_rating'] = 3.5 + (\n",
        "    0.3 * (vendor_stats['total_orders'] / vendor_stats['total_orders'].max()) +\n",
        "    0.2 * (vendor_stats['unique_customers'] / vendor_stats['unique_customers'].max()) +\n",
        "    0.8 * np.random.random(len(vendor_stats))\n",
        ")\n",
        "\n",
        "vendor_stats['base_rating'] = vendor_stats['base_rating'].clip(upper=4.8)\n",
        "\n",
        "# Step 3: Cuisine-based rating adjustments (Asian market context)\n",
        "cuisine_boost = {\n",
        "    # Premium Asian cuisines (high expectations)\n",
        "    'japanese': 0.25,\n",
        "    'singaporean': 0.20,  # Local favorite\n",
        "    'vietnamese': 0.15,\n",
        "    'thai': 0.15,\n",
        "\n",
        "    # Standard Asian cuisines\n",
        "    'chinese': 0.10,\n",
        "    'malaysian': 0.10,\n",
        "    'indonesian': 0.10,\n",
        "    'asian': 0.05,\n",
        "\n",
        "    # Indian (variable quality perception)\n",
        "    'indian': 0.05,\n",
        "\n",
        "    # Western cuisines (premium in Asian markets)\n",
        "    'italian': 0.20,\n",
        "    'french': 0.25,\n",
        "    'spanish': 0.15,\n",
        "    'mexican': 0.10,\n",
        "\n",
        "    # American (casual dining)\n",
        "    'american': 0.05,\n",
        "\n",
        "    # Middle Eastern\n",
        "    'turkish': 0.10,\n",
        "    'lebanese': 0.10,\n",
        "\n",
        "    # European\n",
        "    'german': 0.10,\n",
        "\n",
        "    # Default\n",
        "    'other': 0.0\n",
        "}\n",
        "\n",
        "vendor_stats['cuisine_adjustment'] = vendor_stats['cuisine_origin'].map(cuisine_boost).fillna(0)\n",
        "vendor_stats['base_rating'] = (vendor_stats['base_rating'] + vendor_stats['cuisine_adjustment']).clip(3.0, 5.0)\n",
        "\n",
        "# Step 4: Assign consistency based on order volume\n",
        "# High volume vendors = more consistent (less variance in ratings)\n",
        "vendor_stats['consistency'] = pd.cut(\n",
        "    vendor_stats['total_orders'],\n",
        "    bins=[0, 20, 100, np.inf],\n",
        "    labels=['low', 'medium', 'high']\n",
        ")\n",
        "\n",
        "# Step 5: Chain vendors get higher consistency\n",
        "if 'chain_id' in vendors_table.columns:\n",
        "    chain_vendors = vendors_table[vendors_table['chain_id'].notna()]['vendor_id'].unique()\n",
        "    vendor_stats.loc[vendor_stats['vendor_id'].isin(chain_vendors), 'consistency'] = 'high'\n",
        "\n",
        "# Step 6: Generate rating function\n",
        "def generate_vendor_rating(base_rating, consistency='medium'):\n",
        "    \"\"\"Generate realistic individual rating\"\"\"\n",
        "    consistency_map = {'high': 0.3, 'medium': 0.5, 'low': 0.8}\n",
        "    std_dev = consistency_map.get(consistency, 0.5)\n",
        "\n",
        "    # Normal distribution around base rating\n",
        "    rating = np.random.normal(base_rating, std_dev)\n",
        "\n",
        "    # Round to nearest 0.5 (half-star system)\n",
        "    rating = np.round(rating * 2) / 2\n",
        "\n",
        "    # Clip to valid range\n",
        "    return np.clip(rating, 1.0, 5.0)\n",
        "\n",
        "# Step 7: Merge vendor stats back to main dataframe\n",
        "vendors_table = vendors_table.merge(\n",
        "    vendor_stats[['vendor_id', 'base_rating', 'consistency']],\n",
        "    on='vendor_id',\n",
        "    how='left'\n",
        ")\n",
        "\n",
        "# Step 8: Generate individual vendor ratings per row\n",
        "vendors_table['vendor_rating'] = vendors_table.apply(\n",
        "    lambda row: generate_vendor_rating(row['base_rating'], row['consistency']),\n",
        "    axis=1\n",
        ")\n",
        "\n",
        "# Step 9: Create final table (removed primary_cuisine)\n",
        "vendors_table = vendors_table[[\n",
        "    'customer_id', 'geohash_x', 'order_id', 'vendor_id', 'product_id',\n",
        "    'day_of_week', 'order_time', 'order_day', 'name', 'unit_price',\n",
        "    'chain_id', 'geohash_y', 'cuisine_origin', 'vendor_rating'\n",
        "]].copy()\n",
        "\n",
        "\n",
        "# Display vendor rating statistics\n",
        "print(\"=\" * 60)\n",
        "print(\"VENDOR RATING STATISTICS BY CUISINE\")\n",
        "print(\"=\" * 60)\n",
        "print(vendors_table.groupby('cuisine_origin')['vendor_rating'].agg(['mean', 'std', 'count']).round(2))\n",
        "print(\"\\n\")\n",
        "print(\"=\" * 60)\n",
        "print(\"TOP 10 VENDORS BY AVERAGE RATING\")\n",
        "print(\"=\" * 60)\n",
        "top_vendors = vendors_table.groupby('vendor_id').agg({\n",
        "    'vendor_rating': 'mean',\n",
        "    'cuisine_origin': 'first',\n",
        "    'order_id': 'nunique'\n",
        "}).sort_values('vendor_rating', ascending=False).head(10)\n",
        "top_vendors.round(2)"
      ]
    },
    {
      "cell_type": "markdown",
      "id": "5HwSfMb6kuon",
      "metadata": {
        "id": "5HwSfMb6kuon"
      },
      "source": [
        "**vendors table with row agregation**\n"
      ]
    },
    {
      "cell_type": "code",
      "execution_count": null,
      "id": "zBZKUfMXkaVp",
      "metadata": {
        "colab": {
          "base_uri": "https://localhost:8080/",
          "height": 521
        },
        "id": "zBZKUfMXkaVp",
        "outputId": "1d3ef9ce-7a20-4ef9-e95e-0479bca45912"
      },
      "outputs": [],
      "source": [
        "# Aggregate data to order level\n",
        "vendors_table = vendors_table.groupby(['customer_id', 'geohash_x', 'order_id', 'vendor_id']).agg({\n",
        "    'day_of_week': 'first',\n",
        "    'order_time': 'first',\n",
        "    'order_day': 'first',\n",
        "    'chain_id': 'first',\n",
        "    'geohash_y': 'first',\n",
        "    'cuisine_origin': 'first',\n",
        "    'vendor_rating': 'mean',  # Average rating across all products in the order\n",
        "    'product_id': 'count',  # Number of items in order\n",
        "    'unit_price': 'sum',  # Total order value\n",
        "    'name': lambda x: ', '.join(x[:3]) + ('...' if len(x) > 3 else '')  # First 3 product names\n",
        "}).reset_index()\n",
        "\n",
        "# Rename columns for clarity\n",
        "vendors_table.rename(columns={\n",
        "    'product_id': 'num_items',\n",
        "    'unit_price': 'total_order_value',\n",
        "    'name': 'items_ordered',\n",
        "    'vendor_rating': 'avg_vendor_rating'\n",
        "}, inplace=True)\n",
        "\n",
        "# Round ratings to 1 decimal\n",
        "vendors_table['avg_vendor_rating'] = vendors_table['avg_vendor_rating'].round(1)\n",
        "\n",
        "print(f\"Original rows: {len(vendors_table)}\")\n",
        "print(f\"Aggregated rows: {len(vendors_table)}\")\n",
        "print(\"\\nSample of aggregated data:\")\n",
        "vendors_table.head()\n"
      ]
    },
    {
      "cell_type": "code",
      "execution_count": null,
      "id": "92a57788",
      "metadata": {},
      "outputs": [],
      "source": [
        "customer_orders = vendors_table[vendors_table['customer_id'] == '008ce71183']\n",
        "customer_orders"
      ]
    },
    {
      "cell_type": "code",
      "execution_count": null,
      "id": "e4b4d013",
      "metadata": {},
      "outputs": [],
      "source": []
    }
  ],
  "metadata": {
    "colab": {
      "provenance": []
    },
    "kernelspec": {
      "display_name": "food-delivery-rec",
      "language": "python",
      "name": "python3"
    },
    "language_info": {
      "codemirror_mode": {
        "name": "ipython",
        "version": 3
      },
      "file_extension": ".py",
      "mimetype": "text/x-python",
      "name": "python",
      "nbconvert_exporter": "python",
      "pygments_lexer": "ipython3",
      "version": "3.10.6"
    }
  },
  "nbformat": 4,
  "nbformat_minor": 5
}
